{
 "cells": [
  {
   "cell_type": "markdown",
   "metadata": {
    "id": "GavgmjDytAsf"
   },
   "source": [
    "# 데이터 로딩"
   ]
  },
  {
   "cell_type": "code",
   "execution_count": 1,
   "metadata": {
    "colab": {
     "base_uri": "https://localhost:8080/"
    },
    "id": "pUWSYQ9FNt_C",
    "outputId": "46237811-4e40-413a-9b28-e21cff94e8b8"
   },
   "outputs": [],
   "source": [
    "#from google.colab import drive\n",
    "#drive.mount('/content/drive')"
   ]
  },
  {
   "cell_type": "code",
   "execution_count": 2,
   "metadata": {},
   "outputs": [],
   "source": [
    "import warnings\n",
    "warnings.filterwarnings(action='ignore')"
   ]
  },
  {
   "cell_type": "code",
   "execution_count": 3,
   "metadata": {},
   "outputs": [],
   "source": [
    "import os\n",
    "os.environ[\"CUDA_DEVICE_ORDER\"]=\"PCI_BUS_ID\"\n",
    "os.environ[\"CUDA_VISIBLE_DEVICES\"]=\"0\""
   ]
  },
  {
   "cell_type": "code",
   "execution_count": 4,
   "metadata": {},
   "outputs": [
    {
     "name": "stderr",
     "output_type": "stream",
     "text": [
      "2021-09-23 21:44:11.285203: I tensorflow/core/platform/cpu_feature_guard.cc:142] This TensorFlow binary is optimized with oneAPI Deep Neural Network Library (oneDNN) to use the following CPU instructions in performance-critical operations:  AVX2 AVX512F FMA\n",
      "To enable them in other operations, rebuild TensorFlow with the appropriate compiler flags.\n"
     ]
    },
    {
     "data": {
      "text/plain": [
       "[name: \"/device:CPU:0\"\n",
       " device_type: \"CPU\"\n",
       " memory_limit: 268435456\n",
       " locality {\n",
       " }\n",
       " incarnation: 903818351649699612,\n",
       " name: \"/device:GPU:0\"\n",
       " device_type: \"GPU\"\n",
       " memory_limit: 23391698944\n",
       " locality {\n",
       "   bus_id: 1\n",
       "   links {\n",
       "   }\n",
       " }\n",
       " incarnation: 3514158023079115885\n",
       " physical_device_desc: \"device: 0, name: GeForce RTX 3090, pci bus id: 0000:67:00.0, compute capability: 8.6\"]"
      ]
     },
     "execution_count": 4,
     "metadata": {},
     "output_type": "execute_result"
    },
    {
     "name": "stderr",
     "output_type": "stream",
     "text": [
      "2021-09-23 21:44:11.834596: I tensorflow/core/common_runtime/gpu/gpu_device.cc:1510] Created device /device:GPU:0 with 22308 MB memory:  -> device: 0, name: GeForce RTX 3090, pci bus id: 0000:67:00.0, compute capability: 8.6\n"
     ]
    }
   ],
   "source": [
    "from tensorflow.python.client import device_lib\n",
    "device_lib.list_local_devices()"
   ]
  },
  {
   "cell_type": "code",
   "execution_count": 5,
   "metadata": {
    "id": "7tpIBpEXNpjm"
   },
   "outputs": [],
   "source": [
    "import numpy as np\n",
    "import pandas as pd\n",
    "import matplotlib.pyplot as plt"
   ]
  },
  {
   "cell_type": "code",
   "execution_count": 6,
   "metadata": {
    "colab": {
     "base_uri": "https://localhost:8080/"
    },
    "id": "EYw7FBvHs5E9",
    "outputId": "cc48b6dd-c461-48e6-f44f-81963c68fa0a",
    "scrolled": false
   },
   "outputs": [
    {
     "name": "stdout",
     "output_type": "stream",
     "text": [
      "[[26575154.39 26559429.85 26577232.39 ... 26563264.35 26578401.78\n",
      "         0.  ]\n",
      " [26582963.93 26557058.42 26559785.6  ... 26572279.   26548192.13\n",
      "         0.  ]\n",
      " [26553861.15 26569689.24 26569843.09 ... 26568090.14 26556285.29\n",
      "         0.  ]\n",
      " ...\n",
      " [26551749.62 26559928.27 26577873.1  ... 26558360.55 26571760.59\n",
      "     50000.  ]\n",
      " [26571114.14 26585314.96 26546662.98 ... 26550233.03 26543977.89\n",
      "     50000.  ]\n",
      " [26577773.84 26581361.52 26550459.41 ... 26561488.89 26544390.67\n",
      "     50000.  ]]\n"
     ]
    }
   ],
   "source": [
    "data = pd.read_csv('210923_total_freq_with_noise_2000point_1092kDa.csv')\n",
    "df1 = data.values[:] # 문자열을 부동소수점형으로 변환한다\n",
    "print(df1)"
   ]
  },
  {
   "cell_type": "markdown",
   "metadata": {
    "id": "tZIY7CbcwW6F"
   },
   "source": [
    "# 데이터 살펴보기"
   ]
  },
  {
   "cell_type": "markdown",
   "metadata": {
    "id": "nfk1doFWnhQn"
   },
   "source": [
    "152개의 속성 값이 있고, -1 또는 1로 레이블링 되어 있다.\n",
    "\n",
    "152개 속성 값은 어떤 센서의 값을 시간을 두고 측정한 것이다."
   ]
  },
  {
   "cell_type": "code",
   "execution_count": 7,
   "metadata": {
    "colab": {
     "base_uri": "https://localhost:8080/"
    },
    "id": "smA15EaF1hmV",
    "outputId": "d90ea451-0543-43bf-d740-795fd1207c63"
   },
   "outputs": [
    {
     "name": "stdout",
     "output_type": "stream",
     "text": [
      "0           0\n",
      "1           0\n",
      "2           0\n",
      "3           0\n",
      "4           0\n",
      "        ...  \n",
      "5495    50000\n",
      "5496    50000\n",
      "5497    50000\n",
      "5498    50000\n",
      "5499    50000\n",
      "Name: target, Length: 5500, dtype: int64\n"
     ]
    }
   ],
   "source": [
    "df2_1 = data[\"target\"]\n",
    "df2 = df2_1[:]\n",
    "print(df2)"
   ]
  },
  {
   "cell_type": "code",
   "execution_count": 8,
   "metadata": {
    "colab": {
     "base_uri": "https://localhost:8080/"
    },
    "id": "ClKB2D7ZpFnL",
    "outputId": "125a2cbe-62b9-44b6-ae4a-98b068fedc2c"
   },
   "outputs": [
    {
     "name": "stdout",
     "output_type": "stream",
     "text": [
      "(array([    0,  5000, 10000, 15000, 20000, 25000, 30000, 35000, 40000,\n",
      "       45000, 50000]), array([500, 500, 500, 500, 500, 500, 500, 500, 500, 500, 500]))\n"
     ]
    }
   ],
   "source": [
    "target_count = np.unique(df2, return_counts=True)\n",
    "print(target_count)"
   ]
  },
  {
   "cell_type": "code",
   "execution_count": 9,
   "metadata": {
    "colab": {
     "base_uri": "https://localhost:8080/"
    },
    "id": "Bu3NHl9_Npjq",
    "outputId": "48d579ad-691c-4d74-d846-ffeea98d9a27"
   },
   "outputs": [
    {
     "name": "stdout",
     "output_type": "stream",
     "text": [
      "(array([    0,  5000, 10000, 15000, 20000, 25000, 30000, 35000, 40000,\n",
      "       45000, 50000]), array([500, 500, 500, 500, 500, 500, 500, 500, 500, 500, 500]))\n"
     ]
    }
   ],
   "source": [
    "target_count = np.unique(df2, return_counts=True)\n",
    "print(target_count)"
   ]
  },
  {
   "cell_type": "markdown",
   "metadata": {
    "id": "ZB0UsHjLsS1I"
   },
   "source": [
    "target값 -1, 1을 category 인덱스 0, 1로 변경"
   ]
  },
  {
   "cell_type": "code",
   "execution_count": 10,
   "metadata": {
    "colab": {
     "base_uri": "https://localhost:8080/"
    },
    "id": "C0nNKyJ4oaxo",
    "outputId": "3b9a1b1c-025e-48ce-8a28-680f9bd5c46d"
   },
   "outputs": [
    {
     "name": "stdout",
     "output_type": "stream",
     "text": [
      "(array([ 0,  1,  2,  3,  4,  5,  6,  7,  8,  9, 10]), array([500, 500, 500, 500, 500, 500, 500, 500, 500, 500, 500]))\n"
     ]
    }
   ],
   "source": [
    "df2 = df2.copy()\n",
    "df2[df2 < 5000] = 0\n",
    "df2[df2 == 5000] = 1\n",
    "df2[df2 == 10000] = 2\n",
    "df2[df2 == 15000] = 3\n",
    "df2[df2 == 20000] = 4\n",
    "df2[df2 == 25000] = 5\n",
    "df2[df2 == 30000] = 6\n",
    "df2[df2 == 35000] = 7\n",
    "df2[df2 == 40000] = 8\n",
    "df2[df2 == 45000] = 9\n",
    "df2[df2 == 50000] = 10\n",
    "\n",
    "target_count = np.unique(df2, return_counts=True)\n",
    "print(target_count)"
   ]
  },
  {
   "cell_type": "markdown",
   "metadata": {
    "id": "PAYLXje8Eq9l"
   },
   "source": [
    "# 문제 정의\n",
    "\n",
    "152개의 순차적인 센서 값을 가지고 분류한다.\n"
   ]
  },
  {
   "cell_type": "markdown",
   "metadata": {
    "id": "piqvWOOgpjHt"
   },
   "source": [
    "# 데이터 준비\n"
   ]
  },
  {
   "cell_type": "markdown",
   "metadata": {
    "id": "GD2kOh0_pmvD"
   },
   "source": [
    "## x, y 쪼개기"
   ]
  },
  {
   "cell_type": "code",
   "execution_count": 11,
   "metadata": {
    "id": "5mB3dKMYpJej"
   },
   "outputs": [],
   "source": [
    "x, y = df1[:,:-1], df2[:]"
   ]
  },
  {
   "cell_type": "code",
   "execution_count": 12,
   "metadata": {
    "colab": {
     "base_uri": "https://localhost:8080/"
    },
    "id": "UWtHOkIvpJlZ",
    "outputId": "98f0ae6c-f761-44e5-9435-bd9756ecdeb7"
   },
   "outputs": [
    {
     "name": "stdout",
     "output_type": "stream",
     "text": [
      "(5500, 4000)\n",
      "(5500,)\n"
     ]
    }
   ],
   "source": [
    "print(x.shape)\n",
    "print(y.shape)"
   ]
  },
  {
   "cell_type": "code",
   "execution_count": 13,
   "metadata": {
    "colab": {
     "base_uri": "https://localhost:8080/"
    },
    "id": "4WVNNZy3Npjt",
    "outputId": "7bb9910c-34c7-4da9-be72-1c5a150de0f2"
   },
   "outputs": [
    {
     "data": {
      "text/plain": [
       "0        0\n",
       "1        0\n",
       "2        0\n",
       "3        0\n",
       "4        0\n",
       "        ..\n",
       "5495    10\n",
       "5496    10\n",
       "5497    10\n",
       "5498    10\n",
       "5499    10\n",
       "Name: target, Length: 5500, dtype: int64"
      ]
     },
     "execution_count": 13,
     "metadata": {},
     "output_type": "execute_result"
    }
   ],
   "source": [
    "y"
   ]
  },
  {
   "cell_type": "markdown",
   "metadata": {
    "id": "DYJfroxKpoOc"
   },
   "source": [
    "## normalization"
   ]
  },
  {
   "cell_type": "code",
   "execution_count": 14,
   "metadata": {
    "colab": {
     "base_uri": "https://localhost:8080/"
    },
    "id": "0edILhqfpJrT",
    "outputId": "e1b6e56a-056f-4f40-d925-5a22fa02ca79"
   },
   "outputs": [
    {
     "name": "stdout",
     "output_type": "stream",
     "text": [
      "26469655.36 26647767.36\n",
      "0.0 1.0\n"
     ]
    }
   ],
   "source": [
    "min = np.min(x)\n",
    "max = np.max(x)\n",
    "print(min, max)\n",
    "\n",
    "x = (x-min) / (max-min)\n",
    "\n",
    "min = np.min(x)\n",
    "max = np.max(x)\n",
    "print(min, max)\n"
   ]
  },
  {
   "cell_type": "code",
   "execution_count": 15,
   "metadata": {
    "id": "CA_Fs7IhrKhv"
   },
   "outputs": [],
   "source": [
    "x = np.expand_dims(x, -1)"
   ]
  },
  {
   "cell_type": "markdown",
   "metadata": {
    "id": "YUNV4PRWp-jO"
   },
   "source": [
    "## 섞고"
   ]
  },
  {
   "cell_type": "code",
   "execution_count": 16,
   "metadata": {
    "id": "rK0FR9OOpJxL"
   },
   "outputs": [],
   "source": [
    "shuffled_index = np.random.permutation(len(x))\n",
    "x = x[shuffled_index]\n",
    "y = y.iloc[shuffled_index]\n",
    "x, y = np.array(x), np.array(y)"
   ]
  },
  {
   "cell_type": "markdown",
   "metadata": {
    "id": "RbjrYGVMqAF3"
   },
   "source": [
    "## train, test 쪼개기"
   ]
  },
  {
   "cell_type": "code",
   "execution_count": 17,
   "metadata": {
    "id": "TfPpY9jPpJz4"
   },
   "outputs": [],
   "source": [
    "#split_index = int( len(x) * 0.8 )\n",
    "#train_x, test_x = np.array(x[:split_index]), np.array(x[split_index:])\n",
    "#train_y, test_y = np.array(y[:split_index]), np.array(y[split_index:])"
   ]
  },
  {
   "cell_type": "code",
   "execution_count": 18,
   "metadata": {
    "id": "BfNSU7FdpJub"
   },
   "outputs": [],
   "source": [
    "#train_x[1].shape"
   ]
  },
  {
   "cell_type": "code",
   "execution_count": 19,
   "metadata": {
    "id": "gsqd1yWWNpju"
   },
   "outputs": [],
   "source": [
    "#train_x[1]"
   ]
  },
  {
   "cell_type": "markdown",
   "metadata": {
    "id": "3Oynfz6SqZzx"
   },
   "source": [
    "# 모델 정의"
   ]
  },
  {
   "cell_type": "code",
   "execution_count": 20,
   "metadata": {
    "id": "p0JtVB5ApJoc"
   },
   "outputs": [],
   "source": [
    "import tensorflow as tf\n",
    "from sklearn.model_selection import KFold \n",
    "from tensorflow import keras\n",
    "from tensorflow.keras import optimizers\n",
    "from tensorflow.keras.layers import Dense, Conv1D, Flatten\n",
    "from sklearn.model_selection import cross_val_score \n",
    "from sklearn.model_selection import StratifiedKFold"
   ]
  },
  {
   "cell_type": "code",
   "execution_count": 21,
   "metadata": {
    "colab": {
     "base_uri": "https://localhost:8080/",
     "height": 1000
    },
    "id": "8FTlEW4umicO",
    "outputId": "288b35af-b541-464b-9b2c-2f1ca72bc264"
   },
   "outputs": [],
   "source": [
    "from tensorflow.keras.models import Sequential\n",
    "from tensorflow.keras.layers import Dense\n",
    "#from tensorflow.keras.utils import np_utils\n",
    "import pandas as pd\n",
    "import matplotlib.pyplot as plt\n",
    "from sklearn.metrics import confusion_matrix\n",
    "import seaborn as sns\n",
    "from sklearn.metrics import precision_score, recall_score, f1_score, roc_curve\n",
    "from sklearn.metrics import classification_report\n",
    "from sklearn.model_selection import StratifiedKFold"
   ]
  },
  {
   "cell_type": "code",
   "execution_count": 22,
   "metadata": {
    "colab": {
     "base_uri": "https://localhost:8080/",
     "height": 1000
    },
    "id": "8FTlEW4umicO",
    "outputId": "288b35af-b541-464b-9b2c-2f1ca72bc264",
    "scrolled": false
   },
   "outputs": [
    {
     "name": "stderr",
     "output_type": "stream",
     "text": [
      "2021-09-23 21:44:15.996720: I tensorflow/core/common_runtime/gpu/gpu_device.cc:1510] Created device /job:localhost/replica:0/task:0/device:GPU:0 with 22308 MB memory:  -> device: 0, name: GeForce RTX 3090, pci bus id: 0000:67:00.0, compute capability: 8.6\n",
      "2021-09-23 21:44:16.524912: I tensorflow/compiler/mlir/mlir_graph_optimization_pass.cc:185] None of the MLIR Optimization Passes are enabled (registered 2)\n"
     ]
    },
    {
     "name": "stdout",
     "output_type": "stream",
     "text": [
      "Epoch 1/100\n"
     ]
    },
    {
     "name": "stderr",
     "output_type": "stream",
     "text": [
      "2021-09-23 21:44:17.535327: I tensorflow/stream_executor/cuda/cuda_dnn.cc:369] Loaded cuDNN version 8201\n",
      "2021-09-23 21:44:19.217333: I tensorflow/stream_executor/cuda/cuda_blas.cc:1760] TensorFloat-32 will be used for the matrix multiplication. This will only be logged once.\n"
     ]
    },
    {
     "name": "stdout",
     "output_type": "stream",
     "text": [
      "8/8 [==============================] - 5s 190ms/step - loss: 2.4057 - accuracy: 0.0944 - val_loss: 2.3989 - val_accuracy: 0.0864\n",
      "Epoch 2/100\n",
      "8/8 [==============================] - 1s 82ms/step - loss: 2.3977 - accuracy: 0.0955 - val_loss: 2.3979 - val_accuracy: 0.0818\n",
      "Epoch 3/100\n",
      "8/8 [==============================] - 1s 81ms/step - loss: 2.3982 - accuracy: 0.0914 - val_loss: 2.3990 - val_accuracy: 0.1023\n",
      "Epoch 4/100\n",
      "8/8 [==============================] - 1s 81ms/step - loss: 2.3978 - accuracy: 0.0962 - val_loss: 2.3981 - val_accuracy: 0.0818\n",
      "Epoch 5/100\n",
      "8/8 [==============================] - 1s 82ms/step - loss: 2.3979 - accuracy: 0.0919 - val_loss: 2.3982 - val_accuracy: 0.0818\n",
      "Epoch 6/100\n",
      "8/8 [==============================] - 1s 83ms/step - loss: 2.3979 - accuracy: 0.0919 - val_loss: 2.3982 - val_accuracy: 0.0795\n",
      "Epoch 7/100\n",
      "8/8 [==============================] - 1s 82ms/step - loss: 2.3980 - accuracy: 0.0881 - val_loss: 2.3985 - val_accuracy: 0.1023\n",
      "Epoch 8/100\n",
      "8/8 [==============================] - 1s 81ms/step - loss: 2.3979 - accuracy: 0.0967 - val_loss: 2.3983 - val_accuracy: 0.0818\n",
      "Epoch 9/100\n",
      "8/8 [==============================] - 1s 83ms/step - loss: 2.3979 - accuracy: 0.0919 - val_loss: 2.3984 - val_accuracy: 0.0818\n",
      "Epoch 10/100\n",
      "8/8 [==============================] - 1s 82ms/step - loss: 2.3979 - accuracy: 0.0919 - val_loss: 2.3985 - val_accuracy: 0.0818\n",
      "Epoch 11/100\n",
      "8/8 [==============================] - 1s 81ms/step - loss: 2.3979 - accuracy: 0.0919 - val_loss: 2.3985 - val_accuracy: 0.0818\n",
      "Epoch 12/100\n",
      "8/8 [==============================] - 1s 84ms/step - loss: 2.3979 - accuracy: 0.0919 - val_loss: 2.3986 - val_accuracy: 0.0818\n",
      "Epoch 13/100\n",
      "8/8 [==============================] - 1s 82ms/step - loss: 2.3979 - accuracy: 0.0919 - val_loss: 2.3987 - val_accuracy: 0.0818\n",
      "Epoch 14/100\n",
      "8/8 [==============================] - 1s 84ms/step - loss: 2.3979 - accuracy: 0.0919 - val_loss: 2.3987 - val_accuracy: 0.0818\n",
      "Epoch 15/100\n",
      "8/8 [==============================] - 1s 81ms/step - loss: 2.3979 - accuracy: 0.0919 - val_loss: 2.3988 - val_accuracy: 0.0818\n",
      "Epoch 16/100\n",
      "8/8 [==============================] - 1s 80ms/step - loss: 2.3978 - accuracy: 0.0919 - val_loss: 2.3988 - val_accuracy: 0.0818\n",
      "Epoch 17/100\n",
      "8/8 [==============================] - 1s 83ms/step - loss: 2.3978 - accuracy: 0.0919 - val_loss: 2.3988 - val_accuracy: 0.0818\n",
      "Epoch 18/100\n",
      "8/8 [==============================] - 1s 81ms/step - loss: 2.3978 - accuracy: 0.0919 - val_loss: 2.3989 - val_accuracy: 0.0818\n",
      "Epoch 19/100\n",
      "8/8 [==============================] - 1s 80ms/step - loss: 2.3978 - accuracy: 0.0914 - val_loss: 2.3989 - val_accuracy: 0.0773\n",
      "Epoch 20/100\n",
      "8/8 [==============================] - 1s 82ms/step - loss: 2.3978 - accuracy: 0.0924 - val_loss: 2.3990 - val_accuracy: 0.0773\n",
      "Epoch 21/100\n",
      "8/8 [==============================] - 1s 82ms/step - loss: 2.3978 - accuracy: 0.0924 - val_loss: 2.3990 - val_accuracy: 0.0773\n",
      "Epoch 22/100\n",
      "8/8 [==============================] - 1s 80ms/step - loss: 2.3978 - accuracy: 0.0924 - val_loss: 2.3991 - val_accuracy: 0.0773\n",
      "Epoch 23/100\n",
      "8/8 [==============================] - 1s 82ms/step - loss: 2.3978 - accuracy: 0.0924 - val_loss: 2.3991 - val_accuracy: 0.0773\n",
      "Epoch 24/100\n",
      "8/8 [==============================] - 1s 81ms/step - loss: 2.3978 - accuracy: 0.0924 - val_loss: 2.3991 - val_accuracy: 0.0773\n",
      "Epoch 25/100\n",
      "8/8 [==============================] - 1s 81ms/step - loss: 2.3978 - accuracy: 0.0924 - val_loss: 2.3991 - val_accuracy: 0.0773\n",
      "Epoch 26/100\n",
      "8/8 [==============================] - 1s 80ms/step - loss: 2.3978 - accuracy: 0.0924 - val_loss: 2.3991 - val_accuracy: 0.0773\n",
      "Epoch 27/100\n",
      "8/8 [==============================] - 1s 82ms/step - loss: 2.3978 - accuracy: 0.0854 - val_loss: 2.3991 - val_accuracy: 0.0795\n",
      "Epoch 28/100\n",
      "8/8 [==============================] - 1s 80ms/step - loss: 2.3978 - accuracy: 0.0899 - val_loss: 2.3991 - val_accuracy: 0.0773\n",
      "Epoch 29/100\n",
      "8/8 [==============================] - 1s 83ms/step - loss: 2.3978 - accuracy: 0.0924 - val_loss: 2.3992 - val_accuracy: 0.0773\n",
      "Epoch 30/100\n",
      "8/8 [==============================] - 1s 83ms/step - loss: 2.3978 - accuracy: 0.0869 - val_loss: 2.3992 - val_accuracy: 0.0795\n",
      "Epoch 31/100\n",
      "8/8 [==============================] - 1s 80ms/step - loss: 2.3978 - accuracy: 0.0922 - val_loss: 2.3992 - val_accuracy: 0.0773\n",
      "Epoch 32/100\n",
      "8/8 [==============================] - 1s 80ms/step - loss: 2.3978 - accuracy: 0.0856 - val_loss: 2.3993 - val_accuracy: 0.0795\n",
      "Epoch 33/100\n",
      "8/8 [==============================] - 1s 81ms/step - loss: 2.3978 - accuracy: 0.0866 - val_loss: 2.3993 - val_accuracy: 0.0818\n",
      "Epoch 34/100\n",
      "8/8 [==============================] - 1s 81ms/step - loss: 2.3978 - accuracy: 0.0919 - val_loss: 2.3993 - val_accuracy: 0.0818\n",
      "Epoch 35/100\n",
      "8/8 [==============================] - 1s 82ms/step - loss: 2.3978 - accuracy: 0.0876 - val_loss: 2.3993 - val_accuracy: 0.0795\n",
      "Epoch 36/100\n",
      "8/8 [==============================] - 1s 81ms/step - loss: 2.3978 - accuracy: 0.0836 - val_loss: 2.3993 - val_accuracy: 0.0773\n",
      "Epoch 37/100\n",
      "8/8 [==============================] - 1s 82ms/step - loss: 2.3978 - accuracy: 0.0919 - val_loss: 2.3993 - val_accuracy: 0.0795\n",
      "Epoch 38/100\n",
      "8/8 [==============================] - 1s 82ms/step - loss: 2.3978 - accuracy: 0.0922 - val_loss: 2.3993 - val_accuracy: 0.0795\n",
      "Epoch 39/100\n",
      "8/8 [==============================] - 1s 83ms/step - loss: 2.3978 - accuracy: 0.0922 - val_loss: 2.3993 - val_accuracy: 0.0795\n",
      "Epoch 40/100\n",
      "8/8 [==============================] - 1s 82ms/step - loss: 2.3978 - accuracy: 0.0922 - val_loss: 2.3994 - val_accuracy: 0.0795\n",
      "Epoch 41/100\n",
      "8/8 [==============================] - 1s 84ms/step - loss: 2.3978 - accuracy: 0.0922 - val_loss: 2.3993 - val_accuracy: 0.0795\n",
      "Epoch 42/100\n",
      "8/8 [==============================] - 1s 84ms/step - loss: 2.3978 - accuracy: 0.0922 - val_loss: 2.3993 - val_accuracy: 0.0795\n",
      "Epoch 43/100\n",
      "8/8 [==============================] - 1s 80ms/step - loss: 2.3978 - accuracy: 0.0922 - val_loss: 2.3994 - val_accuracy: 0.0795\n",
      "Epoch 44/100\n",
      "8/8 [==============================] - 1s 85ms/step - loss: 2.3978 - accuracy: 0.0922 - val_loss: 2.3994 - val_accuracy: 0.0795\n",
      "Epoch 45/100\n",
      "8/8 [==============================] - 1s 81ms/step - loss: 2.3978 - accuracy: 0.0922 - val_loss: 2.3994 - val_accuracy: 0.0795\n",
      "Epoch 46/100\n",
      "8/8 [==============================] - 1s 82ms/step - loss: 2.3978 - accuracy: 0.0922 - val_loss: 2.3994 - val_accuracy: 0.0795\n",
      "Epoch 47/100\n",
      "8/8 [==============================] - 1s 80ms/step - loss: 2.3978 - accuracy: 0.0922 - val_loss: 2.3994 - val_accuracy: 0.0795\n",
      "Epoch 48/100\n",
      "8/8 [==============================] - 1s 82ms/step - loss: 2.3978 - accuracy: 0.0922 - val_loss: 2.3994 - val_accuracy: 0.0795\n",
      "Epoch 49/100\n",
      "8/8 [==============================] - 1s 81ms/step - loss: 2.3978 - accuracy: 0.0922 - val_loss: 2.3994 - val_accuracy: 0.0795\n",
      "Epoch 50/100\n",
      "8/8 [==============================] - 1s 84ms/step - loss: 2.3978 - accuracy: 0.0922 - val_loss: 2.3994 - val_accuracy: 0.0795\n",
      "Epoch 51/100\n",
      "8/8 [==============================] - 1s 82ms/step - loss: 2.3978 - accuracy: 0.0922 - val_loss: 2.3994 - val_accuracy: 0.0795\n",
      "Epoch 52/100\n",
      "8/8 [==============================] - 1s 80ms/step - loss: 2.3978 - accuracy: 0.0922 - val_loss: 2.3995 - val_accuracy: 0.0795\n",
      "Epoch 53/100\n",
      "8/8 [==============================] - 1s 84ms/step - loss: 2.3978 - accuracy: 0.0922 - val_loss: 2.3994 - val_accuracy: 0.0795\n",
      "Epoch 54/100\n",
      "8/8 [==============================] - 1s 80ms/step - loss: 2.3978 - accuracy: 0.0922 - val_loss: 2.3994 - val_accuracy: 0.0795\n",
      "Epoch 55/100\n",
      "8/8 [==============================] - 1s 81ms/step - loss: 2.3978 - accuracy: 0.0922 - val_loss: 2.3994 - val_accuracy: 0.0795\n",
      "Epoch 56/100\n",
      "8/8 [==============================] - 1s 81ms/step - loss: 2.3978 - accuracy: 0.0884 - val_loss: 2.3994 - val_accuracy: 0.0773\n",
      "Epoch 57/100\n",
      "8/8 [==============================] - 1s 83ms/step - loss: 2.3978 - accuracy: 0.0924 - val_loss: 2.3994 - val_accuracy: 0.0773\n",
      "Epoch 58/100\n",
      "8/8 [==============================] - 1s 81ms/step - loss: 2.3978 - accuracy: 0.0924 - val_loss: 2.3994 - val_accuracy: 0.0773\n",
      "Epoch 59/100\n",
      "8/8 [==============================] - 1s 80ms/step - loss: 2.3978 - accuracy: 0.0924 - val_loss: 2.3995 - val_accuracy: 0.0773\n",
      "Epoch 60/100\n",
      "8/8 [==============================] - 1s 82ms/step - loss: 2.3978 - accuracy: 0.0924 - val_loss: 2.3995 - val_accuracy: 0.0773\n",
      "Epoch 61/100\n",
      "8/8 [==============================] - 1s 83ms/step - loss: 2.3978 - accuracy: 0.0924 - val_loss: 2.3994 - val_accuracy: 0.0773\n",
      "Epoch 62/100\n",
      "8/8 [==============================] - 1s 81ms/step - loss: 2.3978 - accuracy: 0.0924 - val_loss: 2.3995 - val_accuracy: 0.0773\n",
      "Epoch 63/100\n",
      "8/8 [==============================] - 1s 80ms/step - loss: 2.3978 - accuracy: 0.0924 - val_loss: 2.3995 - val_accuracy: 0.0773\n",
      "Epoch 64/100\n",
      "8/8 [==============================] - 1s 82ms/step - loss: 2.3978 - accuracy: 0.0924 - val_loss: 2.3995 - val_accuracy: 0.0773\n",
      "Epoch 65/100\n",
      "8/8 [==============================] - 1s 83ms/step - loss: 2.3978 - accuracy: 0.0924 - val_loss: 2.3995 - val_accuracy: 0.0773\n",
      "Epoch 66/100\n",
      "8/8 [==============================] - 1s 83ms/step - loss: 2.3978 - accuracy: 0.0924 - val_loss: 2.3995 - val_accuracy: 0.0773\n",
      "Epoch 67/100\n",
      "8/8 [==============================] - 1s 82ms/step - loss: 2.3978 - accuracy: 0.0924 - val_loss: 2.3995 - val_accuracy: 0.0773\n",
      "Epoch 68/100\n",
      "8/8 [==============================] - 1s 83ms/step - loss: 2.3978 - accuracy: 0.0924 - val_loss: 2.3995 - val_accuracy: 0.0773\n",
      "Epoch 69/100\n",
      "8/8 [==============================] - 1s 82ms/step - loss: 2.3978 - accuracy: 0.0924 - val_loss: 2.3995 - val_accuracy: 0.0773\n",
      "Epoch 70/100\n",
      "8/8 [==============================] - 1s 81ms/step - loss: 2.3978 - accuracy: 0.0924 - val_loss: 2.3995 - val_accuracy: 0.0773\n",
      "Epoch 71/100\n",
      "8/8 [==============================] - 1s 81ms/step - loss: 2.3978 - accuracy: 0.0924 - val_loss: 2.3995 - val_accuracy: 0.0773\n",
      "Epoch 72/100\n",
      "8/8 [==============================] - 1s 80ms/step - loss: 2.3978 - accuracy: 0.0924 - val_loss: 2.3995 - val_accuracy: 0.0773\n",
      "Epoch 73/100\n",
      "8/8 [==============================] - 1s 82ms/step - loss: 2.3978 - accuracy: 0.0924 - val_loss: 2.3995 - val_accuracy: 0.0773\n",
      "Epoch 74/100\n",
      "8/8 [==============================] - 1s 81ms/step - loss: 2.3978 - accuracy: 0.0924 - val_loss: 2.3995 - val_accuracy: 0.0773\n",
      "Epoch 75/100\n",
      "8/8 [==============================] - 1s 81ms/step - loss: 2.3978 - accuracy: 0.0924 - val_loss: 2.3995 - val_accuracy: 0.0773\n",
      "Epoch 76/100\n",
      "8/8 [==============================] - 1s 81ms/step - loss: 2.3978 - accuracy: 0.0924 - val_loss: 2.3995 - val_accuracy: 0.0773\n",
      "Epoch 77/100\n",
      "8/8 [==============================] - 1s 82ms/step - loss: 2.3978 - accuracy: 0.0924 - val_loss: 2.3995 - val_accuracy: 0.0773\n",
      "Epoch 78/100\n",
      "8/8 [==============================] - 1s 80ms/step - loss: 2.3978 - accuracy: 0.0924 - val_loss: 2.3995 - val_accuracy: 0.0773\n",
      "Epoch 79/100\n",
      "8/8 [==============================] - 1s 82ms/step - loss: 2.3978 - accuracy: 0.0924 - val_loss: 2.3995 - val_accuracy: 0.0773\n",
      "Epoch 80/100\n",
      "8/8 [==============================] - 1s 82ms/step - loss: 2.3978 - accuracy: 0.0924 - val_loss: 2.3995 - val_accuracy: 0.0773\n",
      "Epoch 81/100\n",
      "8/8 [==============================] - 1s 83ms/step - loss: 2.3978 - accuracy: 0.0924 - val_loss: 2.3995 - val_accuracy: 0.0773\n",
      "Epoch 82/100\n",
      "8/8 [==============================] - 1s 82ms/step - loss: 2.3978 - accuracy: 0.0924 - val_loss: 2.3995 - val_accuracy: 0.0773\n",
      "Epoch 83/100\n",
      "8/8 [==============================] - 1s 81ms/step - loss: 2.3978 - accuracy: 0.0924 - val_loss: 2.3995 - val_accuracy: 0.0773\n",
      "Epoch 84/100\n",
      "8/8 [==============================] - 1s 81ms/step - loss: 2.3978 - accuracy: 0.0924 - val_loss: 2.3995 - val_accuracy: 0.0773\n",
      "Epoch 85/100\n",
      "8/8 [==============================] - 1s 81ms/step - loss: 2.3978 - accuracy: 0.0924 - val_loss: 2.3995 - val_accuracy: 0.0773\n",
      "Epoch 86/100\n",
      "8/8 [==============================] - 1s 80ms/step - loss: 2.3978 - accuracy: 0.0924 - val_loss: 2.3995 - val_accuracy: 0.0773\n",
      "Epoch 87/100\n",
      "8/8 [==============================] - 1s 83ms/step - loss: 2.3978 - accuracy: 0.0924 - val_loss: 2.3995 - val_accuracy: 0.0773\n",
      "Epoch 88/100\n",
      "8/8 [==============================] - 1s 80ms/step - loss: 2.3978 - accuracy: 0.0924 - val_loss: 2.3995 - val_accuracy: 0.0773\n",
      "Epoch 89/100\n",
      "8/8 [==============================] - 1s 83ms/step - loss: 2.3978 - accuracy: 0.0924 - val_loss: 2.3995 - val_accuracy: 0.0773\n",
      "Epoch 90/100\n",
      "8/8 [==============================] - 1s 80ms/step - loss: 2.3978 - accuracy: 0.0924 - val_loss: 2.3995 - val_accuracy: 0.0773\n",
      "Epoch 91/100\n",
      "8/8 [==============================] - 1s 84ms/step - loss: 2.3978 - accuracy: 0.0924 - val_loss: 2.3995 - val_accuracy: 0.0773\n",
      "Epoch 92/100\n",
      "8/8 [==============================] - 1s 81ms/step - loss: 2.3978 - accuracy: 0.0924 - val_loss: 2.3995 - val_accuracy: 0.0773\n",
      "Epoch 93/100\n",
      "8/8 [==============================] - 1s 80ms/step - loss: 2.3978 - accuracy: 0.0924 - val_loss: 2.3995 - val_accuracy: 0.0773\n",
      "Epoch 94/100\n",
      "8/8 [==============================] - 1s 82ms/step - loss: 2.3978 - accuracy: 0.0924 - val_loss: 2.3995 - val_accuracy: 0.0773\n",
      "Epoch 95/100\n",
      "8/8 [==============================] - 1s 82ms/step - loss: 2.3978 - accuracy: 0.0924 - val_loss: 2.3995 - val_accuracy: 0.0773\n",
      "Epoch 96/100\n",
      "8/8 [==============================] - 1s 83ms/step - loss: 2.3978 - accuracy: 0.0924 - val_loss: 2.3995 - val_accuracy: 0.0773\n",
      "Epoch 97/100\n",
      "8/8 [==============================] - 1s 83ms/step - loss: 2.3978 - accuracy: 0.0924 - val_loss: 2.3995 - val_accuracy: 0.0773\n",
      "Epoch 98/100\n",
      "8/8 [==============================] - 1s 80ms/step - loss: 2.3978 - accuracy: 0.0924 - val_loss: 2.3995 - val_accuracy: 0.0773\n",
      "Epoch 99/100\n",
      "8/8 [==============================] - 1s 81ms/step - loss: 2.3978 - accuracy: 0.0924 - val_loss: 2.3996 - val_accuracy: 0.0773\n",
      "Epoch 100/100\n",
      "8/8 [==============================] - 1s 81ms/step - loss: 2.3978 - accuracy: 0.0924 - val_loss: 2.3995 - val_accuracy: 0.0773\n",
      "35/35 [==============================] - 0s 7ms/step - loss: 2.3980 - accuracy: 0.0909\n"
     ]
    },
    {
     "data": {
      "image/png": "[encoded data removed]",
      "text/plain": [
       "<Figure size 504x432 with 2 Axes>"
      ]
     },
     "metadata": {
      "needs_background": "light"
     },
     "output_type": "display_data"
    },
    {
     "name": "stdout",
     "output_type": "stream",
     "text": [
      "Precision:0.00826\n",
      "Recall:0.0909\n",
      "F1_score:0.0152\n",
      "              precision    recall  f1-score   support\n",
      "\n",
      "           0       0.00      0.00      0.00       100\n",
      "           1       0.00      0.00      0.00       100\n",
      "           2       0.00      0.00      0.00       100\n",
      "           3       0.00      0.00      0.00       100\n",
      "           4       0.00      0.00      0.00       100\n",
      "           5       0.00      0.00      0.00       100\n",
      "           6       0.00      0.00      0.00       100\n",
      "           7       0.00      0.00      0.00       100\n",
      "           8       0.09      1.00      0.17       100\n",
      "           9       0.00      0.00      0.00       100\n",
      "          10       0.00      0.00      0.00       100\n",
      "\n",
      "    accuracy                           0.09      1100\n",
      "   macro avg       0.01      0.09      0.02      1100\n",
      "weighted avg       0.01      0.09      0.02      1100\n",
      "\n",
      "Epoch 1/100\n",
      "8/8 [==============================] - 1s 100ms/step - loss: 2.3990 - accuracy: 0.0891 - val_loss: 2.3981 - val_accuracy: 0.0773\n",
      "Epoch 2/100\n",
      "8/8 [==============================] - 1s 81ms/step - loss: 2.3979 - accuracy: 0.0924 - val_loss: 2.3981 - val_accuracy: 0.0773\n",
      "Epoch 3/100\n",
      "8/8 [==============================] - 1s 82ms/step - loss: 2.3979 - accuracy: 0.0924 - val_loss: 2.3983 - val_accuracy: 0.0773\n",
      "Epoch 4/100\n",
      "8/8 [==============================] - 1s 81ms/step - loss: 2.3979 - accuracy: 0.0924 - val_loss: 2.3984 - val_accuracy: 0.0773\n",
      "Epoch 5/100\n",
      "8/8 [==============================] - 1s 81ms/step - loss: 2.3979 - accuracy: 0.0924 - val_loss: 2.3985 - val_accuracy: 0.0773\n",
      "Epoch 6/100\n",
      "8/8 [==============================] - 1s 83ms/step - loss: 2.3979 - accuracy: 0.0924 - val_loss: 2.3986 - val_accuracy: 0.0773\n",
      "Epoch 7/100\n",
      "8/8 [==============================] - 1s 82ms/step - loss: 2.3979 - accuracy: 0.0924 - val_loss: 2.3987 - val_accuracy: 0.0773\n",
      "Epoch 8/100\n",
      "8/8 [==============================] - 1s 83ms/step - loss: 2.3979 - accuracy: 0.0881 - val_loss: 2.3988 - val_accuracy: 0.0705\n",
      "Epoch 9/100\n",
      "8/8 [==============================] - 1s 82ms/step - loss: 2.3978 - accuracy: 0.0899 - val_loss: 2.3988 - val_accuracy: 0.0773\n",
      "Epoch 10/100\n",
      "8/8 [==============================] - 1s 83ms/step - loss: 2.3978 - accuracy: 0.0909 - val_loss: 2.3989 - val_accuracy: 0.0705\n",
      "Epoch 11/100\n",
      "8/8 [==============================] - 1s 83ms/step - loss: 2.3978 - accuracy: 0.0932 - val_loss: 2.3989 - val_accuracy: 0.0705\n",
      "Epoch 12/100\n",
      "8/8 [==============================] - 1s 84ms/step - loss: 2.3978 - accuracy: 0.0932 - val_loss: 2.3990 - val_accuracy: 0.0705\n",
      "Epoch 13/100\n",
      "8/8 [==============================] - 1s 82ms/step - loss: 2.3978 - accuracy: 0.0932 - val_loss: 2.3990 - val_accuracy: 0.0705\n",
      "Epoch 14/100\n",
      "8/8 [==============================] - 1s 81ms/step - loss: 2.3978 - accuracy: 0.0932 - val_loss: 2.3991 - val_accuracy: 0.0705\n",
      "Epoch 15/100\n",
      "8/8 [==============================] - 1s 82ms/step - loss: 2.3978 - accuracy: 0.0932 - val_loss: 2.3991 - val_accuracy: 0.0705\n",
      "Epoch 16/100\n",
      "8/8 [==============================] - 1s 83ms/step - loss: 2.3978 - accuracy: 0.0932 - val_loss: 2.3992 - val_accuracy: 0.0705\n",
      "Epoch 17/100\n",
      "8/8 [==============================] - 1s 84ms/step - loss: 2.3978 - accuracy: 0.0932 - val_loss: 2.3992 - val_accuracy: 0.0705\n",
      "Epoch 18/100\n",
      "8/8 [==============================] - 1s 81ms/step - loss: 2.3978 - accuracy: 0.0932 - val_loss: 2.3993 - val_accuracy: 0.0705\n",
      "Epoch 19/100\n",
      "8/8 [==============================] - 1s 82ms/step - loss: 2.3978 - accuracy: 0.0932 - val_loss: 2.3993 - val_accuracy: 0.0705\n",
      "Epoch 20/100\n",
      "8/8 [==============================] - 1s 81ms/step - loss: 2.3978 - accuracy: 0.0932 - val_loss: 2.3993 - val_accuracy: 0.0705\n",
      "Epoch 21/100\n",
      "8/8 [==============================] - 1s 82ms/step - loss: 2.3978 - accuracy: 0.0932 - val_loss: 2.3993 - val_accuracy: 0.0705\n",
      "Epoch 22/100\n",
      "8/8 [==============================] - 1s 81ms/step - loss: 2.3978 - accuracy: 0.0932 - val_loss: 2.3993 - val_accuracy: 0.0705\n",
      "Epoch 23/100\n",
      "8/8 [==============================] - 1s 81ms/step - loss: 2.3978 - accuracy: 0.0932 - val_loss: 2.3994 - val_accuracy: 0.0705\n",
      "Epoch 24/100\n",
      "8/8 [==============================] - 1s 82ms/step - loss: 2.3978 - accuracy: 0.0932 - val_loss: 2.3994 - val_accuracy: 0.0705\n",
      "Epoch 25/100\n",
      "8/8 [==============================] - 1s 83ms/step - loss: 2.3978 - accuracy: 0.0932 - val_loss: 2.3994 - val_accuracy: 0.0705\n",
      "Epoch 26/100\n",
      "8/8 [==============================] - 1s 80ms/step - loss: 2.3978 - accuracy: 0.0932 - val_loss: 2.3994 - val_accuracy: 0.0705\n",
      "Epoch 27/100\n",
      "8/8 [==============================] - 1s 82ms/step - loss: 2.3978 - accuracy: 0.0932 - val_loss: 2.3995 - val_accuracy: 0.0705\n",
      "Epoch 28/100\n",
      "8/8 [==============================] - 1s 83ms/step - loss: 2.3978 - accuracy: 0.0932 - val_loss: 2.3995 - val_accuracy: 0.0705\n",
      "Epoch 29/100\n",
      "8/8 [==============================] - 1s 80ms/step - loss: 2.3978 - accuracy: 0.0932 - val_loss: 2.3995 - val_accuracy: 0.0705\n",
      "Epoch 30/100\n",
      "8/8 [==============================] - 1s 83ms/step - loss: 2.3978 - accuracy: 0.0932 - val_loss: 2.3995 - val_accuracy: 0.0705\n",
      "Epoch 31/100\n",
      "8/8 [==============================] - 1s 81ms/step - loss: 2.3978 - accuracy: 0.0932 - val_loss: 2.3996 - val_accuracy: 0.0705\n",
      "Epoch 32/100\n",
      "8/8 [==============================] - 1s 83ms/step - loss: 2.3978 - accuracy: 0.0932 - val_loss: 2.3995 - val_accuracy: 0.0705\n",
      "Epoch 33/100\n",
      "8/8 [==============================] - 1s 82ms/step - loss: 2.3978 - accuracy: 0.0932 - val_loss: 2.3996 - val_accuracy: 0.0705\n",
      "Epoch 34/100\n",
      "8/8 [==============================] - 1s 85ms/step - loss: 2.3978 - accuracy: 0.0932 - val_loss: 2.3996 - val_accuracy: 0.0705\n",
      "Epoch 35/100\n",
      "8/8 [==============================] - 1s 83ms/step - loss: 2.3978 - accuracy: 0.0932 - val_loss: 2.3996 - val_accuracy: 0.0705\n",
      "Epoch 36/100\n",
      "8/8 [==============================] - 1s 80ms/step - loss: 2.3978 - accuracy: 0.0932 - val_loss: 2.3997 - val_accuracy: 0.0705\n",
      "Epoch 37/100\n",
      "8/8 [==============================] - 1s 82ms/step - loss: 2.3978 - accuracy: 0.0932 - val_loss: 2.3997 - val_accuracy: 0.0705\n",
      "Epoch 38/100\n",
      "8/8 [==============================] - 1s 81ms/step - loss: 2.3978 - accuracy: 0.0932 - val_loss: 2.3997 - val_accuracy: 0.0705\n",
      "Epoch 39/100\n",
      "8/8 [==============================] - 1s 81ms/step - loss: 2.3978 - accuracy: 0.0932 - val_loss: 2.3997 - val_accuracy: 0.0705\n",
      "Epoch 40/100\n",
      "8/8 [==============================] - 1s 81ms/step - loss: 2.3978 - accuracy: 0.0932 - val_loss: 2.3997 - val_accuracy: 0.0705\n",
      "Epoch 41/100\n",
      "8/8 [==============================] - 1s 82ms/step - loss: 2.3978 - accuracy: 0.0932 - val_loss: 2.3997 - val_accuracy: 0.0705\n",
      "Epoch 42/100\n",
      "8/8 [==============================] - 1s 84ms/step - loss: 2.3978 - accuracy: 0.0932 - val_loss: 2.3997 - val_accuracy: 0.0705\n",
      "Epoch 43/100\n",
      "8/8 [==============================] - 1s 82ms/step - loss: 2.3978 - accuracy: 0.0932 - val_loss: 2.3997 - val_accuracy: 0.0705\n",
      "Epoch 44/100\n",
      "8/8 [==============================] - 1s 82ms/step - loss: 2.3978 - accuracy: 0.0932 - val_loss: 2.3997 - val_accuracy: 0.0705\n",
      "Epoch 45/100\n",
      "8/8 [==============================] - 1s 82ms/step - loss: 2.3978 - accuracy: 0.0932 - val_loss: 2.3998 - val_accuracy: 0.0705\n",
      "Epoch 46/100\n",
      "8/8 [==============================] - 1s 83ms/step - loss: 2.3978 - accuracy: 0.0932 - val_loss: 2.3998 - val_accuracy: 0.0705\n",
      "Epoch 47/100\n",
      "8/8 [==============================] - 1s 82ms/step - loss: 2.3978 - accuracy: 0.0932 - val_loss: 2.3998 - val_accuracy: 0.0705\n",
      "Epoch 48/100\n",
      "8/8 [==============================] - 1s 84ms/step - loss: 2.3978 - accuracy: 0.0932 - val_loss: 2.3998 - val_accuracy: 0.0705\n",
      "Epoch 49/100\n",
      "8/8 [==============================] - 1s 81ms/step - loss: 2.3978 - accuracy: 0.0932 - val_loss: 2.3998 - val_accuracy: 0.0705\n",
      "Epoch 50/100\n",
      "8/8 [==============================] - 1s 82ms/step - loss: 2.3978 - accuracy: 0.0932 - val_loss: 2.3998 - val_accuracy: 0.0705\n",
      "Epoch 51/100\n",
      "8/8 [==============================] - 1s 81ms/step - loss: 2.3978 - accuracy: 0.0932 - val_loss: 2.3998 - val_accuracy: 0.0705\n",
      "Epoch 52/100\n",
      "8/8 [==============================] - 1s 81ms/step - loss: 2.3978 - accuracy: 0.0932 - val_loss: 2.3998 - val_accuracy: 0.0705\n",
      "Epoch 53/100\n",
      "8/8 [==============================] - 1s 80ms/step - loss: 2.3978 - accuracy: 0.0932 - val_loss: 2.3998 - val_accuracy: 0.0705\n",
      "Epoch 54/100\n",
      "8/8 [==============================] - 1s 81ms/step - loss: 2.3978 - accuracy: 0.0932 - val_loss: 2.3998 - val_accuracy: 0.0705\n",
      "Epoch 55/100\n",
      "8/8 [==============================] - 1s 81ms/step - loss: 2.3978 - accuracy: 0.0932 - val_loss: 2.3998 - val_accuracy: 0.0705\n",
      "Epoch 56/100\n",
      "8/8 [==============================] - 1s 81ms/step - loss: 2.3978 - accuracy: 0.0932 - val_loss: 2.3998 - val_accuracy: 0.0705\n",
      "Epoch 57/100\n",
      "8/8 [==============================] - 1s 82ms/step - loss: 2.3978 - accuracy: 0.0932 - val_loss: 2.3998 - val_accuracy: 0.0705\n",
      "Epoch 58/100\n",
      "8/8 [==============================] - 1s 81ms/step - loss: 2.3978 - accuracy: 0.0932 - val_loss: 2.3998 - val_accuracy: 0.0705\n",
      "Epoch 59/100\n",
      "8/8 [==============================] - 1s 81ms/step - loss: 2.3978 - accuracy: 0.0932 - val_loss: 2.3998 - val_accuracy: 0.0705\n",
      "Epoch 60/100\n",
      "8/8 [==============================] - 1s 81ms/step - loss: 2.3978 - accuracy: 0.0932 - val_loss: 2.3998 - val_accuracy: 0.0705\n",
      "Epoch 61/100\n",
      "8/8 [==============================] - 1s 81ms/step - loss: 2.3978 - accuracy: 0.0932 - val_loss: 2.3998 - val_accuracy: 0.0705\n",
      "Epoch 62/100\n",
      "8/8 [==============================] - 1s 81ms/step - loss: 2.3978 - accuracy: 0.0932 - val_loss: 2.3998 - val_accuracy: 0.0705\n",
      "Epoch 63/100\n",
      "8/8 [==============================] - 1s 80ms/step - loss: 2.3978 - accuracy: 0.0932 - val_loss: 2.3998 - val_accuracy: 0.0705\n",
      "Epoch 64/100\n",
      "8/8 [==============================] - 1s 83ms/step - loss: 2.3978 - accuracy: 0.0932 - val_loss: 2.3998 - val_accuracy: 0.0705\n",
      "Epoch 65/100\n",
      "8/8 [==============================] - 1s 81ms/step - loss: 2.3978 - accuracy: 0.0932 - val_loss: 2.3998 - val_accuracy: 0.0705\n",
      "Epoch 66/100\n",
      "8/8 [==============================] - 1s 81ms/step - loss: 2.3978 - accuracy: 0.0932 - val_loss: 2.3999 - val_accuracy: 0.0705\n",
      "Epoch 67/100\n",
      "8/8 [==============================] - 1s 81ms/step - loss: 2.3978 - accuracy: 0.0932 - val_loss: 2.3998 - val_accuracy: 0.0705\n",
      "Epoch 68/100\n",
      "8/8 [==============================] - 1s 82ms/step - loss: 2.3978 - accuracy: 0.0932 - val_loss: 2.3998 - val_accuracy: 0.0705\n",
      "Epoch 69/100\n",
      "8/8 [==============================] - 1s 81ms/step - loss: 2.3978 - accuracy: 0.0932 - val_loss: 2.3998 - val_accuracy: 0.0705\n",
      "Epoch 70/100\n",
      "8/8 [==============================] - 1s 83ms/step - loss: 2.3978 - accuracy: 0.0932 - val_loss: 2.3997 - val_accuracy: 0.0705\n",
      "Epoch 71/100\n",
      "8/8 [==============================] - 1s 81ms/step - loss: 2.3978 - accuracy: 0.0932 - val_loss: 2.3998 - val_accuracy: 0.0705\n",
      "Epoch 72/100\n",
      "8/8 [==============================] - 1s 81ms/step - loss: 2.3978 - accuracy: 0.0932 - val_loss: 2.3998 - val_accuracy: 0.0705\n",
      "Epoch 73/100\n",
      "8/8 [==============================] - 1s 81ms/step - loss: 2.3978 - accuracy: 0.0932 - val_loss: 2.3998 - val_accuracy: 0.0705\n",
      "Epoch 74/100\n",
      "8/8 [==============================] - 1s 82ms/step - loss: 2.3978 - accuracy: 0.0932 - val_loss: 2.3998 - val_accuracy: 0.0705\n",
      "Epoch 75/100\n",
      "8/8 [==============================] - 1s 83ms/step - loss: 2.3978 - accuracy: 0.0932 - val_loss: 2.3998 - val_accuracy: 0.0705\n",
      "Epoch 76/100\n",
      "8/8 [==============================] - 1s 83ms/step - loss: 2.3978 - accuracy: 0.0932 - val_loss: 2.3998 - val_accuracy: 0.0705\n",
      "Epoch 77/100\n",
      "8/8 [==============================] - 1s 80ms/step - loss: 2.3978 - accuracy: 0.0932 - val_loss: 2.3998 - val_accuracy: 0.0705\n",
      "Epoch 78/100\n",
      "8/8 [==============================] - 1s 81ms/step - loss: 2.3978 - accuracy: 0.0932 - val_loss: 2.3998 - val_accuracy: 0.0705\n",
      "Epoch 79/100\n",
      "8/8 [==============================] - 1s 82ms/step - loss: 2.3978 - accuracy: 0.0932 - val_loss: 2.3998 - val_accuracy: 0.0705\n",
      "Epoch 80/100\n",
      "8/8 [==============================] - 1s 83ms/step - loss: 2.3978 - accuracy: 0.0932 - val_loss: 2.3998 - val_accuracy: 0.0705\n",
      "Epoch 81/100\n",
      "8/8 [==============================] - 1s 84ms/step - loss: 2.3978 - accuracy: 0.0932 - val_loss: 2.3998 - val_accuracy: 0.0705\n",
      "Epoch 82/100\n",
      "8/8 [==============================] - 1s 82ms/step - loss: 2.3978 - accuracy: 0.0932 - val_loss: 2.3998 - val_accuracy: 0.0705\n",
      "Epoch 83/100\n",
      "8/8 [==============================] - 1s 80ms/step - loss: 2.3978 - accuracy: 0.0932 - val_loss: 2.3998 - val_accuracy: 0.0705\n",
      "Epoch 84/100\n",
      "8/8 [==============================] - 1s 81ms/step - loss: 2.3978 - accuracy: 0.0932 - val_loss: 2.3998 - val_accuracy: 0.0705\n",
      "Epoch 85/100\n",
      "8/8 [==============================] - 1s 81ms/step - loss: 2.3978 - accuracy: 0.0932 - val_loss: 2.3998 - val_accuracy: 0.0705\n",
      "Epoch 86/100\n",
      "8/8 [==============================] - 1s 82ms/step - loss: 2.3978 - accuracy: 0.0932 - val_loss: 2.3998 - val_accuracy: 0.0705\n",
      "Epoch 87/100\n",
      "8/8 [==============================] - 1s 80ms/step - loss: 2.3978 - accuracy: 0.0932 - val_loss: 2.3998 - val_accuracy: 0.0705\n",
      "Epoch 88/100\n",
      "8/8 [==============================] - 1s 85ms/step - loss: 2.3978 - accuracy: 0.0932 - val_loss: 2.3998 - val_accuracy: 0.0705\n",
      "Epoch 89/100\n",
      "8/8 [==============================] - 1s 83ms/step - loss: 2.3978 - accuracy: 0.0932 - val_loss: 2.3998 - val_accuracy: 0.0705\n",
      "Epoch 90/100\n",
      "8/8 [==============================] - 1s 83ms/step - loss: 2.3978 - accuracy: 0.0932 - val_loss: 2.3998 - val_accuracy: 0.0705\n",
      "Epoch 91/100\n",
      "8/8 [==============================] - 1s 81ms/step - loss: 2.3978 - accuracy: 0.0932 - val_loss: 2.3998 - val_accuracy: 0.0705\n",
      "Epoch 92/100\n",
      "8/8 [==============================] - 1s 81ms/step - loss: 2.3978 - accuracy: 0.0932 - val_loss: 2.3998 - val_accuracy: 0.0705\n",
      "Epoch 93/100\n",
      "8/8 [==============================] - 1s 81ms/step - loss: 2.3978 - accuracy: 0.0932 - val_loss: 2.3998 - val_accuracy: 0.0705\n",
      "Epoch 94/100\n",
      "8/8 [==============================] - 1s 81ms/step - loss: 2.3978 - accuracy: 0.0932 - val_loss: 2.3998 - val_accuracy: 0.0705\n",
      "Epoch 95/100\n",
      "8/8 [==============================] - 1s 81ms/step - loss: 2.3978 - accuracy: 0.0932 - val_loss: 2.3998 - val_accuracy: 0.0705\n",
      "Epoch 96/100\n",
      "8/8 [==============================] - 1s 80ms/step - loss: 2.3978 - accuracy: 0.0932 - val_loss: 2.3998 - val_accuracy: 0.0705\n",
      "Epoch 97/100\n",
      "8/8 [==============================] - 1s 81ms/step - loss: 2.3978 - accuracy: 0.0932 - val_loss: 2.3998 - val_accuracy: 0.0705\n",
      "Epoch 98/100\n",
      "8/8 [==============================] - 1s 80ms/step - loss: 2.3978 - accuracy: 0.0932 - val_loss: 2.3998 - val_accuracy: 0.0705\n",
      "Epoch 99/100\n",
      "8/8 [==============================] - 1s 84ms/step - loss: 2.3978 - accuracy: 0.0932 - val_loss: 2.3998 - val_accuracy: 0.0705\n",
      "Epoch 100/100\n",
      "8/8 [==============================] - 1s 83ms/step - loss: 2.3978 - accuracy: 0.0932 - val_loss: 2.3998 - val_accuracy: 0.0705\n",
      "35/35 [==============================] - 0s 6ms/step - loss: 2.3980 - accuracy: 0.0909\n"
     ]
    },
    {
     "data": {
      "image/png": "[encoded data removed]",
      "text/plain": [
       "<Figure size 504x432 with 2 Axes>"
      ]
     },
     "metadata": {
      "needs_background": "light"
     },
     "output_type": "display_data"
    },
    {
     "name": "stdout",
     "output_type": "stream",
     "text": [
      "Precision:0.00826\n",
      "Recall:0.0909\n",
      "F1_score:0.0152\n",
      "              precision    recall  f1-score   support\n",
      "\n",
      "           0       0.00      0.00      0.00       100\n",
      "           1       0.00      0.00      0.00       100\n",
      "           2       0.00      0.00      0.00       100\n",
      "           3       0.00      0.00      0.00       100\n",
      "           4       0.00      0.00      0.00       100\n",
      "           5       0.00      0.00      0.00       100\n",
      "           6       0.09      1.00      0.17       100\n",
      "           7       0.00      0.00      0.00       100\n",
      "           8       0.00      0.00      0.00       100\n",
      "           9       0.00      0.00      0.00       100\n",
      "          10       0.00      0.00      0.00       100\n",
      "\n",
      "    accuracy                           0.09      1100\n",
      "   macro avg       0.01      0.09      0.02      1100\n",
      "weighted avg       0.01      0.09      0.02      1100\n",
      "\n",
      "Epoch 1/100\n",
      "8/8 [==============================] - 1s 99ms/step - loss: 2.4177 - accuracy: 0.0907 - val_loss: 2.3980 - val_accuracy: 0.0795\n",
      "Epoch 2/100\n",
      "8/8 [==============================] - 1s 82ms/step - loss: 2.3979 - accuracy: 0.0922 - val_loss: 2.3981 - val_accuracy: 0.0795\n",
      "Epoch 3/100\n",
      "8/8 [==============================] - 1s 81ms/step - loss: 2.3979 - accuracy: 0.0922 - val_loss: 2.3981 - val_accuracy: 0.0795\n",
      "Epoch 4/100\n",
      "8/8 [==============================] - 1s 81ms/step - loss: 2.3979 - accuracy: 0.0922 - val_loss: 2.3982 - val_accuracy: 0.0795\n",
      "Epoch 5/100\n",
      "8/8 [==============================] - 1s 81ms/step - loss: 2.3979 - accuracy: 0.0922 - val_loss: 2.3983 - val_accuracy: 0.0795\n",
      "Epoch 6/100\n",
      "8/8 [==============================] - 1s 81ms/step - loss: 2.3979 - accuracy: 0.0922 - val_loss: 2.3983 - val_accuracy: 0.0795\n",
      "Epoch 7/100\n",
      "8/8 [==============================] - 1s 82ms/step - loss: 2.3979 - accuracy: 0.0922 - val_loss: 2.3984 - val_accuracy: 0.0795\n",
      "Epoch 8/100\n",
      "8/8 [==============================] - 1s 83ms/step - loss: 2.3979 - accuracy: 0.0922 - val_loss: 2.3984 - val_accuracy: 0.0795\n",
      "Epoch 9/100\n",
      "8/8 [==============================] - 1s 82ms/step - loss: 2.3979 - accuracy: 0.0922 - val_loss: 2.3984 - val_accuracy: 0.0795\n",
      "Epoch 10/100\n",
      "8/8 [==============================] - 1s 79ms/step - loss: 2.3979 - accuracy: 0.0922 - val_loss: 2.3984 - val_accuracy: 0.0795\n",
      "Epoch 11/100\n",
      "8/8 [==============================] - 1s 83ms/step - loss: 2.3979 - accuracy: 0.0922 - val_loss: 2.3985 - val_accuracy: 0.0795\n",
      "Epoch 12/100\n",
      "8/8 [==============================] - 1s 80ms/step - loss: 2.3979 - accuracy: 0.0922 - val_loss: 2.3985 - val_accuracy: 0.0795\n",
      "Epoch 13/100\n",
      "8/8 [==============================] - 1s 81ms/step - loss: 2.3979 - accuracy: 0.0922 - val_loss: 2.3985 - val_accuracy: 0.0795\n",
      "Epoch 14/100\n",
      "8/8 [==============================] - 1s 81ms/step - loss: 2.3979 - accuracy: 0.0922 - val_loss: 2.3986 - val_accuracy: 0.0795\n",
      "Epoch 15/100\n",
      "8/8 [==============================] - 1s 80ms/step - loss: 2.3979 - accuracy: 0.0922 - val_loss: 2.3986 - val_accuracy: 0.0795\n",
      "Epoch 16/100\n",
      "8/8 [==============================] - 1s 81ms/step - loss: 2.3979 - accuracy: 0.0922 - val_loss: 2.3987 - val_accuracy: 0.0795\n",
      "Epoch 17/100\n",
      "8/8 [==============================] - 1s 81ms/step - loss: 2.3979 - accuracy: 0.0922 - val_loss: 2.3987 - val_accuracy: 0.0795\n",
      "Epoch 18/100\n",
      "8/8 [==============================] - 1s 83ms/step - loss: 2.3979 - accuracy: 0.0922 - val_loss: 2.3987 - val_accuracy: 0.0795\n",
      "Epoch 19/100\n",
      "8/8 [==============================] - 1s 81ms/step - loss: 2.3979 - accuracy: 0.0922 - val_loss: 2.3987 - val_accuracy: 0.0795\n",
      "Epoch 20/100\n",
      "8/8 [==============================] - 1s 81ms/step - loss: 2.3979 - accuracy: 0.0922 - val_loss: 2.3987 - val_accuracy: 0.0795\n",
      "Epoch 21/100\n",
      "8/8 [==============================] - 1s 81ms/step - loss: 2.3979 - accuracy: 0.0922 - val_loss: 2.3987 - val_accuracy: 0.0795\n",
      "Epoch 22/100\n",
      "8/8 [==============================] - 1s 81ms/step - loss: 2.3979 - accuracy: 0.0922 - val_loss: 2.3987 - val_accuracy: 0.0795\n",
      "Epoch 23/100\n",
      "8/8 [==============================] - 1s 82ms/step - loss: 2.3979 - accuracy: 0.0922 - val_loss: 2.3987 - val_accuracy: 0.0795\n",
      "Epoch 24/100\n",
      "8/8 [==============================] - 1s 81ms/step - loss: 2.3979 - accuracy: 0.0922 - val_loss: 2.3987 - val_accuracy: 0.0795\n",
      "Epoch 25/100\n",
      "8/8 [==============================] - 1s 82ms/step - loss: 2.3979 - accuracy: 0.0922 - val_loss: 2.3988 - val_accuracy: 0.0795\n",
      "Epoch 26/100\n",
      "8/8 [==============================] - 1s 80ms/step - loss: 2.3979 - accuracy: 0.0922 - val_loss: 2.3988 - val_accuracy: 0.0795\n",
      "Epoch 27/100\n",
      "8/8 [==============================] - 1s 81ms/step - loss: 2.3979 - accuracy: 0.0879 - val_loss: 2.3988 - val_accuracy: 0.0795\n",
      "Epoch 28/100\n",
      "8/8 [==============================] - 1s 82ms/step - loss: 2.3979 - accuracy: 0.0894 - val_loss: 2.3988 - val_accuracy: 0.0795\n",
      "Epoch 29/100\n",
      "8/8 [==============================] - 1s 84ms/step - loss: 2.3979 - accuracy: 0.0922 - val_loss: 2.3988 - val_accuracy: 0.0795\n",
      "Epoch 30/100\n",
      "8/8 [==============================] - 1s 83ms/step - loss: 2.3979 - accuracy: 0.0922 - val_loss: 2.3988 - val_accuracy: 0.0795\n",
      "Epoch 31/100\n",
      "8/8 [==============================] - 1s 82ms/step - loss: 2.3979 - accuracy: 0.0874 - val_loss: 2.3988 - val_accuracy: 0.0795\n",
      "Epoch 32/100\n",
      "8/8 [==============================] - 1s 82ms/step - loss: 2.3979 - accuracy: 0.0947 - val_loss: 2.3988 - val_accuracy: 0.0795\n",
      "Epoch 33/100\n",
      "8/8 [==============================] - 1s 82ms/step - loss: 2.3979 - accuracy: 0.0922 - val_loss: 2.3989 - val_accuracy: 0.0795\n",
      "Epoch 34/100\n",
      "8/8 [==============================] - 1s 80ms/step - loss: 2.3979 - accuracy: 0.0922 - val_loss: 2.3988 - val_accuracy: 0.0795\n",
      "Epoch 35/100\n",
      "8/8 [==============================] - 1s 83ms/step - loss: 2.3979 - accuracy: 0.0922 - val_loss: 2.3988 - val_accuracy: 0.0795\n",
      "Epoch 36/100\n",
      "8/8 [==============================] - 1s 83ms/step - loss: 2.3979 - accuracy: 0.0922 - val_loss: 2.3988 - val_accuracy: 0.0795\n",
      "Epoch 37/100\n",
      "8/8 [==============================] - 1s 80ms/step - loss: 2.3979 - accuracy: 0.0922 - val_loss: 2.3987 - val_accuracy: 0.0795\n",
      "Epoch 38/100\n",
      "8/8 [==============================] - 1s 82ms/step - loss: 2.3979 - accuracy: 0.0922 - val_loss: 2.3988 - val_accuracy: 0.0795\n",
      "Epoch 39/100\n",
      "8/8 [==============================] - 1s 83ms/step - loss: 2.3979 - accuracy: 0.0899 - val_loss: 2.3989 - val_accuracy: 0.0795\n",
      "Epoch 40/100\n",
      "8/8 [==============================] - 1s 81ms/step - loss: 2.3979 - accuracy: 0.0922 - val_loss: 2.3988 - val_accuracy: 0.0795\n",
      "Epoch 41/100\n",
      "8/8 [==============================] - 1s 80ms/step - loss: 2.3979 - accuracy: 0.0904 - val_loss: 2.3988 - val_accuracy: 0.0818\n",
      "Epoch 42/100\n",
      "8/8 [==============================] - 1s 81ms/step - loss: 2.3979 - accuracy: 0.0922 - val_loss: 2.3988 - val_accuracy: 0.0795\n",
      "Epoch 43/100\n",
      "8/8 [==============================] - 1s 83ms/step - loss: 2.3979 - accuracy: 0.0848 - val_loss: 2.3989 - val_accuracy: 0.0795\n",
      "Epoch 44/100\n",
      "8/8 [==============================] - 1s 83ms/step - loss: 2.3979 - accuracy: 0.0828 - val_loss: 2.3989 - val_accuracy: 0.0795\n",
      "Epoch 45/100\n",
      "8/8 [==============================] - 1s 83ms/step - loss: 2.3979 - accuracy: 0.0922 - val_loss: 2.3989 - val_accuracy: 0.0795\n",
      "Epoch 46/100\n",
      "8/8 [==============================] - 1s 81ms/step - loss: 2.3979 - accuracy: 0.0922 - val_loss: 2.3989 - val_accuracy: 0.0795\n",
      "Epoch 47/100\n",
      "8/8 [==============================] - 1s 82ms/step - loss: 2.3979 - accuracy: 0.0922 - val_loss: 2.3989 - val_accuracy: 0.0795\n",
      "Epoch 48/100\n",
      "8/8 [==============================] - 1s 81ms/step - loss: 2.3979 - accuracy: 0.0922 - val_loss: 2.3990 - val_accuracy: 0.0795\n",
      "Epoch 49/100\n",
      "8/8 [==============================] - 1s 82ms/step - loss: 2.3979 - accuracy: 0.0902 - val_loss: 2.3989 - val_accuracy: 0.0795\n",
      "Epoch 50/100\n",
      "8/8 [==============================] - 1s 83ms/step - loss: 2.3979 - accuracy: 0.0922 - val_loss: 2.3989 - val_accuracy: 0.0795\n",
      "Epoch 51/100\n",
      "8/8 [==============================] - 1s 81ms/step - loss: 2.3979 - accuracy: 0.0922 - val_loss: 2.3989 - val_accuracy: 0.0795\n",
      "Epoch 52/100\n",
      "8/8 [==============================] - 1s 82ms/step - loss: 2.3979 - accuracy: 0.0922 - val_loss: 2.3990 - val_accuracy: 0.0795\n",
      "Epoch 53/100\n",
      "8/8 [==============================] - 1s 81ms/step - loss: 2.3979 - accuracy: 0.0922 - val_loss: 2.3990 - val_accuracy: 0.0795\n",
      "Epoch 54/100\n",
      "8/8 [==============================] - 1s 82ms/step - loss: 2.3979 - accuracy: 0.0922 - val_loss: 2.3990 - val_accuracy: 0.0795\n",
      "Epoch 55/100\n",
      "8/8 [==============================] - 1s 83ms/step - loss: 2.3979 - accuracy: 0.0879 - val_loss: 2.3990 - val_accuracy: 0.0795\n",
      "Epoch 56/100\n",
      "8/8 [==============================] - 1s 82ms/step - loss: 2.3979 - accuracy: 0.0881 - val_loss: 2.3990 - val_accuracy: 0.0795\n",
      "Epoch 57/100\n",
      "8/8 [==============================] - 1s 80ms/step - loss: 2.3979 - accuracy: 0.0899 - val_loss: 2.3989 - val_accuracy: 0.0795\n",
      "Epoch 58/100\n",
      "8/8 [==============================] - 1s 82ms/step - loss: 2.3979 - accuracy: 0.0922 - val_loss: 2.3989 - val_accuracy: 0.0795\n",
      "Epoch 59/100\n",
      "8/8 [==============================] - 1s 83ms/step - loss: 2.3979 - accuracy: 0.0922 - val_loss: 2.3989 - val_accuracy: 0.0795\n",
      "Epoch 60/100\n",
      "8/8 [==============================] - 1s 83ms/step - loss: 2.3979 - accuracy: 0.0922 - val_loss: 2.3989 - val_accuracy: 0.0795\n",
      "Epoch 61/100\n",
      "8/8 [==============================] - 1s 83ms/step - loss: 2.3979 - accuracy: 0.0922 - val_loss: 2.3989 - val_accuracy: 0.0795\n",
      "Epoch 62/100\n",
      "8/8 [==============================] - 1s 80ms/step - loss: 2.3979 - accuracy: 0.0902 - val_loss: 2.3989 - val_accuracy: 0.0795\n",
      "Epoch 63/100\n",
      "8/8 [==============================] - 1s 81ms/step - loss: 2.3979 - accuracy: 0.0922 - val_loss: 2.3989 - val_accuracy: 0.0795\n",
      "Epoch 64/100\n",
      "8/8 [==============================] - 1s 80ms/step - loss: 2.3979 - accuracy: 0.0922 - val_loss: 2.3989 - val_accuracy: 0.0795\n",
      "Epoch 65/100\n",
      "8/8 [==============================] - 1s 81ms/step - loss: 2.3979 - accuracy: 0.0922 - val_loss: 2.3990 - val_accuracy: 0.0795\n",
      "Epoch 66/100\n",
      "8/8 [==============================] - 1s 80ms/step - loss: 2.3979 - accuracy: 0.0922 - val_loss: 2.3990 - val_accuracy: 0.0795\n",
      "Epoch 67/100\n",
      "8/8 [==============================] - 1s 81ms/step - loss: 2.3979 - accuracy: 0.0922 - val_loss: 2.3990 - val_accuracy: 0.0795\n",
      "Epoch 68/100\n",
      "8/8 [==============================] - 1s 81ms/step - loss: 2.3979 - accuracy: 0.0922 - val_loss: 2.3990 - val_accuracy: 0.0795\n",
      "Epoch 69/100\n",
      "8/8 [==============================] - 1s 82ms/step - loss: 2.3979 - accuracy: 0.0922 - val_loss: 2.3990 - val_accuracy: 0.0795\n",
      "Epoch 70/100\n",
      "8/8 [==============================] - 1s 85ms/step - loss: 2.3979 - accuracy: 0.0922 - val_loss: 2.3989 - val_accuracy: 0.0795\n",
      "Epoch 71/100\n",
      "8/8 [==============================] - 1s 80ms/step - loss: 2.3979 - accuracy: 0.0922 - val_loss: 2.3989 - val_accuracy: 0.0795\n",
      "Epoch 72/100\n",
      "8/8 [==============================] - 1s 81ms/step - loss: 2.3979 - accuracy: 0.0848 - val_loss: 2.3989 - val_accuracy: 0.0795\n",
      "Epoch 73/100\n",
      "8/8 [==============================] - 1s 81ms/step - loss: 2.3979 - accuracy: 0.0922 - val_loss: 2.3989 - val_accuracy: 0.0795\n",
      "Epoch 74/100\n",
      "8/8 [==============================] - 1s 81ms/step - loss: 2.3979 - accuracy: 0.0874 - val_loss: 2.3989 - val_accuracy: 0.0795\n",
      "Epoch 75/100\n",
      "8/8 [==============================] - 1s 81ms/step - loss: 2.3979 - accuracy: 0.0919 - val_loss: 2.3989 - val_accuracy: 0.0795\n",
      "Epoch 76/100\n",
      "8/8 [==============================] - 1s 82ms/step - loss: 2.3979 - accuracy: 0.0896 - val_loss: 2.3990 - val_accuracy: 0.0795\n",
      "Epoch 77/100\n",
      "8/8 [==============================] - 1s 83ms/step - loss: 2.3979 - accuracy: 0.0922 - val_loss: 2.3990 - val_accuracy: 0.0795\n",
      "Epoch 78/100\n",
      "8/8 [==============================] - 1s 82ms/step - loss: 2.3979 - accuracy: 0.0922 - val_loss: 2.3990 - val_accuracy: 0.0795\n",
      "Epoch 79/100\n",
      "8/8 [==============================] - 1s 83ms/step - loss: 2.3979 - accuracy: 0.0922 - val_loss: 2.3989 - val_accuracy: 0.0795\n",
      "Epoch 80/100\n",
      "8/8 [==============================] - 1s 82ms/step - loss: 2.3979 - accuracy: 0.0899 - val_loss: 2.3989 - val_accuracy: 0.0795\n",
      "Epoch 81/100\n",
      "8/8 [==============================] - 1s 82ms/step - loss: 2.3979 - accuracy: 0.0922 - val_loss: 2.3989 - val_accuracy: 0.0795\n",
      "Epoch 82/100\n",
      "8/8 [==============================] - 1s 81ms/step - loss: 2.3979 - accuracy: 0.0922 - val_loss: 2.3989 - val_accuracy: 0.0795\n",
      "Epoch 83/100\n",
      "8/8 [==============================] - 1s 82ms/step - loss: 2.3979 - accuracy: 0.0922 - val_loss: 2.3989 - val_accuracy: 0.0795\n",
      "Epoch 84/100\n",
      "8/8 [==============================] - 1s 84ms/step - loss: 2.3979 - accuracy: 0.0922 - val_loss: 2.3989 - val_accuracy: 0.0795\n",
      "Epoch 85/100\n",
      "8/8 [==============================] - 1s 81ms/step - loss: 2.3979 - accuracy: 0.0922 - val_loss: 2.3989 - val_accuracy: 0.0795\n",
      "Epoch 86/100\n",
      "8/8 [==============================] - 1s 81ms/step - loss: 2.3979 - accuracy: 0.0922 - val_loss: 2.3989 - val_accuracy: 0.0795\n",
      "Epoch 87/100\n",
      "8/8 [==============================] - 1s 82ms/step - loss: 2.3979 - accuracy: 0.0922 - val_loss: 2.3989 - val_accuracy: 0.0795\n",
      "Epoch 88/100\n",
      "8/8 [==============================] - 1s 82ms/step - loss: 2.3979 - accuracy: 0.0922 - val_loss: 2.3989 - val_accuracy: 0.0795\n",
      "Epoch 89/100\n",
      "8/8 [==============================] - 1s 82ms/step - loss: 2.3979 - accuracy: 0.0922 - val_loss: 2.3989 - val_accuracy: 0.0795\n",
      "Epoch 90/100\n",
      "8/8 [==============================] - 1s 81ms/step - loss: 2.3979 - accuracy: 0.0869 - val_loss: 2.3989 - val_accuracy: 0.0795\n",
      "Epoch 91/100\n",
      "8/8 [==============================] - 1s 83ms/step - loss: 2.3979 - accuracy: 0.0924 - val_loss: 2.3988 - val_accuracy: 0.0795\n",
      "Epoch 92/100\n",
      "8/8 [==============================] - 1s 81ms/step - loss: 2.3979 - accuracy: 0.0876 - val_loss: 2.3988 - val_accuracy: 0.0795\n",
      "Epoch 93/100\n",
      "8/8 [==============================] - 1s 82ms/step - loss: 2.3979 - accuracy: 0.0902 - val_loss: 2.3989 - val_accuracy: 0.0795\n",
      "Epoch 94/100\n",
      "8/8 [==============================] - 1s 81ms/step - loss: 2.3979 - accuracy: 0.0881 - val_loss: 2.3989 - val_accuracy: 0.0795\n",
      "Epoch 95/100\n",
      "8/8 [==============================] - 1s 83ms/step - loss: 2.3979 - accuracy: 0.0922 - val_loss: 2.3989 - val_accuracy: 0.0795\n",
      "Epoch 96/100\n",
      "8/8 [==============================] - 1s 82ms/step - loss: 2.3979 - accuracy: 0.0889 - val_loss: 2.3989 - val_accuracy: 0.0795\n",
      "Epoch 97/100\n",
      "8/8 [==============================] - 1s 83ms/step - loss: 2.3979 - accuracy: 0.0922 - val_loss: 2.3990 - val_accuracy: 0.0795\n",
      "Epoch 98/100\n",
      "8/8 [==============================] - 1s 82ms/step - loss: 2.3979 - accuracy: 0.0922 - val_loss: 2.3989 - val_accuracy: 0.0795\n",
      "Epoch 99/100\n",
      "8/8 [==============================] - 1s 81ms/step - loss: 2.3979 - accuracy: 0.0922 - val_loss: 2.3989 - val_accuracy: 0.0795\n",
      "Epoch 100/100\n",
      "8/8 [==============================] - 1s 81ms/step - loss: 2.3979 - accuracy: 0.0922 - val_loss: 2.3989 - val_accuracy: 0.0795\n",
      "35/35 [==============================] - 0s 5ms/step - loss: 2.3979 - accuracy: 0.0909\n"
     ]
    },
    {
     "data": {
      "image/png": "[encoded data removed]",
      "text/plain": [
       "<Figure size 504x432 with 2 Axes>"
      ]
     },
     "metadata": {
      "needs_background": "light"
     },
     "output_type": "display_data"
    },
    {
     "name": "stdout",
     "output_type": "stream",
     "text": [
      "Precision:0.00826\n",
      "Recall:0.0909\n",
      "F1_score:0.0152\n",
      "              precision    recall  f1-score   support\n",
      "\n",
      "           0       0.00      0.00      0.00       100\n",
      "           1       0.00      0.00      0.00       100\n",
      "           2       0.00      0.00      0.00       100\n",
      "           3       0.00      0.00      0.00       100\n",
      "           4       0.00      0.00      0.00       100\n",
      "           5       0.00      0.00      0.00       100\n",
      "           6       0.09      1.00      0.17       100\n",
      "           7       0.00      0.00      0.00       100\n",
      "           8       0.00      0.00      0.00       100\n",
      "           9       0.00      0.00      0.00       100\n",
      "          10       0.00      0.00      0.00       100\n",
      "\n",
      "    accuracy                           0.09      1100\n",
      "   macro avg       0.01      0.09      0.02      1100\n",
      "weighted avg       0.01      0.09      0.02      1100\n",
      "\n",
      "Epoch 1/100\n",
      "8/8 [==============================] - 1s 99ms/step - loss: 2.3983 - accuracy: 0.0909 - val_loss: 2.3981 - val_accuracy: 0.0977\n",
      "Epoch 2/100\n",
      "8/8 [==============================] - 1s 83ms/step - loss: 2.3979 - accuracy: 0.0904 - val_loss: 2.3982 - val_accuracy: 0.0727\n",
      "Epoch 3/100\n",
      "8/8 [==============================] - 1s 82ms/step - loss: 2.3980 - accuracy: 0.0869 - val_loss: 2.3984 - val_accuracy: 0.0727\n",
      "Epoch 4/100\n",
      "8/8 [==============================] - 1s 82ms/step - loss: 2.3979 - accuracy: 0.0798 - val_loss: 2.3985 - val_accuracy: 0.0773\n",
      "Epoch 5/100\n",
      "8/8 [==============================] - 1s 82ms/step - loss: 2.3979 - accuracy: 0.0851 - val_loss: 2.3986 - val_accuracy: 0.0727\n",
      "Epoch 6/100\n",
      "8/8 [==============================] - 1s 80ms/step - loss: 2.3979 - accuracy: 0.0929 - val_loss: 2.3987 - val_accuracy: 0.0727\n",
      "Epoch 7/100\n",
      "8/8 [==============================] - 1s 82ms/step - loss: 2.3979 - accuracy: 0.0929 - val_loss: 2.3988 - val_accuracy: 0.0727\n",
      "Epoch 8/100\n",
      "8/8 [==============================] - 1s 81ms/step - loss: 2.3978 - accuracy: 0.0929 - val_loss: 2.3989 - val_accuracy: 0.0727\n",
      "Epoch 9/100\n",
      "8/8 [==============================] - 1s 82ms/step - loss: 2.3979 - accuracy: 0.0929 - val_loss: 2.3989 - val_accuracy: 0.0727\n",
      "Epoch 10/100\n",
      "8/8 [==============================] - 1s 82ms/step - loss: 2.3978 - accuracy: 0.0929 - val_loss: 2.3990 - val_accuracy: 0.0727\n",
      "Epoch 11/100\n",
      "8/8 [==============================] - 1s 81ms/step - loss: 2.3979 - accuracy: 0.0929 - val_loss: 2.3990 - val_accuracy: 0.0727\n",
      "Epoch 12/100\n",
      "8/8 [==============================] - 1s 83ms/step - loss: 2.3978 - accuracy: 0.0929 - val_loss: 2.3990 - val_accuracy: 0.0727\n",
      "Epoch 13/100\n",
      "8/8 [==============================] - 1s 82ms/step - loss: 2.3978 - accuracy: 0.0929 - val_loss: 2.3991 - val_accuracy: 0.0727\n",
      "Epoch 14/100\n",
      "8/8 [==============================] - 1s 81ms/step - loss: 2.3978 - accuracy: 0.0929 - val_loss: 2.3992 - val_accuracy: 0.0727\n",
      "Epoch 15/100\n",
      "8/8 [==============================] - 1s 80ms/step - loss: 2.3978 - accuracy: 0.0929 - val_loss: 2.3993 - val_accuracy: 0.0727\n",
      "Epoch 16/100\n",
      "8/8 [==============================] - 1s 80ms/step - loss: 2.3978 - accuracy: 0.0929 - val_loss: 2.3992 - val_accuracy: 0.0727\n",
      "Epoch 17/100\n",
      "8/8 [==============================] - 1s 81ms/step - loss: 2.3979 - accuracy: 0.0929 - val_loss: 2.3992 - val_accuracy: 0.0727\n",
      "Epoch 18/100\n",
      "8/8 [==============================] - 1s 83ms/step - loss: 2.3978 - accuracy: 0.0929 - val_loss: 2.3993 - val_accuracy: 0.0727\n",
      "Epoch 19/100\n",
      "8/8 [==============================] - 1s 82ms/step - loss: 2.3979 - accuracy: 0.0929 - val_loss: 2.3994 - val_accuracy: 0.0727\n",
      "Epoch 20/100\n",
      "8/8 [==============================] - 1s 81ms/step - loss: 2.3978 - accuracy: 0.0929 - val_loss: 2.3994 - val_accuracy: 0.0727\n",
      "Epoch 21/100\n",
      "8/8 [==============================] - 1s 81ms/step - loss: 2.3978 - accuracy: 0.0929 - val_loss: 2.3993 - val_accuracy: 0.0727\n",
      "Epoch 22/100\n",
      "8/8 [==============================] - 1s 80ms/step - loss: 2.3978 - accuracy: 0.0929 - val_loss: 2.3994 - val_accuracy: 0.0727\n",
      "Epoch 23/100\n",
      "8/8 [==============================] - 1s 80ms/step - loss: 2.3978 - accuracy: 0.0929 - val_loss: 2.3994 - val_accuracy: 0.0727\n",
      "Epoch 24/100\n",
      "8/8 [==============================] - 1s 83ms/step - loss: 2.3978 - accuracy: 0.0902 - val_loss: 2.3995 - val_accuracy: 0.0727\n",
      "Epoch 25/100\n",
      "8/8 [==============================] - 1s 81ms/step - loss: 2.3978 - accuracy: 0.0929 - val_loss: 2.3995 - val_accuracy: 0.0727\n",
      "Epoch 26/100\n",
      "8/8 [==============================] - 1s 80ms/step - loss: 2.3978 - accuracy: 0.0912 - val_loss: 2.3996 - val_accuracy: 0.0727\n",
      "Epoch 27/100\n",
      "8/8 [==============================] - 1s 81ms/step - loss: 2.3978 - accuracy: 0.0929 - val_loss: 2.3995 - val_accuracy: 0.0727\n",
      "Epoch 28/100\n",
      "8/8 [==============================] - 1s 83ms/step - loss: 2.3979 - accuracy: 0.0929 - val_loss: 2.3995 - val_accuracy: 0.0727\n",
      "Epoch 29/100\n",
      "8/8 [==============================] - 1s 81ms/step - loss: 2.3978 - accuracy: 0.0929 - val_loss: 2.3995 - val_accuracy: 0.0727\n",
      "Epoch 30/100\n",
      "8/8 [==============================] - 1s 80ms/step - loss: 2.3978 - accuracy: 0.0907 - val_loss: 2.3996 - val_accuracy: 0.0727\n",
      "Epoch 31/100\n",
      "8/8 [==============================] - 1s 80ms/step - loss: 2.3978 - accuracy: 0.0929 - val_loss: 2.3996 - val_accuracy: 0.0727\n",
      "Epoch 32/100\n",
      "8/8 [==============================] - 1s 82ms/step - loss: 2.3978 - accuracy: 0.0929 - val_loss: 2.3996 - val_accuracy: 0.0727\n",
      "Epoch 33/100\n",
      "8/8 [==============================] - 1s 80ms/step - loss: 2.3978 - accuracy: 0.0929 - val_loss: 2.3996 - val_accuracy: 0.0727\n",
      "Epoch 34/100\n",
      "8/8 [==============================] - 1s 82ms/step - loss: 2.3978 - accuracy: 0.0929 - val_loss: 2.3996 - val_accuracy: 0.0727\n",
      "Epoch 35/100\n",
      "8/8 [==============================] - 1s 81ms/step - loss: 2.3978 - accuracy: 0.0929 - val_loss: 2.3995 - val_accuracy: 0.0727\n",
      "Epoch 36/100\n",
      "8/8 [==============================] - 1s 83ms/step - loss: 2.3978 - accuracy: 0.0929 - val_loss: 2.3996 - val_accuracy: 0.0727\n",
      "Epoch 37/100\n",
      "8/8 [==============================] - 1s 83ms/step - loss: 2.3978 - accuracy: 0.0929 - val_loss: 2.3996 - val_accuracy: 0.0727\n",
      "Epoch 38/100\n",
      "8/8 [==============================] - 1s 83ms/step - loss: 2.3978 - accuracy: 0.0929 - val_loss: 2.3996 - val_accuracy: 0.0727\n",
      "Epoch 39/100\n",
      "8/8 [==============================] - 1s 83ms/step - loss: 2.3978 - accuracy: 0.0929 - val_loss: 2.3996 - val_accuracy: 0.0727\n",
      "Epoch 40/100\n",
      "8/8 [==============================] - 1s 83ms/step - loss: 2.3978 - accuracy: 0.0929 - val_loss: 2.3996 - val_accuracy: 0.0727\n",
      "Epoch 41/100\n",
      "8/8 [==============================] - 1s 83ms/step - loss: 2.3978 - accuracy: 0.0929 - val_loss: 2.3996 - val_accuracy: 0.0727\n",
      "Epoch 42/100\n",
      "8/8 [==============================] - 1s 80ms/step - loss: 2.3978 - accuracy: 0.0929 - val_loss: 2.3997 - val_accuracy: 0.0727\n",
      "Epoch 43/100\n",
      "8/8 [==============================] - 1s 81ms/step - loss: 2.3978 - accuracy: 0.0929 - val_loss: 2.3997 - val_accuracy: 0.0727\n",
      "Epoch 44/100\n",
      "8/8 [==============================] - 1s 80ms/step - loss: 2.3978 - accuracy: 0.0929 - val_loss: 2.3997 - val_accuracy: 0.0727\n",
      "Epoch 45/100\n",
      "8/8 [==============================] - 1s 82ms/step - loss: 2.3978 - accuracy: 0.0929 - val_loss: 2.3997 - val_accuracy: 0.0727\n",
      "Epoch 46/100\n",
      "8/8 [==============================] - 1s 83ms/step - loss: 2.3978 - accuracy: 0.0929 - val_loss: 2.3997 - val_accuracy: 0.0727\n",
      "Epoch 47/100\n",
      "8/8 [==============================] - 1s 82ms/step - loss: 2.3978 - accuracy: 0.0891 - val_loss: 2.3997 - val_accuracy: 0.0773\n",
      "Epoch 48/100\n",
      "8/8 [==============================] - 1s 80ms/step - loss: 2.3978 - accuracy: 0.0970 - val_loss: 2.3997 - val_accuracy: 0.0727\n",
      "Epoch 49/100\n",
      "8/8 [==============================] - 1s 80ms/step - loss: 2.3978 - accuracy: 0.0929 - val_loss: 2.3997 - val_accuracy: 0.0727\n",
      "Epoch 50/100\n",
      "8/8 [==============================] - 1s 82ms/step - loss: 2.3978 - accuracy: 0.0929 - val_loss: 2.3997 - val_accuracy: 0.0727\n",
      "Epoch 51/100\n",
      "8/8 [==============================] - 1s 81ms/step - loss: 2.3978 - accuracy: 0.0929 - val_loss: 2.3997 - val_accuracy: 0.0727\n",
      "Epoch 52/100\n",
      "8/8 [==============================] - 1s 82ms/step - loss: 2.3978 - accuracy: 0.0929 - val_loss: 2.3997 - val_accuracy: 0.0727\n",
      "Epoch 53/100\n",
      "8/8 [==============================] - 1s 81ms/step - loss: 2.3978 - accuracy: 0.0929 - val_loss: 2.3997 - val_accuracy: 0.0727\n",
      "Epoch 54/100\n",
      "8/8 [==============================] - 1s 82ms/step - loss: 2.3978 - accuracy: 0.0929 - val_loss: 2.3996 - val_accuracy: 0.0727\n",
      "Epoch 55/100\n",
      "8/8 [==============================] - 1s 82ms/step - loss: 2.3978 - accuracy: 0.0929 - val_loss: 2.3997 - val_accuracy: 0.0727\n",
      "Epoch 56/100\n",
      "8/8 [==============================] - 1s 81ms/step - loss: 2.3978 - accuracy: 0.0929 - val_loss: 2.3997 - val_accuracy: 0.0727\n",
      "Epoch 57/100\n",
      "8/8 [==============================] - 1s 82ms/step - loss: 2.3978 - accuracy: 0.0929 - val_loss: 2.3996 - val_accuracy: 0.0727\n",
      "Epoch 58/100\n",
      "8/8 [==============================] - 1s 84ms/step - loss: 2.3978 - accuracy: 0.0929 - val_loss: 2.3997 - val_accuracy: 0.0727\n",
      "Epoch 59/100\n",
      "8/8 [==============================] - 1s 81ms/step - loss: 2.3978 - accuracy: 0.0929 - val_loss: 2.3997 - val_accuracy: 0.0727\n",
      "Epoch 60/100\n",
      "8/8 [==============================] - 1s 81ms/step - loss: 2.3978 - accuracy: 0.0929 - val_loss: 2.3997 - val_accuracy: 0.0727\n",
      "Epoch 61/100\n",
      "8/8 [==============================] - 1s 80ms/step - loss: 2.3978 - accuracy: 0.0929 - val_loss: 2.3996 - val_accuracy: 0.0727\n",
      "Epoch 62/100\n",
      "8/8 [==============================] - 1s 81ms/step - loss: 2.3978 - accuracy: 0.0929 - val_loss: 2.3997 - val_accuracy: 0.0727\n",
      "Epoch 63/100\n",
      "8/8 [==============================] - 1s 80ms/step - loss: 2.3978 - accuracy: 0.0929 - val_loss: 2.3997 - val_accuracy: 0.0727\n",
      "Epoch 64/100\n",
      "8/8 [==============================] - 1s 82ms/step - loss: 2.3978 - accuracy: 0.0929 - val_loss: 2.3997 - val_accuracy: 0.0727\n",
      "Epoch 65/100\n",
      "8/8 [==============================] - 1s 81ms/step - loss: 2.3978 - accuracy: 0.0929 - val_loss: 2.3997 - val_accuracy: 0.0727\n",
      "Epoch 66/100\n",
      "8/8 [==============================] - 1s 81ms/step - loss: 2.3978 - accuracy: 0.0929 - val_loss: 2.3997 - val_accuracy: 0.0727\n",
      "Epoch 67/100\n",
      "8/8 [==============================] - 1s 81ms/step - loss: 2.3978 - accuracy: 0.0929 - val_loss: 2.3996 - val_accuracy: 0.0727\n",
      "Epoch 68/100\n",
      "8/8 [==============================] - 1s 82ms/step - loss: 2.3978 - accuracy: 0.0929 - val_loss: 2.3997 - val_accuracy: 0.0727\n",
      "Epoch 69/100\n",
      "8/8 [==============================] - 1s 81ms/step - loss: 2.3978 - accuracy: 0.0929 - val_loss: 2.3997 - val_accuracy: 0.0727\n",
      "Epoch 70/100\n",
      "8/8 [==============================] - 1s 83ms/step - loss: 2.3978 - accuracy: 0.0929 - val_loss: 2.3998 - val_accuracy: 0.0727\n",
      "Epoch 71/100\n",
      "8/8 [==============================] - 1s 82ms/step - loss: 2.3978 - accuracy: 0.0929 - val_loss: 2.3998 - val_accuracy: 0.0727\n",
      "Epoch 72/100\n",
      "8/8 [==============================] - 1s 82ms/step - loss: 2.3978 - accuracy: 0.0929 - val_loss: 2.3997 - val_accuracy: 0.0727\n",
      "Epoch 73/100\n",
      "8/8 [==============================] - 1s 80ms/step - loss: 2.3978 - accuracy: 0.0929 - val_loss: 2.3998 - val_accuracy: 0.0727\n",
      "Epoch 74/100\n",
      "8/8 [==============================] - 1s 84ms/step - loss: 2.3978 - accuracy: 0.0929 - val_loss: 2.3997 - val_accuracy: 0.0727\n",
      "Epoch 75/100\n",
      "8/8 [==============================] - 1s 82ms/step - loss: 2.3978 - accuracy: 0.0929 - val_loss: 2.3997 - val_accuracy: 0.0727\n",
      "Epoch 76/100\n",
      "8/8 [==============================] - 1s 82ms/step - loss: 2.3978 - accuracy: 0.0929 - val_loss: 2.3997 - val_accuracy: 0.0727\n",
      "Epoch 77/100\n",
      "8/8 [==============================] - 1s 85ms/step - loss: 2.3978 - accuracy: 0.0929 - val_loss: 2.3997 - val_accuracy: 0.0727\n",
      "Epoch 78/100\n",
      "8/8 [==============================] - 1s 83ms/step - loss: 2.3978 - accuracy: 0.0929 - val_loss: 2.3997 - val_accuracy: 0.0727\n",
      "Epoch 79/100\n",
      "8/8 [==============================] - 1s 81ms/step - loss: 2.3978 - accuracy: 0.0929 - val_loss: 2.3996 - val_accuracy: 0.0727\n",
      "Epoch 80/100\n",
      "8/8 [==============================] - 1s 80ms/step - loss: 2.3978 - accuracy: 0.0929 - val_loss: 2.3997 - val_accuracy: 0.0727\n",
      "Epoch 81/100\n",
      "8/8 [==============================] - 1s 81ms/step - loss: 2.3978 - accuracy: 0.0929 - val_loss: 2.3997 - val_accuracy: 0.0727\n",
      "Epoch 82/100\n",
      "8/8 [==============================] - 1s 81ms/step - loss: 2.3978 - accuracy: 0.0929 - val_loss: 2.3998 - val_accuracy: 0.0727\n",
      "Epoch 83/100\n",
      "8/8 [==============================] - 1s 80ms/step - loss: 2.3978 - accuracy: 0.0929 - val_loss: 2.3998 - val_accuracy: 0.0727\n",
      "Epoch 84/100\n",
      "8/8 [==============================] - 1s 82ms/step - loss: 2.3978 - accuracy: 0.0929 - val_loss: 2.3997 - val_accuracy: 0.0727\n",
      "Epoch 85/100\n",
      "8/8 [==============================] - 1s 83ms/step - loss: 2.3978 - accuracy: 0.0929 - val_loss: 2.3997 - val_accuracy: 0.0727\n",
      "Epoch 86/100\n",
      "8/8 [==============================] - 1s 82ms/step - loss: 2.3979 - accuracy: 0.0929 - val_loss: 2.3997 - val_accuracy: 0.0727\n",
      "Epoch 87/100\n",
      "8/8 [==============================] - 1s 82ms/step - loss: 2.3978 - accuracy: 0.0929 - val_loss: 2.3997 - val_accuracy: 0.0727\n",
      "Epoch 88/100\n",
      "8/8 [==============================] - 1s 82ms/step - loss: 2.3978 - accuracy: 0.0929 - val_loss: 2.3997 - val_accuracy: 0.0727\n",
      "Epoch 89/100\n",
      "8/8 [==============================] - 1s 83ms/step - loss: 2.3978 - accuracy: 0.0929 - val_loss: 2.3997 - val_accuracy: 0.0727\n",
      "Epoch 90/100\n",
      "8/8 [==============================] - 1s 82ms/step - loss: 2.3978 - accuracy: 0.0929 - val_loss: 2.3997 - val_accuracy: 0.0727\n",
      "Epoch 91/100\n",
      "8/8 [==============================] - 1s 83ms/step - loss: 2.3978 - accuracy: 0.0929 - val_loss: 2.3997 - val_accuracy: 0.0727\n",
      "Epoch 92/100\n",
      "8/8 [==============================] - 1s 81ms/step - loss: 2.3978 - accuracy: 0.0929 - val_loss: 2.3997 - val_accuracy: 0.0727\n",
      "Epoch 93/100\n",
      "8/8 [==============================] - 1s 84ms/step - loss: 2.3978 - accuracy: 0.0929 - val_loss: 2.3997 - val_accuracy: 0.0727\n",
      "Epoch 94/100\n",
      "8/8 [==============================] - 1s 81ms/step - loss: 2.3978 - accuracy: 0.0929 - val_loss: 2.3997 - val_accuracy: 0.0727\n",
      "Epoch 95/100\n",
      "8/8 [==============================] - 1s 82ms/step - loss: 2.3978 - accuracy: 0.0929 - val_loss: 2.3997 - val_accuracy: 0.0727\n",
      "Epoch 96/100\n",
      "8/8 [==============================] - 1s 83ms/step - loss: 2.3978 - accuracy: 0.0929 - val_loss: 2.3998 - val_accuracy: 0.0727\n",
      "Epoch 97/100\n",
      "8/8 [==============================] - 1s 82ms/step - loss: 2.3978 - accuracy: 0.0929 - val_loss: 2.3999 - val_accuracy: 0.0727\n",
      "Epoch 98/100\n",
      "8/8 [==============================] - 1s 82ms/step - loss: 2.3978 - accuracy: 0.0929 - val_loss: 2.3998 - val_accuracy: 0.0727\n",
      "Epoch 99/100\n",
      "8/8 [==============================] - 1s 80ms/step - loss: 2.3978 - accuracy: 0.0929 - val_loss: 2.3998 - val_accuracy: 0.0727\n",
      "Epoch 100/100\n",
      "8/8 [==============================] - 1s 83ms/step - loss: 2.3978 - accuracy: 0.0929 - val_loss: 2.3999 - val_accuracy: 0.0727\n",
      "35/35 [==============================] - 0s 5ms/step - loss: 2.3980 - accuracy: 0.0909\n"
     ]
    },
    {
     "data": {
      "image/png": "[encoded data removed]",
      "text/plain": [
       "<Figure size 504x432 with 2 Axes>"
      ]
     },
     "metadata": {
      "needs_background": "light"
     },
     "output_type": "display_data"
    },
    {
     "name": "stdout",
     "output_type": "stream",
     "text": [
      "Precision:0.00826\n",
      "Recall:0.0909\n",
      "F1_score:0.0152\n",
      "              precision    recall  f1-score   support\n",
      "\n",
      "           0       0.00      0.00      0.00       100\n",
      "           1       0.00      0.00      0.00       100\n",
      "           2       0.00      0.00      0.00       100\n",
      "           3       0.00      0.00      0.00       100\n",
      "           4       0.00      0.00      0.00       100\n",
      "           5       0.00      0.00      0.00       100\n",
      "           6       0.09      1.00      0.17       100\n",
      "           7       0.00      0.00      0.00       100\n",
      "           8       0.00      0.00      0.00       100\n",
      "           9       0.00      0.00      0.00       100\n",
      "          10       0.00      0.00      0.00       100\n",
      "\n",
      "    accuracy                           0.09      1100\n",
      "   macro avg       0.01      0.09      0.02      1100\n",
      "weighted avg       0.01      0.09      0.02      1100\n",
      "\n",
      "Epoch 1/100\n",
      "8/8 [==============================] - 1s 98ms/step - loss: 2.3989 - accuracy: 0.0912 - val_loss: 2.3980 - val_accuracy: 0.0909\n",
      "Epoch 2/100\n",
      "8/8 [==============================] - 1s 80ms/step - loss: 2.3979 - accuracy: 0.0848 - val_loss: 2.3981 - val_accuracy: 0.0682\n",
      "Epoch 3/100\n",
      "8/8 [==============================] - 1s 82ms/step - loss: 2.3979 - accuracy: 0.0934 - val_loss: 2.3983 - val_accuracy: 0.0682\n",
      "Epoch 4/100\n",
      "8/8 [==============================] - 1s 81ms/step - loss: 2.3979 - accuracy: 0.0934 - val_loss: 2.3984 - val_accuracy: 0.0682\n",
      "Epoch 5/100\n",
      "8/8 [==============================] - 1s 81ms/step - loss: 2.3979 - accuracy: 0.0934 - val_loss: 2.3985 - val_accuracy: 0.0682\n",
      "Epoch 6/100\n",
      "8/8 [==============================] - 1s 81ms/step - loss: 2.3979 - accuracy: 0.0934 - val_loss: 2.3985 - val_accuracy: 0.0682\n",
      "Epoch 7/100\n",
      "8/8 [==============================] - 1s 83ms/step - loss: 2.3979 - accuracy: 0.0934 - val_loss: 2.3986 - val_accuracy: 0.0682\n",
      "Epoch 8/100\n",
      "8/8 [==============================] - 1s 80ms/step - loss: 2.3978 - accuracy: 0.0934 - val_loss: 2.3987 - val_accuracy: 0.0682\n",
      "Epoch 9/100\n",
      "8/8 [==============================] - 1s 80ms/step - loss: 2.3978 - accuracy: 0.0934 - val_loss: 2.3988 - val_accuracy: 0.0682\n",
      "Epoch 10/100\n",
      "8/8 [==============================] - 1s 82ms/step - loss: 2.3978 - accuracy: 0.0934 - val_loss: 2.3988 - val_accuracy: 0.0682\n",
      "Epoch 11/100\n",
      "8/8 [==============================] - 1s 80ms/step - loss: 2.3978 - accuracy: 0.0934 - val_loss: 2.3989 - val_accuracy: 0.0682\n",
      "Epoch 12/100\n",
      "8/8 [==============================] - 1s 80ms/step - loss: 2.3978 - accuracy: 0.0934 - val_loss: 2.3990 - val_accuracy: 0.0682\n",
      "Epoch 13/100\n",
      "8/8 [==============================] - 1s 82ms/step - loss: 2.3978 - accuracy: 0.0934 - val_loss: 2.3990 - val_accuracy: 0.0682\n",
      "Epoch 14/100\n",
      "8/8 [==============================] - 1s 81ms/step - loss: 2.3978 - accuracy: 0.0934 - val_loss: 2.3990 - val_accuracy: 0.0682\n",
      "Epoch 15/100\n",
      "8/8 [==============================] - 1s 82ms/step - loss: 2.3978 - accuracy: 0.0934 - val_loss: 2.3991 - val_accuracy: 0.0682\n",
      "Epoch 16/100\n",
      "8/8 [==============================] - 1s 83ms/step - loss: 2.3978 - accuracy: 0.0934 - val_loss: 2.3991 - val_accuracy: 0.0682\n",
      "Epoch 17/100\n",
      "8/8 [==============================] - 1s 82ms/step - loss: 2.3978 - accuracy: 0.0934 - val_loss: 2.3992 - val_accuracy: 0.0682\n",
      "Epoch 18/100\n",
      "8/8 [==============================] - 1s 82ms/step - loss: 2.3978 - accuracy: 0.0934 - val_loss: 2.3992 - val_accuracy: 0.0682\n",
      "Epoch 19/100\n",
      "8/8 [==============================] - 1s 83ms/step - loss: 2.3978 - accuracy: 0.0934 - val_loss: 2.3993 - val_accuracy: 0.0682\n",
      "Epoch 20/100\n",
      "8/8 [==============================] - 1s 81ms/step - loss: 2.3978 - accuracy: 0.0934 - val_loss: 2.3993 - val_accuracy: 0.0682\n",
      "Epoch 21/100\n",
      "8/8 [==============================] - 1s 81ms/step - loss: 2.3978 - accuracy: 0.0934 - val_loss: 2.3994 - val_accuracy: 0.0682\n",
      "Epoch 22/100\n",
      "8/8 [==============================] - 1s 82ms/step - loss: 2.3978 - accuracy: 0.0934 - val_loss: 2.3994 - val_accuracy: 0.0682\n",
      "Epoch 23/100\n",
      "8/8 [==============================] - 1s 81ms/step - loss: 2.3978 - accuracy: 0.0934 - val_loss: 2.3994 - val_accuracy: 0.0682\n",
      "Epoch 24/100\n",
      "8/8 [==============================] - 1s 80ms/step - loss: 2.3978 - accuracy: 0.0934 - val_loss: 2.3994 - val_accuracy: 0.0682\n",
      "Epoch 25/100\n",
      "8/8 [==============================] - 1s 81ms/step - loss: 2.3978 - accuracy: 0.0934 - val_loss: 2.3995 - val_accuracy: 0.0682\n",
      "Epoch 26/100\n",
      "8/8 [==============================] - 1s 81ms/step - loss: 2.3978 - accuracy: 0.0934 - val_loss: 2.3995 - val_accuracy: 0.0682\n",
      "Epoch 27/100\n",
      "8/8 [==============================] - 1s 82ms/step - loss: 2.3978 - accuracy: 0.0934 - val_loss: 2.3995 - val_accuracy: 0.0682\n",
      "Epoch 28/100\n",
      "8/8 [==============================] - 1s 83ms/step - loss: 2.3978 - accuracy: 0.0934 - val_loss: 2.3995 - val_accuracy: 0.0682\n",
      "Epoch 29/100\n",
      "8/8 [==============================] - 1s 83ms/step - loss: 2.3978 - accuracy: 0.0934 - val_loss: 2.3996 - val_accuracy: 0.0682\n",
      "Epoch 30/100\n",
      "8/8 [==============================] - 1s 80ms/step - loss: 2.3978 - accuracy: 0.0934 - val_loss: 2.3996 - val_accuracy: 0.0682\n",
      "Epoch 31/100\n",
      "8/8 [==============================] - 1s 84ms/step - loss: 2.3978 - accuracy: 0.0934 - val_loss: 2.3996 - val_accuracy: 0.0682\n",
      "Epoch 32/100\n",
      "8/8 [==============================] - 1s 82ms/step - loss: 2.3978 - accuracy: 0.0934 - val_loss: 2.3996 - val_accuracy: 0.0682\n",
      "Epoch 33/100\n",
      "8/8 [==============================] - 1s 81ms/step - loss: 2.3978 - accuracy: 0.0934 - val_loss: 2.3996 - val_accuracy: 0.0682\n",
      "Epoch 34/100\n",
      "8/8 [==============================] - 1s 83ms/step - loss: 2.3978 - accuracy: 0.0934 - val_loss: 2.3996 - val_accuracy: 0.0682\n",
      "Epoch 35/100\n",
      "8/8 [==============================] - 1s 81ms/step - loss: 2.3978 - accuracy: 0.0934 - val_loss: 2.3997 - val_accuracy: 0.0682\n",
      "Epoch 36/100\n",
      "8/8 [==============================] - 1s 81ms/step - loss: 2.3978 - accuracy: 0.0934 - val_loss: 2.3996 - val_accuracy: 0.0682\n",
      "Epoch 37/100\n",
      "8/8 [==============================] - 1s 84ms/step - loss: 2.3978 - accuracy: 0.0934 - val_loss: 2.3997 - val_accuracy: 0.0682\n",
      "Epoch 38/100\n",
      "8/8 [==============================] - 1s 80ms/step - loss: 2.3978 - accuracy: 0.0934 - val_loss: 2.3997 - val_accuracy: 0.0682\n",
      "Epoch 39/100\n",
      "8/8 [==============================] - 1s 80ms/step - loss: 2.3978 - accuracy: 0.0934 - val_loss: 2.3997 - val_accuracy: 0.0682\n",
      "Epoch 40/100\n",
      "8/8 [==============================] - 1s 80ms/step - loss: 2.3978 - accuracy: 0.0934 - val_loss: 2.3997 - val_accuracy: 0.0682\n",
      "Epoch 41/100\n",
      "8/8 [==============================] - 1s 81ms/step - loss: 2.3978 - accuracy: 0.0934 - val_loss: 2.3997 - val_accuracy: 0.0682\n",
      "Epoch 42/100\n",
      "8/8 [==============================] - 1s 82ms/step - loss: 2.3978 - accuracy: 0.0934 - val_loss: 2.3997 - val_accuracy: 0.0682\n",
      "Epoch 43/100\n",
      "8/8 [==============================] - 1s 81ms/step - loss: 2.3978 - accuracy: 0.0934 - val_loss: 2.3997 - val_accuracy: 0.0682\n",
      "Epoch 44/100\n",
      "8/8 [==============================] - 1s 81ms/step - loss: 2.3978 - accuracy: 0.0934 - val_loss: 2.3998 - val_accuracy: 0.0682\n",
      "Epoch 45/100\n",
      "8/8 [==============================] - 1s 83ms/step - loss: 2.3978 - accuracy: 0.0934 - val_loss: 2.3997 - val_accuracy: 0.0682\n",
      "Epoch 46/100\n",
      "8/8 [==============================] - 1s 82ms/step - loss: 2.3978 - accuracy: 0.0934 - val_loss: 2.3997 - val_accuracy: 0.0682\n",
      "Epoch 47/100\n",
      "8/8 [==============================] - 1s 82ms/step - loss: 2.3978 - accuracy: 0.0934 - val_loss: 2.3998 - val_accuracy: 0.0682\n",
      "Epoch 48/100\n",
      "8/8 [==============================] - 1s 81ms/step - loss: 2.3978 - accuracy: 0.0934 - val_loss: 2.3997 - val_accuracy: 0.0682\n",
      "Epoch 49/100\n",
      "8/8 [==============================] - 1s 82ms/step - loss: 2.3978 - accuracy: 0.0934 - val_loss: 2.3998 - val_accuracy: 0.0682\n",
      "Epoch 50/100\n",
      "8/8 [==============================] - 1s 80ms/step - loss: 2.3978 - accuracy: 0.0934 - val_loss: 2.3998 - val_accuracy: 0.0682\n",
      "Epoch 51/100\n",
      "8/8 [==============================] - 1s 82ms/step - loss: 2.3978 - accuracy: 0.0934 - val_loss: 2.3998 - val_accuracy: 0.0682\n",
      "Epoch 52/100\n",
      "8/8 [==============================] - 1s 81ms/step - loss: 2.3978 - accuracy: 0.0934 - val_loss: 2.3997 - val_accuracy: 0.0682\n",
      "Epoch 53/100\n",
      "8/8 [==============================] - 1s 83ms/step - loss: 2.3978 - accuracy: 0.0934 - val_loss: 2.3997 - val_accuracy: 0.0682\n",
      "Epoch 54/100\n",
      "8/8 [==============================] - 1s 83ms/step - loss: 2.3978 - accuracy: 0.0934 - val_loss: 2.3998 - val_accuracy: 0.0682\n",
      "Epoch 55/100\n",
      "8/8 [==============================] - 1s 80ms/step - loss: 2.3978 - accuracy: 0.0934 - val_loss: 2.3998 - val_accuracy: 0.0682\n",
      "Epoch 56/100\n",
      "8/8 [==============================] - 1s 80ms/step - loss: 2.3978 - accuracy: 0.0934 - val_loss: 2.3998 - val_accuracy: 0.0682\n",
      "Epoch 57/100\n",
      "8/8 [==============================] - 1s 82ms/step - loss: 2.3978 - accuracy: 0.0934 - val_loss: 2.3998 - val_accuracy: 0.0682\n",
      "Epoch 58/100\n",
      "8/8 [==============================] - 1s 82ms/step - loss: 2.3978 - accuracy: 0.0934 - val_loss: 2.3998 - val_accuracy: 0.0682\n",
      "Epoch 59/100\n",
      "8/8 [==============================] - 1s 81ms/step - loss: 2.3978 - accuracy: 0.0934 - val_loss: 2.3998 - val_accuracy: 0.0682\n",
      "Epoch 60/100\n",
      "8/8 [==============================] - 1s 82ms/step - loss: 2.3978 - accuracy: 0.0934 - val_loss: 2.3997 - val_accuracy: 0.0682\n",
      "Epoch 61/100\n",
      "8/8 [==============================] - 1s 84ms/step - loss: 2.3978 - accuracy: 0.0934 - val_loss: 2.3997 - val_accuracy: 0.0682\n",
      "Epoch 62/100\n",
      "8/8 [==============================] - 1s 81ms/step - loss: 2.3978 - accuracy: 0.0934 - val_loss: 2.3998 - val_accuracy: 0.0682\n",
      "Epoch 63/100\n",
      "8/8 [==============================] - 1s 82ms/step - loss: 2.3978 - accuracy: 0.0934 - val_loss: 2.3998 - val_accuracy: 0.0682\n",
      "Epoch 64/100\n",
      "8/8 [==============================] - 1s 81ms/step - loss: 2.3978 - accuracy: 0.0934 - val_loss: 2.3998 - val_accuracy: 0.0682\n",
      "Epoch 65/100\n",
      "8/8 [==============================] - 1s 84ms/step - loss: 2.3978 - accuracy: 0.0934 - val_loss: 2.3998 - val_accuracy: 0.0682\n",
      "Epoch 66/100\n",
      "8/8 [==============================] - 1s 82ms/step - loss: 2.3978 - accuracy: 0.0934 - val_loss: 2.3998 - val_accuracy: 0.0682\n",
      "Epoch 67/100\n",
      "8/8 [==============================] - 1s 82ms/step - loss: 2.3978 - accuracy: 0.0934 - val_loss: 2.3998 - val_accuracy: 0.0682\n",
      "Epoch 68/100\n",
      "8/8 [==============================] - 1s 80ms/step - loss: 2.3978 - accuracy: 0.0934 - val_loss: 2.3998 - val_accuracy: 0.0682\n",
      "Epoch 69/100\n",
      "8/8 [==============================] - 1s 81ms/step - loss: 2.3978 - accuracy: 0.0934 - val_loss: 2.3997 - val_accuracy: 0.0682\n",
      "Epoch 70/100\n",
      "8/8 [==============================] - 1s 82ms/step - loss: 2.3978 - accuracy: 0.0934 - val_loss: 2.3998 - val_accuracy: 0.0682\n",
      "Epoch 71/100\n",
      "8/8 [==============================] - 1s 81ms/step - loss: 2.3978 - accuracy: 0.0934 - val_loss: 2.3998 - val_accuracy: 0.0682\n",
      "Epoch 72/100\n",
      "8/8 [==============================] - 1s 83ms/step - loss: 2.3978 - accuracy: 0.0934 - val_loss: 2.3998 - val_accuracy: 0.0682\n",
      "Epoch 73/100\n",
      "8/8 [==============================] - 1s 81ms/step - loss: 2.3978 - accuracy: 0.0934 - val_loss: 2.3998 - val_accuracy: 0.0682\n",
      "Epoch 74/100\n",
      "8/8 [==============================] - 1s 82ms/step - loss: 2.3978 - accuracy: 0.0934 - val_loss: 2.3998 - val_accuracy: 0.0682\n",
      "Epoch 75/100\n",
      "8/8 [==============================] - 1s 81ms/step - loss: 2.3978 - accuracy: 0.0934 - val_loss: 2.3998 - val_accuracy: 0.0682\n",
      "Epoch 76/100\n",
      "8/8 [==============================] - 1s 80ms/step - loss: 2.3978 - accuracy: 0.0934 - val_loss: 2.3997 - val_accuracy: 0.0682\n",
      "Epoch 77/100\n",
      "8/8 [==============================] - 1s 81ms/step - loss: 2.3978 - accuracy: 0.0934 - val_loss: 2.3998 - val_accuracy: 0.0682\n",
      "Epoch 78/100\n",
      "8/8 [==============================] - 1s 81ms/step - loss: 2.3978 - accuracy: 0.0934 - val_loss: 2.3998 - val_accuracy: 0.0682\n",
      "Epoch 79/100\n",
      "8/8 [==============================] - 1s 83ms/step - loss: 2.3978 - accuracy: 0.0934 - val_loss: 2.3998 - val_accuracy: 0.0682\n",
      "Epoch 80/100\n",
      "8/8 [==============================] - 1s 84ms/step - loss: 2.3978 - accuracy: 0.0934 - val_loss: 2.3998 - val_accuracy: 0.0682\n",
      "Epoch 81/100\n",
      "8/8 [==============================] - 1s 80ms/step - loss: 2.3978 - accuracy: 0.0934 - val_loss: 2.3998 - val_accuracy: 0.0682\n",
      "Epoch 82/100\n",
      "8/8 [==============================] - 1s 82ms/step - loss: 2.3978 - accuracy: 0.0934 - val_loss: 2.3998 - val_accuracy: 0.0682\n",
      "Epoch 83/100\n",
      "8/8 [==============================] - 1s 84ms/step - loss: 2.3978 - accuracy: 0.0934 - val_loss: 2.3998 - val_accuracy: 0.0682\n",
      "Epoch 84/100\n",
      "8/8 [==============================] - 1s 82ms/step - loss: 2.3978 - accuracy: 0.0934 - val_loss: 2.3998 - val_accuracy: 0.0682\n",
      "Epoch 85/100\n",
      "8/8 [==============================] - 1s 80ms/step - loss: 2.3978 - accuracy: 0.0934 - val_loss: 2.3998 - val_accuracy: 0.0682\n",
      "Epoch 86/100\n",
      "8/8 [==============================] - 1s 83ms/step - loss: 2.3978 - accuracy: 0.0934 - val_loss: 2.3997 - val_accuracy: 0.0682\n",
      "Epoch 87/100\n",
      "8/8 [==============================] - 1s 82ms/step - loss: 2.3978 - accuracy: 0.0934 - val_loss: 2.3998 - val_accuracy: 0.0682\n",
      "Epoch 88/100\n",
      "8/8 [==============================] - 1s 81ms/step - loss: 2.3978 - accuracy: 0.0934 - val_loss: 2.3998 - val_accuracy: 0.0682\n",
      "Epoch 89/100\n",
      "8/8 [==============================] - 1s 81ms/step - loss: 2.3978 - accuracy: 0.0934 - val_loss: 2.3998 - val_accuracy: 0.0682\n",
      "Epoch 90/100\n",
      "8/8 [==============================] - 1s 81ms/step - loss: 2.3978 - accuracy: 0.0934 - val_loss: 2.3998 - val_accuracy: 0.0682\n",
      "Epoch 91/100\n",
      "8/8 [==============================] - 1s 82ms/step - loss: 2.3978 - accuracy: 0.0934 - val_loss: 2.3998 - val_accuracy: 0.0682\n",
      "Epoch 92/100\n",
      "8/8 [==============================] - 1s 81ms/step - loss: 2.3978 - accuracy: 0.0934 - val_loss: 2.3998 - val_accuracy: 0.0682\n",
      "Epoch 93/100\n",
      "8/8 [==============================] - 1s 80ms/step - loss: 2.3978 - accuracy: 0.0934 - val_loss: 2.3998 - val_accuracy: 0.0682\n",
      "Epoch 94/100\n",
      "8/8 [==============================] - 1s 81ms/step - loss: 2.3978 - accuracy: 0.0934 - val_loss: 2.3998 - val_accuracy: 0.0682\n",
      "Epoch 95/100\n",
      "8/8 [==============================] - 1s 82ms/step - loss: 2.3978 - accuracy: 0.0934 - val_loss: 2.3998 - val_accuracy: 0.0682\n",
      "Epoch 96/100\n",
      "8/8 [==============================] - 1s 82ms/step - loss: 2.3978 - accuracy: 0.0934 - val_loss: 2.3998 - val_accuracy: 0.0682\n",
      "Epoch 97/100\n",
      "8/8 [==============================] - 1s 80ms/step - loss: 2.3978 - accuracy: 0.0934 - val_loss: 2.3997 - val_accuracy: 0.0682\n",
      "Epoch 98/100\n",
      "8/8 [==============================] - 1s 81ms/step - loss: 2.3978 - accuracy: 0.0934 - val_loss: 2.3997 - val_accuracy: 0.0682\n",
      "Epoch 99/100\n",
      "8/8 [==============================] - 1s 82ms/step - loss: 2.3978 - accuracy: 0.0934 - val_loss: 2.3997 - val_accuracy: 0.0682\n",
      "Epoch 100/100\n",
      "8/8 [==============================] - 1s 83ms/step - loss: 2.3978 - accuracy: 0.0934 - val_loss: 2.3997 - val_accuracy: 0.0682\n",
      "35/35 [==============================] - 0s 6ms/step - loss: 2.3980 - accuracy: 0.0909\n"
     ]
    },
    {
     "data": {
      "image/png": "[encoded data removed]",
      "text/plain": [
       "<Figure size 504x432 with 2 Axes>"
      ]
     },
     "metadata": {
      "needs_background": "light"
     },
     "output_type": "display_data"
    },
    {
     "name": "stdout",
     "output_type": "stream",
     "text": [
      "Precision:0.00826\n",
      "Recall:0.0909\n",
      "F1_score:0.0152\n",
      "              precision    recall  f1-score   support\n",
      "\n",
      "           0       0.00      0.00      0.00       100\n",
      "           1       0.00      0.00      0.00       100\n",
      "           2       0.00      0.00      0.00       100\n",
      "           3       0.00      0.00      0.00       100\n",
      "           4       0.00      0.00      0.00       100\n",
      "           5       0.00      0.00      0.00       100\n",
      "           6       0.00      0.00      0.00       100\n",
      "           7       0.00      0.00      0.00       100\n",
      "           8       0.09      1.00      0.17       100\n",
      "           9       0.00      0.00      0.00       100\n",
      "          10       0.00      0.00      0.00       100\n",
      "\n",
      "    accuracy                           0.09      1100\n",
      "   macro avg       0.01      0.09      0.02      1100\n",
      "weighted avg       0.01      0.09      0.02      1100\n",
      "\n",
      "\n",
      "K-fold cross validation Accuracy: ['0.0909', '0.0909', '0.0909', '0.0909', '0.0909']\n"
     ]
    }
   ],
   "source": [
    "# 주어진 데이터를 학습 데이터와 테스트 데이터로 분리\n",
    "skf = StratifiedKFold(n_splits=5, random_state=42, shuffle=True)\n",
    "\n",
    "accuracy = []\n",
    "\n",
    "for train, validation in skf.split(x,y):\n",
    "    model = keras.Sequential()\n",
    "    model.add(Conv1D(16, 9, activation='relu', input_shape=(len(x[0]),1)))\n",
    "    model.add(Conv1D(16, 9, activation='relu'))\n",
    "    model.add(Conv1D(32, 9, activation='relu'))\n",
    "    model.add(Conv1D(32, 9, activation='relu'))\n",
    "    model.add(Conv1D(32, 9, activation='relu'))\n",
    "    model.add(Conv1D(32, 9, activation='relu'))\n",
    "    model.add(Conv1D(32, 9, activation='relu'))\n",
    "    model.add(Flatten())\n",
    "    model.add(Dense(10, activation='relu'))\n",
    "    model.add(Dense(10, activation='relu'))\n",
    "    model.add(Dense(10, activation='relu'))\n",
    "    model.add(Dense(11, activation=\"softmax\"))\n",
    "    model.compile(loss='sparse_categorical_crossentropy', optimizer='adam', metrics=['accuracy'])\n",
    "  #model.summary()\n",
    "\n",
    "  # 학습 데이터를 이용해서 학습\n",
    "    hist = model.fit(x[train], y[train], epochs=100, batch_size=512, verbose=1, validation_split=0.1)  \n",
    "\n",
    "  # 테스트 데이터를 이용해서 검증\n",
    "    k_accuracy = '%.4f' % (model.evaluate(x[validation], y[validation])[1])\n",
    "    accuracy.append(k_accuracy)\n",
    "  \n",
    "  #confusion matrix\n",
    "    y_ = model.predict(x[validation])\n",
    "    predicted = np.argmax(y_, axis = -1)\n",
    "\n",
    "    classes = ['class1', 'class2', 'class3', 'class4', 'class5', 'class6', 'class7','class8', 'class9', 'class10','class11' ]\n",
    "    conf_mat = confusion_matrix(y[validation], predicted)\n",
    "    fig, ax = plt.subplots(figsize=(7,6))\n",
    "    plt.setp(ax.get_xticklabels(), rotation=45, ha=\"right\", rotation_mode=\"anchor\")\n",
    "    plt.title('Confusion matrix')\n",
    "    plt.ylabel('Actual label')\n",
    "    plt.xlabel('Predicted label')\n",
    "    sns.heatmap(conf_mat, annot=True, fmt='d', xticklabels=classes, yticklabels=classes)\n",
    "    plt.show()\n",
    "\n",
    "  #정밀도, 재현도, f1-score\n",
    "    precision = precision_score(y[validation], predicted, average='weighted')\n",
    "    recall = recall_score(y[validation], predicted, average='weighted')\n",
    "    f1 = f1_score(y[validation], predicted, average='weighted')\n",
    "\n",
    "    print('Precision:{:.3}'.format(precision))\n",
    "    print('Recall:{:.3}'.format(recall))\n",
    "    print('F1_score:{:.3}'.format(f1))\n",
    "\n",
    "  #분류 보고서\n",
    "    print(classification_report(y[validation], predicted))\n",
    "\n",
    "# 전체 검증 결과 출력\n",
    "print('\\nK-fold cross validation Accuracy: {}'.format(accuracy))"
   ]
  },
  {
   "cell_type": "code",
   "execution_count": 23,
   "metadata": {
    "colab": {
     "base_uri": "https://localhost:8080/"
    },
    "id": "PeHHHEUhiJH5",
    "outputId": "6a2da373-e7a9-4eee-9e43-93c1f902b923"
   },
   "outputs": [
    {
     "data": {
      "text/plain": [
       "['0.0909', '0.0909', '0.0909', '0.0909', '0.0909']"
      ]
     },
     "execution_count": 23,
     "metadata": {},
     "output_type": "execute_result"
    }
   ],
   "source": [
    "accuracy"
   ]
  },
  {
   "cell_type": "code",
   "execution_count": 24,
   "metadata": {
    "colab": {
     "base_uri": "https://localhost:8080/"
    },
    "id": "dx86ejQ616uZ",
    "outputId": "802bfc0c-f28c-42ce-ed88-6b911fc3d1ab"
   },
   "outputs": [
    {
     "data": {
      "text/plain": [
       "[0.0909, 0.0909, 0.0909, 0.0909, 0.0909]"
      ]
     },
     "execution_count": 24,
     "metadata": {},
     "output_type": "execute_result"
    }
   ],
   "source": [
    "acc = list(map(float, accuracy))\n",
    "acc"
   ]
  },
  {
   "cell_type": "code",
   "execution_count": 25,
   "metadata": {
    "id": "-f4pHhxY2APw"
   },
   "outputs": [
    {
     "data": {
      "text/plain": [
       "0.0909"
      ]
     },
     "execution_count": 25,
     "metadata": {},
     "output_type": "execute_result"
    }
   ],
   "source": [
    "np.mean(acc)"
   ]
  },
  {
   "cell_type": "code",
   "execution_count": null,
   "metadata": {},
   "outputs": [],
   "source": []
  }
 ],
 "metadata": {
  "accelerator": "GPU",
  "colab": {
   "collapsed_sections": [],
   "name": "★210914_1D-CNN_4000point_8736kDa_StratifiedKfold.ipynb",
   "provenance": []
  },
  "kernelspec": {
   "display_name": "Python 3 (ipykernel)",
   "language": "python",
   "name": "python3"
  },
  "language_info": {
   "codemirror_mode": {
    "name": "ipython",
    "version": 3
   },
   "file_extension": ".py",
   "mimetype": "text/x-python",
   "name": "python",
   "nbconvert_exporter": "python",
   "pygments_lexer": "ipython3",
   "version": "3.9.7"
  }
 },
 "nbformat": 4,
 "nbformat_minor": 1
}
