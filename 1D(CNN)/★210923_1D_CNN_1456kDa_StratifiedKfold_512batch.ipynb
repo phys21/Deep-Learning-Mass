{
 "cells": [
  {
   "cell_type": "markdown",
   "metadata": {
    "id": "GavgmjDytAsf"
   },
   "source": [
    "# 데이터 로딩"
   ]
  },
  {
   "cell_type": "code",
   "execution_count": 1,
   "metadata": {
    "colab": {
     "base_uri": "https://localhost:8080/"
    },
    "id": "pUWSYQ9FNt_C",
    "outputId": "46237811-4e40-413a-9b28-e21cff94e8b8"
   },
   "outputs": [],
   "source": [
    "#from google.colab import drive\n",
    "#drive.mount('/content/drive')"
   ]
  },
  {
   "cell_type": "code",
   "execution_count": 2,
   "metadata": {},
   "outputs": [],
   "source": [
    "import warnings\n",
    "warnings.filterwarnings(action='ignore')"
   ]
  },
  {
   "cell_type": "code",
   "execution_count": 3,
   "metadata": {},
   "outputs": [],
   "source": [
    "import os\n",
    "os.environ[\"CUDA_DEVICE_ORDER\"]=\"PCI_BUS_ID\"\n",
    "os.environ[\"CUDA_VISIBLE_DEVICES\"]=\"0\""
   ]
  },
  {
   "cell_type": "code",
   "execution_count": 4,
   "metadata": {},
   "outputs": [
    {
     "name": "stderr",
     "output_type": "stream",
     "text": [
      "2021-09-23 21:05:52.393440: I tensorflow/core/platform/cpu_feature_guard.cc:142] This TensorFlow binary is optimized with oneAPI Deep Neural Network Library (oneDNN) to use the following CPU instructions in performance-critical operations:  AVX2 AVX512F FMA\n",
      "To enable them in other operations, rebuild TensorFlow with the appropriate compiler flags.\n"
     ]
    },
    {
     "data": {
      "text/plain": [
       "[name: \"/device:CPU:0\"\n",
       " device_type: \"CPU\"\n",
       " memory_limit: 268435456\n",
       " locality {\n",
       " }\n",
       " incarnation: 7227687252193695941,\n",
       " name: \"/device:GPU:0\"\n",
       " device_type: \"GPU\"\n",
       " memory_limit: 23391698944\n",
       " locality {\n",
       "   bus_id: 1\n",
       "   links {\n",
       "   }\n",
       " }\n",
       " incarnation: 2720050788501562071\n",
       " physical_device_desc: \"device: 0, name: GeForce RTX 3090, pci bus id: 0000:67:00.0, compute capability: 8.6\"]"
      ]
     },
     "execution_count": 4,
     "metadata": {},
     "output_type": "execute_result"
    },
    {
     "name": "stderr",
     "output_type": "stream",
     "text": [
      "2021-09-23 21:05:52.886530: I tensorflow/core/common_runtime/gpu/gpu_device.cc:1510] Created device /device:GPU:0 with 22308 MB memory:  -> device: 0, name: GeForce RTX 3090, pci bus id: 0000:67:00.0, compute capability: 8.6\n"
     ]
    }
   ],
   "source": [
    "from tensorflow.python.client import device_lib\n",
    "device_lib.list_local_devices()"
   ]
  },
  {
   "cell_type": "code",
   "execution_count": 5,
   "metadata": {
    "id": "7tpIBpEXNpjm"
   },
   "outputs": [],
   "source": [
    "import numpy as np\n",
    "import pandas as pd\n",
    "import matplotlib.pyplot as plt"
   ]
  },
  {
   "cell_type": "code",
   "execution_count": 6,
   "metadata": {
    "colab": {
     "base_uri": "https://localhost:8080/"
    },
    "id": "EYw7FBvHs5E9",
    "outputId": "cc48b6dd-c461-48e6-f44f-81963c68fa0a",
    "scrolled": false
   },
   "outputs": [
    {
     "name": "stdout",
     "output_type": "stream",
     "text": [
      "[[26563605.75 26586823.57 26559154.41 ... 26578200.73 26568452.15\n",
      "         0.  ]\n",
      " [26563311.71 26578449.78 26604161.07 ... 26583181.8  26553689.69\n",
      "         0.  ]\n",
      " [26573384.39 26567012.87 26590611.11 ... 26567528.02 26582646.42\n",
      "         0.  ]\n",
      " ...\n",
      " [26595676.85 26564132.34 26559608.63 ... 26542331.81 26524956.42\n",
      "     50000.  ]\n",
      " [26581315.35 26601533.5  26570759.94 ... 26551103.02 26523398.07\n",
      "     50000.  ]\n",
      " [26551566.9  26577883.05 26547519.54 ... 26547884.06 26559891.5\n",
      "     50000.  ]]\n"
     ]
    }
   ],
   "source": [
    "data = pd.read_csv('210923_total_freq_with_noise_2000point_1456kDa.csv')\n",
    "df1 = data.values[:] # 문자열을 부동소수점형으로 변환한다\n",
    "print(df1)"
   ]
  },
  {
   "cell_type": "markdown",
   "metadata": {
    "id": "tZIY7CbcwW6F"
   },
   "source": [
    "# 데이터 살펴보기"
   ]
  },
  {
   "cell_type": "markdown",
   "metadata": {
    "id": "nfk1doFWnhQn"
   },
   "source": [
    "152개의 속성 값이 있고, -1 또는 1로 레이블링 되어 있다.\n",
    "\n",
    "152개 속성 값은 어떤 센서의 값을 시간을 두고 측정한 것이다."
   ]
  },
  {
   "cell_type": "code",
   "execution_count": 7,
   "metadata": {
    "colab": {
     "base_uri": "https://localhost:8080/"
    },
    "id": "smA15EaF1hmV",
    "outputId": "d90ea451-0543-43bf-d740-795fd1207c63"
   },
   "outputs": [
    {
     "name": "stdout",
     "output_type": "stream",
     "text": [
      "0           0\n",
      "1           0\n",
      "2           0\n",
      "3           0\n",
      "4           0\n",
      "        ...  \n",
      "5495    50000\n",
      "5496    50000\n",
      "5497    50000\n",
      "5498    50000\n",
      "5499    50000\n",
      "Name: target, Length: 5500, dtype: int64\n"
     ]
    }
   ],
   "source": [
    "df2_1 = data[\"target\"]\n",
    "df2 = df2_1[:]\n",
    "print(df2)"
   ]
  },
  {
   "cell_type": "code",
   "execution_count": 8,
   "metadata": {
    "colab": {
     "base_uri": "https://localhost:8080/"
    },
    "id": "ClKB2D7ZpFnL",
    "outputId": "125a2cbe-62b9-44b6-ae4a-98b068fedc2c"
   },
   "outputs": [
    {
     "name": "stdout",
     "output_type": "stream",
     "text": [
      "(array([    0,  5000, 10000, 15000, 20000, 25000, 30000, 35000, 40000,\n",
      "       45000, 50000]), array([500, 500, 500, 500, 500, 500, 500, 500, 500, 500, 500]))\n"
     ]
    }
   ],
   "source": [
    "target_count = np.unique(df2, return_counts=True)\n",
    "print(target_count)"
   ]
  },
  {
   "cell_type": "code",
   "execution_count": 9,
   "metadata": {
    "colab": {
     "base_uri": "https://localhost:8080/"
    },
    "id": "Bu3NHl9_Npjq",
    "outputId": "48d579ad-691c-4d74-d846-ffeea98d9a27"
   },
   "outputs": [
    {
     "name": "stdout",
     "output_type": "stream",
     "text": [
      "(array([    0,  5000, 10000, 15000, 20000, 25000, 30000, 35000, 40000,\n",
      "       45000, 50000]), array([500, 500, 500, 500, 500, 500, 500, 500, 500, 500, 500]))\n"
     ]
    }
   ],
   "source": [
    "target_count = np.unique(df2, return_counts=True)\n",
    "print(target_count)"
   ]
  },
  {
   "cell_type": "markdown",
   "metadata": {
    "id": "ZB0UsHjLsS1I"
   },
   "source": [
    "target값 -1, 1을 category 인덱스 0, 1로 변경"
   ]
  },
  {
   "cell_type": "code",
   "execution_count": 10,
   "metadata": {
    "colab": {
     "base_uri": "https://localhost:8080/"
    },
    "id": "C0nNKyJ4oaxo",
    "outputId": "3b9a1b1c-025e-48ce-8a28-680f9bd5c46d"
   },
   "outputs": [
    {
     "name": "stdout",
     "output_type": "stream",
     "text": [
      "(array([ 0,  1,  2,  3,  4,  5,  6,  7,  8,  9, 10]), array([500, 500, 500, 500, 500, 500, 500, 500, 500, 500, 500]))\n"
     ]
    }
   ],
   "source": [
    "df2 = df2.copy()\n",
    "df2[df2 < 5000] = 0\n",
    "df2[df2 == 5000] = 1\n",
    "df2[df2 == 10000] = 2\n",
    "df2[df2 == 15000] = 3\n",
    "df2[df2 == 20000] = 4\n",
    "df2[df2 == 25000] = 5\n",
    "df2[df2 == 30000] = 6\n",
    "df2[df2 == 35000] = 7\n",
    "df2[df2 == 40000] = 8\n",
    "df2[df2 == 45000] = 9\n",
    "df2[df2 == 50000] = 10\n",
    "\n",
    "target_count = np.unique(df2, return_counts=True)\n",
    "print(target_count)"
   ]
  },
  {
   "cell_type": "markdown",
   "metadata": {
    "id": "PAYLXje8Eq9l"
   },
   "source": [
    "# 문제 정의\n",
    "\n",
    "152개의 순차적인 센서 값을 가지고 분류한다.\n"
   ]
  },
  {
   "cell_type": "markdown",
   "metadata": {
    "id": "piqvWOOgpjHt"
   },
   "source": [
    "# 데이터 준비\n"
   ]
  },
  {
   "cell_type": "markdown",
   "metadata": {
    "id": "GD2kOh0_pmvD"
   },
   "source": [
    "## x, y 쪼개기"
   ]
  },
  {
   "cell_type": "code",
   "execution_count": 11,
   "metadata": {
    "id": "5mB3dKMYpJej"
   },
   "outputs": [],
   "source": [
    "x, y = df1[:,:-1], df2[:]"
   ]
  },
  {
   "cell_type": "code",
   "execution_count": 12,
   "metadata": {
    "colab": {
     "base_uri": "https://localhost:8080/"
    },
    "id": "UWtHOkIvpJlZ",
    "outputId": "98f0ae6c-f761-44e5-9435-bd9756ecdeb7"
   },
   "outputs": [
    {
     "name": "stdout",
     "output_type": "stream",
     "text": [
      "(5500, 4000)\n",
      "(5500,)\n"
     ]
    }
   ],
   "source": [
    "print(x.shape)\n",
    "print(y.shape)"
   ]
  },
  {
   "cell_type": "code",
   "execution_count": 13,
   "metadata": {
    "colab": {
     "base_uri": "https://localhost:8080/"
    },
    "id": "4WVNNZy3Npjt",
    "outputId": "7bb9910c-34c7-4da9-be72-1c5a150de0f2"
   },
   "outputs": [
    {
     "data": {
      "text/plain": [
       "0        0\n",
       "1        0\n",
       "2        0\n",
       "3        0\n",
       "4        0\n",
       "        ..\n",
       "5495    10\n",
       "5496    10\n",
       "5497    10\n",
       "5498    10\n",
       "5499    10\n",
       "Name: target, Length: 5500, dtype: int64"
      ]
     },
     "execution_count": 13,
     "metadata": {},
     "output_type": "execute_result"
    }
   ],
   "source": [
    "y"
   ]
  },
  {
   "cell_type": "markdown",
   "metadata": {
    "id": "DYJfroxKpoOc"
   },
   "source": [
    "## normalization"
   ]
  },
  {
   "cell_type": "code",
   "execution_count": 14,
   "metadata": {
    "colab": {
     "base_uri": "https://localhost:8080/"
    },
    "id": "0edILhqfpJrT",
    "outputId": "e1b6e56a-056f-4f40-d925-5a22fa02ca79"
   },
   "outputs": [
    {
     "name": "stdout",
     "output_type": "stream",
     "text": [
      "26471109.34 26652950.21\n",
      "0.0 1.0\n"
     ]
    }
   ],
   "source": [
    "min = np.min(x)\n",
    "max = np.max(x)\n",
    "print(min, max)\n",
    "\n",
    "x = (x-min) / (max-min)\n",
    "\n",
    "min = np.min(x)\n",
    "max = np.max(x)\n",
    "print(min, max)\n"
   ]
  },
  {
   "cell_type": "code",
   "execution_count": 15,
   "metadata": {
    "id": "CA_Fs7IhrKhv"
   },
   "outputs": [],
   "source": [
    "x = np.expand_dims(x, -1)"
   ]
  },
  {
   "cell_type": "markdown",
   "metadata": {
    "id": "YUNV4PRWp-jO"
   },
   "source": [
    "## 섞고"
   ]
  },
  {
   "cell_type": "code",
   "execution_count": 16,
   "metadata": {
    "id": "rK0FR9OOpJxL"
   },
   "outputs": [],
   "source": [
    "shuffled_index = np.random.permutation(len(x))\n",
    "x = x[shuffled_index]\n",
    "y = y.iloc[shuffled_index]\n",
    "x, y = np.array(x), np.array(y)"
   ]
  },
  {
   "cell_type": "markdown",
   "metadata": {
    "id": "RbjrYGVMqAF3"
   },
   "source": [
    "## train, test 쪼개기"
   ]
  },
  {
   "cell_type": "code",
   "execution_count": 17,
   "metadata": {
    "id": "TfPpY9jPpJz4"
   },
   "outputs": [],
   "source": [
    "#split_index = int( len(x) * 0.8 )\n",
    "#train_x, test_x = np.array(x[:split_index]), np.array(x[split_index:])\n",
    "#train_y, test_y = np.array(y[:split_index]), np.array(y[split_index:])"
   ]
  },
  {
   "cell_type": "code",
   "execution_count": 18,
   "metadata": {
    "id": "BfNSU7FdpJub"
   },
   "outputs": [],
   "source": [
    "#train_x[1].shape"
   ]
  },
  {
   "cell_type": "code",
   "execution_count": 19,
   "metadata": {
    "id": "gsqd1yWWNpju"
   },
   "outputs": [],
   "source": [
    "#train_x[1]"
   ]
  },
  {
   "cell_type": "markdown",
   "metadata": {
    "id": "3Oynfz6SqZzx"
   },
   "source": [
    "# 모델 정의"
   ]
  },
  {
   "cell_type": "code",
   "execution_count": 20,
   "metadata": {
    "id": "p0JtVB5ApJoc"
   },
   "outputs": [],
   "source": [
    "import tensorflow as tf\n",
    "from sklearn.model_selection import KFold \n",
    "from tensorflow import keras\n",
    "from tensorflow.keras import optimizers\n",
    "from tensorflow.keras.layers import Dense, Conv1D, Flatten\n",
    "from sklearn.model_selection import cross_val_score \n",
    "from sklearn.model_selection import StratifiedKFold"
   ]
  },
  {
   "cell_type": "code",
   "execution_count": 21,
   "metadata": {
    "colab": {
     "base_uri": "https://localhost:8080/",
     "height": 1000
    },
    "id": "8FTlEW4umicO",
    "outputId": "288b35af-b541-464b-9b2c-2f1ca72bc264"
   },
   "outputs": [],
   "source": [
    "from tensorflow.keras.models import Sequential\n",
    "from tensorflow.keras.layers import Dense\n",
    "#from tensorflow.keras.utils import np_utils\n",
    "import pandas as pd\n",
    "import matplotlib.pyplot as plt\n",
    "from sklearn.metrics import confusion_matrix\n",
    "import seaborn as sns\n",
    "from sklearn.metrics import precision_score, recall_score, f1_score, roc_curve\n",
    "from sklearn.metrics import classification_report\n",
    "from sklearn.model_selection import StratifiedKFold"
   ]
  },
  {
   "cell_type": "code",
   "execution_count": 22,
   "metadata": {
    "colab": {
     "base_uri": "https://localhost:8080/",
     "height": 1000
    },
    "id": "8FTlEW4umicO",
    "outputId": "288b35af-b541-464b-9b2c-2f1ca72bc264",
    "scrolled": false
   },
   "outputs": [
    {
     "name": "stderr",
     "output_type": "stream",
     "text": [
      "2021-09-23 21:05:56.993868: I tensorflow/core/common_runtime/gpu/gpu_device.cc:1510] Created device /job:localhost/replica:0/task:0/device:GPU:0 with 22308 MB memory:  -> device: 0, name: GeForce RTX 3090, pci bus id: 0000:67:00.0, compute capability: 8.6\n",
      "2021-09-23 21:05:57.527761: I tensorflow/compiler/mlir/mlir_graph_optimization_pass.cc:185] None of the MLIR Optimization Passes are enabled (registered 2)\n"
     ]
    },
    {
     "name": "stdout",
     "output_type": "stream",
     "text": [
      "Epoch 1/100\n"
     ]
    },
    {
     "name": "stderr",
     "output_type": "stream",
     "text": [
      "2021-09-23 21:05:58.530451: I tensorflow/stream_executor/cuda/cuda_dnn.cc:369] Loaded cuDNN version 8201\n",
      "2021-09-23 21:06:00.219557: I tensorflow/stream_executor/cuda/cuda_blas.cc:1760] TensorFloat-32 will be used for the matrix multiplication. This will only be logged once.\n"
     ]
    },
    {
     "name": "stdout",
     "output_type": "stream",
     "text": [
      "8/8 [==============================] - 5s 194ms/step - loss: 2.3983 - accuracy: 0.0922 - val_loss: 2.4021 - val_accuracy: 0.0614\n",
      "Epoch 2/100\n",
      "8/8 [==============================] - 1s 81ms/step - loss: 2.3974 - accuracy: 0.0942 - val_loss: 2.3984 - val_accuracy: 0.0614\n",
      "Epoch 3/100\n",
      "8/8 [==============================] - 1s 82ms/step - loss: 2.3928 - accuracy: 0.1028 - val_loss: 2.3927 - val_accuracy: 0.0614\n",
      "Epoch 4/100\n",
      "8/8 [==============================] - 1s 81ms/step - loss: 2.3780 - accuracy: 0.1313 - val_loss: 2.3769 - val_accuracy: 0.0614\n",
      "Epoch 5/100\n",
      "8/8 [==============================] - 1s 82ms/step - loss: 2.3647 - accuracy: 0.1571 - val_loss: 2.3622 - val_accuracy: 0.1523\n",
      "Epoch 6/100\n",
      "8/8 [==============================] - 1s 82ms/step - loss: 2.3200 - accuracy: 0.1591 - val_loss: 2.3268 - val_accuracy: 0.1659\n",
      "Epoch 7/100\n",
      "8/8 [==============================] - 1s 84ms/step - loss: 2.2596 - accuracy: 0.1841 - val_loss: 2.2686 - val_accuracy: 0.1659\n",
      "Epoch 8/100\n",
      "8/8 [==============================] - 1s 81ms/step - loss: 2.2041 - accuracy: 0.1856 - val_loss: 2.2682 - val_accuracy: 0.1659\n",
      "Epoch 9/100\n",
      "8/8 [==============================] - 1s 84ms/step - loss: 2.1550 - accuracy: 0.1843 - val_loss: 2.1225 - val_accuracy: 0.1682\n",
      "Epoch 10/100\n",
      "8/8 [==============================] - 1s 81ms/step - loss: 2.0720 - accuracy: 0.1816 - val_loss: 2.0157 - val_accuracy: 0.2045\n",
      "Epoch 11/100\n",
      "8/8 [==============================] - 1s 82ms/step - loss: 2.0216 - accuracy: 0.1816 - val_loss: 1.9828 - val_accuracy: 0.2023\n",
      "Epoch 12/100\n",
      "8/8 [==============================] - 1s 83ms/step - loss: 1.9871 - accuracy: 0.1758 - val_loss: 1.9660 - val_accuracy: 0.2023\n",
      "Epoch 13/100\n",
      "8/8 [==============================] - 1s 82ms/step - loss: 2.3180 - accuracy: 0.1343 - val_loss: 2.3940 - val_accuracy: 0.1023\n",
      "Epoch 14/100\n",
      "8/8 [==============================] - 1s 81ms/step - loss: 2.4017 - accuracy: 0.0939 - val_loss: 2.3987 - val_accuracy: 0.0886\n",
      "Epoch 15/100\n",
      "8/8 [==============================] - 1s 82ms/step - loss: 2.4016 - accuracy: 0.0955 - val_loss: 2.3993 - val_accuracy: 0.1023\n",
      "Epoch 16/100\n",
      "8/8 [==============================] - 1s 82ms/step - loss: 2.4002 - accuracy: 0.0955 - val_loss: 2.4030 - val_accuracy: 0.1023\n",
      "Epoch 17/100\n",
      "8/8 [==============================] - 1s 81ms/step - loss: 2.3993 - accuracy: 0.0876 - val_loss: 2.4004 - val_accuracy: 0.1023\n",
      "Epoch 18/100\n",
      "8/8 [==============================] - 1s 81ms/step - loss: 2.3972 - accuracy: 0.0960 - val_loss: 2.4050 - val_accuracy: 0.0614\n",
      "Epoch 19/100\n",
      "8/8 [==============================] - 1s 80ms/step - loss: 2.3940 - accuracy: 0.1071 - val_loss: 2.4094 - val_accuracy: 0.0614\n",
      "Epoch 20/100\n",
      "8/8 [==============================] - 1s 82ms/step - loss: 2.3786 - accuracy: 0.1308 - val_loss: 2.3640 - val_accuracy: 0.1318\n",
      "Epoch 21/100\n",
      "8/8 [==============================] - 1s 82ms/step - loss: 2.3569 - accuracy: 0.1449 - val_loss: 2.3645 - val_accuracy: 0.1091\n",
      "Epoch 22/100\n",
      "8/8 [==============================] - 1s 83ms/step - loss: 2.3331 - accuracy: 0.1268 - val_loss: 2.4446 - val_accuracy: 0.0614\n",
      "Epoch 23/100\n",
      "8/8 [==============================] - 1s 83ms/step - loss: 2.3044 - accuracy: 0.1402 - val_loss: 2.3046 - val_accuracy: 0.1386\n",
      "Epoch 24/100\n",
      "8/8 [==============================] - 1s 81ms/step - loss: 2.2453 - accuracy: 0.1932 - val_loss: 2.2491 - val_accuracy: 0.1659\n",
      "Epoch 25/100\n",
      "8/8 [==============================] - 1s 81ms/step - loss: 2.1908 - accuracy: 0.1856 - val_loss: 2.1816 - val_accuracy: 0.1659\n",
      "Epoch 26/100\n",
      "8/8 [==============================] - 1s 83ms/step - loss: 2.1500 - accuracy: 0.1869 - val_loss: 2.1186 - val_accuracy: 0.0886\n",
      "Epoch 27/100\n",
      "8/8 [==============================] - 1s 83ms/step - loss: 2.0940 - accuracy: 0.1677 - val_loss: 2.0464 - val_accuracy: 0.2023\n",
      "Epoch 28/100\n",
      "8/8 [==============================] - 1s 80ms/step - loss: 2.0403 - accuracy: 0.1795 - val_loss: 1.9953 - val_accuracy: 0.2023\n",
      "Epoch 29/100\n",
      "8/8 [==============================] - 1s 81ms/step - loss: 1.9957 - accuracy: 0.1795 - val_loss: 1.9614 - val_accuracy: 0.2023\n",
      "Epoch 30/100\n",
      "8/8 [==============================] - 1s 81ms/step - loss: 1.9504 - accuracy: 0.1795 - val_loss: 1.9156 - val_accuracy: 0.2023\n",
      "Epoch 31/100\n",
      "8/8 [==============================] - 1s 80ms/step - loss: 1.9125 - accuracy: 0.1798 - val_loss: 1.9096 - val_accuracy: 0.2114\n",
      "Epoch 32/100\n",
      "8/8 [==============================] - 1s 82ms/step - loss: 1.9792 - accuracy: 0.2285 - val_loss: 2.1264 - val_accuracy: 0.2023\n",
      "Epoch 33/100\n",
      "8/8 [==============================] - 1s 82ms/step - loss: 2.3253 - accuracy: 0.1331 - val_loss: 2.2524 - val_accuracy: 0.1341\n",
      "Epoch 34/100\n",
      "8/8 [==============================] - 1s 82ms/step - loss: 2.1783 - accuracy: 0.1672 - val_loss: 2.0623 - val_accuracy: 0.1886\n",
      "Epoch 35/100\n",
      "8/8 [==============================] - 1s 83ms/step - loss: 2.0107 - accuracy: 0.1816 - val_loss: 1.9877 - val_accuracy: 0.1773\n",
      "Epoch 36/100\n",
      "8/8 [==============================] - 1s 83ms/step - loss: 1.9285 - accuracy: 0.1848 - val_loss: 1.8595 - val_accuracy: 0.2250\n",
      "Epoch 37/100\n",
      "8/8 [==============================] - 1s 81ms/step - loss: 1.8841 - accuracy: 0.1914 - val_loss: 1.8469 - val_accuracy: 0.2136\n",
      "Epoch 38/100\n",
      "8/8 [==============================] - 1s 82ms/step - loss: 1.8610 - accuracy: 0.1823 - val_loss: 1.8413 - val_accuracy: 0.2114\n",
      "Epoch 39/100\n",
      "8/8 [==============================] - 1s 82ms/step - loss: 1.8399 - accuracy: 0.1949 - val_loss: 1.8123 - val_accuracy: 0.2182\n",
      "Epoch 40/100\n",
      "8/8 [==============================] - 1s 83ms/step - loss: 1.8176 - accuracy: 0.1821 - val_loss: 1.7974 - val_accuracy: 0.2318\n",
      "Epoch 41/100\n",
      "8/8 [==============================] - 1s 84ms/step - loss: 1.8022 - accuracy: 0.2081 - val_loss: 1.7876 - val_accuracy: 0.2250\n",
      "Epoch 42/100\n",
      "8/8 [==============================] - 1s 81ms/step - loss: 1.7887 - accuracy: 0.1997 - val_loss: 1.7683 - val_accuracy: 0.2500\n",
      "Epoch 43/100\n",
      "8/8 [==============================] - 1s 80ms/step - loss: 1.7683 - accuracy: 0.2217 - val_loss: 1.7506 - val_accuracy: 0.2364\n",
      "Epoch 44/100\n",
      "8/8 [==============================] - 1s 82ms/step - loss: 1.7496 - accuracy: 0.2465 - val_loss: 1.7275 - val_accuracy: 0.2705\n",
      "Epoch 45/100\n",
      "8/8 [==============================] - 1s 82ms/step - loss: 1.7313 - accuracy: 0.2480 - val_loss: 1.7122 - val_accuracy: 0.2523\n",
      "Epoch 46/100\n",
      "8/8 [==============================] - 1s 82ms/step - loss: 1.7128 - accuracy: 0.2545 - val_loss: 1.7154 - val_accuracy: 0.2591\n",
      "Epoch 47/100\n",
      "8/8 [==============================] - 1s 80ms/step - loss: 1.7101 - accuracy: 0.2457 - val_loss: 1.6960 - val_accuracy: 0.2614\n",
      "Epoch 48/100\n",
      "8/8 [==============================] - 1s 82ms/step - loss: 1.6988 - accuracy: 0.2480 - val_loss: 1.6947 - val_accuracy: 0.2591\n",
      "Epoch 49/100\n",
      "8/8 [==============================] - 1s 81ms/step - loss: 1.6897 - accuracy: 0.2487 - val_loss: 1.6850 - val_accuracy: 0.2545\n",
      "Epoch 50/100\n",
      "8/8 [==============================] - 1s 82ms/step - loss: 1.6685 - accuracy: 0.2535 - val_loss: 1.6286 - val_accuracy: 0.2886\n",
      "Epoch 51/100\n",
      "8/8 [==============================] - 1s 83ms/step - loss: 1.6493 - accuracy: 0.2475 - val_loss: 1.6229 - val_accuracy: 0.2864\n",
      "Epoch 52/100\n",
      "8/8 [==============================] - 1s 84ms/step - loss: 1.6368 - accuracy: 0.2551 - val_loss: 1.6207 - val_accuracy: 0.2932\n",
      "Epoch 53/100\n",
      "8/8 [==============================] - 1s 81ms/step - loss: 1.6308 - accuracy: 0.2616 - val_loss: 1.6463 - val_accuracy: 0.2818\n",
      "Epoch 54/100\n",
      "8/8 [==============================] - 1s 82ms/step - loss: 1.6271 - accuracy: 0.2619 - val_loss: 1.5882 - val_accuracy: 0.2795\n",
      "Epoch 55/100\n",
      "8/8 [==============================] - 1s 82ms/step - loss: 1.6148 - accuracy: 0.2750 - val_loss: 1.5702 - val_accuracy: 0.2886\n",
      "Epoch 56/100\n",
      "8/8 [==============================] - 1s 81ms/step - loss: 1.5988 - accuracy: 0.2689 - val_loss: 1.5985 - val_accuracy: 0.3045\n",
      "Epoch 57/100\n",
      "8/8 [==============================] - 1s 81ms/step - loss: 1.5910 - accuracy: 0.2669 - val_loss: 1.5492 - val_accuracy: 0.2886\n",
      "Epoch 58/100\n",
      "8/8 [==============================] - 1s 82ms/step - loss: 1.5721 - accuracy: 0.2904 - val_loss: 1.5494 - val_accuracy: 0.3591\n",
      "Epoch 59/100\n",
      "8/8 [==============================] - 1s 82ms/step - loss: 1.5533 - accuracy: 0.2864 - val_loss: 1.5253 - val_accuracy: 0.2886\n",
      "Epoch 60/100\n",
      "8/8 [==============================] - 1s 82ms/step - loss: 1.5425 - accuracy: 0.2990 - val_loss: 1.5264 - val_accuracy: 0.3068\n",
      "Epoch 61/100\n",
      "8/8 [==============================] - 1s 80ms/step - loss: 1.5454 - accuracy: 0.3081 - val_loss: 1.5375 - val_accuracy: 0.3159\n",
      "Epoch 62/100\n",
      "8/8 [==============================] - 1s 80ms/step - loss: 1.5349 - accuracy: 0.2965 - val_loss: 1.5061 - val_accuracy: 0.3068\n",
      "Epoch 63/100\n",
      "8/8 [==============================] - 1s 82ms/step - loss: 1.5152 - accuracy: 0.3290 - val_loss: 1.4992 - val_accuracy: 0.3114\n",
      "Epoch 64/100\n",
      "8/8 [==============================] - 1s 81ms/step - loss: 1.5113 - accuracy: 0.3141 - val_loss: 1.4986 - val_accuracy: 0.3114\n",
      "Epoch 65/100\n",
      "8/8 [==============================] - 1s 83ms/step - loss: 1.5066 - accuracy: 0.3311 - val_loss: 1.4990 - val_accuracy: 0.4091\n",
      "Epoch 66/100\n",
      "8/8 [==============================] - 1s 82ms/step - loss: 1.5041 - accuracy: 0.3258 - val_loss: 1.5004 - val_accuracy: 0.3136\n",
      "Epoch 67/100\n",
      "8/8 [==============================] - 1s 82ms/step - loss: 1.4881 - accuracy: 0.3518 - val_loss: 1.4613 - val_accuracy: 0.3273\n",
      "Epoch 68/100\n",
      "8/8 [==============================] - 1s 81ms/step - loss: 1.4782 - accuracy: 0.3326 - val_loss: 1.4855 - val_accuracy: 0.3227\n",
      "Epoch 69/100\n",
      "8/8 [==============================] - 1s 80ms/step - loss: 1.4806 - accuracy: 0.3624 - val_loss: 1.4519 - val_accuracy: 0.3341\n",
      "Epoch 70/100\n",
      "8/8 [==============================] - 1s 83ms/step - loss: 1.4631 - accuracy: 0.3679 - val_loss: 1.4707 - val_accuracy: 0.4818\n",
      "Epoch 71/100\n",
      "8/8 [==============================] - 1s 82ms/step - loss: 1.4715 - accuracy: 0.3753 - val_loss: 1.4679 - val_accuracy: 0.3045\n",
      "Epoch 72/100\n",
      "8/8 [==============================] - 1s 81ms/step - loss: 1.4826 - accuracy: 0.3427 - val_loss: 1.4532 - val_accuracy: 0.3205\n",
      "Epoch 73/100\n",
      "8/8 [==============================] - 1s 82ms/step - loss: 1.4773 - accuracy: 0.3485 - val_loss: 1.4849 - val_accuracy: 0.3432\n",
      "Epoch 74/100\n",
      "8/8 [==============================] - 1s 82ms/step - loss: 1.4662 - accuracy: 0.3770 - val_loss: 1.4558 - val_accuracy: 0.3273\n",
      "Epoch 75/100\n",
      "8/8 [==============================] - 1s 82ms/step - loss: 1.4508 - accuracy: 0.3760 - val_loss: 1.4191 - val_accuracy: 0.3477\n",
      "Epoch 76/100\n",
      "8/8 [==============================] - 1s 82ms/step - loss: 1.4370 - accuracy: 0.4043 - val_loss: 1.4321 - val_accuracy: 0.4659\n",
      "Epoch 77/100\n",
      "8/8 [==============================] - 1s 84ms/step - loss: 1.4371 - accuracy: 0.4068 - val_loss: 1.4272 - val_accuracy: 0.4068\n",
      "Epoch 78/100\n",
      "8/8 [==============================] - 1s 83ms/step - loss: 1.4589 - accuracy: 0.3715 - val_loss: 1.4621 - val_accuracy: 0.3205\n",
      "Epoch 79/100\n",
      "8/8 [==============================] - 1s 82ms/step - loss: 1.4549 - accuracy: 0.3917 - val_loss: 1.4058 - val_accuracy: 0.3432\n",
      "Epoch 80/100\n",
      "8/8 [==============================] - 1s 81ms/step - loss: 1.4246 - accuracy: 0.3970 - val_loss: 1.4122 - val_accuracy: 0.4136\n",
      "Epoch 81/100\n",
      "8/8 [==============================] - 1s 81ms/step - loss: 1.4080 - accuracy: 0.3990 - val_loss: 1.3900 - val_accuracy: 0.4273\n",
      "Epoch 82/100\n",
      "8/8 [==============================] - 1s 82ms/step - loss: 1.4027 - accuracy: 0.4336 - val_loss: 1.3961 - val_accuracy: 0.3614\n",
      "Epoch 83/100\n",
      "8/8 [==============================] - 1s 82ms/step - loss: 1.3964 - accuracy: 0.4318 - val_loss: 1.3867 - val_accuracy: 0.4682\n",
      "Epoch 84/100\n",
      "8/8 [==============================] - 1s 82ms/step - loss: 1.4065 - accuracy: 0.4424 - val_loss: 1.3871 - val_accuracy: 0.3682\n",
      "Epoch 85/100\n",
      "8/8 [==============================] - 1s 80ms/step - loss: 1.3907 - accuracy: 0.4167 - val_loss: 1.3768 - val_accuracy: 0.3659\n",
      "Epoch 86/100\n",
      "8/8 [==============================] - 1s 81ms/step - loss: 1.3812 - accuracy: 0.4169 - val_loss: 1.3723 - val_accuracy: 0.4091\n",
      "Epoch 87/100\n",
      "8/8 [==============================] - 1s 82ms/step - loss: 1.3845 - accuracy: 0.4149 - val_loss: 1.3757 - val_accuracy: 0.4227\n",
      "Epoch 88/100\n",
      "8/8 [==============================] - 1s 80ms/step - loss: 1.3701 - accuracy: 0.4439 - val_loss: 1.3684 - val_accuracy: 0.3818\n",
      "Epoch 89/100\n",
      "8/8 [==============================] - 1s 80ms/step - loss: 1.3696 - accuracy: 0.4285 - val_loss: 1.3716 - val_accuracy: 0.3795\n",
      "Epoch 90/100\n",
      "8/8 [==============================] - 1s 81ms/step - loss: 1.3651 - accuracy: 0.4217 - val_loss: 1.3490 - val_accuracy: 0.4432\n",
      "Epoch 91/100\n",
      "8/8 [==============================] - 1s 81ms/step - loss: 1.3824 - accuracy: 0.3955 - val_loss: 1.3760 - val_accuracy: 0.4727\n",
      "Epoch 92/100\n",
      "8/8 [==============================] - 1s 82ms/step - loss: 1.3761 - accuracy: 0.4056 - val_loss: 1.3740 - val_accuracy: 0.3841\n",
      "Epoch 93/100\n",
      "8/8 [==============================] - 1s 83ms/step - loss: 1.3715 - accuracy: 0.4210 - val_loss: 1.3853 - val_accuracy: 0.4318\n",
      "Epoch 94/100\n",
      "8/8 [==============================] - 1s 82ms/step - loss: 1.3547 - accuracy: 0.4189 - val_loss: 1.3464 - val_accuracy: 0.4432\n",
      "Epoch 95/100\n",
      "8/8 [==============================] - 1s 81ms/step - loss: 1.3394 - accuracy: 0.4649 - val_loss: 1.3384 - val_accuracy: 0.4818\n",
      "Epoch 96/100\n",
      "8/8 [==============================] - 1s 83ms/step - loss: 1.3371 - accuracy: 0.4495 - val_loss: 1.3307 - val_accuracy: 0.4386\n",
      "Epoch 97/100\n",
      "8/8 [==============================] - 1s 81ms/step - loss: 1.3282 - accuracy: 0.4535 - val_loss: 1.3306 - val_accuracy: 0.3841\n",
      "Epoch 98/100\n",
      "8/8 [==============================] - 1s 84ms/step - loss: 1.3260 - accuracy: 0.4485 - val_loss: 1.3568 - val_accuracy: 0.4114\n",
      "Epoch 99/100\n",
      "8/8 [==============================] - 1s 82ms/step - loss: 1.3371 - accuracy: 0.4508 - val_loss: 1.3379 - val_accuracy: 0.3841\n",
      "Epoch 100/100\n",
      "8/8 [==============================] - 1s 81ms/step - loss: 1.3392 - accuracy: 0.4568 - val_loss: 1.3166 - val_accuracy: 0.3955\n",
      "35/35 [==============================] - 0s 7ms/step - loss: 1.3385 - accuracy: 0.3982\n"
     ]
    },
    {
     "data": {
      "image/png": "[encoded data removed]",
      "text/plain": [
       "<Figure size 504x432 with 2 Axes>"
      ]
     },
     "metadata": {
      "needs_background": "light"
     },
     "output_type": "display_data"
    },
    {
     "name": "stdout",
     "output_type": "stream",
     "text": [
      "Precision:0.327\n",
      "Recall:0.398\n",
      "F1_score:0.309\n",
      "              precision    recall  f1-score   support\n",
      "\n",
      "           0       0.35      1.00      0.52       100\n",
      "           1       0.00      0.00      0.00       100\n",
      "           2       0.00      0.00      0.00       100\n",
      "           3       0.81      0.69      0.75       100\n",
      "           4       0.97      0.78      0.87       100\n",
      "           5       0.93      0.90      0.91       100\n",
      "           6       0.33      0.01      0.02       100\n",
      "           7       0.00      0.00      0.00       100\n",
      "           8       0.20      1.00      0.33       100\n",
      "           9       0.00      0.00      0.00       100\n",
      "          10       0.00      0.00      0.00       100\n",
      "\n",
      "    accuracy                           0.40      1100\n",
      "   macro avg       0.33      0.40      0.31      1100\n",
      "weighted avg       0.33      0.40      0.31      1100\n",
      "\n",
      "Epoch 1/100\n",
      "8/8 [==============================] - 1s 99ms/step - loss: 2.3991 - accuracy: 0.0879 - val_loss: 2.3982 - val_accuracy: 0.0841\n",
      "Epoch 2/100\n",
      "8/8 [==============================] - 1s 81ms/step - loss: 2.3979 - accuracy: 0.0851 - val_loss: 2.3985 - val_accuracy: 0.0864\n",
      "Epoch 3/100\n",
      "8/8 [==============================] - 1s 80ms/step - loss: 2.3979 - accuracy: 0.0876 - val_loss: 2.3988 - val_accuracy: 0.0545\n",
      "Epoch 4/100\n",
      "8/8 [==============================] - 1s 81ms/step - loss: 2.3979 - accuracy: 0.0949 - val_loss: 2.3990 - val_accuracy: 0.0545\n",
      "Epoch 5/100\n",
      "8/8 [==============================] - 1s 82ms/step - loss: 2.3978 - accuracy: 0.0949 - val_loss: 2.3992 - val_accuracy: 0.0545\n",
      "Epoch 6/100\n",
      "8/8 [==============================] - 1s 82ms/step - loss: 2.3978 - accuracy: 0.0949 - val_loss: 2.3993 - val_accuracy: 0.0545\n",
      "Epoch 7/100\n",
      "8/8 [==============================] - 1s 84ms/step - loss: 2.3978 - accuracy: 0.0949 - val_loss: 2.3994 - val_accuracy: 0.0545\n",
      "Epoch 8/100\n",
      "8/8 [==============================] - 1s 83ms/step - loss: 2.3978 - accuracy: 0.0949 - val_loss: 2.3996 - val_accuracy: 0.0545\n",
      "Epoch 9/100\n",
      "8/8 [==============================] - 1s 82ms/step - loss: 2.3978 - accuracy: 0.0949 - val_loss: 2.3997 - val_accuracy: 0.0545\n",
      "Epoch 10/100\n",
      "8/8 [==============================] - 1s 80ms/step - loss: 2.3978 - accuracy: 0.0949 - val_loss: 2.3998 - val_accuracy: 0.0545\n",
      "Epoch 11/100\n",
      "8/8 [==============================] - 1s 82ms/step - loss: 2.3978 - accuracy: 0.0949 - val_loss: 2.3999 - val_accuracy: 0.0545\n",
      "Epoch 12/100\n",
      "8/8 [==============================] - 1s 80ms/step - loss: 2.3978 - accuracy: 0.0949 - val_loss: 2.4000 - val_accuracy: 0.0545\n",
      "Epoch 13/100\n",
      "8/8 [==============================] - 1s 81ms/step - loss: 2.3978 - accuracy: 0.0949 - val_loss: 2.4001 - val_accuracy: 0.0545\n",
      "Epoch 14/100\n",
      "8/8 [==============================] - 1s 80ms/step - loss: 2.3978 - accuracy: 0.0949 - val_loss: 2.4001 - val_accuracy: 0.0545\n",
      "Epoch 15/100\n",
      "8/8 [==============================] - 1s 83ms/step - loss: 2.3978 - accuracy: 0.0949 - val_loss: 2.4003 - val_accuracy: 0.0545\n",
      "Epoch 16/100\n",
      "8/8 [==============================] - 1s 83ms/step - loss: 2.3978 - accuracy: 0.0949 - val_loss: 2.4003 - val_accuracy: 0.0545\n",
      "Epoch 17/100\n",
      "8/8 [==============================] - 1s 81ms/step - loss: 2.3978 - accuracy: 0.0949 - val_loss: 2.4003 - val_accuracy: 0.0545\n",
      "Epoch 18/100\n",
      "8/8 [==============================] - 1s 80ms/step - loss: 2.3978 - accuracy: 0.0949 - val_loss: 2.4004 - val_accuracy: 0.0545\n",
      "Epoch 19/100\n",
      "8/8 [==============================] - 1s 81ms/step - loss: 2.3978 - accuracy: 0.0949 - val_loss: 2.4005 - val_accuracy: 0.0545\n",
      "Epoch 20/100\n",
      "8/8 [==============================] - 1s 81ms/step - loss: 2.3978 - accuracy: 0.0949 - val_loss: 2.4005 - val_accuracy: 0.0545\n",
      "Epoch 21/100\n",
      "8/8 [==============================] - 1s 81ms/step - loss: 2.3977 - accuracy: 0.0949 - val_loss: 2.4005 - val_accuracy: 0.0545\n",
      "Epoch 22/100\n",
      "8/8 [==============================] - 1s 81ms/step - loss: 2.3977 - accuracy: 0.0949 - val_loss: 2.4005 - val_accuracy: 0.0545\n",
      "Epoch 23/100\n",
      "8/8 [==============================] - 1s 82ms/step - loss: 2.3977 - accuracy: 0.0949 - val_loss: 2.4007 - val_accuracy: 0.0545\n",
      "Epoch 24/100\n",
      "8/8 [==============================] - 1s 84ms/step - loss: 2.3978 - accuracy: 0.0949 - val_loss: 2.4006 - val_accuracy: 0.0545\n",
      "Epoch 25/100\n",
      "8/8 [==============================] - 1s 80ms/step - loss: 2.3977 - accuracy: 0.0949 - val_loss: 2.4007 - val_accuracy: 0.0545\n",
      "Epoch 26/100\n",
      "8/8 [==============================] - 1s 80ms/step - loss: 2.3978 - accuracy: 0.0949 - val_loss: 2.4008 - val_accuracy: 0.0545\n",
      "Epoch 27/100\n",
      "8/8 [==============================] - 1s 81ms/step - loss: 2.3978 - accuracy: 0.0949 - val_loss: 2.4008 - val_accuracy: 0.0545\n",
      "Epoch 28/100\n",
      "8/8 [==============================] - 1s 81ms/step - loss: 2.3977 - accuracy: 0.0949 - val_loss: 2.4009 - val_accuracy: 0.0545\n",
      "Epoch 29/100\n",
      "8/8 [==============================] - 1s 82ms/step - loss: 2.3977 - accuracy: 0.0949 - val_loss: 2.4008 - val_accuracy: 0.0545\n",
      "Epoch 30/100\n",
      "8/8 [==============================] - 1s 84ms/step - loss: 2.3977 - accuracy: 0.0949 - val_loss: 2.4008 - val_accuracy: 0.0545\n",
      "Epoch 31/100\n",
      "8/8 [==============================] - 1s 82ms/step - loss: 2.3977 - accuracy: 0.0949 - val_loss: 2.4009 - val_accuracy: 0.0545\n",
      "Epoch 32/100\n",
      "8/8 [==============================] - 1s 80ms/step - loss: 2.3977 - accuracy: 0.0949 - val_loss: 2.4009 - val_accuracy: 0.0545\n",
      "Epoch 33/100\n",
      "8/8 [==============================] - 1s 85ms/step - loss: 2.3977 - accuracy: 0.0949 - val_loss: 2.4010 - val_accuracy: 0.0545\n",
      "Epoch 34/100\n",
      "8/8 [==============================] - 1s 81ms/step - loss: 2.3977 - accuracy: 0.0949 - val_loss: 2.4009 - val_accuracy: 0.0545\n",
      "Epoch 35/100\n",
      "8/8 [==============================] - 1s 81ms/step - loss: 2.3978 - accuracy: 0.0949 - val_loss: 2.4009 - val_accuracy: 0.0545\n",
      "Epoch 36/100\n",
      "8/8 [==============================] - 1s 81ms/step - loss: 2.3977 - accuracy: 0.0949 - val_loss: 2.4008 - val_accuracy: 0.0545\n",
      "Epoch 37/100\n",
      "8/8 [==============================] - 1s 80ms/step - loss: 2.3977 - accuracy: 0.0949 - val_loss: 2.4009 - val_accuracy: 0.0545\n",
      "Epoch 38/100\n",
      "8/8 [==============================] - 1s 82ms/step - loss: 2.3977 - accuracy: 0.0949 - val_loss: 2.4009 - val_accuracy: 0.0545\n",
      "Epoch 39/100\n",
      "8/8 [==============================] - 1s 82ms/step - loss: 2.3977 - accuracy: 0.0949 - val_loss: 2.4010 - val_accuracy: 0.0545\n",
      "Epoch 40/100\n",
      "8/8 [==============================] - 1s 82ms/step - loss: 2.3977 - accuracy: 0.0949 - val_loss: 2.4010 - val_accuracy: 0.0545\n",
      "Epoch 41/100\n",
      "8/8 [==============================] - 1s 82ms/step - loss: 2.3977 - accuracy: 0.0949 - val_loss: 2.4010 - val_accuracy: 0.0545\n",
      "Epoch 42/100\n",
      "8/8 [==============================] - 1s 81ms/step - loss: 2.3977 - accuracy: 0.0949 - val_loss: 2.4011 - val_accuracy: 0.0545\n",
      "Epoch 43/100\n",
      "8/8 [==============================] - 1s 82ms/step - loss: 2.3977 - accuracy: 0.0949 - val_loss: 2.4011 - val_accuracy: 0.0545\n",
      "Epoch 44/100\n",
      "8/8 [==============================] - 1s 82ms/step - loss: 2.3978 - accuracy: 0.0949 - val_loss: 2.4011 - val_accuracy: 0.0545\n",
      "Epoch 45/100\n",
      "8/8 [==============================] - 1s 83ms/step - loss: 2.3977 - accuracy: 0.0949 - val_loss: 2.4010 - val_accuracy: 0.0545\n",
      "Epoch 46/100\n",
      "8/8 [==============================] - 1s 81ms/step - loss: 2.3977 - accuracy: 0.0949 - val_loss: 2.4010 - val_accuracy: 0.0545\n",
      "Epoch 47/100\n",
      "8/8 [==============================] - 1s 82ms/step - loss: 2.3977 - accuracy: 0.0949 - val_loss: 2.4011 - val_accuracy: 0.0545\n",
      "Epoch 48/100\n",
      "8/8 [==============================] - 1s 84ms/step - loss: 2.3977 - accuracy: 0.0949 - val_loss: 2.4010 - val_accuracy: 0.0545\n",
      "Epoch 49/100\n",
      "8/8 [==============================] - 1s 82ms/step - loss: 2.3977 - accuracy: 0.0949 - val_loss: 2.4011 - val_accuracy: 0.0545\n",
      "Epoch 50/100\n",
      "8/8 [==============================] - 1s 83ms/step - loss: 2.3977 - accuracy: 0.0949 - val_loss: 2.4010 - val_accuracy: 0.0545\n",
      "Epoch 51/100\n",
      "8/8 [==============================] - 1s 82ms/step - loss: 2.3977 - accuracy: 0.0949 - val_loss: 2.4011 - val_accuracy: 0.0545\n",
      "Epoch 52/100\n",
      "8/8 [==============================] - 1s 80ms/step - loss: 2.3977 - accuracy: 0.0949 - val_loss: 2.4012 - val_accuracy: 0.0545\n",
      "Epoch 53/100\n",
      "8/8 [==============================] - 1s 83ms/step - loss: 2.3977 - accuracy: 0.0949 - val_loss: 2.4012 - val_accuracy: 0.0545\n",
      "Epoch 54/100\n",
      "8/8 [==============================] - 1s 82ms/step - loss: 2.3977 - accuracy: 0.0949 - val_loss: 2.4012 - val_accuracy: 0.0545\n",
      "Epoch 55/100\n",
      "8/8 [==============================] - 1s 81ms/step - loss: 2.3977 - accuracy: 0.0949 - val_loss: 2.4011 - val_accuracy: 0.0545\n",
      "Epoch 56/100\n",
      "8/8 [==============================] - 1s 81ms/step - loss: 2.3977 - accuracy: 0.0949 - val_loss: 2.4012 - val_accuracy: 0.0545\n",
      "Epoch 57/100\n",
      "8/8 [==============================] - 1s 83ms/step - loss: 2.3977 - accuracy: 0.0949 - val_loss: 2.4012 - val_accuracy: 0.0545\n",
      "Epoch 58/100\n",
      "8/8 [==============================] - 1s 81ms/step - loss: 2.3977 - accuracy: 0.0949 - val_loss: 2.4012 - val_accuracy: 0.0545\n",
      "Epoch 59/100\n",
      "8/8 [==============================] - 1s 81ms/step - loss: 2.3978 - accuracy: 0.0949 - val_loss: 2.4013 - val_accuracy: 0.0545\n",
      "Epoch 60/100\n",
      "8/8 [==============================] - 1s 82ms/step - loss: 2.3977 - accuracy: 0.0949 - val_loss: 2.4012 - val_accuracy: 0.0545\n",
      "Epoch 61/100\n",
      "8/8 [==============================] - 1s 82ms/step - loss: 2.3977 - accuracy: 0.0949 - val_loss: 2.4012 - val_accuracy: 0.0545\n",
      "Epoch 62/100\n",
      "8/8 [==============================] - 1s 80ms/step - loss: 2.3977 - accuracy: 0.0949 - val_loss: 2.4013 - val_accuracy: 0.0545\n",
      "Epoch 63/100\n",
      "8/8 [==============================] - 1s 82ms/step - loss: 2.3977 - accuracy: 0.0949 - val_loss: 2.4012 - val_accuracy: 0.0545\n",
      "Epoch 64/100\n",
      "8/8 [==============================] - 1s 83ms/step - loss: 2.3977 - accuracy: 0.0949 - val_loss: 2.4012 - val_accuracy: 0.0545\n",
      "Epoch 65/100\n",
      "8/8 [==============================] - 1s 81ms/step - loss: 2.3977 - accuracy: 0.0949 - val_loss: 2.4012 - val_accuracy: 0.0545\n",
      "Epoch 66/100\n",
      "8/8 [==============================] - 1s 83ms/step - loss: 2.3977 - accuracy: 0.0949 - val_loss: 2.4013 - val_accuracy: 0.0545\n",
      "Epoch 67/100\n",
      "8/8 [==============================] - 1s 82ms/step - loss: 2.3977 - accuracy: 0.0949 - val_loss: 2.4012 - val_accuracy: 0.0545\n",
      "Epoch 68/100\n",
      "8/8 [==============================] - 1s 83ms/step - loss: 2.3977 - accuracy: 0.0949 - val_loss: 2.4012 - val_accuracy: 0.0545\n",
      "Epoch 69/100\n",
      "8/8 [==============================] - 1s 82ms/step - loss: 2.3977 - accuracy: 0.0949 - val_loss: 2.4011 - val_accuracy: 0.0545\n",
      "Epoch 70/100\n",
      "8/8 [==============================] - 1s 82ms/step - loss: 2.3977 - accuracy: 0.0949 - val_loss: 2.4012 - val_accuracy: 0.0545\n",
      "Epoch 71/100\n",
      "8/8 [==============================] - 1s 81ms/step - loss: 2.3977 - accuracy: 0.0949 - val_loss: 2.4012 - val_accuracy: 0.0545\n",
      "Epoch 72/100\n",
      "8/8 [==============================] - 1s 80ms/step - loss: 2.3977 - accuracy: 0.0949 - val_loss: 2.4012 - val_accuracy: 0.0545\n",
      "Epoch 73/100\n",
      "8/8 [==============================] - 1s 81ms/step - loss: 2.3977 - accuracy: 0.0949 - val_loss: 2.4012 - val_accuracy: 0.0545\n",
      "Epoch 74/100\n",
      "8/8 [==============================] - 1s 82ms/step - loss: 2.3977 - accuracy: 0.0949 - val_loss: 2.4011 - val_accuracy: 0.0545\n",
      "Epoch 75/100\n",
      "8/8 [==============================] - 1s 81ms/step - loss: 2.3977 - accuracy: 0.0949 - val_loss: 2.4011 - val_accuracy: 0.0545\n",
      "Epoch 76/100\n",
      "8/8 [==============================] - 1s 82ms/step - loss: 2.3977 - accuracy: 0.0949 - val_loss: 2.4011 - val_accuracy: 0.0545\n",
      "Epoch 77/100\n",
      "8/8 [==============================] - 1s 81ms/step - loss: 2.3977 - accuracy: 0.0949 - val_loss: 2.4012 - val_accuracy: 0.0545\n",
      "Epoch 78/100\n",
      "8/8 [==============================] - 1s 80ms/step - loss: 2.3977 - accuracy: 0.0949 - val_loss: 2.4012 - val_accuracy: 0.0545\n",
      "Epoch 79/100\n",
      "8/8 [==============================] - 1s 83ms/step - loss: 2.3978 - accuracy: 0.0949 - val_loss: 2.4011 - val_accuracy: 0.0545\n",
      "Epoch 80/100\n",
      "8/8 [==============================] - 1s 84ms/step - loss: 2.3977 - accuracy: 0.0949 - val_loss: 2.4011 - val_accuracy: 0.0545\n",
      "Epoch 81/100\n",
      "8/8 [==============================] - 1s 80ms/step - loss: 2.3977 - accuracy: 0.0949 - val_loss: 2.4012 - val_accuracy: 0.0545\n",
      "Epoch 82/100\n",
      "8/8 [==============================] - 1s 81ms/step - loss: 2.3977 - accuracy: 0.0949 - val_loss: 2.4012 - val_accuracy: 0.0545\n",
      "Epoch 83/100\n",
      "8/8 [==============================] - 1s 81ms/step - loss: 2.3977 - accuracy: 0.0949 - val_loss: 2.4011 - val_accuracy: 0.0545\n",
      "Epoch 84/100\n",
      "8/8 [==============================] - 1s 81ms/step - loss: 2.3977 - accuracy: 0.0949 - val_loss: 2.4012 - val_accuracy: 0.0545\n",
      "Epoch 85/100\n",
      "8/8 [==============================] - 1s 81ms/step - loss: 2.3977 - accuracy: 0.0949 - val_loss: 2.4012 - val_accuracy: 0.0545\n",
      "Epoch 86/100\n",
      "8/8 [==============================] - 1s 82ms/step - loss: 2.3977 - accuracy: 0.0949 - val_loss: 2.4013 - val_accuracy: 0.0545\n",
      "Epoch 87/100\n",
      "8/8 [==============================] - 1s 82ms/step - loss: 2.3977 - accuracy: 0.0949 - val_loss: 2.4011 - val_accuracy: 0.0545\n",
      "Epoch 88/100\n",
      "8/8 [==============================] - 1s 82ms/step - loss: 2.3978 - accuracy: 0.0949 - val_loss: 2.4011 - val_accuracy: 0.0545\n",
      "Epoch 89/100\n",
      "8/8 [==============================] - 1s 82ms/step - loss: 2.3977 - accuracy: 0.0949 - val_loss: 2.4011 - val_accuracy: 0.0545\n",
      "Epoch 90/100\n",
      "8/8 [==============================] - 1s 83ms/step - loss: 2.3977 - accuracy: 0.0949 - val_loss: 2.4012 - val_accuracy: 0.0545\n",
      "Epoch 91/100\n",
      "8/8 [==============================] - 1s 82ms/step - loss: 2.3977 - accuracy: 0.0949 - val_loss: 2.4012 - val_accuracy: 0.0545\n",
      "Epoch 92/100\n",
      "8/8 [==============================] - 1s 83ms/step - loss: 2.3977 - accuracy: 0.0949 - val_loss: 2.4012 - val_accuracy: 0.0545\n",
      "Epoch 93/100\n",
      "8/8 [==============================] - 1s 80ms/step - loss: 2.3977 - accuracy: 0.0949 - val_loss: 2.4012 - val_accuracy: 0.0545\n",
      "Epoch 94/100\n",
      "8/8 [==============================] - 1s 80ms/step - loss: 2.3977 - accuracy: 0.0949 - val_loss: 2.4012 - val_accuracy: 0.0545\n",
      "Epoch 95/100\n",
      "8/8 [==============================] - 1s 84ms/step - loss: 2.3977 - accuracy: 0.0949 - val_loss: 2.4011 - val_accuracy: 0.0545\n",
      "Epoch 96/100\n",
      "8/8 [==============================] - 1s 81ms/step - loss: 2.3977 - accuracy: 0.0949 - val_loss: 2.4012 - val_accuracy: 0.0545\n",
      "Epoch 97/100\n",
      "8/8 [==============================] - 1s 81ms/step - loss: 2.3977 - accuracy: 0.0949 - val_loss: 2.4012 - val_accuracy: 0.0545\n",
      "Epoch 98/100\n",
      "8/8 [==============================] - 1s 80ms/step - loss: 2.3977 - accuracy: 0.0949 - val_loss: 2.4013 - val_accuracy: 0.0545\n",
      "Epoch 99/100\n",
      "8/8 [==============================] - 1s 82ms/step - loss: 2.3977 - accuracy: 0.0949 - val_loss: 2.4012 - val_accuracy: 0.0545\n",
      "Epoch 100/100\n",
      "8/8 [==============================] - 1s 82ms/step - loss: 2.3977 - accuracy: 0.0949 - val_loss: 2.4013 - val_accuracy: 0.0545\n",
      "35/35 [==============================] - 0s 5ms/step - loss: 2.3981 - accuracy: 0.0909\n"
     ]
    },
    {
     "data": {
      "image/png": "[encoded data removed]",
      "text/plain": [
       "<Figure size 504x432 with 2 Axes>"
      ]
     },
     "metadata": {
      "needs_background": "light"
     },
     "output_type": "display_data"
    },
    {
     "name": "stdout",
     "output_type": "stream",
     "text": [
      "Precision:0.00826\n",
      "Recall:0.0909\n",
      "F1_score:0.0152\n",
      "              precision    recall  f1-score   support\n",
      "\n",
      "           0       0.00      0.00      0.00       100\n",
      "           1       0.00      0.00      0.00       100\n",
      "           2       0.00      0.00      0.00       100\n",
      "           3       0.00      0.00      0.00       100\n",
      "           4       0.09      1.00      0.17       100\n",
      "           5       0.00      0.00      0.00       100\n",
      "           6       0.00      0.00      0.00       100\n",
      "           7       0.00      0.00      0.00       100\n",
      "           8       0.00      0.00      0.00       100\n",
      "           9       0.00      0.00      0.00       100\n",
      "          10       0.00      0.00      0.00       100\n",
      "\n",
      "    accuracy                           0.09      1100\n",
      "   macro avg       0.01      0.09      0.02      1100\n",
      "weighted avg       0.01      0.09      0.02      1100\n",
      "\n",
      "Epoch 1/100\n",
      "8/8 [==============================] - 1s 99ms/step - loss: 2.3994 - accuracy: 0.0917 - val_loss: 2.3980 - val_accuracy: 0.0818\n",
      "Epoch 2/100\n",
      "8/8 [==============================] - 1s 83ms/step - loss: 2.3980 - accuracy: 0.0881 - val_loss: 2.3982 - val_accuracy: 0.0727\n",
      "Epoch 3/100\n",
      "8/8 [==============================] - 1s 81ms/step - loss: 2.3980 - accuracy: 0.0929 - val_loss: 2.3974 - val_accuracy: 0.0818\n",
      "Epoch 4/100\n",
      "8/8 [==============================] - 1s 83ms/step - loss: 2.3980 - accuracy: 0.0965 - val_loss: 2.3989 - val_accuracy: 0.0659\n",
      "Epoch 5/100\n",
      "8/8 [==============================] - 1s 82ms/step - loss: 2.3978 - accuracy: 0.0937 - val_loss: 2.3990 - val_accuracy: 0.0659\n",
      "Epoch 6/100\n",
      "8/8 [==============================] - 1s 81ms/step - loss: 2.3978 - accuracy: 0.0937 - val_loss: 2.3992 - val_accuracy: 0.0659\n",
      "Epoch 7/100\n",
      "8/8 [==============================] - 1s 80ms/step - loss: 2.3978 - accuracy: 0.0937 - val_loss: 2.3993 - val_accuracy: 0.0659\n",
      "Epoch 8/100\n",
      "8/8 [==============================] - 1s 82ms/step - loss: 2.3978 - accuracy: 0.0937 - val_loss: 2.3995 - val_accuracy: 0.0659\n",
      "Epoch 9/100\n",
      "8/8 [==============================] - 1s 83ms/step - loss: 2.3978 - accuracy: 0.0937 - val_loss: 2.3996 - val_accuracy: 0.0659\n",
      "Epoch 10/100\n",
      "8/8 [==============================] - 1s 81ms/step - loss: 2.3978 - accuracy: 0.0937 - val_loss: 2.3997 - val_accuracy: 0.0659\n",
      "Epoch 11/100\n",
      "8/8 [==============================] - 1s 82ms/step - loss: 2.3978 - accuracy: 0.0937 - val_loss: 2.3998 - val_accuracy: 0.0659\n",
      "Epoch 12/100\n",
      "8/8 [==============================] - 1s 82ms/step - loss: 2.3978 - accuracy: 0.0937 - val_loss: 2.3999 - val_accuracy: 0.0659\n",
      "Epoch 13/100\n",
      "8/8 [==============================] - 1s 81ms/step - loss: 2.3978 - accuracy: 0.0937 - val_loss: 2.4000 - val_accuracy: 0.0659\n",
      "Epoch 14/100\n",
      "8/8 [==============================] - 1s 81ms/step - loss: 2.3978 - accuracy: 0.0937 - val_loss: 2.4001 - val_accuracy: 0.0659\n",
      "Epoch 15/100\n",
      "8/8 [==============================] - 1s 81ms/step - loss: 2.3978 - accuracy: 0.0937 - val_loss: 2.4001 - val_accuracy: 0.0659\n",
      "Epoch 16/100\n",
      "8/8 [==============================] - 1s 82ms/step - loss: 2.3977 - accuracy: 0.0937 - val_loss: 2.4002 - val_accuracy: 0.0659\n",
      "Epoch 17/100\n",
      "8/8 [==============================] - 1s 82ms/step - loss: 2.3978 - accuracy: 0.0937 - val_loss: 2.4003 - val_accuracy: 0.0659\n",
      "Epoch 18/100\n",
      "8/8 [==============================] - 1s 81ms/step - loss: 2.3978 - accuracy: 0.0937 - val_loss: 2.4004 - val_accuracy: 0.0659\n",
      "Epoch 19/100\n",
      "8/8 [==============================] - 1s 81ms/step - loss: 2.3977 - accuracy: 0.0937 - val_loss: 2.4004 - val_accuracy: 0.0659\n",
      "Epoch 20/100\n",
      "8/8 [==============================] - 1s 81ms/step - loss: 2.3977 - accuracy: 0.0937 - val_loss: 2.4005 - val_accuracy: 0.0659\n",
      "Epoch 21/100\n",
      "8/8 [==============================] - 1s 80ms/step - loss: 2.3978 - accuracy: 0.0937 - val_loss: 2.4006 - val_accuracy: 0.0659\n",
      "Epoch 22/100\n",
      "8/8 [==============================] - 1s 83ms/step - loss: 2.3977 - accuracy: 0.0937 - val_loss: 2.4006 - val_accuracy: 0.0659\n",
      "Epoch 23/100\n",
      "8/8 [==============================] - 1s 83ms/step - loss: 2.3977 - accuracy: 0.0937 - val_loss: 2.4007 - val_accuracy: 0.0659\n",
      "Epoch 24/100\n",
      "8/8 [==============================] - 1s 82ms/step - loss: 2.3977 - accuracy: 0.0937 - val_loss: 2.4007 - val_accuracy: 0.0659\n",
      "Epoch 25/100\n",
      "8/8 [==============================] - 1s 81ms/step - loss: 2.3977 - accuracy: 0.0937 - val_loss: 2.4007 - val_accuracy: 0.0659\n",
      "Epoch 26/100\n",
      "8/8 [==============================] - 1s 81ms/step - loss: 2.3977 - accuracy: 0.0937 - val_loss: 2.4008 - val_accuracy: 0.0659\n",
      "Epoch 27/100\n",
      "8/8 [==============================] - 1s 80ms/step - loss: 2.3977 - accuracy: 0.0937 - val_loss: 2.4008 - val_accuracy: 0.0659\n",
      "Epoch 28/100\n",
      "8/8 [==============================] - 1s 83ms/step - loss: 2.3977 - accuracy: 0.0937 - val_loss: 2.4008 - val_accuracy: 0.0659\n",
      "Epoch 29/100\n",
      "8/8 [==============================] - 1s 82ms/step - loss: 2.3977 - accuracy: 0.0937 - val_loss: 2.4009 - val_accuracy: 0.0659\n",
      "Epoch 30/100\n",
      "8/8 [==============================] - 1s 81ms/step - loss: 2.3977 - accuracy: 0.0937 - val_loss: 2.4009 - val_accuracy: 0.0659\n",
      "Epoch 31/100\n",
      "8/8 [==============================] - 1s 80ms/step - loss: 2.3977 - accuracy: 0.0937 - val_loss: 2.4009 - val_accuracy: 0.0659\n",
      "Epoch 32/100\n",
      "8/8 [==============================] - 1s 80ms/step - loss: 2.3977 - accuracy: 0.0937 - val_loss: 2.4010 - val_accuracy: 0.0659\n",
      "Epoch 33/100\n",
      "8/8 [==============================] - 1s 82ms/step - loss: 2.3977 - accuracy: 0.0937 - val_loss: 2.4010 - val_accuracy: 0.0659\n",
      "Epoch 34/100\n",
      "8/8 [==============================] - 1s 82ms/step - loss: 2.3977 - accuracy: 0.0937 - val_loss: 2.4009 - val_accuracy: 0.0659\n",
      "Epoch 35/100\n",
      "8/8 [==============================] - 1s 81ms/step - loss: 2.3977 - accuracy: 0.0937 - val_loss: 2.4010 - val_accuracy: 0.0659\n",
      "Epoch 36/100\n",
      "8/8 [==============================] - 1s 82ms/step - loss: 2.3977 - accuracy: 0.0937 - val_loss: 2.4010 - val_accuracy: 0.0659\n",
      "Epoch 37/100\n",
      "8/8 [==============================] - 1s 80ms/step - loss: 2.3977 - accuracy: 0.0937 - val_loss: 2.4010 - val_accuracy: 0.0659\n",
      "Epoch 38/100\n",
      "8/8 [==============================] - 1s 81ms/step - loss: 2.3977 - accuracy: 0.0937 - val_loss: 2.4010 - val_accuracy: 0.0659\n",
      "Epoch 39/100\n",
      "8/8 [==============================] - 1s 81ms/step - loss: 2.3977 - accuracy: 0.0937 - val_loss: 2.4010 - val_accuracy: 0.0659\n",
      "Epoch 40/100\n",
      "8/8 [==============================] - 1s 82ms/step - loss: 2.3977 - accuracy: 0.0937 - val_loss: 2.4011 - val_accuracy: 0.0659\n",
      "Epoch 41/100\n",
      "8/8 [==============================] - 1s 84ms/step - loss: 2.3977 - accuracy: 0.0937 - val_loss: 2.4011 - val_accuracy: 0.0659\n",
      "Epoch 42/100\n",
      "8/8 [==============================] - 1s 82ms/step - loss: 2.3977 - accuracy: 0.0937 - val_loss: 2.4012 - val_accuracy: 0.0659\n",
      "Epoch 43/100\n",
      "8/8 [==============================] - 1s 82ms/step - loss: 2.3977 - accuracy: 0.0937 - val_loss: 2.4011 - val_accuracy: 0.0659\n",
      "Epoch 44/100\n",
      "8/8 [==============================] - 1s 81ms/step - loss: 2.3977 - accuracy: 0.0937 - val_loss: 2.4011 - val_accuracy: 0.0659\n",
      "Epoch 45/100\n",
      "8/8 [==============================] - 1s 81ms/step - loss: 2.3977 - accuracy: 0.0937 - val_loss: 2.4011 - val_accuracy: 0.0659\n",
      "Epoch 46/100\n",
      "8/8 [==============================] - 1s 80ms/step - loss: 2.3977 - accuracy: 0.0937 - val_loss: 2.4011 - val_accuracy: 0.0659\n",
      "Epoch 47/100\n",
      "8/8 [==============================] - 1s 81ms/step - loss: 2.3977 - accuracy: 0.0937 - val_loss: 2.4011 - val_accuracy: 0.0659\n",
      "Epoch 48/100\n",
      "8/8 [==============================] - 1s 82ms/step - loss: 2.3977 - accuracy: 0.0937 - val_loss: 2.4011 - val_accuracy: 0.0659\n",
      "Epoch 49/100\n",
      "8/8 [==============================] - 1s 80ms/step - loss: 2.3977 - accuracy: 0.0937 - val_loss: 2.4011 - val_accuracy: 0.0659\n",
      "Epoch 50/100\n",
      "8/8 [==============================] - 1s 83ms/step - loss: 2.3977 - accuracy: 0.0937 - val_loss: 2.4011 - val_accuracy: 0.0659\n",
      "Epoch 51/100\n",
      "8/8 [==============================] - 1s 81ms/step - loss: 2.3977 - accuracy: 0.0937 - val_loss: 2.4011 - val_accuracy: 0.0659\n",
      "Epoch 52/100\n",
      "8/8 [==============================] - 1s 80ms/step - loss: 2.3977 - accuracy: 0.0937 - val_loss: 2.4011 - val_accuracy: 0.0659\n",
      "Epoch 53/100\n",
      "8/8 [==============================] - 1s 81ms/step - loss: 2.3977 - accuracy: 0.0937 - val_loss: 2.4011 - val_accuracy: 0.0659\n",
      "Epoch 54/100\n",
      "8/8 [==============================] - 1s 81ms/step - loss: 2.3977 - accuracy: 0.0937 - val_loss: 2.4011 - val_accuracy: 0.0659\n",
      "Epoch 55/100\n",
      "8/8 [==============================] - 1s 81ms/step - loss: 2.3977 - accuracy: 0.0937 - val_loss: 2.4012 - val_accuracy: 0.0659\n",
      "Epoch 56/100\n",
      "8/8 [==============================] - 1s 82ms/step - loss: 2.3977 - accuracy: 0.0937 - val_loss: 2.4012 - val_accuracy: 0.0659\n",
      "Epoch 57/100\n",
      "8/8 [==============================] - 1s 82ms/step - loss: 2.3977 - accuracy: 0.0937 - val_loss: 2.4011 - val_accuracy: 0.0659\n",
      "Epoch 58/100\n",
      "8/8 [==============================] - 1s 82ms/step - loss: 2.3977 - accuracy: 0.0937 - val_loss: 2.4011 - val_accuracy: 0.0659\n",
      "Epoch 59/100\n",
      "8/8 [==============================] - 1s 81ms/step - loss: 2.3977 - accuracy: 0.0937 - val_loss: 2.4011 - val_accuracy: 0.0659\n",
      "Epoch 60/100\n",
      "8/8 [==============================] - 1s 81ms/step - loss: 2.3978 - accuracy: 0.0937 - val_loss: 2.4012 - val_accuracy: 0.0659\n",
      "Epoch 61/100\n",
      "8/8 [==============================] - 1s 82ms/step - loss: 2.3977 - accuracy: 0.0937 - val_loss: 2.4011 - val_accuracy: 0.0659\n",
      "Epoch 62/100\n",
      "8/8 [==============================] - 1s 80ms/step - loss: 2.3977 - accuracy: 0.0937 - val_loss: 2.4011 - val_accuracy: 0.0659\n",
      "Epoch 63/100\n",
      "8/8 [==============================] - 1s 82ms/step - loss: 2.3977 - accuracy: 0.0937 - val_loss: 2.4011 - val_accuracy: 0.0659\n",
      "Epoch 64/100\n",
      "8/8 [==============================] - 1s 82ms/step - loss: 2.3977 - accuracy: 0.0937 - val_loss: 2.4011 - val_accuracy: 0.0659\n",
      "Epoch 65/100\n",
      "8/8 [==============================] - 1s 83ms/step - loss: 2.3977 - accuracy: 0.0937 - val_loss: 2.4011 - val_accuracy: 0.0659\n",
      "Epoch 66/100\n",
      "8/8 [==============================] - 1s 81ms/step - loss: 2.3977 - accuracy: 0.0937 - val_loss: 2.4012 - val_accuracy: 0.0659\n",
      "Epoch 67/100\n",
      "8/8 [==============================] - 1s 81ms/step - loss: 2.3977 - accuracy: 0.0937 - val_loss: 2.4012 - val_accuracy: 0.0659\n",
      "Epoch 68/100\n",
      "8/8 [==============================] - 1s 80ms/step - loss: 2.3977 - accuracy: 0.0937 - val_loss: 2.4012 - val_accuracy: 0.0659\n",
      "Epoch 69/100\n",
      "8/8 [==============================] - 1s 81ms/step - loss: 2.3977 - accuracy: 0.0937 - val_loss: 2.4013 - val_accuracy: 0.0659\n",
      "Epoch 70/100\n",
      "8/8 [==============================] - 1s 80ms/step - loss: 2.3977 - accuracy: 0.0937 - val_loss: 2.4013 - val_accuracy: 0.0659\n",
      "Epoch 71/100\n",
      "8/8 [==============================] - 1s 83ms/step - loss: 2.3977 - accuracy: 0.0937 - val_loss: 2.4013 - val_accuracy: 0.0659\n",
      "Epoch 72/100\n",
      "8/8 [==============================] - 1s 81ms/step - loss: 2.3977 - accuracy: 0.0937 - val_loss: 2.4013 - val_accuracy: 0.0659\n",
      "Epoch 73/100\n",
      "8/8 [==============================] - 1s 80ms/step - loss: 2.3977 - accuracy: 0.0937 - val_loss: 2.4012 - val_accuracy: 0.0659\n",
      "Epoch 74/100\n",
      "8/8 [==============================] - 1s 80ms/step - loss: 2.3977 - accuracy: 0.0937 - val_loss: 2.4012 - val_accuracy: 0.0659\n",
      "Epoch 75/100\n",
      "8/8 [==============================] - 1s 82ms/step - loss: 2.3977 - accuracy: 0.0937 - val_loss: 2.4013 - val_accuracy: 0.0659\n",
      "Epoch 76/100\n",
      "8/8 [==============================] - 1s 83ms/step - loss: 2.3977 - accuracy: 0.0937 - val_loss: 2.4012 - val_accuracy: 0.0659\n",
      "Epoch 77/100\n",
      "8/8 [==============================] - 1s 80ms/step - loss: 2.3977 - accuracy: 0.0937 - val_loss: 2.4013 - val_accuracy: 0.0659\n",
      "Epoch 78/100\n",
      "8/8 [==============================] - 1s 80ms/step - loss: 2.3977 - accuracy: 0.0937 - val_loss: 2.4012 - val_accuracy: 0.0659\n",
      "Epoch 79/100\n",
      "8/8 [==============================] - 1s 81ms/step - loss: 2.3977 - accuracy: 0.0937 - val_loss: 2.4012 - val_accuracy: 0.0659\n",
      "Epoch 80/100\n",
      "8/8 [==============================] - 1s 81ms/step - loss: 2.3977 - accuracy: 0.0937 - val_loss: 2.4012 - val_accuracy: 0.0659\n",
      "Epoch 81/100\n",
      "8/8 [==============================] - 1s 82ms/step - loss: 2.3977 - accuracy: 0.0937 - val_loss: 2.4012 - val_accuracy: 0.0659\n",
      "Epoch 82/100\n",
      "8/8 [==============================] - 1s 82ms/step - loss: 2.3977 - accuracy: 0.0937 - val_loss: 2.4012 - val_accuracy: 0.0659\n",
      "Epoch 83/100\n",
      "8/8 [==============================] - 1s 83ms/step - loss: 2.3977 - accuracy: 0.0937 - val_loss: 2.4012 - val_accuracy: 0.0659\n",
      "Epoch 84/100\n",
      "8/8 [==============================] - 1s 80ms/step - loss: 2.3977 - accuracy: 0.0937 - val_loss: 2.4012 - val_accuracy: 0.0659\n",
      "Epoch 85/100\n",
      "8/8 [==============================] - 1s 81ms/step - loss: 2.3977 - accuracy: 0.0937 - val_loss: 2.4012 - val_accuracy: 0.0659\n",
      "Epoch 86/100\n",
      "8/8 [==============================] - 1s 82ms/step - loss: 2.3977 - accuracy: 0.0937 - val_loss: 2.4012 - val_accuracy: 0.0659\n",
      "Epoch 87/100\n",
      "8/8 [==============================] - 1s 81ms/step - loss: 2.3977 - accuracy: 0.0937 - val_loss: 2.4012 - val_accuracy: 0.0659\n",
      "Epoch 88/100\n",
      "8/8 [==============================] - 1s 81ms/step - loss: 2.3977 - accuracy: 0.0937 - val_loss: 2.4012 - val_accuracy: 0.0659\n",
      "Epoch 89/100\n",
      "8/8 [==============================] - 1s 82ms/step - loss: 2.3977 - accuracy: 0.0937 - val_loss: 2.4013 - val_accuracy: 0.0659\n",
      "Epoch 90/100\n",
      "8/8 [==============================] - 1s 82ms/step - loss: 2.3977 - accuracy: 0.0937 - val_loss: 2.4013 - val_accuracy: 0.0659\n",
      "Epoch 91/100\n",
      "8/8 [==============================] - 1s 80ms/step - loss: 2.3977 - accuracy: 0.0937 - val_loss: 2.4013 - val_accuracy: 0.0659\n",
      "Epoch 92/100\n",
      "8/8 [==============================] - 1s 82ms/step - loss: 2.3977 - accuracy: 0.0937 - val_loss: 2.4013 - val_accuracy: 0.0659\n",
      "Epoch 93/100\n",
      "8/8 [==============================] - 1s 81ms/step - loss: 2.3977 - accuracy: 0.0937 - val_loss: 2.4013 - val_accuracy: 0.0659\n",
      "Epoch 94/100\n",
      "8/8 [==============================] - 1s 81ms/step - loss: 2.3977 - accuracy: 0.0937 - val_loss: 2.4013 - val_accuracy: 0.0659\n",
      "Epoch 95/100\n",
      "8/8 [==============================] - 1s 83ms/step - loss: 2.3977 - accuracy: 0.0937 - val_loss: 2.4013 - val_accuracy: 0.0659\n",
      "Epoch 96/100\n",
      "8/8 [==============================] - 1s 82ms/step - loss: 2.3977 - accuracy: 0.0937 - val_loss: 2.4014 - val_accuracy: 0.0659\n",
      "Epoch 97/100\n",
      "8/8 [==============================] - 1s 82ms/step - loss: 2.3977 - accuracy: 0.0937 - val_loss: 2.4014 - val_accuracy: 0.0659\n",
      "Epoch 98/100\n",
      "8/8 [==============================] - 1s 80ms/step - loss: 2.3977 - accuracy: 0.0937 - val_loss: 2.4013 - val_accuracy: 0.0659\n",
      "Epoch 99/100\n",
      "8/8 [==============================] - 1s 79ms/step - loss: 2.3977 - accuracy: 0.0937 - val_loss: 2.4013 - val_accuracy: 0.0659\n",
      "Epoch 100/100\n",
      "8/8 [==============================] - 1s 81ms/step - loss: 2.3977 - accuracy: 0.0937 - val_loss: 2.4013 - val_accuracy: 0.0659\n",
      "35/35 [==============================] - 0s 5ms/step - loss: 2.3981 - accuracy: 0.0909\n"
     ]
    },
    {
     "data": {
      "image/png": "[encoded data removed]",
      "text/plain": [
       "<Figure size 504x432 with 2 Axes>"
      ]
     },
     "metadata": {
      "needs_background": "light"
     },
     "output_type": "display_data"
    },
    {
     "name": "stdout",
     "output_type": "stream",
     "text": [
      "Precision:0.00826\n",
      "Recall:0.0909\n",
      "F1_score:0.0152\n",
      "              precision    recall  f1-score   support\n",
      "\n",
      "           0       0.00      0.00      0.00       100\n",
      "           1       0.00      0.00      0.00       100\n",
      "           2       0.00      0.00      0.00       100\n",
      "           3       0.00      0.00      0.00       100\n",
      "           4       0.09      1.00      0.17       100\n",
      "           5       0.00      0.00      0.00       100\n",
      "           6       0.00      0.00      0.00       100\n",
      "           7       0.00      0.00      0.00       100\n",
      "           8       0.00      0.00      0.00       100\n",
      "           9       0.00      0.00      0.00       100\n",
      "          10       0.00      0.00      0.00       100\n",
      "\n",
      "    accuracy                           0.09      1100\n",
      "   macro avg       0.01      0.09      0.02      1100\n",
      "weighted avg       0.01      0.09      0.02      1100\n",
      "\n",
      "Epoch 1/100\n",
      "8/8 [==============================] - 1s 100ms/step - loss: 2.3981 - accuracy: 0.0924 - val_loss: 2.3971 - val_accuracy: 0.0909\n",
      "Epoch 2/100\n",
      "8/8 [==============================] - 1s 81ms/step - loss: 2.3978 - accuracy: 0.0909 - val_loss: 2.3983 - val_accuracy: 0.0795\n",
      "Epoch 3/100\n",
      "8/8 [==============================] - 1s 83ms/step - loss: 2.3975 - accuracy: 0.0939 - val_loss: 2.3961 - val_accuracy: 0.0909\n",
      "Epoch 4/100\n",
      "8/8 [==============================] - 1s 82ms/step - loss: 2.3945 - accuracy: 0.0924 - val_loss: 2.3928 - val_accuracy: 0.0500\n",
      "Epoch 5/100\n",
      "8/8 [==============================] - 1s 82ms/step - loss: 2.3877 - accuracy: 0.0717 - val_loss: 2.3848 - val_accuracy: 0.0114\n",
      "Epoch 6/100\n",
      "8/8 [==============================] - 1s 81ms/step - loss: 2.3641 - accuracy: 0.1232 - val_loss: 2.3106 - val_accuracy: 0.1750\n",
      "Epoch 7/100\n",
      "8/8 [==============================] - 1s 81ms/step - loss: 2.3257 - accuracy: 0.1780 - val_loss: 2.3230 - val_accuracy: 0.0841\n",
      "Epoch 8/100\n",
      "8/8 [==============================] - 1s 82ms/step - loss: 2.3016 - accuracy: 0.1205 - val_loss: 2.2938 - val_accuracy: 0.0841\n",
      "Epoch 9/100\n",
      "8/8 [==============================] - 1s 81ms/step - loss: 2.2427 - accuracy: 0.1485 - val_loss: 2.1675 - val_accuracy: 0.2500\n",
      "Epoch 10/100\n",
      "8/8 [==============================] - 1s 83ms/step - loss: 2.1411 - accuracy: 0.2083 - val_loss: 2.0679 - val_accuracy: 0.2023\n",
      "Epoch 11/100\n",
      "8/8 [==============================] - 1s 80ms/step - loss: 2.0762 - accuracy: 0.1795 - val_loss: 2.0120 - val_accuracy: 0.2023\n",
      "Epoch 12/100\n",
      "8/8 [==============================] - 1s 83ms/step - loss: 2.0481 - accuracy: 0.1801 - val_loss: 1.9948 - val_accuracy: 0.2068\n",
      "Epoch 13/100\n",
      "8/8 [==============================] - 1s 82ms/step - loss: 2.0225 - accuracy: 0.1803 - val_loss: 1.9864 - val_accuracy: 0.2023\n",
      "Epoch 14/100\n",
      "8/8 [==============================] - 1s 81ms/step - loss: 2.0116 - accuracy: 0.1806 - val_loss: 1.9855 - val_accuracy: 0.2091\n",
      "Epoch 15/100\n",
      "8/8 [==============================] - 1s 83ms/step - loss: 2.0042 - accuracy: 0.1803 - val_loss: 1.9638 - val_accuracy: 0.2023\n",
      "Epoch 16/100\n",
      "8/8 [==============================] - 1s 83ms/step - loss: 2.0055 - accuracy: 0.1808 - val_loss: 1.9569 - val_accuracy: 0.2023\n",
      "Epoch 17/100\n",
      "8/8 [==============================] - 1s 81ms/step - loss: 1.9856 - accuracy: 0.1806 - val_loss: 1.9836 - val_accuracy: 0.2045\n",
      "Epoch 18/100\n",
      "8/8 [==============================] - 1s 83ms/step - loss: 2.0200 - accuracy: 0.1909 - val_loss: 1.9545 - val_accuracy: 0.2023\n",
      "Epoch 19/100\n",
      "8/8 [==============================] - 1s 83ms/step - loss: 2.0111 - accuracy: 0.1871 - val_loss: 1.9640 - val_accuracy: 0.2068\n",
      "Epoch 20/100\n",
      "8/8 [==============================] - 1s 80ms/step - loss: 1.9855 - accuracy: 0.1848 - val_loss: 1.9328 - val_accuracy: 0.2159\n",
      "Epoch 21/100\n",
      "8/8 [==============================] - 1s 84ms/step - loss: 1.9541 - accuracy: 0.1826 - val_loss: 1.9099 - val_accuracy: 0.2045\n",
      "Epoch 22/100\n",
      "8/8 [==============================] - 1s 82ms/step - loss: 1.9375 - accuracy: 0.1861 - val_loss: 1.8881 - val_accuracy: 0.2091\n",
      "Epoch 23/100\n",
      "8/8 [==============================] - 1s 81ms/step - loss: 1.9281 - accuracy: 0.1909 - val_loss: 1.8803 - val_accuracy: 0.2136\n",
      "Epoch 24/100\n",
      "8/8 [==============================] - 1s 81ms/step - loss: 1.9185 - accuracy: 0.1987 - val_loss: 1.8615 - val_accuracy: 0.2182\n",
      "Epoch 25/100\n",
      "8/8 [==============================] - 1s 80ms/step - loss: 1.9034 - accuracy: 0.1975 - val_loss: 1.8613 - val_accuracy: 0.2136\n",
      "Epoch 26/100\n",
      "8/8 [==============================] - 1s 80ms/step - loss: 1.8921 - accuracy: 0.1970 - val_loss: 1.8485 - val_accuracy: 0.2364\n",
      "Epoch 27/100\n",
      "8/8 [==============================] - 1s 80ms/step - loss: 1.8950 - accuracy: 0.1982 - val_loss: 1.9175 - val_accuracy: 0.2477\n",
      "Epoch 28/100\n",
      "8/8 [==============================] - 1s 81ms/step - loss: 2.0966 - accuracy: 0.1609 - val_loss: 2.2157 - val_accuracy: 0.1114\n",
      "Epoch 29/100\n",
      "8/8 [==============================] - 1s 81ms/step - loss: 2.1910 - accuracy: 0.1258 - val_loss: 2.1351 - val_accuracy: 0.0955\n",
      "Epoch 30/100\n",
      "8/8 [==============================] - 1s 82ms/step - loss: 2.0750 - accuracy: 0.1955 - val_loss: 1.9869 - val_accuracy: 0.3659\n",
      "Epoch 31/100\n",
      "8/8 [==============================] - 1s 82ms/step - loss: 1.9770 - accuracy: 0.2417 - val_loss: 1.9312 - val_accuracy: 0.2750\n",
      "Epoch 32/100\n",
      "8/8 [==============================] - 1s 82ms/step - loss: 1.9181 - accuracy: 0.2134 - val_loss: 1.8664 - val_accuracy: 0.2023\n",
      "Epoch 33/100\n",
      "8/8 [==============================] - 1s 83ms/step - loss: 1.8783 - accuracy: 0.1942 - val_loss: 1.8152 - val_accuracy: 0.2159\n",
      "Epoch 34/100\n",
      "8/8 [==============================] - 1s 82ms/step - loss: 1.8543 - accuracy: 0.1869 - val_loss: 1.8055 - val_accuracy: 0.2091\n",
      "Epoch 35/100\n",
      "8/8 [==============================] - 1s 82ms/step - loss: 1.8433 - accuracy: 0.1843 - val_loss: 1.8070 - val_accuracy: 0.2159\n",
      "Epoch 36/100\n",
      "8/8 [==============================] - 1s 83ms/step - loss: 1.8383 - accuracy: 0.1891 - val_loss: 1.8032 - val_accuracy: 0.2045\n",
      "Epoch 37/100\n",
      "8/8 [==============================] - 1s 81ms/step - loss: 1.8271 - accuracy: 0.1902 - val_loss: 1.7850 - val_accuracy: 0.2273\n",
      "Epoch 38/100\n",
      "8/8 [==============================] - 1s 84ms/step - loss: 1.8162 - accuracy: 0.1955 - val_loss: 1.7634 - val_accuracy: 0.2227\n",
      "Epoch 39/100\n",
      "8/8 [==============================] - 1s 81ms/step - loss: 1.8057 - accuracy: 0.2013 - val_loss: 1.7588 - val_accuracy: 0.2227\n",
      "Epoch 40/100\n",
      "8/8 [==============================] - 1s 82ms/step - loss: 1.7955 - accuracy: 0.1965 - val_loss: 1.7461 - val_accuracy: 0.2364\n",
      "Epoch 41/100\n",
      "8/8 [==============================] - 1s 80ms/step - loss: 1.7869 - accuracy: 0.2025 - val_loss: 1.7494 - val_accuracy: 0.2500\n",
      "Epoch 42/100\n",
      "8/8 [==============================] - 1s 79ms/step - loss: 1.7812 - accuracy: 0.2101 - val_loss: 1.7384 - val_accuracy: 0.2432\n",
      "Epoch 43/100\n",
      "8/8 [==============================] - 1s 84ms/step - loss: 1.7711 - accuracy: 0.2144 - val_loss: 1.7216 - val_accuracy: 0.2318\n",
      "Epoch 44/100\n",
      "8/8 [==============================] - 1s 81ms/step - loss: 1.7601 - accuracy: 0.2066 - val_loss: 1.7346 - val_accuracy: 0.2659\n",
      "Epoch 45/100\n",
      "8/8 [==============================] - 1s 81ms/step - loss: 1.7806 - accuracy: 0.2144 - val_loss: 1.7445 - val_accuracy: 0.2795\n",
      "Epoch 46/100\n",
      "8/8 [==============================] - 1s 80ms/step - loss: 1.7988 - accuracy: 0.2146 - val_loss: 1.9087 - val_accuracy: 0.2341\n",
      "Epoch 47/100\n",
      "8/8 [==============================] - 1s 81ms/step - loss: 1.8546 - accuracy: 0.2098 - val_loss: 1.7643 - val_accuracy: 0.2636\n",
      "Epoch 48/100\n",
      "8/8 [==============================] - 1s 81ms/step - loss: 1.7572 - accuracy: 0.2093 - val_loss: 1.7121 - val_accuracy: 0.2159\n",
      "Epoch 49/100\n",
      "8/8 [==============================] - 1s 83ms/step - loss: 1.7374 - accuracy: 0.2045 - val_loss: 1.7123 - val_accuracy: 0.2682\n",
      "Epoch 50/100\n",
      "8/8 [==============================] - 1s 82ms/step - loss: 1.7400 - accuracy: 0.2280 - val_loss: 1.6882 - val_accuracy: 0.2364\n",
      "Epoch 51/100\n",
      "8/8 [==============================] - 1s 83ms/step - loss: 1.7262 - accuracy: 0.2268 - val_loss: 1.6992 - val_accuracy: 0.2864\n",
      "Epoch 52/100\n",
      "8/8 [==============================] - 1s 80ms/step - loss: 1.7222 - accuracy: 0.2323 - val_loss: 1.6735 - val_accuracy: 0.2409\n",
      "Epoch 53/100\n",
      "8/8 [==============================] - 1s 81ms/step - loss: 1.7165 - accuracy: 0.2283 - val_loss: 1.6754 - val_accuracy: 0.2773\n",
      "Epoch 54/100\n",
      "8/8 [==============================] - 1s 82ms/step - loss: 1.7202 - accuracy: 0.2258 - val_loss: 1.6899 - val_accuracy: 0.2886\n",
      "Epoch 55/100\n",
      "8/8 [==============================] - 1s 81ms/step - loss: 1.7107 - accuracy: 0.2359 - val_loss: 1.6586 - val_accuracy: 0.2409\n",
      "Epoch 56/100\n",
      "8/8 [==============================] - 1s 83ms/step - loss: 1.7026 - accuracy: 0.2374 - val_loss: 1.6578 - val_accuracy: 0.2705\n",
      "Epoch 57/100\n",
      "8/8 [==============================] - 1s 82ms/step - loss: 1.6960 - accuracy: 0.2396 - val_loss: 1.6599 - val_accuracy: 0.2864\n",
      "Epoch 58/100\n",
      "8/8 [==============================] - 1s 81ms/step - loss: 1.6901 - accuracy: 0.2341 - val_loss: 1.6482 - val_accuracy: 0.2591\n",
      "Epoch 59/100\n",
      "8/8 [==============================] - 1s 81ms/step - loss: 1.6911 - accuracy: 0.2404 - val_loss: 1.6514 - val_accuracy: 0.2523\n",
      "Epoch 60/100\n",
      "8/8 [==============================] - 1s 82ms/step - loss: 1.7442 - accuracy: 0.2490 - val_loss: 1.9534 - val_accuracy: 0.2955\n",
      "Epoch 61/100\n",
      "8/8 [==============================] - 1s 81ms/step - loss: 1.8750 - accuracy: 0.2311 - val_loss: 1.7476 - val_accuracy: 0.3273\n",
      "Epoch 62/100\n",
      "8/8 [==============================] - 1s 83ms/step - loss: 1.8698 - accuracy: 0.2462 - val_loss: 1.7986 - val_accuracy: 0.2977\n",
      "Epoch 63/100\n",
      "8/8 [==============================] - 1s 82ms/step - loss: 1.7454 - accuracy: 0.3126 - val_loss: 1.6708 - val_accuracy: 0.3045\n",
      "Epoch 64/100\n",
      "8/8 [==============================] - 1s 81ms/step - loss: 1.7162 - accuracy: 0.2333 - val_loss: 1.6615 - val_accuracy: 0.2318\n",
      "Epoch 65/100\n",
      "8/8 [==============================] - 1s 81ms/step - loss: 1.7261 - accuracy: 0.2407 - val_loss: 1.6475 - val_accuracy: 0.3000\n",
      "Epoch 66/100\n",
      "8/8 [==============================] - 1s 80ms/step - loss: 1.6945 - accuracy: 0.2505 - val_loss: 1.6406 - val_accuracy: 0.2568\n",
      "Epoch 67/100\n",
      "8/8 [==============================] - 1s 83ms/step - loss: 1.6770 - accuracy: 0.2581 - val_loss: 1.6305 - val_accuracy: 0.2955\n",
      "Epoch 68/100\n",
      "8/8 [==============================] - 1s 82ms/step - loss: 1.6729 - accuracy: 0.2581 - val_loss: 1.6313 - val_accuracy: 0.3000\n",
      "Epoch 69/100\n",
      "8/8 [==============================] - 1s 80ms/step - loss: 1.6674 - accuracy: 0.2644 - val_loss: 1.6284 - val_accuracy: 0.2568\n",
      "Epoch 70/100\n",
      "8/8 [==============================] - 1s 83ms/step - loss: 1.6651 - accuracy: 0.2525 - val_loss: 1.6224 - val_accuracy: 0.2705\n",
      "Epoch 71/100\n",
      "8/8 [==============================] - 1s 81ms/step - loss: 1.6645 - accuracy: 0.2583 - val_loss: 1.6215 - val_accuracy: 0.3000\n",
      "Epoch 72/100\n",
      "8/8 [==============================] - 1s 82ms/step - loss: 1.6615 - accuracy: 0.2568 - val_loss: 1.6215 - val_accuracy: 0.2659\n",
      "Epoch 73/100\n",
      "8/8 [==============================] - 1s 81ms/step - loss: 1.6589 - accuracy: 0.2715 - val_loss: 1.6156 - val_accuracy: 0.3114\n",
      "Epoch 74/100\n",
      "8/8 [==============================] - 1s 84ms/step - loss: 1.6519 - accuracy: 0.2712 - val_loss: 1.6089 - val_accuracy: 0.3000\n",
      "Epoch 75/100\n",
      "8/8 [==============================] - 1s 80ms/step - loss: 1.6496 - accuracy: 0.2662 - val_loss: 1.6114 - val_accuracy: 0.2955\n",
      "Epoch 76/100\n",
      "8/8 [==============================] - 1s 83ms/step - loss: 1.6472 - accuracy: 0.2568 - val_loss: 1.6094 - val_accuracy: 0.3341\n",
      "Epoch 77/100\n",
      "8/8 [==============================] - 1s 81ms/step - loss: 1.6527 - accuracy: 0.2765 - val_loss: 1.6135 - val_accuracy: 0.3364\n",
      "Epoch 78/100\n",
      "8/8 [==============================] - 1s 82ms/step - loss: 1.6418 - accuracy: 0.2654 - val_loss: 1.6007 - val_accuracy: 0.3227\n",
      "Epoch 79/100\n",
      "8/8 [==============================] - 1s 80ms/step - loss: 1.6436 - accuracy: 0.2833 - val_loss: 1.6150 - val_accuracy: 0.2591\n",
      "Epoch 80/100\n",
      "8/8 [==============================] - 1s 81ms/step - loss: 1.6461 - accuracy: 0.2692 - val_loss: 1.6312 - val_accuracy: 0.3614\n",
      "Epoch 81/100\n",
      "8/8 [==============================] - 1s 81ms/step - loss: 1.6476 - accuracy: 0.2990 - val_loss: 1.6164 - val_accuracy: 0.2591\n",
      "Epoch 82/100\n",
      "8/8 [==============================] - 1s 81ms/step - loss: 1.6460 - accuracy: 0.2705 - val_loss: 1.6061 - val_accuracy: 0.3682\n",
      "Epoch 83/100\n",
      "8/8 [==============================] - 1s 81ms/step - loss: 1.6440 - accuracy: 0.2992 - val_loss: 1.5883 - val_accuracy: 0.3182\n",
      "Epoch 84/100\n",
      "8/8 [==============================] - 1s 82ms/step - loss: 1.6295 - accuracy: 0.2866 - val_loss: 1.5866 - val_accuracy: 0.3182\n",
      "Epoch 85/100\n",
      "8/8 [==============================] - 1s 82ms/step - loss: 1.6258 - accuracy: 0.2861 - val_loss: 1.5988 - val_accuracy: 0.3591\n",
      "Epoch 86/100\n",
      "8/8 [==============================] - 1s 81ms/step - loss: 1.6346 - accuracy: 0.3040 - val_loss: 1.6053 - val_accuracy: 0.2523\n",
      "Epoch 87/100\n",
      "8/8 [==============================] - 1s 82ms/step - loss: 1.6308 - accuracy: 0.2869 - val_loss: 1.5872 - val_accuracy: 0.3568\n",
      "Epoch 88/100\n",
      "8/8 [==============================] - 1s 82ms/step - loss: 1.6220 - accuracy: 0.3061 - val_loss: 1.5802 - val_accuracy: 0.3364\n",
      "Epoch 89/100\n",
      "8/8 [==============================] - 1s 80ms/step - loss: 1.6168 - accuracy: 0.3179 - val_loss: 1.5776 - val_accuracy: 0.3273\n",
      "Epoch 90/100\n",
      "8/8 [==============================] - 1s 81ms/step - loss: 1.6366 - accuracy: 0.2823 - val_loss: 1.5826 - val_accuracy: 0.3636\n",
      "Epoch 91/100\n",
      "8/8 [==============================] - 1s 81ms/step - loss: 1.7833 - accuracy: 0.2692 - val_loss: 2.0286 - val_accuracy: 0.2295\n",
      "Epoch 92/100\n",
      "8/8 [==============================] - 1s 81ms/step - loss: 1.8055 - accuracy: 0.2500 - val_loss: 1.6553 - val_accuracy: 0.2523\n",
      "Epoch 93/100\n",
      "8/8 [==============================] - 1s 80ms/step - loss: 1.7332 - accuracy: 0.2699 - val_loss: 1.7018 - val_accuracy: 0.2659\n",
      "Epoch 94/100\n",
      "8/8 [==============================] - 1s 80ms/step - loss: 3.4756 - accuracy: 0.1366 - val_loss: 3.4743 - val_accuracy: 0.0864\n",
      "Epoch 95/100\n",
      "8/8 [==============================] - 1s 80ms/step - loss: 3.2975 - accuracy: 0.0919 - val_loss: 3.2925 - val_accuracy: 0.1000\n",
      "Epoch 96/100\n",
      "8/8 [==============================] - 1s 80ms/step - loss: 3.1281 - accuracy: 0.0899 - val_loss: 3.1234 - val_accuracy: 0.1000\n",
      "Epoch 97/100\n",
      "8/8 [==============================] - 1s 83ms/step - loss: 2.9834 - accuracy: 0.0912 - val_loss: 2.9888 - val_accuracy: 0.0614\n",
      "Epoch 98/100\n",
      "8/8 [==============================] - 1s 82ms/step - loss: 2.8718 - accuracy: 0.0942 - val_loss: 2.8851 - val_accuracy: 0.0614\n",
      "Epoch 99/100\n",
      "8/8 [==============================] - 1s 81ms/step - loss: 2.7882 - accuracy: 0.0942 - val_loss: 2.8100 - val_accuracy: 0.0614\n",
      "Epoch 100/100\n",
      "8/8 [==============================] - 1s 81ms/step - loss: 2.7273 - accuracy: 0.0942 - val_loss: 2.7526 - val_accuracy: 0.0614\n",
      "35/35 [==============================] - 0s 5ms/step - loss: 2.7031 - accuracy: 0.0909\n"
     ]
    },
    {
     "data": {
      "image/png": "[encoded data removed]",
      "text/plain": [
       "<Figure size 504x432 with 2 Axes>"
      ]
     },
     "metadata": {
      "needs_background": "light"
     },
     "output_type": "display_data"
    },
    {
     "name": "stdout",
     "output_type": "stream",
     "text": [
      "Precision:0.00826\n",
      "Recall:0.0909\n",
      "F1_score:0.0152\n",
      "              precision    recall  f1-score   support\n",
      "\n",
      "           0       0.00      0.00      0.00       100\n",
      "           1       0.00      0.00      0.00       100\n",
      "           2       0.00      0.00      0.00       100\n",
      "           3       0.00      0.00      0.00       100\n",
      "           4       0.09      1.00      0.17       100\n",
      "           5       0.00      0.00      0.00       100\n",
      "           6       0.00      0.00      0.00       100\n",
      "           7       0.00      0.00      0.00       100\n",
      "           8       0.00      0.00      0.00       100\n",
      "           9       0.00      0.00      0.00       100\n",
      "          10       0.00      0.00      0.00       100\n",
      "\n",
      "    accuracy                           0.09      1100\n",
      "   macro avg       0.01      0.09      0.02      1100\n",
      "weighted avg       0.01      0.09      0.02      1100\n",
      "\n",
      "Epoch 1/100\n",
      "8/8 [==============================] - 1s 98ms/step - loss: 2.4025 - accuracy: 0.0907 - val_loss: 2.3979 - val_accuracy: 0.0955\n",
      "Epoch 2/100\n",
      "8/8 [==============================] - 1s 80ms/step - loss: 2.3980 - accuracy: 0.0828 - val_loss: 2.3979 - val_accuracy: 0.0750\n",
      "Epoch 3/100\n",
      "8/8 [==============================] - 1s 82ms/step - loss: 2.3980 - accuracy: 0.0962 - val_loss: 2.3978 - val_accuracy: 0.0955\n",
      "Epoch 4/100\n",
      "8/8 [==============================] - 1s 84ms/step - loss: 2.3979 - accuracy: 0.0904 - val_loss: 2.3981 - val_accuracy: 0.0750\n",
      "Epoch 5/100\n",
      "8/8 [==============================] - 1s 82ms/step - loss: 2.3979 - accuracy: 0.0909 - val_loss: 2.3983 - val_accuracy: 0.0750\n",
      "Epoch 6/100\n",
      "8/8 [==============================] - 1s 82ms/step - loss: 2.3979 - accuracy: 0.0927 - val_loss: 2.3984 - val_accuracy: 0.0750\n",
      "Epoch 7/100\n",
      "8/8 [==============================] - 1s 81ms/step - loss: 2.3979 - accuracy: 0.0927 - val_loss: 2.3986 - val_accuracy: 0.0750\n",
      "Epoch 8/100\n",
      "8/8 [==============================] - 1s 82ms/step - loss: 2.3979 - accuracy: 0.0927 - val_loss: 2.3987 - val_accuracy: 0.0750\n",
      "Epoch 9/100\n",
      "8/8 [==============================] - 1s 81ms/step - loss: 2.3979 - accuracy: 0.0927 - val_loss: 2.3989 - val_accuracy: 0.0750\n",
      "Epoch 10/100\n",
      "8/8 [==============================] - 1s 80ms/step - loss: 2.3978 - accuracy: 0.0927 - val_loss: 2.3990 - val_accuracy: 0.0750\n",
      "Epoch 11/100\n",
      "8/8 [==============================] - 1s 81ms/step - loss: 2.3978 - accuracy: 0.0927 - val_loss: 2.3991 - val_accuracy: 0.0750\n",
      "Epoch 12/100\n",
      "8/8 [==============================] - 1s 80ms/step - loss: 2.3978 - accuracy: 0.0927 - val_loss: 2.3992 - val_accuracy: 0.0750\n",
      "Epoch 13/100\n",
      "8/8 [==============================] - 1s 83ms/step - loss: 2.3978 - accuracy: 0.0927 - val_loss: 2.3992 - val_accuracy: 0.0750\n",
      "Epoch 14/100\n",
      "8/8 [==============================] - 1s 80ms/step - loss: 2.3978 - accuracy: 0.0927 - val_loss: 2.3994 - val_accuracy: 0.0750\n",
      "Epoch 15/100\n",
      "8/8 [==============================] - 1s 81ms/step - loss: 2.3978 - accuracy: 0.0927 - val_loss: 2.3994 - val_accuracy: 0.0750\n",
      "Epoch 16/100\n",
      "8/8 [==============================] - 1s 79ms/step - loss: 2.3978 - accuracy: 0.0927 - val_loss: 2.3994 - val_accuracy: 0.0750\n",
      "Epoch 17/100\n",
      "8/8 [==============================] - 1s 80ms/step - loss: 2.3978 - accuracy: 0.0927 - val_loss: 2.3995 - val_accuracy: 0.0750\n",
      "Epoch 18/100\n",
      "8/8 [==============================] - 1s 82ms/step - loss: 2.3978 - accuracy: 0.0927 - val_loss: 2.3996 - val_accuracy: 0.0750\n",
      "Epoch 19/100\n",
      "8/8 [==============================] - 1s 82ms/step - loss: 2.3978 - accuracy: 0.0927 - val_loss: 2.3995 - val_accuracy: 0.0750\n",
      "Epoch 20/100\n",
      "8/8 [==============================] - 1s 80ms/step - loss: 2.3978 - accuracy: 0.0927 - val_loss: 2.3996 - val_accuracy: 0.0750\n",
      "Epoch 21/100\n",
      "8/8 [==============================] - 1s 82ms/step - loss: 2.3978 - accuracy: 0.0927 - val_loss: 2.3995 - val_accuracy: 0.0750\n",
      "Epoch 22/100\n",
      "8/8 [==============================] - 1s 81ms/step - loss: 2.3978 - accuracy: 0.0927 - val_loss: 2.3996 - val_accuracy: 0.0750\n",
      "Epoch 23/100\n",
      "8/8 [==============================] - 1s 81ms/step - loss: 2.3978 - accuracy: 0.0927 - val_loss: 2.3995 - val_accuracy: 0.0750\n",
      "Epoch 24/100\n",
      "8/8 [==============================] - 1s 83ms/step - loss: 2.3978 - accuracy: 0.0927 - val_loss: 2.3996 - val_accuracy: 0.0750\n",
      "Epoch 25/100\n",
      "8/8 [==============================] - 1s 82ms/step - loss: 2.3978 - accuracy: 0.0927 - val_loss: 2.3997 - val_accuracy: 0.0750\n",
      "Epoch 26/100\n",
      "8/8 [==============================] - 1s 83ms/step - loss: 2.3978 - accuracy: 0.0927 - val_loss: 2.3998 - val_accuracy: 0.0750\n",
      "Epoch 27/100\n",
      "8/8 [==============================] - 1s 81ms/step - loss: 2.3978 - accuracy: 0.0927 - val_loss: 2.3997 - val_accuracy: 0.0750\n",
      "Epoch 28/100\n",
      "8/8 [==============================] - 1s 81ms/step - loss: 2.3978 - accuracy: 0.0927 - val_loss: 2.3997 - val_accuracy: 0.0750\n",
      "Epoch 29/100\n",
      "8/8 [==============================] - 1s 82ms/step - loss: 2.3978 - accuracy: 0.0927 - val_loss: 2.3999 - val_accuracy: 0.0750\n",
      "Epoch 30/100\n",
      "8/8 [==============================] - 1s 80ms/step - loss: 2.3978 - accuracy: 0.0927 - val_loss: 2.3999 - val_accuracy: 0.0750\n",
      "Epoch 31/100\n",
      "8/8 [==============================] - 1s 82ms/step - loss: 2.3978 - accuracy: 0.0927 - val_loss: 2.3999 - val_accuracy: 0.0750\n",
      "Epoch 32/100\n",
      "8/8 [==============================] - 1s 81ms/step - loss: 2.3978 - accuracy: 0.0894 - val_loss: 2.3998 - val_accuracy: 0.0750\n",
      "Epoch 33/100\n",
      "8/8 [==============================] - 1s 82ms/step - loss: 2.3978 - accuracy: 0.0927 - val_loss: 2.3999 - val_accuracy: 0.0750\n",
      "Epoch 34/100\n",
      "8/8 [==============================] - 1s 82ms/step - loss: 2.3978 - accuracy: 0.0927 - val_loss: 2.3999 - val_accuracy: 0.0750\n",
      "Epoch 35/100\n",
      "8/8 [==============================] - 1s 80ms/step - loss: 2.3978 - accuracy: 0.0927 - val_loss: 2.3999 - val_accuracy: 0.0750\n",
      "Epoch 36/100\n",
      "8/8 [==============================] - 1s 82ms/step - loss: 2.3978 - accuracy: 0.0927 - val_loss: 2.3999 - val_accuracy: 0.0750\n",
      "Epoch 37/100\n",
      "8/8 [==============================] - 1s 81ms/step - loss: 2.3978 - accuracy: 0.0927 - val_loss: 2.3999 - val_accuracy: 0.0750\n",
      "Epoch 38/100\n",
      "8/8 [==============================] - 1s 81ms/step - loss: 2.3978 - accuracy: 0.0884 - val_loss: 2.4000 - val_accuracy: 0.0727\n",
      "Epoch 39/100\n",
      "8/8 [==============================] - 1s 81ms/step - loss: 2.3978 - accuracy: 0.0929 - val_loss: 2.3999 - val_accuracy: 0.0727\n",
      "Epoch 40/100\n",
      "8/8 [==============================] - 1s 79ms/step - loss: 2.3978 - accuracy: 0.0929 - val_loss: 2.3999 - val_accuracy: 0.0727\n",
      "Epoch 41/100\n",
      "8/8 [==============================] - 1s 80ms/step - loss: 2.3978 - accuracy: 0.0934 - val_loss: 2.3999 - val_accuracy: 0.0750\n",
      "Epoch 42/100\n",
      "8/8 [==============================] - 1s 81ms/step - loss: 2.3978 - accuracy: 0.0927 - val_loss: 2.3999 - val_accuracy: 0.0750\n",
      "Epoch 43/100\n",
      "8/8 [==============================] - 1s 83ms/step - loss: 2.3978 - accuracy: 0.0909 - val_loss: 2.3999 - val_accuracy: 0.0727\n",
      "Epoch 44/100\n",
      "8/8 [==============================] - 1s 83ms/step - loss: 2.3978 - accuracy: 0.0894 - val_loss: 2.4000 - val_accuracy: 0.0750\n",
      "Epoch 45/100\n",
      "8/8 [==============================] - 1s 82ms/step - loss: 2.3978 - accuracy: 0.0891 - val_loss: 2.3998 - val_accuracy: 0.0727\n",
      "Epoch 46/100\n",
      "8/8 [==============================] - 1s 81ms/step - loss: 2.3978 - accuracy: 0.0914 - val_loss: 2.3998 - val_accuracy: 0.0750\n",
      "Epoch 47/100\n",
      "8/8 [==============================] - 1s 82ms/step - loss: 2.3978 - accuracy: 0.0894 - val_loss: 2.3998 - val_accuracy: 0.0750\n",
      "Epoch 48/100\n",
      "8/8 [==============================] - 1s 81ms/step - loss: 2.3978 - accuracy: 0.0942 - val_loss: 2.3998 - val_accuracy: 0.0727\n",
      "Epoch 49/100\n",
      "8/8 [==============================] - 1s 80ms/step - loss: 2.3978 - accuracy: 0.0929 - val_loss: 2.3998 - val_accuracy: 0.0727\n",
      "Epoch 50/100\n",
      "8/8 [==============================] - 1s 82ms/step - loss: 2.3978 - accuracy: 0.0929 - val_loss: 2.3999 - val_accuracy: 0.0727\n",
      "Epoch 51/100\n",
      "8/8 [==============================] - 1s 80ms/step - loss: 2.3978 - accuracy: 0.0929 - val_loss: 2.3998 - val_accuracy: 0.0727\n",
      "Epoch 52/100\n",
      "8/8 [==============================] - 1s 80ms/step - loss: 2.3978 - accuracy: 0.0929 - val_loss: 2.3999 - val_accuracy: 0.0727\n",
      "Epoch 53/100\n",
      "8/8 [==============================] - 1s 81ms/step - loss: 2.3978 - accuracy: 0.0874 - val_loss: 2.4000 - val_accuracy: 0.0750\n",
      "Epoch 54/100\n",
      "8/8 [==============================] - 1s 81ms/step - loss: 2.3978 - accuracy: 0.0927 - val_loss: 2.3999 - val_accuracy: 0.0750\n",
      "Epoch 55/100\n",
      "8/8 [==============================] - 1s 81ms/step - loss: 2.3978 - accuracy: 0.0927 - val_loss: 2.3999 - val_accuracy: 0.0727\n",
      "Epoch 56/100\n",
      "8/8 [==============================] - 1s 82ms/step - loss: 2.3978 - accuracy: 0.0914 - val_loss: 2.3999 - val_accuracy: 0.0727\n",
      "Epoch 57/100\n",
      "8/8 [==============================] - 1s 81ms/step - loss: 2.3978 - accuracy: 0.0929 - val_loss: 2.3998 - val_accuracy: 0.0727\n",
      "Epoch 58/100\n",
      "8/8 [==============================] - 1s 82ms/step - loss: 2.3978 - accuracy: 0.0929 - val_loss: 2.4000 - val_accuracy: 0.0727\n",
      "Epoch 59/100\n",
      "8/8 [==============================] - 1s 83ms/step - loss: 2.3978 - accuracy: 0.0929 - val_loss: 2.3999 - val_accuracy: 0.0727\n",
      "Epoch 60/100\n",
      "8/8 [==============================] - 1s 82ms/step - loss: 2.3978 - accuracy: 0.0929 - val_loss: 2.3998 - val_accuracy: 0.0727\n",
      "Epoch 61/100\n",
      "8/8 [==============================] - 1s 81ms/step - loss: 2.3978 - accuracy: 0.0929 - val_loss: 2.3998 - val_accuracy: 0.0727\n",
      "Epoch 62/100\n",
      "8/8 [==============================] - 1s 81ms/step - loss: 2.3978 - accuracy: 0.0929 - val_loss: 2.3998 - val_accuracy: 0.0727\n",
      "Epoch 63/100\n",
      "8/8 [==============================] - 1s 80ms/step - loss: 2.3978 - accuracy: 0.0929 - val_loss: 2.3999 - val_accuracy: 0.0727\n",
      "Epoch 64/100\n",
      "8/8 [==============================] - 1s 81ms/step - loss: 2.3978 - accuracy: 0.0929 - val_loss: 2.3998 - val_accuracy: 0.0727\n",
      "Epoch 65/100\n",
      "8/8 [==============================] - 1s 83ms/step - loss: 2.3978 - accuracy: 0.0929 - val_loss: 2.4000 - val_accuracy: 0.0727\n",
      "Epoch 66/100\n",
      "8/8 [==============================] - 1s 81ms/step - loss: 2.3978 - accuracy: 0.0929 - val_loss: 2.3999 - val_accuracy: 0.0727\n",
      "Epoch 67/100\n",
      "8/8 [==============================] - 1s 82ms/step - loss: 2.3978 - accuracy: 0.0929 - val_loss: 2.4000 - val_accuracy: 0.0727\n",
      "Epoch 68/100\n",
      "8/8 [==============================] - 1s 82ms/step - loss: 2.3978 - accuracy: 0.0929 - val_loss: 2.4000 - val_accuracy: 0.0727\n",
      "Epoch 69/100\n",
      "8/8 [==============================] - 1s 80ms/step - loss: 2.3978 - accuracy: 0.0929 - val_loss: 2.3999 - val_accuracy: 0.0727\n",
      "Epoch 70/100\n",
      "8/8 [==============================] - 1s 82ms/step - loss: 2.3978 - accuracy: 0.0929 - val_loss: 2.4000 - val_accuracy: 0.0727\n",
      "Epoch 71/100\n",
      "8/8 [==============================] - 1s 82ms/step - loss: 2.3978 - accuracy: 0.0929 - val_loss: 2.3999 - val_accuracy: 0.0727\n",
      "Epoch 72/100\n",
      "8/8 [==============================] - 1s 82ms/step - loss: 2.3978 - accuracy: 0.0929 - val_loss: 2.3999 - val_accuracy: 0.0727\n",
      "Epoch 73/100\n",
      "8/8 [==============================] - 1s 82ms/step - loss: 2.3978 - accuracy: 0.0929 - val_loss: 2.3999 - val_accuracy: 0.0727\n",
      "Epoch 74/100\n",
      "8/8 [==============================] - 1s 82ms/step - loss: 2.3978 - accuracy: 0.0929 - val_loss: 2.3999 - val_accuracy: 0.0727\n",
      "Epoch 75/100\n",
      "8/8 [==============================] - 1s 80ms/step - loss: 2.3978 - accuracy: 0.0929 - val_loss: 2.3998 - val_accuracy: 0.0727\n",
      "Epoch 76/100\n",
      "8/8 [==============================] - 1s 83ms/step - loss: 2.3978 - accuracy: 0.0929 - val_loss: 2.3999 - val_accuracy: 0.0727\n",
      "Epoch 77/100\n",
      "8/8 [==============================] - 1s 82ms/step - loss: 2.3978 - accuracy: 0.0929 - val_loss: 2.3998 - val_accuracy: 0.0727\n",
      "Epoch 78/100\n",
      "8/8 [==============================] - 1s 80ms/step - loss: 2.3978 - accuracy: 0.0929 - val_loss: 2.4000 - val_accuracy: 0.0727\n",
      "Epoch 79/100\n",
      "8/8 [==============================] - 1s 82ms/step - loss: 2.3978 - accuracy: 0.0929 - val_loss: 2.3999 - val_accuracy: 0.0727\n",
      "Epoch 80/100\n",
      "8/8 [==============================] - 1s 82ms/step - loss: 2.3978 - accuracy: 0.0929 - val_loss: 2.3999 - val_accuracy: 0.0727\n",
      "Epoch 81/100\n",
      "8/8 [==============================] - 1s 82ms/step - loss: 2.3978 - accuracy: 0.0929 - val_loss: 2.3999 - val_accuracy: 0.0727\n",
      "Epoch 82/100\n",
      "8/8 [==============================] - 1s 82ms/step - loss: 2.3978 - accuracy: 0.0929 - val_loss: 2.4000 - val_accuracy: 0.0727\n",
      "Epoch 83/100\n",
      "8/8 [==============================] - 1s 80ms/step - loss: 2.3978 - accuracy: 0.0929 - val_loss: 2.3999 - val_accuracy: 0.0727\n",
      "Epoch 84/100\n",
      "8/8 [==============================] - 1s 83ms/step - loss: 2.3978 - accuracy: 0.0929 - val_loss: 2.3999 - val_accuracy: 0.0727\n",
      "Epoch 85/100\n",
      "8/8 [==============================] - 1s 82ms/step - loss: 2.3978 - accuracy: 0.0929 - val_loss: 2.4000 - val_accuracy: 0.0727\n",
      "Epoch 86/100\n",
      "8/8 [==============================] - 1s 80ms/step - loss: 2.3978 - accuracy: 0.0929 - val_loss: 2.4000 - val_accuracy: 0.0727\n",
      "Epoch 87/100\n",
      "8/8 [==============================] - 1s 80ms/step - loss: 2.3978 - accuracy: 0.0929 - val_loss: 2.4000 - val_accuracy: 0.0727\n",
      "Epoch 88/100\n",
      "8/8 [==============================] - 1s 81ms/step - loss: 2.3978 - accuracy: 0.0929 - val_loss: 2.3999 - val_accuracy: 0.0727\n",
      "Epoch 89/100\n",
      "8/8 [==============================] - 1s 81ms/step - loss: 2.3978 - accuracy: 0.0929 - val_loss: 2.4000 - val_accuracy: 0.0727\n",
      "Epoch 90/100\n",
      "8/8 [==============================] - 1s 82ms/step - loss: 2.3978 - accuracy: 0.0929 - val_loss: 2.3999 - val_accuracy: 0.0727\n",
      "Epoch 91/100\n",
      "8/8 [==============================] - 1s 81ms/step - loss: 2.3978 - accuracy: 0.0929 - val_loss: 2.3999 - val_accuracy: 0.0727\n",
      "Epoch 92/100\n",
      "8/8 [==============================] - 1s 81ms/step - loss: 2.3978 - accuracy: 0.0929 - val_loss: 2.4000 - val_accuracy: 0.0727\n",
      "Epoch 93/100\n",
      "8/8 [==============================] - 1s 81ms/step - loss: 2.3978 - accuracy: 0.0929 - val_loss: 2.3999 - val_accuracy: 0.0727\n",
      "Epoch 94/100\n",
      "8/8 [==============================] - 1s 80ms/step - loss: 2.3978 - accuracy: 0.0929 - val_loss: 2.4000 - val_accuracy: 0.0727\n",
      "Epoch 95/100\n",
      "8/8 [==============================] - 1s 81ms/step - loss: 2.3978 - accuracy: 0.0929 - val_loss: 2.3999 - val_accuracy: 0.0727\n",
      "Epoch 96/100\n",
      "8/8 [==============================] - 1s 81ms/step - loss: 2.3978 - accuracy: 0.0929 - val_loss: 2.3999 - val_accuracy: 0.0727\n",
      "Epoch 97/100\n",
      "8/8 [==============================] - 1s 82ms/step - loss: 2.3978 - accuracy: 0.0929 - val_loss: 2.4000 - val_accuracy: 0.0727\n",
      "Epoch 98/100\n",
      "8/8 [==============================] - 1s 82ms/step - loss: 2.3978 - accuracy: 0.0929 - val_loss: 2.3999 - val_accuracy: 0.0727\n",
      "Epoch 99/100\n",
      "8/8 [==============================] - 1s 80ms/step - loss: 2.3978 - accuracy: 0.0929 - val_loss: 2.4000 - val_accuracy: 0.0727\n",
      "Epoch 100/100\n",
      "8/8 [==============================] - 1s 83ms/step - loss: 2.3978 - accuracy: 0.0929 - val_loss: 2.4000 - val_accuracy: 0.0727\n",
      "35/35 [==============================] - 0s 5ms/step - loss: 2.3980 - accuracy: 0.0909\n"
     ]
    },
    {
     "data": {
      "image/png": "[encoded data removed]",
      "text/plain": [
       "<Figure size 504x432 with 2 Axes>"
      ]
     },
     "metadata": {
      "needs_background": "light"
     },
     "output_type": "display_data"
    },
    {
     "name": "stdout",
     "output_type": "stream",
     "text": [
      "Precision:0.00826\n",
      "Recall:0.0909\n",
      "F1_score:0.0152\n",
      "              precision    recall  f1-score   support\n",
      "\n",
      "           0       0.00      0.00      0.00       100\n",
      "           1       0.00      0.00      0.00       100\n",
      "           2       0.00      0.00      0.00       100\n",
      "           3       0.00      0.00      0.00       100\n",
      "           4       0.00      0.00      0.00       100\n",
      "           5       0.00      0.00      0.00       100\n",
      "           6       0.00      0.00      0.00       100\n",
      "           7       0.00      0.00      0.00       100\n",
      "           8       0.00      0.00      0.00       100\n",
      "           9       0.00      0.00      0.00       100\n",
      "          10       0.09      1.00      0.17       100\n",
      "\n",
      "    accuracy                           0.09      1100\n",
      "   macro avg       0.01      0.09      0.02      1100\n",
      "weighted avg       0.01      0.09      0.02      1100\n",
      "\n",
      "\n",
      "K-fold cross validation Accuracy: ['0.3982', '0.0909', '0.0909', '0.0909', '0.0909']\n"
     ]
    }
   ],
   "source": [
    "# 주어진 데이터를 학습 데이터와 테스트 데이터로 분리\n",
    "skf = StratifiedKFold(n_splits=5, random_state=42, shuffle=True)\n",
    "\n",
    "accuracy = []\n",
    "\n",
    "for train, validation in skf.split(x,y):\n",
    "    model = keras.Sequential()\n",
    "    model.add(Conv1D(16, 9, activation='relu', input_shape=(len(x[0]),1)))\n",
    "    model.add(Conv1D(16, 9, activation='relu'))\n",
    "    model.add(Conv1D(32, 9, activation='relu'))\n",
    "    model.add(Conv1D(32, 9, activation='relu'))\n",
    "    model.add(Conv1D(32, 9, activation='relu'))\n",
    "    model.add(Conv1D(32, 9, activation='relu'))\n",
    "    model.add(Conv1D(32, 9, activation='relu'))\n",
    "    model.add(Flatten())\n",
    "    model.add(Dense(10, activation='relu'))\n",
    "    model.add(Dense(10, activation='relu'))\n",
    "    model.add(Dense(10, activation='relu'))\n",
    "    model.add(Dense(11, activation=\"softmax\"))\n",
    "    model.compile(loss='sparse_categorical_crossentropy', optimizer='adam', metrics=['accuracy'])\n",
    "  #model.summary()\n",
    "\n",
    "  # 학습 데이터를 이용해서 학습\n",
    "    hist = model.fit(x[train], y[train], epochs=100, batch_size=512, verbose=1, validation_split=0.1)  \n",
    "\n",
    "  # 테스트 데이터를 이용해서 검증\n",
    "    k_accuracy = '%.4f' % (model.evaluate(x[validation], y[validation])[1])\n",
    "    accuracy.append(k_accuracy)\n",
    "  \n",
    "  #confusion matrix\n",
    "    y_ = model.predict(x[validation])\n",
    "    predicted = np.argmax(y_, axis = -1)\n",
    "\n",
    "    classes = ['class1', 'class2', 'class3', 'class4', 'class5', 'class6', 'class7','class8', 'class9', 'class10','class11' ]\n",
    "    conf_mat = confusion_matrix(y[validation], predicted)\n",
    "    fig, ax = plt.subplots(figsize=(7,6))\n",
    "    plt.setp(ax.get_xticklabels(), rotation=45, ha=\"right\", rotation_mode=\"anchor\")\n",
    "    plt.title('Confusion matrix')\n",
    "    plt.ylabel('Actual label')\n",
    "    plt.xlabel('Predicted label')\n",
    "    sns.heatmap(conf_mat, annot=True, fmt='d', xticklabels=classes, yticklabels=classes)\n",
    "    plt.show()\n",
    "\n",
    "  #정밀도, 재현도, f1-score\n",
    "    precision = precision_score(y[validation], predicted, average='weighted')\n",
    "    recall = recall_score(y[validation], predicted, average='weighted')\n",
    "    f1 = f1_score(y[validation], predicted, average='weighted')\n",
    "\n",
    "    print('Precision:{:.3}'.format(precision))\n",
    "    print('Recall:{:.3}'.format(recall))\n",
    "    print('F1_score:{:.3}'.format(f1))\n",
    "\n",
    "  #분류 보고서\n",
    "    print(classification_report(y[validation], predicted))\n",
    "\n",
    "# 전체 검증 결과 출력\n",
    "print('\\nK-fold cross validation Accuracy: {}'.format(accuracy))"
   ]
  },
  {
   "cell_type": "code",
   "execution_count": 23,
   "metadata": {
    "colab": {
     "base_uri": "https://localhost:8080/"
    },
    "id": "PeHHHEUhiJH5",
    "outputId": "6a2da373-e7a9-4eee-9e43-93c1f902b923"
   },
   "outputs": [
    {
     "data": {
      "text/plain": [
       "['0.3982', '0.0909', '0.0909', '0.0909', '0.0909']"
      ]
     },
     "execution_count": 23,
     "metadata": {},
     "output_type": "execute_result"
    }
   ],
   "source": [
    "accuracy"
   ]
  },
  {
   "cell_type": "code",
   "execution_count": 24,
   "metadata": {
    "colab": {
     "base_uri": "https://localhost:8080/"
    },
    "id": "dx86ejQ616uZ",
    "outputId": "802bfc0c-f28c-42ce-ed88-6b911fc3d1ab"
   },
   "outputs": [
    {
     "data": {
      "text/plain": [
       "[0.3982, 0.0909, 0.0909, 0.0909, 0.0909]"
      ]
     },
     "execution_count": 24,
     "metadata": {},
     "output_type": "execute_result"
    }
   ],
   "source": [
    "acc = list(map(float, accuracy))\n",
    "acc"
   ]
  },
  {
   "cell_type": "code",
   "execution_count": 25,
   "metadata": {
    "id": "-f4pHhxY2APw"
   },
   "outputs": [
    {
     "data": {
      "text/plain": [
       "0.15236"
      ]
     },
     "execution_count": 25,
     "metadata": {},
     "output_type": "execute_result"
    }
   ],
   "source": [
    "np.mean(acc)"
   ]
  },
  {
   "cell_type": "code",
   "execution_count": null,
   "metadata": {},
   "outputs": [],
   "source": []
  }
 ],
 "metadata": {
  "accelerator": "GPU",
  "colab": {
   "collapsed_sections": [],
   "name": "★210914_1D-CNN_4000point_8736kDa_StratifiedKfold.ipynb",
   "provenance": []
  },
  "kernelspec": {
   "display_name": "Python 3 (ipykernel)",
   "language": "python",
   "name": "python3"
  },
  "language_info": {
   "codemirror_mode": {
    "name": "ipython",
    "version": 3
   },
   "file_extension": ".py",
   "mimetype": "text/x-python",
   "name": "python",
   "nbconvert_exporter": "python",
   "pygments_lexer": "ipython3",
   "version": "3.9.7"
  }
 },
 "nbformat": 4,
 "nbformat_minor": 1
}
