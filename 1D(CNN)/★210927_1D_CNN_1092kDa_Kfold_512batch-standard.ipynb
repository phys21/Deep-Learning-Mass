{
 "cells": [
  {
   "cell_type": "markdown",
   "metadata": {
    "id": "GavgmjDytAsf"
   },
   "source": [
    "# 데이터 로딩"
   ]
  },
  {
   "cell_type": "code",
   "execution_count": 1,
   "metadata": {
    "colab": {
     "base_uri": "https://localhost:8080/"
    },
    "id": "pUWSYQ9FNt_C",
    "outputId": "46237811-4e40-413a-9b28-e21cff94e8b8"
   },
   "outputs": [],
   "source": [
    "#from google.colab import drive\n",
    "#drive.mount('/content/drive')"
   ]
  },
  {
   "cell_type": "code",
   "execution_count": 2,
   "metadata": {},
   "outputs": [],
   "source": [
    "import warnings\n",
    "warnings.filterwarnings(action='ignore')"
   ]
  },
  {
   "cell_type": "code",
   "execution_count": 3,
   "metadata": {},
   "outputs": [],
   "source": [
    "import os\n",
    "os.environ[\"CUDA_DEVICE_ORDER\"]=\"PCI_BUS_ID\"\n",
    "os.environ[\"CUDA_VISIBLE_DEVICES\"]=\"1\""
   ]
  },
  {
   "cell_type": "code",
   "execution_count": 4,
   "metadata": {},
   "outputs": [
    {
     "name": "stderr",
     "output_type": "stream",
     "text": [
      "2021-09-28 22:53:50.241434: I tensorflow/core/platform/cpu_feature_guard.cc:142] This TensorFlow binary is optimized with oneAPI Deep Neural Network Library (oneDNN) to use the following CPU instructions in performance-critical operations:  AVX2 AVX512F FMA\n",
      "To enable them in other operations, rebuild TensorFlow with the appropriate compiler flags.\n"
     ]
    },
    {
     "data": {
      "text/plain": [
       "[name: \"/device:CPU:0\"\n",
       " device_type: \"CPU\"\n",
       " memory_limit: 268435456\n",
       " locality {\n",
       " }\n",
       " incarnation: 242480352876341558,\n",
       " name: \"/device:GPU:0\"\n",
       " device_type: \"GPU\"\n",
       " memory_limit: 22986817536\n",
       " locality {\n",
       "   bus_id: 1\n",
       "   links {\n",
       "   }\n",
       " }\n",
       " incarnation: 5391799815259184874\n",
       " physical_device_desc: \"device: 0, name: GeForce RTX 3090, pci bus id: 0000:68:00.0, compute capability: 8.6\"]"
      ]
     },
     "execution_count": 4,
     "metadata": {},
     "output_type": "execute_result"
    },
    {
     "name": "stderr",
     "output_type": "stream",
     "text": [
      "2021-09-28 22:53:50.681782: I tensorflow/core/common_runtime/gpu/gpu_device.cc:1510] Created device /device:GPU:0 with 21921 MB memory:  -> device: 0, name: GeForce RTX 3090, pci bus id: 0000:68:00.0, compute capability: 8.6\n"
     ]
    }
   ],
   "source": [
    "from tensorflow.python.client import device_lib\n",
    "device_lib.list_local_devices()"
   ]
  },
  {
   "cell_type": "code",
   "execution_count": 5,
   "metadata": {
    "id": "7tpIBpEXNpjm"
   },
   "outputs": [],
   "source": [
    "import numpy as np\n",
    "import pandas as pd\n",
    "import matplotlib.pyplot as plt"
   ]
  },
  {
   "cell_type": "code",
   "execution_count": 6,
   "metadata": {
    "colab": {
     "base_uri": "https://localhost:8080/"
    },
    "id": "EYw7FBvHs5E9",
    "outputId": "cc48b6dd-c461-48e6-f44f-81963c68fa0a",
    "scrolled": false
   },
   "outputs": [
    {
     "name": "stdout",
     "output_type": "stream",
     "text": [
      "[[26575154.39 26559429.85 26577232.39 ... 26563264.35 26578401.78\n",
      "         0.  ]\n",
      " [26582963.93 26557058.42 26559785.6  ... 26572279.   26548192.13\n",
      "         0.  ]\n",
      " [26553861.15 26569689.24 26569843.09 ... 26568090.14 26556285.29\n",
      "         0.  ]\n",
      " ...\n",
      " [26551749.62 26559928.27 26577873.1  ... 26558360.55 26571760.59\n",
      "     50000.  ]\n",
      " [26571114.14 26585314.96 26546662.98 ... 26550233.03 26543977.89\n",
      "     50000.  ]\n",
      " [26577773.84 26581361.52 26550459.41 ... 26561488.89 26544390.67\n",
      "     50000.  ]]\n"
     ]
    }
   ],
   "source": [
    "data = pd.read_csv('210923_total_freq_with_noise_2000point_1092kDa.csv')\n",
    "df1 = data.values[:] # 문자열을 부동소수점형으로 변환한다\n",
    "print(df1)"
   ]
  },
  {
   "cell_type": "markdown",
   "metadata": {
    "id": "tZIY7CbcwW6F"
   },
   "source": [
    "# 데이터 살펴보기"
   ]
  },
  {
   "cell_type": "markdown",
   "metadata": {
    "id": "nfk1doFWnhQn"
   },
   "source": [
    "152개의 속성 값이 있고, -1 또는 1로 레이블링 되어 있다.\n",
    "\n",
    "152개 속성 값은 어떤 센서의 값을 시간을 두고 측정한 것이다."
   ]
  },
  {
   "cell_type": "code",
   "execution_count": 7,
   "metadata": {
    "colab": {
     "base_uri": "https://localhost:8080/"
    },
    "id": "smA15EaF1hmV",
    "outputId": "d90ea451-0543-43bf-d740-795fd1207c63"
   },
   "outputs": [
    {
     "name": "stdout",
     "output_type": "stream",
     "text": [
      "0           0\n",
      "1           0\n",
      "2           0\n",
      "3           0\n",
      "4           0\n",
      "        ...  \n",
      "5495    50000\n",
      "5496    50000\n",
      "5497    50000\n",
      "5498    50000\n",
      "5499    50000\n",
      "Name: target, Length: 5500, dtype: int64\n"
     ]
    }
   ],
   "source": [
    "df2_1 = data[\"target\"]\n",
    "df2 = df2_1[:]\n",
    "print(df2)"
   ]
  },
  {
   "cell_type": "code",
   "execution_count": 8,
   "metadata": {
    "colab": {
     "base_uri": "https://localhost:8080/"
    },
    "id": "ClKB2D7ZpFnL",
    "outputId": "125a2cbe-62b9-44b6-ae4a-98b068fedc2c"
   },
   "outputs": [
    {
     "name": "stdout",
     "output_type": "stream",
     "text": [
      "(array([    0,  5000, 10000, 15000, 20000, 25000, 30000, 35000, 40000,\n",
      "       45000, 50000]), array([500, 500, 500, 500, 500, 500, 500, 500, 500, 500, 500]))\n"
     ]
    }
   ],
   "source": [
    "target_count = np.unique(df2, return_counts=True)\n",
    "print(target_count)"
   ]
  },
  {
   "cell_type": "code",
   "execution_count": 9,
   "metadata": {
    "colab": {
     "base_uri": "https://localhost:8080/"
    },
    "id": "Bu3NHl9_Npjq",
    "outputId": "48d579ad-691c-4d74-d846-ffeea98d9a27"
   },
   "outputs": [
    {
     "name": "stdout",
     "output_type": "stream",
     "text": [
      "(array([    0,  5000, 10000, 15000, 20000, 25000, 30000, 35000, 40000,\n",
      "       45000, 50000]), array([500, 500, 500, 500, 500, 500, 500, 500, 500, 500, 500]))\n"
     ]
    }
   ],
   "source": [
    "target_count = np.unique(df2, return_counts=True)\n",
    "print(target_count)"
   ]
  },
  {
   "cell_type": "markdown",
   "metadata": {
    "id": "ZB0UsHjLsS1I"
   },
   "source": [
    "target값 -1, 1을 category 인덱스 0, 1로 변경"
   ]
  },
  {
   "cell_type": "code",
   "execution_count": 10,
   "metadata": {
    "colab": {
     "base_uri": "https://localhost:8080/"
    },
    "id": "C0nNKyJ4oaxo",
    "outputId": "3b9a1b1c-025e-48ce-8a28-680f9bd5c46d"
   },
   "outputs": [
    {
     "name": "stdout",
     "output_type": "stream",
     "text": [
      "(array([ 0,  1,  2,  3,  4,  5,  6,  7,  8,  9, 10]), array([500, 500, 500, 500, 500, 500, 500, 500, 500, 500, 500]))\n"
     ]
    }
   ],
   "source": [
    "df2 = df2.copy()\n",
    "df2[df2 < 5000] = 0\n",
    "df2[df2 == 5000] = 1\n",
    "df2[df2 == 10000] = 2\n",
    "df2[df2 == 15000] = 3\n",
    "df2[df2 == 20000] = 4\n",
    "df2[df2 == 25000] = 5\n",
    "df2[df2 == 30000] = 6\n",
    "df2[df2 == 35000] = 7\n",
    "df2[df2 == 40000] = 8\n",
    "df2[df2 == 45000] = 9\n",
    "df2[df2 == 50000] = 10\n",
    "\n",
    "target_count = np.unique(df2, return_counts=True)\n",
    "print(target_count)"
   ]
  },
  {
   "cell_type": "markdown",
   "metadata": {
    "id": "PAYLXje8Eq9l"
   },
   "source": [
    "# 문제 정의\n",
    "\n",
    "152개의 순차적인 센서 값을 가지고 분류한다.\n"
   ]
  },
  {
   "cell_type": "markdown",
   "metadata": {
    "id": "piqvWOOgpjHt"
   },
   "source": [
    "# 데이터 준비\n"
   ]
  },
  {
   "cell_type": "markdown",
   "metadata": {
    "id": "GD2kOh0_pmvD"
   },
   "source": [
    "## x, y 쪼개기"
   ]
  },
  {
   "cell_type": "code",
   "execution_count": 11,
   "metadata": {
    "id": "5mB3dKMYpJej"
   },
   "outputs": [],
   "source": [
    "x, y = df1[:,:-1], df2[:]"
   ]
  },
  {
   "cell_type": "code",
   "execution_count": 12,
   "metadata": {
    "colab": {
     "base_uri": "https://localhost:8080/"
    },
    "id": "UWtHOkIvpJlZ",
    "outputId": "98f0ae6c-f761-44e5-9435-bd9756ecdeb7"
   },
   "outputs": [
    {
     "name": "stdout",
     "output_type": "stream",
     "text": [
      "(5500, 4000)\n",
      "(5500,)\n"
     ]
    }
   ],
   "source": [
    "print(x.shape)\n",
    "print(y.shape)"
   ]
  },
  {
   "cell_type": "code",
   "execution_count": 13,
   "metadata": {
    "colab": {
     "base_uri": "https://localhost:8080/"
    },
    "id": "4WVNNZy3Npjt",
    "outputId": "7bb9910c-34c7-4da9-be72-1c5a150de0f2"
   },
   "outputs": [
    {
     "data": {
      "text/plain": [
       "0        0\n",
       "1        0\n",
       "2        0\n",
       "3        0\n",
       "4        0\n",
       "        ..\n",
       "5495    10\n",
       "5496    10\n",
       "5497    10\n",
       "5498    10\n",
       "5499    10\n",
       "Name: target, Length: 5500, dtype: int64"
      ]
     },
     "execution_count": 13,
     "metadata": {},
     "output_type": "execute_result"
    }
   ],
   "source": [
    "y"
   ]
  },
  {
   "cell_type": "markdown",
   "metadata": {
    "id": "DYJfroxKpoOc"
   },
   "source": [
    "## normalization"
   ]
  },
  {
   "cell_type": "code",
   "execution_count": 14,
   "metadata": {
    "colab": {
     "base_uri": "https://localhost:8080/"
    },
    "id": "0edILhqfpJrT",
    "outputId": "e1b6e56a-056f-4f40-d925-5a22fa02ca79"
   },
   "outputs": [
    {
     "name": "stdout",
     "output_type": "stream",
     "text": [
      "26469655.36 26647767.36\n",
      "0.0 1.0\n"
     ]
    }
   ],
   "source": [
    "min = np.min(x)\n",
    "max = np.max(x)\n",
    "print(min, max)\n",
    "\n",
    "x = (x-min) / (max-min)\n",
    "\n",
    "min = np.min(x)\n",
    "max = np.max(x)\n",
    "print(min, max)\n"
   ]
  },
  {
   "cell_type": "code",
   "execution_count": 15,
   "metadata": {
    "id": "CA_Fs7IhrKhv"
   },
   "outputs": [],
   "source": [
    "x = np.expand_dims(x, -1)"
   ]
  },
  {
   "cell_type": "markdown",
   "metadata": {
    "id": "YUNV4PRWp-jO"
   },
   "source": [
    "## 섞고"
   ]
  },
  {
   "cell_type": "code",
   "execution_count": 16,
   "metadata": {
    "id": "rK0FR9OOpJxL"
   },
   "outputs": [],
   "source": [
    "shuffled_index = np.random.permutation(len(x))\n",
    "x = x[shuffled_index]\n",
    "y = y.iloc[shuffled_index]\n",
    "x, y = np.array(x), np.array(y)"
   ]
  },
  {
   "cell_type": "markdown",
   "metadata": {
    "id": "RbjrYGVMqAF3"
   },
   "source": [
    "## train, test 쪼개기"
   ]
  },
  {
   "cell_type": "code",
   "execution_count": 17,
   "metadata": {
    "id": "TfPpY9jPpJz4"
   },
   "outputs": [],
   "source": [
    "#split_index = int( len(x) * 0.8 )\n",
    "#train_x, test_x = np.array(x[:split_index]), np.array(x[split_index:])\n",
    "#train_y, test_y = np.array(y[:split_index]), np.array(y[split_index:])"
   ]
  },
  {
   "cell_type": "code",
   "execution_count": 18,
   "metadata": {
    "id": "BfNSU7FdpJub"
   },
   "outputs": [],
   "source": [
    "#train_x[1].shape"
   ]
  },
  {
   "cell_type": "code",
   "execution_count": 19,
   "metadata": {
    "id": "gsqd1yWWNpju"
   },
   "outputs": [],
   "source": [
    "#train_x[1]"
   ]
  },
  {
   "cell_type": "markdown",
   "metadata": {
    "id": "3Oynfz6SqZzx"
   },
   "source": [
    "# 모델 정의"
   ]
  },
  {
   "cell_type": "code",
   "execution_count": 20,
   "metadata": {
    "id": "p0JtVB5ApJoc"
   },
   "outputs": [],
   "source": [
    "import tensorflow as tf\n",
    "from sklearn.model_selection import KFold \n",
    "from tensorflow import keras\n",
    "from tensorflow.keras import optimizers\n",
    "from tensorflow.keras.layers import Dense, Conv1D, Flatten\n",
    "from sklearn.model_selection import cross_val_score \n",
    "from sklearn.model_selection import StratifiedKFold"
   ]
  },
  {
   "cell_type": "code",
   "execution_count": 21,
   "metadata": {
    "colab": {
     "base_uri": "https://localhost:8080/",
     "height": 1000
    },
    "id": "8FTlEW4umicO",
    "outputId": "288b35af-b541-464b-9b2c-2f1ca72bc264"
   },
   "outputs": [],
   "source": [
    "from tensorflow.keras.models import Sequential\n",
    "from tensorflow.keras.layers import Dense\n",
    "#from tensorflow.keras.utils import np_utils\n",
    "import pandas as pd\n",
    "import matplotlib.pyplot as plt\n",
    "from sklearn.metrics import confusion_matrix\n",
    "import seaborn as sns\n",
    "from sklearn.metrics import precision_score, recall_score, f1_score, roc_curve\n",
    "from sklearn.metrics import classification_report\n",
    "from sklearn.model_selection import StratifiedKFold"
   ]
  },
  {
   "cell_type": "code",
   "execution_count": 22,
   "metadata": {
    "colab": {
     "base_uri": "https://localhost:8080/",
     "height": 1000
    },
    "id": "8FTlEW4umicO",
    "outputId": "288b35af-b541-464b-9b2c-2f1ca72bc264",
    "scrolled": false
   },
   "outputs": [
    {
     "name": "stderr",
     "output_type": "stream",
     "text": [
      "2021-09-28 22:53:54.827614: I tensorflow/core/common_runtime/gpu/gpu_device.cc:1510] Created device /job:localhost/replica:0/task:0/device:GPU:0 with 21921 MB memory:  -> device: 0, name: GeForce RTX 3090, pci bus id: 0000:68:00.0, compute capability: 8.6\n",
      "2021-09-28 22:53:55.373362: I tensorflow/compiler/mlir/mlir_graph_optimization_pass.cc:185] None of the MLIR Optimization Passes are enabled (registered 2)\n"
     ]
    },
    {
     "name": "stdout",
     "output_type": "stream",
     "text": [
      "Epoch 1/100\n"
     ]
    },
    {
     "name": "stderr",
     "output_type": "stream",
     "text": [
      "2021-09-28 22:53:56.369107: I tensorflow/stream_executor/cuda/cuda_dnn.cc:369] Loaded cuDNN version 8100\n",
      "2021-09-28 22:53:57.719368: I tensorflow/stream_executor/cuda/cuda_blas.cc:1760] TensorFloat-32 will be used for the matrix multiplication. This will only be logged once.\n"
     ]
    },
    {
     "name": "stdout",
     "output_type": "stream",
     "text": [
      "8/8 [==============================] - 4s 196ms/step - loss: 2.4062 - accuracy: 0.0879 - val_loss: 2.3987 - val_accuracy: 0.0795\n",
      "Epoch 2/100\n",
      "8/8 [==============================] - 1s 84ms/step - loss: 2.3980 - accuracy: 0.0859 - val_loss: 2.3978 - val_accuracy: 0.0864\n",
      "Epoch 3/100\n",
      "8/8 [==============================] - 1s 84ms/step - loss: 2.3979 - accuracy: 0.0927 - val_loss: 2.3979 - val_accuracy: 0.0864\n",
      "Epoch 4/100\n",
      "8/8 [==============================] - 1s 83ms/step - loss: 2.3978 - accuracy: 0.0927 - val_loss: 2.3979 - val_accuracy: 0.0864\n",
      "Epoch 5/100\n",
      "8/8 [==============================] - 1s 83ms/step - loss: 2.3978 - accuracy: 0.0927 - val_loss: 2.3980 - val_accuracy: 0.0864\n",
      "Epoch 6/100\n",
      "8/8 [==============================] - 1s 83ms/step - loss: 2.3978 - accuracy: 0.0927 - val_loss: 2.3980 - val_accuracy: 0.0864\n",
      "Epoch 7/100\n",
      "8/8 [==============================] - 1s 83ms/step - loss: 2.3978 - accuracy: 0.0927 - val_loss: 2.3980 - val_accuracy: 0.0864\n",
      "Epoch 8/100\n",
      "8/8 [==============================] - 1s 84ms/step - loss: 2.3978 - accuracy: 0.0856 - val_loss: 2.3981 - val_accuracy: 0.0682\n",
      "Epoch 9/100\n",
      "8/8 [==============================] - 1s 82ms/step - loss: 2.3978 - accuracy: 0.0808 - val_loss: 2.3981 - val_accuracy: 0.0864\n",
      "Epoch 10/100\n",
      "8/8 [==============================] - 1s 84ms/step - loss: 2.3978 - accuracy: 0.0927 - val_loss: 2.3982 - val_accuracy: 0.0682\n",
      "Epoch 11/100\n",
      "8/8 [==============================] - 1s 84ms/step - loss: 2.3978 - accuracy: 0.0934 - val_loss: 2.3982 - val_accuracy: 0.0682\n",
      "Epoch 12/100\n",
      "8/8 [==============================] - 1s 83ms/step - loss: 2.3978 - accuracy: 0.0934 - val_loss: 2.3983 - val_accuracy: 0.0682\n",
      "Epoch 13/100\n",
      "8/8 [==============================] - 1s 83ms/step - loss: 2.3978 - accuracy: 0.0866 - val_loss: 2.3983 - val_accuracy: 0.0682\n",
      "Epoch 14/100\n",
      "8/8 [==============================] - 1s 83ms/step - loss: 2.3977 - accuracy: 0.0934 - val_loss: 2.3984 - val_accuracy: 0.0682\n",
      "Epoch 15/100\n",
      "8/8 [==============================] - 1s 85ms/step - loss: 2.3977 - accuracy: 0.0934 - val_loss: 2.3985 - val_accuracy: 0.0682\n",
      "Epoch 16/100\n",
      "8/8 [==============================] - 1s 84ms/step - loss: 2.3977 - accuracy: 0.0934 - val_loss: 2.3985 - val_accuracy: 0.0682\n",
      "Epoch 17/100\n",
      "8/8 [==============================] - 1s 85ms/step - loss: 2.3977 - accuracy: 0.0934 - val_loss: 2.3985 - val_accuracy: 0.0682\n",
      "Epoch 18/100\n",
      "8/8 [==============================] - 1s 86ms/step - loss: 2.3977 - accuracy: 0.0934 - val_loss: 2.3986 - val_accuracy: 0.0682\n",
      "Epoch 19/100\n",
      "8/8 [==============================] - 1s 83ms/step - loss: 2.3977 - accuracy: 0.0934 - val_loss: 2.3986 - val_accuracy: 0.0682\n",
      "Epoch 20/100\n",
      "8/8 [==============================] - 1s 83ms/step - loss: 2.3977 - accuracy: 0.0934 - val_loss: 2.3987 - val_accuracy: 0.0682\n",
      "Epoch 21/100\n",
      "8/8 [==============================] - 1s 84ms/step - loss: 2.3977 - accuracy: 0.0934 - val_loss: 2.3987 - val_accuracy: 0.0682\n",
      "Epoch 22/100\n",
      "8/8 [==============================] - 1s 86ms/step - loss: 2.3977 - accuracy: 0.0934 - val_loss: 2.3988 - val_accuracy: 0.0682\n",
      "Epoch 23/100\n",
      "8/8 [==============================] - 1s 83ms/step - loss: 2.3977 - accuracy: 0.0934 - val_loss: 2.3988 - val_accuracy: 0.0682\n",
      "Epoch 24/100\n",
      "8/8 [==============================] - 1s 85ms/step - loss: 2.3977 - accuracy: 0.0934 - val_loss: 2.3988 - val_accuracy: 0.0682\n",
      "Epoch 25/100\n",
      "8/8 [==============================] - 1s 84ms/step - loss: 2.3977 - accuracy: 0.0934 - val_loss: 2.3989 - val_accuracy: 0.0682\n",
      "Epoch 26/100\n",
      "8/8 [==============================] - 1s 83ms/step - loss: 2.3977 - accuracy: 0.0934 - val_loss: 2.3989 - val_accuracy: 0.0682\n",
      "Epoch 27/100\n",
      "8/8 [==============================] - 1s 85ms/step - loss: 2.3977 - accuracy: 0.0934 - val_loss: 2.3989 - val_accuracy: 0.0682\n",
      "Epoch 28/100\n",
      "8/8 [==============================] - 1s 83ms/step - loss: 2.3977 - accuracy: 0.0934 - val_loss: 2.3989 - val_accuracy: 0.0682\n",
      "Epoch 29/100\n",
      "8/8 [==============================] - 1s 83ms/step - loss: 2.3977 - accuracy: 0.0934 - val_loss: 2.3989 - val_accuracy: 0.0682\n",
      "Epoch 30/100\n",
      "8/8 [==============================] - 1s 84ms/step - loss: 2.3977 - accuracy: 0.0934 - val_loss: 2.3990 - val_accuracy: 0.0682\n",
      "Epoch 31/100\n",
      "8/8 [==============================] - 1s 84ms/step - loss: 2.3977 - accuracy: 0.0934 - val_loss: 2.3990 - val_accuracy: 0.0682\n",
      "Epoch 32/100\n",
      "8/8 [==============================] - 1s 83ms/step - loss: 2.3977 - accuracy: 0.0934 - val_loss: 2.3990 - val_accuracy: 0.0682\n",
      "Epoch 33/100\n",
      "8/8 [==============================] - 1s 83ms/step - loss: 2.3977 - accuracy: 0.0934 - val_loss: 2.3990 - val_accuracy: 0.0682\n",
      "Epoch 34/100\n",
      "8/8 [==============================] - 1s 84ms/step - loss: 2.3977 - accuracy: 0.0934 - val_loss: 2.3990 - val_accuracy: 0.0682\n",
      "Epoch 35/100\n",
      "8/8 [==============================] - 1s 85ms/step - loss: 2.3977 - accuracy: 0.0934 - val_loss: 2.3990 - val_accuracy: 0.0682\n",
      "Epoch 36/100\n",
      "8/8 [==============================] - 1s 84ms/step - loss: 2.3977 - accuracy: 0.0934 - val_loss: 2.3991 - val_accuracy: 0.0682\n",
      "Epoch 37/100\n",
      "8/8 [==============================] - 1s 85ms/step - loss: 2.3977 - accuracy: 0.0934 - val_loss: 2.3991 - val_accuracy: 0.0682\n",
      "Epoch 38/100\n",
      "8/8 [==============================] - 1s 83ms/step - loss: 2.3977 - accuracy: 0.0934 - val_loss: 2.3991 - val_accuracy: 0.0682\n",
      "Epoch 39/100\n",
      "8/8 [==============================] - 1s 83ms/step - loss: 2.3977 - accuracy: 0.0934 - val_loss: 2.3991 - val_accuracy: 0.0682\n",
      "Epoch 40/100\n",
      "8/8 [==============================] - 1s 83ms/step - loss: 2.3977 - accuracy: 0.0934 - val_loss: 2.3991 - val_accuracy: 0.0682\n",
      "Epoch 41/100\n",
      "8/8 [==============================] - 1s 83ms/step - loss: 2.3977 - accuracy: 0.0934 - val_loss: 2.3991 - val_accuracy: 0.0682\n",
      "Epoch 42/100\n",
      "8/8 [==============================] - 1s 88ms/step - loss: 2.3977 - accuracy: 0.0934 - val_loss: 2.3992 - val_accuracy: 0.0682\n",
      "Epoch 43/100\n",
      "8/8 [==============================] - 1s 83ms/step - loss: 2.3977 - accuracy: 0.0934 - val_loss: 2.3992 - val_accuracy: 0.0682\n",
      "Epoch 44/100\n",
      "8/8 [==============================] - 1s 83ms/step - loss: 2.3977 - accuracy: 0.0934 - val_loss: 2.3992 - val_accuracy: 0.0682\n",
      "Epoch 45/100\n",
      "8/8 [==============================] - 1s 86ms/step - loss: 2.3977 - accuracy: 0.0934 - val_loss: 2.3992 - val_accuracy: 0.0682\n",
      "Epoch 46/100\n",
      "8/8 [==============================] - 1s 82ms/step - loss: 2.3977 - accuracy: 0.0934 - val_loss: 2.3993 - val_accuracy: 0.0682\n",
      "Epoch 47/100\n",
      "8/8 [==============================] - 1s 85ms/step - loss: 2.3977 - accuracy: 0.0934 - val_loss: 2.3992 - val_accuracy: 0.0682\n",
      "Epoch 48/100\n",
      "8/8 [==============================] - 1s 84ms/step - loss: 2.3977 - accuracy: 0.0934 - val_loss: 2.3993 - val_accuracy: 0.0682\n",
      "Epoch 49/100\n",
      "8/8 [==============================] - 1s 85ms/step - loss: 2.3977 - accuracy: 0.0934 - val_loss: 2.3993 - val_accuracy: 0.0682\n",
      "Epoch 50/100\n",
      "8/8 [==============================] - 1s 83ms/step - loss: 2.3977 - accuracy: 0.0934 - val_loss: 2.3993 - val_accuracy: 0.0682\n",
      "Epoch 51/100\n",
      "8/8 [==============================] - 1s 85ms/step - loss: 2.3977 - accuracy: 0.0934 - val_loss: 2.3993 - val_accuracy: 0.0682\n",
      "Epoch 52/100\n",
      "8/8 [==============================] - 1s 85ms/step - loss: 2.3977 - accuracy: 0.0934 - val_loss: 2.3993 - val_accuracy: 0.0682\n",
      "Epoch 53/100\n",
      "8/8 [==============================] - 1s 83ms/step - loss: 2.3977 - accuracy: 0.0934 - val_loss: 2.3993 - val_accuracy: 0.0682\n",
      "Epoch 54/100\n",
      "8/8 [==============================] - 1s 84ms/step - loss: 2.3977 - accuracy: 0.0934 - val_loss: 2.3993 - val_accuracy: 0.0682\n",
      "Epoch 55/100\n",
      "8/8 [==============================] - 1s 84ms/step - loss: 2.3977 - accuracy: 0.0934 - val_loss: 2.3993 - val_accuracy: 0.0682\n",
      "Epoch 56/100\n",
      "8/8 [==============================] - 1s 82ms/step - loss: 2.3977 - accuracy: 0.0934 - val_loss: 2.3993 - val_accuracy: 0.0682\n",
      "Epoch 57/100\n",
      "8/8 [==============================] - 1s 83ms/step - loss: 2.3977 - accuracy: 0.0889 - val_loss: 2.3992 - val_accuracy: 0.0864\n",
      "Epoch 58/100\n",
      "8/8 [==============================] - 1s 83ms/step - loss: 2.3977 - accuracy: 0.0932 - val_loss: 2.3993 - val_accuracy: 0.0864\n",
      "Epoch 59/100\n"
     ]
    },
    {
     "name": "stdout",
     "output_type": "stream",
     "text": [
      "8/8 [==============================] - 1s 83ms/step - loss: 2.3977 - accuracy: 0.0932 - val_loss: 2.3992 - val_accuracy: 0.0864\n",
      "Epoch 60/100\n",
      "8/8 [==============================] - 1s 83ms/step - loss: 2.3977 - accuracy: 0.0894 - val_loss: 2.3992 - val_accuracy: 0.0682\n",
      "Epoch 61/100\n",
      "8/8 [==============================] - 1s 83ms/step - loss: 2.3977 - accuracy: 0.0881 - val_loss: 2.3993 - val_accuracy: 0.0864\n",
      "Epoch 62/100\n",
      "8/8 [==============================] - 1s 87ms/step - loss: 2.3977 - accuracy: 0.0899 - val_loss: 2.3992 - val_accuracy: 0.0682\n",
      "Epoch 63/100\n",
      "8/8 [==============================] - 1s 84ms/step - loss: 2.3977 - accuracy: 0.0934 - val_loss: 2.3992 - val_accuracy: 0.0682\n",
      "Epoch 64/100\n",
      "8/8 [==============================] - 1s 83ms/step - loss: 2.3977 - accuracy: 0.0934 - val_loss: 2.3993 - val_accuracy: 0.0682\n",
      "Epoch 65/100\n",
      "8/8 [==============================] - 1s 82ms/step - loss: 2.3977 - accuracy: 0.0894 - val_loss: 2.3993 - val_accuracy: 0.0682\n",
      "Epoch 66/100\n",
      "8/8 [==============================] - 1s 84ms/step - loss: 2.3977 - accuracy: 0.0934 - val_loss: 2.3993 - val_accuracy: 0.0682\n",
      "Epoch 67/100\n",
      "8/8 [==============================] - 1s 83ms/step - loss: 2.3977 - accuracy: 0.0934 - val_loss: 2.3993 - val_accuracy: 0.0682\n",
      "Epoch 68/100\n",
      "8/8 [==============================] - 1s 85ms/step - loss: 2.3977 - accuracy: 0.0884 - val_loss: 2.3992 - val_accuracy: 0.0864\n",
      "Epoch 69/100\n",
      "8/8 [==============================] - 1s 83ms/step - loss: 2.3977 - accuracy: 0.0889 - val_loss: 2.3993 - val_accuracy: 0.0682\n",
      "Epoch 70/100\n",
      "8/8 [==============================] - 1s 82ms/step - loss: 2.3977 - accuracy: 0.0904 - val_loss: 2.3993 - val_accuracy: 0.0864\n",
      "Epoch 71/100\n",
      "8/8 [==============================] - 1s 83ms/step - loss: 2.3977 - accuracy: 0.0932 - val_loss: 2.3992 - val_accuracy: 0.0864\n",
      "Epoch 72/100\n",
      "8/8 [==============================] - 1s 83ms/step - loss: 2.3977 - accuracy: 0.0896 - val_loss: 2.3993 - val_accuracy: 0.0682\n",
      "Epoch 73/100\n",
      "8/8 [==============================] - 1s 83ms/step - loss: 2.3977 - accuracy: 0.0934 - val_loss: 2.3993 - val_accuracy: 0.0682\n",
      "Epoch 74/100\n",
      "8/8 [==============================] - 1s 83ms/step - loss: 2.3977 - accuracy: 0.0934 - val_loss: 2.3993 - val_accuracy: 0.0682\n",
      "Epoch 75/100\n",
      "8/8 [==============================] - 1s 83ms/step - loss: 2.3977 - accuracy: 0.0904 - val_loss: 2.3992 - val_accuracy: 0.0864\n",
      "Epoch 76/100\n",
      "8/8 [==============================] - 1s 85ms/step - loss: 2.3977 - accuracy: 0.0914 - val_loss: 2.3993 - val_accuracy: 0.0682\n",
      "Epoch 77/100\n",
      "8/8 [==============================] - 1s 83ms/step - loss: 2.3977 - accuracy: 0.0934 - val_loss: 2.3993 - val_accuracy: 0.0682\n",
      "Epoch 78/100\n",
      "8/8 [==============================] - 1s 85ms/step - loss: 2.3977 - accuracy: 0.0934 - val_loss: 2.3993 - val_accuracy: 0.0682\n",
      "Epoch 79/100\n",
      "8/8 [==============================] - 1s 84ms/step - loss: 2.3977 - accuracy: 0.0934 - val_loss: 2.3993 - val_accuracy: 0.0682\n",
      "Epoch 80/100\n",
      "8/8 [==============================] - 1s 84ms/step - loss: 2.3977 - accuracy: 0.0934 - val_loss: 2.3993 - val_accuracy: 0.0682\n",
      "Epoch 81/100\n",
      "8/8 [==============================] - 1s 85ms/step - loss: 2.3977 - accuracy: 0.0934 - val_loss: 2.3993 - val_accuracy: 0.0682\n",
      "Epoch 82/100\n",
      "8/8 [==============================] - 1s 85ms/step - loss: 2.3977 - accuracy: 0.0934 - val_loss: 2.3993 - val_accuracy: 0.0682\n",
      "Epoch 83/100\n",
      "8/8 [==============================] - 1s 82ms/step - loss: 2.3977 - accuracy: 0.0934 - val_loss: 2.3993 - val_accuracy: 0.0682\n",
      "Epoch 84/100\n",
      "8/8 [==============================] - 1s 83ms/step - loss: 2.3977 - accuracy: 0.0896 - val_loss: 2.3993 - val_accuracy: 0.0864\n",
      "Epoch 85/100\n",
      "8/8 [==============================] - 1s 85ms/step - loss: 2.3977 - accuracy: 0.0881 - val_loss: 2.3993 - val_accuracy: 0.0864\n",
      "Epoch 86/100\n",
      "8/8 [==============================] - 1s 82ms/step - loss: 2.3977 - accuracy: 0.0932 - val_loss: 2.3993 - val_accuracy: 0.0864\n",
      "Epoch 87/100\n",
      "8/8 [==============================] - 1s 83ms/step - loss: 2.3977 - accuracy: 0.0924 - val_loss: 2.3994 - val_accuracy: 0.0682\n",
      "Epoch 88/100\n",
      "8/8 [==============================] - 1s 84ms/step - loss: 2.3977 - accuracy: 0.0934 - val_loss: 2.3994 - val_accuracy: 0.0682\n",
      "Epoch 89/100\n",
      "8/8 [==============================] - 1s 83ms/step - loss: 2.3977 - accuracy: 0.0934 - val_loss: 2.3993 - val_accuracy: 0.0682\n",
      "Epoch 90/100\n",
      "8/8 [==============================] - 1s 84ms/step - loss: 2.3977 - accuracy: 0.0934 - val_loss: 2.3993 - val_accuracy: 0.0682\n",
      "Epoch 91/100\n",
      "8/8 [==============================] - 1s 83ms/step - loss: 2.3977 - accuracy: 0.0896 - val_loss: 2.3993 - val_accuracy: 0.0864\n",
      "Epoch 92/100\n",
      "8/8 [==============================] - 1s 83ms/step - loss: 2.3977 - accuracy: 0.0932 - val_loss: 2.3993 - val_accuracy: 0.0864\n",
      "Epoch 93/100\n",
      "8/8 [==============================] - 1s 83ms/step - loss: 2.3977 - accuracy: 0.0919 - val_loss: 2.3993 - val_accuracy: 0.0682\n",
      "Epoch 94/100\n",
      "8/8 [==============================] - 1s 85ms/step - loss: 2.3977 - accuracy: 0.0934 - val_loss: 2.3994 - val_accuracy: 0.0682\n",
      "Epoch 95/100\n",
      "8/8 [==============================] - 1s 84ms/step - loss: 2.3977 - accuracy: 0.0934 - val_loss: 2.3993 - val_accuracy: 0.0682\n",
      "Epoch 96/100\n",
      "8/8 [==============================] - 1s 86ms/step - loss: 2.3977 - accuracy: 0.0934 - val_loss: 2.3993 - val_accuracy: 0.0682\n",
      "Epoch 97/100\n",
      "8/8 [==============================] - 1s 82ms/step - loss: 2.3977 - accuracy: 0.0934 - val_loss: 2.3993 - val_accuracy: 0.0682\n",
      "Epoch 98/100\n",
      "8/8 [==============================] - 1s 82ms/step - loss: 2.3977 - accuracy: 0.0934 - val_loss: 2.3993 - val_accuracy: 0.0682\n",
      "Epoch 99/100\n",
      "8/8 [==============================] - 1s 86ms/step - loss: 2.3977 - accuracy: 0.0934 - val_loss: 2.3993 - val_accuracy: 0.0682\n",
      "Epoch 100/100\n",
      "8/8 [==============================] - 1s 84ms/step - loss: 2.3977 - accuracy: 0.0934 - val_loss: 2.3993 - val_accuracy: 0.0682\n",
      "35/35 [==============================] - 0s 6ms/step - loss: 2.3992 - accuracy: 0.0909\n"
     ]
    },
    {
     "data": {
      "image/png": "[encoded data removed]",
      "text/plain": [
       "<Figure size 504x432 with 2 Axes>"
      ]
     },
     "metadata": {
      "needs_background": "light"
     },
     "output_type": "display_data"
    },
    {
     "name": "stdout",
     "output_type": "stream",
     "text": [
      "Precision:0.00826\n",
      "Recall:0.0909\n",
      "F1_score:0.0152\n",
      "              precision    recall  f1-score   support\n",
      "\n",
      "           0       0.00      0.00      0.00       109\n",
      "           1       0.00      0.00      0.00       101\n",
      "           2       0.00      0.00      0.00        95\n",
      "           3       0.00      0.00      0.00       113\n",
      "           4       0.00      0.00      0.00        93\n",
      "           5       0.00      0.00      0.00        99\n",
      "           6       0.00      0.00      0.00       101\n",
      "           7       0.09      1.00      0.17       100\n",
      "           8       0.00      0.00      0.00       102\n",
      "           9       0.00      0.00      0.00        84\n",
      "          10       0.00      0.00      0.00       103\n",
      "\n",
      "    accuracy                           0.09      1100\n",
      "   macro avg       0.01      0.09      0.02      1100\n",
      "weighted avg       0.01      0.09      0.02      1100\n",
      "\n",
      "Epoch 1/100\n",
      "8/8 [==============================] - 1s 104ms/step - loss: 2.3982 - accuracy: 0.0874 - val_loss: 2.3982 - val_accuracy: 0.0864\n",
      "Epoch 2/100\n",
      "8/8 [==============================] - 1s 83ms/step - loss: 2.3977 - accuracy: 0.0886 - val_loss: 2.3984 - val_accuracy: 0.0682\n",
      "Epoch 3/100\n",
      "8/8 [==============================] - 1s 83ms/step - loss: 2.3978 - accuracy: 0.0909 - val_loss: 2.3980 - val_accuracy: 0.0841\n",
      "Epoch 4/100\n",
      "8/8 [==============================] - 1s 84ms/step - loss: 2.3970 - accuracy: 0.0902 - val_loss: 2.3976 - val_accuracy: 0.0909\n",
      "Epoch 5/100\n",
      "8/8 [==============================] - 1s 86ms/step - loss: 2.3892 - accuracy: 0.1030 - val_loss: 2.3608 - val_accuracy: 0.0909\n",
      "Epoch 6/100\n",
      "8/8 [==============================] - 1s 86ms/step - loss: 2.3396 - accuracy: 0.1028 - val_loss: 2.3502 - val_accuracy: 0.1614\n",
      "Epoch 7/100\n",
      "8/8 [==============================] - 1s 83ms/step - loss: 2.2806 - accuracy: 0.1273 - val_loss: 2.2068 - val_accuracy: 0.0909\n",
      "Epoch 8/100\n",
      "8/8 [==============================] - 1s 86ms/step - loss: 2.2058 - accuracy: 0.1053 - val_loss: 2.1502 - val_accuracy: 0.1114\n",
      "Epoch 9/100\n",
      "8/8 [==============================] - 1s 82ms/step - loss: 2.1599 - accuracy: 0.1290 - val_loss: 2.1234 - val_accuracy: 0.1068\n",
      "Epoch 10/100\n",
      "8/8 [==============================] - 1s 83ms/step - loss: 2.1076 - accuracy: 0.1510 - val_loss: 2.0883 - val_accuracy: 0.1523\n",
      "Epoch 11/100\n",
      "8/8 [==============================] - 1s 84ms/step - loss: 2.0783 - accuracy: 0.1664 - val_loss: 2.0641 - val_accuracy: 0.1750\n",
      "Epoch 12/100\n",
      "8/8 [==============================] - 1s 82ms/step - loss: 2.0583 - accuracy: 0.1677 - val_loss: 2.0290 - val_accuracy: 0.1568\n",
      "Epoch 13/100\n",
      "8/8 [==============================] - 1s 84ms/step - loss: 2.0224 - accuracy: 0.1699 - val_loss: 2.0101 - val_accuracy: 0.1545\n",
      "Epoch 14/100\n",
      "8/8 [==============================] - 1s 82ms/step - loss: 2.0275 - accuracy: 0.1712 - val_loss: 2.1364 - val_accuracy: 0.1818\n",
      "Epoch 15/100\n",
      "8/8 [==============================] - 1s 84ms/step - loss: 2.2196 - accuracy: 0.1889 - val_loss: 2.5480 - val_accuracy: 0.0932\n",
      "Epoch 16/100\n",
      "8/8 [==============================] - 1s 81ms/step - loss: 2.3042 - accuracy: 0.1715 - val_loss: 2.2703 - val_accuracy: 0.1773\n",
      "Epoch 17/100\n",
      "8/8 [==============================] - 1s 82ms/step - loss: 2.1507 - accuracy: 0.1672 - val_loss: 2.1359 - val_accuracy: 0.1773\n",
      "Epoch 18/100\n",
      "8/8 [==============================] - 1s 83ms/step - loss: 2.1686 - accuracy: 0.1684 - val_loss: 2.3340 - val_accuracy: 0.1432\n",
      "Epoch 19/100\n",
      "8/8 [==============================] - 1s 82ms/step - loss: 2.2169 - accuracy: 0.1765 - val_loss: 1.9943 - val_accuracy: 0.1591\n",
      "Epoch 20/100\n",
      "8/8 [==============================] - 1s 84ms/step - loss: 2.0013 - accuracy: 0.1798 - val_loss: 1.9725 - val_accuracy: 0.1864\n",
      "Epoch 21/100\n",
      "8/8 [==============================] - 1s 83ms/step - loss: 1.9894 - accuracy: 0.1838 - val_loss: 1.9796 - val_accuracy: 0.1841\n",
      "Epoch 22/100\n",
      "8/8 [==============================] - 1s 84ms/step - loss: 1.9878 - accuracy: 0.1919 - val_loss: 1.9681 - val_accuracy: 0.1682\n",
      "Epoch 23/100\n",
      "8/8 [==============================] - 1s 82ms/step - loss: 1.9613 - accuracy: 0.1955 - val_loss: 1.9689 - val_accuracy: 0.1705\n",
      "Epoch 24/100\n",
      "8/8 [==============================] - 1s 83ms/step - loss: 1.9524 - accuracy: 0.1960 - val_loss: 1.9576 - val_accuracy: 0.1750\n",
      "Epoch 25/100\n",
      "8/8 [==============================] - 1s 82ms/step - loss: 1.9433 - accuracy: 0.1919 - val_loss: 1.9494 - val_accuracy: 0.1886\n",
      "Epoch 26/100\n",
      "8/8 [==============================] - 1s 84ms/step - loss: 1.9349 - accuracy: 0.1902 - val_loss: 1.9387 - val_accuracy: 0.1886\n",
      "Epoch 27/100\n",
      "8/8 [==============================] - 1s 83ms/step - loss: 1.9303 - accuracy: 0.1899 - val_loss: 1.9312 - val_accuracy: 0.2182\n",
      "Epoch 28/100\n",
      "8/8 [==============================] - 1s 84ms/step - loss: 1.9245 - accuracy: 0.1967 - val_loss: 1.9268 - val_accuracy: 0.2250\n",
      "Epoch 29/100\n",
      "8/8 [==============================] - 1s 84ms/step - loss: 1.9141 - accuracy: 0.2051 - val_loss: 1.9196 - val_accuracy: 0.2045\n",
      "Epoch 30/100\n",
      "8/8 [==============================] - 1s 82ms/step - loss: 1.9134 - accuracy: 0.2023 - val_loss: 1.9188 - val_accuracy: 0.1886\n",
      "Epoch 31/100\n",
      "8/8 [==============================] - 1s 84ms/step - loss: 1.9228 - accuracy: 0.2045 - val_loss: 1.9374 - val_accuracy: 0.2159\n",
      "Epoch 32/100\n",
      "8/8 [==============================] - 1s 84ms/step - loss: 1.9434 - accuracy: 0.2013 - val_loss: 1.9752 - val_accuracy: 0.1977\n",
      "Epoch 33/100\n",
      "8/8 [==============================] - 1s 83ms/step - loss: 1.9314 - accuracy: 0.2030 - val_loss: 1.9150 - val_accuracy: 0.2023\n",
      "Epoch 34/100\n",
      "8/8 [==============================] - 1s 83ms/step - loss: 1.9250 - accuracy: 0.2111 - val_loss: 1.8921 - val_accuracy: 0.2023\n",
      "Epoch 35/100\n",
      "8/8 [==============================] - 1s 83ms/step - loss: 1.8845 - accuracy: 0.2043 - val_loss: 1.8929 - val_accuracy: 0.2000\n",
      "Epoch 36/100\n",
      "8/8 [==============================] - 1s 83ms/step - loss: 1.8741 - accuracy: 0.2013 - val_loss: 1.8749 - val_accuracy: 0.2023\n",
      "Epoch 37/100\n",
      "8/8 [==============================] - 1s 84ms/step - loss: 1.8617 - accuracy: 0.2000 - val_loss: 1.8659 - val_accuracy: 0.2045\n",
      "Epoch 38/100\n",
      "8/8 [==============================] - 1s 87ms/step - loss: 1.8510 - accuracy: 0.2058 - val_loss: 1.8595 - val_accuracy: 0.2136\n",
      "Epoch 39/100\n",
      "8/8 [==============================] - 1s 86ms/step - loss: 1.8436 - accuracy: 0.2091 - val_loss: 1.8488 - val_accuracy: 0.2114\n",
      "Epoch 40/100\n",
      "8/8 [==============================] - 1s 84ms/step - loss: 1.8354 - accuracy: 0.2106 - val_loss: 1.8429 - val_accuracy: 0.2045\n",
      "Epoch 41/100\n",
      "8/8 [==============================] - 1s 84ms/step - loss: 1.8270 - accuracy: 0.2167 - val_loss: 1.8360 - val_accuracy: 0.2114\n",
      "Epoch 42/100\n",
      "8/8 [==============================] - 1s 85ms/step - loss: 1.8191 - accuracy: 0.2205 - val_loss: 1.8402 - val_accuracy: 0.2205\n",
      "Epoch 43/100\n",
      "8/8 [==============================] - 1s 85ms/step - loss: 1.8164 - accuracy: 0.2179 - val_loss: 1.8222 - val_accuracy: 0.2250\n",
      "Epoch 44/100\n",
      "8/8 [==============================] - 1s 82ms/step - loss: 1.8031 - accuracy: 0.2333 - val_loss: 1.8123 - val_accuracy: 0.2273\n",
      "Epoch 45/100\n",
      "8/8 [==============================] - 1s 84ms/step - loss: 1.8002 - accuracy: 0.2255 - val_loss: 1.8068 - val_accuracy: 0.2273\n",
      "Epoch 46/100\n",
      "8/8 [==============================] - 1s 84ms/step - loss: 1.7845 - accuracy: 0.2215 - val_loss: 1.8050 - val_accuracy: 0.2068\n",
      "Epoch 47/100\n",
      "8/8 [==============================] - 1s 84ms/step - loss: 1.7825 - accuracy: 0.2268 - val_loss: 1.7955 - val_accuracy: 0.2318\n",
      "Epoch 48/100\n",
      "8/8 [==============================] - 1s 86ms/step - loss: 1.7830 - accuracy: 0.2288 - val_loss: 1.7942 - val_accuracy: 0.2318\n",
      "Epoch 49/100\n",
      "8/8 [==============================] - 1s 83ms/step - loss: 1.7711 - accuracy: 0.2341 - val_loss: 1.7843 - val_accuracy: 0.2341\n",
      "Epoch 50/100\n",
      "8/8 [==============================] - 1s 82ms/step - loss: 1.7694 - accuracy: 0.2283 - val_loss: 1.7888 - val_accuracy: 0.2386\n",
      "Epoch 51/100\n",
      "8/8 [==============================] - 1s 82ms/step - loss: 1.9523 - accuracy: 0.1856 - val_loss: 1.9530 - val_accuracy: 0.1864\n",
      "Epoch 52/100\n",
      "8/8 [==============================] - 1s 82ms/step - loss: 1.9451 - accuracy: 0.2301 - val_loss: 1.8128 - val_accuracy: 0.2818\n",
      "Epoch 53/100\n"
     ]
    },
    {
     "name": "stdout",
     "output_type": "stream",
     "text": [
      "8/8 [==============================] - 1s 83ms/step - loss: 1.8209 - accuracy: 0.2674 - val_loss: 1.7794 - val_accuracy: 0.2659\n",
      "Epoch 54/100\n",
      "8/8 [==============================] - 1s 82ms/step - loss: 1.7778 - accuracy: 0.2386 - val_loss: 1.7785 - val_accuracy: 0.2318\n",
      "Epoch 55/100\n",
      "8/8 [==============================] - 1s 82ms/step - loss: 1.7534 - accuracy: 0.2311 - val_loss: 1.7584 - val_accuracy: 0.2091\n",
      "Epoch 56/100\n",
      "8/8 [==============================] - 1s 83ms/step - loss: 1.7555 - accuracy: 0.2384 - val_loss: 1.7504 - val_accuracy: 0.2386\n",
      "Epoch 57/100\n",
      "8/8 [==============================] - 1s 84ms/step - loss: 1.7340 - accuracy: 0.2348 - val_loss: 1.7412 - val_accuracy: 0.2364\n",
      "Epoch 58/100\n",
      "8/8 [==============================] - 1s 81ms/step - loss: 1.7197 - accuracy: 0.2417 - val_loss: 1.7400 - val_accuracy: 0.2136\n",
      "Epoch 59/100\n",
      "8/8 [==============================] - 1s 83ms/step - loss: 1.7121 - accuracy: 0.2543 - val_loss: 1.7213 - val_accuracy: 0.2114\n",
      "Epoch 60/100\n",
      "8/8 [==============================] - 1s 83ms/step - loss: 1.7046 - accuracy: 0.2558 - val_loss: 1.7312 - val_accuracy: 0.2364\n",
      "Epoch 61/100\n",
      "8/8 [==============================] - 1s 82ms/step - loss: 1.7213 - accuracy: 0.2551 - val_loss: 1.7079 - val_accuracy: 0.2386\n",
      "Epoch 62/100\n",
      "8/8 [==============================] - 1s 83ms/step - loss: 1.7013 - accuracy: 0.2669 - val_loss: 1.7137 - val_accuracy: 0.2364\n",
      "Epoch 63/100\n",
      "8/8 [==============================] - 1s 82ms/step - loss: 1.6980 - accuracy: 0.2773 - val_loss: 1.6955 - val_accuracy: 0.2273\n",
      "Epoch 64/100\n",
      "8/8 [==============================] - 1s 83ms/step - loss: 1.6781 - accuracy: 0.2750 - val_loss: 1.7162 - val_accuracy: 0.2977\n",
      "Epoch 65/100\n",
      "8/8 [==============================] - 1s 82ms/step - loss: 1.6717 - accuracy: 0.2861 - val_loss: 1.6879 - val_accuracy: 0.2273\n",
      "Epoch 66/100\n",
      "8/8 [==============================] - 1s 83ms/step - loss: 1.6811 - accuracy: 0.2947 - val_loss: 1.6887 - val_accuracy: 0.2364\n",
      "Epoch 67/100\n",
      "8/8 [==============================] - 1s 81ms/step - loss: 1.6647 - accuracy: 0.2821 - val_loss: 1.6722 - val_accuracy: 0.2636\n",
      "Epoch 68/100\n",
      "8/8 [==============================] - 1s 81ms/step - loss: 1.6605 - accuracy: 0.2896 - val_loss: 1.6789 - val_accuracy: 0.2568\n",
      "Epoch 69/100\n",
      "8/8 [==============================] - 1s 81ms/step - loss: 1.6555 - accuracy: 0.3167 - val_loss: 1.6890 - val_accuracy: 0.2386\n",
      "Epoch 70/100\n",
      "8/8 [==============================] - 1s 82ms/step - loss: 1.6420 - accuracy: 0.2924 - val_loss: 1.6451 - val_accuracy: 0.3205\n",
      "Epoch 71/100\n",
      "8/8 [==============================] - 1s 85ms/step - loss: 1.6263 - accuracy: 0.3611 - val_loss: 1.6352 - val_accuracy: 0.2659\n",
      "Epoch 72/100\n",
      "8/8 [==============================] - 1s 82ms/step - loss: 1.6368 - accuracy: 0.2859 - val_loss: 1.6790 - val_accuracy: 0.3000\n",
      "Epoch 73/100\n",
      "8/8 [==============================] - 1s 81ms/step - loss: 1.6252 - accuracy: 0.3369 - val_loss: 1.6278 - val_accuracy: 0.2545\n",
      "Epoch 74/100\n",
      "8/8 [==============================] - 1s 83ms/step - loss: 1.6088 - accuracy: 0.3434 - val_loss: 1.6153 - val_accuracy: 0.3682\n",
      "Epoch 75/100\n",
      "8/8 [==============================] - 1s 82ms/step - loss: 1.5832 - accuracy: 0.3556 - val_loss: 1.5877 - val_accuracy: 0.3159\n",
      "Epoch 76/100\n",
      "8/8 [==============================] - 1s 84ms/step - loss: 1.5634 - accuracy: 0.3482 - val_loss: 1.5675 - val_accuracy: 0.3068\n",
      "Epoch 77/100\n",
      "8/8 [==============================] - 1s 81ms/step - loss: 1.5462 - accuracy: 0.3513 - val_loss: 1.5622 - val_accuracy: 0.3000\n",
      "Epoch 78/100\n",
      "8/8 [==============================] - 1s 82ms/step - loss: 1.5311 - accuracy: 0.3614 - val_loss: 1.5345 - val_accuracy: 0.3091\n",
      "Epoch 79/100\n",
      "8/8 [==============================] - 1s 82ms/step - loss: 1.5118 - accuracy: 0.3674 - val_loss: 1.5266 - val_accuracy: 0.3432\n",
      "Epoch 80/100\n",
      "8/8 [==============================] - 1s 81ms/step - loss: 1.5035 - accuracy: 0.3833 - val_loss: 1.5178 - val_accuracy: 0.3045\n",
      "Epoch 81/100\n",
      "8/8 [==============================] - 1s 81ms/step - loss: 1.5006 - accuracy: 0.3818 - val_loss: 1.5004 - val_accuracy: 0.3409\n",
      "Epoch 82/100\n",
      "8/8 [==============================] - 1s 81ms/step - loss: 1.4785 - accuracy: 0.3838 - val_loss: 1.4743 - val_accuracy: 0.3386\n",
      "Epoch 83/100\n",
      "8/8 [==============================] - 1s 82ms/step - loss: 1.4651 - accuracy: 0.3841 - val_loss: 1.4722 - val_accuracy: 0.3659\n",
      "Epoch 84/100\n",
      "8/8 [==============================] - 1s 83ms/step - loss: 1.4508 - accuracy: 0.3874 - val_loss: 1.4696 - val_accuracy: 0.4182\n",
      "Epoch 85/100\n",
      "8/8 [==============================] - 1s 82ms/step - loss: 1.4468 - accuracy: 0.4235 - val_loss: 1.4562 - val_accuracy: 0.4136\n",
      "Epoch 86/100\n",
      "8/8 [==============================] - 1s 81ms/step - loss: 1.4230 - accuracy: 0.4207 - val_loss: 1.4228 - val_accuracy: 0.3818\n",
      "Epoch 87/100\n",
      "8/8 [==============================] - 1s 81ms/step - loss: 1.4124 - accuracy: 0.4455 - val_loss: 1.4161 - val_accuracy: 0.3841\n",
      "Epoch 88/100\n",
      "8/8 [==============================] - 1s 81ms/step - loss: 1.4175 - accuracy: 0.4033 - val_loss: 1.4270 - val_accuracy: 0.2977\n",
      "Epoch 89/100\n",
      "8/8 [==============================] - 1s 82ms/step - loss: 1.4292 - accuracy: 0.3955 - val_loss: 1.4021 - val_accuracy: 0.4795\n",
      "Epoch 90/100\n",
      "8/8 [==============================] - 1s 82ms/step - loss: 1.3972 - accuracy: 0.4432 - val_loss: 1.3959 - val_accuracy: 0.4250\n",
      "Epoch 91/100\n",
      "8/8 [==============================] - 1s 82ms/step - loss: 1.4079 - accuracy: 0.4169 - val_loss: 1.3817 - val_accuracy: 0.4000\n",
      "Epoch 92/100\n",
      "8/8 [==============================] - 1s 82ms/step - loss: 1.4335 - accuracy: 0.3669 - val_loss: 1.4107 - val_accuracy: 0.4227\n",
      "Epoch 93/100\n",
      "8/8 [==============================] - 1s 84ms/step - loss: 1.4083 - accuracy: 0.4184 - val_loss: 1.5296 - val_accuracy: 0.2955\n",
      "Epoch 94/100\n",
      "8/8 [==============================] - 1s 82ms/step - loss: 1.5219 - accuracy: 0.3205 - val_loss: 1.5008 - val_accuracy: 0.3091\n",
      "Epoch 95/100\n",
      "8/8 [==============================] - 1s 83ms/step - loss: 1.4400 - accuracy: 0.3487 - val_loss: 1.4100 - val_accuracy: 0.3023\n",
      "Epoch 96/100\n",
      "8/8 [==============================] - 1s 82ms/step - loss: 1.4041 - accuracy: 0.3523 - val_loss: 1.4253 - val_accuracy: 0.3568\n",
      "Epoch 97/100\n",
      "8/8 [==============================] - 1s 83ms/step - loss: 1.3807 - accuracy: 0.4376 - val_loss: 1.4099 - val_accuracy: 0.4182\n",
      "Epoch 98/100\n",
      "8/8 [==============================] - 1s 81ms/step - loss: 1.3888 - accuracy: 0.4280 - val_loss: 1.3969 - val_accuracy: 0.4182\n",
      "Epoch 99/100\n",
      "8/8 [==============================] - 1s 83ms/step - loss: 1.3880 - accuracy: 0.4222 - val_loss: 1.3904 - val_accuracy: 0.4386\n",
      "Epoch 100/100\n",
      "8/8 [==============================] - 1s 82ms/step - loss: 1.3698 - accuracy: 0.4374 - val_loss: 1.3575 - val_accuracy: 0.4636\n",
      "35/35 [==============================] - 0s 4ms/step - loss: 1.3630 - accuracy: 0.4855\n"
     ]
    },
    {
     "data": {
      "image/png": "[encoded data removed]",
      "text/plain": [
       "<Figure size 504x432 with 2 Axes>"
      ]
     },
     "metadata": {
      "needs_background": "light"
     },
     "output_type": "display_data"
    },
    {
     "name": "stdout",
     "output_type": "stream",
     "text": [
      "Precision:0.407\n",
      "Recall:0.485\n",
      "F1_score:0.403\n",
      "              precision    recall  f1-score   support\n",
      "\n",
      "           0       0.49      1.00      0.66        97\n",
      "           1       0.00      0.00      0.00       103\n",
      "           2       0.93      0.87      0.90        95\n",
      "           3       0.90      0.87      0.88        99\n",
      "           4       0.80      0.98      0.88        90\n",
      "           5       0.93      0.75      0.83       108\n",
      "           6       0.29      0.03      0.06       115\n",
      "           7       0.19      1.00      0.32        95\n",
      "           8       0.00      0.00      0.00       112\n",
      "           9       0.00      0.00      0.00        98\n",
      "          10       0.00      0.00      0.00        88\n",
      "\n",
      "    accuracy                           0.49      1100\n",
      "   macro avg       0.41      0.50      0.41      1100\n",
      "weighted avg       0.41      0.49      0.40      1100\n",
      "\n",
      "Epoch 1/100\n",
      "8/8 [==============================] - 1s 125ms/step - loss: 2.3993 - accuracy: 0.0861 - val_loss: 2.3982 - val_accuracy: 0.0727\n",
      "Epoch 2/100\n",
      "8/8 [==============================] - 1s 82ms/step - loss: 2.3980 - accuracy: 0.0891 - val_loss: 2.4003 - val_accuracy: 0.0909\n",
      "Epoch 3/100\n",
      "8/8 [==============================] - 1s 83ms/step - loss: 2.3979 - accuracy: 0.0939 - val_loss: 2.3985 - val_accuracy: 0.0909\n",
      "Epoch 4/100\n",
      "8/8 [==============================] - 1s 84ms/step - loss: 2.3978 - accuracy: 0.0939 - val_loss: 2.3987 - val_accuracy: 0.0614\n",
      "Epoch 5/100\n",
      "8/8 [==============================] - 1s 81ms/step - loss: 2.3977 - accuracy: 0.0919 - val_loss: 2.3990 - val_accuracy: 0.0909\n",
      "Epoch 6/100\n",
      "8/8 [==============================] - 1s 83ms/step - loss: 2.3977 - accuracy: 0.0914 - val_loss: 2.3992 - val_accuracy: 0.0727\n",
      "Epoch 7/100\n",
      "8/8 [==============================] - 1s 81ms/step - loss: 2.3977 - accuracy: 0.0937 - val_loss: 2.3994 - val_accuracy: 0.0727\n",
      "Epoch 8/100\n",
      "8/8 [==============================] - 1s 81ms/step - loss: 2.3976 - accuracy: 0.0937 - val_loss: 2.3996 - val_accuracy: 0.0727\n",
      "Epoch 9/100\n",
      "8/8 [==============================] - 1s 81ms/step - loss: 2.3976 - accuracy: 0.0937 - val_loss: 2.3999 - val_accuracy: 0.0727\n",
      "Epoch 10/100\n",
      "8/8 [==============================] - 1s 83ms/step - loss: 2.3976 - accuracy: 0.0937 - val_loss: 2.4001 - val_accuracy: 0.0727\n",
      "Epoch 11/100\n",
      "8/8 [==============================] - 1s 81ms/step - loss: 2.3976 - accuracy: 0.0937 - val_loss: 2.4002 - val_accuracy: 0.0727\n",
      "Epoch 12/100\n",
      "8/8 [==============================] - 1s 81ms/step - loss: 2.3976 - accuracy: 0.0937 - val_loss: 2.4003 - val_accuracy: 0.0727\n",
      "Epoch 13/100\n",
      "8/8 [==============================] - 1s 83ms/step - loss: 2.3976 - accuracy: 0.0937 - val_loss: 2.4003 - val_accuracy: 0.0727\n",
      "Epoch 14/100\n",
      "8/8 [==============================] - 1s 82ms/step - loss: 2.3976 - accuracy: 0.0937 - val_loss: 2.4004 - val_accuracy: 0.0727\n",
      "Epoch 15/100\n",
      "8/8 [==============================] - 1s 83ms/step - loss: 2.3976 - accuracy: 0.0937 - val_loss: 2.4005 - val_accuracy: 0.0727\n",
      "Epoch 16/100\n",
      "8/8 [==============================] - 1s 81ms/step - loss: 2.3976 - accuracy: 0.0937 - val_loss: 2.4006 - val_accuracy: 0.0727\n",
      "Epoch 17/100\n",
      "8/8 [==============================] - 1s 81ms/step - loss: 2.3976 - accuracy: 0.0937 - val_loss: 2.4005 - val_accuracy: 0.0727\n",
      "Epoch 18/100\n",
      "8/8 [==============================] - 1s 83ms/step - loss: 2.3976 - accuracy: 0.0937 - val_loss: 2.4006 - val_accuracy: 0.0727\n",
      "Epoch 19/100\n",
      "8/8 [==============================] - 1s 83ms/step - loss: 2.3976 - accuracy: 0.0937 - val_loss: 2.4007 - val_accuracy: 0.0727\n",
      "Epoch 20/100\n",
      "8/8 [==============================] - 1s 81ms/step - loss: 2.3976 - accuracy: 0.0937 - val_loss: 2.4007 - val_accuracy: 0.0727\n",
      "Epoch 21/100\n",
      "8/8 [==============================] - 1s 81ms/step - loss: 2.3975 - accuracy: 0.0937 - val_loss: 2.4008 - val_accuracy: 0.0727\n",
      "Epoch 22/100\n",
      "8/8 [==============================] - 1s 82ms/step - loss: 2.3976 - accuracy: 0.0937 - val_loss: 2.4008 - val_accuracy: 0.0727\n",
      "Epoch 23/100\n",
      "8/8 [==============================] - 1s 81ms/step - loss: 2.3975 - accuracy: 0.0937 - val_loss: 2.4009 - val_accuracy: 0.0727\n",
      "Epoch 24/100\n",
      "8/8 [==============================] - 1s 83ms/step - loss: 2.3975 - accuracy: 0.0937 - val_loss: 2.4009 - val_accuracy: 0.0727\n",
      "Epoch 25/100\n",
      "8/8 [==============================] - 1s 81ms/step - loss: 2.3975 - accuracy: 0.0937 - val_loss: 2.4010 - val_accuracy: 0.0727\n",
      "Epoch 26/100\n",
      "8/8 [==============================] - 1s 81ms/step - loss: 2.3976 - accuracy: 0.0937 - val_loss: 2.4009 - val_accuracy: 0.0727\n",
      "Epoch 27/100\n",
      "8/8 [==============================] - 1s 83ms/step - loss: 2.3975 - accuracy: 0.0937 - val_loss: 2.4010 - val_accuracy: 0.0727\n",
      "Epoch 28/100\n",
      "8/8 [==============================] - 1s 83ms/step - loss: 2.3975 - accuracy: 0.0937 - val_loss: 2.4009 - val_accuracy: 0.0727\n",
      "Epoch 29/100\n",
      "8/8 [==============================] - 1s 83ms/step - loss: 2.3975 - accuracy: 0.0937 - val_loss: 2.4011 - val_accuracy: 0.0727\n",
      "Epoch 30/100\n",
      "8/8 [==============================] - 1s 81ms/step - loss: 2.3975 - accuracy: 0.0937 - val_loss: 2.4011 - val_accuracy: 0.0727\n",
      "Epoch 31/100\n",
      "8/8 [==============================] - 1s 81ms/step - loss: 2.3975 - accuracy: 0.0937 - val_loss: 2.4010 - val_accuracy: 0.0727\n",
      "Epoch 32/100\n",
      "8/8 [==============================] - 1s 81ms/step - loss: 2.3976 - accuracy: 0.0937 - val_loss: 2.4013 - val_accuracy: 0.0727\n",
      "Epoch 33/100\n",
      "8/8 [==============================] - 1s 81ms/step - loss: 2.3976 - accuracy: 0.0937 - val_loss: 2.4012 - val_accuracy: 0.0727\n",
      "Epoch 34/100\n",
      "8/8 [==============================] - 1s 83ms/step - loss: 2.3975 - accuracy: 0.0937 - val_loss: 2.4011 - val_accuracy: 0.0727\n",
      "Epoch 35/100\n",
      "8/8 [==============================] - 1s 84ms/step - loss: 2.3975 - accuracy: 0.0907 - val_loss: 2.4011 - val_accuracy: 0.0614\n",
      "Epoch 36/100\n",
      "8/8 [==============================] - 1s 81ms/step - loss: 2.3975 - accuracy: 0.0939 - val_loss: 2.4010 - val_accuracy: 0.0614\n",
      "Epoch 37/100\n",
      "8/8 [==============================] - 1s 82ms/step - loss: 2.3975 - accuracy: 0.0914 - val_loss: 2.4012 - val_accuracy: 0.0727\n",
      "Epoch 38/100\n",
      "8/8 [==============================] - 1s 83ms/step - loss: 2.3975 - accuracy: 0.0937 - val_loss: 2.4011 - val_accuracy: 0.0727\n",
      "Epoch 39/100\n",
      "8/8 [==============================] - 1s 83ms/step - loss: 2.3975 - accuracy: 0.0944 - val_loss: 2.4011 - val_accuracy: 0.0614\n",
      "Epoch 40/100\n",
      "8/8 [==============================] - 1s 82ms/step - loss: 2.3975 - accuracy: 0.0939 - val_loss: 2.4012 - val_accuracy: 0.0614\n",
      "Epoch 41/100\n",
      "8/8 [==============================] - 1s 82ms/step - loss: 2.3975 - accuracy: 0.0939 - val_loss: 2.4012 - val_accuracy: 0.0614\n",
      "Epoch 42/100\n",
      "8/8 [==============================] - 1s 82ms/step - loss: 2.3975 - accuracy: 0.0939 - val_loss: 2.4013 - val_accuracy: 0.0614\n",
      "Epoch 43/100\n",
      "8/8 [==============================] - 1s 81ms/step - loss: 2.3975 - accuracy: 0.0939 - val_loss: 2.4013 - val_accuracy: 0.0614\n",
      "Epoch 44/100\n",
      "8/8 [==============================] - 1s 82ms/step - loss: 2.3975 - accuracy: 0.0939 - val_loss: 2.4012 - val_accuracy: 0.0614\n",
      "Epoch 45/100\n",
      "8/8 [==============================] - 1s 81ms/step - loss: 2.3975 - accuracy: 0.0939 - val_loss: 2.4013 - val_accuracy: 0.0614\n",
      "Epoch 46/100\n",
      "8/8 [==============================] - 1s 83ms/step - loss: 2.3975 - accuracy: 0.0939 - val_loss: 2.4013 - val_accuracy: 0.0614\n",
      "Epoch 47/100\n",
      "8/8 [==============================] - 1s 81ms/step - loss: 2.3975 - accuracy: 0.0939 - val_loss: 2.4012 - val_accuracy: 0.0614\n",
      "Epoch 48/100\n",
      "8/8 [==============================] - 1s 80ms/step - loss: 2.3975 - accuracy: 0.0939 - val_loss: 2.4013 - val_accuracy: 0.0614\n",
      "Epoch 49/100\n",
      "8/8 [==============================] - 1s 82ms/step - loss: 2.3975 - accuracy: 0.0907 - val_loss: 2.4012 - val_accuracy: 0.0614\n",
      "Epoch 50/100\n",
      "8/8 [==============================] - 1s 81ms/step - loss: 2.3975 - accuracy: 0.0939 - val_loss: 2.4013 - val_accuracy: 0.0614\n",
      "Epoch 51/100\n",
      "8/8 [==============================] - 1s 84ms/step - loss: 2.3975 - accuracy: 0.0939 - val_loss: 2.4014 - val_accuracy: 0.0614\n",
      "Epoch 52/100\n",
      "8/8 [==============================] - 1s 81ms/step - loss: 2.3975 - accuracy: 0.0939 - val_loss: 2.4013 - val_accuracy: 0.0614\n",
      "Epoch 53/100\n"
     ]
    },
    {
     "name": "stdout",
     "output_type": "stream",
     "text": [
      "8/8 [==============================] - 1s 83ms/step - loss: 2.3975 - accuracy: 0.0939 - val_loss: 2.4013 - val_accuracy: 0.0614\n",
      "Epoch 54/100\n",
      "8/8 [==============================] - 1s 81ms/step - loss: 2.3975 - accuracy: 0.0939 - val_loss: 2.4013 - val_accuracy: 0.0614\n",
      "Epoch 55/100\n",
      "8/8 [==============================] - 1s 83ms/step - loss: 2.3975 - accuracy: 0.0939 - val_loss: 2.4013 - val_accuracy: 0.0614\n",
      "Epoch 56/100\n",
      "8/8 [==============================] - 1s 81ms/step - loss: 2.3975 - accuracy: 0.0939 - val_loss: 2.4013 - val_accuracy: 0.0614\n",
      "Epoch 57/100\n",
      "8/8 [==============================] - 1s 82ms/step - loss: 2.3975 - accuracy: 0.0939 - val_loss: 2.4013 - val_accuracy: 0.0614\n",
      "Epoch 58/100\n",
      "8/8 [==============================] - 1s 81ms/step - loss: 2.3975 - accuracy: 0.0939 - val_loss: 2.4014 - val_accuracy: 0.0614\n",
      "Epoch 59/100\n",
      "8/8 [==============================] - 1s 82ms/step - loss: 2.3975 - accuracy: 0.0939 - val_loss: 2.4014 - val_accuracy: 0.0614\n",
      "Epoch 60/100\n",
      "8/8 [==============================] - 1s 83ms/step - loss: 2.3975 - accuracy: 0.0939 - val_loss: 2.4013 - val_accuracy: 0.0614\n",
      "Epoch 61/100\n",
      "8/8 [==============================] - 1s 81ms/step - loss: 2.3975 - accuracy: 0.0939 - val_loss: 2.4014 - val_accuracy: 0.0614\n",
      "Epoch 62/100\n",
      "8/8 [==============================] - 1s 81ms/step - loss: 2.3975 - accuracy: 0.0939 - val_loss: 2.4013 - val_accuracy: 0.0614\n",
      "Epoch 63/100\n",
      "8/8 [==============================] - 1s 81ms/step - loss: 2.3975 - accuracy: 0.0939 - val_loss: 2.4014 - val_accuracy: 0.0614\n",
      "Epoch 64/100\n",
      "8/8 [==============================] - 1s 82ms/step - loss: 2.3976 - accuracy: 0.0939 - val_loss: 2.4012 - val_accuracy: 0.0614\n",
      "Epoch 65/100\n",
      "8/8 [==============================] - 1s 82ms/step - loss: 2.3975 - accuracy: 0.0881 - val_loss: 2.4012 - val_accuracy: 0.0909\n",
      "Epoch 66/100\n",
      "8/8 [==============================] - 1s 81ms/step - loss: 2.3975 - accuracy: 0.0889 - val_loss: 2.4014 - val_accuracy: 0.0614\n",
      "Epoch 67/100\n",
      "8/8 [==============================] - 1s 82ms/step - loss: 2.3975 - accuracy: 0.0939 - val_loss: 2.4013 - val_accuracy: 0.0614\n",
      "Epoch 68/100\n",
      "8/8 [==============================] - 1s 82ms/step - loss: 2.3975 - accuracy: 0.0899 - val_loss: 2.4013 - val_accuracy: 0.0909\n",
      "Epoch 69/100\n",
      "8/8 [==============================] - 1s 82ms/step - loss: 2.3975 - accuracy: 0.0939 - val_loss: 2.4013 - val_accuracy: 0.0909\n",
      "Epoch 70/100\n",
      "8/8 [==============================] - 1s 82ms/step - loss: 2.3975 - accuracy: 0.0924 - val_loss: 2.4013 - val_accuracy: 0.0614\n",
      "Epoch 71/100\n",
      "8/8 [==============================] - 1s 81ms/step - loss: 2.3975 - accuracy: 0.0831 - val_loss: 2.4013 - val_accuracy: 0.0909\n",
      "Epoch 72/100\n",
      "8/8 [==============================] - 1s 82ms/step - loss: 2.3976 - accuracy: 0.0896 - val_loss: 2.4014 - val_accuracy: 0.0614\n",
      "Epoch 73/100\n",
      "8/8 [==============================] - 1s 82ms/step - loss: 2.3975 - accuracy: 0.0939 - val_loss: 2.4014 - val_accuracy: 0.0614\n",
      "Epoch 74/100\n",
      "8/8 [==============================] - 1s 84ms/step - loss: 2.3975 - accuracy: 0.0909 - val_loss: 2.4014 - val_accuracy: 0.0909\n",
      "Epoch 75/100\n",
      "8/8 [==============================] - 1s 81ms/step - loss: 2.3975 - accuracy: 0.0947 - val_loss: 2.4015 - val_accuracy: 0.0614\n",
      "Epoch 76/100\n",
      "8/8 [==============================] - 1s 81ms/step - loss: 2.3975 - accuracy: 0.0851 - val_loss: 2.4014 - val_accuracy: 0.0614\n",
      "Epoch 77/100\n",
      "8/8 [==============================] - 1s 83ms/step - loss: 2.3975 - accuracy: 0.0939 - val_loss: 2.4013 - val_accuracy: 0.0614\n",
      "Epoch 78/100\n",
      "8/8 [==============================] - 1s 82ms/step - loss: 2.3975 - accuracy: 0.0939 - val_loss: 2.4012 - val_accuracy: 0.0614\n",
      "Epoch 79/100\n",
      "8/8 [==============================] - 1s 81ms/step - loss: 2.3975 - accuracy: 0.0939 - val_loss: 2.4013 - val_accuracy: 0.0614\n",
      "Epoch 80/100\n",
      "8/8 [==============================] - 1s 81ms/step - loss: 2.3975 - accuracy: 0.0939 - val_loss: 2.4012 - val_accuracy: 0.0614\n",
      "Epoch 81/100\n",
      "8/8 [==============================] - 1s 81ms/step - loss: 2.3976 - accuracy: 0.0939 - val_loss: 2.4013 - val_accuracy: 0.0614\n",
      "Epoch 82/100\n",
      "8/8 [==============================] - 1s 81ms/step - loss: 2.3975 - accuracy: 0.0896 - val_loss: 2.4014 - val_accuracy: 0.0909\n",
      "Epoch 83/100\n",
      "8/8 [==============================] - 1s 81ms/step - loss: 2.3975 - accuracy: 0.0939 - val_loss: 2.4013 - val_accuracy: 0.0909\n",
      "Epoch 84/100\n",
      "8/8 [==============================] - 1s 81ms/step - loss: 2.3975 - accuracy: 0.0939 - val_loss: 2.4013 - val_accuracy: 0.0909\n",
      "Epoch 85/100\n",
      "8/8 [==============================] - 1s 82ms/step - loss: 2.3975 - accuracy: 0.0902 - val_loss: 2.4012 - val_accuracy: 0.0614\n",
      "Epoch 86/100\n",
      "8/8 [==============================] - 1s 83ms/step - loss: 2.3976 - accuracy: 0.0939 - val_loss: 2.4013 - val_accuracy: 0.0614\n",
      "Epoch 87/100\n",
      "8/8 [==============================] - 1s 81ms/step - loss: 2.3975 - accuracy: 0.0899 - val_loss: 2.4013 - val_accuracy: 0.0909\n",
      "Epoch 88/100\n",
      "8/8 [==============================] - 1s 82ms/step - loss: 2.3975 - accuracy: 0.0934 - val_loss: 2.4013 - val_accuracy: 0.0614\n",
      "Epoch 89/100\n",
      "8/8 [==============================] - 1s 84ms/step - loss: 2.3975 - accuracy: 0.0939 - val_loss: 2.4013 - val_accuracy: 0.0614\n",
      "Epoch 90/100\n",
      "8/8 [==============================] - 1s 82ms/step - loss: 2.3975 - accuracy: 0.0939 - val_loss: 2.4012 - val_accuracy: 0.0614\n",
      "Epoch 91/100\n",
      "8/8 [==============================] - 1s 81ms/step - loss: 2.3975 - accuracy: 0.0939 - val_loss: 2.4013 - val_accuracy: 0.0614\n",
      "Epoch 92/100\n",
      "8/8 [==============================] - 1s 81ms/step - loss: 2.3975 - accuracy: 0.0939 - val_loss: 2.4013 - val_accuracy: 0.0614\n",
      "Epoch 93/100\n",
      "8/8 [==============================] - 1s 84ms/step - loss: 2.3975 - accuracy: 0.0939 - val_loss: 2.4013 - val_accuracy: 0.0614\n",
      "Epoch 94/100\n",
      "8/8 [==============================] - 1s 81ms/step - loss: 2.3975 - accuracy: 0.0939 - val_loss: 2.4014 - val_accuracy: 0.0614\n",
      "Epoch 95/100\n",
      "8/8 [==============================] - 1s 81ms/step - loss: 2.3975 - accuracy: 0.0939 - val_loss: 2.4012 - val_accuracy: 0.0614\n",
      "Epoch 96/100\n",
      "8/8 [==============================] - 1s 81ms/step - loss: 2.3975 - accuracy: 0.0939 - val_loss: 2.4013 - val_accuracy: 0.0614\n",
      "Epoch 97/100\n",
      "8/8 [==============================] - 1s 83ms/step - loss: 2.3975 - accuracy: 0.0939 - val_loss: 2.4013 - val_accuracy: 0.0614\n",
      "Epoch 98/100\n",
      "8/8 [==============================] - 1s 81ms/step - loss: 2.3975 - accuracy: 0.0939 - val_loss: 2.4013 - val_accuracy: 0.0614\n",
      "Epoch 99/100\n",
      "8/8 [==============================] - 1s 82ms/step - loss: 2.3975 - accuracy: 0.0939 - val_loss: 2.4013 - val_accuracy: 0.0614\n",
      "Epoch 100/100\n",
      "8/8 [==============================] - 1s 81ms/step - loss: 2.3975 - accuracy: 0.0939 - val_loss: 2.4014 - val_accuracy: 0.0614\n",
      "35/35 [==============================] - 0s 5ms/step - loss: 2.3998 - accuracy: 0.0918\n"
     ]
    },
    {
     "data": {
      "image/png": "[encoded data removed]",
      "text/plain": [
       "<Figure size 504x432 with 2 Axes>"
      ]
     },
     "metadata": {
      "needs_background": "light"
     },
     "output_type": "display_data"
    },
    {
     "name": "stdout",
     "output_type": "stream",
     "text": [
      "Precision:0.00843\n",
      "Recall:0.0918\n",
      "F1_score:0.0154\n",
      "              precision    recall  f1-score   support\n",
      "\n",
      "           0       0.00      0.00      0.00       101\n",
      "           1       0.00      0.00      0.00        88\n",
      "           2       0.00      0.00      0.00       102\n",
      "           3       0.00      0.00      0.00       105\n",
      "           4       0.00      0.00      0.00       112\n",
      "           5       0.00      0.00      0.00        88\n",
      "           6       0.00      0.00      0.00        92\n",
      "           7       0.09      1.00      0.17       101\n",
      "           8       0.00      0.00      0.00        97\n",
      "           9       0.00      0.00      0.00       107\n",
      "          10       0.00      0.00      0.00       107\n",
      "\n",
      "    accuracy                           0.09      1100\n",
      "   macro avg       0.01      0.09      0.02      1100\n",
      "weighted avg       0.01      0.09      0.02      1100\n",
      "\n",
      "Epoch 1/100\n",
      "8/8 [==============================] - 1s 101ms/step - loss: 2.3983 - accuracy: 0.0927 - val_loss: 2.3981 - val_accuracy: 0.0705\n",
      "Epoch 2/100\n",
      "8/8 [==============================] - 1s 83ms/step - loss: 2.3981 - accuracy: 0.0947 - val_loss: 2.3986 - val_accuracy: 0.0773\n",
      "Epoch 3/100\n",
      "8/8 [==============================] - 1s 83ms/step - loss: 2.3977 - accuracy: 0.0947 - val_loss: 2.3989 - val_accuracy: 0.0773\n",
      "Epoch 4/100\n",
      "8/8 [==============================] - 1s 81ms/step - loss: 2.3977 - accuracy: 0.0934 - val_loss: 2.3992 - val_accuracy: 0.0818\n",
      "Epoch 5/100\n",
      "8/8 [==============================] - 1s 82ms/step - loss: 2.3976 - accuracy: 0.0902 - val_loss: 2.3994 - val_accuracy: 0.0795\n",
      "Epoch 6/100\n",
      "8/8 [==============================] - 1s 83ms/step - loss: 2.3976 - accuracy: 0.0955 - val_loss: 2.3997 - val_accuracy: 0.0795\n",
      "Epoch 7/100\n",
      "8/8 [==============================] - 1s 81ms/step - loss: 2.3975 - accuracy: 0.0955 - val_loss: 2.4000 - val_accuracy: 0.0795\n",
      "Epoch 8/100\n",
      "8/8 [==============================] - 1s 81ms/step - loss: 2.3975 - accuracy: 0.0955 - val_loss: 2.4002 - val_accuracy: 0.0795\n",
      "Epoch 9/100\n",
      "8/8 [==============================] - 1s 81ms/step - loss: 2.3975 - accuracy: 0.0886 - val_loss: 2.4004 - val_accuracy: 0.0795\n",
      "Epoch 10/100\n",
      "8/8 [==============================] - 1s 83ms/step - loss: 2.3974 - accuracy: 0.0955 - val_loss: 2.4007 - val_accuracy: 0.0795\n",
      "Epoch 11/100\n",
      "8/8 [==============================] - 1s 82ms/step - loss: 2.3974 - accuracy: 0.0955 - val_loss: 2.4009 - val_accuracy: 0.0795\n",
      "Epoch 12/100\n",
      "8/8 [==============================] - 1s 81ms/step - loss: 2.3974 - accuracy: 0.0955 - val_loss: 2.4010 - val_accuracy: 0.0795\n",
      "Epoch 13/100\n",
      "8/8 [==============================] - 1s 81ms/step - loss: 2.3974 - accuracy: 0.0955 - val_loss: 2.4012 - val_accuracy: 0.0795\n",
      "Epoch 14/100\n",
      "8/8 [==============================] - 1s 81ms/step - loss: 2.3973 - accuracy: 0.0955 - val_loss: 2.4014 - val_accuracy: 0.0795\n",
      "Epoch 15/100\n",
      "8/8 [==============================] - 1s 82ms/step - loss: 2.3973 - accuracy: 0.0955 - val_loss: 2.4016 - val_accuracy: 0.0795\n",
      "Epoch 16/100\n",
      "8/8 [==============================] - 1s 83ms/step - loss: 2.3973 - accuracy: 0.0955 - val_loss: 2.4018 - val_accuracy: 0.0795\n",
      "Epoch 17/100\n",
      "8/8 [==============================] - 1s 81ms/step - loss: 2.3973 - accuracy: 0.0955 - val_loss: 2.4020 - val_accuracy: 0.0795\n",
      "Epoch 18/100\n",
      "8/8 [==============================] - 1s 83ms/step - loss: 2.3973 - accuracy: 0.0955 - val_loss: 2.4021 - val_accuracy: 0.0795\n",
      "Epoch 19/100\n",
      "8/8 [==============================] - 1s 82ms/step - loss: 2.3973 - accuracy: 0.0955 - val_loss: 2.4022 - val_accuracy: 0.0795\n",
      "Epoch 20/100\n",
      "8/8 [==============================] - 1s 82ms/step - loss: 2.3973 - accuracy: 0.0955 - val_loss: 2.4024 - val_accuracy: 0.0795\n",
      "Epoch 21/100\n",
      "8/8 [==============================] - 1s 81ms/step - loss: 2.3973 - accuracy: 0.0955 - val_loss: 2.4025 - val_accuracy: 0.0795\n",
      "Epoch 22/100\n",
      "8/8 [==============================] - 1s 81ms/step - loss: 2.3972 - accuracy: 0.0955 - val_loss: 2.4026 - val_accuracy: 0.0795\n",
      "Epoch 23/100\n",
      "8/8 [==============================] - 1s 81ms/step - loss: 2.3972 - accuracy: 0.0955 - val_loss: 2.4027 - val_accuracy: 0.0795\n",
      "Epoch 24/100\n",
      "8/8 [==============================] - 1s 81ms/step - loss: 2.3972 - accuracy: 0.0955 - val_loss: 2.4028 - val_accuracy: 0.0795\n",
      "Epoch 25/100\n",
      "8/8 [==============================] - 1s 81ms/step - loss: 2.3972 - accuracy: 0.0955 - val_loss: 2.4030 - val_accuracy: 0.0795\n",
      "Epoch 26/100\n",
      "8/8 [==============================] - 1s 84ms/step - loss: 2.3972 - accuracy: 0.0955 - val_loss: 2.4030 - val_accuracy: 0.0795\n",
      "Epoch 27/100\n",
      "8/8 [==============================] - 1s 81ms/step - loss: 2.3972 - accuracy: 0.0955 - val_loss: 2.4031 - val_accuracy: 0.0795\n",
      "Epoch 28/100\n",
      "8/8 [==============================] - 1s 81ms/step - loss: 2.3972 - accuracy: 0.0955 - val_loss: 2.4032 - val_accuracy: 0.0795\n",
      "Epoch 29/100\n",
      "8/8 [==============================] - 1s 82ms/step - loss: 2.3972 - accuracy: 0.0955 - val_loss: 2.4032 - val_accuracy: 0.0795\n",
      "Epoch 30/100\n",
      "8/8 [==============================] - 1s 82ms/step - loss: 2.3972 - accuracy: 0.0955 - val_loss: 2.4034 - val_accuracy: 0.0795\n",
      "Epoch 31/100\n",
      "8/8 [==============================] - 1s 82ms/step - loss: 2.3972 - accuracy: 0.0955 - val_loss: 2.4035 - val_accuracy: 0.0795\n",
      "Epoch 32/100\n",
      "8/8 [==============================] - 1s 81ms/step - loss: 2.3972 - accuracy: 0.0955 - val_loss: 2.4036 - val_accuracy: 0.0795\n",
      "Epoch 33/100\n",
      "8/8 [==============================] - 1s 81ms/step - loss: 2.3972 - accuracy: 0.0955 - val_loss: 2.4036 - val_accuracy: 0.0795\n",
      "Epoch 34/100\n",
      "8/8 [==============================] - 1s 81ms/step - loss: 2.3972 - accuracy: 0.0955 - val_loss: 2.4036 - val_accuracy: 0.0795\n",
      "Epoch 35/100\n",
      "8/8 [==============================] - 1s 82ms/step - loss: 2.3972 - accuracy: 0.0955 - val_loss: 2.4037 - val_accuracy: 0.0795\n",
      "Epoch 36/100\n",
      "8/8 [==============================] - 1s 83ms/step - loss: 2.3972 - accuracy: 0.0955 - val_loss: 2.4037 - val_accuracy: 0.0795\n",
      "Epoch 37/100\n",
      "8/8 [==============================] - 1s 82ms/step - loss: 2.3972 - accuracy: 0.0955 - val_loss: 2.4037 - val_accuracy: 0.0795\n",
      "Epoch 38/100\n",
      "8/8 [==============================] - 1s 81ms/step - loss: 2.3972 - accuracy: 0.0955 - val_loss: 2.4038 - val_accuracy: 0.0795\n",
      "Epoch 39/100\n",
      "8/8 [==============================] - 1s 82ms/step - loss: 2.3972 - accuracy: 0.0955 - val_loss: 2.4039 - val_accuracy: 0.0795\n",
      "Epoch 40/100\n",
      "8/8 [==============================] - 1s 81ms/step - loss: 2.3972 - accuracy: 0.0955 - val_loss: 2.4039 - val_accuracy: 0.0795\n",
      "Epoch 41/100\n",
      "8/8 [==============================] - 1s 81ms/step - loss: 2.3972 - accuracy: 0.0955 - val_loss: 2.4040 - val_accuracy: 0.0795\n",
      "Epoch 42/100\n",
      "8/8 [==============================] - 1s 83ms/step - loss: 2.3972 - accuracy: 0.0955 - val_loss: 2.4041 - val_accuracy: 0.0795\n",
      "Epoch 43/100\n",
      "8/8 [==============================] - 1s 81ms/step - loss: 2.3972 - accuracy: 0.0955 - val_loss: 2.4041 - val_accuracy: 0.0795\n",
      "Epoch 44/100\n",
      "8/8 [==============================] - 1s 82ms/step - loss: 2.3972 - accuracy: 0.0955 - val_loss: 2.4042 - val_accuracy: 0.0795\n",
      "Epoch 45/100\n",
      "8/8 [==============================] - 1s 83ms/step - loss: 2.3972 - accuracy: 0.0955 - val_loss: 2.4042 - val_accuracy: 0.0795\n",
      "Epoch 46/100\n",
      "8/8 [==============================] - 1s 83ms/step - loss: 2.3972 - accuracy: 0.0955 - val_loss: 2.4042 - val_accuracy: 0.0795\n",
      "Epoch 47/100\n",
      "8/8 [==============================] - 1s 81ms/step - loss: 2.3972 - accuracy: 0.0955 - val_loss: 2.4043 - val_accuracy: 0.0795\n",
      "Epoch 48/100\n",
      "8/8 [==============================] - 1s 83ms/step - loss: 2.3972 - accuracy: 0.0955 - val_loss: 2.4043 - val_accuracy: 0.0795\n",
      "Epoch 49/100\n",
      "8/8 [==============================] - 1s 81ms/step - loss: 2.3972 - accuracy: 0.0955 - val_loss: 2.4044 - val_accuracy: 0.0795\n",
      "Epoch 50/100\n",
      "8/8 [==============================] - 1s 83ms/step - loss: 2.3972 - accuracy: 0.0955 - val_loss: 2.4044 - val_accuracy: 0.0795\n",
      "Epoch 51/100\n",
      "8/8 [==============================] - 1s 83ms/step - loss: 2.3972 - accuracy: 0.0955 - val_loss: 2.4043 - val_accuracy: 0.0795\n",
      "Epoch 52/100\n",
      "8/8 [==============================] - 1s 81ms/step - loss: 2.3972 - accuracy: 0.0955 - val_loss: 2.4043 - val_accuracy: 0.0795\n",
      "Epoch 53/100\n"
     ]
    },
    {
     "name": "stdout",
     "output_type": "stream",
     "text": [
      "8/8 [==============================] - 1s 82ms/step - loss: 2.3972 - accuracy: 0.0955 - val_loss: 2.4043 - val_accuracy: 0.0795\n",
      "Epoch 54/100\n",
      "8/8 [==============================] - 1s 81ms/step - loss: 2.3972 - accuracy: 0.0955 - val_loss: 2.4043 - val_accuracy: 0.0795\n",
      "Epoch 55/100\n",
      "8/8 [==============================] - 1s 82ms/step - loss: 2.3972 - accuracy: 0.0955 - val_loss: 2.4043 - val_accuracy: 0.0795\n",
      "Epoch 56/100\n",
      "8/8 [==============================] - 1s 81ms/step - loss: 2.3972 - accuracy: 0.0955 - val_loss: 2.4044 - val_accuracy: 0.0795\n",
      "Epoch 57/100\n",
      "8/8 [==============================] - 1s 83ms/step - loss: 2.3972 - accuracy: 0.0955 - val_loss: 2.4044 - val_accuracy: 0.0795\n",
      "Epoch 58/100\n",
      "8/8 [==============================] - 1s 83ms/step - loss: 2.3972 - accuracy: 0.0955 - val_loss: 2.4044 - val_accuracy: 0.0795\n",
      "Epoch 59/100\n",
      "8/8 [==============================] - 1s 81ms/step - loss: 2.3972 - accuracy: 0.0955 - val_loss: 2.4044 - val_accuracy: 0.0795\n",
      "Epoch 60/100\n",
      "8/8 [==============================] - 1s 81ms/step - loss: 2.3972 - accuracy: 0.0955 - val_loss: 2.4043 - val_accuracy: 0.0795\n",
      "Epoch 61/100\n",
      "8/8 [==============================] - 1s 82ms/step - loss: 2.3972 - accuracy: 0.0955 - val_loss: 2.4044 - val_accuracy: 0.0795\n",
      "Epoch 62/100\n",
      "8/8 [==============================] - 1s 82ms/step - loss: 2.3972 - accuracy: 0.0955 - val_loss: 2.4043 - val_accuracy: 0.0795\n",
      "Epoch 63/100\n",
      "8/8 [==============================] - 1s 83ms/step - loss: 2.3972 - accuracy: 0.0955 - val_loss: 2.4044 - val_accuracy: 0.0795\n",
      "Epoch 64/100\n",
      "8/8 [==============================] - 1s 82ms/step - loss: 2.3972 - accuracy: 0.0955 - val_loss: 2.4044 - val_accuracy: 0.0795\n",
      "Epoch 65/100\n",
      "8/8 [==============================] - 1s 84ms/step - loss: 2.3972 - accuracy: 0.0955 - val_loss: 2.4044 - val_accuracy: 0.0795\n",
      "Epoch 66/100\n",
      "8/8 [==============================] - 1s 81ms/step - loss: 2.3972 - accuracy: 0.0955 - val_loss: 2.4044 - val_accuracy: 0.0795\n",
      "Epoch 67/100\n",
      "8/8 [==============================] - 1s 83ms/step - loss: 2.3972 - accuracy: 0.0955 - val_loss: 2.4044 - val_accuracy: 0.0795\n",
      "Epoch 68/100\n",
      "8/8 [==============================] - 1s 83ms/step - loss: 2.3972 - accuracy: 0.0955 - val_loss: 2.4044 - val_accuracy: 0.0795\n",
      "Epoch 69/100\n",
      "8/8 [==============================] - 1s 81ms/step - loss: 2.3972 - accuracy: 0.0955 - val_loss: 2.4045 - val_accuracy: 0.0795\n",
      "Epoch 70/100\n",
      "8/8 [==============================] - 1s 81ms/step - loss: 2.3972 - accuracy: 0.0955 - val_loss: 2.4045 - val_accuracy: 0.0795\n",
      "Epoch 71/100\n",
      "8/8 [==============================] - 1s 81ms/step - loss: 2.3972 - accuracy: 0.0955 - val_loss: 2.4045 - val_accuracy: 0.0795\n",
      "Epoch 72/100\n",
      "8/8 [==============================] - 1s 81ms/step - loss: 2.3972 - accuracy: 0.0955 - val_loss: 2.4045 - val_accuracy: 0.0795\n",
      "Epoch 73/100\n",
      "8/8 [==============================] - 1s 81ms/step - loss: 2.3972 - accuracy: 0.0955 - val_loss: 2.4046 - val_accuracy: 0.0795\n",
      "Epoch 74/100\n",
      "8/8 [==============================] - 1s 83ms/step - loss: 2.3972 - accuracy: 0.0955 - val_loss: 2.4046 - val_accuracy: 0.0795\n",
      "Epoch 75/100\n",
      "8/8 [==============================] - 1s 83ms/step - loss: 2.3972 - accuracy: 0.0955 - val_loss: 2.4046 - val_accuracy: 0.0795\n",
      "Epoch 76/100\n",
      "8/8 [==============================] - 1s 82ms/step - loss: 2.3972 - accuracy: 0.0955 - val_loss: 2.4046 - val_accuracy: 0.0795\n",
      "Epoch 77/100\n",
      "8/8 [==============================] - 1s 83ms/step - loss: 2.3972 - accuracy: 0.0955 - val_loss: 2.4046 - val_accuracy: 0.0795\n",
      "Epoch 78/100\n",
      "8/8 [==============================] - 1s 83ms/step - loss: 2.3972 - accuracy: 0.0955 - val_loss: 2.4046 - val_accuracy: 0.0795\n",
      "Epoch 79/100\n",
      "8/8 [==============================] - 1s 81ms/step - loss: 2.3972 - accuracy: 0.0955 - val_loss: 2.4046 - val_accuracy: 0.0795\n",
      "Epoch 80/100\n",
      "8/8 [==============================] - 1s 81ms/step - loss: 2.3972 - accuracy: 0.0955 - val_loss: 2.4046 - val_accuracy: 0.0795\n",
      "Epoch 81/100\n",
      "8/8 [==============================] - 1s 82ms/step - loss: 2.3972 - accuracy: 0.0955 - val_loss: 2.4045 - val_accuracy: 0.0795\n",
      "Epoch 82/100\n",
      "8/8 [==============================] - 1s 83ms/step - loss: 2.3972 - accuracy: 0.0955 - val_loss: 2.4045 - val_accuracy: 0.0795\n",
      "Epoch 83/100\n",
      "8/8 [==============================] - 1s 82ms/step - loss: 2.3972 - accuracy: 0.0955 - val_loss: 2.4045 - val_accuracy: 0.0795\n",
      "Epoch 84/100\n",
      "8/8 [==============================] - 1s 82ms/step - loss: 2.3972 - accuracy: 0.0955 - val_loss: 2.4045 - val_accuracy: 0.0795\n",
      "Epoch 85/100\n",
      "8/8 [==============================] - 1s 82ms/step - loss: 2.3972 - accuracy: 0.0955 - val_loss: 2.4045 - val_accuracy: 0.0795\n",
      "Epoch 86/100\n",
      "8/8 [==============================] - 1s 82ms/step - loss: 2.3972 - accuracy: 0.0955 - val_loss: 2.4045 - val_accuracy: 0.0795\n",
      "Epoch 87/100\n",
      "8/8 [==============================] - 1s 81ms/step - loss: 2.3972 - accuracy: 0.0955 - val_loss: 2.4045 - val_accuracy: 0.0795\n",
      "Epoch 88/100\n",
      "8/8 [==============================] - 1s 81ms/step - loss: 2.3972 - accuracy: 0.0955 - val_loss: 2.4045 - val_accuracy: 0.0795\n",
      "Epoch 89/100\n",
      "8/8 [==============================] - 1s 82ms/step - loss: 2.3972 - accuracy: 0.0955 - val_loss: 2.4046 - val_accuracy: 0.0795\n",
      "Epoch 90/100\n",
      "8/8 [==============================] - 1s 81ms/step - loss: 2.3972 - accuracy: 0.0955 - val_loss: 2.4046 - val_accuracy: 0.0795\n",
      "Epoch 91/100\n",
      "8/8 [==============================] - 1s 82ms/step - loss: 2.3972 - accuracy: 0.0955 - val_loss: 2.4046 - val_accuracy: 0.0795\n",
      "Epoch 92/100\n",
      "8/8 [==============================] - 1s 82ms/step - loss: 2.3972 - accuracy: 0.0955 - val_loss: 2.4046 - val_accuracy: 0.0795\n",
      "Epoch 93/100\n",
      "8/8 [==============================] - 1s 82ms/step - loss: 2.3972 - accuracy: 0.0955 - val_loss: 2.4046 - val_accuracy: 0.0795\n",
      "Epoch 94/100\n",
      "8/8 [==============================] - 1s 82ms/step - loss: 2.3972 - accuracy: 0.0955 - val_loss: 2.4046 - val_accuracy: 0.0795\n",
      "Epoch 95/100\n",
      "8/8 [==============================] - 1s 81ms/step - loss: 2.3972 - accuracy: 0.0955 - val_loss: 2.4045 - val_accuracy: 0.0795\n",
      "Epoch 96/100\n",
      "8/8 [==============================] - 1s 81ms/step - loss: 2.3972 - accuracy: 0.0955 - val_loss: 2.4046 - val_accuracy: 0.0795\n",
      "Epoch 97/100\n",
      "8/8 [==============================] - 1s 81ms/step - loss: 2.3972 - accuracy: 0.0955 - val_loss: 2.4046 - val_accuracy: 0.0795\n",
      "Epoch 98/100\n",
      "8/8 [==============================] - 1s 82ms/step - loss: 2.3972 - accuracy: 0.0955 - val_loss: 2.4046 - val_accuracy: 0.0795\n",
      "Epoch 99/100\n",
      "8/8 [==============================] - 1s 81ms/step - loss: 2.3972 - accuracy: 0.0955 - val_loss: 2.4046 - val_accuracy: 0.0795\n",
      "Epoch 100/100\n",
      "8/8 [==============================] - 1s 83ms/step - loss: 2.3972 - accuracy: 0.0955 - val_loss: 2.4046 - val_accuracy: 0.0795\n",
      "35/35 [==============================] - 0s 5ms/step - loss: 2.4014 - accuracy: 0.0791\n"
     ]
    },
    {
     "data": {
      "image/png": "[encoded data removed]",
      "text/plain": [
       "<Figure size 504x432 with 2 Axes>"
      ]
     },
     "metadata": {
      "needs_background": "light"
     },
     "output_type": "display_data"
    },
    {
     "name": "stdout",
     "output_type": "stream",
     "text": [
      "Precision:0.00626\n",
      "Recall:0.0791\n",
      "F1_score:0.0116\n",
      "              precision    recall  f1-score   support\n",
      "\n",
      "           0       0.00      0.00      0.00       107\n",
      "           1       0.00      0.00      0.00        89\n",
      "           2       0.00      0.00      0.00       109\n",
      "           3       0.00      0.00      0.00        92\n",
      "           4       0.00      0.00      0.00        99\n",
      "           5       0.00      0.00      0.00       104\n",
      "           6       0.00      0.00      0.00       100\n",
      "           7       0.00      0.00      0.00        91\n",
      "           8       0.08      1.00      0.15        87\n",
      "           9       0.00      0.00      0.00       110\n",
      "          10       0.00      0.00      0.00       112\n",
      "\n",
      "    accuracy                           0.08      1100\n",
      "   macro avg       0.01      0.09      0.01      1100\n",
      "weighted avg       0.01      0.08      0.01      1100\n",
      "\n",
      "Epoch 1/100\n",
      "8/8 [==============================] - 1s 101ms/step - loss: 2.3985 - accuracy: 0.0914 - val_loss: 2.3967 - val_accuracy: 0.0909\n",
      "Epoch 2/100\n",
      "8/8 [==============================] - 1s 83ms/step - loss: 2.3919 - accuracy: 0.0922 - val_loss: 2.3808 - val_accuracy: 0.0909\n",
      "Epoch 3/100\n",
      "8/8 [==============================] - 1s 82ms/step - loss: 2.3694 - accuracy: 0.0985 - val_loss: 2.3405 - val_accuracy: 0.1864\n",
      "Epoch 4/100\n",
      "8/8 [==============================] - 1s 82ms/step - loss: 2.3282 - accuracy: 0.1220 - val_loss: 2.3215 - val_accuracy: 0.0909\n",
      "Epoch 5/100\n",
      "8/8 [==============================] - 1s 82ms/step - loss: 2.3052 - accuracy: 0.1356 - val_loss: 2.2589 - val_accuracy: 0.1568\n",
      "Epoch 6/100\n",
      "8/8 [==============================] - 1s 82ms/step - loss: 2.2381 - accuracy: 0.1942 - val_loss: 2.1988 - val_accuracy: 0.2205\n",
      "Epoch 7/100\n",
      "8/8 [==============================] - 1s 84ms/step - loss: 2.2305 - accuracy: 0.2179 - val_loss: 2.2162 - val_accuracy: 0.2091\n",
      "Epoch 8/100\n",
      "8/8 [==============================] - 1s 82ms/step - loss: 2.1843 - accuracy: 0.2664 - val_loss: 2.1691 - val_accuracy: 0.2750\n",
      "Epoch 9/100\n",
      "8/8 [==============================] - 1s 84ms/step - loss: 2.1350 - accuracy: 0.2843 - val_loss: 2.0904 - val_accuracy: 0.2068\n",
      "Epoch 10/100\n",
      "8/8 [==============================] - 1s 82ms/step - loss: 2.0929 - accuracy: 0.2634 - val_loss: 2.0536 - val_accuracy: 0.2386\n",
      "Epoch 11/100\n",
      "8/8 [==============================] - 1s 83ms/step - loss: 2.0687 - accuracy: 0.2737 - val_loss: 2.0175 - val_accuracy: 0.3545\n",
      "Epoch 12/100\n",
      "8/8 [==============================] - 1s 84ms/step - loss: 2.0572 - accuracy: 0.3104 - val_loss: 2.0220 - val_accuracy: 0.3773\n",
      "Epoch 13/100\n",
      "8/8 [==============================] - 1s 83ms/step - loss: 2.0051 - accuracy: 0.3273 - val_loss: 1.9662 - val_accuracy: 0.3636\n",
      "Epoch 14/100\n",
      "8/8 [==============================] - 1s 82ms/step - loss: 1.9547 - accuracy: 0.3399 - val_loss: 1.9202 - val_accuracy: 0.3455\n",
      "Epoch 15/100\n",
      "8/8 [==============================] - 1s 81ms/step - loss: 1.9065 - accuracy: 0.3477 - val_loss: 1.8732 - val_accuracy: 0.3841\n",
      "Epoch 16/100\n",
      "8/8 [==============================] - 1s 82ms/step - loss: 1.8571 - accuracy: 0.3520 - val_loss: 1.9206 - val_accuracy: 0.2455\n",
      "Epoch 17/100\n",
      "8/8 [==============================] - 1s 82ms/step - loss: 1.8657 - accuracy: 0.2914 - val_loss: 1.8227 - val_accuracy: 0.3932\n",
      "Epoch 18/100\n",
      "8/8 [==============================] - 1s 85ms/step - loss: 1.7822 - accuracy: 0.3237 - val_loss: 1.7268 - val_accuracy: 0.3023\n",
      "Epoch 19/100\n",
      "8/8 [==============================] - 1s 81ms/step - loss: 1.7001 - accuracy: 0.3298 - val_loss: 1.6867 - val_accuracy: 0.3841\n",
      "Epoch 20/100\n",
      "8/8 [==============================] - 1s 81ms/step - loss: 1.6894 - accuracy: 0.3699 - val_loss: 1.6394 - val_accuracy: 0.3114\n",
      "Epoch 21/100\n",
      "8/8 [==============================] - 1s 82ms/step - loss: 1.7033 - accuracy: 0.3487 - val_loss: 2.7052 - val_accuracy: 0.1250\n",
      "Epoch 22/100\n",
      "8/8 [==============================] - 1s 83ms/step - loss: 1.9646 - accuracy: 0.2808 - val_loss: 1.9637 - val_accuracy: 0.1523\n",
      "Epoch 23/100\n",
      "8/8 [==============================] - 1s 81ms/step - loss: 1.8500 - accuracy: 0.3098 - val_loss: 1.7822 - val_accuracy: 0.2432\n",
      "Epoch 24/100\n",
      "8/8 [==============================] - 1s 83ms/step - loss: 1.6882 - accuracy: 0.4096 - val_loss: 1.6106 - val_accuracy: 0.4364\n",
      "Epoch 25/100\n",
      "8/8 [==============================] - 1s 82ms/step - loss: 1.5666 - accuracy: 0.4455 - val_loss: 1.5326 - val_accuracy: 0.4091\n",
      "Epoch 26/100\n",
      "8/8 [==============================] - 1s 82ms/step - loss: 1.5110 - accuracy: 0.4439 - val_loss: 1.5389 - val_accuracy: 0.4250\n",
      "Epoch 27/100\n",
      "8/8 [==============================] - 1s 82ms/step - loss: 1.4760 - accuracy: 0.4434 - val_loss: 1.4639 - val_accuracy: 0.4409\n",
      "Epoch 28/100\n",
      "8/8 [==============================] - 1s 83ms/step - loss: 1.4818 - accuracy: 0.4341 - val_loss: 1.4298 - val_accuracy: 0.4273\n",
      "Epoch 29/100\n",
      "8/8 [==============================] - 1s 81ms/step - loss: 1.4197 - accuracy: 0.4578 - val_loss: 1.3756 - val_accuracy: 0.4682\n",
      "Epoch 30/100\n",
      "8/8 [==============================] - 1s 83ms/step - loss: 1.4714 - accuracy: 0.4407 - val_loss: 1.3710 - val_accuracy: 0.4500\n",
      "Epoch 31/100\n",
      "8/8 [==============================] - 1s 82ms/step - loss: 1.4101 - accuracy: 0.4515 - val_loss: 1.4885 - val_accuracy: 0.3795\n",
      "Epoch 32/100\n",
      "8/8 [==============================] - 1s 82ms/step - loss: 1.3420 - accuracy: 0.4692 - val_loss: 1.3213 - val_accuracy: 0.4273\n",
      "Epoch 33/100\n",
      "8/8 [==============================] - 1s 83ms/step - loss: 1.4488 - accuracy: 0.4374 - val_loss: 1.6002 - val_accuracy: 0.3159\n",
      "Epoch 34/100\n",
      "8/8 [==============================] - 1s 82ms/step - loss: 1.4633 - accuracy: 0.4073 - val_loss: 1.4653 - val_accuracy: 0.2886\n",
      "Epoch 35/100\n",
      "8/8 [==============================] - 1s 82ms/step - loss: 1.3785 - accuracy: 0.4336 - val_loss: 1.3892 - val_accuracy: 0.3523\n",
      "Epoch 36/100\n",
      "8/8 [==============================] - 1s 81ms/step - loss: 1.3255 - accuracy: 0.4636 - val_loss: 1.6116 - val_accuracy: 0.3318\n",
      "Epoch 37/100\n",
      "8/8 [==============================] - 1s 83ms/step - loss: 1.5769 - accuracy: 0.3669 - val_loss: 1.4741 - val_accuracy: 0.3909\n",
      "Epoch 38/100\n",
      "8/8 [==============================] - 1s 83ms/step - loss: 1.3819 - accuracy: 0.4505 - val_loss: 1.3726 - val_accuracy: 0.3682\n",
      "Epoch 39/100\n",
      "8/8 [==============================] - 1s 83ms/step - loss: 1.3157 - accuracy: 0.4588 - val_loss: 1.4984 - val_accuracy: 0.3455\n",
      "Epoch 40/100\n",
      "8/8 [==============================] - 1s 83ms/step - loss: 1.5100 - accuracy: 0.3841 - val_loss: 1.5334 - val_accuracy: 0.2523\n",
      "Epoch 41/100\n",
      "8/8 [==============================] - 1s 81ms/step - loss: 1.3497 - accuracy: 0.4449 - val_loss: 1.4523 - val_accuracy: 0.3500\n",
      "Epoch 42/100\n",
      "8/8 [==============================] - 1s 82ms/step - loss: 1.3602 - accuracy: 0.4659 - val_loss: 1.3641 - val_accuracy: 0.4114\n",
      "Epoch 43/100\n",
      "8/8 [==============================] - 1s 83ms/step - loss: 1.2748 - accuracy: 0.5056 - val_loss: 1.2548 - val_accuracy: 0.4909\n",
      "Epoch 44/100\n",
      "8/8 [==============================] - 1s 83ms/step - loss: 1.2107 - accuracy: 0.5263 - val_loss: 1.2280 - val_accuracy: 0.4818\n",
      "Epoch 45/100\n",
      "8/8 [==============================] - 1s 82ms/step - loss: 1.1995 - accuracy: 0.5338 - val_loss: 1.2077 - val_accuracy: 0.4727\n",
      "Epoch 46/100\n",
      "8/8 [==============================] - 1s 82ms/step - loss: 1.1687 - accuracy: 0.5419 - val_loss: 1.2311 - val_accuracy: 0.4682\n",
      "Epoch 47/100\n",
      "8/8 [==============================] - 1s 81ms/step - loss: 1.8315 - accuracy: 0.3141 - val_loss: 2.0120 - val_accuracy: 0.2182\n",
      "Epoch 48/100\n",
      "8/8 [==============================] - 1s 82ms/step - loss: 1.9375 - accuracy: 0.2326 - val_loss: 1.6734 - val_accuracy: 0.3886\n",
      "Epoch 49/100\n",
      "8/8 [==============================] - 1s 82ms/step - loss: 1.5781 - accuracy: 0.4066 - val_loss: 1.4692 - val_accuracy: 0.3705\n",
      "Epoch 50/100\n",
      "8/8 [==============================] - 1s 82ms/step - loss: 1.3582 - accuracy: 0.4760 - val_loss: 1.3204 - val_accuracy: 0.5023\n",
      "Epoch 51/100\n",
      "8/8 [==============================] - 1s 82ms/step - loss: 1.2259 - accuracy: 0.5073 - val_loss: 1.2951 - val_accuracy: 0.4159\n",
      "Epoch 52/100\n",
      "8/8 [==============================] - 1s 83ms/step - loss: 1.2032 - accuracy: 0.5116 - val_loss: 1.1873 - val_accuracy: 0.5068\n",
      "Epoch 53/100\n"
     ]
    },
    {
     "name": "stdout",
     "output_type": "stream",
     "text": [
      "8/8 [==============================] - 1s 83ms/step - loss: 1.1602 - accuracy: 0.5424 - val_loss: 1.1793 - val_accuracy: 0.4932\n",
      "Epoch 54/100\n",
      "8/8 [==============================] - 1s 82ms/step - loss: 1.3000 - accuracy: 0.4770 - val_loss: 1.4956 - val_accuracy: 0.4068\n",
      "Epoch 55/100\n",
      "8/8 [==============================] - 1s 81ms/step - loss: 1.2821 - accuracy: 0.4896 - val_loss: 1.2848 - val_accuracy: 0.4909\n",
      "Epoch 56/100\n",
      "8/8 [==============================] - 1s 82ms/step - loss: 1.2076 - accuracy: 0.5354 - val_loss: 1.2357 - val_accuracy: 0.4636\n",
      "Epoch 57/100\n",
      "8/8 [==============================] - 1s 81ms/step - loss: 1.1567 - accuracy: 0.5409 - val_loss: 1.1933 - val_accuracy: 0.5227\n",
      "Epoch 58/100\n",
      "8/8 [==============================] - 1s 81ms/step - loss: 1.1213 - accuracy: 0.5432 - val_loss: 1.1559 - val_accuracy: 0.5182\n",
      "Epoch 59/100\n",
      "8/8 [==============================] - 1s 83ms/step - loss: 1.1161 - accuracy: 0.5480 - val_loss: 1.1851 - val_accuracy: 0.5364\n",
      "Epoch 60/100\n",
      "8/8 [==============================] - 1s 83ms/step - loss: 1.1032 - accuracy: 0.5705 - val_loss: 1.1412 - val_accuracy: 0.5364\n",
      "Epoch 61/100\n",
      "8/8 [==============================] - 1s 81ms/step - loss: 1.1015 - accuracy: 0.5548 - val_loss: 1.1483 - val_accuracy: 0.4841\n",
      "Epoch 62/100\n",
      "8/8 [==============================] - 1s 84ms/step - loss: 1.1341 - accuracy: 0.5475 - val_loss: 1.1650 - val_accuracy: 0.6136\n",
      "Epoch 63/100\n",
      "8/8 [==============================] - 1s 85ms/step - loss: 1.0989 - accuracy: 0.5904 - val_loss: 1.1605 - val_accuracy: 0.4591\n",
      "Epoch 64/100\n",
      "8/8 [==============================] - 1s 82ms/step - loss: 1.1034 - accuracy: 0.5515 - val_loss: 1.1944 - val_accuracy: 0.5409\n",
      "Epoch 65/100\n",
      "8/8 [==============================] - 1s 83ms/step - loss: 1.0975 - accuracy: 0.5907 - val_loss: 1.1317 - val_accuracy: 0.5614\n",
      "Epoch 66/100\n",
      "8/8 [==============================] - 1s 82ms/step - loss: 1.0709 - accuracy: 0.5962 - val_loss: 1.1159 - val_accuracy: 0.5591\n",
      "Epoch 67/100\n",
      "8/8 [==============================] - 1s 82ms/step - loss: 1.0668 - accuracy: 0.6076 - val_loss: 1.1288 - val_accuracy: 0.5841\n",
      "Epoch 68/100\n",
      "8/8 [==============================] - 1s 82ms/step - loss: 1.0710 - accuracy: 0.6005 - val_loss: 1.2104 - val_accuracy: 0.5000\n",
      "Epoch 69/100\n",
      "8/8 [==============================] - 1s 83ms/step - loss: 1.1127 - accuracy: 0.5768 - val_loss: 1.1473 - val_accuracy: 0.5886\n",
      "Epoch 70/100\n",
      "8/8 [==============================] - 1s 82ms/step - loss: 1.0279 - accuracy: 0.6311 - val_loss: 1.2209 - val_accuracy: 0.4568\n",
      "Epoch 71/100\n",
      "8/8 [==============================] - 1s 82ms/step - loss: 1.0759 - accuracy: 0.6106 - val_loss: 1.1128 - val_accuracy: 0.6045\n",
      "Epoch 72/100\n",
      "8/8 [==============================] - 1s 82ms/step - loss: 1.1447 - accuracy: 0.5553 - val_loss: 1.0488 - val_accuracy: 0.5682\n",
      "Epoch 73/100\n",
      "8/8 [==============================] - 1s 82ms/step - loss: 1.0551 - accuracy: 0.6162 - val_loss: 1.0805 - val_accuracy: 0.6409\n",
      "Epoch 74/100\n",
      "8/8 [==============================] - 1s 83ms/step - loss: 1.0353 - accuracy: 0.6258 - val_loss: 1.0370 - val_accuracy: 0.5545\n",
      "Epoch 75/100\n",
      "8/8 [==============================] - 1s 82ms/step - loss: 0.9925 - accuracy: 0.6139 - val_loss: 1.0269 - val_accuracy: 0.6318\n",
      "Epoch 76/100\n",
      "8/8 [==============================] - 1s 82ms/step - loss: 0.9891 - accuracy: 0.6250 - val_loss: 1.0189 - val_accuracy: 0.5614\n",
      "Epoch 77/100\n",
      "8/8 [==============================] - 1s 82ms/step - loss: 0.9459 - accuracy: 0.6371 - val_loss: 1.1156 - val_accuracy: 0.5205\n",
      "Epoch 78/100\n",
      "8/8 [==============================] - 1s 86ms/step - loss: 1.1682 - accuracy: 0.5359 - val_loss: 1.1637 - val_accuracy: 0.5136\n",
      "Epoch 79/100\n",
      "8/8 [==============================] - 1s 82ms/step - loss: 1.6254 - accuracy: 0.3568 - val_loss: 2.0433 - val_accuracy: 0.2000\n",
      "Epoch 80/100\n",
      "8/8 [==============================] - 1s 81ms/step - loss: 1.9317 - accuracy: 0.2134 - val_loss: 1.5511 - val_accuracy: 0.2591\n",
      "Epoch 81/100\n",
      "8/8 [==============================] - 1s 82ms/step - loss: 1.4622 - accuracy: 0.3886 - val_loss: 1.3450 - val_accuracy: 0.4159\n",
      "Epoch 82/100\n",
      "8/8 [==============================] - 1s 81ms/step - loss: 1.3374 - accuracy: 0.4545 - val_loss: 1.3437 - val_accuracy: 0.4523\n",
      "Epoch 83/100\n",
      "8/8 [==============================] - 1s 82ms/step - loss: 1.2130 - accuracy: 0.5657 - val_loss: 1.2101 - val_accuracy: 0.6341\n",
      "Epoch 84/100\n",
      "8/8 [==============================] - 1s 81ms/step - loss: 1.3196 - accuracy: 0.4899 - val_loss: 1.9415 - val_accuracy: 0.2205\n",
      "Epoch 85/100\n",
      "8/8 [==============================] - 1s 81ms/step - loss: 1.4970 - accuracy: 0.4101 - val_loss: 1.2669 - val_accuracy: 0.4932\n",
      "Epoch 86/100\n",
      "8/8 [==============================] - 1s 84ms/step - loss: 1.1554 - accuracy: 0.5194 - val_loss: 1.0657 - val_accuracy: 0.5341\n",
      "Epoch 87/100\n",
      "8/8 [==============================] - 1s 83ms/step - loss: 1.0110 - accuracy: 0.5982 - val_loss: 1.0724 - val_accuracy: 0.6114\n",
      "Epoch 88/100\n",
      "8/8 [==============================] - 1s 81ms/step - loss: 0.9881 - accuracy: 0.6364 - val_loss: 1.1518 - val_accuracy: 0.5705\n",
      "Epoch 89/100\n",
      "8/8 [==============================] - 1s 81ms/step - loss: 1.0919 - accuracy: 0.5692 - val_loss: 1.1554 - val_accuracy: 0.5568\n",
      "Epoch 90/100\n",
      "8/8 [==============================] - 1s 84ms/step - loss: 1.0147 - accuracy: 0.6038 - val_loss: 0.9950 - val_accuracy: 0.5614\n",
      "Epoch 91/100\n",
      "8/8 [==============================] - 1s 84ms/step - loss: 1.0461 - accuracy: 0.5826 - val_loss: 1.0787 - val_accuracy: 0.5114\n",
      "Epoch 92/100\n",
      "8/8 [==============================] - 1s 82ms/step - loss: 1.0085 - accuracy: 0.6177 - val_loss: 0.9826 - val_accuracy: 0.6250\n",
      "Epoch 93/100\n",
      "8/8 [==============================] - 1s 84ms/step - loss: 0.9404 - accuracy: 0.6374 - val_loss: 0.9651 - val_accuracy: 0.6250\n",
      "Epoch 94/100\n",
      "8/8 [==============================] - 1s 82ms/step - loss: 0.9287 - accuracy: 0.6442 - val_loss: 0.9607 - val_accuracy: 0.5636\n",
      "Epoch 95/100\n",
      "8/8 [==============================] - 1s 83ms/step - loss: 0.9570 - accuracy: 0.6136 - val_loss: 1.2986 - val_accuracy: 0.4818\n",
      "Epoch 96/100\n",
      "8/8 [==============================] - 1s 84ms/step - loss: 1.1211 - accuracy: 0.5318 - val_loss: 1.2203 - val_accuracy: 0.4591\n",
      "Epoch 97/100\n",
      "8/8 [==============================] - 1s 82ms/step - loss: 1.0716 - accuracy: 0.5710 - val_loss: 1.0598 - val_accuracy: 0.5250\n",
      "Epoch 98/100\n",
      "8/8 [==============================] - 1s 81ms/step - loss: 0.9808 - accuracy: 0.6210 - val_loss: 1.0151 - val_accuracy: 0.5432\n",
      "Epoch 99/100\n",
      "8/8 [==============================] - 1s 83ms/step - loss: 0.9123 - accuracy: 0.6409 - val_loss: 0.9683 - val_accuracy: 0.6318\n",
      "Epoch 100/100\n",
      "8/8 [==============================] - 1s 82ms/step - loss: 0.9318 - accuracy: 0.6581 - val_loss: 0.9538 - val_accuracy: 0.6318\n",
      "35/35 [==============================] - 0s 5ms/step - loss: 0.9465 - accuracy: 0.6391\n"
     ]
    },
    {
     "data": {
      "image/png": "[encoded data removed]",
      "text/plain": [
       "<Figure size 504x432 with 2 Axes>"
      ]
     },
     "metadata": {
      "needs_background": "light"
     },
     "output_type": "display_data"
    },
    {
     "name": "stdout",
     "output_type": "stream",
     "text": [
      "Precision:0.63\n",
      "Recall:0.639\n",
      "F1_score:0.597\n",
      "              precision    recall  f1-score   support\n",
      "\n",
      "           0       0.71      0.99      0.83        86\n",
      "           1       0.81      0.71      0.75       119\n",
      "           2       0.85      0.77      0.81        99\n",
      "           3       0.88      0.86      0.87        91\n",
      "           4       0.92      0.85      0.88       106\n",
      "           5       0.66      0.94      0.78       101\n",
      "           6       0.70      0.55      0.62        92\n",
      "           7       1.00      0.37      0.54       113\n",
      "           8       0.30      1.00      0.46       102\n",
      "           9       0.00      0.00      0.00       101\n",
      "          10       0.00      0.00      0.00        90\n",
      "\n",
      "    accuracy                           0.64      1100\n",
      "   macro avg       0.62      0.64      0.59      1100\n",
      "weighted avg       0.63      0.64      0.60      1100\n",
      "\n",
      "\n",
      "K-fold cross validation Accuracy: ['0.0909', '0.4855', '0.0918', '0.0791', '0.6391']\n"
     ]
    }
   ],
   "source": [
    "# 주어진 데이터를 학습 데이터와 테스트 데이터로 분리\n",
    "skf = KFold(n_splits=5, random_state=42, shuffle=True)\n",
    "\n",
    "accuracy = []\n",
    "\n",
    "for train, validation in skf.split(x,y):\n",
    "    model = keras.Sequential()\n",
    "    model.add(Conv1D(16, 9, activation='relu', input_shape=(len(x[0]),1)))\n",
    "    model.add(Conv1D(16, 9, activation='relu'))\n",
    "    model.add(Conv1D(32, 9, activation='relu'))\n",
    "    model.add(Conv1D(32, 9, activation='relu'))\n",
    "    model.add(Conv1D(32, 9, activation='relu'))\n",
    "    model.add(Conv1D(32, 9, activation='relu'))\n",
    "    model.add(Conv1D(32, 9, activation='relu'))\n",
    "    model.add(Flatten())\n",
    "    model.add(Dense(10, activation='relu'))\n",
    "    model.add(Dense(10, activation='relu'))\n",
    "    model.add(Dense(10, activation='relu'))\n",
    "    model.add(Dense(11, activation=\"softmax\"))\n",
    "    model.compile(loss='sparse_categorical_crossentropy', optimizer='adam', metrics=['accuracy'])\n",
    "  #model.summary()\n",
    "\n",
    "  # 학습 데이터를 이용해서 학습\n",
    "    hist = model.fit(x[train], y[train], epochs=100, batch_size=512, verbose=1, validation_split=0.1)  \n",
    "\n",
    "  # 테스트 데이터를 이용해서 검증\n",
    "    k_accuracy = '%.4f' % (model.evaluate(x[validation], y[validation])[1])\n",
    "    accuracy.append(k_accuracy)\n",
    "  \n",
    "  #confusion matrix\n",
    "    y_ = model.predict(x[validation])\n",
    "    predicted = np.argmax(y_, axis = -1)\n",
    "\n",
    "    classes = ['class1', 'class2', 'class3', 'class4', 'class5', 'class6', 'class7','class8', 'class9', 'class10','class11' ]\n",
    "    conf_mat = confusion_matrix(y[validation], predicted)\n",
    "    fig, ax = plt.subplots(figsize=(7,6))\n",
    "    plt.setp(ax.get_xticklabels(), rotation=45, ha=\"right\", rotation_mode=\"anchor\")\n",
    "    plt.title('Confusion matrix')\n",
    "    plt.ylabel('Actual label')\n",
    "    plt.xlabel('Predicted label')\n",
    "    sns.heatmap(conf_mat, annot=True, fmt='d', xticklabels=classes, yticklabels=classes)\n",
    "    plt.show()\n",
    "\n",
    "  #정밀도, 재현도, f1-score\n",
    "    precision = precision_score(y[validation], predicted, average='weighted')\n",
    "    recall = recall_score(y[validation], predicted, average='weighted')\n",
    "    f1 = f1_score(y[validation], predicted, average='weighted')\n",
    "\n",
    "    print('Precision:{:.3}'.format(precision))\n",
    "    print('Recall:{:.3}'.format(recall))\n",
    "    print('F1_score:{:.3}'.format(f1))\n",
    "\n",
    "  #분류 보고서\n",
    "    print(classification_report(y[validation], predicted))\n",
    "\n",
    "# 전체 검증 결과 출력\n",
    "print('\\nK-fold cross validation Accuracy: {}'.format(accuracy))"
   ]
  },
  {
   "cell_type": "code",
   "execution_count": 23,
   "metadata": {
    "colab": {
     "base_uri": "https://localhost:8080/"
    },
    "id": "PeHHHEUhiJH5",
    "outputId": "6a2da373-e7a9-4eee-9e43-93c1f902b923"
   },
   "outputs": [
    {
     "data": {
      "text/plain": [
       "['0.0909', '0.4855', '0.0918', '0.0791', '0.6391']"
      ]
     },
     "execution_count": 23,
     "metadata": {},
     "output_type": "execute_result"
    }
   ],
   "source": [
    "accuracy"
   ]
  },
  {
   "cell_type": "code",
   "execution_count": 24,
   "metadata": {
    "colab": {
     "base_uri": "https://localhost:8080/"
    },
    "id": "dx86ejQ616uZ",
    "outputId": "802bfc0c-f28c-42ce-ed88-6b911fc3d1ab"
   },
   "outputs": [
    {
     "data": {
      "text/plain": [
       "[0.0909, 0.4855, 0.0918, 0.0791, 0.6391]"
      ]
     },
     "execution_count": 24,
     "metadata": {},
     "output_type": "execute_result"
    }
   ],
   "source": [
    "acc = list(map(float, accuracy))\n",
    "acc"
   ]
  },
  {
   "cell_type": "code",
   "execution_count": 25,
   "metadata": {
    "id": "-f4pHhxY2APw"
   },
   "outputs": [
    {
     "data": {
      "text/plain": [
       "0.27728"
      ]
     },
     "execution_count": 25,
     "metadata": {},
     "output_type": "execute_result"
    }
   ],
   "source": [
    "np.mean(acc)"
   ]
  },
  {
   "cell_type": "code",
   "execution_count": null,
   "metadata": {},
   "outputs": [],
   "source": []
  }
 ],
 "metadata": {
  "accelerator": "GPU",
  "colab": {
   "collapsed_sections": [],
   "name": "★210914_1D-CNN_4000point_8736kDa_StratifiedKfold.ipynb",
   "provenance": []
  },
  "kernelspec": {
   "display_name": "Python 3 (ipykernel)",
   "language": "python",
   "name": "python3"
  },
  "language_info": {
   "codemirror_mode": {
    "name": "ipython",
    "version": 3
   },
   "file_extension": ".py",
   "mimetype": "text/x-python",
   "name": "python",
   "nbconvert_exporter": "python",
   "pygments_lexer": "ipython3",
   "version": "3.9.7"
  }
 },
 "nbformat": 4,
 "nbformat_minor": 1
}
