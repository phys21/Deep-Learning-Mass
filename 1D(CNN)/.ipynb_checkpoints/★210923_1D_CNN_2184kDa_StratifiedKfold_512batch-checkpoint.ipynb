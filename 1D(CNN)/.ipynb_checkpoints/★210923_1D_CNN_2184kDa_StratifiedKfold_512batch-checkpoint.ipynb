{
 "cells": [
  {
   "cell_type": "markdown",
   "metadata": {
    "id": "GavgmjDytAsf"
   },
   "source": [
    "# 데이터 로딩"
   ]
  },
  {
   "cell_type": "code",
   "execution_count": 1,
   "metadata": {
    "colab": {
     "base_uri": "https://localhost:8080/"
    },
    "id": "pUWSYQ9FNt_C",
    "outputId": "46237811-4e40-413a-9b28-e21cff94e8b8"
   },
   "outputs": [],
   "source": [
    "#from google.colab import drive\n",
    "#drive.mount('/content/drive')"
   ]
  },
  {
   "cell_type": "code",
   "execution_count": 2,
   "metadata": {},
   "outputs": [],
   "source": [
    "import warnings\n",
    "warnings.filterwarnings(action='ignore')"
   ]
  },
  {
   "cell_type": "code",
   "execution_count": 3,
   "metadata": {},
   "outputs": [],
   "source": [
    "import os\n",
    "os.environ[\"CUDA_DEVICE_ORDER\"]=\"PCI_BUS_ID\"\n",
    "os.environ[\"CUDA_VISIBLE_DEVICES\"]=\"0\""
   ]
  },
  {
   "cell_type": "code",
   "execution_count": 4,
   "metadata": {},
   "outputs": [
    {
     "name": "stderr",
     "output_type": "stream",
     "text": [
      "2021-09-23 21:35:59.760690: I tensorflow/core/platform/cpu_feature_guard.cc:142] This TensorFlow binary is optimized with oneAPI Deep Neural Network Library (oneDNN) to use the following CPU instructions in performance-critical operations:  AVX2 AVX512F FMA\n",
      "To enable them in other operations, rebuild TensorFlow with the appropriate compiler flags.\n"
     ]
    },
    {
     "data": {
      "text/plain": [
       "[name: \"/device:CPU:0\"\n",
       " device_type: \"CPU\"\n",
       " memory_limit: 268435456\n",
       " locality {\n",
       " }\n",
       " incarnation: 10342946241792849680,\n",
       " name: \"/device:GPU:0\"\n",
       " device_type: \"GPU\"\n",
       " memory_limit: 23391698944\n",
       " locality {\n",
       "   bus_id: 1\n",
       "   links {\n",
       "   }\n",
       " }\n",
       " incarnation: 14790155504738304849\n",
       " physical_device_desc: \"device: 0, name: GeForce RTX 3090, pci bus id: 0000:67:00.0, compute capability: 8.6\"]"
      ]
     },
     "execution_count": 4,
     "metadata": {},
     "output_type": "execute_result"
    },
    {
     "name": "stderr",
     "output_type": "stream",
     "text": [
      "2021-09-23 21:36:00.256902: I tensorflow/core/common_runtime/gpu/gpu_device.cc:1510] Created device /device:GPU:0 with 22308 MB memory:  -> device: 0, name: GeForce RTX 3090, pci bus id: 0000:67:00.0, compute capability: 8.6\n"
     ]
    }
   ],
   "source": [
    "from tensorflow.python.client import device_lib\n",
    "device_lib.list_local_devices()"
   ]
  },
  {
   "cell_type": "code",
   "execution_count": 5,
   "metadata": {
    "id": "7tpIBpEXNpjm"
   },
   "outputs": [],
   "source": [
    "import numpy as np\n",
    "import pandas as pd\n",
    "import matplotlib.pyplot as plt"
   ]
  },
  {
   "cell_type": "code",
   "execution_count": 6,
   "metadata": {
    "colab": {
     "base_uri": "https://localhost:8080/"
    },
    "id": "EYw7FBvHs5E9",
    "outputId": "cc48b6dd-c461-48e6-f44f-81963c68fa0a",
    "scrolled": false
   },
   "outputs": [
    {
     "name": "stdout",
     "output_type": "stream",
     "text": [
      "[[26535109.67 26567167.6  26580894.5  ... 26570477.78 26565810.\n",
      "         0.  ]\n",
      " [26574844.17 26549031.86 26593563.88 ... 26586489.83 26553027.72\n",
      "         0.  ]\n",
      " [26570524.56 26569427.83 26556841.96 ... 26553269.41 26550517.95\n",
      "         0.  ]\n",
      " ...\n",
      " [26572887.28 26544204.73 26563963.86 ... 26511948.16 26566917.49\n",
      "     50000.  ]\n",
      " [26575682.16 26594397.89 26562241.02 ... 26553808.2  26533587.67\n",
      "     50000.  ]\n",
      " [26543655.13 26590903.11 26543954.87 ... 26528590.04 26528403.71\n",
      "     50000.  ]]\n"
     ]
    }
   ],
   "source": [
    "data = pd.read_csv('210923_total_freq_with_noise_2000point_2184kDa.csv')\n",
    "df1 = data.values[:] # 문자열을 부동소수점형으로 변환한다\n",
    "print(df1)"
   ]
  },
  {
   "cell_type": "markdown",
   "metadata": {
    "id": "tZIY7CbcwW6F"
   },
   "source": [
    "# 데이터 살펴보기"
   ]
  },
  {
   "cell_type": "markdown",
   "metadata": {
    "id": "nfk1doFWnhQn"
   },
   "source": [
    "152개의 속성 값이 있고, -1 또는 1로 레이블링 되어 있다.\n",
    "\n",
    "152개 속성 값은 어떤 센서의 값을 시간을 두고 측정한 것이다."
   ]
  },
  {
   "cell_type": "code",
   "execution_count": 7,
   "metadata": {
    "colab": {
     "base_uri": "https://localhost:8080/"
    },
    "id": "smA15EaF1hmV",
    "outputId": "d90ea451-0543-43bf-d740-795fd1207c63"
   },
   "outputs": [
    {
     "name": "stdout",
     "output_type": "stream",
     "text": [
      "0           0\n",
      "1           0\n",
      "2           0\n",
      "3           0\n",
      "4           0\n",
      "        ...  \n",
      "5495    50000\n",
      "5496    50000\n",
      "5497    50000\n",
      "5498    50000\n",
      "5499    50000\n",
      "Name: target, Length: 5500, dtype: int64\n"
     ]
    }
   ],
   "source": [
    "df2_1 = data[\"target\"]\n",
    "df2 = df2_1[:]\n",
    "print(df2)"
   ]
  },
  {
   "cell_type": "code",
   "execution_count": 8,
   "metadata": {
    "colab": {
     "base_uri": "https://localhost:8080/"
    },
    "id": "ClKB2D7ZpFnL",
    "outputId": "125a2cbe-62b9-44b6-ae4a-98b068fedc2c"
   },
   "outputs": [
    {
     "name": "stdout",
     "output_type": "stream",
     "text": [
      "(array([    0,  5000, 10000, 15000, 20000, 25000, 30000, 35000, 40000,\n",
      "       45000, 50000]), array([500, 500, 500, 500, 500, 500, 500, 500, 500, 500, 500]))\n"
     ]
    }
   ],
   "source": [
    "target_count = np.unique(df2, return_counts=True)\n",
    "print(target_count)"
   ]
  },
  {
   "cell_type": "code",
   "execution_count": 9,
   "metadata": {
    "colab": {
     "base_uri": "https://localhost:8080/"
    },
    "id": "Bu3NHl9_Npjq",
    "outputId": "48d579ad-691c-4d74-d846-ffeea98d9a27"
   },
   "outputs": [
    {
     "name": "stdout",
     "output_type": "stream",
     "text": [
      "(array([    0,  5000, 10000, 15000, 20000, 25000, 30000, 35000, 40000,\n",
      "       45000, 50000]), array([500, 500, 500, 500, 500, 500, 500, 500, 500, 500, 500]))\n"
     ]
    }
   ],
   "source": [
    "target_count = np.unique(df2, return_counts=True)\n",
    "print(target_count)"
   ]
  },
  {
   "cell_type": "markdown",
   "metadata": {
    "id": "ZB0UsHjLsS1I"
   },
   "source": [
    "target값 -1, 1을 category 인덱스 0, 1로 변경"
   ]
  },
  {
   "cell_type": "code",
   "execution_count": 10,
   "metadata": {
    "colab": {
     "base_uri": "https://localhost:8080/"
    },
    "id": "C0nNKyJ4oaxo",
    "outputId": "3b9a1b1c-025e-48ce-8a28-680f9bd5c46d"
   },
   "outputs": [
    {
     "name": "stdout",
     "output_type": "stream",
     "text": [
      "(array([ 0,  1,  2,  3,  4,  5,  6,  7,  8,  9, 10]), array([500, 500, 500, 500, 500, 500, 500, 500, 500, 500, 500]))\n"
     ]
    }
   ],
   "source": [
    "df2 = df2.copy()\n",
    "df2[df2 < 5000] = 0\n",
    "df2[df2 == 5000] = 1\n",
    "df2[df2 == 10000] = 2\n",
    "df2[df2 == 15000] = 3\n",
    "df2[df2 == 20000] = 4\n",
    "df2[df2 == 25000] = 5\n",
    "df2[df2 == 30000] = 6\n",
    "df2[df2 == 35000] = 7\n",
    "df2[df2 == 40000] = 8\n",
    "df2[df2 == 45000] = 9\n",
    "df2[df2 == 50000] = 10\n",
    "\n",
    "target_count = np.unique(df2, return_counts=True)\n",
    "print(target_count)"
   ]
  },
  {
   "cell_type": "markdown",
   "metadata": {
    "id": "PAYLXje8Eq9l"
   },
   "source": [
    "# 문제 정의\n",
    "\n",
    "152개의 순차적인 센서 값을 가지고 분류한다.\n"
   ]
  },
  {
   "cell_type": "markdown",
   "metadata": {
    "id": "piqvWOOgpjHt"
   },
   "source": [
    "# 데이터 준비\n"
   ]
  },
  {
   "cell_type": "markdown",
   "metadata": {
    "id": "GD2kOh0_pmvD"
   },
   "source": [
    "## x, y 쪼개기"
   ]
  },
  {
   "cell_type": "code",
   "execution_count": 11,
   "metadata": {
    "id": "5mB3dKMYpJej"
   },
   "outputs": [],
   "source": [
    "x, y = df1[:,:-1], df2[:]"
   ]
  },
  {
   "cell_type": "code",
   "execution_count": 12,
   "metadata": {
    "colab": {
     "base_uri": "https://localhost:8080/"
    },
    "id": "UWtHOkIvpJlZ",
    "outputId": "98f0ae6c-f761-44e5-9435-bd9756ecdeb7"
   },
   "outputs": [
    {
     "name": "stdout",
     "output_type": "stream",
     "text": [
      "(5500, 4000)\n",
      "(5500,)\n"
     ]
    }
   ],
   "source": [
    "print(x.shape)\n",
    "print(y.shape)"
   ]
  },
  {
   "cell_type": "code",
   "execution_count": 13,
   "metadata": {
    "colab": {
     "base_uri": "https://localhost:8080/"
    },
    "id": "4WVNNZy3Npjt",
    "outputId": "7bb9910c-34c7-4da9-be72-1c5a150de0f2"
   },
   "outputs": [
    {
     "data": {
      "text/plain": [
       "0        0\n",
       "1        0\n",
       "2        0\n",
       "3        0\n",
       "4        0\n",
       "        ..\n",
       "5495    10\n",
       "5496    10\n",
       "5497    10\n",
       "5498    10\n",
       "5499    10\n",
       "Name: target, Length: 5500, dtype: int64"
      ]
     },
     "execution_count": 13,
     "metadata": {},
     "output_type": "execute_result"
    }
   ],
   "source": [
    "y"
   ]
  },
  {
   "cell_type": "markdown",
   "metadata": {
    "id": "DYJfroxKpoOc"
   },
   "source": [
    "## normalization"
   ]
  },
  {
   "cell_type": "code",
   "execution_count": 14,
   "metadata": {
    "colab": {
     "base_uri": "https://localhost:8080/"
    },
    "id": "0edILhqfpJrT",
    "outputId": "e1b6e56a-056f-4f40-d925-5a22fa02ca79"
   },
   "outputs": [
    {
     "name": "stdout",
     "output_type": "stream",
     "text": [
      "26464857.18 26650600.46\n",
      "0.0 1.0\n"
     ]
    }
   ],
   "source": [
    "min = np.min(x)\n",
    "max = np.max(x)\n",
    "print(min, max)\n",
    "\n",
    "x = (x-min) / (max-min)\n",
    "\n",
    "min = np.min(x)\n",
    "max = np.max(x)\n",
    "print(min, max)\n"
   ]
  },
  {
   "cell_type": "code",
   "execution_count": 15,
   "metadata": {
    "id": "CA_Fs7IhrKhv"
   },
   "outputs": [],
   "source": [
    "x = np.expand_dims(x, -1)"
   ]
  },
  {
   "cell_type": "markdown",
   "metadata": {
    "id": "YUNV4PRWp-jO"
   },
   "source": [
    "## 섞고"
   ]
  },
  {
   "cell_type": "code",
   "execution_count": 16,
   "metadata": {
    "id": "rK0FR9OOpJxL"
   },
   "outputs": [],
   "source": [
    "shuffled_index = np.random.permutation(len(x))\n",
    "x = x[shuffled_index]\n",
    "y = y.iloc[shuffled_index]\n",
    "x, y = np.array(x), np.array(y)"
   ]
  },
  {
   "cell_type": "markdown",
   "metadata": {
    "id": "RbjrYGVMqAF3"
   },
   "source": [
    "## train, test 쪼개기"
   ]
  },
  {
   "cell_type": "code",
   "execution_count": 17,
   "metadata": {
    "id": "TfPpY9jPpJz4"
   },
   "outputs": [],
   "source": [
    "#split_index = int( len(x) * 0.8 )\n",
    "#train_x, test_x = np.array(x[:split_index]), np.array(x[split_index:])\n",
    "#train_y, test_y = np.array(y[:split_index]), np.array(y[split_index:])"
   ]
  },
  {
   "cell_type": "code",
   "execution_count": 18,
   "metadata": {
    "id": "BfNSU7FdpJub"
   },
   "outputs": [],
   "source": [
    "#train_x[1].shape"
   ]
  },
  {
   "cell_type": "code",
   "execution_count": 19,
   "metadata": {
    "id": "gsqd1yWWNpju"
   },
   "outputs": [],
   "source": [
    "#train_x[1]"
   ]
  },
  {
   "cell_type": "markdown",
   "metadata": {
    "id": "3Oynfz6SqZzx"
   },
   "source": [
    "# 모델 정의"
   ]
  },
  {
   "cell_type": "code",
   "execution_count": 20,
   "metadata": {
    "id": "p0JtVB5ApJoc"
   },
   "outputs": [],
   "source": [
    "import tensorflow as tf\n",
    "from sklearn.model_selection import KFold \n",
    "from tensorflow import keras\n",
    "from tensorflow.keras import optimizers\n",
    "from tensorflow.keras.layers import Dense, Conv1D, Flatten\n",
    "from sklearn.model_selection import cross_val_score \n",
    "from sklearn.model_selection import StratifiedKFold"
   ]
  },
  {
   "cell_type": "code",
   "execution_count": 21,
   "metadata": {
    "colab": {
     "base_uri": "https://localhost:8080/",
     "height": 1000
    },
    "id": "8FTlEW4umicO",
    "outputId": "288b35af-b541-464b-9b2c-2f1ca72bc264"
   },
   "outputs": [],
   "source": [
    "from tensorflow.keras.models import Sequential\n",
    "from tensorflow.keras.layers import Dense\n",
    "#from tensorflow.keras.utils import np_utils\n",
    "import pandas as pd\n",
    "import matplotlib.pyplot as plt\n",
    "from sklearn.metrics import confusion_matrix\n",
    "import seaborn as sns\n",
    "from sklearn.metrics import precision_score, recall_score, f1_score, roc_curve\n",
    "from sklearn.metrics import classification_report\n",
    "from sklearn.model_selection import StratifiedKFold"
   ]
  },
  {
   "cell_type": "code",
   "execution_count": 22,
   "metadata": {
    "colab": {
     "base_uri": "https://localhost:8080/",
     "height": 1000
    },
    "id": "8FTlEW4umicO",
    "outputId": "288b35af-b541-464b-9b2c-2f1ca72bc264",
    "scrolled": false
   },
   "outputs": [
    {
     "name": "stderr",
     "output_type": "stream",
     "text": [
      "2021-09-23 21:36:04.429689: I tensorflow/core/common_runtime/gpu/gpu_device.cc:1510] Created device /job:localhost/replica:0/task:0/device:GPU:0 with 22308 MB memory:  -> device: 0, name: GeForce RTX 3090, pci bus id: 0000:67:00.0, compute capability: 8.6\n",
      "2021-09-23 21:36:04.964140: I tensorflow/compiler/mlir/mlir_graph_optimization_pass.cc:185] None of the MLIR Optimization Passes are enabled (registered 2)\n"
     ]
    },
    {
     "name": "stdout",
     "output_type": "stream",
     "text": [
      "Epoch 1/100\n"
     ]
    },
    {
     "name": "stderr",
     "output_type": "stream",
     "text": [
      "2021-09-23 21:36:05.952262: I tensorflow/stream_executor/cuda/cuda_dnn.cc:369] Loaded cuDNN version 8201\n",
      "2021-09-23 21:36:07.680480: I tensorflow/stream_executor/cuda/cuda_blas.cc:1760] TensorFloat-32 will be used for the matrix multiplication. This will only be logged once.\n"
     ]
    },
    {
     "name": "stdout",
     "output_type": "stream",
     "text": [
      "8/8 [==============================] - 5s 190ms/step - loss: 2.3983 - accuracy: 0.0904 - val_loss: 2.3980 - val_accuracy: 0.0659\n",
      "Epoch 2/100\n",
      "8/8 [==============================] - 1s 81ms/step - loss: 2.3979 - accuracy: 0.0937 - val_loss: 2.3982 - val_accuracy: 0.0659\n",
      "Epoch 3/100\n",
      "8/8 [==============================] - 1s 82ms/step - loss: 2.3979 - accuracy: 0.0937 - val_loss: 2.3983 - val_accuracy: 0.0659\n",
      "Epoch 4/100\n",
      "8/8 [==============================] - 1s 81ms/step - loss: 2.3979 - accuracy: 0.0937 - val_loss: 2.3985 - val_accuracy: 0.0659\n",
      "Epoch 5/100\n",
      "8/8 [==============================] - 1s 82ms/step - loss: 2.3978 - accuracy: 0.0937 - val_loss: 2.3986 - val_accuracy: 0.0659\n",
      "Epoch 6/100\n",
      "8/8 [==============================] - 1s 82ms/step - loss: 2.3978 - accuracy: 0.0937 - val_loss: 2.3987 - val_accuracy: 0.0659\n",
      "Epoch 7/100\n",
      "8/8 [==============================] - 1s 83ms/step - loss: 2.3978 - accuracy: 0.0937 - val_loss: 2.3988 - val_accuracy: 0.0659\n",
      "Epoch 8/100\n",
      "8/8 [==============================] - 1s 83ms/step - loss: 2.3978 - accuracy: 0.0937 - val_loss: 2.3989 - val_accuracy: 0.0659\n",
      "Epoch 9/100\n",
      "8/8 [==============================] - 1s 85ms/step - loss: 2.3978 - accuracy: 0.0937 - val_loss: 2.3991 - val_accuracy: 0.0659\n",
      "Epoch 10/100\n",
      "8/8 [==============================] - 1s 82ms/step - loss: 2.3978 - accuracy: 0.0937 - val_loss: 2.3992 - val_accuracy: 0.0659\n",
      "Epoch 11/100\n",
      "8/8 [==============================] - 1s 82ms/step - loss: 2.3978 - accuracy: 0.0937 - val_loss: 2.3991 - val_accuracy: 0.0659\n",
      "Epoch 12/100\n",
      "8/8 [==============================] - 1s 84ms/step - loss: 2.3978 - accuracy: 0.0937 - val_loss: 2.3992 - val_accuracy: 0.0659\n",
      "Epoch 13/100\n",
      "8/8 [==============================] - 1s 82ms/step - loss: 2.3978 - accuracy: 0.0937 - val_loss: 2.3993 - val_accuracy: 0.0659\n",
      "Epoch 14/100\n",
      "8/8 [==============================] - 1s 82ms/step - loss: 2.3978 - accuracy: 0.0937 - val_loss: 2.3994 - val_accuracy: 0.0659\n",
      "Epoch 15/100\n",
      "8/8 [==============================] - 1s 80ms/step - loss: 2.3978 - accuracy: 0.0937 - val_loss: 2.3994 - val_accuracy: 0.0659\n",
      "Epoch 16/100\n",
      "8/8 [==============================] - 1s 82ms/step - loss: 2.3978 - accuracy: 0.0937 - val_loss: 2.3996 - val_accuracy: 0.0659\n",
      "Epoch 17/100\n",
      "8/8 [==============================] - 1s 81ms/step - loss: 2.3978 - accuracy: 0.0937 - val_loss: 2.3996 - val_accuracy: 0.0659\n",
      "Epoch 18/100\n",
      "8/8 [==============================] - 1s 82ms/step - loss: 2.3978 - accuracy: 0.0937 - val_loss: 2.3996 - val_accuracy: 0.0659\n",
      "Epoch 19/100\n",
      "8/8 [==============================] - 1s 82ms/step - loss: 2.3978 - accuracy: 0.0937 - val_loss: 2.3997 - val_accuracy: 0.0659\n",
      "Epoch 20/100\n",
      "8/8 [==============================] - 1s 81ms/step - loss: 2.3978 - accuracy: 0.0937 - val_loss: 2.3997 - val_accuracy: 0.0659\n",
      "Epoch 21/100\n",
      "8/8 [==============================] - 1s 80ms/step - loss: 2.3978 - accuracy: 0.0937 - val_loss: 2.3997 - val_accuracy: 0.0659\n",
      "Epoch 22/100\n",
      "8/8 [==============================] - 1s 83ms/step - loss: 2.3978 - accuracy: 0.0937 - val_loss: 2.3998 - val_accuracy: 0.0659\n",
      "Epoch 23/100\n",
      "8/8 [==============================] - 1s 81ms/step - loss: 2.3978 - accuracy: 0.0937 - val_loss: 2.3999 - val_accuracy: 0.0659\n",
      "Epoch 24/100\n",
      "8/8 [==============================] - 1s 83ms/step - loss: 2.3978 - accuracy: 0.0937 - val_loss: 2.3999 - val_accuracy: 0.0659\n",
      "Epoch 25/100\n",
      "8/8 [==============================] - 1s 80ms/step - loss: 2.3978 - accuracy: 0.0937 - val_loss: 2.3999 - val_accuracy: 0.0659\n",
      "Epoch 26/100\n",
      "8/8 [==============================] - 1s 82ms/step - loss: 2.3978 - accuracy: 0.0937 - val_loss: 2.4000 - val_accuracy: 0.0659\n",
      "Epoch 27/100\n",
      "8/8 [==============================] - 1s 81ms/step - loss: 2.3978 - accuracy: 0.0937 - val_loss: 2.4000 - val_accuracy: 0.0659\n",
      "Epoch 28/100\n",
      "8/8 [==============================] - 1s 82ms/step - loss: 2.3978 - accuracy: 0.0937 - val_loss: 2.4001 - val_accuracy: 0.0659\n",
      "Epoch 29/100\n",
      "8/8 [==============================] - 1s 83ms/step - loss: 2.3978 - accuracy: 0.0937 - val_loss: 2.4002 - val_accuracy: 0.0659\n",
      "Epoch 30/100\n",
      "8/8 [==============================] - 1s 84ms/step - loss: 2.3978 - accuracy: 0.0937 - val_loss: 2.4001 - val_accuracy: 0.0659\n",
      "Epoch 31/100\n",
      "8/8 [==============================] - 1s 80ms/step - loss: 2.3978 - accuracy: 0.0937 - val_loss: 2.4001 - val_accuracy: 0.0659\n",
      "Epoch 32/100\n",
      "8/8 [==============================] - 1s 80ms/step - loss: 2.3978 - accuracy: 0.0937 - val_loss: 2.4001 - val_accuracy: 0.0659\n",
      "Epoch 33/100\n",
      "8/8 [==============================] - 1s 81ms/step - loss: 2.3978 - accuracy: 0.0937 - val_loss: 2.4001 - val_accuracy: 0.0659\n",
      "Epoch 34/100\n",
      "8/8 [==============================] - 1s 81ms/step - loss: 2.3978 - accuracy: 0.0937 - val_loss: 2.4001 - val_accuracy: 0.0659\n",
      "Epoch 35/100\n",
      "8/8 [==============================] - 1s 81ms/step - loss: 2.3978 - accuracy: 0.0937 - val_loss: 2.4002 - val_accuracy: 0.0659\n",
      "Epoch 36/100\n",
      "8/8 [==============================] - 1s 82ms/step - loss: 2.3978 - accuracy: 0.0937 - val_loss: 2.4002 - val_accuracy: 0.0659\n",
      "Epoch 37/100\n",
      "8/8 [==============================] - 1s 81ms/step - loss: 2.3978 - accuracy: 0.0937 - val_loss: 2.4002 - val_accuracy: 0.0659\n",
      "Epoch 38/100\n",
      "8/8 [==============================] - 1s 85ms/step - loss: 2.3978 - accuracy: 0.0937 - val_loss: 2.4001 - val_accuracy: 0.0659\n",
      "Epoch 39/100\n",
      "8/8 [==============================] - 1s 83ms/step - loss: 2.3978 - accuracy: 0.0937 - val_loss: 2.4002 - val_accuracy: 0.0659\n",
      "Epoch 40/100\n",
      "8/8 [==============================] - 1s 82ms/step - loss: 2.3978 - accuracy: 0.0937 - val_loss: 2.4002 - val_accuracy: 0.0659\n",
      "Epoch 41/100\n",
      "8/8 [==============================] - 1s 82ms/step - loss: 2.3978 - accuracy: 0.0937 - val_loss: 2.4002 - val_accuracy: 0.0659\n",
      "Epoch 42/100\n",
      "8/8 [==============================] - 1s 82ms/step - loss: 2.3978 - accuracy: 0.0937 - val_loss: 2.4002 - val_accuracy: 0.0659\n",
      "Epoch 43/100\n",
      "8/8 [==============================] - 1s 81ms/step - loss: 2.3978 - accuracy: 0.0937 - val_loss: 2.4003 - val_accuracy: 0.0659\n",
      "Epoch 44/100\n",
      "8/8 [==============================] - 1s 81ms/step - loss: 2.3978 - accuracy: 0.0937 - val_loss: 2.4003 - val_accuracy: 0.0659\n",
      "Epoch 45/100\n",
      "8/8 [==============================] - 1s 83ms/step - loss: 2.3978 - accuracy: 0.0937 - val_loss: 2.4003 - val_accuracy: 0.0659\n",
      "Epoch 46/100\n",
      "8/8 [==============================] - 1s 81ms/step - loss: 2.3978 - accuracy: 0.0937 - val_loss: 2.4003 - val_accuracy: 0.0659\n",
      "Epoch 47/100\n",
      "8/8 [==============================] - 1s 81ms/step - loss: 2.3978 - accuracy: 0.0937 - val_loss: 2.4003 - val_accuracy: 0.0659\n",
      "Epoch 48/100\n",
      "8/8 [==============================] - 1s 82ms/step - loss: 2.3978 - accuracy: 0.0937 - val_loss: 2.4003 - val_accuracy: 0.0659\n",
      "Epoch 49/100\n",
      "8/8 [==============================] - 1s 81ms/step - loss: 2.3978 - accuracy: 0.0937 - val_loss: 2.4003 - val_accuracy: 0.0659\n",
      "Epoch 50/100\n",
      "8/8 [==============================] - 1s 80ms/step - loss: 2.3978 - accuracy: 0.0937 - val_loss: 2.4004 - val_accuracy: 0.0659\n",
      "Epoch 51/100\n",
      "8/8 [==============================] - 1s 81ms/step - loss: 2.3978 - accuracy: 0.0937 - val_loss: 2.4004 - val_accuracy: 0.0659\n",
      "Epoch 52/100\n",
      "8/8 [==============================] - 1s 82ms/step - loss: 2.3978 - accuracy: 0.0937 - val_loss: 2.4004 - val_accuracy: 0.0659\n",
      "Epoch 53/100\n",
      "8/8 [==============================] - 1s 83ms/step - loss: 2.3978 - accuracy: 0.0937 - val_loss: 2.4004 - val_accuracy: 0.0659\n",
      "Epoch 54/100\n",
      "8/8 [==============================] - 1s 80ms/step - loss: 2.3978 - accuracy: 0.0937 - val_loss: 2.4004 - val_accuracy: 0.0659\n",
      "Epoch 55/100\n",
      "8/8 [==============================] - 1s 82ms/step - loss: 2.3978 - accuracy: 0.0937 - val_loss: 2.4004 - val_accuracy: 0.0659\n",
      "Epoch 56/100\n",
      "8/8 [==============================] - 1s 82ms/step - loss: 2.3978 - accuracy: 0.0937 - val_loss: 2.4004 - val_accuracy: 0.0659\n",
      "Epoch 57/100\n",
      "8/8 [==============================] - 1s 81ms/step - loss: 2.3978 - accuracy: 0.0937 - val_loss: 2.4004 - val_accuracy: 0.0659\n",
      "Epoch 58/100\n",
      "8/8 [==============================] - 1s 83ms/step - loss: 2.3978 - accuracy: 0.0937 - val_loss: 2.4004 - val_accuracy: 0.0659\n",
      "Epoch 59/100\n",
      "8/8 [==============================] - 1s 81ms/step - loss: 2.3978 - accuracy: 0.0937 - val_loss: 2.4004 - val_accuracy: 0.0659\n",
      "Epoch 60/100\n",
      "8/8 [==============================] - 1s 84ms/step - loss: 2.3978 - accuracy: 0.0937 - val_loss: 2.4004 - val_accuracy: 0.0659\n",
      "Epoch 61/100\n",
      "8/8 [==============================] - 1s 82ms/step - loss: 2.3978 - accuracy: 0.0937 - val_loss: 2.4004 - val_accuracy: 0.0659\n",
      "Epoch 62/100\n",
      "8/8 [==============================] - 1s 83ms/step - loss: 2.3978 - accuracy: 0.0937 - val_loss: 2.4004 - val_accuracy: 0.0659\n",
      "Epoch 63/100\n",
      "8/8 [==============================] - 1s 81ms/step - loss: 2.3978 - accuracy: 0.0937 - val_loss: 2.4004 - val_accuracy: 0.0659\n",
      "Epoch 64/100\n",
      "8/8 [==============================] - 1s 83ms/step - loss: 2.3978 - accuracy: 0.0937 - val_loss: 2.4003 - val_accuracy: 0.0659\n",
      "Epoch 65/100\n",
      "8/8 [==============================] - 1s 81ms/step - loss: 2.3978 - accuracy: 0.0937 - val_loss: 2.4003 - val_accuracy: 0.0659\n",
      "Epoch 66/100\n",
      "8/8 [==============================] - 1s 82ms/step - loss: 2.3978 - accuracy: 0.0937 - val_loss: 2.4003 - val_accuracy: 0.0659\n",
      "Epoch 67/100\n",
      "8/8 [==============================] - 1s 83ms/step - loss: 2.3978 - accuracy: 0.0937 - val_loss: 2.4003 - val_accuracy: 0.0659\n",
      "Epoch 68/100\n",
      "8/8 [==============================] - 1s 83ms/step - loss: 2.3978 - accuracy: 0.0937 - val_loss: 2.4004 - val_accuracy: 0.0659\n",
      "Epoch 69/100\n",
      "8/8 [==============================] - 1s 82ms/step - loss: 2.3978 - accuracy: 0.0937 - val_loss: 2.4004 - val_accuracy: 0.0659\n",
      "Epoch 70/100\n",
      "8/8 [==============================] - 1s 81ms/step - loss: 2.3978 - accuracy: 0.0937 - val_loss: 2.4004 - val_accuracy: 0.0659\n",
      "Epoch 71/100\n",
      "8/8 [==============================] - 1s 81ms/step - loss: 2.3978 - accuracy: 0.0937 - val_loss: 2.4003 - val_accuracy: 0.0659\n",
      "Epoch 72/100\n",
      "8/8 [==============================] - 1s 83ms/step - loss: 2.3978 - accuracy: 0.0937 - val_loss: 2.4004 - val_accuracy: 0.0659\n",
      "Epoch 73/100\n",
      "8/8 [==============================] - 1s 81ms/step - loss: 2.3978 - accuracy: 0.0937 - val_loss: 2.4004 - val_accuracy: 0.0659\n",
      "Epoch 74/100\n",
      "8/8 [==============================] - 1s 81ms/step - loss: 2.3978 - accuracy: 0.0937 - val_loss: 2.4004 - val_accuracy: 0.0659\n",
      "Epoch 75/100\n",
      "8/8 [==============================] - 1s 81ms/step - loss: 2.3978 - accuracy: 0.0937 - val_loss: 2.4004 - val_accuracy: 0.0659\n",
      "Epoch 76/100\n",
      "8/8 [==============================] - 1s 82ms/step - loss: 2.3978 - accuracy: 0.0937 - val_loss: 2.4004 - val_accuracy: 0.0659\n",
      "Epoch 77/100\n",
      "8/8 [==============================] - 1s 82ms/step - loss: 2.3978 - accuracy: 0.0937 - val_loss: 2.4004 - val_accuracy: 0.0659\n",
      "Epoch 78/100\n",
      "8/8 [==============================] - 1s 83ms/step - loss: 2.3978 - accuracy: 0.0937 - val_loss: 2.4004 - val_accuracy: 0.0659\n",
      "Epoch 79/100\n",
      "8/8 [==============================] - 1s 81ms/step - loss: 2.3978 - accuracy: 0.0937 - val_loss: 2.4004 - val_accuracy: 0.0659\n",
      "Epoch 80/100\n",
      "8/8 [==============================] - 1s 80ms/step - loss: 2.3978 - accuracy: 0.0937 - val_loss: 2.4004 - val_accuracy: 0.0659\n",
      "Epoch 81/100\n",
      "8/8 [==============================] - 1s 81ms/step - loss: 2.3978 - accuracy: 0.0937 - val_loss: 2.4003 - val_accuracy: 0.0659\n",
      "Epoch 82/100\n",
      "8/8 [==============================] - 1s 83ms/step - loss: 2.3978 - accuracy: 0.0937 - val_loss: 2.4004 - val_accuracy: 0.0659\n",
      "Epoch 83/100\n",
      "8/8 [==============================] - 1s 82ms/step - loss: 2.3978 - accuracy: 0.0937 - val_loss: 2.4003 - val_accuracy: 0.0659\n",
      "Epoch 84/100\n",
      "8/8 [==============================] - 1s 82ms/step - loss: 2.3978 - accuracy: 0.0937 - val_loss: 2.4003 - val_accuracy: 0.0659\n",
      "Epoch 85/100\n",
      "8/8 [==============================] - 1s 81ms/step - loss: 2.3978 - accuracy: 0.0937 - val_loss: 2.4004 - val_accuracy: 0.0659\n",
      "Epoch 86/100\n",
      "8/8 [==============================] - 1s 83ms/step - loss: 2.3978 - accuracy: 0.0937 - val_loss: 2.4004 - val_accuracy: 0.0659\n",
      "Epoch 87/100\n",
      "8/8 [==============================] - 1s 82ms/step - loss: 2.3978 - accuracy: 0.0937 - val_loss: 2.4004 - val_accuracy: 0.0659\n",
      "Epoch 88/100\n",
      "8/8 [==============================] - 1s 81ms/step - loss: 2.3978 - accuracy: 0.0937 - val_loss: 2.4004 - val_accuracy: 0.0659\n",
      "Epoch 89/100\n",
      "8/8 [==============================] - 1s 81ms/step - loss: 2.3978 - accuracy: 0.0937 - val_loss: 2.4005 - val_accuracy: 0.0659\n",
      "Epoch 90/100\n",
      "8/8 [==============================] - 1s 82ms/step - loss: 2.3978 - accuracy: 0.0937 - val_loss: 2.4004 - val_accuracy: 0.0659\n",
      "Epoch 91/100\n",
      "8/8 [==============================] - 1s 82ms/step - loss: 2.3978 - accuracy: 0.0937 - val_loss: 2.4004 - val_accuracy: 0.0659\n",
      "Epoch 92/100\n",
      "8/8 [==============================] - 1s 83ms/step - loss: 2.3978 - accuracy: 0.0937 - val_loss: 2.4004 - val_accuracy: 0.0659\n",
      "Epoch 93/100\n",
      "8/8 [==============================] - 1s 81ms/step - loss: 2.3978 - accuracy: 0.0937 - val_loss: 2.4003 - val_accuracy: 0.0659\n",
      "Epoch 94/100\n",
      "8/8 [==============================] - 1s 81ms/step - loss: 2.3978 - accuracy: 0.0937 - val_loss: 2.4004 - val_accuracy: 0.0659\n",
      "Epoch 95/100\n",
      "8/8 [==============================] - 1s 80ms/step - loss: 2.3978 - accuracy: 0.0937 - val_loss: 2.4004 - val_accuracy: 0.0659\n",
      "Epoch 96/100\n",
      "8/8 [==============================] - 1s 80ms/step - loss: 2.3978 - accuracy: 0.0937 - val_loss: 2.4004 - val_accuracy: 0.0659\n",
      "Epoch 97/100\n",
      "8/8 [==============================] - 1s 82ms/step - loss: 2.3978 - accuracy: 0.0937 - val_loss: 2.4005 - val_accuracy: 0.0659\n",
      "Epoch 98/100\n",
      "8/8 [==============================] - 1s 80ms/step - loss: 2.3978 - accuracy: 0.0937 - val_loss: 2.4005 - val_accuracy: 0.0659\n",
      "Epoch 99/100\n",
      "8/8 [==============================] - 1s 82ms/step - loss: 2.3978 - accuracy: 0.0937 - val_loss: 2.4005 - val_accuracy: 0.0659\n",
      "Epoch 100/100\n",
      "8/8 [==============================] - 1s 81ms/step - loss: 2.3978 - accuracy: 0.0937 - val_loss: 2.4005 - val_accuracy: 0.0659\n",
      "35/35 [==============================] - 0s 6ms/step - loss: 2.3980 - accuracy: 0.0909\n"
     ]
    },
    {
     "data": {
      "image/png": "[encoded data removed]",
      "text/plain": [
       "<Figure size 504x432 with 2 Axes>"
      ]
     },
     "metadata": {
      "needs_background": "light"
     },
     "output_type": "display_data"
    },
    {
     "name": "stdout",
     "output_type": "stream",
     "text": [
      "Precision:0.00826\n",
      "Recall:0.0909\n",
      "F1_score:0.0152\n",
      "              precision    recall  f1-score   support\n",
      "\n",
      "           0       0.00      0.00      0.00       100\n",
      "           1       0.00      0.00      0.00       100\n",
      "           2       0.00      0.00      0.00       100\n",
      "           3       0.00      0.00      0.00       100\n",
      "           4       0.00      0.00      0.00       100\n",
      "           5       0.00      0.00      0.00       100\n",
      "           6       0.00      0.00      0.00       100\n",
      "           7       0.00      0.00      0.00       100\n",
      "           8       0.00      0.00      0.00       100\n",
      "           9       0.00      0.00      0.00       100\n",
      "          10       0.09      1.00      0.17       100\n",
      "\n",
      "    accuracy                           0.09      1100\n",
      "   macro avg       0.01      0.09      0.02      1100\n",
      "weighted avg       0.01      0.09      0.02      1100\n",
      "\n",
      "Epoch 1/100\n",
      "8/8 [==============================] - 1s 99ms/step - loss: 2.4029 - accuracy: 0.0927 - val_loss: 2.3875 - val_accuracy: 0.1250\n",
      "Epoch 2/100\n",
      "8/8 [==============================] - 1s 82ms/step - loss: 2.3729 - accuracy: 0.0932 - val_loss: 2.3324 - val_accuracy: 0.0682\n",
      "Epoch 3/100\n",
      "8/8 [==============================] - 1s 82ms/step - loss: 2.2783 - accuracy: 0.1051 - val_loss: 2.2368 - val_accuracy: 0.1500\n",
      "Epoch 4/100\n",
      "8/8 [==============================] - 1s 83ms/step - loss: 2.1567 - accuracy: 0.1482 - val_loss: 2.1404 - val_accuracy: 0.1364\n",
      "Epoch 5/100\n",
      "8/8 [==============================] - 1s 82ms/step - loss: 2.1001 - accuracy: 0.2177 - val_loss: 2.0815 - val_accuracy: 0.2295\n",
      "Epoch 6/100\n",
      "8/8 [==============================] - 1s 80ms/step - loss: 2.0428 - accuracy: 0.1980 - val_loss: 1.9950 - val_accuracy: 0.1682\n",
      "Epoch 7/100\n",
      "8/8 [==============================] - 1s 81ms/step - loss: 2.0694 - accuracy: 0.2419 - val_loss: 2.0456 - val_accuracy: 0.1727\n",
      "Epoch 8/100\n",
      "8/8 [==============================] - 1s 81ms/step - loss: 1.9758 - accuracy: 0.2806 - val_loss: 1.8485 - val_accuracy: 0.2909\n",
      "Epoch 9/100\n",
      "8/8 [==============================] - 1s 84ms/step - loss: 1.8572 - accuracy: 0.2866 - val_loss: 1.8449 - val_accuracy: 0.3614\n",
      "Epoch 10/100\n",
      "8/8 [==============================] - 1s 81ms/step - loss: 1.8373 - accuracy: 0.2856 - val_loss: 1.8054 - val_accuracy: 0.2318\n",
      "Epoch 11/100\n",
      "8/8 [==============================] - 1s 81ms/step - loss: 1.7819 - accuracy: 0.2821 - val_loss: 1.6630 - val_accuracy: 0.3568\n",
      "Epoch 12/100\n",
      "8/8 [==============================] - 1s 83ms/step - loss: 1.8815 - accuracy: 0.2856 - val_loss: 2.1491 - val_accuracy: 0.1955\n",
      "Epoch 13/100\n",
      "8/8 [==============================] - 1s 80ms/step - loss: 1.8434 - accuracy: 0.3111 - val_loss: 1.6506 - val_accuracy: 0.3500\n",
      "Epoch 14/100\n",
      "8/8 [==============================] - 1s 82ms/step - loss: 1.7167 - accuracy: 0.3573 - val_loss: 1.6205 - val_accuracy: 0.3523\n",
      "Epoch 15/100\n",
      "8/8 [==============================] - 1s 83ms/step - loss: 1.6825 - accuracy: 0.3472 - val_loss: 1.6593 - val_accuracy: 0.3523\n",
      "Epoch 16/100\n",
      "8/8 [==============================] - 1s 84ms/step - loss: 1.6348 - accuracy: 0.3583 - val_loss: 1.5864 - val_accuracy: 0.3568\n",
      "Epoch 17/100\n",
      "8/8 [==============================] - 1s 80ms/step - loss: 1.6347 - accuracy: 0.3495 - val_loss: 1.6935 - val_accuracy: 0.2886\n",
      "Epoch 18/100\n",
      "8/8 [==============================] - 1s 83ms/step - loss: 1.6376 - accuracy: 0.3442 - val_loss: 1.5809 - val_accuracy: 0.3477\n",
      "Epoch 19/100\n",
      "8/8 [==============================] - 1s 82ms/step - loss: 1.6071 - accuracy: 0.3596 - val_loss: 1.5731 - val_accuracy: 0.3500\n",
      "Epoch 20/100\n",
      "8/8 [==============================] - 1s 83ms/step - loss: 1.5925 - accuracy: 0.3634 - val_loss: 1.5612 - val_accuracy: 0.3545\n",
      "Epoch 21/100\n",
      "8/8 [==============================] - 1s 82ms/step - loss: 1.6588 - accuracy: 0.3710 - val_loss: 1.7152 - val_accuracy: 0.3818\n",
      "Epoch 22/100\n",
      "8/8 [==============================] - 1s 82ms/step - loss: 1.8179 - accuracy: 0.3326 - val_loss: 1.6972 - val_accuracy: 0.3341\n",
      "Epoch 23/100\n",
      "8/8 [==============================] - 1s 80ms/step - loss: 1.7186 - accuracy: 0.3424 - val_loss: 1.5818 - val_accuracy: 0.3659\n",
      "Epoch 24/100\n",
      "8/8 [==============================] - 1s 80ms/step - loss: 1.6756 - accuracy: 0.3578 - val_loss: 1.5471 - val_accuracy: 0.3818\n",
      "Epoch 25/100\n",
      "8/8 [==============================] - 1s 83ms/step - loss: 1.6044 - accuracy: 0.3652 - val_loss: 1.5552 - val_accuracy: 0.3818\n",
      "Epoch 26/100\n",
      "8/8 [==============================] - 1s 81ms/step - loss: 1.5684 - accuracy: 0.3634 - val_loss: 1.5268 - val_accuracy: 0.3795\n",
      "Epoch 27/100\n",
      "8/8 [==============================] - 1s 83ms/step - loss: 1.5496 - accuracy: 0.3631 - val_loss: 1.5208 - val_accuracy: 0.3795\n",
      "Epoch 28/100\n",
      "8/8 [==============================] - 1s 82ms/step - loss: 1.5437 - accuracy: 0.3616 - val_loss: 1.5033 - val_accuracy: 0.3795\n",
      "Epoch 29/100\n",
      "8/8 [==============================] - 1s 81ms/step - loss: 1.5464 - accuracy: 0.3540 - val_loss: 1.4933 - val_accuracy: 0.3773\n",
      "Epoch 30/100\n",
      "8/8 [==============================] - 1s 82ms/step - loss: 1.5244 - accuracy: 0.3586 - val_loss: 1.4876 - val_accuracy: 0.3795\n",
      "Epoch 31/100\n",
      "8/8 [==============================] - 1s 81ms/step - loss: 1.5198 - accuracy: 0.3604 - val_loss: 1.4717 - val_accuracy: 0.3795\n",
      "Epoch 32/100\n",
      "8/8 [==============================] - 1s 81ms/step - loss: 1.5168 - accuracy: 0.3606 - val_loss: 1.4801 - val_accuracy: 0.3682\n",
      "Epoch 33/100\n",
      "8/8 [==============================] - 1s 82ms/step - loss: 1.4995 - accuracy: 0.4051 - val_loss: 1.4551 - val_accuracy: 0.3773\n",
      "Epoch 34/100\n",
      "8/8 [==============================] - 1s 80ms/step - loss: 1.4828 - accuracy: 0.3990 - val_loss: 1.4418 - val_accuracy: 0.4591\n",
      "Epoch 35/100\n",
      "8/8 [==============================] - 1s 81ms/step - loss: 1.4895 - accuracy: 0.4146 - val_loss: 1.5258 - val_accuracy: 0.3545\n",
      "Epoch 36/100\n",
      "8/8 [==============================] - 1s 81ms/step - loss: 1.5003 - accuracy: 0.4015 - val_loss: 1.4195 - val_accuracy: 0.4636\n",
      "Epoch 37/100\n",
      "8/8 [==============================] - 1s 84ms/step - loss: 1.5047 - accuracy: 0.4136 - val_loss: 1.5030 - val_accuracy: 0.4114\n",
      "Epoch 38/100\n",
      "8/8 [==============================] - 1s 83ms/step - loss: 1.4691 - accuracy: 0.4348 - val_loss: 1.4286 - val_accuracy: 0.4386\n",
      "Epoch 39/100\n",
      "8/8 [==============================] - 1s 81ms/step - loss: 1.4082 - accuracy: 0.4540 - val_loss: 1.2882 - val_accuracy: 0.4636\n",
      "Epoch 40/100\n",
      "8/8 [==============================] - 1s 82ms/step - loss: 1.3218 - accuracy: 0.4646 - val_loss: 1.2788 - val_accuracy: 0.4955\n",
      "Epoch 41/100\n",
      "8/8 [==============================] - 1s 81ms/step - loss: 1.2698 - accuracy: 0.4826 - val_loss: 1.1924 - val_accuracy: 0.4841\n",
      "Epoch 42/100\n",
      "8/8 [==============================] - 1s 80ms/step - loss: 1.2168 - accuracy: 0.5071 - val_loss: 1.1726 - val_accuracy: 0.5295\n",
      "Epoch 43/100\n",
      "8/8 [==============================] - 1s 84ms/step - loss: 1.2024 - accuracy: 0.5184 - val_loss: 1.2003 - val_accuracy: 0.4705\n",
      "Epoch 44/100\n",
      "8/8 [==============================] - 1s 82ms/step - loss: 4.5366 - accuracy: 0.1970 - val_loss: 2.3255 - val_accuracy: 0.1591\n",
      "Epoch 45/100\n",
      "8/8 [==============================] - 1s 80ms/step - loss: 1.8281 - accuracy: 0.2505 - val_loss: 1.8982 - val_accuracy: 0.1750\n",
      "Epoch 46/100\n",
      "8/8 [==============================] - 1s 80ms/step - loss: 1.6006 - accuracy: 0.2970 - val_loss: 1.9915 - val_accuracy: 0.2977\n",
      "Epoch 47/100\n",
      "8/8 [==============================] - 1s 84ms/step - loss: 1.5689 - accuracy: 0.3116 - val_loss: 1.4283 - val_accuracy: 0.4682\n",
      "Epoch 48/100\n",
      "8/8 [==============================] - 1s 81ms/step - loss: 1.4100 - accuracy: 0.4280 - val_loss: 1.2958 - val_accuracy: 0.5750\n",
      "Epoch 49/100\n",
      "8/8 [==============================] - 1s 82ms/step - loss: 1.3044 - accuracy: 0.5250 - val_loss: 1.2371 - val_accuracy: 0.4955\n",
      "Epoch 50/100\n",
      "8/8 [==============================] - 1s 80ms/step - loss: 1.2385 - accuracy: 0.4952 - val_loss: 1.1739 - val_accuracy: 0.5568\n",
      "Epoch 51/100\n",
      "8/8 [==============================] - 1s 81ms/step - loss: 1.1889 - accuracy: 0.5144 - val_loss: 1.1421 - val_accuracy: 0.5114\n",
      "Epoch 52/100\n",
      "8/8 [==============================] - 1s 80ms/step - loss: 1.1755 - accuracy: 0.5187 - val_loss: 1.0925 - val_accuracy: 0.5909\n",
      "Epoch 53/100\n",
      "8/8 [==============================] - 1s 81ms/step - loss: 1.1464 - accuracy: 0.5338 - val_loss: 1.1090 - val_accuracy: 0.4864\n",
      "Epoch 54/100\n",
      "8/8 [==============================] - 1s 81ms/step - loss: 1.1364 - accuracy: 0.5427 - val_loss: 1.2610 - val_accuracy: 0.5068\n",
      "Epoch 55/100\n",
      "8/8 [==============================] - 1s 81ms/step - loss: 1.9204 - accuracy: 0.2694 - val_loss: 1.7775 - val_accuracy: 0.3227\n",
      "Epoch 56/100\n",
      "8/8 [==============================] - 1s 83ms/step - loss: 1.4646 - accuracy: 0.3497 - val_loss: 1.3114 - val_accuracy: 0.3636\n",
      "Epoch 57/100\n",
      "8/8 [==============================] - 1s 84ms/step - loss: 1.2896 - accuracy: 0.4205 - val_loss: 1.1292 - val_accuracy: 0.4205\n",
      "Epoch 58/100\n",
      "8/8 [==============================] - 1s 81ms/step - loss: 1.2060 - accuracy: 0.4667 - val_loss: 1.0783 - val_accuracy: 0.5341\n",
      "Epoch 59/100\n",
      "8/8 [==============================] - 1s 84ms/step - loss: 1.1337 - accuracy: 0.5189 - val_loss: 1.0471 - val_accuracy: 0.6568\n",
      "Epoch 60/100\n",
      "8/8 [==============================] - 1s 80ms/step - loss: 1.0694 - accuracy: 0.5768 - val_loss: 1.0116 - val_accuracy: 0.5682\n",
      "Epoch 61/100\n",
      "8/8 [==============================] - 1s 81ms/step - loss: 1.0290 - accuracy: 0.5533 - val_loss: 0.9952 - val_accuracy: 0.5773\n",
      "Epoch 62/100\n",
      "8/8 [==============================] - 1s 81ms/step - loss: 1.0042 - accuracy: 0.5891 - val_loss: 0.9745 - val_accuracy: 0.6091\n",
      "Epoch 63/100\n",
      "8/8 [==============================] - 1s 80ms/step - loss: 0.9875 - accuracy: 0.5937 - val_loss: 0.9627 - val_accuracy: 0.5841\n",
      "Epoch 64/100\n",
      "8/8 [==============================] - 1s 84ms/step - loss: 0.9770 - accuracy: 0.5859 - val_loss: 0.9535 - val_accuracy: 0.5932\n",
      "Epoch 65/100\n",
      "8/8 [==============================] - 1s 83ms/step - loss: 0.9642 - accuracy: 0.6202 - val_loss: 0.9516 - val_accuracy: 0.5841\n",
      "Epoch 66/100\n",
      "8/8 [==============================] - 1s 82ms/step - loss: 0.9571 - accuracy: 0.6157 - val_loss: 0.9369 - val_accuracy: 0.6341\n",
      "Epoch 67/100\n",
      "8/8 [==============================] - 1s 80ms/step - loss: 0.9473 - accuracy: 0.6164 - val_loss: 0.9214 - val_accuracy: 0.6386\n",
      "Epoch 68/100\n",
      "8/8 [==============================] - 1s 83ms/step - loss: 0.9396 - accuracy: 0.6227 - val_loss: 0.9128 - val_accuracy: 0.6000\n",
      "Epoch 69/100\n",
      "8/8 [==============================] - 1s 81ms/step - loss: 0.9324 - accuracy: 0.6043 - val_loss: 0.9731 - val_accuracy: 0.5955\n",
      "Epoch 70/100\n",
      "8/8 [==============================] - 1s 80ms/step - loss: 1.8961 - accuracy: 0.4359 - val_loss: 2.9282 - val_accuracy: 0.0932\n",
      "Epoch 71/100\n",
      "8/8 [==============================] - 1s 82ms/step - loss: 1.8446 - accuracy: 0.2932 - val_loss: 1.5164 - val_accuracy: 0.3500\n",
      "Epoch 72/100\n",
      "8/8 [==============================] - 1s 81ms/step - loss: 1.2583 - accuracy: 0.4801 - val_loss: 1.1553 - val_accuracy: 0.5818\n",
      "Epoch 73/100\n",
      "8/8 [==============================] - 1s 81ms/step - loss: 1.1726 - accuracy: 0.5472 - val_loss: 1.0942 - val_accuracy: 0.5705\n",
      "Epoch 74/100\n",
      "8/8 [==============================] - 1s 82ms/step - loss: 1.0999 - accuracy: 0.5859 - val_loss: 1.0632 - val_accuracy: 0.4659\n",
      "Epoch 75/100\n",
      "8/8 [==============================] - 1s 81ms/step - loss: 1.0603 - accuracy: 0.5379 - val_loss: 1.0412 - val_accuracy: 0.6045\n",
      "Epoch 76/100\n",
      "8/8 [==============================] - 1s 81ms/step - loss: 1.1264 - accuracy: 0.5098 - val_loss: 1.1697 - val_accuracy: 0.4477\n",
      "Epoch 77/100\n",
      "8/8 [==============================] - 1s 82ms/step - loss: 1.1308 - accuracy: 0.4995 - val_loss: 1.1034 - val_accuracy: 0.5227\n",
      "Epoch 78/100\n",
      "8/8 [==============================] - 1s 84ms/step - loss: 1.0535 - accuracy: 0.5293 - val_loss: 0.9945 - val_accuracy: 0.5568\n",
      "Epoch 79/100\n",
      "8/8 [==============================] - 1s 82ms/step - loss: 0.9840 - accuracy: 0.5778 - val_loss: 0.9649 - val_accuracy: 0.5977\n",
      "Epoch 80/100\n",
      "8/8 [==============================] - 1s 84ms/step - loss: 0.9543 - accuracy: 0.6000 - val_loss: 0.9271 - val_accuracy: 0.6000\n",
      "Epoch 81/100\n",
      "8/8 [==============================] - 1s 81ms/step - loss: 0.9345 - accuracy: 0.6212 - val_loss: 0.9045 - val_accuracy: 0.6159\n",
      "Epoch 82/100\n",
      "8/8 [==============================] - 1s 82ms/step - loss: 0.9184 - accuracy: 0.6240 - val_loss: 0.9041 - val_accuracy: 0.5955\n",
      "Epoch 83/100\n",
      "8/8 [==============================] - 1s 80ms/step - loss: 0.9010 - accuracy: 0.6207 - val_loss: 0.8842 - val_accuracy: 0.5932\n",
      "Epoch 84/100\n",
      "8/8 [==============================] - 1s 83ms/step - loss: 0.8893 - accuracy: 0.6255 - val_loss: 0.8693 - val_accuracy: 0.6045\n",
      "Epoch 85/100\n",
      "8/8 [==============================] - 1s 81ms/step - loss: 0.8765 - accuracy: 0.6240 - val_loss: 0.8473 - val_accuracy: 0.6114\n",
      "Epoch 86/100\n",
      "8/8 [==============================] - 1s 82ms/step - loss: 0.8546 - accuracy: 0.6366 - val_loss: 0.8344 - val_accuracy: 0.6159\n",
      "Epoch 87/100\n",
      "8/8 [==============================] - 1s 81ms/step - loss: 0.8431 - accuracy: 0.6348 - val_loss: 0.8245 - val_accuracy: 0.6341\n",
      "Epoch 88/100\n",
      "8/8 [==============================] - 1s 82ms/step - loss: 0.8435 - accuracy: 0.6336 - val_loss: 0.8238 - val_accuracy: 0.6136\n",
      "Epoch 89/100\n",
      "8/8 [==============================] - 1s 81ms/step - loss: 0.8328 - accuracy: 0.6457 - val_loss: 0.7966 - val_accuracy: 0.6568\n",
      "Epoch 90/100\n",
      "8/8 [==============================] - 1s 82ms/step - loss: 0.8207 - accuracy: 0.6389 - val_loss: 0.7477 - val_accuracy: 0.6432\n",
      "Epoch 91/100\n",
      "8/8 [==============================] - 1s 81ms/step - loss: 0.7873 - accuracy: 0.6548 - val_loss: 0.7311 - val_accuracy: 0.7182\n",
      "Epoch 92/100\n",
      "8/8 [==============================] - 1s 81ms/step - loss: 0.7664 - accuracy: 0.6838 - val_loss: 0.7084 - val_accuracy: 0.7250\n",
      "Epoch 93/100\n",
      "8/8 [==============================] - 1s 81ms/step - loss: 0.7523 - accuracy: 0.6874 - val_loss: 0.7396 - val_accuracy: 0.5932\n",
      "Epoch 94/100\n",
      "8/8 [==============================] - 1s 82ms/step - loss: 0.7458 - accuracy: 0.6894 - val_loss: 0.6800 - val_accuracy: 0.7318\n",
      "Epoch 95/100\n",
      "8/8 [==============================] - 1s 82ms/step - loss: 0.7344 - accuracy: 0.6960 - val_loss: 0.6850 - val_accuracy: 0.6750\n",
      "Epoch 96/100\n",
      "8/8 [==============================] - 1s 81ms/step - loss: 0.7322 - accuracy: 0.6788 - val_loss: 0.6914 - val_accuracy: 0.7273\n",
      "Epoch 97/100\n",
      "8/8 [==============================] - 1s 82ms/step - loss: 0.7377 - accuracy: 0.6823 - val_loss: 0.6879 - val_accuracy: 0.6886\n",
      "Epoch 98/100\n",
      "8/8 [==============================] - 1s 81ms/step - loss: 2.2666 - accuracy: 0.5210 - val_loss: 2.9193 - val_accuracy: 0.1614\n",
      "Epoch 99/100\n",
      "8/8 [==============================] - 1s 81ms/step - loss: 3.3835 - accuracy: 0.1152 - val_loss: 2.7401 - val_accuracy: 0.0841\n",
      "Epoch 100/100\n",
      "8/8 [==============================] - 1s 80ms/step - loss: 2.7093 - accuracy: 0.0939 - val_loss: 2.4602 - val_accuracy: 0.1205\n",
      "35/35 [==============================] - 0s 5ms/step - loss: 2.4933 - accuracy: 0.0909\n"
     ]
    },
    {
     "data": {
      "image/png": "[encoded data removed]",
      "text/plain": [
       "<Figure size 504x432 with 2 Axes>"
      ]
     },
     "metadata": {
      "needs_background": "light"
     },
     "output_type": "display_data"
    },
    {
     "name": "stdout",
     "output_type": "stream",
     "text": [
      "Precision:0.00826\n",
      "Recall:0.0909\n",
      "F1_score:0.0152\n",
      "              precision    recall  f1-score   support\n",
      "\n",
      "           0       0.00      0.00      0.00       100\n",
      "           1       0.00      0.00      0.00       100\n",
      "           2       0.00      0.00      0.00       100\n",
      "           3       0.00      0.00      0.00       100\n",
      "           4       0.00      0.00      0.00       100\n",
      "           5       0.00      0.00      0.00       100\n",
      "           6       0.09      1.00      0.17       100\n",
      "           7       0.00      0.00      0.00       100\n",
      "           8       0.00      0.00      0.00       100\n",
      "           9       0.00      0.00      0.00       100\n",
      "          10       0.00      0.00      0.00       100\n",
      "\n",
      "    accuracy                           0.09      1100\n",
      "   macro avg       0.01      0.09      0.02      1100\n",
      "weighted avg       0.01      0.09      0.02      1100\n",
      "\n",
      "Epoch 1/100\n",
      "8/8 [==============================] - 1s 101ms/step - loss: 2.4004 - accuracy: 0.0944 - val_loss: 2.3979 - val_accuracy: 0.0955\n",
      "Epoch 2/100\n",
      "8/8 [==============================] - 1s 81ms/step - loss: 2.3979 - accuracy: 0.0917 - val_loss: 2.3981 - val_accuracy: 0.0773\n",
      "Epoch 3/100\n",
      "8/8 [==============================] - 1s 80ms/step - loss: 2.3979 - accuracy: 0.0924 - val_loss: 2.3984 - val_accuracy: 0.0773\n",
      "Epoch 4/100\n",
      "8/8 [==============================] - 1s 81ms/step - loss: 2.3979 - accuracy: 0.0924 - val_loss: 2.3987 - val_accuracy: 0.0773\n",
      "Epoch 5/100\n",
      "8/8 [==============================] - 1s 82ms/step - loss: 2.3979 - accuracy: 0.0924 - val_loss: 2.3989 - val_accuracy: 0.0773\n",
      "Epoch 6/100\n",
      "8/8 [==============================] - 1s 81ms/step - loss: 2.3978 - accuracy: 0.0924 - val_loss: 2.3991 - val_accuracy: 0.0773\n",
      "Epoch 7/100\n",
      "8/8 [==============================] - 1s 80ms/step - loss: 2.3978 - accuracy: 0.0924 - val_loss: 2.3992 - val_accuracy: 0.0773\n",
      "Epoch 8/100\n",
      "8/8 [==============================] - 1s 82ms/step - loss: 2.3978 - accuracy: 0.0924 - val_loss: 2.3994 - val_accuracy: 0.0773\n",
      "Epoch 9/100\n",
      "8/8 [==============================] - 1s 81ms/step - loss: 2.3978 - accuracy: 0.0876 - val_loss: 2.3995 - val_accuracy: 0.0682\n",
      "Epoch 10/100\n",
      "8/8 [==============================] - 1s 80ms/step - loss: 2.3978 - accuracy: 0.0934 - val_loss: 2.3996 - val_accuracy: 0.0682\n",
      "Epoch 11/100\n",
      "8/8 [==============================] - 1s 80ms/step - loss: 2.3978 - accuracy: 0.0934 - val_loss: 2.3996 - val_accuracy: 0.0682\n",
      "Epoch 12/100\n",
      "8/8 [==============================] - 1s 81ms/step - loss: 2.3978 - accuracy: 0.0934 - val_loss: 2.3998 - val_accuracy: 0.0682\n",
      "Epoch 13/100\n",
      "8/8 [==============================] - 1s 80ms/step - loss: 2.3978 - accuracy: 0.0934 - val_loss: 2.4000 - val_accuracy: 0.0682\n",
      "Epoch 14/100\n",
      "8/8 [==============================] - 1s 81ms/step - loss: 2.3978 - accuracy: 0.0934 - val_loss: 2.4001 - val_accuracy: 0.0682\n",
      "Epoch 15/100\n",
      "8/8 [==============================] - 1s 81ms/step - loss: 2.3978 - accuracy: 0.0934 - val_loss: 2.4001 - val_accuracy: 0.0682\n",
      "Epoch 16/100\n",
      "8/8 [==============================] - 1s 82ms/step - loss: 2.3978 - accuracy: 0.0934 - val_loss: 2.4002 - val_accuracy: 0.0682\n",
      "Epoch 17/100\n",
      "8/8 [==============================] - 1s 82ms/step - loss: 2.3978 - accuracy: 0.0934 - val_loss: 2.4002 - val_accuracy: 0.0682\n",
      "Epoch 18/100\n",
      "8/8 [==============================] - 1s 81ms/step - loss: 2.3978 - accuracy: 0.0934 - val_loss: 2.4003 - val_accuracy: 0.0682\n",
      "Epoch 19/100\n",
      "8/8 [==============================] - 1s 80ms/step - loss: 2.3978 - accuracy: 0.0934 - val_loss: 2.4003 - val_accuracy: 0.0682\n",
      "Epoch 20/100\n",
      "8/8 [==============================] - 1s 82ms/step - loss: 2.3978 - accuracy: 0.0934 - val_loss: 2.4003 - val_accuracy: 0.0682\n",
      "Epoch 21/100\n",
      "8/8 [==============================] - 1s 80ms/step - loss: 2.3978 - accuracy: 0.0934 - val_loss: 2.4003 - val_accuracy: 0.0682\n",
      "Epoch 22/100\n",
      "8/8 [==============================] - 1s 81ms/step - loss: 2.3978 - accuracy: 0.0934 - val_loss: 2.4004 - val_accuracy: 0.0682\n",
      "Epoch 23/100\n",
      "8/8 [==============================] - 1s 81ms/step - loss: 2.3978 - accuracy: 0.0934 - val_loss: 2.4004 - val_accuracy: 0.0682\n",
      "Epoch 24/100\n",
      "8/8 [==============================] - 1s 84ms/step - loss: 2.3978 - accuracy: 0.0934 - val_loss: 2.4004 - val_accuracy: 0.0682\n",
      "Epoch 25/100\n",
      "8/8 [==============================] - 1s 82ms/step - loss: 2.3978 - accuracy: 0.0934 - val_loss: 2.4005 - val_accuracy: 0.0682\n",
      "Epoch 26/100\n",
      "8/8 [==============================] - 1s 80ms/step - loss: 2.3978 - accuracy: 0.0934 - val_loss: 2.4005 - val_accuracy: 0.0682\n",
      "Epoch 27/100\n",
      "8/8 [==============================] - 1s 81ms/step - loss: 2.3978 - accuracy: 0.0934 - val_loss: 2.4005 - val_accuracy: 0.0682\n",
      "Epoch 28/100\n",
      "8/8 [==============================] - 1s 82ms/step - loss: 2.3978 - accuracy: 0.0934 - val_loss: 2.4005 - val_accuracy: 0.0682\n",
      "Epoch 29/100\n",
      "8/8 [==============================] - 1s 80ms/step - loss: 2.3978 - accuracy: 0.0934 - val_loss: 2.4005 - val_accuracy: 0.0682\n",
      "Epoch 30/100\n",
      "8/8 [==============================] - 1s 81ms/step - loss: 2.3978 - accuracy: 0.0934 - val_loss: 2.4005 - val_accuracy: 0.0682\n",
      "Epoch 31/100\n",
      "8/8 [==============================] - 1s 83ms/step - loss: 2.3978 - accuracy: 0.0934 - val_loss: 2.4005 - val_accuracy: 0.0682\n",
      "Epoch 32/100\n",
      "8/8 [==============================] - 1s 82ms/step - loss: 2.3978 - accuracy: 0.0934 - val_loss: 2.4007 - val_accuracy: 0.0682\n",
      "Epoch 33/100\n",
      "8/8 [==============================] - 1s 82ms/step - loss: 2.3978 - accuracy: 0.0934 - val_loss: 2.4007 - val_accuracy: 0.0682\n",
      "Epoch 34/100\n",
      "8/8 [==============================] - 1s 80ms/step - loss: 2.3978 - accuracy: 0.0934 - val_loss: 2.4007 - val_accuracy: 0.0682\n",
      "Epoch 35/100\n",
      "8/8 [==============================] - 1s 81ms/step - loss: 2.3978 - accuracy: 0.0934 - val_loss: 2.4007 - val_accuracy: 0.0682\n",
      "Epoch 36/100\n",
      "8/8 [==============================] - 1s 83ms/step - loss: 2.3978 - accuracy: 0.0934 - val_loss: 2.4007 - val_accuracy: 0.0682\n",
      "Epoch 37/100\n",
      "8/8 [==============================] - 1s 81ms/step - loss: 2.3978 - accuracy: 0.0934 - val_loss: 2.4006 - val_accuracy: 0.0682\n",
      "Epoch 38/100\n",
      "8/8 [==============================] - 1s 81ms/step - loss: 2.3978 - accuracy: 0.0934 - val_loss: 2.4005 - val_accuracy: 0.0682\n",
      "Epoch 39/100\n",
      "8/8 [==============================] - 1s 81ms/step - loss: 2.3978 - accuracy: 0.0934 - val_loss: 2.4006 - val_accuracy: 0.0682\n",
      "Epoch 40/100\n",
      "8/8 [==============================] - 1s 84ms/step - loss: 2.3978 - accuracy: 0.0934 - val_loss: 2.4006 - val_accuracy: 0.0682\n",
      "Epoch 41/100\n",
      "8/8 [==============================] - 1s 81ms/step - loss: 2.3978 - accuracy: 0.0934 - val_loss: 2.4007 - val_accuracy: 0.0682\n",
      "Epoch 42/100\n",
      "8/8 [==============================] - 1s 81ms/step - loss: 2.3978 - accuracy: 0.0934 - val_loss: 2.4007 - val_accuracy: 0.0682\n",
      "Epoch 43/100\n",
      "8/8 [==============================] - 1s 81ms/step - loss: 2.3978 - accuracy: 0.0934 - val_loss: 2.4008 - val_accuracy: 0.0682\n",
      "Epoch 44/100\n",
      "8/8 [==============================] - 1s 80ms/step - loss: 2.3978 - accuracy: 0.0934 - val_loss: 2.4008 - val_accuracy: 0.0682\n",
      "Epoch 45/100\n",
      "8/8 [==============================] - 1s 81ms/step - loss: 2.3978 - accuracy: 0.0934 - val_loss: 2.4009 - val_accuracy: 0.0682\n",
      "Epoch 46/100\n",
      "8/8 [==============================] - 1s 81ms/step - loss: 2.3978 - accuracy: 0.0934 - val_loss: 2.4008 - val_accuracy: 0.0682\n",
      "Epoch 47/100\n",
      "8/8 [==============================] - 1s 81ms/step - loss: 2.3978 - accuracy: 0.0934 - val_loss: 2.4008 - val_accuracy: 0.0682\n",
      "Epoch 48/100\n",
      "8/8 [==============================] - 1s 82ms/step - loss: 2.3978 - accuracy: 0.0934 - val_loss: 2.4008 - val_accuracy: 0.0682\n",
      "Epoch 49/100\n",
      "8/8 [==============================] - 1s 80ms/step - loss: 2.3978 - accuracy: 0.0934 - val_loss: 2.4007 - val_accuracy: 0.0682\n",
      "Epoch 50/100\n",
      "8/8 [==============================] - 1s 81ms/step - loss: 2.3978 - accuracy: 0.0934 - val_loss: 2.4007 - val_accuracy: 0.0682\n",
      "Epoch 51/100\n",
      "8/8 [==============================] - 1s 83ms/step - loss: 2.3978 - accuracy: 0.0934 - val_loss: 2.4008 - val_accuracy: 0.0682\n",
      "Epoch 52/100\n",
      "8/8 [==============================] - 1s 82ms/step - loss: 2.3978 - accuracy: 0.0934 - val_loss: 2.4008 - val_accuracy: 0.0682\n",
      "Epoch 53/100\n",
      "8/8 [==============================] - 1s 82ms/step - loss: 2.3978 - accuracy: 0.0934 - val_loss: 2.4009 - val_accuracy: 0.0682\n",
      "Epoch 54/100\n",
      "8/8 [==============================] - 1s 81ms/step - loss: 2.3978 - accuracy: 0.0934 - val_loss: 2.4008 - val_accuracy: 0.0682\n",
      "Epoch 55/100\n",
      "8/8 [==============================] - 1s 81ms/step - loss: 2.3978 - accuracy: 0.0934 - val_loss: 2.4007 - val_accuracy: 0.0682\n",
      "Epoch 56/100\n",
      "8/8 [==============================] - 1s 82ms/step - loss: 2.3978 - accuracy: 0.0934 - val_loss: 2.4007 - val_accuracy: 0.0682\n",
      "Epoch 57/100\n",
      "8/8 [==============================] - 1s 82ms/step - loss: 2.3978 - accuracy: 0.0934 - val_loss: 2.4007 - val_accuracy: 0.0682\n",
      "Epoch 58/100\n",
      "8/8 [==============================] - 1s 81ms/step - loss: 2.3978 - accuracy: 0.0934 - val_loss: 2.4007 - val_accuracy: 0.0682\n",
      "Epoch 59/100\n",
      "8/8 [==============================] - 1s 80ms/step - loss: 2.3978 - accuracy: 0.0934 - val_loss: 2.4007 - val_accuracy: 0.0682\n",
      "Epoch 60/100\n",
      "8/8 [==============================] - 1s 83ms/step - loss: 2.3978 - accuracy: 0.0934 - val_loss: 2.4007 - val_accuracy: 0.0682\n",
      "Epoch 61/100\n",
      "8/8 [==============================] - 1s 81ms/step - loss: 2.3978 - accuracy: 0.0934 - val_loss: 2.4007 - val_accuracy: 0.0682\n",
      "Epoch 62/100\n",
      "8/8 [==============================] - 1s 84ms/step - loss: 2.3978 - accuracy: 0.0934 - val_loss: 2.4007 - val_accuracy: 0.0682\n",
      "Epoch 63/100\n",
      "8/8 [==============================] - 1s 80ms/step - loss: 2.3978 - accuracy: 0.0934 - val_loss: 2.4007 - val_accuracy: 0.0682\n",
      "Epoch 64/100\n",
      "8/8 [==============================] - 1s 81ms/step - loss: 2.3978 - accuracy: 0.0934 - val_loss: 2.4007 - val_accuracy: 0.0682\n",
      "Epoch 65/100\n",
      "8/8 [==============================] - 1s 80ms/step - loss: 2.3978 - accuracy: 0.0934 - val_loss: 2.4007 - val_accuracy: 0.0682\n",
      "Epoch 66/100\n",
      "8/8 [==============================] - 1s 81ms/step - loss: 2.3978 - accuracy: 0.0934 - val_loss: 2.4007 - val_accuracy: 0.0682\n",
      "Epoch 67/100\n",
      "8/8 [==============================] - 1s 83ms/step - loss: 2.3978 - accuracy: 0.0934 - val_loss: 2.4007 - val_accuracy: 0.0682\n",
      "Epoch 68/100\n",
      "8/8 [==============================] - 1s 80ms/step - loss: 2.3978 - accuracy: 0.0934 - val_loss: 2.4008 - val_accuracy: 0.0682\n",
      "Epoch 69/100\n",
      "8/8 [==============================] - 1s 81ms/step - loss: 2.3978 - accuracy: 0.0934 - val_loss: 2.4008 - val_accuracy: 0.0682\n",
      "Epoch 70/100\n",
      "8/8 [==============================] - 1s 83ms/step - loss: 2.3978 - accuracy: 0.0934 - val_loss: 2.4007 - val_accuracy: 0.0682\n",
      "Epoch 71/100\n",
      "8/8 [==============================] - 1s 80ms/step - loss: 2.3978 - accuracy: 0.0934 - val_loss: 2.4008 - val_accuracy: 0.0682\n",
      "Epoch 72/100\n",
      "8/8 [==============================] - 1s 81ms/step - loss: 2.3978 - accuracy: 0.0934 - val_loss: 2.4007 - val_accuracy: 0.0682\n",
      "Epoch 73/100\n",
      "8/8 [==============================] - 1s 82ms/step - loss: 2.3978 - accuracy: 0.0934 - val_loss: 2.4007 - val_accuracy: 0.0682\n",
      "Epoch 74/100\n",
      "8/8 [==============================] - 1s 83ms/step - loss: 2.3978 - accuracy: 0.0934 - val_loss: 2.4007 - val_accuracy: 0.0682\n",
      "Epoch 75/100\n",
      "8/8 [==============================] - 1s 80ms/step - loss: 2.3978 - accuracy: 0.0934 - val_loss: 2.4007 - val_accuracy: 0.0682\n",
      "Epoch 76/100\n",
      "8/8 [==============================] - 1s 80ms/step - loss: 2.3978 - accuracy: 0.0934 - val_loss: 2.4008 - val_accuracy: 0.0682\n",
      "Epoch 77/100\n",
      "8/8 [==============================] - 1s 80ms/step - loss: 2.3978 - accuracy: 0.0934 - val_loss: 2.4008 - val_accuracy: 0.0682\n",
      "Epoch 78/100\n",
      "8/8 [==============================] - 1s 80ms/step - loss: 2.3978 - accuracy: 0.0934 - val_loss: 2.4007 - val_accuracy: 0.0682\n",
      "Epoch 79/100\n",
      "8/8 [==============================] - 1s 82ms/step - loss: 2.3978 - accuracy: 0.0934 - val_loss: 2.4008 - val_accuracy: 0.0682\n",
      "Epoch 80/100\n",
      "8/8 [==============================] - 1s 82ms/step - loss: 2.3978 - accuracy: 0.0934 - val_loss: 2.4008 - val_accuracy: 0.0682\n",
      "Epoch 81/100\n",
      "8/8 [==============================] - 1s 81ms/step - loss: 2.3978 - accuracy: 0.0934 - val_loss: 2.4008 - val_accuracy: 0.0682\n",
      "Epoch 82/100\n",
      "8/8 [==============================] - 1s 81ms/step - loss: 2.3978 - accuracy: 0.0934 - val_loss: 2.4009 - val_accuracy: 0.0682\n",
      "Epoch 83/100\n",
      "8/8 [==============================] - 1s 82ms/step - loss: 2.3978 - accuracy: 0.0934 - val_loss: 2.4008 - val_accuracy: 0.0682\n",
      "Epoch 84/100\n",
      "8/8 [==============================] - 1s 82ms/step - loss: 2.3978 - accuracy: 0.0934 - val_loss: 2.4007 - val_accuracy: 0.0682\n",
      "Epoch 85/100\n",
      "8/8 [==============================] - 1s 81ms/step - loss: 2.3978 - accuracy: 0.0934 - val_loss: 2.4007 - val_accuracy: 0.0682\n",
      "Epoch 86/100\n",
      "8/8 [==============================] - 1s 83ms/step - loss: 2.3978 - accuracy: 0.0934 - val_loss: 2.4007 - val_accuracy: 0.0682\n",
      "Epoch 87/100\n",
      "8/8 [==============================] - 1s 82ms/step - loss: 2.3978 - accuracy: 0.0934 - val_loss: 2.4007 - val_accuracy: 0.0682\n",
      "Epoch 88/100\n",
      "8/8 [==============================] - 1s 83ms/step - loss: 2.3978 - accuracy: 0.0934 - val_loss: 2.4007 - val_accuracy: 0.0682\n",
      "Epoch 89/100\n",
      "8/8 [==============================] - 1s 83ms/step - loss: 2.3978 - accuracy: 0.0934 - val_loss: 2.4007 - val_accuracy: 0.0682\n",
      "Epoch 90/100\n",
      "8/8 [==============================] - 1s 80ms/step - loss: 2.3978 - accuracy: 0.0934 - val_loss: 2.4005 - val_accuracy: 0.0682\n",
      "Epoch 91/100\n",
      "8/8 [==============================] - 1s 83ms/step - loss: 2.3978 - accuracy: 0.0934 - val_loss: 2.4006 - val_accuracy: 0.0682\n",
      "Epoch 92/100\n",
      "8/8 [==============================] - 1s 82ms/step - loss: 2.3978 - accuracy: 0.0934 - val_loss: 2.4005 - val_accuracy: 0.0682\n",
      "Epoch 93/100\n",
      "8/8 [==============================] - 1s 83ms/step - loss: 2.3978 - accuracy: 0.0934 - val_loss: 2.4006 - val_accuracy: 0.0682\n",
      "Epoch 94/100\n",
      "8/8 [==============================] - 1s 83ms/step - loss: 2.3978 - accuracy: 0.0934 - val_loss: 2.4006 - val_accuracy: 0.0682\n",
      "Epoch 95/100\n",
      "8/8 [==============================] - 1s 81ms/step - loss: 2.3978 - accuracy: 0.0934 - val_loss: 2.4007 - val_accuracy: 0.0682\n",
      "Epoch 96/100\n",
      "8/8 [==============================] - 1s 80ms/step - loss: 2.3978 - accuracy: 0.0934 - val_loss: 2.4007 - val_accuracy: 0.0682\n",
      "Epoch 97/100\n",
      "8/8 [==============================] - 1s 82ms/step - loss: 2.3978 - accuracy: 0.0934 - val_loss: 2.4007 - val_accuracy: 0.0682\n",
      "Epoch 98/100\n",
      "8/8 [==============================] - 1s 82ms/step - loss: 2.3978 - accuracy: 0.0934 - val_loss: 2.4006 - val_accuracy: 0.0682\n",
      "Epoch 99/100\n",
      "8/8 [==============================] - 1s 81ms/step - loss: 2.3978 - accuracy: 0.0934 - val_loss: 2.4007 - val_accuracy: 0.0682\n",
      "Epoch 100/100\n",
      "8/8 [==============================] - 1s 83ms/step - loss: 2.3978 - accuracy: 0.0934 - val_loss: 2.4007 - val_accuracy: 0.0682\n",
      "35/35 [==============================] - 0s 5ms/step - loss: 2.3980 - accuracy: 0.0909\n"
     ]
    },
    {
     "data": {
      "image/png": "[encoded data removed]",
      "text/plain": [
       "<Figure size 504x432 with 2 Axes>"
      ]
     },
     "metadata": {
      "needs_background": "light"
     },
     "output_type": "display_data"
    },
    {
     "name": "stdout",
     "output_type": "stream",
     "text": [
      "Precision:0.00826\n",
      "Recall:0.0909\n",
      "F1_score:0.0152\n",
      "              precision    recall  f1-score   support\n",
      "\n",
      "           0       0.00      0.00      0.00       100\n",
      "           1       0.00      0.00      0.00       100\n",
      "           2       0.00      0.00      0.00       100\n",
      "           3       0.00      0.00      0.00       100\n",
      "           4       0.00      0.00      0.00       100\n",
      "           5       0.00      0.00      0.00       100\n",
      "           6       0.00      0.00      0.00       100\n",
      "           7       0.00      0.00      0.00       100\n",
      "           8       0.00      0.00      0.00       100\n",
      "           9       0.00      0.00      0.00       100\n",
      "          10       0.09      1.00      0.17       100\n",
      "\n",
      "    accuracy                           0.09      1100\n",
      "   macro avg       0.01      0.09      0.02      1100\n",
      "weighted avg       0.01      0.09      0.02      1100\n",
      "\n",
      "Epoch 1/100\n",
      "8/8 [==============================] - 1s 100ms/step - loss: 2.3930 - accuracy: 0.0813 - val_loss: 2.3827 - val_accuracy: 0.0886\n",
      "Epoch 2/100\n",
      "8/8 [==============================] - 1s 82ms/step - loss: 2.3589 - accuracy: 0.1146 - val_loss: 2.3124 - val_accuracy: 0.0705\n",
      "Epoch 3/100\n",
      "8/8 [==============================] - 1s 81ms/step - loss: 2.2784 - accuracy: 0.0823 - val_loss: 2.2180 - val_accuracy: 0.0705\n",
      "Epoch 4/100\n",
      "8/8 [==============================] - 1s 82ms/step - loss: 2.1606 - accuracy: 0.1184 - val_loss: 2.1241 - val_accuracy: 0.0705\n",
      "Epoch 5/100\n",
      "8/8 [==============================] - 1s 81ms/step - loss: 2.2036 - accuracy: 0.1303 - val_loss: 2.3938 - val_accuracy: 0.1159\n",
      "Epoch 6/100\n",
      "8/8 [==============================] - 1s 82ms/step - loss: 2.3878 - accuracy: 0.1285 - val_loss: 2.3661 - val_accuracy: 0.0705\n",
      "Epoch 7/100\n",
      "8/8 [==============================] - 1s 83ms/step - loss: 2.2764 - accuracy: 0.2217 - val_loss: 2.1313 - val_accuracy: 0.1477\n",
      "Epoch 8/100\n",
      "8/8 [==============================] - 1s 81ms/step - loss: 2.1195 - accuracy: 0.2351 - val_loss: 1.9769 - val_accuracy: 0.3477\n",
      "Epoch 9/100\n",
      "8/8 [==============================] - 1s 83ms/step - loss: 1.9206 - accuracy: 0.2530 - val_loss: 1.8669 - val_accuracy: 0.3273\n",
      "Epoch 10/100\n",
      "8/8 [==============================] - 1s 84ms/step - loss: 1.7832 - accuracy: 0.4202 - val_loss: 1.7261 - val_accuracy: 0.3818\n",
      "Epoch 11/100\n",
      "8/8 [==============================] - 1s 82ms/step - loss: 1.6456 - accuracy: 0.4785 - val_loss: 1.5280 - val_accuracy: 0.5182\n",
      "Epoch 12/100\n",
      "8/8 [==============================] - 1s 81ms/step - loss: 1.4980 - accuracy: 0.4662 - val_loss: 1.5888 - val_accuracy: 0.3477\n",
      "Epoch 13/100\n",
      "8/8 [==============================] - 1s 85ms/step - loss: 2.6693 - accuracy: 0.3101 - val_loss: 1.6082 - val_accuracy: 0.4409\n",
      "Epoch 14/100\n",
      "8/8 [==============================] - 1s 82ms/step - loss: 1.5950 - accuracy: 0.4013 - val_loss: 1.3969 - val_accuracy: 0.6250\n",
      "Epoch 15/100\n",
      "8/8 [==============================] - 1s 82ms/step - loss: 1.3456 - accuracy: 0.5222 - val_loss: 1.2510 - val_accuracy: 0.6614\n",
      "Epoch 16/100\n",
      "8/8 [==============================] - 1s 81ms/step - loss: 1.1050 - accuracy: 0.6157 - val_loss: 0.9511 - val_accuracy: 0.7636\n",
      "Epoch 17/100\n",
      "8/8 [==============================] - 1s 83ms/step - loss: 0.8597 - accuracy: 0.7465 - val_loss: 0.7094 - val_accuracy: 0.8591\n",
      "Epoch 18/100\n",
      "8/8 [==============================] - 1s 80ms/step - loss: 0.8008 - accuracy: 0.6876 - val_loss: 0.6034 - val_accuracy: 0.8205\n",
      "Epoch 19/100\n",
      "8/8 [==============================] - 1s 82ms/step - loss: 0.6638 - accuracy: 0.7182 - val_loss: 0.5560 - val_accuracy: 0.8045\n",
      "Epoch 20/100\n",
      "8/8 [==============================] - 1s 83ms/step - loss: 0.5207 - accuracy: 0.7790 - val_loss: 0.4519 - val_accuracy: 0.8477\n",
      "Epoch 21/100\n",
      "8/8 [==============================] - 1s 81ms/step - loss: 0.3628 - accuracy: 0.8611 - val_loss: 0.3372 - val_accuracy: 0.8273\n",
      "Epoch 22/100\n",
      "8/8 [==============================] - 1s 84ms/step - loss: 0.2165 - accuracy: 0.9437 - val_loss: 0.1184 - val_accuracy: 0.9977\n",
      "Epoch 23/100\n",
      "8/8 [==============================] - 1s 81ms/step - loss: 0.1423 - accuracy: 0.9758 - val_loss: 0.1086 - val_accuracy: 0.9864\n",
      "Epoch 24/100\n",
      "8/8 [==============================] - 1s 82ms/step - loss: 0.6932 - accuracy: 0.8720 - val_loss: 13.2876 - val_accuracy: 0.0750\n",
      "Epoch 25/100\n",
      "8/8 [==============================] - 1s 83ms/step - loss: 5.1337 - accuracy: 0.0922 - val_loss: 2.4057 - val_accuracy: 0.0932\n",
      "Epoch 26/100\n",
      "8/8 [==============================] - 1s 82ms/step - loss: 2.4050 - accuracy: 0.0876 - val_loss: 2.4041 - val_accuracy: 0.1023\n",
      "Epoch 27/100\n",
      "8/8 [==============================] - 1s 81ms/step - loss: 2.4076 - accuracy: 0.0922 - val_loss: 2.4014 - val_accuracy: 0.1023\n",
      "Epoch 28/100\n",
      "8/8 [==============================] - 1s 81ms/step - loss: 2.4012 - accuracy: 0.0896 - val_loss: 2.4014 - val_accuracy: 0.1023\n",
      "Epoch 29/100\n",
      "8/8 [==============================] - 1s 81ms/step - loss: 2.4012 - accuracy: 0.0896 - val_loss: 2.4013 - val_accuracy: 0.1023\n",
      "Epoch 30/100\n",
      "8/8 [==============================] - 1s 84ms/step - loss: 2.4010 - accuracy: 0.0896 - val_loss: 2.4011 - val_accuracy: 0.1023\n",
      "Epoch 31/100\n",
      "8/8 [==============================] - 1s 81ms/step - loss: 2.4006 - accuracy: 0.0896 - val_loss: 2.4007 - val_accuracy: 0.1023\n",
      "Epoch 32/100\n",
      "8/8 [==============================] - 1s 80ms/step - loss: 2.4001 - accuracy: 0.0896 - val_loss: 2.4010 - val_accuracy: 0.1023\n",
      "Epoch 33/100\n",
      "8/8 [==============================] - 1s 82ms/step - loss: 2.3994 - accuracy: 0.0896 - val_loss: 2.4002 - val_accuracy: 0.1023\n",
      "Epoch 34/100\n",
      "8/8 [==============================] - 1s 82ms/step - loss: 2.3981 - accuracy: 0.0896 - val_loss: 2.3991 - val_accuracy: 0.1023\n",
      "Epoch 35/100\n",
      "8/8 [==============================] - 1s 83ms/step - loss: 2.3959 - accuracy: 0.0896 - val_loss: 2.3977 - val_accuracy: 0.1023\n",
      "Epoch 36/100\n",
      "8/8 [==============================] - 1s 80ms/step - loss: 2.3924 - accuracy: 0.0896 - val_loss: 2.3917 - val_accuracy: 0.1023\n",
      "Epoch 37/100\n",
      "8/8 [==============================] - 1s 82ms/step - loss: 2.3802 - accuracy: 0.1573 - val_loss: 2.3699 - val_accuracy: 0.1727\n",
      "Epoch 38/100\n",
      "8/8 [==============================] - 1s 83ms/step - loss: 2.3379 - accuracy: 0.1682 - val_loss: 2.3040 - val_accuracy: 0.1500\n",
      "Epoch 39/100\n",
      "8/8 [==============================] - 1s 83ms/step - loss: 2.2263 - accuracy: 0.1836 - val_loss: 2.1807 - val_accuracy: 0.1523\n",
      "Epoch 40/100\n",
      "8/8 [==============================] - 1s 81ms/step - loss: 2.1478 - accuracy: 0.2028 - val_loss: 2.1725 - val_accuracy: 0.2227\n",
      "Epoch 41/100\n",
      "8/8 [==============================] - 1s 82ms/step - loss: 2.1361 - accuracy: 0.2452 - val_loss: 2.1574 - val_accuracy: 0.2091\n",
      "Epoch 42/100\n",
      "8/8 [==============================] - 1s 81ms/step - loss: 2.0995 - accuracy: 0.1833 - val_loss: 2.1107 - val_accuracy: 0.1932\n",
      "Epoch 43/100\n",
      "8/8 [==============================] - 1s 80ms/step - loss: 2.0736 - accuracy: 0.1773 - val_loss: 2.1515 - val_accuracy: 0.1932\n",
      "Epoch 44/100\n",
      "8/8 [==============================] - 1s 82ms/step - loss: 2.0606 - accuracy: 0.1790 - val_loss: 2.0695 - val_accuracy: 0.1682\n",
      "Epoch 45/100\n",
      "8/8 [==============================] - 1s 81ms/step - loss: 2.0351 - accuracy: 0.1833 - val_loss: 2.0613 - val_accuracy: 0.1682\n",
      "Epoch 46/100\n",
      "8/8 [==============================] - 1s 80ms/step - loss: 2.0247 - accuracy: 0.1833 - val_loss: 2.0544 - val_accuracy: 0.1682\n",
      "Epoch 47/100\n",
      "8/8 [==============================] - 1s 84ms/step - loss: 2.0168 - accuracy: 0.1833 - val_loss: 2.0455 - val_accuracy: 0.1682\n",
      "Epoch 48/100\n",
      "8/8 [==============================] - 1s 81ms/step - loss: 2.0099 - accuracy: 0.1833 - val_loss: 2.0394 - val_accuracy: 0.1682\n",
      "Epoch 49/100\n",
      "8/8 [==============================] - 1s 79ms/step - loss: 2.0050 - accuracy: 0.1836 - val_loss: 2.0345 - val_accuracy: 0.1682\n",
      "Epoch 50/100\n",
      "8/8 [==============================] - 1s 83ms/step - loss: 2.0013 - accuracy: 0.1838 - val_loss: 2.0341 - val_accuracy: 0.1682\n",
      "Epoch 51/100\n",
      "8/8 [==============================] - 1s 82ms/step - loss: 2.0127 - accuracy: 0.1891 - val_loss: 2.0281 - val_accuracy: 0.1682\n",
      "Epoch 52/100\n",
      "8/8 [==============================] - 1s 80ms/step - loss: 1.9959 - accuracy: 0.1846 - val_loss: 2.0263 - val_accuracy: 0.1682\n",
      "Epoch 53/100\n",
      "8/8 [==============================] - 1s 82ms/step - loss: 1.9901 - accuracy: 0.1838 - val_loss: 2.0197 - val_accuracy: 0.1682\n",
      "Epoch 54/100\n",
      "8/8 [==============================] - 1s 83ms/step - loss: 1.9829 - accuracy: 0.1836 - val_loss: 2.0124 - val_accuracy: 0.1682\n",
      "Epoch 55/100\n",
      "8/8 [==============================] - 1s 82ms/step - loss: 1.9770 - accuracy: 0.1843 - val_loss: 2.0064 - val_accuracy: 0.1682\n",
      "Epoch 56/100\n",
      "8/8 [==============================] - 1s 80ms/step - loss: 1.9750 - accuracy: 0.1846 - val_loss: 2.0106 - val_accuracy: 0.1795\n",
      "Epoch 57/100\n",
      "8/8 [==============================] - 1s 81ms/step - loss: 1.9724 - accuracy: 0.1866 - val_loss: 2.0468 - val_accuracy: 0.1682\n",
      "Epoch 58/100\n",
      "8/8 [==============================] - 1s 82ms/step - loss: 1.9812 - accuracy: 0.1917 - val_loss: 2.0080 - val_accuracy: 0.1682\n",
      "Epoch 59/100\n",
      "8/8 [==============================] - 1s 80ms/step - loss: 1.9686 - accuracy: 0.1859 - val_loss: 1.9955 - val_accuracy: 0.1682\n",
      "Epoch 60/100\n",
      "8/8 [==============================] - 1s 81ms/step - loss: 1.9616 - accuracy: 0.1871 - val_loss: 1.9904 - val_accuracy: 0.1682\n",
      "Epoch 61/100\n",
      "8/8 [==============================] - 1s 80ms/step - loss: 1.9548 - accuracy: 0.1874 - val_loss: 1.9849 - val_accuracy: 0.1682\n",
      "Epoch 62/100\n",
      "8/8 [==============================] - 1s 82ms/step - loss: 1.9504 - accuracy: 0.1871 - val_loss: 1.9807 - val_accuracy: 0.1727\n",
      "Epoch 63/100\n",
      "8/8 [==============================] - 1s 81ms/step - loss: 1.9588 - accuracy: 0.1960 - val_loss: 1.9953 - val_accuracy: 0.1886\n",
      "Epoch 64/100\n",
      "8/8 [==============================] - 1s 83ms/step - loss: 1.9536 - accuracy: 0.1886 - val_loss: 1.9800 - val_accuracy: 0.1727\n",
      "Epoch 65/100\n",
      "8/8 [==============================] - 1s 82ms/step - loss: 1.9417 - accuracy: 0.1917 - val_loss: 1.9723 - val_accuracy: 0.1682\n",
      "Epoch 66/100\n",
      "8/8 [==============================] - 1s 81ms/step - loss: 1.9444 - accuracy: 0.1927 - val_loss: 1.9703 - val_accuracy: 0.1955\n",
      "Epoch 67/100\n",
      "8/8 [==============================] - 1s 80ms/step - loss: 1.9417 - accuracy: 0.1907 - val_loss: 1.9736 - val_accuracy: 0.1795\n",
      "Epoch 68/100\n",
      "8/8 [==============================] - 1s 80ms/step - loss: 1.9388 - accuracy: 0.1881 - val_loss: 1.9670 - val_accuracy: 0.1864\n",
      "Epoch 69/100\n",
      "8/8 [==============================] - 1s 81ms/step - loss: 1.9298 - accuracy: 0.1914 - val_loss: 1.9609 - val_accuracy: 0.1818\n",
      "Epoch 70/100\n",
      "8/8 [==============================] - 1s 82ms/step - loss: 1.9467 - accuracy: 0.1995 - val_loss: 1.9674 - val_accuracy: 0.2068\n",
      "Epoch 71/100\n",
      "8/8 [==============================] - 1s 82ms/step - loss: 2.4955 - accuracy: 0.1773 - val_loss: 2.5843 - val_accuracy: 0.0773\n",
      "Epoch 72/100\n",
      "8/8 [==============================] - 1s 83ms/step - loss: 2.5484 - accuracy: 0.0902 - val_loss: 2.5020 - val_accuracy: 0.0773\n",
      "Epoch 73/100\n",
      "8/8 [==============================] - 1s 82ms/step - loss: 2.5250 - accuracy: 0.0924 - val_loss: 2.4886 - val_accuracy: 0.0773\n",
      "Epoch 74/100\n",
      "8/8 [==============================] - 1s 82ms/step - loss: 2.5090 - accuracy: 0.0924 - val_loss: 2.4759 - val_accuracy: 0.0773\n",
      "Epoch 75/100\n",
      "8/8 [==============================] - 1s 82ms/step - loss: 2.4948 - accuracy: 0.0924 - val_loss: 2.4655 - val_accuracy: 0.0773\n",
      "Epoch 76/100\n",
      "8/8 [==============================] - 1s 82ms/step - loss: 2.4828 - accuracy: 0.0924 - val_loss: 2.4571 - val_accuracy: 0.0773\n",
      "Epoch 77/100\n",
      "8/8 [==============================] - 1s 81ms/step - loss: 2.4732 - accuracy: 0.0909 - val_loss: 2.4501 - val_accuracy: 0.0818\n",
      "Epoch 78/100\n",
      "8/8 [==============================] - 1s 81ms/step - loss: 2.4652 - accuracy: 0.0919 - val_loss: 2.4443 - val_accuracy: 0.0818\n",
      "Epoch 79/100\n",
      "8/8 [==============================] - 1s 82ms/step - loss: 2.4582 - accuracy: 0.0919 - val_loss: 2.4395 - val_accuracy: 0.0818\n",
      "Epoch 80/100\n",
      "8/8 [==============================] - 1s 81ms/step - loss: 2.4525 - accuracy: 0.0919 - val_loss: 2.4353 - val_accuracy: 0.0818\n",
      "Epoch 81/100\n",
      "8/8 [==============================] - 1s 82ms/step - loss: 2.4473 - accuracy: 0.0919 - val_loss: 2.4317 - val_accuracy: 0.0818\n",
      "Epoch 82/100\n",
      "8/8 [==============================] - 1s 80ms/step - loss: 2.4429 - accuracy: 0.0919 - val_loss: 2.4286 - val_accuracy: 0.0818\n",
      "Epoch 83/100\n",
      "8/8 [==============================] - 1s 84ms/step - loss: 2.4391 - accuracy: 0.0919 - val_loss: 2.4259 - val_accuracy: 0.0818\n",
      "Epoch 84/100\n",
      "8/8 [==============================] - 1s 80ms/step - loss: 2.4356 - accuracy: 0.0919 - val_loss: 2.4236 - val_accuracy: 0.0818\n",
      "Epoch 85/100\n",
      "8/8 [==============================] - 1s 81ms/step - loss: 2.4325 - accuracy: 0.0919 - val_loss: 2.4215 - val_accuracy: 0.0818\n",
      "Epoch 86/100\n",
      "8/8 [==============================] - 1s 80ms/step - loss: 2.4297 - accuracy: 0.0919 - val_loss: 2.4197 - val_accuracy: 0.0818\n",
      "Epoch 87/100\n",
      "8/8 [==============================] - 1s 80ms/step - loss: 2.4273 - accuracy: 0.0919 - val_loss: 2.4181 - val_accuracy: 0.0818\n",
      "Epoch 88/100\n",
      "8/8 [==============================] - 1s 79ms/step - loss: 2.4251 - accuracy: 0.0919 - val_loss: 2.4165 - val_accuracy: 0.0818\n",
      "Epoch 89/100\n",
      "8/8 [==============================] - 1s 81ms/step - loss: 2.4231 - accuracy: 0.0919 - val_loss: 2.4152 - val_accuracy: 0.0818\n",
      "Epoch 90/100\n",
      "8/8 [==============================] - 1s 82ms/step - loss: 2.4212 - accuracy: 0.0919 - val_loss: 2.4140 - val_accuracy: 0.0818\n",
      "Epoch 91/100\n",
      "8/8 [==============================] - 1s 81ms/step - loss: 2.4196 - accuracy: 0.0919 - val_loss: 2.4130 - val_accuracy: 0.0818\n",
      "Epoch 92/100\n",
      "8/8 [==============================] - 1s 81ms/step - loss: 2.4181 - accuracy: 0.0919 - val_loss: 2.4120 - val_accuracy: 0.0818\n",
      "Epoch 93/100\n",
      "8/8 [==============================] - 1s 80ms/step - loss: 2.4167 - accuracy: 0.0919 - val_loss: 2.4111 - val_accuracy: 0.0818\n",
      "Epoch 94/100\n",
      "8/8 [==============================] - 1s 80ms/step - loss: 2.4153 - accuracy: 0.0919 - val_loss: 2.4104 - val_accuracy: 0.0818\n",
      "Epoch 95/100\n",
      "8/8 [==============================] - 1s 81ms/step - loss: 2.4142 - accuracy: 0.0919 - val_loss: 2.4097 - val_accuracy: 0.0818\n",
      "Epoch 96/100\n",
      "8/8 [==============================] - 1s 82ms/step - loss: 2.4132 - accuracy: 0.0919 - val_loss: 2.4090 - val_accuracy: 0.0818\n",
      "Epoch 97/100\n",
      "8/8 [==============================] - 1s 81ms/step - loss: 2.4121 - accuracy: 0.0919 - val_loss: 2.4085 - val_accuracy: 0.0818\n",
      "Epoch 98/100\n",
      "8/8 [==============================] - 1s 81ms/step - loss: 2.4112 - accuracy: 0.0919 - val_loss: 2.4079 - val_accuracy: 0.0818\n",
      "Epoch 99/100\n",
      "8/8 [==============================] - 1s 80ms/step - loss: 2.4104 - accuracy: 0.0919 - val_loss: 2.4074 - val_accuracy: 0.0818\n",
      "Epoch 100/100\n",
      "8/8 [==============================] - 1s 81ms/step - loss: 2.4096 - accuracy: 0.0919 - val_loss: 2.4070 - val_accuracy: 0.0818\n",
      "35/35 [==============================] - 0s 5ms/step - loss: 2.4089 - accuracy: 0.0909\n"
     ]
    },
    {
     "data": {
      "image/png": "[encoded data removed]",
      "text/plain": [
       "<Figure size 504x432 with 2 Axes>"
      ]
     },
     "metadata": {
      "needs_background": "light"
     },
     "output_type": "display_data"
    },
    {
     "name": "stdout",
     "output_type": "stream",
     "text": [
      "Precision:0.00826\n",
      "Recall:0.0909\n",
      "F1_score:0.0152\n",
      "              precision    recall  f1-score   support\n",
      "\n",
      "           0       0.00      0.00      0.00       100\n",
      "           1       0.00      0.00      0.00       100\n",
      "           2       0.00      0.00      0.00       100\n",
      "           3       0.00      0.00      0.00       100\n",
      "           4       0.00      0.00      0.00       100\n",
      "           5       0.00      0.00      0.00       100\n",
      "           6       0.00      0.00      0.00       100\n",
      "           7       0.00      0.00      0.00       100\n",
      "           8       0.09      1.00      0.17       100\n",
      "           9       0.00      0.00      0.00       100\n",
      "          10       0.00      0.00      0.00       100\n",
      "\n",
      "    accuracy                           0.09      1100\n",
      "   macro avg       0.01      0.09      0.02      1100\n",
      "weighted avg       0.01      0.09      0.02      1100\n",
      "\n",
      "Epoch 1/100\n",
      "8/8 [==============================] - 1s 104ms/step - loss: 2.3998 - accuracy: 0.0894 - val_loss: 2.3981 - val_accuracy: 0.1568\n",
      "Epoch 2/100\n",
      "8/8 [==============================] - 1s 82ms/step - loss: 2.3979 - accuracy: 0.0942 - val_loss: 2.3980 - val_accuracy: 0.1886\n",
      "Epoch 3/100\n",
      "8/8 [==============================] - 1s 84ms/step - loss: 2.3976 - accuracy: 0.1253 - val_loss: 2.3977 - val_accuracy: 0.0909\n",
      "Epoch 4/100\n",
      "8/8 [==============================] - 1s 82ms/step - loss: 2.3967 - accuracy: 0.1164 - val_loss: 2.3959 - val_accuracy: 0.1568\n",
      "Epoch 5/100\n",
      "8/8 [==============================] - 1s 81ms/step - loss: 2.3958 - accuracy: 0.1280 - val_loss: 2.3968 - val_accuracy: 0.0886\n",
      "Epoch 6/100\n",
      "8/8 [==============================] - 1s 83ms/step - loss: 2.3919 - accuracy: 0.1480 - val_loss: 2.3816 - val_accuracy: 0.1523\n",
      "Epoch 7/100\n",
      "8/8 [==============================] - 1s 81ms/step - loss: 2.3739 - accuracy: 0.1636 - val_loss: 2.3419 - val_accuracy: 0.1614\n",
      "Epoch 8/100\n",
      "8/8 [==============================] - 1s 81ms/step - loss: 2.3336 - accuracy: 0.1854 - val_loss: 2.3029 - val_accuracy: 0.1614\n",
      "Epoch 9/100\n",
      "8/8 [==============================] - 1s 82ms/step - loss: 2.2985 - accuracy: 0.1851 - val_loss: 2.2600 - val_accuracy: 0.1614\n",
      "Epoch 10/100\n",
      "8/8 [==============================] - 1s 82ms/step - loss: 2.2617 - accuracy: 0.1745 - val_loss: 2.2405 - val_accuracy: 0.1614\n",
      "Epoch 11/100\n",
      "8/8 [==============================] - 1s 82ms/step - loss: 2.2745 - accuracy: 0.1788 - val_loss: 2.2422 - val_accuracy: 0.1614\n",
      "Epoch 12/100\n",
      "8/8 [==============================] - 1s 81ms/step - loss: 2.3275 - accuracy: 0.1932 - val_loss: 2.2887 - val_accuracy: 0.1614\n",
      "Epoch 13/100\n",
      "8/8 [==============================] - 1s 83ms/step - loss: 2.2532 - accuracy: 0.1841 - val_loss: 2.1909 - val_accuracy: 0.1614\n",
      "Epoch 14/100\n",
      "8/8 [==============================] - 1s 81ms/step - loss: 2.1798 - accuracy: 0.1841 - val_loss: 2.1429 - val_accuracy: 0.1614\n",
      "Epoch 15/100\n",
      "8/8 [==============================] - 1s 82ms/step - loss: 2.1504 - accuracy: 0.1841 - val_loss: 2.1562 - val_accuracy: 0.1614\n",
      "Epoch 16/100\n",
      "8/8 [==============================] - 1s 81ms/step - loss: 2.1249 - accuracy: 0.1841 - val_loss: 2.1064 - val_accuracy: 0.1614\n",
      "Epoch 17/100\n",
      "8/8 [==============================] - 1s 80ms/step - loss: 2.0859 - accuracy: 0.1841 - val_loss: 2.0758 - val_accuracy: 0.1614\n",
      "Epoch 18/100\n",
      "8/8 [==============================] - 1s 80ms/step - loss: 2.0610 - accuracy: 0.1841 - val_loss: 2.0295 - val_accuracy: 0.1614\n",
      "Epoch 19/100\n",
      "8/8 [==============================] - 1s 81ms/step - loss: 2.0295 - accuracy: 0.1841 - val_loss: 2.0117 - val_accuracy: 0.1614\n",
      "Epoch 20/100\n",
      "8/8 [==============================] - 1s 81ms/step - loss: 2.0081 - accuracy: 0.1841 - val_loss: 1.9869 - val_accuracy: 0.1614\n",
      "Epoch 21/100\n",
      "8/8 [==============================] - 1s 81ms/step - loss: 1.9867 - accuracy: 0.1841 - val_loss: 1.9661 - val_accuracy: 0.1614\n",
      "Epoch 22/100\n",
      "8/8 [==============================] - 1s 80ms/step - loss: 1.9664 - accuracy: 0.1841 - val_loss: 1.9697 - val_accuracy: 0.1091\n",
      "Epoch 23/100\n",
      "8/8 [==============================] - 1s 82ms/step - loss: 2.0200 - accuracy: 0.1763 - val_loss: 2.0824 - val_accuracy: 0.1614\n",
      "Epoch 24/100\n",
      "8/8 [==============================] - 1s 80ms/step - loss: 2.0072 - accuracy: 0.1894 - val_loss: 1.9988 - val_accuracy: 0.1614\n",
      "Epoch 25/100\n",
      "8/8 [==============================] - 1s 82ms/step - loss: 1.9554 - accuracy: 0.1894 - val_loss: 1.9182 - val_accuracy: 0.1614\n",
      "Epoch 26/100\n",
      "8/8 [==============================] - 1s 81ms/step - loss: 1.9233 - accuracy: 0.1841 - val_loss: 1.9107 - val_accuracy: 0.1614\n",
      "Epoch 27/100\n",
      "8/8 [==============================] - 1s 83ms/step - loss: 1.8983 - accuracy: 0.1841 - val_loss: 1.8816 - val_accuracy: 0.1614\n",
      "Epoch 28/100\n",
      "8/8 [==============================] - 1s 81ms/step - loss: 1.8802 - accuracy: 0.1841 - val_loss: 1.8578 - val_accuracy: 0.1614\n",
      "Epoch 29/100\n",
      "8/8 [==============================] - 1s 83ms/step - loss: 1.8589 - accuracy: 0.1841 - val_loss: 1.8420 - val_accuracy: 0.1614\n",
      "Epoch 30/100\n",
      "8/8 [==============================] - 1s 82ms/step - loss: 1.8421 - accuracy: 0.1841 - val_loss: 1.8294 - val_accuracy: 0.1614\n",
      "Epoch 31/100\n",
      "8/8 [==============================] - 1s 82ms/step - loss: 1.8266 - accuracy: 0.1841 - val_loss: 1.8089 - val_accuracy: 0.1614\n",
      "Epoch 32/100\n",
      "8/8 [==============================] - 1s 81ms/step - loss: 1.8105 - accuracy: 0.1841 - val_loss: 1.7952 - val_accuracy: 0.1614\n",
      "Epoch 33/100\n",
      "8/8 [==============================] - 1s 82ms/step - loss: 1.7963 - accuracy: 0.1841 - val_loss: 1.7817 - val_accuracy: 0.1614\n",
      "Epoch 34/100\n",
      "8/8 [==============================] - 1s 81ms/step - loss: 1.7820 - accuracy: 0.1841 - val_loss: 1.7690 - val_accuracy: 0.1614\n",
      "Epoch 35/100\n",
      "8/8 [==============================] - 1s 81ms/step - loss: 1.7698 - accuracy: 0.1823 - val_loss: 1.7584 - val_accuracy: 0.1568\n",
      "Epoch 36/100\n",
      "8/8 [==============================] - 1s 82ms/step - loss: 1.7560 - accuracy: 0.1846 - val_loss: 1.7454 - val_accuracy: 0.1568\n",
      "Epoch 37/100\n",
      "8/8 [==============================] - 1s 82ms/step - loss: 1.7514 - accuracy: 0.1864 - val_loss: 1.7392 - val_accuracy: 0.1568\n",
      "Epoch 38/100\n",
      "8/8 [==============================] - 1s 84ms/step - loss: 1.7395 - accuracy: 0.1836 - val_loss: 1.7301 - val_accuracy: 0.1568\n",
      "Epoch 39/100\n",
      "8/8 [==============================] - 1s 79ms/step - loss: 1.7280 - accuracy: 0.1846 - val_loss: 1.7177 - val_accuracy: 0.1568\n",
      "Epoch 40/100\n",
      "8/8 [==============================] - 1s 80ms/step - loss: 1.7206 - accuracy: 0.1848 - val_loss: 1.7228 - val_accuracy: 0.1568\n",
      "Epoch 41/100\n",
      "8/8 [==============================] - 1s 79ms/step - loss: 1.7277 - accuracy: 0.1879 - val_loss: 1.8135 - val_accuracy: 0.1568\n",
      "Epoch 42/100\n",
      "8/8 [==============================] - 1s 83ms/step - loss: 1.7247 - accuracy: 0.1932 - val_loss: 1.7112 - val_accuracy: 0.1568\n",
      "Epoch 43/100\n",
      "8/8 [==============================] - 1s 81ms/step - loss: 1.7183 - accuracy: 0.1884 - val_loss: 1.7224 - val_accuracy: 0.1705\n",
      "Epoch 44/100\n",
      "8/8 [==============================] - 1s 81ms/step - loss: 1.7725 - accuracy: 0.1975 - val_loss: 1.7600 - val_accuracy: 0.2068\n",
      "Epoch 45/100\n",
      "8/8 [==============================] - 1s 80ms/step - loss: 1.7842 - accuracy: 0.2240 - val_loss: 1.9068 - val_accuracy: 0.1568\n",
      "Epoch 46/100\n",
      "8/8 [==============================] - 1s 82ms/step - loss: 1.7529 - accuracy: 0.2063 - val_loss: 1.6925 - val_accuracy: 0.2864\n",
      "Epoch 47/100\n",
      "8/8 [==============================] - 1s 84ms/step - loss: 1.7095 - accuracy: 0.2240 - val_loss: 1.6762 - val_accuracy: 0.1886\n",
      "Epoch 48/100\n",
      "8/8 [==============================] - 1s 80ms/step - loss: 1.6812 - accuracy: 0.2071 - val_loss: 1.6733 - val_accuracy: 0.1955\n",
      "Epoch 49/100\n",
      "8/8 [==============================] - 1s 80ms/step - loss: 1.6714 - accuracy: 0.2078 - val_loss: 1.6618 - val_accuracy: 0.1841\n",
      "Epoch 50/100\n",
      "8/8 [==============================] - 1s 82ms/step - loss: 1.6661 - accuracy: 0.1987 - val_loss: 1.6542 - val_accuracy: 0.1682\n",
      "Epoch 51/100\n",
      "8/8 [==============================] - 1s 81ms/step - loss: 1.6648 - accuracy: 0.2033 - val_loss: 1.6535 - val_accuracy: 0.1591\n",
      "Epoch 52/100\n",
      "8/8 [==============================] - 1s 80ms/step - loss: 1.6565 - accuracy: 0.2015 - val_loss: 1.6524 - val_accuracy: 0.1636\n",
      "Epoch 53/100\n",
      "8/8 [==============================] - 1s 83ms/step - loss: 1.6521 - accuracy: 0.2013 - val_loss: 1.6392 - val_accuracy: 0.2068\n",
      "Epoch 54/100\n",
      "8/8 [==============================] - 1s 81ms/step - loss: 1.6436 - accuracy: 0.2225 - val_loss: 1.6390 - val_accuracy: 0.2205\n",
      "Epoch 55/100\n",
      "8/8 [==============================] - 1s 80ms/step - loss: 1.6509 - accuracy: 0.2210 - val_loss: 1.6410 - val_accuracy: 0.1636\n",
      "Epoch 56/100\n",
      "8/8 [==============================] - 1s 82ms/step - loss: 1.6619 - accuracy: 0.2053 - val_loss: 1.6419 - val_accuracy: 0.1614\n",
      "Epoch 57/100\n",
      "8/8 [==============================] - 1s 81ms/step - loss: 1.6499 - accuracy: 0.2301 - val_loss: 1.6448 - val_accuracy: 0.2455\n",
      "Epoch 58/100\n",
      "8/8 [==============================] - 1s 81ms/step - loss: 1.6443 - accuracy: 0.2399 - val_loss: 1.6229 - val_accuracy: 0.2386\n",
      "Epoch 59/100\n",
      "8/8 [==============================] - 1s 80ms/step - loss: 1.6298 - accuracy: 0.2578 - val_loss: 1.6175 - val_accuracy: 0.2250\n",
      "Epoch 60/100\n",
      "8/8 [==============================] - 1s 83ms/step - loss: 1.6300 - accuracy: 0.2298 - val_loss: 1.8046 - val_accuracy: 0.1659\n",
      "Epoch 61/100\n",
      "8/8 [==============================] - 1s 81ms/step - loss: 1.6483 - accuracy: 0.2359 - val_loss: 1.6176 - val_accuracy: 0.2068\n",
      "Epoch 62/100\n",
      "8/8 [==============================] - 1s 81ms/step - loss: 1.6343 - accuracy: 0.2298 - val_loss: 1.6508 - val_accuracy: 0.2614\n",
      "Epoch 63/100\n",
      "8/8 [==============================] - 1s 81ms/step - loss: 1.6283 - accuracy: 0.2470 - val_loss: 1.6073 - val_accuracy: 0.2614\n",
      "Epoch 64/100\n",
      "8/8 [==============================] - 1s 80ms/step - loss: 1.6110 - accuracy: 0.2583 - val_loss: 1.6050 - val_accuracy: 0.2000\n",
      "Epoch 65/100\n",
      "8/8 [==============================] - 1s 83ms/step - loss: 1.6063 - accuracy: 0.2318 - val_loss: 1.5943 - val_accuracy: 0.2159\n",
      "Epoch 66/100\n",
      "8/8 [==============================] - 1s 82ms/step - loss: 1.6473 - accuracy: 0.2409 - val_loss: 1.8276 - val_accuracy: 0.1568\n",
      "Epoch 67/100\n",
      "8/8 [==============================] - 1s 81ms/step - loss: 1.6564 - accuracy: 0.2470 - val_loss: 1.6002 - val_accuracy: 0.2705\n",
      "Epoch 68/100\n",
      "8/8 [==============================] - 1s 83ms/step - loss: 1.6107 - accuracy: 0.2768 - val_loss: 1.5939 - val_accuracy: 0.2614\n",
      "Epoch 69/100\n",
      "8/8 [==============================] - 1s 81ms/step - loss: 1.6035 - accuracy: 0.2684 - val_loss: 1.5877 - val_accuracy: 0.2727\n",
      "Epoch 70/100\n",
      "8/8 [==============================] - 1s 79ms/step - loss: 1.5932 - accuracy: 0.2631 - val_loss: 1.5844 - val_accuracy: 0.2136\n",
      "Epoch 71/100\n",
      "8/8 [==============================] - 1s 80ms/step - loss: 1.6006 - accuracy: 0.2472 - val_loss: 1.6047 - val_accuracy: 0.3182\n",
      "Epoch 72/100\n",
      "8/8 [==============================] - 1s 83ms/step - loss: 1.6019 - accuracy: 0.2649 - val_loss: 1.5829 - val_accuracy: 0.2795\n",
      "Epoch 73/100\n",
      "8/8 [==============================] - 1s 81ms/step - loss: 1.5972 - accuracy: 0.2616 - val_loss: 1.5934 - val_accuracy: 0.2614\n",
      "Epoch 74/100\n",
      "8/8 [==============================] - 1s 82ms/step - loss: 1.5927 - accuracy: 0.2720 - val_loss: 1.5741 - val_accuracy: 0.2955\n",
      "Epoch 75/100\n",
      "8/8 [==============================] - 1s 82ms/step - loss: 1.5888 - accuracy: 0.2641 - val_loss: 1.5885 - val_accuracy: 0.1818\n",
      "Epoch 76/100\n",
      "8/8 [==============================] - 1s 81ms/step - loss: 1.5867 - accuracy: 0.2699 - val_loss: 1.5747 - val_accuracy: 0.2250\n",
      "Epoch 77/100\n",
      "8/8 [==============================] - 1s 82ms/step - loss: 1.5761 - accuracy: 0.2793 - val_loss: 1.5658 - val_accuracy: 0.2545\n",
      "Epoch 78/100\n",
      "8/8 [==============================] - 1s 82ms/step - loss: 1.5723 - accuracy: 0.2851 - val_loss: 1.5667 - val_accuracy: 0.2159\n",
      "Epoch 79/100\n",
      "8/8 [==============================] - 1s 81ms/step - loss: 1.5785 - accuracy: 0.2715 - val_loss: 1.5935 - val_accuracy: 0.1614\n",
      "Epoch 80/100\n",
      "8/8 [==============================] - 1s 80ms/step - loss: 1.5902 - accuracy: 0.2780 - val_loss: 1.5587 - val_accuracy: 0.3159\n",
      "Epoch 81/100\n",
      "8/8 [==============================] - 1s 82ms/step - loss: 1.6079 - accuracy: 0.2682 - val_loss: 1.5934 - val_accuracy: 0.3318\n",
      "Epoch 82/100\n",
      "8/8 [==============================] - 1s 82ms/step - loss: 1.6368 - accuracy: 0.2826 - val_loss: 1.5961 - val_accuracy: 0.2364\n",
      "Epoch 83/100\n",
      "8/8 [==============================] - 1s 81ms/step - loss: 1.6218 - accuracy: 0.2843 - val_loss: 1.6613 - val_accuracy: 0.3114\n",
      "Epoch 84/100\n",
      "8/8 [==============================] - 1s 83ms/step - loss: 1.5927 - accuracy: 0.2869 - val_loss: 1.6184 - val_accuracy: 0.3227\n",
      "Epoch 85/100\n",
      "8/8 [==============================] - 1s 82ms/step - loss: 1.5770 - accuracy: 0.3225 - val_loss: 1.5571 - val_accuracy: 0.3273\n",
      "Epoch 86/100\n",
      "8/8 [==============================] - 1s 81ms/step - loss: 1.5606 - accuracy: 0.3164 - val_loss: 1.5595 - val_accuracy: 0.2705\n",
      "Epoch 87/100\n",
      "8/8 [==============================] - 1s 82ms/step - loss: 1.5816 - accuracy: 0.2808 - val_loss: 1.5618 - val_accuracy: 0.3205\n",
      "Epoch 88/100\n",
      "8/8 [==============================] - 1s 81ms/step - loss: 1.5680 - accuracy: 0.3285 - val_loss: 1.5495 - val_accuracy: 0.2750\n",
      "Epoch 89/100\n",
      "8/8 [==============================] - 1s 82ms/step - loss: 1.5641 - accuracy: 0.2621 - val_loss: 1.5933 - val_accuracy: 0.1636\n",
      "Epoch 90/100\n",
      "8/8 [==============================] - 1s 82ms/step - loss: 1.5753 - accuracy: 0.3293 - val_loss: 1.5609 - val_accuracy: 0.2864\n",
      "Epoch 91/100\n",
      "8/8 [==============================] - 1s 82ms/step - loss: 1.5625 - accuracy: 0.2987 - val_loss: 1.5548 - val_accuracy: 0.2545\n",
      "Epoch 92/100\n",
      "8/8 [==============================] - 1s 81ms/step - loss: 1.5615 - accuracy: 0.2725 - val_loss: 1.6082 - val_accuracy: 0.1636\n",
      "Epoch 93/100\n",
      "8/8 [==============================] - 1s 81ms/step - loss: 1.5803 - accuracy: 0.3030 - val_loss: 1.5641 - val_accuracy: 0.2136\n",
      "Epoch 94/100\n",
      "8/8 [==============================] - 1s 80ms/step - loss: 1.5548 - accuracy: 0.3184 - val_loss: 1.5572 - val_accuracy: 0.2409\n",
      "Epoch 95/100\n",
      "8/8 [==============================] - 1s 83ms/step - loss: 1.5541 - accuracy: 0.3035 - val_loss: 1.5664 - val_accuracy: 0.1909\n",
      "Epoch 96/100\n",
      "8/8 [==============================] - 1s 81ms/step - loss: 1.5502 - accuracy: 0.3306 - val_loss: 1.5382 - val_accuracy: 0.2636\n",
      "Epoch 97/100\n",
      "8/8 [==============================] - 1s 81ms/step - loss: 1.5407 - accuracy: 0.3091 - val_loss: 1.5270 - val_accuracy: 0.3205\n",
      "Epoch 98/100\n",
      "8/8 [==============================] - 1s 82ms/step - loss: 1.5486 - accuracy: 0.3144 - val_loss: 1.5474 - val_accuracy: 0.3432\n",
      "Epoch 99/100\n",
      "8/8 [==============================] - 1s 83ms/step - loss: 1.5398 - accuracy: 0.3497 - val_loss: 1.5471 - val_accuracy: 0.2705\n",
      "Epoch 100/100\n",
      "8/8 [==============================] - 1s 82ms/step - loss: 1.5385 - accuracy: 0.3263 - val_loss: 1.5214 - val_accuracy: 0.3000\n",
      "35/35 [==============================] - 0s 5ms/step - loss: 1.5468 - accuracy: 0.3127\n"
     ]
    },
    {
     "data": {
      "image/png": "[encoded data removed]",
      "text/plain": [
       "<Figure size 504x432 with 2 Axes>"
      ]
     },
     "metadata": {
      "needs_background": "light"
     },
     "output_type": "display_data"
    },
    {
     "name": "stdout",
     "output_type": "stream",
     "text": [
      "Precision:0.237\n",
      "Recall:0.313\n",
      "F1_score:0.235\n",
      "              precision    recall  f1-score   support\n",
      "\n",
      "           0       0.50      1.00      0.67       100\n",
      "           1       0.01      0.01      0.01       100\n",
      "           2       0.00      0.00      0.00       100\n",
      "           3       0.93      0.52      0.67       100\n",
      "           4       1.00      0.91      0.95       100\n",
      "           5       0.00      0.00      0.00       100\n",
      "           6       0.00      0.00      0.00       100\n",
      "           7       0.17      1.00      0.28       100\n",
      "           8       0.00      0.00      0.00       100\n",
      "           9       0.00      0.00      0.00       100\n",
      "          10       0.00      0.00      0.00       100\n",
      "\n",
      "    accuracy                           0.31      1100\n",
      "   macro avg       0.24      0.31      0.23      1100\n",
      "weighted avg       0.24      0.31      0.23      1100\n",
      "\n",
      "\n",
      "K-fold cross validation Accuracy: ['0.0909', '0.0909', '0.0909', '0.0909', '0.3127']\n"
     ]
    }
   ],
   "source": [
    "# 주어진 데이터를 학습 데이터와 테스트 데이터로 분리\n",
    "skf = StratifiedKFold(n_splits=5, random_state=42, shuffle=True)\n",
    "\n",
    "accuracy = []\n",
    "\n",
    "for train, validation in skf.split(x,y):\n",
    "    model = keras.Sequential()\n",
    "    model.add(Conv1D(16, 9, activation='relu', input_shape=(len(x[0]),1)))\n",
    "    model.add(Conv1D(16, 9, activation='relu'))\n",
    "    model.add(Conv1D(32, 9, activation='relu'))\n",
    "    model.add(Conv1D(32, 9, activation='relu'))\n",
    "    model.add(Conv1D(32, 9, activation='relu'))\n",
    "    model.add(Conv1D(32, 9, activation='relu'))\n",
    "    model.add(Conv1D(32, 9, activation='relu'))\n",
    "    model.add(Flatten())\n",
    "    model.add(Dense(10, activation='relu'))\n",
    "    model.add(Dense(10, activation='relu'))\n",
    "    model.add(Dense(10, activation='relu'))\n",
    "    model.add(Dense(11, activation=\"softmax\"))\n",
    "    model.compile(loss='sparse_categorical_crossentropy', optimizer='adam', metrics=['accuracy'])\n",
    "  #model.summary()\n",
    "\n",
    "  # 학습 데이터를 이용해서 학습\n",
    "    hist = model.fit(x[train], y[train], epochs=100, batch_size=512, verbose=1, validation_split=0.1)  \n",
    "\n",
    "  # 테스트 데이터를 이용해서 검증\n",
    "    k_accuracy = '%.4f' % (model.evaluate(x[validation], y[validation])[1])\n",
    "    accuracy.append(k_accuracy)\n",
    "  \n",
    "  #confusion matrix\n",
    "    y_ = model.predict(x[validation])\n",
    "    predicted = np.argmax(y_, axis = -1)\n",
    "\n",
    "    classes = ['class1', 'class2', 'class3', 'class4', 'class5', 'class6', 'class7','class8', 'class9', 'class10','class11' ]\n",
    "    conf_mat = confusion_matrix(y[validation], predicted)\n",
    "    fig, ax = plt.subplots(figsize=(7,6))\n",
    "    plt.setp(ax.get_xticklabels(), rotation=45, ha=\"right\", rotation_mode=\"anchor\")\n",
    "    plt.title('Confusion matrix')\n",
    "    plt.ylabel('Actual label')\n",
    "    plt.xlabel('Predicted label')\n",
    "    sns.heatmap(conf_mat, annot=True, fmt='d', xticklabels=classes, yticklabels=classes)\n",
    "    plt.show()\n",
    "\n",
    "  #정밀도, 재현도, f1-score\n",
    "    precision = precision_score(y[validation], predicted, average='weighted')\n",
    "    recall = recall_score(y[validation], predicted, average='weighted')\n",
    "    f1 = f1_score(y[validation], predicted, average='weighted')\n",
    "\n",
    "    print('Precision:{:.3}'.format(precision))\n",
    "    print('Recall:{:.3}'.format(recall))\n",
    "    print('F1_score:{:.3}'.format(f1))\n",
    "\n",
    "  #분류 보고서\n",
    "    print(classification_report(y[validation], predicted))\n",
    "\n",
    "# 전체 검증 결과 출력\n",
    "print('\\nK-fold cross validation Accuracy: {}'.format(accuracy))"
   ]
  },
  {
   "cell_type": "code",
   "execution_count": 23,
   "metadata": {
    "colab": {
     "base_uri": "https://localhost:8080/"
    },
    "id": "PeHHHEUhiJH5",
    "outputId": "6a2da373-e7a9-4eee-9e43-93c1f902b923"
   },
   "outputs": [
    {
     "data": {
      "text/plain": [
       "['0.0909', '0.0909', '0.0909', '0.0909', '0.3127']"
      ]
     },
     "execution_count": 23,
     "metadata": {},
     "output_type": "execute_result"
    }
   ],
   "source": [
    "accuracy"
   ]
  },
  {
   "cell_type": "code",
   "execution_count": 24,
   "metadata": {
    "colab": {
     "base_uri": "https://localhost:8080/"
    },
    "id": "dx86ejQ616uZ",
    "outputId": "802bfc0c-f28c-42ce-ed88-6b911fc3d1ab"
   },
   "outputs": [
    {
     "data": {
      "text/plain": [
       "[0.0909, 0.0909, 0.0909, 0.0909, 0.3127]"
      ]
     },
     "execution_count": 24,
     "metadata": {},
     "output_type": "execute_result"
    }
   ],
   "source": [
    "acc = list(map(float, accuracy))\n",
    "acc"
   ]
  },
  {
   "cell_type": "code",
   "execution_count": 25,
   "metadata": {
    "id": "-f4pHhxY2APw"
   },
   "outputs": [
    {
     "data": {
      "text/plain": [
       "0.13526"
      ]
     },
     "execution_count": 25,
     "metadata": {},
     "output_type": "execute_result"
    }
   ],
   "source": [
    "np.mean(acc)"
   ]
  },
  {
   "cell_type": "code",
   "execution_count": null,
   "metadata": {},
   "outputs": [],
   "source": []
  }
 ],
 "metadata": {
  "accelerator": "GPU",
  "colab": {
   "collapsed_sections": [],
   "name": "★210914_1D-CNN_4000point_8736kDa_StratifiedKfold.ipynb",
   "provenance": []
  },
  "kernelspec": {
   "display_name": "Python 3",
   "language": "python",
   "name": "python3"
  },
  "language_info": {
   "codemirror_mode": {
    "name": "ipython",
    "version": 3
   },
   "file_extension": ".py",
   "mimetype": "text/x-python",
   "name": "python",
   "nbconvert_exporter": "python",
   "pygments_lexer": "ipython3",
   "version": "3.7.10"
  }
 },
 "nbformat": 4,
 "nbformat_minor": 1
}
