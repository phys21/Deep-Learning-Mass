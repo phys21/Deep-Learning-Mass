{
 "cells": [
  {
   "cell_type": "markdown",
   "metadata": {
    "id": "GavgmjDytAsf"
   },
   "source": [
    "# 데이터 로딩"
   ]
  },
  {
   "cell_type": "code",
   "execution_count": 1,
   "metadata": {
    "colab": {
     "base_uri": "https://localhost:8080/"
    },
    "id": "pUWSYQ9FNt_C",
    "outputId": "46237811-4e40-413a-9b28-e21cff94e8b8"
   },
   "outputs": [],
   "source": [
    "#from google.colab import drive\n",
    "#drive.mount('/content/drive')"
   ]
  },
  {
   "cell_type": "code",
   "execution_count": 2,
   "metadata": {},
   "outputs": [],
   "source": [
    "import warnings\n",
    "warnings.filterwarnings(action='ignore')"
   ]
  },
  {
   "cell_type": "code",
   "execution_count": 3,
   "metadata": {},
   "outputs": [],
   "source": [
    "import os\n",
    "os.environ[\"CUDA_DEVICE_ORDER\"]=\"PCI_BUS_ID\"\n",
    "os.environ[\"CUDA_VISIBLE_DEVICES\"]=\"0\""
   ]
  },
  {
   "cell_type": "code",
   "execution_count": 4,
   "metadata": {},
   "outputs": [
    {
     "name": "stderr",
     "output_type": "stream",
     "text": [
      "2021-09-23 21:22:08.629045: I tensorflow/core/platform/cpu_feature_guard.cc:142] This TensorFlow binary is optimized with oneAPI Deep Neural Network Library (oneDNN) to use the following CPU instructions in performance-critical operations:  AVX2 AVX512F FMA\n",
      "To enable them in other operations, rebuild TensorFlow with the appropriate compiler flags.\n"
     ]
    },
    {
     "data": {
      "text/plain": [
       "[name: \"/device:CPU:0\"\n",
       " device_type: \"CPU\"\n",
       " memory_limit: 268435456\n",
       " locality {\n",
       " }\n",
       " incarnation: 12203770028309396173,\n",
       " name: \"/device:GPU:0\"\n",
       " device_type: \"GPU\"\n",
       " memory_limit: 23391698944\n",
       " locality {\n",
       "   bus_id: 1\n",
       "   links {\n",
       "   }\n",
       " }\n",
       " incarnation: 15747334195882547852\n",
       " physical_device_desc: \"device: 0, name: GeForce RTX 3090, pci bus id: 0000:67:00.0, compute capability: 8.6\"]"
      ]
     },
     "execution_count": 4,
     "metadata": {},
     "output_type": "execute_result"
    },
    {
     "name": "stderr",
     "output_type": "stream",
     "text": [
      "2021-09-23 21:22:09.120525: I tensorflow/core/common_runtime/gpu/gpu_device.cc:1510] Created device /device:GPU:0 with 22308 MB memory:  -> device: 0, name: GeForce RTX 3090, pci bus id: 0000:67:00.0, compute capability: 8.6\n"
     ]
    }
   ],
   "source": [
    "from tensorflow.python.client import device_lib\n",
    "device_lib.list_local_devices()"
   ]
  },
  {
   "cell_type": "code",
   "execution_count": 5,
   "metadata": {
    "id": "7tpIBpEXNpjm"
   },
   "outputs": [],
   "source": [
    "import numpy as np\n",
    "import pandas as pd\n",
    "import matplotlib.pyplot as plt"
   ]
  },
  {
   "cell_type": "code",
   "execution_count": 6,
   "metadata": {
    "colab": {
     "base_uri": "https://localhost:8080/"
    },
    "id": "EYw7FBvHs5E9",
    "outputId": "cc48b6dd-c461-48e6-f44f-81963c68fa0a",
    "scrolled": false
   },
   "outputs": [
    {
     "name": "stdout",
     "output_type": "stream",
     "text": [
      "[[26571690.3  26538896.71 26562953.95 ... 26564003.28 26563325.64\n",
      "         0.  ]\n",
      " [26575225.93 26567619.47 26591998.96 ... 26560421.79 26539364.84\n",
      "         0.  ]\n",
      " [26554742.71 26553500.37 26557724.36 ... 26564623.   26574443.14\n",
      "         0.  ]\n",
      " ...\n",
      " [26565528.94 26592674.54 26540160.73 ... 26505552.83 26505366.25\n",
      "     50000.  ]\n",
      " [26560405.52 26533868.32 26545732.04 ... 26525762.12 26502046.79\n",
      "     50000.  ]\n",
      " [26575207.02 26580886.55 26574230.33 ... 26498210.81 26531390.22\n",
      "     50000.  ]]\n"
     ]
    }
   ],
   "source": [
    "data = pd.read_csv('210923_total_freq_with_noise_2000point_4368kDa.csv')\n",
    "df1 = data.values[:] # 문자열을 부동소수점형으로 변환한다\n",
    "print(df1)"
   ]
  },
  {
   "cell_type": "markdown",
   "metadata": {
    "id": "tZIY7CbcwW6F"
   },
   "source": [
    "# 데이터 살펴보기"
   ]
  },
  {
   "cell_type": "markdown",
   "metadata": {
    "id": "nfk1doFWnhQn"
   },
   "source": [
    "152개의 속성 값이 있고, -1 또는 1로 레이블링 되어 있다.\n",
    "\n",
    "152개 속성 값은 어떤 센서의 값을 시간을 두고 측정한 것이다."
   ]
  },
  {
   "cell_type": "code",
   "execution_count": 7,
   "metadata": {
    "colab": {
     "base_uri": "https://localhost:8080/"
    },
    "id": "smA15EaF1hmV",
    "outputId": "d90ea451-0543-43bf-d740-795fd1207c63"
   },
   "outputs": [
    {
     "name": "stdout",
     "output_type": "stream",
     "text": [
      "0           0\n",
      "1           0\n",
      "2           0\n",
      "3           0\n",
      "4           0\n",
      "        ...  \n",
      "5495    50000\n",
      "5496    50000\n",
      "5497    50000\n",
      "5498    50000\n",
      "5499    50000\n",
      "Name: target, Length: 5500, dtype: int64\n"
     ]
    }
   ],
   "source": [
    "df2_1 = data[\"target\"]\n",
    "df2 = df2_1[:]\n",
    "print(df2)"
   ]
  },
  {
   "cell_type": "code",
   "execution_count": 8,
   "metadata": {
    "colab": {
     "base_uri": "https://localhost:8080/"
    },
    "id": "ClKB2D7ZpFnL",
    "outputId": "125a2cbe-62b9-44b6-ae4a-98b068fedc2c"
   },
   "outputs": [
    {
     "name": "stdout",
     "output_type": "stream",
     "text": [
      "(array([    0,  5000, 10000, 15000, 20000, 25000, 30000, 35000, 40000,\n",
      "       45000, 50000]), array([500, 500, 500, 500, 500, 500, 500, 500, 500, 500, 500]))\n"
     ]
    }
   ],
   "source": [
    "target_count = np.unique(df2, return_counts=True)\n",
    "print(target_count)"
   ]
  },
  {
   "cell_type": "code",
   "execution_count": 9,
   "metadata": {
    "colab": {
     "base_uri": "https://localhost:8080/"
    },
    "id": "Bu3NHl9_Npjq",
    "outputId": "48d579ad-691c-4d74-d846-ffeea98d9a27"
   },
   "outputs": [
    {
     "name": "stdout",
     "output_type": "stream",
     "text": [
      "(array([    0,  5000, 10000, 15000, 20000, 25000, 30000, 35000, 40000,\n",
      "       45000, 50000]), array([500, 500, 500, 500, 500, 500, 500, 500, 500, 500, 500]))\n"
     ]
    }
   ],
   "source": [
    "target_count = np.unique(df2, return_counts=True)\n",
    "print(target_count)"
   ]
  },
  {
   "cell_type": "markdown",
   "metadata": {
    "id": "ZB0UsHjLsS1I"
   },
   "source": [
    "target값 -1, 1을 category 인덱스 0, 1로 변경"
   ]
  },
  {
   "cell_type": "code",
   "execution_count": 10,
   "metadata": {
    "colab": {
     "base_uri": "https://localhost:8080/"
    },
    "id": "C0nNKyJ4oaxo",
    "outputId": "3b9a1b1c-025e-48ce-8a28-680f9bd5c46d"
   },
   "outputs": [
    {
     "name": "stdout",
     "output_type": "stream",
     "text": [
      "(array([ 0,  1,  2,  3,  4,  5,  6,  7,  8,  9, 10]), array([500, 500, 500, 500, 500, 500, 500, 500, 500, 500, 500]))\n"
     ]
    }
   ],
   "source": [
    "df2 = df2.copy()\n",
    "df2[df2 < 5000] = 0\n",
    "df2[df2 == 5000] = 1\n",
    "df2[df2 == 10000] = 2\n",
    "df2[df2 == 15000] = 3\n",
    "df2[df2 == 20000] = 4\n",
    "df2[df2 == 25000] = 5\n",
    "df2[df2 == 30000] = 6\n",
    "df2[df2 == 35000] = 7\n",
    "df2[df2 == 40000] = 8\n",
    "df2[df2 == 45000] = 9\n",
    "df2[df2 == 50000] = 10\n",
    "\n",
    "target_count = np.unique(df2, return_counts=True)\n",
    "print(target_count)"
   ]
  },
  {
   "cell_type": "markdown",
   "metadata": {
    "id": "PAYLXje8Eq9l"
   },
   "source": [
    "# 문제 정의\n",
    "\n",
    "152개의 순차적인 센서 값을 가지고 분류한다.\n"
   ]
  },
  {
   "cell_type": "markdown",
   "metadata": {
    "id": "piqvWOOgpjHt"
   },
   "source": [
    "# 데이터 준비\n"
   ]
  },
  {
   "cell_type": "markdown",
   "metadata": {
    "id": "GD2kOh0_pmvD"
   },
   "source": [
    "## x, y 쪼개기"
   ]
  },
  {
   "cell_type": "code",
   "execution_count": 11,
   "metadata": {
    "id": "5mB3dKMYpJej"
   },
   "outputs": [],
   "source": [
    "x, y = df1[:,:-1], df2[:]"
   ]
  },
  {
   "cell_type": "code",
   "execution_count": 12,
   "metadata": {
    "colab": {
     "base_uri": "https://localhost:8080/"
    },
    "id": "UWtHOkIvpJlZ",
    "outputId": "98f0ae6c-f761-44e5-9435-bd9756ecdeb7"
   },
   "outputs": [
    {
     "name": "stdout",
     "output_type": "stream",
     "text": [
      "(5500, 4000)\n",
      "(5500,)\n"
     ]
    }
   ],
   "source": [
    "print(x.shape)\n",
    "print(y.shape)"
   ]
  },
  {
   "cell_type": "code",
   "execution_count": 13,
   "metadata": {
    "colab": {
     "base_uri": "https://localhost:8080/"
    },
    "id": "4WVNNZy3Npjt",
    "outputId": "7bb9910c-34c7-4da9-be72-1c5a150de0f2"
   },
   "outputs": [
    {
     "data": {
      "text/plain": [
       "0        0\n",
       "1        0\n",
       "2        0\n",
       "3        0\n",
       "4        0\n",
       "        ..\n",
       "5495    10\n",
       "5496    10\n",
       "5497    10\n",
       "5498    10\n",
       "5499    10\n",
       "Name: target, Length: 5500, dtype: int64"
      ]
     },
     "execution_count": 13,
     "metadata": {},
     "output_type": "execute_result"
    }
   ],
   "source": [
    "y"
   ]
  },
  {
   "cell_type": "markdown",
   "metadata": {
    "id": "DYJfroxKpoOc"
   },
   "source": [
    "## normalization"
   ]
  },
  {
   "cell_type": "code",
   "execution_count": 14,
   "metadata": {
    "colab": {
     "base_uri": "https://localhost:8080/"
    },
    "id": "0edILhqfpJrT",
    "outputId": "e1b6e56a-056f-4f40-d925-5a22fa02ca79"
   },
   "outputs": [
    {
     "name": "stdout",
     "output_type": "stream",
     "text": [
      "26434434.9 26657514.82\n",
      "0.0 1.0\n"
     ]
    }
   ],
   "source": [
    "min = np.min(x)\n",
    "max = np.max(x)\n",
    "print(min, max)\n",
    "\n",
    "x = (x-min) / (max-min)\n",
    "\n",
    "min = np.min(x)\n",
    "max = np.max(x)\n",
    "print(min, max)\n"
   ]
  },
  {
   "cell_type": "code",
   "execution_count": 15,
   "metadata": {
    "id": "CA_Fs7IhrKhv"
   },
   "outputs": [],
   "source": [
    "x = np.expand_dims(x, -1)"
   ]
  },
  {
   "cell_type": "markdown",
   "metadata": {
    "id": "YUNV4PRWp-jO"
   },
   "source": [
    "## 섞고"
   ]
  },
  {
   "cell_type": "code",
   "execution_count": 16,
   "metadata": {
    "id": "rK0FR9OOpJxL"
   },
   "outputs": [],
   "source": [
    "shuffled_index = np.random.permutation(len(x))\n",
    "x = x[shuffled_index]\n",
    "y = y.iloc[shuffled_index]\n",
    "x, y = np.array(x), np.array(y)"
   ]
  },
  {
   "cell_type": "markdown",
   "metadata": {
    "id": "RbjrYGVMqAF3"
   },
   "source": [
    "## train, test 쪼개기"
   ]
  },
  {
   "cell_type": "code",
   "execution_count": 17,
   "metadata": {
    "id": "TfPpY9jPpJz4"
   },
   "outputs": [],
   "source": [
    "#split_index = int( len(x) * 0.8 )\n",
    "#train_x, test_x = np.array(x[:split_index]), np.array(x[split_index:])\n",
    "#train_y, test_y = np.array(y[:split_index]), np.array(y[split_index:])"
   ]
  },
  {
   "cell_type": "code",
   "execution_count": 18,
   "metadata": {
    "id": "BfNSU7FdpJub"
   },
   "outputs": [],
   "source": [
    "#train_x[1].shape"
   ]
  },
  {
   "cell_type": "code",
   "execution_count": 19,
   "metadata": {
    "id": "gsqd1yWWNpju"
   },
   "outputs": [],
   "source": [
    "#train_x[1]"
   ]
  },
  {
   "cell_type": "markdown",
   "metadata": {
    "id": "3Oynfz6SqZzx"
   },
   "source": [
    "# 모델 정의"
   ]
  },
  {
   "cell_type": "code",
   "execution_count": 20,
   "metadata": {
    "id": "p0JtVB5ApJoc"
   },
   "outputs": [],
   "source": [
    "import tensorflow as tf\n",
    "from sklearn.model_selection import KFold \n",
    "from tensorflow import keras\n",
    "from tensorflow.keras import optimizers\n",
    "from tensorflow.keras.layers import Dense, Conv1D, Flatten\n",
    "from sklearn.model_selection import cross_val_score \n",
    "from sklearn.model_selection import StratifiedKFold"
   ]
  },
  {
   "cell_type": "code",
   "execution_count": 21,
   "metadata": {
    "colab": {
     "base_uri": "https://localhost:8080/",
     "height": 1000
    },
    "id": "8FTlEW4umicO",
    "outputId": "288b35af-b541-464b-9b2c-2f1ca72bc264"
   },
   "outputs": [],
   "source": [
    "from tensorflow.keras.models import Sequential\n",
    "from tensorflow.keras.layers import Dense\n",
    "#from tensorflow.keras.utils import np_utils\n",
    "import pandas as pd\n",
    "import matplotlib.pyplot as plt\n",
    "from sklearn.metrics import confusion_matrix\n",
    "import seaborn as sns\n",
    "from sklearn.metrics import precision_score, recall_score, f1_score, roc_curve\n",
    "from sklearn.metrics import classification_report\n",
    "from sklearn.model_selection import StratifiedKFold"
   ]
  },
  {
   "cell_type": "code",
   "execution_count": 22,
   "metadata": {
    "colab": {
     "base_uri": "https://localhost:8080/",
     "height": 1000
    },
    "id": "8FTlEW4umicO",
    "outputId": "288b35af-b541-464b-9b2c-2f1ca72bc264",
    "scrolled": false
   },
   "outputs": [
    {
     "name": "stderr",
     "output_type": "stream",
     "text": [
      "2021-09-23 21:22:13.323093: I tensorflow/core/common_runtime/gpu/gpu_device.cc:1510] Created device /job:localhost/replica:0/task:0/device:GPU:0 with 22308 MB memory:  -> device: 0, name: GeForce RTX 3090, pci bus id: 0000:67:00.0, compute capability: 8.6\n",
      "2021-09-23 21:22:13.856678: I tensorflow/compiler/mlir/mlir_graph_optimization_pass.cc:185] None of the MLIR Optimization Passes are enabled (registered 2)\n"
     ]
    },
    {
     "name": "stdout",
     "output_type": "stream",
     "text": [
      "Epoch 1/100\n"
     ]
    },
    {
     "name": "stderr",
     "output_type": "stream",
     "text": [
      "2021-09-23 21:22:14.853017: I tensorflow/stream_executor/cuda/cuda_dnn.cc:369] Loaded cuDNN version 8201\n",
      "2021-09-23 21:22:16.547344: I tensorflow/stream_executor/cuda/cuda_blas.cc:1760] TensorFloat-32 will be used for the matrix multiplication. This will only be logged once.\n"
     ]
    },
    {
     "name": "stdout",
     "output_type": "stream",
     "text": [
      "8/8 [==============================] - 5s 188ms/step - loss: 2.3982 - accuracy: 0.0750 - val_loss: 2.3952 - val_accuracy: 0.0000e+00\n",
      "Epoch 2/100\n",
      "8/8 [==============================] - 1s 82ms/step - loss: 2.3984 - accuracy: 0.0745 - val_loss: 2.3964 - val_accuracy: 0.0773\n",
      "Epoch 3/100\n",
      "8/8 [==============================] - 1s 80ms/step - loss: 2.3967 - accuracy: 0.0657 - val_loss: 2.3948 - val_accuracy: 0.0773\n",
      "Epoch 4/100\n",
      "8/8 [==============================] - 1s 82ms/step - loss: 2.3914 - accuracy: 0.0806 - val_loss: 2.3832 - val_accuracy: 0.1591\n",
      "Epoch 5/100\n",
      "8/8 [==============================] - 1s 81ms/step - loss: 2.3914 - accuracy: 0.0899 - val_loss: 2.3780 - val_accuracy: 0.1023\n",
      "Epoch 6/100\n",
      "8/8 [==============================] - 1s 82ms/step - loss: 2.3860 - accuracy: 0.1376 - val_loss: 2.3717 - val_accuracy: 0.1795\n",
      "Epoch 7/100\n",
      "8/8 [==============================] - 1s 82ms/step - loss: 2.3857 - accuracy: 0.1245 - val_loss: 2.3755 - val_accuracy: 0.1000\n",
      "Epoch 8/100\n",
      "8/8 [==============================] - 1s 83ms/step - loss: 2.3818 - accuracy: 0.1260 - val_loss: 2.3710 - val_accuracy: 0.1568\n",
      "Epoch 9/100\n",
      "8/8 [==============================] - 1s 81ms/step - loss: 2.3735 - accuracy: 0.1207 - val_loss: 2.3543 - val_accuracy: 0.1795\n",
      "Epoch 10/100\n",
      "8/8 [==============================] - 1s 81ms/step - loss: 2.3490 - accuracy: 0.2331 - val_loss: 2.3346 - val_accuracy: 0.1386\n",
      "Epoch 11/100\n",
      "8/8 [==============================] - 1s 82ms/step - loss: 2.3197 - accuracy: 0.2543 - val_loss: 2.2814 - val_accuracy: 0.2273\n",
      "Epoch 12/100\n",
      "8/8 [==============================] - 1s 82ms/step - loss: 2.2933 - accuracy: 0.2341 - val_loss: 2.2662 - val_accuracy: 0.1818\n",
      "Epoch 13/100\n",
      "8/8 [==============================] - 1s 82ms/step - loss: 2.2621 - accuracy: 0.2366 - val_loss: 2.2244 - val_accuracy: 0.2614\n",
      "Epoch 14/100\n",
      "8/8 [==============================] - 1s 82ms/step - loss: 2.2375 - accuracy: 0.2578 - val_loss: 2.1554 - val_accuracy: 0.3659\n",
      "Epoch 15/100\n",
      "8/8 [==============================] - 1s 82ms/step - loss: 2.1670 - accuracy: 0.3273 - val_loss: 2.1135 - val_accuracy: 0.2864\n",
      "Epoch 16/100\n",
      "8/8 [==============================] - 1s 81ms/step - loss: 2.0889 - accuracy: 0.2644 - val_loss: 2.0447 - val_accuracy: 0.2705\n",
      "Epoch 17/100\n",
      "8/8 [==============================] - 1s 83ms/step - loss: 2.0193 - accuracy: 0.2790 - val_loss: 1.9861 - val_accuracy: 0.2659\n",
      "Epoch 18/100\n",
      "8/8 [==============================] - 1s 81ms/step - loss: 1.9732 - accuracy: 0.2553 - val_loss: 1.9309 - val_accuracy: 0.3659\n",
      "Epoch 19/100\n",
      "8/8 [==============================] - 1s 82ms/step - loss: 1.8961 - accuracy: 0.2995 - val_loss: 1.8383 - val_accuracy: 0.2614\n",
      "Epoch 20/100\n",
      "8/8 [==============================] - 1s 83ms/step - loss: 1.8006 - accuracy: 0.3215 - val_loss: 1.7741 - val_accuracy: 0.2636\n",
      "Epoch 21/100\n",
      "8/8 [==============================] - 1s 82ms/step - loss: 1.7346 - accuracy: 0.3889 - val_loss: 1.6796 - val_accuracy: 0.4250\n",
      "Epoch 22/100\n",
      "8/8 [==============================] - 1s 82ms/step - loss: 1.6489 - accuracy: 0.5081 - val_loss: 1.6638 - val_accuracy: 0.4750\n",
      "Epoch 23/100\n",
      "8/8 [==============================] - 1s 81ms/step - loss: 1.7042 - accuracy: 0.4056 - val_loss: 1.7435 - val_accuracy: 0.3273\n",
      "Epoch 24/100\n",
      "8/8 [==============================] - 1s 83ms/step - loss: 1.6724 - accuracy: 0.4020 - val_loss: 1.6071 - val_accuracy: 0.4341\n",
      "Epoch 25/100\n",
      "8/8 [==============================] - 1s 81ms/step - loss: 1.5811 - accuracy: 0.4449 - val_loss: 1.5018 - val_accuracy: 0.4318\n",
      "Epoch 26/100\n",
      "8/8 [==============================] - 1s 84ms/step - loss: 1.4855 - accuracy: 0.4591 - val_loss: 1.4491 - val_accuracy: 0.5750\n",
      "Epoch 27/100\n",
      "8/8 [==============================] - 1s 81ms/step - loss: 1.4315 - accuracy: 0.5366 - val_loss: 1.4071 - val_accuracy: 0.4318\n",
      "Epoch 28/100\n",
      "8/8 [==============================] - 1s 81ms/step - loss: 1.3720 - accuracy: 0.5071 - val_loss: 1.4311 - val_accuracy: 0.5295\n",
      "Epoch 29/100\n",
      "8/8 [==============================] - 1s 83ms/step - loss: 1.3894 - accuracy: 0.4833 - val_loss: 1.3976 - val_accuracy: 0.3977\n",
      "Epoch 30/100\n",
      "8/8 [==============================] - 1s 83ms/step - loss: 1.3224 - accuracy: 0.5227 - val_loss: 1.3218 - val_accuracy: 0.5409\n",
      "Epoch 31/100\n",
      "8/8 [==============================] - 1s 81ms/step - loss: 1.2675 - accuracy: 0.5361 - val_loss: 1.2334 - val_accuracy: 0.5727\n",
      "Epoch 32/100\n",
      "8/8 [==============================] - 1s 82ms/step - loss: 1.2087 - accuracy: 0.6010 - val_loss: 1.3011 - val_accuracy: 0.5091\n",
      "Epoch 33/100\n",
      "8/8 [==============================] - 1s 81ms/step - loss: 1.2132 - accuracy: 0.5644 - val_loss: 1.1704 - val_accuracy: 0.5432\n",
      "Epoch 34/100\n",
      "8/8 [==============================] - 1s 83ms/step - loss: 1.1347 - accuracy: 0.6184 - val_loss: 1.0861 - val_accuracy: 0.7455\n",
      "Epoch 35/100\n",
      "8/8 [==============================] - 1s 82ms/step - loss: 1.0872 - accuracy: 0.6275 - val_loss: 1.2146 - val_accuracy: 0.5045\n",
      "Epoch 36/100\n",
      "8/8 [==============================] - 1s 83ms/step - loss: 1.0895 - accuracy: 0.5788 - val_loss: 1.0244 - val_accuracy: 0.5477\n",
      "Epoch 37/100\n",
      "8/8 [==============================] - 1s 82ms/step - loss: 1.0100 - accuracy: 0.6078 - val_loss: 1.0279 - val_accuracy: 0.5432\n",
      "Epoch 38/100\n",
      "8/8 [==============================] - 1s 82ms/step - loss: 1.0645 - accuracy: 0.5348 - val_loss: 1.0613 - val_accuracy: 0.5432\n",
      "Epoch 39/100\n",
      "8/8 [==============================] - 1s 81ms/step - loss: 1.0116 - accuracy: 0.5755 - val_loss: 1.0407 - val_accuracy: 0.6273\n",
      "Epoch 40/100\n",
      "8/8 [==============================] - 1s 83ms/step - loss: 3.0068 - accuracy: 0.2073 - val_loss: 2.3281 - val_accuracy: 0.1818\n",
      "Epoch 41/100\n",
      "8/8 [==============================] - 1s 82ms/step - loss: 2.3724 - accuracy: 0.1859 - val_loss: 2.4226 - val_accuracy: 0.0886\n",
      "Epoch 42/100\n",
      "8/8 [==============================] - 1s 81ms/step - loss: 2.4115 - accuracy: 0.1025 - val_loss: 2.4192 - val_accuracy: 0.0864\n",
      "Epoch 43/100\n",
      "8/8 [==============================] - 1s 81ms/step - loss: 2.4013 - accuracy: 0.0601 - val_loss: 2.3953 - val_accuracy: 0.1795\n",
      "Epoch 44/100\n",
      "8/8 [==============================] - 1s 82ms/step - loss: 2.3670 - accuracy: 0.1023 - val_loss: 2.3489 - val_accuracy: 0.0864\n",
      "Epoch 45/100\n",
      "8/8 [==============================] - 1s 82ms/step - loss: 2.2945 - accuracy: 0.1760 - val_loss: 2.2478 - val_accuracy: 0.2568\n",
      "Epoch 46/100\n",
      "8/8 [==============================] - 1s 81ms/step - loss: 2.1750 - accuracy: 0.2480 - val_loss: 2.0607 - val_accuracy: 0.2568\n",
      "Epoch 47/100\n",
      "8/8 [==============================] - 1s 81ms/step - loss: 1.9311 - accuracy: 0.3212 - val_loss: 1.7976 - val_accuracy: 0.3455\n",
      "Epoch 48/100\n",
      "8/8 [==============================] - 1s 81ms/step - loss: 1.6563 - accuracy: 0.4755 - val_loss: 1.6304 - val_accuracy: 0.4841\n",
      "Epoch 49/100\n",
      "8/8 [==============================] - 1s 83ms/step - loss: 1.4883 - accuracy: 0.5313 - val_loss: 1.4685 - val_accuracy: 0.5273\n",
      "Epoch 50/100\n",
      "8/8 [==============================] - 1s 82ms/step - loss: 2.2345 - accuracy: 0.3649 - val_loss: 1.9995 - val_accuracy: 0.2932\n",
      "Epoch 51/100\n",
      "8/8 [==============================] - 1s 83ms/step - loss: 2.0596 - accuracy: 0.2987 - val_loss: 1.9633 - val_accuracy: 0.3795\n",
      "Epoch 52/100\n",
      "8/8 [==============================] - 1s 84ms/step - loss: 1.8388 - accuracy: 0.3626 - val_loss: 1.8274 - val_accuracy: 0.2977\n",
      "Epoch 53/100\n",
      "8/8 [==============================] - 1s 83ms/step - loss: 1.7226 - accuracy: 0.4412 - val_loss: 1.6981 - val_accuracy: 0.3773\n",
      "Epoch 54/100\n",
      "8/8 [==============================] - 1s 83ms/step - loss: 1.5891 - accuracy: 0.4811 - val_loss: 1.5460 - val_accuracy: 0.5091\n",
      "Epoch 55/100\n",
      "8/8 [==============================] - 1s 82ms/step - loss: 1.4539 - accuracy: 0.5394 - val_loss: 1.4576 - val_accuracy: 0.5273\n",
      "Epoch 56/100\n",
      "8/8 [==============================] - 1s 81ms/step - loss: 1.3673 - accuracy: 0.5462 - val_loss: 1.3889 - val_accuracy: 0.5318\n",
      "Epoch 57/100\n",
      "8/8 [==============================] - 1s 81ms/step - loss: 1.3151 - accuracy: 0.5470 - val_loss: 1.3425 - val_accuracy: 0.5318\n",
      "Epoch 58/100\n",
      "8/8 [==============================] - 1s 82ms/step - loss: 1.2711 - accuracy: 0.5472 - val_loss: 1.3086 - val_accuracy: 0.5318\n",
      "Epoch 59/100\n",
      "8/8 [==============================] - 1s 80ms/step - loss: 1.2398 - accuracy: 0.5472 - val_loss: 1.2797 - val_accuracy: 0.5318\n",
      "Epoch 60/100\n",
      "8/8 [==============================] - 1s 84ms/step - loss: 1.2152 - accuracy: 0.5480 - val_loss: 1.2564 - val_accuracy: 0.5318\n",
      "Epoch 61/100\n",
      "8/8 [==============================] - 1s 84ms/step - loss: 1.1944 - accuracy: 0.5480 - val_loss: 1.2356 - val_accuracy: 0.5318\n",
      "Epoch 62/100\n",
      "8/8 [==============================] - 1s 83ms/step - loss: 1.1774 - accuracy: 0.5510 - val_loss: 1.2154 - val_accuracy: 0.5318\n",
      "Epoch 63/100\n",
      "8/8 [==============================] - 1s 83ms/step - loss: 1.1596 - accuracy: 0.5563 - val_loss: 1.2045 - val_accuracy: 0.5659\n",
      "Epoch 64/100\n",
      "8/8 [==============================] - 1s 80ms/step - loss: 1.1398 - accuracy: 0.6199 - val_loss: 1.1741 - val_accuracy: 0.6273\n",
      "Epoch 65/100\n",
      "8/8 [==============================] - 1s 80ms/step - loss: 1.1212 - accuracy: 0.6510 - val_loss: 1.1501 - val_accuracy: 0.6318\n",
      "Epoch 66/100\n",
      "8/8 [==============================] - 1s 83ms/step - loss: 1.0930 - accuracy: 0.6513 - val_loss: 1.1305 - val_accuracy: 0.6182\n",
      "Epoch 67/100\n",
      "8/8 [==============================] - 1s 81ms/step - loss: 1.0773 - accuracy: 0.6573 - val_loss: 1.1279 - val_accuracy: 0.6182\n",
      "Epoch 68/100\n",
      "8/8 [==============================] - 1s 80ms/step - loss: 1.0667 - accuracy: 0.6412 - val_loss: 1.1061 - val_accuracy: 0.6205\n",
      "Epoch 69/100\n",
      "8/8 [==============================] - 1s 82ms/step - loss: 1.0376 - accuracy: 0.6500 - val_loss: 1.0935 - val_accuracy: 0.6182\n",
      "Epoch 70/100\n",
      "8/8 [==============================] - 1s 82ms/step - loss: 1.0485 - accuracy: 0.6432 - val_loss: 1.0769 - val_accuracy: 0.6182\n",
      "Epoch 71/100\n",
      "8/8 [==============================] - 1s 81ms/step - loss: 0.9490 - accuracy: 0.6263 - val_loss: 0.8415 - val_accuracy: 0.6295\n",
      "Epoch 72/100\n",
      "8/8 [==============================] - 1s 84ms/step - loss: 1.7464 - accuracy: 0.4980 - val_loss: 1.1046 - val_accuracy: 0.4886\n",
      "Epoch 73/100\n",
      "8/8 [==============================] - 1s 81ms/step - loss: 2.2216 - accuracy: 0.3359 - val_loss: 1.6730 - val_accuracy: 0.2386\n",
      "Epoch 74/100\n",
      "8/8 [==============================] - 1s 81ms/step - loss: 1.4459 - accuracy: 0.3187 - val_loss: 1.1915 - val_accuracy: 0.5909\n",
      "Epoch 75/100\n",
      "8/8 [==============================] - 1s 81ms/step - loss: 1.2833 - accuracy: 0.3856 - val_loss: 1.2248 - val_accuracy: 0.5114\n",
      "Epoch 76/100\n",
      "8/8 [==============================] - 1s 82ms/step - loss: 1.0822 - accuracy: 0.5929 - val_loss: 0.9504 - val_accuracy: 0.6227\n",
      "Epoch 77/100\n",
      "8/8 [==============================] - 1s 83ms/step - loss: 0.8321 - accuracy: 0.6664 - val_loss: 0.7354 - val_accuracy: 0.6409\n",
      "Epoch 78/100\n",
      "8/8 [==============================] - 1s 81ms/step - loss: 0.6314 - accuracy: 0.7540 - val_loss: 0.5684 - val_accuracy: 0.7477\n",
      "Epoch 79/100\n",
      "8/8 [==============================] - 1s 80ms/step - loss: 0.4697 - accuracy: 0.8348 - val_loss: 0.3999 - val_accuracy: 0.8955\n",
      "Epoch 80/100\n",
      "8/8 [==============================] - 1s 80ms/step - loss: 0.3363 - accuracy: 0.8684 - val_loss: 0.3036 - val_accuracy: 0.9000\n",
      "Epoch 81/100\n",
      "8/8 [==============================] - 1s 81ms/step - loss: 0.2496 - accuracy: 0.9242 - val_loss: 0.2187 - val_accuracy: 0.9114\n",
      "Epoch 82/100\n",
      "8/8 [==============================] - 1s 82ms/step - loss: 0.1713 - accuracy: 0.9891 - val_loss: 0.1358 - val_accuracy: 1.0000\n",
      "Epoch 83/100\n",
      "8/8 [==============================] - 1s 82ms/step - loss: 0.1046 - accuracy: 1.0000 - val_loss: 0.0793 - val_accuracy: 1.0000\n",
      "Epoch 84/100\n",
      "8/8 [==============================] - 1s 82ms/step - loss: 0.0597 - accuracy: 1.0000 - val_loss: 0.0476 - val_accuracy: 1.0000\n",
      "Epoch 85/100\n",
      "8/8 [==============================] - 1s 81ms/step - loss: 0.0349 - accuracy: 1.0000 - val_loss: 0.0261 - val_accuracy: 1.0000\n",
      "Epoch 86/100\n",
      "8/8 [==============================] - 1s 81ms/step - loss: 0.0218 - accuracy: 1.0000 - val_loss: 0.0190 - val_accuracy: 1.0000\n",
      "Epoch 87/100\n",
      "8/8 [==============================] - 1s 82ms/step - loss: 0.0138 - accuracy: 1.0000 - val_loss: 0.0116 - val_accuracy: 1.0000\n",
      "Epoch 88/100\n",
      "8/8 [==============================] - 1s 81ms/step - loss: 0.0093 - accuracy: 1.0000 - val_loss: 0.0088 - val_accuracy: 1.0000\n",
      "Epoch 89/100\n",
      "8/8 [==============================] - 1s 83ms/step - loss: 0.0071 - accuracy: 1.0000 - val_loss: 0.0070 - val_accuracy: 1.0000\n",
      "Epoch 90/100\n",
      "8/8 [==============================] - 1s 82ms/step - loss: 0.0059 - accuracy: 1.0000 - val_loss: 0.0059 - val_accuracy: 1.0000\n",
      "Epoch 91/100\n",
      "8/8 [==============================] - 1s 80ms/step - loss: 0.0049 - accuracy: 1.0000 - val_loss: 0.0044 - val_accuracy: 1.0000\n",
      "Epoch 92/100\n",
      "8/8 [==============================] - 1s 81ms/step - loss: 0.0041 - accuracy: 1.0000 - val_loss: 0.0037 - val_accuracy: 1.0000\n",
      "Epoch 93/100\n",
      "8/8 [==============================] - 1s 83ms/step - loss: 0.0034 - accuracy: 1.0000 - val_loss: 0.0032 - val_accuracy: 1.0000\n",
      "Epoch 94/100\n",
      "8/8 [==============================] - 1s 81ms/step - loss: 0.0029 - accuracy: 1.0000 - val_loss: 0.0028 - val_accuracy: 1.0000\n",
      "Epoch 95/100\n",
      "8/8 [==============================] - 1s 82ms/step - loss: 0.0026 - accuracy: 1.0000 - val_loss: 0.0026 - val_accuracy: 1.0000\n",
      "Epoch 96/100\n",
      "8/8 [==============================] - 1s 83ms/step - loss: 0.0024 - accuracy: 1.0000 - val_loss: 0.0023 - val_accuracy: 1.0000\n",
      "Epoch 97/100\n",
      "8/8 [==============================] - 1s 82ms/step - loss: 0.0021 - accuracy: 1.0000 - val_loss: 0.0022 - val_accuracy: 1.0000\n",
      "Epoch 98/100\n",
      "8/8 [==============================] - 1s 81ms/step - loss: 0.0020 - accuracy: 1.0000 - val_loss: 0.0019 - val_accuracy: 1.0000\n",
      "Epoch 99/100\n",
      "8/8 [==============================] - 1s 82ms/step - loss: 0.0018 - accuracy: 1.0000 - val_loss: 0.0018 - val_accuracy: 1.0000\n",
      "Epoch 100/100\n",
      "8/8 [==============================] - 1s 82ms/step - loss: 0.0016 - accuracy: 1.0000 - val_loss: 0.0017 - val_accuracy: 1.0000\n",
      "35/35 [==============================] - 0s 7ms/step - loss: 0.0017 - accuracy: 1.0000\n"
     ]
    },
    {
     "data": {
      "image/png": "[encoded data removed]",
      "text/plain": [
       "<Figure size 504x432 with 2 Axes>"
      ]
     },
     "metadata": {
      "needs_background": "light"
     },
     "output_type": "display_data"
    },
    {
     "name": "stdout",
     "output_type": "stream",
     "text": [
      "Precision:1.0\n",
      "Recall:1.0\n",
      "F1_score:1.0\n",
      "              precision    recall  f1-score   support\n",
      "\n",
      "           0       1.00      1.00      1.00       100\n",
      "           1       1.00      1.00      1.00       100\n",
      "           2       1.00      1.00      1.00       100\n",
      "           3       1.00      1.00      1.00       100\n",
      "           4       1.00      1.00      1.00       100\n",
      "           5       1.00      1.00      1.00       100\n",
      "           6       1.00      1.00      1.00       100\n",
      "           7       1.00      1.00      1.00       100\n",
      "           8       1.00      1.00      1.00       100\n",
      "           9       1.00      1.00      1.00       100\n",
      "          10       1.00      1.00      1.00       100\n",
      "\n",
      "    accuracy                           1.00      1100\n",
      "   macro avg       1.00      1.00      1.00      1100\n",
      "weighted avg       1.00      1.00      1.00      1100\n",
      "\n",
      "Epoch 1/100\n",
      "8/8 [==============================] - 1s 100ms/step - loss: 2.3982 - accuracy: 0.0927 - val_loss: 2.3955 - val_accuracy: 0.0750\n",
      "Epoch 2/100\n",
      "8/8 [==============================] - 1s 81ms/step - loss: 2.3940 - accuracy: 0.0836 - val_loss: 2.3885 - val_accuracy: 0.0750\n",
      "Epoch 3/100\n",
      "8/8 [==============================] - 1s 82ms/step - loss: 2.3857 - accuracy: 0.0624 - val_loss: 2.3771 - val_accuracy: 0.0750\n",
      "Epoch 4/100\n",
      "8/8 [==============================] - 1s 82ms/step - loss: 2.3867 - accuracy: 0.0548 - val_loss: 2.3890 - val_accuracy: 0.0000e+00\n",
      "Epoch 5/100\n",
      "8/8 [==============================] - 1s 83ms/step - loss: 2.3784 - accuracy: 0.0737 - val_loss: 2.3605 - val_accuracy: 0.0932\n",
      "Epoch 6/100\n",
      "8/8 [==============================] - 1s 81ms/step - loss: 2.3612 - accuracy: 0.1177 - val_loss: 2.3412 - val_accuracy: 0.0932\n",
      "Epoch 7/100\n",
      "8/8 [==============================] - 1s 82ms/step - loss: 2.3449 - accuracy: 0.0947 - val_loss: 2.3233 - val_accuracy: 0.0932\n",
      "Epoch 8/100\n",
      "8/8 [==============================] - 1s 83ms/step - loss: 2.3216 - accuracy: 0.1510 - val_loss: 2.2834 - val_accuracy: 0.1227\n",
      "Epoch 9/100\n",
      "8/8 [==============================] - 1s 83ms/step - loss: 2.2780 - accuracy: 0.1674 - val_loss: 2.2248 - val_accuracy: 0.1932\n",
      "Epoch 10/100\n",
      "8/8 [==============================] - 1s 83ms/step - loss: 2.2175 - accuracy: 0.1169 - val_loss: 2.1483 - val_accuracy: 0.1000\n",
      "Epoch 11/100\n",
      "8/8 [==============================] - 1s 83ms/step - loss: 2.1857 - accuracy: 0.1253 - val_loss: 2.1092 - val_accuracy: 0.2114\n",
      "Epoch 12/100\n",
      "8/8 [==============================] - 1s 80ms/step - loss: 2.1024 - accuracy: 0.1682 - val_loss: 2.0480 - val_accuracy: 0.1977\n",
      "Epoch 13/100\n",
      "8/8 [==============================] - 1s 82ms/step - loss: 2.0188 - accuracy: 0.1992 - val_loss: 1.9154 - val_accuracy: 0.1932\n",
      "Epoch 14/100\n",
      "8/8 [==============================] - 1s 84ms/step - loss: 1.9040 - accuracy: 0.2020 - val_loss: 1.8059 - val_accuracy: 0.1932\n",
      "Epoch 15/100\n",
      "8/8 [==============================] - 1s 81ms/step - loss: 1.7807 - accuracy: 0.1859 - val_loss: 1.7502 - val_accuracy: 0.2250\n",
      "Epoch 16/100\n",
      "8/8 [==============================] - 1s 84ms/step - loss: 1.6858 - accuracy: 0.3376 - val_loss: 1.6312 - val_accuracy: 0.3477\n",
      "Epoch 17/100\n",
      "8/8 [==============================] - 1s 81ms/step - loss: 1.5789 - accuracy: 0.3384 - val_loss: 1.5017 - val_accuracy: 0.3523\n",
      "Epoch 18/100\n",
      "8/8 [==============================] - 1s 81ms/step - loss: 1.4440 - accuracy: 0.4475 - val_loss: 1.4085 - val_accuracy: 0.3795\n",
      "Epoch 19/100\n",
      "8/8 [==============================] - 1s 83ms/step - loss: 1.5697 - accuracy: 0.4068 - val_loss: 1.6640 - val_accuracy: 0.2500\n",
      "Epoch 20/100\n",
      "8/8 [==============================] - 1s 84ms/step - loss: 1.6853 - accuracy: 0.2838 - val_loss: 1.5872 - val_accuracy: 0.2614\n",
      "Epoch 21/100\n",
      "8/8 [==============================] - 1s 81ms/step - loss: 1.4624 - accuracy: 0.3533 - val_loss: 1.1868 - val_accuracy: 0.4477\n",
      "Epoch 22/100\n",
      "8/8 [==============================] - 1s 81ms/step - loss: 1.0718 - accuracy: 0.5904 - val_loss: 1.1643 - val_accuracy: 0.5977\n",
      "Epoch 23/100\n",
      "8/8 [==============================] - 1s 82ms/step - loss: 0.9591 - accuracy: 0.6139 - val_loss: 0.8105 - val_accuracy: 0.5477\n",
      "Epoch 24/100\n",
      "8/8 [==============================] - 1s 83ms/step - loss: 0.7178 - accuracy: 0.7010 - val_loss: 0.5821 - val_accuracy: 0.7386\n",
      "Epoch 25/100\n",
      "8/8 [==============================] - 1s 81ms/step - loss: 0.6096 - accuracy: 0.7093 - val_loss: 0.7330 - val_accuracy: 0.6909\n",
      "Epoch 26/100\n",
      "8/8 [==============================] - 1s 81ms/step - loss: 0.6822 - accuracy: 0.6904 - val_loss: 3.0185 - val_accuracy: 0.1318\n",
      "Epoch 27/100\n",
      "8/8 [==============================] - 1s 80ms/step - loss: 1.5210 - accuracy: 0.4937 - val_loss: 1.0887 - val_accuracy: 0.4795\n",
      "Epoch 28/100\n",
      "8/8 [==============================] - 1s 81ms/step - loss: 1.0147 - accuracy: 0.5682 - val_loss: 0.9089 - val_accuracy: 0.7182\n",
      "Epoch 29/100\n",
      "8/8 [==============================] - 1s 81ms/step - loss: 0.8494 - accuracy: 0.6485 - val_loss: 0.6455 - val_accuracy: 0.7432\n",
      "Epoch 30/100\n",
      "8/8 [==============================] - 1s 82ms/step - loss: 0.4698 - accuracy: 0.9230 - val_loss: 0.2340 - val_accuracy: 1.0000\n",
      "Epoch 31/100\n",
      "8/8 [==============================] - 1s 82ms/step - loss: 0.1429 - accuracy: 0.9987 - val_loss: 0.0468 - val_accuracy: 1.0000\n",
      "Epoch 32/100\n",
      "8/8 [==============================] - 1s 82ms/step - loss: 0.0234 - accuracy: 1.0000 - val_loss: 0.0060 - val_accuracy: 1.0000\n",
      "Epoch 33/100\n",
      "8/8 [==============================] - 1s 82ms/step - loss: 0.0054 - accuracy: 1.0000 - val_loss: 0.0016 - val_accuracy: 1.0000\n",
      "Epoch 34/100\n",
      "8/8 [==============================] - 1s 82ms/step - loss: 0.0020 - accuracy: 1.0000 - val_loss: 6.3892e-04 - val_accuracy: 1.0000\n",
      "Epoch 35/100\n",
      "8/8 [==============================] - 1s 81ms/step - loss: 6.7299e-04 - accuracy: 1.0000 - val_loss: 4.5839e-04 - val_accuracy: 1.0000\n",
      "Epoch 36/100\n",
      "8/8 [==============================] - 1s 83ms/step - loss: 3.9231e-04 - accuracy: 1.0000 - val_loss: 2.8761e-04 - val_accuracy: 1.0000\n",
      "Epoch 37/100\n",
      "8/8 [==============================] - 1s 81ms/step - loss: 3.1844e-04 - accuracy: 1.0000 - val_loss: 2.7788e-04 - val_accuracy: 1.0000\n",
      "Epoch 38/100\n",
      "8/8 [==============================] - 1s 81ms/step - loss: 2.8757e-04 - accuracy: 1.0000 - val_loss: 2.3991e-04 - val_accuracy: 1.0000\n",
      "Epoch 39/100\n",
      "8/8 [==============================] - 1s 82ms/step - loss: 2.6314e-04 - accuracy: 1.0000 - val_loss: 2.0375e-04 - val_accuracy: 1.0000\n",
      "Epoch 40/100\n",
      "8/8 [==============================] - 1s 82ms/step - loss: 2.5142e-04 - accuracy: 1.0000 - val_loss: 1.9460e-04 - val_accuracy: 1.0000\n",
      "Epoch 41/100\n",
      "8/8 [==============================] - 1s 80ms/step - loss: 2.4166e-04 - accuracy: 1.0000 - val_loss: 1.8909e-04 - val_accuracy: 1.0000\n",
      "Epoch 42/100\n",
      "8/8 [==============================] - 1s 82ms/step - loss: 2.4519e-04 - accuracy: 1.0000 - val_loss: 1.8191e-04 - val_accuracy: 1.0000\n",
      "Epoch 43/100\n",
      "8/8 [==============================] - 1s 83ms/step - loss: 2.2508e-04 - accuracy: 1.0000 - val_loss: 1.6316e-04 - val_accuracy: 1.0000\n",
      "Epoch 44/100\n",
      "8/8 [==============================] - 1s 81ms/step - loss: 2.1707e-04 - accuracy: 1.0000 - val_loss: 1.7485e-04 - val_accuracy: 1.0000\n",
      "Epoch 45/100\n",
      "8/8 [==============================] - 1s 81ms/step - loss: 2.0742e-04 - accuracy: 1.0000 - val_loss: 1.5972e-04 - val_accuracy: 1.0000\n",
      "Epoch 46/100\n",
      "8/8 [==============================] - 1s 83ms/step - loss: 1.9946e-04 - accuracy: 1.0000 - val_loss: 1.4580e-04 - val_accuracy: 1.0000\n",
      "Epoch 47/100\n",
      "8/8 [==============================] - 1s 81ms/step - loss: 2.3141e-04 - accuracy: 1.0000 - val_loss: 1.4676e-04 - val_accuracy: 1.0000\n",
      "Epoch 48/100\n",
      "8/8 [==============================] - 1s 83ms/step - loss: 2.4148e-04 - accuracy: 1.0000 - val_loss: 1.5163e-04 - val_accuracy: 1.0000\n",
      "Epoch 49/100\n",
      "8/8 [==============================] - 1s 81ms/step - loss: 2.4353e-04 - accuracy: 1.0000 - val_loss: 1.4106e-04 - val_accuracy: 1.0000\n",
      "Epoch 50/100\n",
      "8/8 [==============================] - 1s 80ms/step - loss: 2.0240e-04 - accuracy: 1.0000 - val_loss: 1.3427e-04 - val_accuracy: 1.0000\n",
      "Epoch 51/100\n",
      "8/8 [==============================] - 1s 82ms/step - loss: 1.6918e-04 - accuracy: 1.0000 - val_loss: 1.2375e-04 - val_accuracy: 1.0000\n",
      "Epoch 52/100\n",
      "8/8 [==============================] - 1s 83ms/step - loss: 1.7166e-04 - accuracy: 1.0000 - val_loss: 2.5369e-04 - val_accuracy: 1.0000\n",
      "Epoch 53/100\n",
      "8/8 [==============================] - 1s 83ms/step - loss: 2.0993e-04 - accuracy: 1.0000 - val_loss: 1.3298e-04 - val_accuracy: 1.0000\n",
      "Epoch 54/100\n",
      "8/8 [==============================] - 1s 81ms/step - loss: 1.7974e-04 - accuracy: 1.0000 - val_loss: 1.5440e-04 - val_accuracy: 1.0000\n",
      "Epoch 55/100\n",
      "8/8 [==============================] - 1s 81ms/step - loss: 1.6138e-04 - accuracy: 1.0000 - val_loss: 1.0604e-04 - val_accuracy: 1.0000\n",
      "Epoch 56/100\n",
      "8/8 [==============================] - 1s 83ms/step - loss: 1.4381e-04 - accuracy: 1.0000 - val_loss: 1.2151e-04 - val_accuracy: 1.0000\n",
      "Epoch 57/100\n",
      "8/8 [==============================] - 1s 82ms/step - loss: 1.4185e-04 - accuracy: 1.0000 - val_loss: 1.0194e-04 - val_accuracy: 1.0000\n",
      "Epoch 58/100\n",
      "8/8 [==============================] - 1s 81ms/step - loss: 1.3604e-04 - accuracy: 1.0000 - val_loss: 1.1717e-04 - val_accuracy: 1.0000\n",
      "Epoch 59/100\n",
      "8/8 [==============================] - 1s 81ms/step - loss: 1.3164e-04 - accuracy: 1.0000 - val_loss: 9.3883e-05 - val_accuracy: 1.0000\n",
      "Epoch 60/100\n",
      "8/8 [==============================] - 1s 84ms/step - loss: 1.3317e-04 - accuracy: 1.0000 - val_loss: 9.4160e-05 - val_accuracy: 1.0000\n",
      "Epoch 61/100\n",
      "8/8 [==============================] - 1s 81ms/step - loss: 1.2569e-04 - accuracy: 1.0000 - val_loss: 9.9606e-05 - val_accuracy: 1.0000\n",
      "Epoch 62/100\n",
      "8/8 [==============================] - 1s 81ms/step - loss: 1.2626e-04 - accuracy: 1.0000 - val_loss: 8.5477e-05 - val_accuracy: 1.0000\n",
      "Epoch 63/100\n",
      "8/8 [==============================] - 1s 82ms/step - loss: 1.2051e-04 - accuracy: 1.0000 - val_loss: 8.3103e-05 - val_accuracy: 1.0000\n",
      "Epoch 64/100\n",
      "8/8 [==============================] - 1s 82ms/step - loss: 1.1882e-04 - accuracy: 1.0000 - val_loss: 8.8151e-05 - val_accuracy: 1.0000\n",
      "Epoch 65/100\n",
      "8/8 [==============================] - 1s 82ms/step - loss: 1.1286e-04 - accuracy: 1.0000 - val_loss: 8.5062e-05 - val_accuracy: 1.0000\n",
      "Epoch 66/100\n",
      "8/8 [==============================] - 1s 83ms/step - loss: 1.1787e-04 - accuracy: 1.0000 - val_loss: 8.1120e-05 - val_accuracy: 1.0000\n",
      "Epoch 67/100\n",
      "8/8 [==============================] - 1s 83ms/step - loss: 1.0791e-04 - accuracy: 1.0000 - val_loss: 1.0033e-04 - val_accuracy: 1.0000\n",
      "Epoch 68/100\n",
      "8/8 [==============================] - 1s 83ms/step - loss: 1.1352e-04 - accuracy: 1.0000 - val_loss: 7.8489e-05 - val_accuracy: 1.0000\n",
      "Epoch 69/100\n",
      "8/8 [==============================] - 1s 80ms/step - loss: 1.0152e-04 - accuracy: 1.0000 - val_loss: 8.6223e-05 - val_accuracy: 1.0000\n",
      "Epoch 70/100\n",
      "8/8 [==============================] - 1s 81ms/step - loss: 1.0162e-04 - accuracy: 1.0000 - val_loss: 7.1919e-05 - val_accuracy: 1.0000\n",
      "Epoch 71/100\n",
      "8/8 [==============================] - 1s 81ms/step - loss: 1.1075e-04 - accuracy: 1.0000 - val_loss: 6.4503e-05 - val_accuracy: 1.0000\n",
      "Epoch 72/100\n",
      "8/8 [==============================] - 1s 82ms/step - loss: 9.5317e-05 - accuracy: 1.0000 - val_loss: 8.4772e-05 - val_accuracy: 1.0000\n",
      "Epoch 73/100\n",
      "8/8 [==============================] - 1s 82ms/step - loss: 9.7438e-05 - accuracy: 1.0000 - val_loss: 7.1411e-05 - val_accuracy: 1.0000\n",
      "Epoch 74/100\n",
      "8/8 [==============================] - 1s 81ms/step - loss: 9.0035e-05 - accuracy: 1.0000 - val_loss: 7.2353e-05 - val_accuracy: 1.0000\n",
      "Epoch 75/100\n",
      "8/8 [==============================] - 1s 81ms/step - loss: 9.8102e-05 - accuracy: 1.0000 - val_loss: 5.9917e-05 - val_accuracy: 1.0000\n",
      "Epoch 76/100\n",
      "8/8 [==============================] - 1s 82ms/step - loss: 9.2669e-05 - accuracy: 1.0000 - val_loss: 6.8456e-05 - val_accuracy: 1.0000\n",
      "Epoch 77/100\n",
      "8/8 [==============================] - 1s 81ms/step - loss: 9.1698e-05 - accuracy: 1.0000 - val_loss: 6.2340e-05 - val_accuracy: 1.0000\n",
      "Epoch 78/100\n",
      "8/8 [==============================] - 1s 83ms/step - loss: 9.0352e-05 - accuracy: 1.0000 - val_loss: 5.6281e-05 - val_accuracy: 1.0000\n",
      "Epoch 79/100\n",
      "8/8 [==============================] - 1s 81ms/step - loss: 8.4303e-05 - accuracy: 1.0000 - val_loss: 6.4597e-05 - val_accuracy: 1.0000\n",
      "Epoch 80/100\n",
      "8/8 [==============================] - 1s 82ms/step - loss: 1.0698e-04 - accuracy: 1.0000 - val_loss: 5.7536e-05 - val_accuracy: 1.0000\n",
      "Epoch 81/100\n",
      "8/8 [==============================] - 1s 83ms/step - loss: 7.9276e-05 - accuracy: 1.0000 - val_loss: 6.5149e-05 - val_accuracy: 1.0000\n",
      "Epoch 82/100\n",
      "8/8 [==============================] - 1s 81ms/step - loss: 8.3129e-05 - accuracy: 1.0000 - val_loss: 5.6055e-05 - val_accuracy: 1.0000\n",
      "Epoch 83/100\n",
      "8/8 [==============================] - 1s 82ms/step - loss: 9.1622e-05 - accuracy: 1.0000 - val_loss: 5.2755e-05 - val_accuracy: 1.0000\n",
      "Epoch 84/100\n",
      "8/8 [==============================] - 1s 82ms/step - loss: 8.1989e-05 - accuracy: 1.0000 - val_loss: 6.7716e-05 - val_accuracy: 1.0000\n",
      "Epoch 85/100\n",
      "8/8 [==============================] - 1s 83ms/step - loss: 7.5520e-05 - accuracy: 1.0000 - val_loss: 4.7591e-05 - val_accuracy: 1.0000\n",
      "Epoch 86/100\n",
      "8/8 [==============================] - 1s 84ms/step - loss: 8.4652e-05 - accuracy: 1.0000 - val_loss: 5.9740e-05 - val_accuracy: 1.0000\n",
      "Epoch 87/100\n",
      "8/8 [==============================] - 1s 81ms/step - loss: 8.1959e-05 - accuracy: 1.0000 - val_loss: 4.9542e-05 - val_accuracy: 1.0000\n",
      "Epoch 88/100\n",
      "8/8 [==============================] - 1s 83ms/step - loss: 6.9434e-05 - accuracy: 1.0000 - val_loss: 5.2318e-05 - val_accuracy: 1.0000\n",
      "Epoch 89/100\n",
      "8/8 [==============================] - 1s 83ms/step - loss: 7.3008e-05 - accuracy: 1.0000 - val_loss: 5.4112e-05 - val_accuracy: 1.0000\n",
      "Epoch 90/100\n",
      "8/8 [==============================] - 1s 83ms/step - loss: 8.0179e-05 - accuracy: 1.0000 - val_loss: 4.4142e-05 - val_accuracy: 1.0000\n",
      "Epoch 91/100\n",
      "8/8 [==============================] - 1s 82ms/step - loss: 7.1869e-05 - accuracy: 1.0000 - val_loss: 5.2842e-05 - val_accuracy: 1.0000\n",
      "Epoch 92/100\n",
      "8/8 [==============================] - 1s 84ms/step - loss: 7.7522e-05 - accuracy: 1.0000 - val_loss: 4.7309e-05 - val_accuracy: 1.0000\n",
      "Epoch 93/100\n",
      "8/8 [==============================] - 1s 81ms/step - loss: 6.5072e-05 - accuracy: 1.0000 - val_loss: 5.4887e-05 - val_accuracy: 1.0000\n",
      "Epoch 94/100\n",
      "8/8 [==============================] - 1s 81ms/step - loss: 6.5623e-05 - accuracy: 1.0000 - val_loss: 5.5568e-05 - val_accuracy: 1.0000\n",
      "Epoch 95/100\n",
      "8/8 [==============================] - 1s 81ms/step - loss: 6.1783e-05 - accuracy: 1.0000 - val_loss: 4.6037e-05 - val_accuracy: 1.0000\n",
      "Epoch 96/100\n",
      "8/8 [==============================] - 1s 81ms/step - loss: 6.5938e-05 - accuracy: 1.0000 - val_loss: 4.2221e-05 - val_accuracy: 1.0000\n",
      "Epoch 97/100\n",
      "8/8 [==============================] - 1s 82ms/step - loss: 6.3434e-05 - accuracy: 1.0000 - val_loss: 3.9340e-05 - val_accuracy: 1.0000\n",
      "Epoch 98/100\n",
      "8/8 [==============================] - 1s 80ms/step - loss: 5.8861e-05 - accuracy: 1.0000 - val_loss: 4.0702e-05 - val_accuracy: 1.0000\n",
      "Epoch 99/100\n",
      "8/8 [==============================] - 1s 82ms/step - loss: 5.9001e-05 - accuracy: 1.0000 - val_loss: 4.4675e-05 - val_accuracy: 1.0000\n",
      "Epoch 100/100\n",
      "8/8 [==============================] - 1s 82ms/step - loss: 6.6463e-05 - accuracy: 1.0000 - val_loss: 3.8387e-05 - val_accuracy: 1.0000\n",
      "35/35 [==============================] - 0s 5ms/step - loss: 7.2512e-05 - accuracy: 1.0000\n"
     ]
    },
    {
     "data": {
      "image/png": "[encoded data removed]",
      "text/plain": [
       "<Figure size 504x432 with 2 Axes>"
      ]
     },
     "metadata": {
      "needs_background": "light"
     },
     "output_type": "display_data"
    },
    {
     "name": "stdout",
     "output_type": "stream",
     "text": [
      "Precision:1.0\n",
      "Recall:1.0\n",
      "F1_score:1.0\n",
      "              precision    recall  f1-score   support\n",
      "\n",
      "           0       1.00      1.00      1.00       100\n",
      "           1       1.00      1.00      1.00       100\n",
      "           2       1.00      1.00      1.00       100\n",
      "           3       1.00      1.00      1.00       100\n",
      "           4       1.00      1.00      1.00       100\n",
      "           5       1.00      1.00      1.00       100\n",
      "           6       1.00      1.00      1.00       100\n",
      "           7       1.00      1.00      1.00       100\n",
      "           8       1.00      1.00      1.00       100\n",
      "           9       1.00      1.00      1.00       100\n",
      "          10       1.00      1.00      1.00       100\n",
      "\n",
      "    accuracy                           1.00      1100\n",
      "   macro avg       1.00      1.00      1.00      1100\n",
      "weighted avg       1.00      1.00      1.00      1100\n",
      "\n",
      "Epoch 1/100\n",
      "8/8 [==============================] - 1s 99ms/step - loss: 2.3987 - accuracy: 0.0859 - val_loss: 2.3984 - val_accuracy: 0.1045\n",
      "Epoch 2/100\n",
      "8/8 [==============================] - 1s 81ms/step - loss: 2.3929 - accuracy: 0.0995 - val_loss: 2.3865 - val_accuracy: 0.1932\n",
      "Epoch 3/100\n",
      "8/8 [==============================] - 1s 81ms/step - loss: 2.3824 - accuracy: 0.1341 - val_loss: 2.3945 - val_accuracy: 0.0000e+00\n",
      "Epoch 4/100\n",
      "8/8 [==============================] - 1s 81ms/step - loss: 2.3642 - accuracy: 0.0982 - val_loss: 2.3642 - val_accuracy: 0.1045\n",
      "Epoch 5/100\n",
      "8/8 [==============================] - 1s 81ms/step - loss: 2.3348 - accuracy: 0.0894 - val_loss: 2.3179 - val_accuracy: 0.1045\n",
      "Epoch 6/100\n",
      "8/8 [==============================] - 1s 82ms/step - loss: 2.2876 - accuracy: 0.0894 - val_loss: 2.2746 - val_accuracy: 0.1045\n",
      "Epoch 7/100\n",
      "8/8 [==============================] - 1s 82ms/step - loss: 2.2407 - accuracy: 0.0894 - val_loss: 2.2429 - val_accuracy: 0.1045\n",
      "Epoch 8/100\n",
      "8/8 [==============================] - 1s 83ms/step - loss: 2.1965 - accuracy: 0.1396 - val_loss: 2.1568 - val_accuracy: 0.1841\n",
      "Epoch 9/100\n",
      "8/8 [==============================] - 1s 82ms/step - loss: 2.1279 - accuracy: 0.1816 - val_loss: 2.0959 - val_accuracy: 0.1114\n",
      "Epoch 10/100\n",
      "8/8 [==============================] - 1s 83ms/step - loss: 2.0500 - accuracy: 0.2056 - val_loss: 2.0089 - val_accuracy: 0.2659\n",
      "Epoch 11/100\n",
      "8/8 [==============================] - 1s 81ms/step - loss: 1.9763 - accuracy: 0.2548 - val_loss: 1.9060 - val_accuracy: 0.2659\n",
      "Epoch 12/100\n",
      "8/8 [==============================] - 1s 83ms/step - loss: 1.8657 - accuracy: 0.2609 - val_loss: 1.7549 - val_accuracy: 0.2659\n",
      "Epoch 13/100\n",
      "8/8 [==============================] - 1s 80ms/step - loss: 1.7375 - accuracy: 0.2669 - val_loss: 2.1864 - val_accuracy: 0.2864\n",
      "Epoch 14/100\n",
      "8/8 [==============================] - 1s 82ms/step - loss: 2.3165 - accuracy: 0.1308 - val_loss: 2.3994 - val_accuracy: 0.0955\n",
      "Epoch 15/100\n",
      "8/8 [==============================] - 1s 80ms/step - loss: 2.4033 - accuracy: 0.0922 - val_loss: 2.4009 - val_accuracy: 0.1136\n",
      "Epoch 16/100\n",
      "8/8 [==============================] - 1s 82ms/step - loss: 2.4004 - accuracy: 0.0982 - val_loss: 2.3966 - val_accuracy: 0.1136\n",
      "Epoch 17/100\n",
      "8/8 [==============================] - 1s 82ms/step - loss: 2.4005 - accuracy: 0.0904 - val_loss: 2.4011 - val_accuracy: 0.1136\n",
      "Epoch 18/100\n",
      "8/8 [==============================] - 1s 81ms/step - loss: 2.4016 - accuracy: 0.0843 - val_loss: 2.4011 - val_accuracy: 0.0795\n",
      "Epoch 19/100\n",
      "8/8 [==============================] - 1s 82ms/step - loss: 2.4013 - accuracy: 0.0922 - val_loss: 2.4011 - val_accuracy: 0.0795\n",
      "Epoch 20/100\n",
      "8/8 [==============================] - 1s 80ms/step - loss: 2.4011 - accuracy: 0.0922 - val_loss: 2.4012 - val_accuracy: 0.0795\n",
      "Epoch 21/100\n",
      "8/8 [==============================] - 1s 81ms/step - loss: 2.4008 - accuracy: 0.0922 - val_loss: 2.4012 - val_accuracy: 0.0795\n",
      "Epoch 22/100\n",
      "8/8 [==============================] - 1s 81ms/step - loss: 2.4006 - accuracy: 0.0922 - val_loss: 2.4012 - val_accuracy: 0.0795\n",
      "Epoch 23/100\n",
      "8/8 [==============================] - 1s 83ms/step - loss: 2.4003 - accuracy: 0.0922 - val_loss: 2.4013 - val_accuracy: 0.0795\n",
      "Epoch 24/100\n",
      "8/8 [==============================] - 1s 83ms/step - loss: 2.4001 - accuracy: 0.0922 - val_loss: 2.4013 - val_accuracy: 0.0795\n",
      "Epoch 25/100\n",
      "8/8 [==============================] - 1s 81ms/step - loss: 2.4000 - accuracy: 0.0922 - val_loss: 2.4014 - val_accuracy: 0.0795\n",
      "Epoch 26/100\n",
      "8/8 [==============================] - 1s 80ms/step - loss: 2.3998 - accuracy: 0.0922 - val_loss: 2.4014 - val_accuracy: 0.0795\n",
      "Epoch 27/100\n",
      "8/8 [==============================] - 1s 82ms/step - loss: 2.3997 - accuracy: 0.0922 - val_loss: 2.4014 - val_accuracy: 0.0795\n",
      "Epoch 28/100\n",
      "8/8 [==============================] - 1s 82ms/step - loss: 2.3995 - accuracy: 0.0922 - val_loss: 2.4014 - val_accuracy: 0.0795\n",
      "Epoch 29/100\n",
      "8/8 [==============================] - 1s 83ms/step - loss: 2.3994 - accuracy: 0.0922 - val_loss: 2.4014 - val_accuracy: 0.0795\n",
      "Epoch 30/100\n",
      "8/8 [==============================] - 1s 83ms/step - loss: 2.3993 - accuracy: 0.0922 - val_loss: 2.4014 - val_accuracy: 0.0795\n",
      "Epoch 31/100\n",
      "8/8 [==============================] - 1s 82ms/step - loss: 2.3992 - accuracy: 0.0922 - val_loss: 2.4014 - val_accuracy: 0.0795\n",
      "Epoch 32/100\n",
      "8/8 [==============================] - 1s 82ms/step - loss: 2.3991 - accuracy: 0.0922 - val_loss: 2.4015 - val_accuracy: 0.0795\n",
      "Epoch 33/100\n",
      "8/8 [==============================] - 1s 82ms/step - loss: 2.3990 - accuracy: 0.0922 - val_loss: 2.4015 - val_accuracy: 0.0795\n",
      "Epoch 34/100\n",
      "8/8 [==============================] - 1s 81ms/step - loss: 2.3989 - accuracy: 0.0922 - val_loss: 2.4015 - val_accuracy: 0.0795\n",
      "Epoch 35/100\n",
      "8/8 [==============================] - 1s 81ms/step - loss: 2.3989 - accuracy: 0.0922 - val_loss: 2.4014 - val_accuracy: 0.0795\n",
      "Epoch 36/100\n",
      "8/8 [==============================] - 1s 82ms/step - loss: 2.3988 - accuracy: 0.0922 - val_loss: 2.4014 - val_accuracy: 0.0795\n",
      "Epoch 37/100\n",
      "8/8 [==============================] - 1s 83ms/step - loss: 2.3988 - accuracy: 0.0922 - val_loss: 2.4014 - val_accuracy: 0.0795\n",
      "Epoch 38/100\n",
      "8/8 [==============================] - 1s 82ms/step - loss: 2.3987 - accuracy: 0.0922 - val_loss: 2.4013 - val_accuracy: 0.0795\n",
      "Epoch 39/100\n",
      "8/8 [==============================] - 1s 80ms/step - loss: 2.3986 - accuracy: 0.0922 - val_loss: 2.4013 - val_accuracy: 0.0795\n",
      "Epoch 40/100\n",
      "8/8 [==============================] - 1s 81ms/step - loss: 2.3986 - accuracy: 0.0922 - val_loss: 2.4013 - val_accuracy: 0.0795\n",
      "Epoch 41/100\n",
      "8/8 [==============================] - 1s 81ms/step - loss: 2.3985 - accuracy: 0.0922 - val_loss: 2.4012 - val_accuracy: 0.0795\n",
      "Epoch 42/100\n",
      "8/8 [==============================] - 1s 82ms/step - loss: 2.3985 - accuracy: 0.0922 - val_loss: 2.4011 - val_accuracy: 0.0795\n",
      "Epoch 43/100\n",
      "8/8 [==============================] - 1s 80ms/step - loss: 2.3984 - accuracy: 0.0922 - val_loss: 2.4011 - val_accuracy: 0.0795\n",
      "Epoch 44/100\n",
      "8/8 [==============================] - 1s 80ms/step - loss: 2.3984 - accuracy: 0.0922 - val_loss: 2.4010 - val_accuracy: 0.0795\n",
      "Epoch 45/100\n",
      "8/8 [==============================] - 1s 82ms/step - loss: 2.3983 - accuracy: 0.0922 - val_loss: 2.4009 - val_accuracy: 0.0795\n",
      "Epoch 46/100\n",
      "8/8 [==============================] - 1s 81ms/step - loss: 2.3983 - accuracy: 0.0922 - val_loss: 2.4008 - val_accuracy: 0.0795\n",
      "Epoch 47/100\n",
      "8/8 [==============================] - 1s 81ms/step - loss: 2.3982 - accuracy: 0.0922 - val_loss: 2.4007 - val_accuracy: 0.0795\n",
      "Epoch 48/100\n",
      "8/8 [==============================] - 1s 80ms/step - loss: 2.3982 - accuracy: 0.0922 - val_loss: 2.4007 - val_accuracy: 0.0795\n",
      "Epoch 49/100\n",
      "8/8 [==============================] - 1s 82ms/step - loss: 2.3982 - accuracy: 0.0922 - val_loss: 2.4006 - val_accuracy: 0.0795\n",
      "Epoch 50/100\n",
      "8/8 [==============================] - 1s 82ms/step - loss: 2.3981 - accuracy: 0.0922 - val_loss: 2.4005 - val_accuracy: 0.0795\n",
      "Epoch 51/100\n",
      "8/8 [==============================] - 1s 83ms/step - loss: 2.3981 - accuracy: 0.0922 - val_loss: 2.4005 - val_accuracy: 0.0795\n",
      "Epoch 52/100\n",
      "8/8 [==============================] - 1s 82ms/step - loss: 2.3981 - accuracy: 0.0929 - val_loss: 2.4003 - val_accuracy: 0.0886\n",
      "Epoch 53/100\n",
      "8/8 [==============================] - 1s 82ms/step - loss: 2.3981 - accuracy: 0.0912 - val_loss: 2.4004 - val_accuracy: 0.0886\n",
      "Epoch 54/100\n",
      "8/8 [==============================] - 1s 81ms/step - loss: 2.3980 - accuracy: 0.0912 - val_loss: 2.4004 - val_accuracy: 0.0886\n",
      "Epoch 55/100\n",
      "8/8 [==============================] - 1s 81ms/step - loss: 2.3980 - accuracy: 0.0912 - val_loss: 2.4004 - val_accuracy: 0.0886\n",
      "Epoch 56/100\n",
      "8/8 [==============================] - 1s 82ms/step - loss: 2.3980 - accuracy: 0.0912 - val_loss: 2.4003 - val_accuracy: 0.0886\n",
      "Epoch 57/100\n",
      "8/8 [==============================] - 1s 84ms/step - loss: 2.3980 - accuracy: 0.0912 - val_loss: 2.4003 - val_accuracy: 0.0886\n",
      "Epoch 58/100\n",
      "8/8 [==============================] - 1s 81ms/step - loss: 2.3980 - accuracy: 0.0912 - val_loss: 2.4003 - val_accuracy: 0.0886\n",
      "Epoch 59/100\n",
      "8/8 [==============================] - 1s 80ms/step - loss: 2.3979 - accuracy: 0.0912 - val_loss: 2.4003 - val_accuracy: 0.0886\n",
      "Epoch 60/100\n",
      "8/8 [==============================] - 1s 82ms/step - loss: 2.3979 - accuracy: 0.0912 - val_loss: 2.4003 - val_accuracy: 0.0886\n",
      "Epoch 61/100\n",
      "8/8 [==============================] - 1s 83ms/step - loss: 2.3979 - accuracy: 0.0912 - val_loss: 2.4003 - val_accuracy: 0.0886\n",
      "Epoch 62/100\n",
      "8/8 [==============================] - 1s 84ms/step - loss: 2.3979 - accuracy: 0.0912 - val_loss: 2.4003 - val_accuracy: 0.0886\n",
      "Epoch 63/100\n",
      "8/8 [==============================] - 1s 83ms/step - loss: 2.3979 - accuracy: 0.0912 - val_loss: 2.4003 - val_accuracy: 0.0886\n",
      "Epoch 64/100\n",
      "8/8 [==============================] - 1s 81ms/step - loss: 2.3979 - accuracy: 0.0912 - val_loss: 2.4003 - val_accuracy: 0.0886\n",
      "Epoch 65/100\n",
      "8/8 [==============================] - 1s 83ms/step - loss: 2.3979 - accuracy: 0.0912 - val_loss: 2.4003 - val_accuracy: 0.0886\n",
      "Epoch 66/100\n",
      "8/8 [==============================] - 1s 81ms/step - loss: 2.3979 - accuracy: 0.0879 - val_loss: 2.4002 - val_accuracy: 0.0886\n",
      "Epoch 67/100\n",
      "8/8 [==============================] - 1s 83ms/step - loss: 2.3979 - accuracy: 0.0912 - val_loss: 2.4002 - val_accuracy: 0.0886\n",
      "Epoch 68/100\n",
      "8/8 [==============================] - 1s 82ms/step - loss: 2.3979 - accuracy: 0.0891 - val_loss: 2.4002 - val_accuracy: 0.0750\n",
      "Epoch 69/100\n",
      "8/8 [==============================] - 1s 83ms/step - loss: 2.3979 - accuracy: 0.0927 - val_loss: 2.4002 - val_accuracy: 0.0750\n",
      "Epoch 70/100\n",
      "8/8 [==============================] - 1s 80ms/step - loss: 2.3978 - accuracy: 0.0927 - val_loss: 2.4003 - val_accuracy: 0.0750\n",
      "Epoch 71/100\n",
      "8/8 [==============================] - 1s 81ms/step - loss: 2.3978 - accuracy: 0.0927 - val_loss: 2.4004 - val_accuracy: 0.0750\n",
      "Epoch 72/100\n",
      "8/8 [==============================] - 1s 81ms/step - loss: 2.3978 - accuracy: 0.0927 - val_loss: 2.4003 - val_accuracy: 0.0750\n",
      "Epoch 73/100\n",
      "8/8 [==============================] - 1s 80ms/step - loss: 2.3978 - accuracy: 0.0896 - val_loss: 2.4004 - val_accuracy: 0.0727\n",
      "Epoch 74/100\n",
      "8/8 [==============================] - 1s 82ms/step - loss: 2.3978 - accuracy: 0.0929 - val_loss: 2.4004 - val_accuracy: 0.0727\n",
      "Epoch 75/100\n",
      "8/8 [==============================] - 1s 81ms/step - loss: 2.3978 - accuracy: 0.0929 - val_loss: 2.4004 - val_accuracy: 0.0727\n",
      "Epoch 76/100\n",
      "8/8 [==============================] - 1s 81ms/step - loss: 2.3978 - accuracy: 0.0929 - val_loss: 2.4004 - val_accuracy: 0.0727\n",
      "Epoch 77/100\n",
      "8/8 [==============================] - 1s 81ms/step - loss: 2.3978 - accuracy: 0.0929 - val_loss: 2.4003 - val_accuracy: 0.0727\n",
      "Epoch 78/100\n",
      "8/8 [==============================] - 1s 83ms/step - loss: 2.3978 - accuracy: 0.0929 - val_loss: 2.4004 - val_accuracy: 0.0727\n",
      "Epoch 79/100\n",
      "8/8 [==============================] - 1s 81ms/step - loss: 2.3978 - accuracy: 0.0929 - val_loss: 2.4004 - val_accuracy: 0.0727\n",
      "Epoch 80/100\n",
      "8/8 [==============================] - 1s 83ms/step - loss: 2.3978 - accuracy: 0.0929 - val_loss: 2.4004 - val_accuracy: 0.0727\n",
      "Epoch 81/100\n",
      "8/8 [==============================] - 1s 80ms/step - loss: 2.3978 - accuracy: 0.0929 - val_loss: 2.4004 - val_accuracy: 0.0727\n",
      "Epoch 82/100\n",
      "8/8 [==============================] - 1s 81ms/step - loss: 2.3978 - accuracy: 0.0929 - val_loss: 2.4004 - val_accuracy: 0.0727\n",
      "Epoch 83/100\n",
      "8/8 [==============================] - 1s 81ms/step - loss: 2.3978 - accuracy: 0.0929 - val_loss: 2.4004 - val_accuracy: 0.0727\n",
      "Epoch 84/100\n",
      "8/8 [==============================] - 1s 82ms/step - loss: 2.3978 - accuracy: 0.0929 - val_loss: 2.4004 - val_accuracy: 0.0727\n",
      "Epoch 85/100\n",
      "8/8 [==============================] - 1s 82ms/step - loss: 2.3978 - accuracy: 0.0929 - val_loss: 2.4004 - val_accuracy: 0.0727\n",
      "Epoch 86/100\n",
      "8/8 [==============================] - 1s 83ms/step - loss: 2.3978 - accuracy: 0.0929 - val_loss: 2.4004 - val_accuracy: 0.0727\n",
      "Epoch 87/100\n",
      "8/8 [==============================] - 1s 80ms/step - loss: 2.3978 - accuracy: 0.0929 - val_loss: 2.4004 - val_accuracy: 0.0727\n",
      "Epoch 88/100\n",
      "8/8 [==============================] - 1s 80ms/step - loss: 2.3978 - accuracy: 0.0929 - val_loss: 2.4004 - val_accuracy: 0.0727\n",
      "Epoch 89/100\n",
      "8/8 [==============================] - 1s 83ms/step - loss: 2.3978 - accuracy: 0.0929 - val_loss: 2.4005 - val_accuracy: 0.0727\n",
      "Epoch 90/100\n",
      "8/8 [==============================] - 1s 84ms/step - loss: 2.3978 - accuracy: 0.0929 - val_loss: 2.4005 - val_accuracy: 0.0727\n",
      "Epoch 91/100\n",
      "8/8 [==============================] - 1s 82ms/step - loss: 2.3978 - accuracy: 0.0929 - val_loss: 2.4005 - val_accuracy: 0.0727\n",
      "Epoch 92/100\n",
      "8/8 [==============================] - 1s 82ms/step - loss: 2.3978 - accuracy: 0.0929 - val_loss: 2.4004 - val_accuracy: 0.0727\n",
      "Epoch 93/100\n",
      "8/8 [==============================] - 1s 81ms/step - loss: 2.3978 - accuracy: 0.0896 - val_loss: 2.4004 - val_accuracy: 0.0750\n",
      "Epoch 94/100\n",
      "8/8 [==============================] - 1s 82ms/step - loss: 2.3978 - accuracy: 0.0884 - val_loss: 2.4005 - val_accuracy: 0.0727\n",
      "Epoch 95/100\n",
      "8/8 [==============================] - 1s 83ms/step - loss: 2.3978 - accuracy: 0.0929 - val_loss: 2.4005 - val_accuracy: 0.0727\n",
      "Epoch 96/100\n",
      "8/8 [==============================] - 1s 83ms/step - loss: 2.3978 - accuracy: 0.0929 - val_loss: 2.4005 - val_accuracy: 0.0727\n",
      "Epoch 97/100\n",
      "8/8 [==============================] - 1s 80ms/step - loss: 2.3978 - accuracy: 0.0929 - val_loss: 2.4004 - val_accuracy: 0.0727\n",
      "Epoch 98/100\n",
      "8/8 [==============================] - 1s 81ms/step - loss: 2.3978 - accuracy: 0.0929 - val_loss: 2.4005 - val_accuracy: 0.0727\n",
      "Epoch 99/100\n",
      "8/8 [==============================] - 1s 83ms/step - loss: 2.3978 - accuracy: 0.0942 - val_loss: 2.4004 - val_accuracy: 0.0750\n",
      "Epoch 100/100\n",
      "8/8 [==============================] - 1s 84ms/step - loss: 2.3978 - accuracy: 0.0927 - val_loss: 2.4004 - val_accuracy: 0.0750\n",
      "35/35 [==============================] - 0s 5ms/step - loss: 2.3980 - accuracy: 0.0909\n"
     ]
    },
    {
     "data": {
      "image/png": "[encoded data removed]",
      "text/plain": [
       "<Figure size 504x432 with 2 Axes>"
      ]
     },
     "metadata": {
      "needs_background": "light"
     },
     "output_type": "display_data"
    },
    {
     "name": "stdout",
     "output_type": "stream",
     "text": [
      "Precision:0.00826\n",
      "Recall:0.0909\n",
      "F1_score:0.0152\n",
      "              precision    recall  f1-score   support\n",
      "\n",
      "           0       0.00      0.00      0.00       100\n",
      "           1       0.00      0.00      0.00       100\n",
      "           2       0.00      0.00      0.00       100\n",
      "           3       0.00      0.00      0.00       100\n",
      "           4       0.00      0.00      0.00       100\n",
      "           5       0.00      0.00      0.00       100\n",
      "           6       0.00      0.00      0.00       100\n",
      "           7       0.00      0.00      0.00       100\n",
      "           8       0.09      1.00      0.17       100\n",
      "           9       0.00      0.00      0.00       100\n",
      "          10       0.00      0.00      0.00       100\n",
      "\n",
      "    accuracy                           0.09      1100\n",
      "   macro avg       0.01      0.09      0.02      1100\n",
      "weighted avg       0.01      0.09      0.02      1100\n",
      "\n",
      "Epoch 1/100\n",
      "8/8 [==============================] - 1s 102ms/step - loss: 2.3995 - accuracy: 0.0980 - val_loss: 2.3981 - val_accuracy: 0.1432\n",
      "Epoch 2/100\n",
      "8/8 [==============================] - 1s 83ms/step - loss: 2.3973 - accuracy: 0.0944 - val_loss: 2.3954 - val_accuracy: 0.1659\n",
      "Epoch 3/100\n",
      "8/8 [==============================] - 1s 84ms/step - loss: 2.3816 - accuracy: 0.1250 - val_loss: 2.4278 - val_accuracy: 0.0932\n",
      "Epoch 4/100\n",
      "8/8 [==============================] - 1s 81ms/step - loss: 2.3379 - accuracy: 0.1293 - val_loss: 2.2726 - val_accuracy: 0.0932\n",
      "Epoch 5/100\n",
      "8/8 [==============================] - 1s 82ms/step - loss: 2.2487 - accuracy: 0.1553 - val_loss: 2.1925 - val_accuracy: 0.0932\n",
      "Epoch 6/100\n",
      "8/8 [==============================] - 1s 83ms/step - loss: 2.1579 - accuracy: 0.1407 - val_loss: 2.1300 - val_accuracy: 0.1727\n",
      "Epoch 7/100\n",
      "8/8 [==============================] - 1s 82ms/step - loss: 2.0918 - accuracy: 0.1793 - val_loss: 2.0624 - val_accuracy: 0.1977\n",
      "Epoch 8/100\n",
      "8/8 [==============================] - 1s 81ms/step - loss: 2.0553 - accuracy: 0.1942 - val_loss: 2.0277 - val_accuracy: 0.1977\n",
      "Epoch 9/100\n",
      "8/8 [==============================] - 1s 82ms/step - loss: 1.9911 - accuracy: 0.1866 - val_loss: 1.9984 - val_accuracy: 0.2000\n",
      "Epoch 10/100\n",
      "8/8 [==============================] - 1s 83ms/step - loss: 1.9783 - accuracy: 0.2487 - val_loss: 2.2007 - val_accuracy: 0.1977\n",
      "Epoch 11/100\n",
      "8/8 [==============================] - 1s 84ms/step - loss: 2.0091 - accuracy: 0.2290 - val_loss: 1.9836 - val_accuracy: 0.2818\n",
      "Epoch 12/100\n",
      "8/8 [==============================] - 1s 83ms/step - loss: 1.9008 - accuracy: 0.2354 - val_loss: 1.8125 - val_accuracy: 0.3091\n",
      "Epoch 13/100\n",
      "8/8 [==============================] - 1s 82ms/step - loss: 1.7577 - accuracy: 0.2740 - val_loss: 1.7598 - val_accuracy: 0.2227\n",
      "Epoch 14/100\n",
      "8/8 [==============================] - 1s 81ms/step - loss: 1.7493 - accuracy: 0.2725 - val_loss: 1.7755 - val_accuracy: 0.2114\n",
      "Epoch 15/100\n",
      "8/8 [==============================] - 1s 81ms/step - loss: 1.6601 - accuracy: 0.2763 - val_loss: 1.7009 - val_accuracy: 0.2841\n",
      "Epoch 16/100\n",
      "8/8 [==============================] - 1s 81ms/step - loss: 1.6490 - accuracy: 0.2788 - val_loss: 1.7383 - val_accuracy: 0.2477\n",
      "Epoch 17/100\n",
      "8/8 [==============================] - 1s 81ms/step - loss: 1.5886 - accuracy: 0.3121 - val_loss: 1.6063 - val_accuracy: 0.2682\n",
      "Epoch 18/100\n",
      "8/8 [==============================] - 1s 80ms/step - loss: 1.5410 - accuracy: 0.3288 - val_loss: 1.5795 - val_accuracy: 0.3409\n",
      "Epoch 19/100\n",
      "8/8 [==============================] - 1s 81ms/step - loss: 1.5022 - accuracy: 0.3543 - val_loss: 1.8968 - val_accuracy: 0.1750\n",
      "Epoch 20/100\n",
      "8/8 [==============================] - 1s 84ms/step - loss: 1.9362 - accuracy: 0.2285 - val_loss: 1.7358 - val_accuracy: 0.2773\n",
      "Epoch 21/100\n",
      "8/8 [==============================] - 1s 83ms/step - loss: 1.7482 - accuracy: 0.2780 - val_loss: 1.7246 - val_accuracy: 0.2773\n",
      "Epoch 22/100\n",
      "8/8 [==============================] - 1s 83ms/step - loss: 1.6951 - accuracy: 0.2179 - val_loss: 1.6041 - val_accuracy: 0.3068\n",
      "Epoch 23/100\n",
      "8/8 [==============================] - 1s 81ms/step - loss: 1.5255 - accuracy: 0.3253 - val_loss: 1.5373 - val_accuracy: 0.3205\n",
      "Epoch 24/100\n",
      "8/8 [==============================] - 1s 80ms/step - loss: 1.4841 - accuracy: 0.3442 - val_loss: 1.4941 - val_accuracy: 0.3477\n",
      "Epoch 25/100\n",
      "8/8 [==============================] - 1s 85ms/step - loss: 1.4485 - accuracy: 0.3553 - val_loss: 1.4501 - val_accuracy: 0.3341\n",
      "Epoch 26/100\n",
      "8/8 [==============================] - 1s 84ms/step - loss: 1.3899 - accuracy: 0.3725 - val_loss: 1.4350 - val_accuracy: 0.3250\n",
      "Epoch 27/100\n",
      "8/8 [==============================] - 1s 83ms/step - loss: 1.3577 - accuracy: 0.3854 - val_loss: 1.4045 - val_accuracy: 0.3591\n",
      "Epoch 28/100\n",
      "8/8 [==============================] - 1s 82ms/step - loss: 1.4879 - accuracy: 0.3379 - val_loss: 1.5550 - val_accuracy: 0.3500\n",
      "Epoch 29/100\n",
      "8/8 [==============================] - 1s 81ms/step - loss: 1.6185 - accuracy: 0.3056 - val_loss: 1.4517 - val_accuracy: 0.4364\n",
      "Epoch 30/100\n",
      "8/8 [==============================] - 1s 83ms/step - loss: 1.4332 - accuracy: 0.3725 - val_loss: 1.4449 - val_accuracy: 0.3182\n",
      "Epoch 31/100\n",
      "8/8 [==============================] - 1s 82ms/step - loss: 1.3207 - accuracy: 0.3851 - val_loss: 1.3549 - val_accuracy: 0.3636\n",
      "Epoch 32/100\n",
      "8/8 [==============================] - 1s 83ms/step - loss: 1.2414 - accuracy: 0.4177 - val_loss: 1.2862 - val_accuracy: 0.3727\n",
      "Epoch 33/100\n",
      "8/8 [==============================] - 1s 83ms/step - loss: 1.1837 - accuracy: 0.4487 - val_loss: 1.2262 - val_accuracy: 0.5068\n",
      "Epoch 34/100\n",
      "8/8 [==============================] - 1s 83ms/step - loss: 1.1320 - accuracy: 0.5126 - val_loss: 1.5097 - val_accuracy: 0.3614\n",
      "Epoch 35/100\n",
      "8/8 [==============================] - 1s 81ms/step - loss: 2.6008 - accuracy: 0.2240 - val_loss: 2.2545 - val_accuracy: 0.0932\n",
      "Epoch 36/100\n",
      "8/8 [==============================] - 1s 82ms/step - loss: 2.0796 - accuracy: 0.1639 - val_loss: 1.9783 - val_accuracy: 0.1250\n",
      "Epoch 37/100\n",
      "8/8 [==============================] - 1s 83ms/step - loss: 1.9532 - accuracy: 0.1740 - val_loss: 1.8612 - val_accuracy: 0.2568\n",
      "Epoch 38/100\n",
      "8/8 [==============================] - 1s 81ms/step - loss: 1.8067 - accuracy: 0.2745 - val_loss: 1.7289 - val_accuracy: 0.2568\n",
      "Epoch 39/100\n",
      "8/8 [==============================] - 1s 81ms/step - loss: 1.6285 - accuracy: 0.2982 - val_loss: 1.5594 - val_accuracy: 0.2636\n",
      "Epoch 40/100\n",
      "8/8 [==============================] - 1s 84ms/step - loss: 1.4573 - accuracy: 0.2747 - val_loss: 1.4052 - val_accuracy: 0.3568\n",
      "Epoch 41/100\n",
      "8/8 [==============================] - 1s 82ms/step - loss: 1.2914 - accuracy: 0.3654 - val_loss: 1.6995 - val_accuracy: 0.3432\n",
      "Epoch 42/100\n",
      "8/8 [==============================] - 1s 83ms/step - loss: 1.5964 - accuracy: 0.3907 - val_loss: 1.4411 - val_accuracy: 0.3614\n",
      "Epoch 43/100\n",
      "8/8 [==============================] - 1s 84ms/step - loss: 1.4458 - accuracy: 0.3598 - val_loss: 1.3667 - val_accuracy: 0.4023\n",
      "Epoch 44/100\n",
      "8/8 [==============================] - 1s 84ms/step - loss: 1.3306 - accuracy: 0.4563 - val_loss: 1.3437 - val_accuracy: 0.3750\n",
      "Epoch 45/100\n",
      "8/8 [==============================] - 1s 84ms/step - loss: 1.2536 - accuracy: 0.4258 - val_loss: 1.2410 - val_accuracy: 0.5091\n",
      "Epoch 46/100\n",
      "8/8 [==============================] - 1s 81ms/step - loss: 1.1543 - accuracy: 0.4992 - val_loss: 1.1401 - val_accuracy: 0.6159\n",
      "Epoch 47/100\n",
      "8/8 [==============================] - 1s 83ms/step - loss: 1.0466 - accuracy: 0.5657 - val_loss: 1.0466 - val_accuracy: 0.5182\n",
      "Epoch 48/100\n",
      "8/8 [==============================] - 1s 81ms/step - loss: 0.9602 - accuracy: 0.5609 - val_loss: 0.9738 - val_accuracy: 0.5182\n",
      "Epoch 49/100\n",
      "8/8 [==============================] - 1s 82ms/step - loss: 0.8889 - accuracy: 0.5841 - val_loss: 0.9189 - val_accuracy: 0.5909\n",
      "Epoch 50/100\n",
      "8/8 [==============================] - 1s 83ms/step - loss: 0.8219 - accuracy: 0.6462 - val_loss: 0.8388 - val_accuracy: 0.5818\n",
      "Epoch 51/100\n",
      "8/8 [==============================] - 1s 81ms/step - loss: 0.7679 - accuracy: 0.6318 - val_loss: 0.7899 - val_accuracy: 0.5977\n",
      "Epoch 52/100\n",
      "8/8 [==============================] - 1s 80ms/step - loss: 0.7470 - accuracy: 0.6806 - val_loss: 0.7700 - val_accuracy: 0.6932\n",
      "Epoch 53/100\n",
      "8/8 [==============================] - 1s 81ms/step - loss: 0.7089 - accuracy: 0.6722 - val_loss: 0.7766 - val_accuracy: 0.5795\n",
      "Epoch 54/100\n",
      "8/8 [==============================] - 1s 83ms/step - loss: 0.6545 - accuracy: 0.6972 - val_loss: 0.6388 - val_accuracy: 0.5864\n",
      "Epoch 55/100\n",
      "8/8 [==============================] - 1s 83ms/step - loss: 0.5722 - accuracy: 0.7212 - val_loss: 0.5621 - val_accuracy: 0.7932\n",
      "Epoch 56/100\n",
      "8/8 [==============================] - 1s 84ms/step - loss: 0.5135 - accuracy: 0.7955 - val_loss: 0.5077 - val_accuracy: 0.7795\n",
      "Epoch 57/100\n",
      "8/8 [==============================] - 1s 81ms/step - loss: 0.4543 - accuracy: 0.7947 - val_loss: 0.4779 - val_accuracy: 0.7886\n",
      "Epoch 58/100\n",
      "8/8 [==============================] - 1s 81ms/step - loss: 0.4609 - accuracy: 0.7970 - val_loss: 0.5271 - val_accuracy: 0.7909\n",
      "Epoch 59/100\n",
      "8/8 [==============================] - 1s 82ms/step - loss: 0.4177 - accuracy: 0.8540 - val_loss: 0.3621 - val_accuracy: 0.9023\n",
      "Epoch 60/100\n",
      "8/8 [==============================] - 1s 81ms/step - loss: 0.3299 - accuracy: 0.8967 - val_loss: 0.2996 - val_accuracy: 0.9023\n",
      "Epoch 61/100\n",
      "8/8 [==============================] - 1s 82ms/step - loss: 0.2734 - accuracy: 0.9106 - val_loss: 0.2712 - val_accuracy: 0.8386\n",
      "Epoch 62/100\n",
      "8/8 [==============================] - 1s 80ms/step - loss: 0.2345 - accuracy: 0.9270 - val_loss: 0.2661 - val_accuracy: 0.7932\n",
      "Epoch 63/100\n",
      "8/8 [==============================] - 1s 81ms/step - loss: 0.2812 - accuracy: 0.8894 - val_loss: 1.0770 - val_accuracy: 0.6136\n",
      "Epoch 64/100\n",
      "8/8 [==============================] - 1s 83ms/step - loss: 6.2840 - accuracy: 0.3669 - val_loss: 4.3422 - val_accuracy: 0.3886\n",
      "Epoch 65/100\n",
      "8/8 [==============================] - 1s 82ms/step - loss: 2.2592 - accuracy: 0.4192 - val_loss: 1.4199 - val_accuracy: 0.3091\n",
      "Epoch 66/100\n",
      "8/8 [==============================] - 1s 84ms/step - loss: 1.2200 - accuracy: 0.5341 - val_loss: 1.1285 - val_accuracy: 0.4545\n",
      "Epoch 67/100\n",
      "8/8 [==============================] - 1s 81ms/step - loss: 1.1479 - accuracy: 0.5023 - val_loss: 1.1060 - val_accuracy: 0.6091\n",
      "Epoch 68/100\n",
      "8/8 [==============================] - 1s 83ms/step - loss: 1.0532 - accuracy: 0.6293 - val_loss: 1.0279 - val_accuracy: 0.6318\n",
      "Epoch 69/100\n",
      "8/8 [==============================] - 1s 82ms/step - loss: 0.9308 - accuracy: 0.6884 - val_loss: 0.8577 - val_accuracy: 0.6818\n",
      "Epoch 70/100\n",
      "8/8 [==============================] - 1s 81ms/step - loss: 0.7739 - accuracy: 0.7015 - val_loss: 0.7151 - val_accuracy: 0.7000\n",
      "Epoch 71/100\n",
      "8/8 [==============================] - 1s 81ms/step - loss: 0.6309 - accuracy: 0.8770 - val_loss: 0.5784 - val_accuracy: 0.8932\n",
      "Epoch 72/100\n",
      "8/8 [==============================] - 1s 81ms/step - loss: 0.5211 - accuracy: 0.9058 - val_loss: 0.4933 - val_accuracy: 0.8977\n",
      "Epoch 73/100\n",
      "8/8 [==============================] - 1s 82ms/step - loss: 0.4423 - accuracy: 0.8992 - val_loss: 0.4172 - val_accuracy: 0.9091\n",
      "Epoch 74/100\n",
      "8/8 [==============================] - 1s 81ms/step - loss: 0.3791 - accuracy: 0.9124 - val_loss: 0.3719 - val_accuracy: 0.9341\n",
      "Epoch 75/100\n",
      "8/8 [==============================] - 1s 81ms/step - loss: 0.3295 - accuracy: 0.9144 - val_loss: 0.3201 - val_accuracy: 0.9091\n",
      "Epoch 76/100\n",
      "8/8 [==============================] - 1s 80ms/step - loss: 0.2877 - accuracy: 0.9182 - val_loss: 0.2833 - val_accuracy: 0.9614\n",
      "Epoch 77/100\n",
      "8/8 [==============================] - 1s 80ms/step - loss: 0.2510 - accuracy: 0.9333 - val_loss: 0.2487 - val_accuracy: 0.9864\n",
      "Epoch 78/100\n",
      "8/8 [==============================] - 1s 82ms/step - loss: 0.2180 - accuracy: 0.9975 - val_loss: 0.2171 - val_accuracy: 1.0000\n",
      "Epoch 79/100\n",
      "8/8 [==============================] - 1s 84ms/step - loss: 0.1858 - accuracy: 0.9980 - val_loss: 0.1851 - val_accuracy: 1.0000\n",
      "Epoch 80/100\n",
      "8/8 [==============================] - 1s 83ms/step - loss: 0.1589 - accuracy: 0.9990 - val_loss: 0.1520 - val_accuracy: 1.0000\n",
      "Epoch 81/100\n",
      "8/8 [==============================] - 1s 82ms/step - loss: 0.1344 - accuracy: 0.9985 - val_loss: 0.1288 - val_accuracy: 1.0000\n",
      "Epoch 82/100\n",
      "8/8 [==============================] - 1s 81ms/step - loss: 0.1122 - accuracy: 0.9992 - val_loss: 0.1071 - val_accuracy: 1.0000\n",
      "Epoch 83/100\n",
      "8/8 [==============================] - 1s 83ms/step - loss: 0.0920 - accuracy: 0.9987 - val_loss: 0.0849 - val_accuracy: 1.0000\n",
      "Epoch 84/100\n",
      "8/8 [==============================] - 1s 82ms/step - loss: 0.0753 - accuracy: 0.9995 - val_loss: 0.0691 - val_accuracy: 1.0000\n",
      "Epoch 85/100\n",
      "8/8 [==============================] - 1s 83ms/step - loss: 0.0597 - accuracy: 0.9995 - val_loss: 0.0567 - val_accuracy: 1.0000\n",
      "Epoch 86/100\n",
      "8/8 [==============================] - 1s 81ms/step - loss: 0.0498 - accuracy: 0.9990 - val_loss: 0.0502 - val_accuracy: 1.0000\n",
      "Epoch 87/100\n",
      "8/8 [==============================] - 1s 81ms/step - loss: 0.0396 - accuracy: 0.9995 - val_loss: 0.0379 - val_accuracy: 1.0000\n",
      "Epoch 88/100\n",
      "8/8 [==============================] - 1s 80ms/step - loss: 0.0368 - accuracy: 0.9987 - val_loss: 0.0357 - val_accuracy: 1.0000\n",
      "Epoch 89/100\n",
      "8/8 [==============================] - 1s 83ms/step - loss: 0.0280 - accuracy: 0.9997 - val_loss: 0.0256 - val_accuracy: 1.0000\n",
      "Epoch 90/100\n",
      "8/8 [==============================] - 1s 84ms/step - loss: 0.0221 - accuracy: 1.0000 - val_loss: 0.0219 - val_accuracy: 1.0000\n",
      "Epoch 91/100\n",
      "8/8 [==============================] - 1s 81ms/step - loss: 0.0182 - accuracy: 1.0000 - val_loss: 0.0171 - val_accuracy: 1.0000\n",
      "Epoch 92/100\n",
      "8/8 [==============================] - 1s 83ms/step - loss: 0.0155 - accuracy: 0.9997 - val_loss: 0.0150 - val_accuracy: 1.0000\n",
      "Epoch 93/100\n",
      "8/8 [==============================] - 1s 81ms/step - loss: 0.0133 - accuracy: 0.9997 - val_loss: 0.0128 - val_accuracy: 1.0000\n",
      "Epoch 94/100\n",
      "8/8 [==============================] - 1s 82ms/step - loss: 0.0114 - accuracy: 0.9997 - val_loss: 0.0111 - val_accuracy: 1.0000\n",
      "Epoch 95/100\n",
      "8/8 [==============================] - 1s 81ms/step - loss: 0.0099 - accuracy: 1.0000 - val_loss: 0.0098 - val_accuracy: 1.0000\n",
      "Epoch 96/100\n",
      "8/8 [==============================] - 1s 83ms/step - loss: 0.0089 - accuracy: 1.0000 - val_loss: 0.0089 - val_accuracy: 1.0000\n",
      "Epoch 97/100\n",
      "8/8 [==============================] - 1s 84ms/step - loss: 0.0083 - accuracy: 1.0000 - val_loss: 0.0080 - val_accuracy: 1.0000\n",
      "Epoch 98/100\n",
      "8/8 [==============================] - 1s 82ms/step - loss: 0.0078 - accuracy: 0.9997 - val_loss: 0.0073 - val_accuracy: 1.0000\n",
      "Epoch 99/100\n",
      "8/8 [==============================] - 1s 83ms/step - loss: 0.0079 - accuracy: 0.9995 - val_loss: 0.0071 - val_accuracy: 1.0000\n",
      "Epoch 100/100\n",
      "8/8 [==============================] - 1s 82ms/step - loss: 0.0186 - accuracy: 0.9987 - val_loss: 0.0209 - val_accuracy: 1.0000\n",
      "35/35 [==============================] - 0s 5ms/step - loss: 0.0176 - accuracy: 1.0000\n"
     ]
    },
    {
     "data": {
      "image/png": "[encoded data removed]",
      "text/plain": [
       "<Figure size 504x432 with 2 Axes>"
      ]
     },
     "metadata": {
      "needs_background": "light"
     },
     "output_type": "display_data"
    },
    {
     "name": "stdout",
     "output_type": "stream",
     "text": [
      "Precision:1.0\n",
      "Recall:1.0\n",
      "F1_score:1.0\n",
      "              precision    recall  f1-score   support\n",
      "\n",
      "           0       1.00      1.00      1.00       100\n",
      "           1       1.00      1.00      1.00       100\n",
      "           2       1.00      1.00      1.00       100\n",
      "           3       1.00      1.00      1.00       100\n",
      "           4       1.00      1.00      1.00       100\n",
      "           5       1.00      1.00      1.00       100\n",
      "           6       1.00      1.00      1.00       100\n",
      "           7       1.00      1.00      1.00       100\n",
      "           8       1.00      1.00      1.00       100\n",
      "           9       1.00      1.00      1.00       100\n",
      "          10       1.00      1.00      1.00       100\n",
      "\n",
      "    accuracy                           1.00      1100\n",
      "   macro avg       1.00      1.00      1.00      1100\n",
      "weighted avg       1.00      1.00      1.00      1100\n",
      "\n",
      "Epoch 1/100\n",
      "8/8 [==============================] - 1s 99ms/step - loss: 2.4047 - accuracy: 0.0922 - val_loss: 2.3959 - val_accuracy: 0.1864\n",
      "Epoch 2/100\n",
      "8/8 [==============================] - 1s 81ms/step - loss: 2.3718 - accuracy: 0.1005 - val_loss: 2.2889 - val_accuracy: 0.0955\n",
      "Epoch 3/100\n",
      "8/8 [==============================] - 1s 82ms/step - loss: 2.3173 - accuracy: 0.1260 - val_loss: 2.2378 - val_accuracy: 0.0955\n",
      "Epoch 4/100\n",
      "8/8 [==============================] - 1s 81ms/step - loss: 2.2248 - accuracy: 0.1717 - val_loss: 2.1739 - val_accuracy: 0.1614\n",
      "Epoch 5/100\n",
      "8/8 [==============================] - 1s 81ms/step - loss: 2.1679 - accuracy: 0.1841 - val_loss: 2.1161 - val_accuracy: 0.1614\n",
      "Epoch 6/100\n",
      "8/8 [==============================] - 1s 83ms/step - loss: 2.1128 - accuracy: 0.1768 - val_loss: 2.0774 - val_accuracy: 0.0955\n",
      "Epoch 7/100\n",
      "8/8 [==============================] - 1s 82ms/step - loss: 2.0476 - accuracy: 0.0874 - val_loss: 2.1278 - val_accuracy: 0.0000e+00\n",
      "Epoch 8/100\n",
      "8/8 [==============================] - 1s 84ms/step - loss: 2.1089 - accuracy: 0.1369 - val_loss: 2.0387 - val_accuracy: 0.2568\n",
      "Epoch 9/100\n",
      "8/8 [==============================] - 1s 82ms/step - loss: 1.9897 - accuracy: 0.2088 - val_loss: 1.8730 - val_accuracy: 0.1818\n",
      "Epoch 10/100\n",
      "8/8 [==============================] - 1s 83ms/step - loss: 1.8846 - accuracy: 0.2280 - val_loss: 1.9608 - val_accuracy: 0.1205\n",
      "Epoch 11/100\n",
      "8/8 [==============================] - 1s 82ms/step - loss: 1.9822 - accuracy: 0.1492 - val_loss: 1.9392 - val_accuracy: 0.3591\n",
      "Epoch 12/100\n",
      "8/8 [==============================] - 1s 82ms/step - loss: 1.8966 - accuracy: 0.2167 - val_loss: 1.7790 - val_accuracy: 0.2955\n",
      "Epoch 13/100\n",
      "8/8 [==============================] - 1s 82ms/step - loss: 1.7642 - accuracy: 0.3043 - val_loss: 1.8401 - val_accuracy: 0.1886\n",
      "Epoch 14/100\n",
      "8/8 [==============================] - 1s 83ms/step - loss: 1.7302 - accuracy: 0.3106 - val_loss: 1.7307 - val_accuracy: 0.2773\n",
      "Epoch 15/100\n",
      "8/8 [==============================] - 1s 81ms/step - loss: 1.6788 - accuracy: 0.2889 - val_loss: 1.5515 - val_accuracy: 0.3250\n",
      "Epoch 16/100\n",
      "8/8 [==============================] - 1s 81ms/step - loss: 1.5262 - accuracy: 0.3626 - val_loss: 1.4496 - val_accuracy: 0.4250\n",
      "Epoch 17/100\n",
      "8/8 [==============================] - 1s 83ms/step - loss: 1.4611 - accuracy: 0.3487 - val_loss: 1.4870 - val_accuracy: 0.3841\n",
      "Epoch 18/100\n",
      "8/8 [==============================] - 1s 81ms/step - loss: 1.3545 - accuracy: 0.4313 - val_loss: 1.2892 - val_accuracy: 0.3432\n",
      "Epoch 19/100\n",
      "8/8 [==============================] - 1s 80ms/step - loss: 1.2301 - accuracy: 0.4068 - val_loss: 1.4667 - val_accuracy: 0.2341\n",
      "Epoch 20/100\n",
      "8/8 [==============================] - 1s 83ms/step - loss: 1.7254 - accuracy: 0.3187 - val_loss: 1.2951 - val_accuracy: 0.3568\n",
      "Epoch 21/100\n",
      "8/8 [==============================] - 1s 81ms/step - loss: 1.3480 - accuracy: 0.3556 - val_loss: 1.2524 - val_accuracy: 0.4114\n",
      "Epoch 22/100\n",
      "8/8 [==============================] - 1s 83ms/step - loss: 1.1794 - accuracy: 0.4601 - val_loss: 1.1584 - val_accuracy: 0.3500\n",
      "Epoch 23/100\n",
      "8/8 [==============================] - 1s 83ms/step - loss: 1.0425 - accuracy: 0.4674 - val_loss: 0.9701 - val_accuracy: 0.4977\n",
      "Epoch 24/100\n",
      "8/8 [==============================] - 1s 84ms/step - loss: 1.0935 - accuracy: 0.4864 - val_loss: 3.4757 - val_accuracy: 0.0932\n",
      "Epoch 25/100\n",
      "8/8 [==============================] - 1s 83ms/step - loss: 2.4545 - accuracy: 0.2949 - val_loss: 2.1384 - val_accuracy: 0.1000\n",
      "Epoch 26/100\n",
      "8/8 [==============================] - 1s 82ms/step - loss: 1.8088 - accuracy: 0.1977 - val_loss: 1.4191 - val_accuracy: 0.3864\n",
      "Epoch 27/100\n",
      "8/8 [==============================] - 1s 83ms/step - loss: 1.5712 - accuracy: 0.3235 - val_loss: 1.5375 - val_accuracy: 0.1795\n",
      "Epoch 28/100\n",
      "8/8 [==============================] - 1s 83ms/step - loss: 1.3983 - accuracy: 0.3662 - val_loss: 1.3220 - val_accuracy: 0.4045\n",
      "Epoch 29/100\n",
      "8/8 [==============================] - 1s 83ms/step - loss: 1.1766 - accuracy: 0.5038 - val_loss: 1.0702 - val_accuracy: 0.5227\n",
      "Epoch 30/100\n",
      "8/8 [==============================] - 1s 82ms/step - loss: 0.9758 - accuracy: 0.5705 - val_loss: 1.1014 - val_accuracy: 0.5068\n",
      "Epoch 31/100\n",
      "8/8 [==============================] - 1s 83ms/step - loss: 0.8472 - accuracy: 0.5672 - val_loss: 0.8860 - val_accuracy: 0.6295\n",
      "Epoch 32/100\n",
      "8/8 [==============================] - 1s 84ms/step - loss: 0.9484 - accuracy: 0.6210 - val_loss: 1.2959 - val_accuracy: 0.5205\n",
      "Epoch 33/100\n",
      "8/8 [==============================] - 1s 80ms/step - loss: 0.9593 - accuracy: 0.6051 - val_loss: 0.7475 - val_accuracy: 0.6932\n",
      "Epoch 34/100\n",
      "8/8 [==============================] - 1s 82ms/step - loss: 0.6585 - accuracy: 0.8073 - val_loss: 0.5375 - val_accuracy: 0.9409\n",
      "Epoch 35/100\n",
      "8/8 [==============================] - 1s 81ms/step - loss: 0.5375 - accuracy: 0.8530 - val_loss: 0.4495 - val_accuracy: 0.9818\n",
      "Epoch 36/100\n",
      "8/8 [==============================] - 1s 80ms/step - loss: 0.3655 - accuracy: 0.9712 - val_loss: 0.3138 - val_accuracy: 0.9795\n",
      "Epoch 37/100\n",
      "8/8 [==============================] - 1s 82ms/step - loss: 0.2371 - accuracy: 0.9965 - val_loss: 0.1820 - val_accuracy: 0.9795\n",
      "Epoch 38/100\n",
      "8/8 [==============================] - 1s 85ms/step - loss: 0.1299 - accuracy: 0.9960 - val_loss: 0.1347 - val_accuracy: 0.9841\n",
      "Epoch 39/100\n",
      "8/8 [==============================] - 1s 83ms/step - loss: 0.1058 - accuracy: 0.9831 - val_loss: 0.0527 - val_accuracy: 1.0000\n",
      "Epoch 40/100\n",
      "8/8 [==============================] - 1s 83ms/step - loss: 0.0422 - accuracy: 0.9992 - val_loss: 0.0361 - val_accuracy: 1.0000\n",
      "Epoch 41/100\n",
      "8/8 [==============================] - 1s 82ms/step - loss: 0.0278 - accuracy: 1.0000 - val_loss: 0.0233 - val_accuracy: 1.0000\n",
      "Epoch 42/100\n",
      "8/8 [==============================] - 1s 81ms/step - loss: 0.0196 - accuracy: 1.0000 - val_loss: 0.0173 - val_accuracy: 1.0000\n",
      "Epoch 43/100\n",
      "8/8 [==============================] - 1s 80ms/step - loss: 0.0143 - accuracy: 1.0000 - val_loss: 0.0124 - val_accuracy: 1.0000\n",
      "Epoch 44/100\n",
      "8/8 [==============================] - 1s 81ms/step - loss: 0.0108 - accuracy: 1.0000 - val_loss: 0.0099 - val_accuracy: 1.0000\n",
      "Epoch 45/100\n",
      "8/8 [==============================] - 1s 82ms/step - loss: 0.0087 - accuracy: 1.0000 - val_loss: 0.0088 - val_accuracy: 1.0000\n",
      "Epoch 46/100\n",
      "8/8 [==============================] - 1s 82ms/step - loss: 0.0077 - accuracy: 1.0000 - val_loss: 0.0068 - val_accuracy: 1.0000\n",
      "Epoch 47/100\n",
      "8/8 [==============================] - 1s 81ms/step - loss: 0.0059 - accuracy: 1.0000 - val_loss: 0.0058 - val_accuracy: 1.0000\n",
      "Epoch 48/100\n",
      "8/8 [==============================] - 1s 81ms/step - loss: 0.0050 - accuracy: 1.0000 - val_loss: 0.0050 - val_accuracy: 1.0000\n",
      "Epoch 49/100\n",
      "8/8 [==============================] - 1s 81ms/step - loss: 0.0044 - accuracy: 1.0000 - val_loss: 0.0045 - val_accuracy: 1.0000\n",
      "Epoch 50/100\n",
      "8/8 [==============================] - 1s 81ms/step - loss: 0.0040 - accuracy: 1.0000 - val_loss: 0.0040 - val_accuracy: 1.0000\n",
      "Epoch 51/100\n",
      "8/8 [==============================] - 1s 81ms/step - loss: 0.0035 - accuracy: 1.0000 - val_loss: 0.0036 - val_accuracy: 1.0000\n",
      "Epoch 52/100\n",
      "8/8 [==============================] - 1s 83ms/step - loss: 0.0031 - accuracy: 1.0000 - val_loss: 0.0033 - val_accuracy: 1.0000\n",
      "Epoch 53/100\n",
      "8/8 [==============================] - 1s 82ms/step - loss: 0.0029 - accuracy: 1.0000 - val_loss: 0.0030 - val_accuracy: 1.0000\n",
      "Epoch 54/100\n",
      "8/8 [==============================] - 1s 81ms/step - loss: 0.0025 - accuracy: 1.0000 - val_loss: 0.0026 - val_accuracy: 1.0000\n",
      "Epoch 55/100\n",
      "8/8 [==============================] - 1s 83ms/step - loss: 0.0023 - accuracy: 1.0000 - val_loss: 0.0024 - val_accuracy: 1.0000\n",
      "Epoch 56/100\n",
      "8/8 [==============================] - 1s 83ms/step - loss: 0.0022 - accuracy: 1.0000 - val_loss: 0.0023 - val_accuracy: 1.0000\n",
      "Epoch 57/100\n",
      "8/8 [==============================] - 1s 81ms/step - loss: 0.0020 - accuracy: 1.0000 - val_loss: 0.0021 - val_accuracy: 1.0000\n",
      "Epoch 58/100\n",
      "8/8 [==============================] - 1s 81ms/step - loss: 0.0018 - accuracy: 1.0000 - val_loss: 0.0019 - val_accuracy: 1.0000\n",
      "Epoch 59/100\n",
      "8/8 [==============================] - 1s 84ms/step - loss: 0.0018 - accuracy: 1.0000 - val_loss: 0.0021 - val_accuracy: 1.0000\n",
      "Epoch 60/100\n",
      "8/8 [==============================] - 1s 83ms/step - loss: 0.0016 - accuracy: 1.0000 - val_loss: 0.0017 - val_accuracy: 1.0000\n",
      "Epoch 61/100\n",
      "8/8 [==============================] - 1s 82ms/step - loss: 0.0015 - accuracy: 1.0000 - val_loss: 0.0018 - val_accuracy: 1.0000\n",
      "Epoch 62/100\n",
      "8/8 [==============================] - 1s 81ms/step - loss: 0.0014 - accuracy: 1.0000 - val_loss: 0.0014 - val_accuracy: 1.0000\n",
      "Epoch 63/100\n",
      "8/8 [==============================] - 1s 83ms/step - loss: 0.0013 - accuracy: 1.0000 - val_loss: 0.0014 - val_accuracy: 1.0000\n",
      "Epoch 64/100\n",
      "8/8 [==============================] - 1s 82ms/step - loss: 0.0012 - accuracy: 1.0000 - val_loss: 0.0013 - val_accuracy: 1.0000\n",
      "Epoch 65/100\n",
      "8/8 [==============================] - 1s 82ms/step - loss: 0.0011 - accuracy: 1.0000 - val_loss: 0.0012 - val_accuracy: 1.0000\n",
      "Epoch 66/100\n",
      "8/8 [==============================] - 1s 81ms/step - loss: 0.0011 - accuracy: 1.0000 - val_loss: 0.0012 - val_accuracy: 1.0000\n",
      "Epoch 67/100\n",
      "8/8 [==============================] - 1s 81ms/step - loss: 0.0010 - accuracy: 1.0000 - val_loss: 0.0011 - val_accuracy: 1.0000\n",
      "Epoch 68/100\n",
      "8/8 [==============================] - 1s 81ms/step - loss: 9.4977e-04 - accuracy: 1.0000 - val_loss: 0.0011 - val_accuracy: 1.0000\n",
      "Epoch 69/100\n",
      "8/8 [==============================] - 1s 82ms/step - loss: 9.0467e-04 - accuracy: 1.0000 - val_loss: 9.8333e-04 - val_accuracy: 1.0000\n",
      "Epoch 70/100\n",
      "8/8 [==============================] - 1s 83ms/step - loss: 8.5471e-04 - accuracy: 1.0000 - val_loss: 9.1472e-04 - val_accuracy: 1.0000\n",
      "Epoch 71/100\n",
      "8/8 [==============================] - 1s 82ms/step - loss: 8.1019e-04 - accuracy: 1.0000 - val_loss: 8.9995e-04 - val_accuracy: 1.0000\n",
      "Epoch 72/100\n",
      "8/8 [==============================] - 1s 82ms/step - loss: 7.7681e-04 - accuracy: 1.0000 - val_loss: 8.5592e-04 - val_accuracy: 1.0000\n",
      "Epoch 73/100\n",
      "8/8 [==============================] - 1s 82ms/step - loss: 7.5409e-04 - accuracy: 1.0000 - val_loss: 8.3512e-04 - val_accuracy: 1.0000\n",
      "Epoch 74/100\n",
      "8/8 [==============================] - 1s 81ms/step - loss: 7.0450e-04 - accuracy: 1.0000 - val_loss: 7.6466e-04 - val_accuracy: 1.0000\n",
      "Epoch 75/100\n",
      "8/8 [==============================] - 1s 82ms/step - loss: 6.6597e-04 - accuracy: 1.0000 - val_loss: 7.0403e-04 - val_accuracy: 1.0000\n",
      "Epoch 76/100\n",
      "8/8 [==============================] - 1s 82ms/step - loss: 6.2366e-04 - accuracy: 1.0000 - val_loss: 6.7427e-04 - val_accuracy: 1.0000\n",
      "Epoch 77/100\n",
      "8/8 [==============================] - 1s 84ms/step - loss: 5.9315e-04 - accuracy: 1.0000 - val_loss: 6.4869e-04 - val_accuracy: 1.0000\n",
      "Epoch 78/100\n",
      "8/8 [==============================] - 1s 83ms/step - loss: 5.7353e-04 - accuracy: 1.0000 - val_loss: 6.2478e-04 - val_accuracy: 1.0000\n",
      "Epoch 79/100\n",
      "8/8 [==============================] - 1s 82ms/step - loss: 5.3715e-04 - accuracy: 1.0000 - val_loss: 6.2260e-04 - val_accuracy: 1.0000\n",
      "Epoch 80/100\n",
      "8/8 [==============================] - 1s 82ms/step - loss: 5.1098e-04 - accuracy: 1.0000 - val_loss: 5.5979e-04 - val_accuracy: 1.0000\n",
      "Epoch 81/100\n",
      "8/8 [==============================] - 1s 81ms/step - loss: 4.9683e-04 - accuracy: 1.0000 - val_loss: 5.4191e-04 - val_accuracy: 1.0000\n",
      "Epoch 82/100\n",
      "8/8 [==============================] - 1s 82ms/step - loss: 4.6979e-04 - accuracy: 1.0000 - val_loss: 5.2063e-04 - val_accuracy: 1.0000\n",
      "Epoch 83/100\n",
      "8/8 [==============================] - 1s 83ms/step - loss: 4.5751e-04 - accuracy: 1.0000 - val_loss: 5.1253e-04 - val_accuracy: 1.0000\n",
      "Epoch 84/100\n",
      "8/8 [==============================] - 1s 82ms/step - loss: 4.4259e-04 - accuracy: 1.0000 - val_loss: 4.9837e-04 - val_accuracy: 1.0000\n",
      "Epoch 85/100\n",
      "8/8 [==============================] - 1s 83ms/step - loss: 4.1931e-04 - accuracy: 1.0000 - val_loss: 4.6156e-04 - val_accuracy: 1.0000\n",
      "Epoch 86/100\n",
      "8/8 [==============================] - 1s 84ms/step - loss: 4.0157e-04 - accuracy: 1.0000 - val_loss: 4.5652e-04 - val_accuracy: 1.0000\n",
      "Epoch 87/100\n",
      "8/8 [==============================] - 1s 81ms/step - loss: 3.8862e-04 - accuracy: 1.0000 - val_loss: 4.3225e-04 - val_accuracy: 1.0000\n",
      "Epoch 88/100\n",
      "8/8 [==============================] - 1s 83ms/step - loss: 3.7586e-04 - accuracy: 1.0000 - val_loss: 4.3043e-04 - val_accuracy: 1.0000\n",
      "Epoch 89/100\n",
      "8/8 [==============================] - 1s 83ms/step - loss: 3.6283e-04 - accuracy: 1.0000 - val_loss: 4.1554e-04 - val_accuracy: 1.0000\n",
      "Epoch 90/100\n",
      "8/8 [==============================] - 1s 83ms/step - loss: 3.4960e-04 - accuracy: 1.0000 - val_loss: 3.8398e-04 - val_accuracy: 1.0000\n",
      "Epoch 91/100\n",
      "8/8 [==============================] - 1s 83ms/step - loss: 3.3696e-04 - accuracy: 1.0000 - val_loss: 3.8500e-04 - val_accuracy: 1.0000\n",
      "Epoch 92/100\n",
      "8/8 [==============================] - 1s 82ms/step - loss: 3.2649e-04 - accuracy: 1.0000 - val_loss: 3.7323e-04 - val_accuracy: 1.0000\n",
      "Epoch 93/100\n",
      "8/8 [==============================] - 1s 82ms/step - loss: 3.1831e-04 - accuracy: 1.0000 - val_loss: 3.5803e-04 - val_accuracy: 1.0000\n",
      "Epoch 94/100\n",
      "8/8 [==============================] - 1s 81ms/step - loss: 3.0986e-04 - accuracy: 1.0000 - val_loss: 3.6484e-04 - val_accuracy: 1.0000\n",
      "Epoch 95/100\n",
      "8/8 [==============================] - 1s 83ms/step - loss: 3.0066e-04 - accuracy: 1.0000 - val_loss: 3.3209e-04 - val_accuracy: 1.0000\n",
      "Epoch 96/100\n",
      "8/8 [==============================] - 1s 81ms/step - loss: 3.0763e-04 - accuracy: 1.0000 - val_loss: 3.4579e-04 - val_accuracy: 1.0000\n",
      "Epoch 97/100\n",
      "8/8 [==============================] - 1s 80ms/step - loss: 2.8930e-04 - accuracy: 1.0000 - val_loss: 3.1476e-04 - val_accuracy: 1.0000\n",
      "Epoch 98/100\n",
      "8/8 [==============================] - 1s 81ms/step - loss: 2.8239e-04 - accuracy: 1.0000 - val_loss: 3.3254e-04 - val_accuracy: 1.0000\n",
      "Epoch 99/100\n",
      "8/8 [==============================] - 1s 82ms/step - loss: 2.6843e-04 - accuracy: 1.0000 - val_loss: 2.9488e-04 - val_accuracy: 1.0000\n",
      "Epoch 100/100\n",
      "8/8 [==============================] - 1s 82ms/step - loss: 2.5260e-04 - accuracy: 1.0000 - val_loss: 2.9020e-04 - val_accuracy: 1.0000\n",
      "35/35 [==============================] - 0s 5ms/step - loss: 2.1693e-04 - accuracy: 1.0000\n"
     ]
    },
    {
     "data": {
      "image/png": "[encoded data removed]",
      "text/plain": [
       "<Figure size 504x432 with 2 Axes>"
      ]
     },
     "metadata": {
      "needs_background": "light"
     },
     "output_type": "display_data"
    },
    {
     "name": "stdout",
     "output_type": "stream",
     "text": [
      "Precision:1.0\n",
      "Recall:1.0\n",
      "F1_score:1.0\n",
      "              precision    recall  f1-score   support\n",
      "\n",
      "           0       1.00      1.00      1.00       100\n",
      "           1       1.00      1.00      1.00       100\n",
      "           2       1.00      1.00      1.00       100\n",
      "           3       1.00      1.00      1.00       100\n",
      "           4       1.00      1.00      1.00       100\n",
      "           5       1.00      1.00      1.00       100\n",
      "           6       1.00      1.00      1.00       100\n",
      "           7       1.00      1.00      1.00       100\n",
      "           8       1.00      1.00      1.00       100\n",
      "           9       1.00      1.00      1.00       100\n",
      "          10       1.00      1.00      1.00       100\n",
      "\n",
      "    accuracy                           1.00      1100\n",
      "   macro avg       1.00      1.00      1.00      1100\n",
      "weighted avg       1.00      1.00      1.00      1100\n",
      "\n",
      "\n",
      "K-fold cross validation Accuracy: ['1.0000', '1.0000', '0.0909', '1.0000', '1.0000']\n"
     ]
    }
   ],
   "source": [
    "# 주어진 데이터를 학습 데이터와 테스트 데이터로 분리\n",
    "skf = StratifiedKFold(n_splits=5, random_state=42, shuffle=True)\n",
    "\n",
    "accuracy = []\n",
    "\n",
    "for train, validation in skf.split(x,y):\n",
    "    model = keras.Sequential()\n",
    "    model.add(Conv1D(16, 9, activation='relu', input_shape=(len(x[0]),1)))\n",
    "    model.add(Conv1D(16, 9, activation='relu'))\n",
    "    model.add(Conv1D(32, 9, activation='relu'))\n",
    "    model.add(Conv1D(32, 9, activation='relu'))\n",
    "    model.add(Conv1D(32, 9, activation='relu'))\n",
    "    model.add(Conv1D(32, 9, activation='relu'))\n",
    "    model.add(Conv1D(32, 9, activation='relu'))\n",
    "    model.add(Flatten())\n",
    "    model.add(Dense(10, activation='relu'))\n",
    "    model.add(Dense(10, activation='relu'))\n",
    "    model.add(Dense(10, activation='relu'))\n",
    "    model.add(Dense(11, activation=\"softmax\"))\n",
    "    model.compile(loss='sparse_categorical_crossentropy', optimizer='adam', metrics=['accuracy'])\n",
    "  #model.summary()\n",
    "\n",
    "  # 학습 데이터를 이용해서 학습\n",
    "    hist = model.fit(x[train], y[train], epochs=100, batch_size=512, verbose=1, validation_split=0.1)  \n",
    "\n",
    "  # 테스트 데이터를 이용해서 검증\n",
    "    k_accuracy = '%.4f' % (model.evaluate(x[validation], y[validation])[1])\n",
    "    accuracy.append(k_accuracy)\n",
    "  \n",
    "  #confusion matrix\n",
    "    y_ = model.predict(x[validation])\n",
    "    predicted = np.argmax(y_, axis = -1)\n",
    "\n",
    "    classes = ['class1', 'class2', 'class3', 'class4', 'class5', 'class6', 'class7','class8', 'class9', 'class10','class11' ]\n",
    "    conf_mat = confusion_matrix(y[validation], predicted)\n",
    "    fig, ax = plt.subplots(figsize=(7,6))\n",
    "    plt.setp(ax.get_xticklabels(), rotation=45, ha=\"right\", rotation_mode=\"anchor\")\n",
    "    plt.title('Confusion matrix')\n",
    "    plt.ylabel('Actual label')\n",
    "    plt.xlabel('Predicted label')\n",
    "    sns.heatmap(conf_mat, annot=True, fmt='d', xticklabels=classes, yticklabels=classes)\n",
    "    plt.show()\n",
    "\n",
    "  #정밀도, 재현도, f1-score\n",
    "    precision = precision_score(y[validation], predicted, average='weighted')\n",
    "    recall = recall_score(y[validation], predicted, average='weighted')\n",
    "    f1 = f1_score(y[validation], predicted, average='weighted')\n",
    "\n",
    "    print('Precision:{:.3}'.format(precision))\n",
    "    print('Recall:{:.3}'.format(recall))\n",
    "    print('F1_score:{:.3}'.format(f1))\n",
    "\n",
    "  #분류 보고서\n",
    "    print(classification_report(y[validation], predicted))\n",
    "\n",
    "# 전체 검증 결과 출력\n",
    "print('\\nK-fold cross validation Accuracy: {}'.format(accuracy))"
   ]
  },
  {
   "cell_type": "code",
   "execution_count": 23,
   "metadata": {
    "colab": {
     "base_uri": "https://localhost:8080/"
    },
    "id": "PeHHHEUhiJH5",
    "outputId": "6a2da373-e7a9-4eee-9e43-93c1f902b923"
   },
   "outputs": [
    {
     "data": {
      "text/plain": [
       "['1.0000', '1.0000', '0.0909', '1.0000', '1.0000']"
      ]
     },
     "execution_count": 23,
     "metadata": {},
     "output_type": "execute_result"
    }
   ],
   "source": [
    "accuracy"
   ]
  },
  {
   "cell_type": "code",
   "execution_count": 24,
   "metadata": {
    "colab": {
     "base_uri": "https://localhost:8080/"
    },
    "id": "dx86ejQ616uZ",
    "outputId": "802bfc0c-f28c-42ce-ed88-6b911fc3d1ab"
   },
   "outputs": [
    {
     "data": {
      "text/plain": [
       "[1.0, 1.0, 0.0909, 1.0, 1.0]"
      ]
     },
     "execution_count": 24,
     "metadata": {},
     "output_type": "execute_result"
    }
   ],
   "source": [
    "acc = list(map(float, accuracy))\n",
    "acc"
   ]
  },
  {
   "cell_type": "code",
   "execution_count": 25,
   "metadata": {
    "id": "-f4pHhxY2APw"
   },
   "outputs": [
    {
     "data": {
      "text/plain": [
       "0.8181799999999999"
      ]
     },
     "execution_count": 25,
     "metadata": {},
     "output_type": "execute_result"
    }
   ],
   "source": [
    "np.mean(acc)"
   ]
  },
  {
   "cell_type": "code",
   "execution_count": null,
   "metadata": {},
   "outputs": [],
   "source": []
  }
 ],
 "metadata": {
  "accelerator": "GPU",
  "colab": {
   "collapsed_sections": [],
   "name": "★210914_1D-CNN_4000point_8736kDa_StratifiedKfold.ipynb",
   "provenance": []
  },
  "kernelspec": {
   "display_name": "Python 3",
   "language": "python",
   "name": "python3"
  },
  "language_info": {
   "codemirror_mode": {
    "name": "ipython",
    "version": 3
   },
   "file_extension": ".py",
   "mimetype": "text/x-python",
   "name": "python",
   "nbconvert_exporter": "python",
   "pygments_lexer": "ipython3",
   "version": "3.7.10"
  }
 },
 "nbformat": 4,
 "nbformat_minor": 1
}
