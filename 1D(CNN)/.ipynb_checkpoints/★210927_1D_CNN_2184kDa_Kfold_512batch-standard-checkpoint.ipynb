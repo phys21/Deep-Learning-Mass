{
 "cells": [
  {
   "cell_type": "markdown",
   "metadata": {
    "id": "GavgmjDytAsf"
   },
   "source": [
    "# 데이터 로딩"
   ]
  },
  {
   "cell_type": "code",
   "execution_count": 1,
   "metadata": {
    "colab": {
     "base_uri": "https://localhost:8080/"
    },
    "id": "pUWSYQ9FNt_C",
    "outputId": "46237811-4e40-413a-9b28-e21cff94e8b8"
   },
   "outputs": [],
   "source": [
    "#from google.colab import drive\n",
    "#drive.mount('/content/drive')"
   ]
  },
  {
   "cell_type": "code",
   "execution_count": 2,
   "metadata": {},
   "outputs": [],
   "source": [
    "import warnings\n",
    "warnings.filterwarnings(action='ignore')"
   ]
  },
  {
   "cell_type": "code",
   "execution_count": 3,
   "metadata": {},
   "outputs": [],
   "source": [
    "import os\n",
    "os.environ[\"CUDA_DEVICE_ORDER\"]=\"PCI_BUS_ID\"\n",
    "os.environ[\"CUDA_VISIBLE_DEVICES\"]=\"0\""
   ]
  },
  {
   "cell_type": "code",
   "execution_count": 4,
   "metadata": {},
   "outputs": [
    {
     "name": "stderr",
     "output_type": "stream",
     "text": [
      "2021-09-28 23:57:42.724095: I tensorflow/core/platform/cpu_feature_guard.cc:142] This TensorFlow binary is optimized with oneAPI Deep Neural Network Library (oneDNN) to use the following CPU instructions in performance-critical operations:  AVX2 AVX512F FMA\n",
      "To enable them in other operations, rebuild TensorFlow with the appropriate compiler flags.\n"
     ]
    },
    {
     "data": {
      "text/plain": [
       "[name: \"/device:CPU:0\"\n",
       " device_type: \"CPU\"\n",
       " memory_limit: 268435456\n",
       " locality {\n",
       " }\n",
       " incarnation: 11243682997009325524,\n",
       " name: \"/device:GPU:0\"\n",
       " device_type: \"GPU\"\n",
       " memory_limit: 23391698944\n",
       " locality {\n",
       "   bus_id: 1\n",
       "   links {\n",
       "   }\n",
       " }\n",
       " incarnation: 15670318168267609664\n",
       " physical_device_desc: \"device: 0, name: GeForce RTX 3090, pci bus id: 0000:67:00.0, compute capability: 8.6\"]"
      ]
     },
     "execution_count": 4,
     "metadata": {},
     "output_type": "execute_result"
    },
    {
     "name": "stderr",
     "output_type": "stream",
     "text": [
      "2021-09-28 23:57:43.235905: I tensorflow/core/common_runtime/gpu/gpu_device.cc:1510] Created device /device:GPU:0 with 22308 MB memory:  -> device: 0, name: GeForce RTX 3090, pci bus id: 0000:67:00.0, compute capability: 8.6\n"
     ]
    }
   ],
   "source": [
    "from tensorflow.python.client import device_lib\n",
    "device_lib.list_local_devices()"
   ]
  },
  {
   "cell_type": "code",
   "execution_count": 5,
   "metadata": {
    "id": "7tpIBpEXNpjm"
   },
   "outputs": [],
   "source": [
    "import numpy as np\n",
    "import pandas as pd\n",
    "import matplotlib.pyplot as plt"
   ]
  },
  {
   "cell_type": "code",
   "execution_count": 6,
   "metadata": {
    "colab": {
     "base_uri": "https://localhost:8080/"
    },
    "id": "EYw7FBvHs5E9",
    "outputId": "cc48b6dd-c461-48e6-f44f-81963c68fa0a",
    "scrolled": false
   },
   "outputs": [
    {
     "name": "stdout",
     "output_type": "stream",
     "text": [
      "[[26535109.67 26567167.6  26580894.5  ... 26570477.78 26565810.\n",
      "         0.  ]\n",
      " [26574844.17 26549031.86 26593563.88 ... 26586489.83 26553027.72\n",
      "         0.  ]\n",
      " [26570524.56 26569427.83 26556841.96 ... 26553269.41 26550517.95\n",
      "         0.  ]\n",
      " ...\n",
      " [26572887.28 26544204.73 26563963.86 ... 26511948.16 26566917.49\n",
      "     50000.  ]\n",
      " [26575682.16 26594397.89 26562241.02 ... 26553808.2  26533587.67\n",
      "     50000.  ]\n",
      " [26543655.13 26590903.11 26543954.87 ... 26528590.04 26528403.71\n",
      "     50000.  ]]\n"
     ]
    }
   ],
   "source": [
    "data = pd.read_csv('210923_total_freq_with_noise_2000point_2184kDa.csv')\n",
    "df1 = data.values[:] # 문자열을 부동소수점형으로 변환한다\n",
    "print(df1)"
   ]
  },
  {
   "cell_type": "markdown",
   "metadata": {
    "id": "tZIY7CbcwW6F"
   },
   "source": [
    "# 데이터 살펴보기"
   ]
  },
  {
   "cell_type": "markdown",
   "metadata": {
    "id": "nfk1doFWnhQn"
   },
   "source": [
    "152개의 속성 값이 있고, -1 또는 1로 레이블링 되어 있다.\n",
    "\n",
    "152개 속성 값은 어떤 센서의 값을 시간을 두고 측정한 것이다."
   ]
  },
  {
   "cell_type": "code",
   "execution_count": 7,
   "metadata": {
    "colab": {
     "base_uri": "https://localhost:8080/"
    },
    "id": "smA15EaF1hmV",
    "outputId": "d90ea451-0543-43bf-d740-795fd1207c63"
   },
   "outputs": [
    {
     "name": "stdout",
     "output_type": "stream",
     "text": [
      "0           0\n",
      "1           0\n",
      "2           0\n",
      "3           0\n",
      "4           0\n",
      "        ...  \n",
      "5495    50000\n",
      "5496    50000\n",
      "5497    50000\n",
      "5498    50000\n",
      "5499    50000\n",
      "Name: target, Length: 5500, dtype: int64\n"
     ]
    }
   ],
   "source": [
    "df2_1 = data[\"target\"]\n",
    "df2 = df2_1[:]\n",
    "print(df2)"
   ]
  },
  {
   "cell_type": "code",
   "execution_count": 8,
   "metadata": {
    "colab": {
     "base_uri": "https://localhost:8080/"
    },
    "id": "ClKB2D7ZpFnL",
    "outputId": "125a2cbe-62b9-44b6-ae4a-98b068fedc2c"
   },
   "outputs": [
    {
     "name": "stdout",
     "output_type": "stream",
     "text": [
      "(array([    0,  5000, 10000, 15000, 20000, 25000, 30000, 35000, 40000,\n",
      "       45000, 50000]), array([500, 500, 500, 500, 500, 500, 500, 500, 500, 500, 500]))\n"
     ]
    }
   ],
   "source": [
    "target_count = np.unique(df2, return_counts=True)\n",
    "print(target_count)"
   ]
  },
  {
   "cell_type": "code",
   "execution_count": 9,
   "metadata": {
    "colab": {
     "base_uri": "https://localhost:8080/"
    },
    "id": "Bu3NHl9_Npjq",
    "outputId": "48d579ad-691c-4d74-d846-ffeea98d9a27"
   },
   "outputs": [
    {
     "name": "stdout",
     "output_type": "stream",
     "text": [
      "(array([    0,  5000, 10000, 15000, 20000, 25000, 30000, 35000, 40000,\n",
      "       45000, 50000]), array([500, 500, 500, 500, 500, 500, 500, 500, 500, 500, 500]))\n"
     ]
    }
   ],
   "source": [
    "target_count = np.unique(df2, return_counts=True)\n",
    "print(target_count)"
   ]
  },
  {
   "cell_type": "markdown",
   "metadata": {
    "id": "ZB0UsHjLsS1I"
   },
   "source": [
    "target값 -1, 1을 category 인덱스 0, 1로 변경"
   ]
  },
  {
   "cell_type": "code",
   "execution_count": 10,
   "metadata": {
    "colab": {
     "base_uri": "https://localhost:8080/"
    },
    "id": "C0nNKyJ4oaxo",
    "outputId": "3b9a1b1c-025e-48ce-8a28-680f9bd5c46d"
   },
   "outputs": [
    {
     "name": "stdout",
     "output_type": "stream",
     "text": [
      "(array([ 0,  1,  2,  3,  4,  5,  6,  7,  8,  9, 10]), array([500, 500, 500, 500, 500, 500, 500, 500, 500, 500, 500]))\n"
     ]
    }
   ],
   "source": [
    "df2 = df2.copy()\n",
    "df2[df2 < 5000] = 0\n",
    "df2[df2 == 5000] = 1\n",
    "df2[df2 == 10000] = 2\n",
    "df2[df2 == 15000] = 3\n",
    "df2[df2 == 20000] = 4\n",
    "df2[df2 == 25000] = 5\n",
    "df2[df2 == 30000] = 6\n",
    "df2[df2 == 35000] = 7\n",
    "df2[df2 == 40000] = 8\n",
    "df2[df2 == 45000] = 9\n",
    "df2[df2 == 50000] = 10\n",
    "\n",
    "target_count = np.unique(df2, return_counts=True)\n",
    "print(target_count)"
   ]
  },
  {
   "cell_type": "markdown",
   "metadata": {
    "id": "PAYLXje8Eq9l"
   },
   "source": [
    "# 문제 정의\n",
    "\n",
    "152개의 순차적인 센서 값을 가지고 분류한다.\n"
   ]
  },
  {
   "cell_type": "markdown",
   "metadata": {
    "id": "piqvWOOgpjHt"
   },
   "source": [
    "# 데이터 준비\n"
   ]
  },
  {
   "cell_type": "markdown",
   "metadata": {
    "id": "GD2kOh0_pmvD"
   },
   "source": [
    "## x, y 쪼개기"
   ]
  },
  {
   "cell_type": "code",
   "execution_count": 11,
   "metadata": {
    "id": "5mB3dKMYpJej"
   },
   "outputs": [],
   "source": [
    "x, y = df1[:,:-1], df2[:]"
   ]
  },
  {
   "cell_type": "code",
   "execution_count": 12,
   "metadata": {
    "colab": {
     "base_uri": "https://localhost:8080/"
    },
    "id": "UWtHOkIvpJlZ",
    "outputId": "98f0ae6c-f761-44e5-9435-bd9756ecdeb7"
   },
   "outputs": [
    {
     "name": "stdout",
     "output_type": "stream",
     "text": [
      "(5500, 4000)\n",
      "(5500,)\n"
     ]
    }
   ],
   "source": [
    "print(x.shape)\n",
    "print(y.shape)"
   ]
  },
  {
   "cell_type": "code",
   "execution_count": 13,
   "metadata": {
    "colab": {
     "base_uri": "https://localhost:8080/"
    },
    "id": "4WVNNZy3Npjt",
    "outputId": "7bb9910c-34c7-4da9-be72-1c5a150de0f2"
   },
   "outputs": [
    {
     "data": {
      "text/plain": [
       "0        0\n",
       "1        0\n",
       "2        0\n",
       "3        0\n",
       "4        0\n",
       "        ..\n",
       "5495    10\n",
       "5496    10\n",
       "5497    10\n",
       "5498    10\n",
       "5499    10\n",
       "Name: target, Length: 5500, dtype: int64"
      ]
     },
     "execution_count": 13,
     "metadata": {},
     "output_type": "execute_result"
    }
   ],
   "source": [
    "y"
   ]
  },
  {
   "cell_type": "markdown",
   "metadata": {
    "id": "DYJfroxKpoOc"
   },
   "source": [
    "## normalization"
   ]
  },
  {
   "cell_type": "code",
   "execution_count": 14,
   "metadata": {
    "colab": {
     "base_uri": "https://localhost:8080/"
    },
    "id": "0edILhqfpJrT",
    "outputId": "e1b6e56a-056f-4f40-d925-5a22fa02ca79"
   },
   "outputs": [
    {
     "name": "stdout",
     "output_type": "stream",
     "text": [
      "26464857.18 26650600.46\n",
      "0.0 1.0\n"
     ]
    }
   ],
   "source": [
    "min = np.min(x)\n",
    "max = np.max(x)\n",
    "print(min, max)\n",
    "\n",
    "x = (x-min) / (max-min)\n",
    "\n",
    "min = np.min(x)\n",
    "max = np.max(x)\n",
    "print(min, max)\n"
   ]
  },
  {
   "cell_type": "code",
   "execution_count": 15,
   "metadata": {
    "id": "CA_Fs7IhrKhv"
   },
   "outputs": [],
   "source": [
    "x = np.expand_dims(x, -1)"
   ]
  },
  {
   "cell_type": "markdown",
   "metadata": {
    "id": "YUNV4PRWp-jO"
   },
   "source": [
    "## 섞고"
   ]
  },
  {
   "cell_type": "code",
   "execution_count": 16,
   "metadata": {
    "id": "rK0FR9OOpJxL"
   },
   "outputs": [],
   "source": [
    "shuffled_index = np.random.permutation(len(x))\n",
    "x = x[shuffled_index]\n",
    "y = y.iloc[shuffled_index]\n",
    "x, y = np.array(x), np.array(y)"
   ]
  },
  {
   "cell_type": "markdown",
   "metadata": {
    "id": "RbjrYGVMqAF3"
   },
   "source": [
    "## train, test 쪼개기"
   ]
  },
  {
   "cell_type": "code",
   "execution_count": 17,
   "metadata": {
    "id": "TfPpY9jPpJz4"
   },
   "outputs": [],
   "source": [
    "#split_index = int( len(x) * 0.8 )\n",
    "#train_x, test_x = np.array(x[:split_index]), np.array(x[split_index:])\n",
    "#train_y, test_y = np.array(y[:split_index]), np.array(y[split_index:])"
   ]
  },
  {
   "cell_type": "code",
   "execution_count": 18,
   "metadata": {
    "id": "BfNSU7FdpJub"
   },
   "outputs": [],
   "source": [
    "#train_x[1].shape"
   ]
  },
  {
   "cell_type": "code",
   "execution_count": 19,
   "metadata": {
    "id": "gsqd1yWWNpju"
   },
   "outputs": [],
   "source": [
    "#train_x[1]"
   ]
  },
  {
   "cell_type": "markdown",
   "metadata": {
    "id": "3Oynfz6SqZzx"
   },
   "source": [
    "# 모델 정의"
   ]
  },
  {
   "cell_type": "code",
   "execution_count": 20,
   "metadata": {
    "id": "p0JtVB5ApJoc"
   },
   "outputs": [],
   "source": [
    "import tensorflow as tf\n",
    "from sklearn.model_selection import KFold \n",
    "from tensorflow import keras\n",
    "from tensorflow.keras import optimizers\n",
    "from tensorflow.keras.layers import Dense, Conv1D, Flatten\n",
    "from sklearn.model_selection import cross_val_score \n",
    "from sklearn.model_selection import StratifiedKFold"
   ]
  },
  {
   "cell_type": "code",
   "execution_count": 21,
   "metadata": {
    "colab": {
     "base_uri": "https://localhost:8080/",
     "height": 1000
    },
    "id": "8FTlEW4umicO",
    "outputId": "288b35af-b541-464b-9b2c-2f1ca72bc264"
   },
   "outputs": [],
   "source": [
    "from tensorflow.keras.models import Sequential\n",
    "from tensorflow.keras.layers import Dense\n",
    "#from tensorflow.keras.utils import np_utils\n",
    "import pandas as pd\n",
    "import matplotlib.pyplot as plt\n",
    "from sklearn.metrics import confusion_matrix\n",
    "import seaborn as sns\n",
    "from sklearn.metrics import precision_score, recall_score, f1_score, roc_curve\n",
    "from sklearn.metrics import classification_report\n",
    "from sklearn.model_selection import StratifiedKFold"
   ]
  },
  {
   "cell_type": "code",
   "execution_count": 22,
   "metadata": {
    "colab": {
     "base_uri": "https://localhost:8080/",
     "height": 1000
    },
    "id": "8FTlEW4umicO",
    "outputId": "288b35af-b541-464b-9b2c-2f1ca72bc264",
    "scrolled": false
   },
   "outputs": [
    {
     "name": "stderr",
     "output_type": "stream",
     "text": [
      "2021-09-28 23:57:47.372054: I tensorflow/core/common_runtime/gpu/gpu_device.cc:1510] Created device /job:localhost/replica:0/task:0/device:GPU:0 with 22308 MB memory:  -> device: 0, name: GeForce RTX 3090, pci bus id: 0000:67:00.0, compute capability: 8.6\n",
      "2021-09-28 23:57:47.903193: I tensorflow/compiler/mlir/mlir_graph_optimization_pass.cc:185] None of the MLIR Optimization Passes are enabled (registered 2)\n"
     ]
    },
    {
     "name": "stdout",
     "output_type": "stream",
     "text": [
      "Epoch 1/100\n"
     ]
    },
    {
     "name": "stderr",
     "output_type": "stream",
     "text": [
      "2021-09-28 23:57:49.009340: I tensorflow/stream_executor/cuda/cuda_dnn.cc:369] Loaded cuDNN version 8100\n",
      "2021-09-28 23:57:50.427697: I tensorflow/stream_executor/cuda/cuda_blas.cc:1760] TensorFloat-32 will be used for the matrix multiplication. This will only be logged once.\n"
     ]
    },
    {
     "name": "stdout",
     "output_type": "stream",
     "text": [
      "8/8 [==============================] - 4s 196ms/step - loss: 2.3992 - accuracy: 0.0899 - val_loss: 2.3980 - val_accuracy: 0.0864\n",
      "Epoch 2/100\n",
      "8/8 [==============================] - 1s 83ms/step - loss: 2.3979 - accuracy: 0.1028 - val_loss: 2.3986 - val_accuracy: 0.0864\n",
      "Epoch 3/100\n",
      "8/8 [==============================] - 1s 85ms/step - loss: 2.3973 - accuracy: 0.0949 - val_loss: 2.3975 - val_accuracy: 0.0864\n",
      "Epoch 4/100\n",
      "8/8 [==============================] - 1s 83ms/step - loss: 2.3966 - accuracy: 0.0871 - val_loss: 2.3984 - val_accuracy: 0.0750\n",
      "Epoch 5/100\n",
      "8/8 [==============================] - 1s 82ms/step - loss: 2.3977 - accuracy: 0.0944 - val_loss: 2.3986 - val_accuracy: 0.0750\n",
      "Epoch 6/100\n",
      "8/8 [==============================] - 1s 85ms/step - loss: 2.3977 - accuracy: 0.0944 - val_loss: 2.3987 - val_accuracy: 0.0750\n",
      "Epoch 7/100\n",
      "8/8 [==============================] - 1s 84ms/step - loss: 2.3976 - accuracy: 0.0944 - val_loss: 2.3988 - val_accuracy: 0.0750\n",
      "Epoch 8/100\n",
      "8/8 [==============================] - 1s 83ms/step - loss: 2.3976 - accuracy: 0.0944 - val_loss: 2.3987 - val_accuracy: 0.0750\n",
      "Epoch 9/100\n",
      "8/8 [==============================] - 1s 84ms/step - loss: 2.3976 - accuracy: 0.0912 - val_loss: 2.3988 - val_accuracy: 0.0864\n",
      "Epoch 10/100\n",
      "8/8 [==============================] - 1s 84ms/step - loss: 2.3976 - accuracy: 0.0879 - val_loss: 2.3989 - val_accuracy: 0.0750\n",
      "Epoch 11/100\n",
      "8/8 [==============================] - 1s 84ms/step - loss: 2.3976 - accuracy: 0.0939 - val_loss: 2.3990 - val_accuracy: 0.0864\n",
      "Epoch 12/100\n",
      "8/8 [==============================] - 1s 82ms/step - loss: 2.3976 - accuracy: 0.0947 - val_loss: 2.3990 - val_accuracy: 0.0864\n",
      "Epoch 13/100\n",
      "8/8 [==============================] - 1s 85ms/step - loss: 2.3976 - accuracy: 0.0947 - val_loss: 2.3992 - val_accuracy: 0.0864\n",
      "Epoch 14/100\n",
      "8/8 [==============================] - 1s 83ms/step - loss: 2.3975 - accuracy: 0.0947 - val_loss: 2.3992 - val_accuracy: 0.0864\n",
      "Epoch 15/100\n",
      "8/8 [==============================] - 1s 83ms/step - loss: 2.3975 - accuracy: 0.0947 - val_loss: 2.3992 - val_accuracy: 0.0864\n",
      "Epoch 16/100\n",
      "8/8 [==============================] - 1s 82ms/step - loss: 2.3975 - accuracy: 0.0947 - val_loss: 2.3993 - val_accuracy: 0.0864\n",
      "Epoch 17/100\n",
      "8/8 [==============================] - 1s 85ms/step - loss: 2.3975 - accuracy: 0.0947 - val_loss: 2.3993 - val_accuracy: 0.0864\n",
      "Epoch 18/100\n",
      "8/8 [==============================] - 1s 82ms/step - loss: 2.3976 - accuracy: 0.0947 - val_loss: 2.3994 - val_accuracy: 0.0864\n",
      "Epoch 19/100\n",
      "8/8 [==============================] - 1s 82ms/step - loss: 2.3975 - accuracy: 0.0947 - val_loss: 2.3995 - val_accuracy: 0.0864\n",
      "Epoch 20/100\n",
      "8/8 [==============================] - 1s 83ms/step - loss: 2.3975 - accuracy: 0.0947 - val_loss: 2.3995 - val_accuracy: 0.0864\n",
      "Epoch 21/100\n",
      "8/8 [==============================] - 1s 85ms/step - loss: 2.3975 - accuracy: 0.0947 - val_loss: 2.3995 - val_accuracy: 0.0864\n",
      "Epoch 22/100\n",
      "8/8 [==============================] - 1s 84ms/step - loss: 2.3975 - accuracy: 0.0947 - val_loss: 2.3995 - val_accuracy: 0.0864\n",
      "Epoch 23/100\n",
      "8/8 [==============================] - 1s 83ms/step - loss: 2.3975 - accuracy: 0.0947 - val_loss: 2.3995 - val_accuracy: 0.0864\n",
      "Epoch 24/100\n",
      "8/8 [==============================] - 1s 83ms/step - loss: 2.3975 - accuracy: 0.0947 - val_loss: 2.3996 - val_accuracy: 0.0864\n",
      "Epoch 25/100\n",
      "8/8 [==============================] - 1s 83ms/step - loss: 2.3975 - accuracy: 0.0947 - val_loss: 2.3996 - val_accuracy: 0.0864\n",
      "Epoch 26/100\n",
      "8/8 [==============================] - 1s 85ms/step - loss: 2.3975 - accuracy: 0.0947 - val_loss: 2.3996 - val_accuracy: 0.0864\n",
      "Epoch 27/100\n",
      "8/8 [==============================] - 1s 83ms/step - loss: 2.3975 - accuracy: 0.0947 - val_loss: 2.3995 - val_accuracy: 0.0864\n",
      "Epoch 28/100\n",
      "8/8 [==============================] - 1s 85ms/step - loss: 2.3975 - accuracy: 0.0947 - val_loss: 2.3996 - val_accuracy: 0.0864\n",
      "Epoch 29/100\n",
      "8/8 [==============================] - 1s 86ms/step - loss: 2.3975 - accuracy: 0.0947 - val_loss: 2.3996 - val_accuracy: 0.0864\n",
      "Epoch 30/100\n",
      "8/8 [==============================] - 1s 83ms/step - loss: 2.3975 - accuracy: 0.0947 - val_loss: 2.3996 - val_accuracy: 0.0864\n",
      "Epoch 31/100\n",
      "8/8 [==============================] - 1s 84ms/step - loss: 2.3975 - accuracy: 0.0947 - val_loss: 2.3996 - val_accuracy: 0.0864\n",
      "Epoch 32/100\n",
      "8/8 [==============================] - 1s 84ms/step - loss: 2.3975 - accuracy: 0.0947 - val_loss: 2.3996 - val_accuracy: 0.0864\n",
      "Epoch 33/100\n",
      "8/8 [==============================] - 1s 84ms/step - loss: 2.3975 - accuracy: 0.0947 - val_loss: 2.3995 - val_accuracy: 0.0864\n",
      "Epoch 34/100\n",
      "8/8 [==============================] - 1s 82ms/step - loss: 2.3975 - accuracy: 0.0947 - val_loss: 2.3994 - val_accuracy: 0.0864\n",
      "Epoch 35/100\n",
      "8/8 [==============================] - 1s 83ms/step - loss: 2.3975 - accuracy: 0.0947 - val_loss: 2.3994 - val_accuracy: 0.0864\n",
      "Epoch 36/100\n",
      "8/8 [==============================] - 1s 82ms/step - loss: 2.3975 - accuracy: 0.0947 - val_loss: 2.3995 - val_accuracy: 0.0864\n",
      "Epoch 37/100\n",
      "8/8 [==============================] - 1s 84ms/step - loss: 2.3975 - accuracy: 0.0947 - val_loss: 2.3994 - val_accuracy: 0.0864\n",
      "Epoch 38/100\n",
      "8/8 [==============================] - 1s 84ms/step - loss: 2.3975 - accuracy: 0.0947 - val_loss: 2.3994 - val_accuracy: 0.0864\n",
      "Epoch 39/100\n",
      "8/8 [==============================] - 1s 82ms/step - loss: 2.3975 - accuracy: 0.0947 - val_loss: 2.3994 - val_accuracy: 0.0864\n",
      "Epoch 40/100\n",
      "8/8 [==============================] - 1s 83ms/step - loss: 2.3975 - accuracy: 0.0947 - val_loss: 2.3994 - val_accuracy: 0.0864\n",
      "Epoch 41/100\n",
      "8/8 [==============================] - 1s 83ms/step - loss: 2.3975 - accuracy: 0.0947 - val_loss: 2.3995 - val_accuracy: 0.0864\n",
      "Epoch 42/100\n",
      "8/8 [==============================] - 1s 84ms/step - loss: 2.3975 - accuracy: 0.0947 - val_loss: 2.3995 - val_accuracy: 0.0864\n",
      "Epoch 43/100\n",
      "8/8 [==============================] - 1s 83ms/step - loss: 2.3975 - accuracy: 0.0947 - val_loss: 2.3995 - val_accuracy: 0.0864\n",
      "Epoch 44/100\n",
      "8/8 [==============================] - 1s 82ms/step - loss: 2.3975 - accuracy: 0.0947 - val_loss: 2.3996 - val_accuracy: 0.0864\n",
      "Epoch 45/100\n",
      "8/8 [==============================] - 1s 83ms/step - loss: 2.3975 - accuracy: 0.0947 - val_loss: 2.3996 - val_accuracy: 0.0864\n",
      "Epoch 46/100\n",
      "8/8 [==============================] - 1s 84ms/step - loss: 2.3975 - accuracy: 0.0947 - val_loss: 2.3996 - val_accuracy: 0.0864\n",
      "Epoch 47/100\n",
      "8/8 [==============================] - 1s 85ms/step - loss: 2.3975 - accuracy: 0.0947 - val_loss: 2.3996 - val_accuracy: 0.0864\n",
      "Epoch 48/100\n",
      "8/8 [==============================] - 1s 84ms/step - loss: 2.3975 - accuracy: 0.0947 - val_loss: 2.3996 - val_accuracy: 0.0864\n",
      "Epoch 49/100\n",
      "8/8 [==============================] - 1s 82ms/step - loss: 2.3975 - accuracy: 0.0947 - val_loss: 2.3996 - val_accuracy: 0.0864\n",
      "Epoch 50/100\n",
      "8/8 [==============================] - 1s 83ms/step - loss: 2.3975 - accuracy: 0.0947 - val_loss: 2.3996 - val_accuracy: 0.0864\n",
      "Epoch 51/100\n",
      "8/8 [==============================] - 1s 81ms/step - loss: 2.3975 - accuracy: 0.0947 - val_loss: 2.3997 - val_accuracy: 0.0864\n",
      "Epoch 52/100\n",
      "8/8 [==============================] - 1s 85ms/step - loss: 2.3975 - accuracy: 0.0947 - val_loss: 2.3997 - val_accuracy: 0.0864\n",
      "Epoch 53/100\n",
      "8/8 [==============================] - 1s 85ms/step - loss: 2.3975 - accuracy: 0.0947 - val_loss: 2.3997 - val_accuracy: 0.0864\n",
      "Epoch 54/100\n",
      "8/8 [==============================] - 1s 82ms/step - loss: 2.3975 - accuracy: 0.0947 - val_loss: 2.3997 - val_accuracy: 0.0864\n",
      "Epoch 55/100\n",
      "8/8 [==============================] - 1s 82ms/step - loss: 2.3975 - accuracy: 0.0947 - val_loss: 2.3996 - val_accuracy: 0.0864\n",
      "Epoch 56/100\n",
      "8/8 [==============================] - 1s 83ms/step - loss: 2.3975 - accuracy: 0.0947 - val_loss: 2.3997 - val_accuracy: 0.0864\n",
      "Epoch 57/100\n",
      "8/8 [==============================] - 1s 84ms/step - loss: 2.3975 - accuracy: 0.0947 - val_loss: 2.3997 - val_accuracy: 0.0864\n",
      "Epoch 58/100\n",
      "8/8 [==============================] - 1s 83ms/step - loss: 2.3975 - accuracy: 0.0947 - val_loss: 2.3998 - val_accuracy: 0.0864\n",
      "Epoch 59/100\n"
     ]
    },
    {
     "name": "stdout",
     "output_type": "stream",
     "text": [
      "8/8 [==============================] - 1s 82ms/step - loss: 2.3975 - accuracy: 0.0947 - val_loss: 2.3997 - val_accuracy: 0.0864\n",
      "Epoch 60/100\n",
      "8/8 [==============================] - 1s 83ms/step - loss: 2.3975 - accuracy: 0.0947 - val_loss: 2.3997 - val_accuracy: 0.0864\n",
      "Epoch 61/100\n",
      "8/8 [==============================] - 1s 82ms/step - loss: 2.3975 - accuracy: 0.0947 - val_loss: 2.3997 - val_accuracy: 0.0864\n",
      "Epoch 62/100\n",
      "8/8 [==============================] - 1s 85ms/step - loss: 2.3975 - accuracy: 0.0947 - val_loss: 2.3997 - val_accuracy: 0.0864\n",
      "Epoch 63/100\n",
      "8/8 [==============================] - 1s 82ms/step - loss: 2.3975 - accuracy: 0.0947 - val_loss: 2.3998 - val_accuracy: 0.0864\n",
      "Epoch 64/100\n",
      "8/8 [==============================] - 1s 82ms/step - loss: 2.3975 - accuracy: 0.0947 - val_loss: 2.3998 - val_accuracy: 0.0864\n",
      "Epoch 65/100\n",
      "8/8 [==============================] - 1s 83ms/step - loss: 2.3975 - accuracy: 0.0947 - val_loss: 2.3998 - val_accuracy: 0.0864\n",
      "Epoch 66/100\n",
      "8/8 [==============================] - 1s 84ms/step - loss: 2.3975 - accuracy: 0.0947 - val_loss: 2.3997 - val_accuracy: 0.0864\n",
      "Epoch 67/100\n",
      "8/8 [==============================] - 1s 82ms/step - loss: 2.3975 - accuracy: 0.0947 - val_loss: 2.3998 - val_accuracy: 0.0864\n",
      "Epoch 68/100\n",
      "8/8 [==============================] - 1s 85ms/step - loss: 2.3975 - accuracy: 0.0947 - val_loss: 2.3997 - val_accuracy: 0.0864\n",
      "Epoch 69/100\n",
      "8/8 [==============================] - 1s 82ms/step - loss: 2.3975 - accuracy: 0.0947 - val_loss: 2.3998 - val_accuracy: 0.0864\n",
      "Epoch 70/100\n",
      "8/8 [==============================] - 1s 82ms/step - loss: 2.3975 - accuracy: 0.0947 - val_loss: 2.3998 - val_accuracy: 0.0864\n",
      "Epoch 71/100\n",
      "8/8 [==============================] - 1s 83ms/step - loss: 2.3975 - accuracy: 0.0947 - val_loss: 2.3997 - val_accuracy: 0.0864\n",
      "Epoch 72/100\n",
      "8/8 [==============================] - 1s 85ms/step - loss: 2.3975 - accuracy: 0.0947 - val_loss: 2.3997 - val_accuracy: 0.0864\n",
      "Epoch 73/100\n",
      "8/8 [==============================] - 1s 84ms/step - loss: 2.3975 - accuracy: 0.0947 - val_loss: 2.3997 - val_accuracy: 0.0864\n",
      "Epoch 74/100\n",
      "8/8 [==============================] - 1s 86ms/step - loss: 2.3975 - accuracy: 0.0947 - val_loss: 2.3997 - val_accuracy: 0.0864\n",
      "Epoch 75/100\n",
      "8/8 [==============================] - 1s 83ms/step - loss: 2.3975 - accuracy: 0.0947 - val_loss: 2.3997 - val_accuracy: 0.0864\n",
      "Epoch 76/100\n",
      "8/8 [==============================] - 1s 83ms/step - loss: 2.3975 - accuracy: 0.0947 - val_loss: 2.3998 - val_accuracy: 0.0864\n",
      "Epoch 77/100\n",
      "8/8 [==============================] - 1s 83ms/step - loss: 2.3975 - accuracy: 0.0947 - val_loss: 2.3998 - val_accuracy: 0.0864\n",
      "Epoch 78/100\n",
      "8/8 [==============================] - 1s 82ms/step - loss: 2.3975 - accuracy: 0.0947 - val_loss: 2.3998 - val_accuracy: 0.0864\n",
      "Epoch 79/100\n",
      "8/8 [==============================] - 1s 84ms/step - loss: 2.3975 - accuracy: 0.0947 - val_loss: 2.3998 - val_accuracy: 0.0864\n",
      "Epoch 80/100\n",
      "8/8 [==============================] - 1s 83ms/step - loss: 2.3975 - accuracy: 0.0947 - val_loss: 2.3998 - val_accuracy: 0.0864\n",
      "Epoch 81/100\n",
      "8/8 [==============================] - 1s 82ms/step - loss: 2.3975 - accuracy: 0.0947 - val_loss: 2.3998 - val_accuracy: 0.0864\n",
      "Epoch 82/100\n",
      "8/8 [==============================] - 1s 84ms/step - loss: 2.3975 - accuracy: 0.0947 - val_loss: 2.3998 - val_accuracy: 0.0864\n",
      "Epoch 83/100\n",
      "8/8 [==============================] - 1s 82ms/step - loss: 2.3975 - accuracy: 0.0947 - val_loss: 2.3998 - val_accuracy: 0.0864\n",
      "Epoch 84/100\n",
      "8/8 [==============================] - 1s 84ms/step - loss: 2.3975 - accuracy: 0.0947 - val_loss: 2.3998 - val_accuracy: 0.0864\n",
      "Epoch 85/100\n",
      "8/8 [==============================] - 1s 83ms/step - loss: 2.3975 - accuracy: 0.0947 - val_loss: 2.3998 - val_accuracy: 0.0864\n",
      "Epoch 86/100\n",
      "8/8 [==============================] - 1s 82ms/step - loss: 2.3975 - accuracy: 0.0947 - val_loss: 2.3998 - val_accuracy: 0.0864\n",
      "Epoch 87/100\n",
      "8/8 [==============================] - 1s 85ms/step - loss: 2.3975 - accuracy: 0.0947 - val_loss: 2.3997 - val_accuracy: 0.0864\n",
      "Epoch 88/100\n",
      "8/8 [==============================] - 1s 84ms/step - loss: 2.3975 - accuracy: 0.0947 - val_loss: 2.3997 - val_accuracy: 0.0864\n",
      "Epoch 89/100\n",
      "8/8 [==============================] - 1s 82ms/step - loss: 2.3975 - accuracy: 0.0947 - val_loss: 2.3998 - val_accuracy: 0.0864\n",
      "Epoch 90/100\n",
      "8/8 [==============================] - 1s 83ms/step - loss: 2.3975 - accuracy: 0.0947 - val_loss: 2.3997 - val_accuracy: 0.0864\n",
      "Epoch 91/100\n",
      "8/8 [==============================] - 1s 82ms/step - loss: 2.3975 - accuracy: 0.0947 - val_loss: 2.3997 - val_accuracy: 0.0864\n",
      "Epoch 92/100\n",
      "8/8 [==============================] - 1s 84ms/step - loss: 2.3975 - accuracy: 0.0947 - val_loss: 2.3998 - val_accuracy: 0.0864\n",
      "Epoch 93/100\n",
      "8/8 [==============================] - 1s 83ms/step - loss: 2.3975 - accuracy: 0.0947 - val_loss: 2.3997 - val_accuracy: 0.0864\n",
      "Epoch 94/100\n",
      "8/8 [==============================] - 1s 83ms/step - loss: 2.3975 - accuracy: 0.0947 - val_loss: 2.3997 - val_accuracy: 0.0864\n",
      "Epoch 95/100\n",
      "8/8 [==============================] - 1s 84ms/step - loss: 2.3975 - accuracy: 0.0947 - val_loss: 2.3998 - val_accuracy: 0.0864\n",
      "Epoch 96/100\n",
      "8/8 [==============================] - 1s 82ms/step - loss: 2.3975 - accuracy: 0.0947 - val_loss: 2.3997 - val_accuracy: 0.0864\n",
      "Epoch 97/100\n",
      "8/8 [==============================] - 1s 82ms/step - loss: 2.3975 - accuracy: 0.0947 - val_loss: 2.3997 - val_accuracy: 0.0864\n",
      "Epoch 98/100\n",
      "8/8 [==============================] - 1s 83ms/step - loss: 2.3975 - accuracy: 0.0947 - val_loss: 2.3997 - val_accuracy: 0.0864\n",
      "Epoch 99/100\n",
      "8/8 [==============================] - 1s 83ms/step - loss: 2.3975 - accuracy: 0.0914 - val_loss: 2.3997 - val_accuracy: 0.0750\n",
      "Epoch 100/100\n",
      "8/8 [==============================] - 1s 85ms/step - loss: 2.3975 - accuracy: 0.0909 - val_loss: 2.3997 - val_accuracy: 0.0864\n",
      "35/35 [==============================] - 0s 6ms/step - loss: 2.4007 - accuracy: 0.0791\n"
     ]
    },
    {
     "data": {
      "image/png": "[encoded data removed]",
      "text/plain": [
       "<Figure size 504x432 with 2 Axes>"
      ]
     },
     "metadata": {
      "needs_background": "light"
     },
     "output_type": "display_data"
    },
    {
     "name": "stdout",
     "output_type": "stream",
     "text": [
      "Precision:0.00626\n",
      "Recall:0.0791\n",
      "F1_score:0.0116\n",
      "              precision    recall  f1-score   support\n",
      "\n",
      "           0       0.00      0.00      0.00        99\n",
      "           1       0.08      1.00      0.15        87\n",
      "           2       0.00      0.00      0.00        87\n",
      "           3       0.00      0.00      0.00       120\n",
      "           4       0.00      0.00      0.00       109\n",
      "           5       0.00      0.00      0.00        93\n",
      "           6       0.00      0.00      0.00       113\n",
      "           7       0.00      0.00      0.00       108\n",
      "           8       0.00      0.00      0.00       103\n",
      "           9       0.00      0.00      0.00        89\n",
      "          10       0.00      0.00      0.00        92\n",
      "\n",
      "    accuracy                           0.08      1100\n",
      "   macro avg       0.01      0.09      0.01      1100\n",
      "weighted avg       0.01      0.08      0.01      1100\n",
      "\n",
      "Epoch 1/100\n",
      "8/8 [==============================] - 1s 103ms/step - loss: 2.3984 - accuracy: 0.0884 - val_loss: 2.3982 - val_accuracy: 0.0795\n",
      "Epoch 2/100\n",
      "8/8 [==============================] - 1s 83ms/step - loss: 2.3981 - accuracy: 0.0899 - val_loss: 2.3987 - val_accuracy: 0.0659\n",
      "Epoch 3/100\n",
      "8/8 [==============================] - 1s 86ms/step - loss: 2.3977 - accuracy: 0.0917 - val_loss: 2.3994 - val_accuracy: 0.0682\n",
      "Epoch 4/100\n",
      "8/8 [==============================] - 1s 86ms/step - loss: 2.3951 - accuracy: 0.0977 - val_loss: 2.3851 - val_accuracy: 0.1023\n",
      "Epoch 5/100\n",
      "8/8 [==============================] - 1s 84ms/step - loss: 2.3654 - accuracy: 0.1063 - val_loss: 2.3307 - val_accuracy: 0.1545\n",
      "Epoch 6/100\n",
      "8/8 [==============================] - 1s 84ms/step - loss: 2.3058 - accuracy: 0.1644 - val_loss: 2.3185 - val_accuracy: 0.1114\n",
      "Epoch 7/100\n",
      "8/8 [==============================] - 1s 85ms/step - loss: 2.2012 - accuracy: 0.1995 - val_loss: 2.2949 - val_accuracy: 0.1818\n",
      "Epoch 8/100\n",
      "8/8 [==============================] - 1s 83ms/step - loss: 2.1301 - accuracy: 0.2088 - val_loss: 2.0651 - val_accuracy: 0.1977\n",
      "Epoch 9/100\n",
      "8/8 [==============================] - 1s 85ms/step - loss: 2.0207 - accuracy: 0.2470 - val_loss: 1.9783 - val_accuracy: 0.2795\n",
      "Epoch 10/100\n",
      "8/8 [==============================] - 1s 83ms/step - loss: 1.9315 - accuracy: 0.2826 - val_loss: 1.9596 - val_accuracy: 0.1773\n",
      "Epoch 11/100\n",
      "8/8 [==============================] - 1s 84ms/step - loss: 1.8907 - accuracy: 0.2543 - val_loss: 1.8947 - val_accuracy: 0.1886\n",
      "Epoch 12/100\n",
      "8/8 [==============================] - 1s 84ms/step - loss: 1.8368 - accuracy: 0.2937 - val_loss: 1.8260 - val_accuracy: 0.2750\n",
      "Epoch 13/100\n",
      "8/8 [==============================] - 1s 83ms/step - loss: 1.7833 - accuracy: 0.3412 - val_loss: 1.7296 - val_accuracy: 0.3682\n",
      "Epoch 14/100\n",
      "8/8 [==============================] - 1s 85ms/step - loss: 1.8597 - accuracy: 0.2578 - val_loss: 1.9041 - val_accuracy: 0.1727\n",
      "Epoch 15/100\n",
      "8/8 [==============================] - 1s 85ms/step - loss: 1.7880 - accuracy: 0.2750 - val_loss: 1.7238 - val_accuracy: 0.3614\n",
      "Epoch 16/100\n",
      "8/8 [==============================] - 1s 83ms/step - loss: 1.6892 - accuracy: 0.3293 - val_loss: 1.6898 - val_accuracy: 0.3091\n",
      "Epoch 17/100\n",
      "8/8 [==============================] - 1s 84ms/step - loss: 1.6122 - accuracy: 0.3775 - val_loss: 1.6044 - val_accuracy: 0.3477\n",
      "Epoch 18/100\n",
      "8/8 [==============================] - 1s 84ms/step - loss: 1.5135 - accuracy: 0.3692 - val_loss: 1.4312 - val_accuracy: 0.4227\n",
      "Epoch 19/100\n",
      "8/8 [==============================] - 1s 85ms/step - loss: 1.5489 - accuracy: 0.3902 - val_loss: 1.6475 - val_accuracy: 0.2523\n",
      "Epoch 20/100\n",
      "8/8 [==============================] - 1s 82ms/step - loss: 1.4130 - accuracy: 0.4500 - val_loss: 1.3507 - val_accuracy: 0.3977\n",
      "Epoch 21/100\n",
      "8/8 [==============================] - 1s 84ms/step - loss: 1.2404 - accuracy: 0.4904 - val_loss: 1.2953 - val_accuracy: 0.4500\n",
      "Epoch 22/100\n",
      "8/8 [==============================] - 1s 83ms/step - loss: 1.0831 - accuracy: 0.5987 - val_loss: 1.7553 - val_accuracy: 0.2364\n",
      "Epoch 23/100\n",
      "8/8 [==============================] - 1s 82ms/step - loss: 1.9090 - accuracy: 0.2705 - val_loss: 1.4647 - val_accuracy: 0.3455\n",
      "Epoch 24/100\n",
      "8/8 [==============================] - 1s 85ms/step - loss: 1.5246 - accuracy: 0.3535 - val_loss: 1.3270 - val_accuracy: 0.4386\n",
      "Epoch 25/100\n",
      "8/8 [==============================] - 1s 84ms/step - loss: 1.3057 - accuracy: 0.4510 - val_loss: 1.2627 - val_accuracy: 0.4386\n",
      "Epoch 26/100\n",
      "8/8 [==============================] - 1s 82ms/step - loss: 1.1026 - accuracy: 0.5439 - val_loss: 1.0503 - val_accuracy: 0.6114\n",
      "Epoch 27/100\n",
      "8/8 [==============================] - 1s 85ms/step - loss: 0.9334 - accuracy: 0.5652 - val_loss: 0.9456 - val_accuracy: 0.4500\n",
      "Epoch 28/100\n",
      "8/8 [==============================] - 1s 85ms/step - loss: 0.8258 - accuracy: 0.5662 - val_loss: 0.8615 - val_accuracy: 0.5636\n",
      "Epoch 29/100\n",
      "8/8 [==============================] - 1s 85ms/step - loss: 0.8268 - accuracy: 0.6141 - val_loss: 0.8069 - val_accuracy: 0.6318\n",
      "Epoch 30/100\n",
      "8/8 [==============================] - 1s 83ms/step - loss: 1.8155 - accuracy: 0.4371 - val_loss: 1.1992 - val_accuracy: 0.3545\n",
      "Epoch 31/100\n",
      "8/8 [==============================] - 1s 84ms/step - loss: 2.0075 - accuracy: 0.3038 - val_loss: 1.2410 - val_accuracy: 0.4273\n",
      "Epoch 32/100\n",
      "8/8 [==============================] - 1s 85ms/step - loss: 1.3583 - accuracy: 0.3884 - val_loss: 1.4184 - val_accuracy: 0.3091\n",
      "Epoch 33/100\n",
      "8/8 [==============================] - 1s 84ms/step - loss: 1.2815 - accuracy: 0.4583 - val_loss: 1.1923 - val_accuracy: 0.5432\n",
      "Epoch 34/100\n",
      "8/8 [==============================] - 1s 83ms/step - loss: 1.1012 - accuracy: 0.5417 - val_loss: 1.0506 - val_accuracy: 0.4818\n",
      "Epoch 35/100\n",
      "8/8 [==============================] - 1s 83ms/step - loss: 0.9224 - accuracy: 0.5929 - val_loss: 0.8989 - val_accuracy: 0.6136\n",
      "Epoch 36/100\n",
      "8/8 [==============================] - 1s 85ms/step - loss: 0.7740 - accuracy: 0.7038 - val_loss: 0.8029 - val_accuracy: 0.6045\n",
      "Epoch 37/100\n",
      "8/8 [==============================] - 1s 85ms/step - loss: 0.6703 - accuracy: 0.7520 - val_loss: 0.7102 - val_accuracy: 0.6932\n",
      "Epoch 38/100\n",
      "8/8 [==============================] - 1s 82ms/step - loss: 0.5909 - accuracy: 0.8023 - val_loss: 0.6743 - val_accuracy: 0.7409\n",
      "Epoch 39/100\n",
      "8/8 [==============================] - 1s 83ms/step - loss: 0.5478 - accuracy: 0.8139 - val_loss: 0.6064 - val_accuracy: 0.6523\n",
      "Epoch 40/100\n",
      "8/8 [==============================] - 1s 84ms/step - loss: 0.4834 - accuracy: 0.8152 - val_loss: 0.5340 - val_accuracy: 0.7750\n",
      "Epoch 41/100\n",
      "8/8 [==============================] - 1s 86ms/step - loss: 0.4251 - accuracy: 0.8139 - val_loss: 0.4872 - val_accuracy: 0.7432\n",
      "Epoch 42/100\n",
      "8/8 [==============================] - 1s 86ms/step - loss: 0.3883 - accuracy: 0.8331 - val_loss: 0.4364 - val_accuracy: 0.7727\n",
      "Epoch 43/100\n",
      "8/8 [==============================] - 1s 86ms/step - loss: 0.3214 - accuracy: 0.8457 - val_loss: 0.3557 - val_accuracy: 0.8636\n",
      "Epoch 44/100\n",
      "8/8 [==============================] - 1s 83ms/step - loss: 0.2770 - accuracy: 0.8816 - val_loss: 0.3158 - val_accuracy: 0.8659\n",
      "Epoch 45/100\n",
      "8/8 [==============================] - 1s 83ms/step - loss: 0.2448 - accuracy: 0.9040 - val_loss: 0.3299 - val_accuracy: 0.8682\n",
      "Epoch 46/100\n",
      "8/8 [==============================] - 1s 83ms/step - loss: 0.2637 - accuracy: 0.8932 - val_loss: 0.2627 - val_accuracy: 0.8886\n",
      "Epoch 47/100\n",
      "8/8 [==============================] - 1s 83ms/step - loss: 0.2448 - accuracy: 0.8823 - val_loss: 0.2291 - val_accuracy: 0.8795\n",
      "Epoch 48/100\n",
      "8/8 [==============================] - 1s 85ms/step - loss: 0.1725 - accuracy: 0.9293 - val_loss: 0.2118 - val_accuracy: 0.8909\n",
      "Epoch 49/100\n",
      "8/8 [==============================] - 1s 85ms/step - loss: 0.1414 - accuracy: 0.9561 - val_loss: 0.1491 - val_accuracy: 0.9773\n",
      "Epoch 50/100\n",
      "8/8 [==============================] - 1s 83ms/step - loss: 0.1214 - accuracy: 0.9750 - val_loss: 0.1204 - val_accuracy: 0.9886\n",
      "Epoch 51/100\n",
      "8/8 [==============================] - 1s 84ms/step - loss: 0.0999 - accuracy: 0.9841 - val_loss: 0.1040 - val_accuracy: 0.9841\n",
      "Epoch 52/100\n",
      "8/8 [==============================] - 1s 84ms/step - loss: 0.0879 - accuracy: 0.9838 - val_loss: 0.0820 - val_accuracy: 0.9955\n",
      "Epoch 53/100\n"
     ]
    },
    {
     "name": "stdout",
     "output_type": "stream",
     "text": [
      "8/8 [==============================] - 1s 83ms/step - loss: 0.0700 - accuracy: 0.9894 - val_loss: 0.0688 - val_accuracy: 0.9955\n",
      "Epoch 54/100\n",
      "8/8 [==============================] - 1s 83ms/step - loss: 2.3910 - accuracy: 0.8354 - val_loss: 9.3090 - val_accuracy: 0.5000\n",
      "Epoch 55/100\n",
      "8/8 [==============================] - 1s 83ms/step - loss: 5.1723 - accuracy: 0.4343 - val_loss: 3.8776 - val_accuracy: 0.2227\n",
      "Epoch 56/100\n",
      "8/8 [==============================] - 1s 85ms/step - loss: 1.6419 - accuracy: 0.4965 - val_loss: 1.1835 - val_accuracy: 0.5682\n",
      "Epoch 57/100\n",
      "8/8 [==============================] - 1s 83ms/step - loss: 0.9066 - accuracy: 0.6215 - val_loss: 0.9132 - val_accuracy: 0.6023\n",
      "Epoch 58/100\n",
      "8/8 [==============================] - 1s 85ms/step - loss: 0.8504 - accuracy: 0.6896 - val_loss: 0.8025 - val_accuracy: 0.6659\n",
      "Epoch 59/100\n",
      "8/8 [==============================] - 1s 83ms/step - loss: 0.7296 - accuracy: 0.8326 - val_loss: 0.7209 - val_accuracy: 0.6955\n",
      "Epoch 60/100\n",
      "8/8 [==============================] - 1s 84ms/step - loss: 0.6089 - accuracy: 0.8273 - val_loss: 0.5898 - val_accuracy: 0.8886\n",
      "Epoch 61/100\n",
      "8/8 [==============================] - 1s 82ms/step - loss: 0.4934 - accuracy: 0.9422 - val_loss: 0.4821 - val_accuracy: 0.9659\n",
      "Epoch 62/100\n",
      "8/8 [==============================] - 1s 83ms/step - loss: 0.3999 - accuracy: 0.9727 - val_loss: 0.4078 - val_accuracy: 0.9773\n",
      "Epoch 63/100\n",
      "8/8 [==============================] - 1s 84ms/step - loss: 0.3289 - accuracy: 0.9881 - val_loss: 0.3344 - val_accuracy: 0.9909\n",
      "Epoch 64/100\n",
      "8/8 [==============================] - 1s 85ms/step - loss: 0.2738 - accuracy: 0.9919 - val_loss: 0.2872 - val_accuracy: 0.9818\n",
      "Epoch 65/100\n",
      "8/8 [==============================] - 1s 84ms/step - loss: 0.2345 - accuracy: 0.9886 - val_loss: 0.2509 - val_accuracy: 0.9864\n",
      "Epoch 66/100\n",
      "8/8 [==============================] - 1s 85ms/step - loss: 0.2017 - accuracy: 0.9932 - val_loss: 0.2163 - val_accuracy: 0.9932\n",
      "Epoch 67/100\n",
      "8/8 [==============================] - 1s 82ms/step - loss: 0.1753 - accuracy: 0.9909 - val_loss: 0.1921 - val_accuracy: 0.9773\n",
      "Epoch 68/100\n",
      "8/8 [==============================] - 1s 85ms/step - loss: 0.1547 - accuracy: 0.9927 - val_loss: 0.1671 - val_accuracy: 0.9955\n",
      "Epoch 69/100\n",
      "8/8 [==============================] - 1s 86ms/step - loss: 0.1370 - accuracy: 0.9939 - val_loss: 0.1491 - val_accuracy: 0.9932\n",
      "Epoch 70/100\n",
      "8/8 [==============================] - 1s 85ms/step - loss: 0.1191 - accuracy: 0.9965 - val_loss: 0.1324 - val_accuracy: 0.9955\n",
      "Epoch 71/100\n",
      "8/8 [==============================] - 1s 85ms/step - loss: 0.1063 - accuracy: 0.9962 - val_loss: 0.1222 - val_accuracy: 0.9909\n",
      "Epoch 72/100\n",
      "8/8 [==============================] - 1s 83ms/step - loss: 0.0994 - accuracy: 0.9952 - val_loss: 0.1046 - val_accuracy: 0.9977\n",
      "Epoch 73/100\n",
      "8/8 [==============================] - 1s 85ms/step - loss: 0.0864 - accuracy: 0.9955 - val_loss: 0.0948 - val_accuracy: 0.9977\n",
      "Epoch 74/100\n",
      "8/8 [==============================] - 1s 83ms/step - loss: 0.0790 - accuracy: 0.9944 - val_loss: 0.0940 - val_accuracy: 0.9909\n",
      "Epoch 75/100\n",
      "8/8 [==============================] - 1s 84ms/step - loss: 0.0733 - accuracy: 0.9952 - val_loss: 0.0807 - val_accuracy: 0.9932\n",
      "Epoch 76/100\n",
      "8/8 [==============================] - 1s 85ms/step - loss: 0.0640 - accuracy: 0.9960 - val_loss: 0.0712 - val_accuracy: 0.9977\n",
      "Epoch 77/100\n",
      "8/8 [==============================] - 1s 83ms/step - loss: 0.0600 - accuracy: 0.9949 - val_loss: 0.0640 - val_accuracy: 0.9955\n",
      "Epoch 78/100\n",
      "8/8 [==============================] - 1s 84ms/step - loss: 0.0544 - accuracy: 0.9957 - val_loss: 0.0579 - val_accuracy: 0.9977\n",
      "Epoch 79/100\n",
      "8/8 [==============================] - 1s 85ms/step - loss: 0.0493 - accuracy: 0.9960 - val_loss: 0.0535 - val_accuracy: 0.9977\n",
      "Epoch 80/100\n",
      "8/8 [==============================] - 1s 82ms/step - loss: 0.0462 - accuracy: 0.9965 - val_loss: 0.0500 - val_accuracy: 1.0000\n",
      "Epoch 81/100\n",
      "8/8 [==============================] - 1s 81ms/step - loss: 0.0427 - accuracy: 0.9965 - val_loss: 0.0532 - val_accuracy: 0.9909\n",
      "Epoch 82/100\n",
      "8/8 [==============================] - 1s 82ms/step - loss: 0.0403 - accuracy: 0.9957 - val_loss: 0.0427 - val_accuracy: 0.9977\n",
      "Epoch 83/100\n",
      "8/8 [==============================] - 1s 82ms/step - loss: 0.0359 - accuracy: 0.9970 - val_loss: 0.0421 - val_accuracy: 0.9977\n",
      "Epoch 84/100\n",
      "8/8 [==============================] - 1s 83ms/step - loss: 0.0363 - accuracy: 0.9957 - val_loss: 0.0395 - val_accuracy: 0.9955\n",
      "Epoch 85/100\n",
      "8/8 [==============================] - 1s 82ms/step - loss: 0.0368 - accuracy: 0.9960 - val_loss: 0.0405 - val_accuracy: 0.9955\n",
      "Epoch 86/100\n",
      "8/8 [==============================] - 1s 83ms/step - loss: 0.0346 - accuracy: 0.9955 - val_loss: 0.0506 - val_accuracy: 0.9909\n",
      "Epoch 87/100\n",
      "8/8 [==============================] - 1s 85ms/step - loss: 0.0324 - accuracy: 0.9947 - val_loss: 0.0318 - val_accuracy: 0.9955\n",
      "Epoch 88/100\n",
      "8/8 [==============================] - 1s 82ms/step - loss: 0.0311 - accuracy: 0.9955 - val_loss: 0.0305 - val_accuracy: 0.9977\n",
      "Epoch 89/100\n",
      "8/8 [==============================] - 1s 83ms/step - loss: 0.0285 - accuracy: 0.9952 - val_loss: 0.0422 - val_accuracy: 0.9909\n",
      "Epoch 90/100\n",
      "8/8 [==============================] - 1s 84ms/step - loss: 0.0322 - accuracy: 0.9942 - val_loss: 0.0305 - val_accuracy: 0.9955\n",
      "Epoch 91/100\n",
      "8/8 [==============================] - 1s 84ms/step - loss: 0.0276 - accuracy: 0.9957 - val_loss: 0.0334 - val_accuracy: 0.9909\n",
      "Epoch 92/100\n",
      "8/8 [==============================] - 1s 82ms/step - loss: 0.0285 - accuracy: 0.9944 - val_loss: 0.0312 - val_accuracy: 0.9932\n",
      "Epoch 93/100\n",
      "8/8 [==============================] - 1s 84ms/step - loss: 0.0295 - accuracy: 0.9937 - val_loss: 0.0296 - val_accuracy: 0.9955\n",
      "Epoch 94/100\n",
      "8/8 [==============================] - 1s 83ms/step - loss: 0.0258 - accuracy: 0.9960 - val_loss: 0.0253 - val_accuracy: 0.9955\n",
      "Epoch 95/100\n",
      "8/8 [==============================] - 1s 82ms/step - loss: 0.0236 - accuracy: 0.9952 - val_loss: 0.0260 - val_accuracy: 0.9955\n",
      "Epoch 96/100\n",
      "8/8 [==============================] - 1s 83ms/step - loss: 0.0264 - accuracy: 0.9947 - val_loss: 0.0228 - val_accuracy: 0.9955\n",
      "Epoch 97/100\n",
      "8/8 [==============================] - 1s 84ms/step - loss: 0.0201 - accuracy: 0.9975 - val_loss: 0.0210 - val_accuracy: 0.9977\n",
      "Epoch 98/100\n",
      "8/8 [==============================] - 1s 83ms/step - loss: 0.0203 - accuracy: 0.9972 - val_loss: 0.0208 - val_accuracy: 0.9977\n",
      "Epoch 99/100\n",
      "8/8 [==============================] - 1s 83ms/step - loss: 0.0202 - accuracy: 0.9962 - val_loss: 0.0255 - val_accuracy: 0.9955\n",
      "Epoch 100/100\n",
      "8/8 [==============================] - 1s 84ms/step - loss: 0.0280 - accuracy: 0.9929 - val_loss: 0.0354 - val_accuracy: 0.9932\n",
      "35/35 [==============================] - 0s 5ms/step - loss: 0.0319 - accuracy: 0.9918\n"
     ]
    },
    {
     "data": {
      "image/png": "[encoded data removed]",
      "text/plain": [
       "<Figure size 504x432 with 2 Axes>"
      ]
     },
     "metadata": {
      "needs_background": "light"
     },
     "output_type": "display_data"
    },
    {
     "name": "stdout",
     "output_type": "stream",
     "text": [
      "Precision:0.992\n",
      "Recall:0.992\n",
      "F1_score:0.992\n",
      "              precision    recall  f1-score   support\n",
      "\n",
      "           0       0.99      1.00      0.99        95\n",
      "           1       0.94      0.99      0.97       102\n",
      "           2       1.00      0.93      0.97       105\n",
      "           3       0.99      1.00      1.00       102\n",
      "           4       1.00      1.00      1.00        95\n",
      "           5       1.00      1.00      1.00       101\n",
      "           6       1.00      1.00      1.00        99\n",
      "           7       1.00      0.99      0.99       100\n",
      "           8       0.99      1.00      0.99        98\n",
      "           9       1.00      1.00      1.00        93\n",
      "          10       1.00      1.00      1.00       110\n",
      "\n",
      "    accuracy                           0.99      1100\n",
      "   macro avg       0.99      0.99      0.99      1100\n",
      "weighted avg       0.99      0.99      0.99      1100\n",
      "\n",
      "Epoch 1/100\n",
      "8/8 [==============================] - 1s 124ms/step - loss: 2.3986 - accuracy: 0.0896 - val_loss: 2.3974 - val_accuracy: 0.0909\n",
      "Epoch 2/100\n",
      "8/8 [==============================] - 1s 83ms/step - loss: 2.3953 - accuracy: 0.0894 - val_loss: 2.3967 - val_accuracy: 0.0909\n",
      "Epoch 3/100\n",
      "8/8 [==============================] - 1s 83ms/step - loss: 2.3735 - accuracy: 0.1702 - val_loss: 2.3543 - val_accuracy: 0.0864\n",
      "Epoch 4/100\n",
      "8/8 [==============================] - 1s 83ms/step - loss: 2.3255 - accuracy: 0.1646 - val_loss: 2.3035 - val_accuracy: 0.0864\n",
      "Epoch 5/100\n",
      "8/8 [==============================] - 1s 85ms/step - loss: 2.2448 - accuracy: 0.1657 - val_loss: 2.3301 - val_accuracy: 0.2159\n",
      "Epoch 6/100\n",
      "8/8 [==============================] - 1s 83ms/step - loss: 2.2146 - accuracy: 0.1995 - val_loss: 2.2181 - val_accuracy: 0.1909\n",
      "Epoch 7/100\n",
      "8/8 [==============================] - 1s 85ms/step - loss: 2.1461 - accuracy: 0.2290 - val_loss: 2.1451 - val_accuracy: 0.2318\n",
      "Epoch 8/100\n",
      "8/8 [==============================] - 1s 82ms/step - loss: 2.0599 - accuracy: 0.2929 - val_loss: 2.0619 - val_accuracy: 0.3568\n",
      "Epoch 9/100\n",
      "8/8 [==============================] - 1s 83ms/step - loss: 1.9875 - accuracy: 0.3235 - val_loss: 2.0351 - val_accuracy: 0.1795\n",
      "Epoch 10/100\n",
      "8/8 [==============================] - 1s 84ms/step - loss: 1.9322 - accuracy: 0.2783 - val_loss: 1.9358 - val_accuracy: 0.3523\n",
      "Epoch 11/100\n",
      "8/8 [==============================] - 1s 85ms/step - loss: 1.8342 - accuracy: 0.3237 - val_loss: 1.8662 - val_accuracy: 0.1818\n",
      "Epoch 12/100\n",
      "8/8 [==============================] - 1s 84ms/step - loss: 1.7494 - accuracy: 0.3078 - val_loss: 1.7856 - val_accuracy: 0.3500\n",
      "Epoch 13/100\n",
      "8/8 [==============================] - 1s 82ms/step - loss: 1.6454 - accuracy: 0.3467 - val_loss: 1.6430 - val_accuracy: 0.2136\n",
      "Epoch 14/100\n",
      "8/8 [==============================] - 1s 84ms/step - loss: 1.5879 - accuracy: 0.2778 - val_loss: 1.5162 - val_accuracy: 0.2045\n",
      "Epoch 15/100\n",
      "8/8 [==============================] - 1s 86ms/step - loss: 1.5118 - accuracy: 0.2848 - val_loss: 1.5385 - val_accuracy: 0.1068\n",
      "Epoch 16/100\n",
      "8/8 [==============================] - 1s 82ms/step - loss: 1.3072 - accuracy: 0.3561 - val_loss: 1.2684 - val_accuracy: 0.3273\n",
      "Epoch 17/100\n",
      "8/8 [==============================] - 1s 83ms/step - loss: 1.0583 - accuracy: 0.5753 - val_loss: 0.9403 - val_accuracy: 0.6455\n",
      "Epoch 18/100\n",
      "8/8 [==============================] - 1s 84ms/step - loss: 1.5857 - accuracy: 0.4250 - val_loss: 1.5270 - val_accuracy: 0.5386\n",
      "Epoch 19/100\n",
      "8/8 [==============================] - 1s 85ms/step - loss: 1.3039 - accuracy: 0.4518 - val_loss: 1.1177 - val_accuracy: 0.5523\n",
      "Epoch 20/100\n",
      "8/8 [==============================] - 1s 82ms/step - loss: 1.0776 - accuracy: 0.6035 - val_loss: 0.9235 - val_accuracy: 0.6545\n",
      "Epoch 21/100\n",
      "8/8 [==============================] - 1s 85ms/step - loss: 0.8093 - accuracy: 0.6745 - val_loss: 0.6556 - val_accuracy: 0.8386\n",
      "Epoch 22/100\n",
      "8/8 [==============================] - 1s 82ms/step - loss: 0.5222 - accuracy: 0.9126 - val_loss: 0.4400 - val_accuracy: 0.8773\n",
      "Epoch 23/100\n",
      "8/8 [==============================] - 1s 83ms/step - loss: 0.3731 - accuracy: 0.8917 - val_loss: 1.1465 - val_accuracy: 0.5886\n",
      "Epoch 24/100\n",
      "8/8 [==============================] - 1s 84ms/step - loss: 4.4175 - accuracy: 0.3053 - val_loss: 2.4053 - val_accuracy: 0.2568\n",
      "Epoch 25/100\n",
      "8/8 [==============================] - 1s 83ms/step - loss: 2.0134 - accuracy: 0.2331 - val_loss: 1.8278 - val_accuracy: 0.3659\n",
      "Epoch 26/100\n",
      "8/8 [==============================] - 1s 83ms/step - loss: 1.8156 - accuracy: 0.2965 - val_loss: 1.6709 - val_accuracy: 0.4909\n",
      "Epoch 27/100\n",
      "8/8 [==============================] - 1s 84ms/step - loss: 1.5801 - accuracy: 0.4308 - val_loss: 1.4403 - val_accuracy: 0.4500\n",
      "Epoch 28/100\n",
      "8/8 [==============================] - 1s 84ms/step - loss: 1.2423 - accuracy: 0.5699 - val_loss: 1.0731 - val_accuracy: 0.5977\n",
      "Epoch 29/100\n",
      "8/8 [==============================] - 1s 84ms/step - loss: 1.0428 - accuracy: 0.5533 - val_loss: 1.3556 - val_accuracy: 0.4341\n",
      "Epoch 30/100\n",
      "8/8 [==============================] - 1s 83ms/step - loss: 0.9705 - accuracy: 0.5644 - val_loss: 0.7571 - val_accuracy: 0.9000\n",
      "Epoch 31/100\n",
      "8/8 [==============================] - 1s 85ms/step - loss: 0.7109 - accuracy: 0.8697 - val_loss: 0.6562 - val_accuracy: 0.9159\n",
      "Epoch 32/100\n",
      "8/8 [==============================] - 1s 83ms/step - loss: 0.5764 - accuracy: 0.8677 - val_loss: 0.5545 - val_accuracy: 0.8545\n",
      "Epoch 33/100\n",
      "8/8 [==============================] - 1s 83ms/step - loss: 0.4608 - accuracy: 0.9242 - val_loss: 0.4372 - val_accuracy: 0.9750\n",
      "Epoch 34/100\n",
      "8/8 [==============================] - 1s 84ms/step - loss: 0.3637 - accuracy: 0.9788 - val_loss: 0.3424 - val_accuracy: 0.9909\n",
      "Epoch 35/100\n",
      "8/8 [==============================] - 1s 84ms/step - loss: 0.2871 - accuracy: 0.9907 - val_loss: 0.2634 - val_accuracy: 0.9955\n",
      "Epoch 36/100\n",
      "8/8 [==============================] - 1s 82ms/step - loss: 0.2307 - accuracy: 0.9816 - val_loss: 0.2206 - val_accuracy: 0.9841\n",
      "Epoch 37/100\n",
      "8/8 [==============================] - 1s 84ms/step - loss: 0.1762 - accuracy: 0.9904 - val_loss: 0.1564 - val_accuracy: 0.9909\n",
      "Epoch 38/100\n",
      "8/8 [==============================] - 1s 85ms/step - loss: 0.1317 - accuracy: 0.9927 - val_loss: 0.1359 - val_accuracy: 0.9841\n",
      "Epoch 39/100\n",
      "8/8 [==============================] - 1s 85ms/step - loss: 0.1165 - accuracy: 0.9894 - val_loss: 0.1294 - val_accuracy: 0.9659\n",
      "Epoch 40/100\n",
      "8/8 [==============================] - 1s 84ms/step - loss: 0.0846 - accuracy: 0.9924 - val_loss: 0.0817 - val_accuracy: 0.9955\n",
      "Epoch 41/100\n",
      "8/8 [==============================] - 1s 85ms/step - loss: 0.0651 - accuracy: 0.9965 - val_loss: 0.0962 - val_accuracy: 0.9841\n",
      "Epoch 42/100\n",
      "8/8 [==============================] - 1s 85ms/step - loss: 0.0623 - accuracy: 0.9937 - val_loss: 0.0611 - val_accuracy: 0.9932\n",
      "Epoch 43/100\n",
      "8/8 [==============================] - 1s 84ms/step - loss: 0.0428 - accuracy: 0.9970 - val_loss: 0.0388 - val_accuracy: 0.9977\n",
      "Epoch 44/100\n",
      "8/8 [==============================] - 1s 84ms/step - loss: 0.0306 - accuracy: 0.9982 - val_loss: 0.0338 - val_accuracy: 0.9977\n",
      "Epoch 45/100\n",
      "8/8 [==============================] - 1s 83ms/step - loss: 0.0253 - accuracy: 0.9990 - val_loss: 0.0289 - val_accuracy: 0.9977\n",
      "Epoch 46/100\n",
      "8/8 [==============================] - 1s 83ms/step - loss: 12.7912 - accuracy: 0.7104 - val_loss: 29.3074 - val_accuracy: 0.0864\n",
      "Epoch 47/100\n",
      "8/8 [==============================] - 1s 83ms/step - loss: 19.7445 - accuracy: 0.1788 - val_loss: 7.0213 - val_accuracy: 0.0864\n",
      "Epoch 48/100\n",
      "8/8 [==============================] - 1s 84ms/step - loss: 2.7472 - accuracy: 0.2172 - val_loss: 1.5597 - val_accuracy: 0.1977\n",
      "Epoch 49/100\n",
      "8/8 [==============================] - 1s 85ms/step - loss: 1.4721 - accuracy: 0.3169 - val_loss: 1.3046 - val_accuracy: 0.3932\n",
      "Epoch 50/100\n",
      "8/8 [==============================] - 1s 85ms/step - loss: 1.2504 - accuracy: 0.4386 - val_loss: 1.1666 - val_accuracy: 0.5614\n",
      "Epoch 51/100\n",
      "8/8 [==============================] - 1s 83ms/step - loss: 1.1200 - accuracy: 0.5503 - val_loss: 1.0435 - val_accuracy: 0.5864\n",
      "Epoch 52/100\n",
      "8/8 [==============================] - 1s 83ms/step - loss: 0.9628 - accuracy: 0.6172 - val_loss: 0.8802 - val_accuracy: 0.7591\n",
      "Epoch 53/100\n"
     ]
    },
    {
     "name": "stdout",
     "output_type": "stream",
     "text": [
      "8/8 [==============================] - 1s 86ms/step - loss: 0.7978 - accuracy: 0.8020 - val_loss: 0.7171 - val_accuracy: 0.8909\n",
      "Epoch 54/100\n",
      "8/8 [==============================] - 1s 86ms/step - loss: 0.6247 - accuracy: 0.8588 - val_loss: 0.5443 - val_accuracy: 0.8909\n",
      "Epoch 55/100\n",
      "8/8 [==============================] - 1s 85ms/step - loss: 0.4608 - accuracy: 0.9298 - val_loss: 0.4172 - val_accuracy: 0.9364\n",
      "Epoch 56/100\n",
      "8/8 [==============================] - 1s 83ms/step - loss: 0.3303 - accuracy: 0.9763 - val_loss: 0.2994 - val_accuracy: 0.9841\n",
      "Epoch 57/100\n",
      "8/8 [==============================] - 1s 83ms/step - loss: 0.2504 - accuracy: 0.9942 - val_loss: 0.2400 - val_accuracy: 0.9909\n",
      "Epoch 58/100\n",
      "8/8 [==============================] - 1s 84ms/step - loss: 0.1976 - accuracy: 0.9934 - val_loss: 0.1949 - val_accuracy: 0.9818\n",
      "Epoch 59/100\n",
      "8/8 [==============================] - 1s 82ms/step - loss: 0.1517 - accuracy: 0.9952 - val_loss: 0.1362 - val_accuracy: 0.9932\n",
      "Epoch 60/100\n",
      "8/8 [==============================] - 1s 82ms/step - loss: 0.1102 - accuracy: 0.9980 - val_loss: 0.1097 - val_accuracy: 0.9932\n",
      "Epoch 61/100\n",
      "8/8 [==============================] - 1s 86ms/step - loss: 0.0883 - accuracy: 0.9957 - val_loss: 0.0715 - val_accuracy: 1.0000\n",
      "Epoch 62/100\n",
      "8/8 [==============================] - 1s 84ms/step - loss: 0.0608 - accuracy: 0.9980 - val_loss: 0.0766 - val_accuracy: 0.9932\n",
      "Epoch 63/100\n",
      "8/8 [==============================] - 1s 83ms/step - loss: 0.0592 - accuracy: 0.9965 - val_loss: 0.0566 - val_accuracy: 1.0000\n",
      "Epoch 64/100\n",
      "8/8 [==============================] - 1s 83ms/step - loss: 0.4180 - accuracy: 0.8907 - val_loss: 9.1476 - val_accuracy: 0.1023\n",
      "Epoch 65/100\n",
      "8/8 [==============================] - 1s 84ms/step - loss: 5.1069 - accuracy: 0.2604 - val_loss: 4.4198 - val_accuracy: 0.3250\n",
      "Epoch 66/100\n",
      "8/8 [==============================] - 1s 84ms/step - loss: 2.8657 - accuracy: 0.3558 - val_loss: 0.7156 - val_accuracy: 0.7682\n",
      "Epoch 67/100\n",
      "8/8 [==============================] - 1s 83ms/step - loss: 1.3122 - accuracy: 0.5187 - val_loss: 1.3970 - val_accuracy: 0.4114\n",
      "Epoch 68/100\n",
      "8/8 [==============================] - 1s 82ms/step - loss: 0.9982 - accuracy: 0.5364 - val_loss: 0.8951 - val_accuracy: 0.4955\n",
      "Epoch 69/100\n",
      "8/8 [==============================] - 1s 85ms/step - loss: 0.7359 - accuracy: 0.6947 - val_loss: 0.6227 - val_accuracy: 0.8568\n",
      "Epoch 70/100\n",
      "8/8 [==============================] - 1s 83ms/step - loss: 0.5991 - accuracy: 0.8664 - val_loss: 0.6183 - val_accuracy: 0.8068\n",
      "Epoch 71/100\n",
      "8/8 [==============================] - 1s 85ms/step - loss: 0.5123 - accuracy: 0.9159 - val_loss: 0.4759 - val_accuracy: 0.9795\n",
      "Epoch 72/100\n",
      "8/8 [==============================] - 1s 84ms/step - loss: 0.4209 - accuracy: 0.9793 - val_loss: 0.4105 - val_accuracy: 0.9886\n",
      "Epoch 73/100\n",
      "8/8 [==============================] - 1s 83ms/step - loss: 0.3565 - accuracy: 0.9884 - val_loss: 0.3458 - val_accuracy: 0.9932\n",
      "Epoch 74/100\n",
      "8/8 [==============================] - 1s 83ms/step - loss: 0.2988 - accuracy: 0.9972 - val_loss: 0.2937 - val_accuracy: 0.9955\n",
      "Epoch 75/100\n",
      "8/8 [==============================] - 1s 84ms/step - loss: 0.2520 - accuracy: 0.9970 - val_loss: 0.2525 - val_accuracy: 0.9955\n",
      "Epoch 76/100\n",
      "8/8 [==============================] - 1s 84ms/step - loss: 0.2153 - accuracy: 0.9970 - val_loss: 0.2166 - val_accuracy: 0.9955\n",
      "Epoch 77/100\n",
      "8/8 [==============================] - 1s 83ms/step - loss: 0.1854 - accuracy: 0.9980 - val_loss: 0.1884 - val_accuracy: 0.9977\n",
      "Epoch 78/100\n",
      "8/8 [==============================] - 1s 85ms/step - loss: 0.1610 - accuracy: 0.9985 - val_loss: 0.1637 - val_accuracy: 0.9977\n",
      "Epoch 79/100\n",
      "8/8 [==============================] - 1s 83ms/step - loss: 0.1404 - accuracy: 0.9982 - val_loss: 0.1474 - val_accuracy: 0.9977\n",
      "Epoch 80/100\n",
      "8/8 [==============================] - 1s 85ms/step - loss: 0.1237 - accuracy: 0.9980 - val_loss: 0.1290 - val_accuracy: 0.9977\n",
      "Epoch 81/100\n",
      "8/8 [==============================] - 1s 85ms/step - loss: 0.1088 - accuracy: 0.9985 - val_loss: 0.1128 - val_accuracy: 0.9977\n",
      "Epoch 82/100\n",
      "8/8 [==============================] - 1s 85ms/step - loss: 0.0970 - accuracy: 0.9987 - val_loss: 0.0998 - val_accuracy: 0.9977\n",
      "Epoch 83/100\n",
      "8/8 [==============================] - 1s 83ms/step - loss: 0.0863 - accuracy: 0.9985 - val_loss: 0.0890 - val_accuracy: 1.0000\n",
      "Epoch 84/100\n",
      "8/8 [==============================] - 1s 83ms/step - loss: 0.0767 - accuracy: 0.9992 - val_loss: 0.0809 - val_accuracy: 1.0000\n",
      "Epoch 85/100\n",
      "8/8 [==============================] - 1s 84ms/step - loss: 0.0682 - accuracy: 0.9982 - val_loss: 0.0744 - val_accuracy: 0.9977\n",
      "Epoch 86/100\n",
      "8/8 [==============================] - 1s 82ms/step - loss: 0.0623 - accuracy: 0.9985 - val_loss: 0.0731 - val_accuracy: 0.9932\n",
      "Epoch 87/100\n",
      "8/8 [==============================] - 1s 83ms/step - loss: 0.0573 - accuracy: 0.9982 - val_loss: 0.0594 - val_accuracy: 0.9977\n",
      "Epoch 88/100\n",
      "8/8 [==============================] - 1s 84ms/step - loss: 0.0510 - accuracy: 0.9980 - val_loss: 0.0559 - val_accuracy: 0.9977\n",
      "Epoch 89/100\n",
      "8/8 [==============================] - 1s 83ms/step - loss: 0.0473 - accuracy: 0.9977 - val_loss: 0.0500 - val_accuracy: 0.9977\n",
      "Epoch 90/100\n",
      "8/8 [==============================] - 1s 85ms/step - loss: 0.0438 - accuracy: 0.9980 - val_loss: 0.0489 - val_accuracy: 0.9955\n",
      "Epoch 91/100\n",
      "8/8 [==============================] - 1s 82ms/step - loss: 0.0402 - accuracy: 0.9987 - val_loss: 0.0447 - val_accuracy: 0.9977\n",
      "Epoch 92/100\n",
      "8/8 [==============================] - 1s 83ms/step - loss: 0.0369 - accuracy: 0.9990 - val_loss: 0.0407 - val_accuracy: 0.9977\n",
      "Epoch 93/100\n",
      "8/8 [==============================] - 1s 83ms/step - loss: 0.0346 - accuracy: 0.9980 - val_loss: 0.0394 - val_accuracy: 0.9977\n",
      "Epoch 94/100\n",
      "8/8 [==============================] - 1s 86ms/step - loss: 0.0340 - accuracy: 0.9977 - val_loss: 0.0408 - val_accuracy: 0.9977\n",
      "Epoch 95/100\n",
      "8/8 [==============================] - 1s 83ms/step - loss: 0.0330 - accuracy: 0.9970 - val_loss: 0.0360 - val_accuracy: 1.0000\n",
      "Epoch 96/100\n",
      "8/8 [==============================] - 1s 83ms/step - loss: 0.0312 - accuracy: 0.9975 - val_loss: 0.0344 - val_accuracy: 0.9977\n",
      "Epoch 97/100\n",
      "8/8 [==============================] - 1s 86ms/step - loss: 0.0290 - accuracy: 0.9975 - val_loss: 0.0330 - val_accuracy: 1.0000\n",
      "Epoch 98/100\n",
      "8/8 [==============================] - 1s 84ms/step - loss: 0.0276 - accuracy: 0.9975 - val_loss: 0.0334 - val_accuracy: 0.9977\n",
      "Epoch 99/100\n",
      "8/8 [==============================] - 1s 82ms/step - loss: 0.0264 - accuracy: 0.9972 - val_loss: 0.0274 - val_accuracy: 0.9977\n",
      "Epoch 100/100\n",
      "8/8 [==============================] - 1s 84ms/step - loss: 0.0232 - accuracy: 0.9982 - val_loss: 0.0251 - val_accuracy: 0.9977\n",
      "35/35 [==============================] - 0s 5ms/step - loss: 0.0251 - accuracy: 0.9991\n"
     ]
    },
    {
     "data": {
      "image/png": "[encoded data removed]",
      "text/plain": [
       "<Figure size 504x432 with 2 Axes>"
      ]
     },
     "metadata": {
      "needs_background": "light"
     },
     "output_type": "display_data"
    },
    {
     "name": "stdout",
     "output_type": "stream",
     "text": [
      "Precision:0.999\n",
      "Recall:0.999\n",
      "F1_score:0.999\n",
      "              precision    recall  f1-score   support\n",
      "\n",
      "           0       1.00      1.00      1.00       107\n",
      "           1       1.00      0.99      1.00       113\n",
      "           2       0.99      1.00      1.00       104\n",
      "           3       1.00      1.00      1.00        84\n",
      "           4       1.00      1.00      1.00       107\n",
      "           5       1.00      1.00      1.00        97\n",
      "           6       1.00      1.00      1.00       111\n",
      "           7       1.00      1.00      1.00        88\n",
      "           8       1.00      1.00      1.00        92\n",
      "           9       1.00      1.00      1.00       106\n",
      "          10       1.00      1.00      1.00        91\n",
      "\n",
      "    accuracy                           1.00      1100\n",
      "   macro avg       1.00      1.00      1.00      1100\n",
      "weighted avg       1.00      1.00      1.00      1100\n",
      "\n",
      "Epoch 1/100\n",
      "8/8 [==============================] - 1s 101ms/step - loss: 2.4260 - accuracy: 0.0884 - val_loss: 2.3978 - val_accuracy: 0.0955\n",
      "Epoch 2/100\n",
      "8/8 [==============================] - 1s 82ms/step - loss: 2.3979 - accuracy: 0.0957 - val_loss: 2.3980 - val_accuracy: 0.0659\n",
      "Epoch 3/100\n",
      "8/8 [==============================] - 1s 84ms/step - loss: 2.3978 - accuracy: 0.0965 - val_loss: 2.3982 - val_accuracy: 0.0659\n",
      "Epoch 4/100\n",
      "8/8 [==============================] - 1s 84ms/step - loss: 2.3978 - accuracy: 0.0965 - val_loss: 2.3984 - val_accuracy: 0.0659\n",
      "Epoch 5/100\n",
      "8/8 [==============================] - 1s 84ms/step - loss: 2.3977 - accuracy: 0.0965 - val_loss: 2.3986 - val_accuracy: 0.0659\n",
      "Epoch 6/100\n",
      "8/8 [==============================] - 1s 83ms/step - loss: 2.3977 - accuracy: 0.0965 - val_loss: 2.3988 - val_accuracy: 0.0659\n",
      "Epoch 7/100\n",
      "8/8 [==============================] - 1s 84ms/step - loss: 2.3977 - accuracy: 0.0965 - val_loss: 2.3990 - val_accuracy: 0.0659\n",
      "Epoch 8/100\n",
      "8/8 [==============================] - 1s 84ms/step - loss: 2.3977 - accuracy: 0.0965 - val_loss: 2.3991 - val_accuracy: 0.0659\n",
      "Epoch 9/100\n",
      "8/8 [==============================] - 1s 85ms/step - loss: 2.3976 - accuracy: 0.0965 - val_loss: 2.3994 - val_accuracy: 0.0659\n",
      "Epoch 10/100\n",
      "8/8 [==============================] - 1s 83ms/step - loss: 2.3976 - accuracy: 0.0965 - val_loss: 2.3996 - val_accuracy: 0.0659\n",
      "Epoch 11/100\n",
      "8/8 [==============================] - 1s 85ms/step - loss: 2.3976 - accuracy: 0.0965 - val_loss: 2.3997 - val_accuracy: 0.0659\n",
      "Epoch 12/100\n",
      "8/8 [==============================] - 1s 84ms/step - loss: 2.3976 - accuracy: 0.0965 - val_loss: 2.3998 - val_accuracy: 0.0659\n",
      "Epoch 13/100\n",
      "8/8 [==============================] - 1s 82ms/step - loss: 2.3976 - accuracy: 0.0965 - val_loss: 2.4000 - val_accuracy: 0.0659\n",
      "Epoch 14/100\n",
      "8/8 [==============================] - 1s 85ms/step - loss: 2.3976 - accuracy: 0.0965 - val_loss: 2.4001 - val_accuracy: 0.0659\n",
      "Epoch 15/100\n",
      "8/8 [==============================] - 1s 83ms/step - loss: 2.3976 - accuracy: 0.0965 - val_loss: 2.4002 - val_accuracy: 0.0659\n",
      "Epoch 16/100\n",
      "8/8 [==============================] - 1s 83ms/step - loss: 2.3976 - accuracy: 0.0965 - val_loss: 2.4003 - val_accuracy: 0.0659\n",
      "Epoch 17/100\n",
      "8/8 [==============================] - 1s 83ms/step - loss: 2.3975 - accuracy: 0.0965 - val_loss: 2.4004 - val_accuracy: 0.0659\n",
      "Epoch 18/100\n",
      "8/8 [==============================] - 1s 85ms/step - loss: 2.3975 - accuracy: 0.0965 - val_loss: 2.4005 - val_accuracy: 0.0659\n",
      "Epoch 19/100\n",
      "8/8 [==============================] - 1s 85ms/step - loss: 2.3975 - accuracy: 0.0965 - val_loss: 2.4006 - val_accuracy: 0.0659\n",
      "Epoch 20/100\n",
      "8/8 [==============================] - 1s 84ms/step - loss: 2.3975 - accuracy: 0.0965 - val_loss: 2.4006 - val_accuracy: 0.0659\n",
      "Epoch 21/100\n",
      "8/8 [==============================] - 1s 82ms/step - loss: 2.3975 - accuracy: 0.0965 - val_loss: 2.4006 - val_accuracy: 0.0659\n",
      "Epoch 22/100\n",
      "8/8 [==============================] - 1s 83ms/step - loss: 2.3975 - accuracy: 0.0965 - val_loss: 2.4008 - val_accuracy: 0.0659\n",
      "Epoch 23/100\n",
      "8/8 [==============================] - 1s 84ms/step - loss: 2.3975 - accuracy: 0.0965 - val_loss: 2.4009 - val_accuracy: 0.0659\n",
      "Epoch 24/100\n",
      "8/8 [==============================] - 1s 86ms/step - loss: 2.3975 - accuracy: 0.0965 - val_loss: 2.4009 - val_accuracy: 0.0659\n",
      "Epoch 25/100\n",
      "8/8 [==============================] - 1s 85ms/step - loss: 2.3975 - accuracy: 0.0965 - val_loss: 2.4010 - val_accuracy: 0.0659\n",
      "Epoch 26/100\n",
      "8/8 [==============================] - 1s 83ms/step - loss: 2.3975 - accuracy: 0.0965 - val_loss: 2.4011 - val_accuracy: 0.0659\n",
      "Epoch 27/100\n",
      "8/8 [==============================] - 1s 82ms/step - loss: 2.3975 - accuracy: 0.0965 - val_loss: 2.4013 - val_accuracy: 0.0659\n",
      "Epoch 28/100\n",
      "8/8 [==============================] - 1s 82ms/step - loss: 2.3975 - accuracy: 0.0965 - val_loss: 2.4013 - val_accuracy: 0.0659\n",
      "Epoch 29/100\n",
      "8/8 [==============================] - 1s 84ms/step - loss: 2.3976 - accuracy: 0.0965 - val_loss: 2.4015 - val_accuracy: 0.0659\n",
      "Epoch 30/100\n",
      "8/8 [==============================] - 1s 83ms/step - loss: 2.3975 - accuracy: 0.0965 - val_loss: 2.4013 - val_accuracy: 0.0659\n",
      "Epoch 31/100\n",
      "8/8 [==============================] - 1s 83ms/step - loss: 2.3975 - accuracy: 0.0965 - val_loss: 2.4012 - val_accuracy: 0.0659\n",
      "Epoch 32/100\n",
      "8/8 [==============================] - 1s 83ms/step - loss: 2.3975 - accuracy: 0.0965 - val_loss: 2.4013 - val_accuracy: 0.0659\n",
      "Epoch 33/100\n",
      "8/8 [==============================] - 1s 83ms/step - loss: 2.3975 - accuracy: 0.0965 - val_loss: 2.4013 - val_accuracy: 0.0659\n",
      "Epoch 34/100\n",
      "8/8 [==============================] - 1s 82ms/step - loss: 2.3975 - accuracy: 0.0965 - val_loss: 2.4013 - val_accuracy: 0.0659\n",
      "Epoch 35/100\n",
      "8/8 [==============================] - 1s 84ms/step - loss: 2.3975 - accuracy: 0.0965 - val_loss: 2.4013 - val_accuracy: 0.0659\n",
      "Epoch 36/100\n",
      "8/8 [==============================] - 1s 83ms/step - loss: 2.3975 - accuracy: 0.0965 - val_loss: 2.4015 - val_accuracy: 0.0659\n",
      "Epoch 37/100\n",
      "8/8 [==============================] - 1s 82ms/step - loss: 2.3975 - accuracy: 0.0965 - val_loss: 2.4014 - val_accuracy: 0.0659\n",
      "Epoch 38/100\n",
      "8/8 [==============================] - 1s 83ms/step - loss: 2.3975 - accuracy: 0.0965 - val_loss: 2.4015 - val_accuracy: 0.0659\n",
      "Epoch 39/100\n",
      "8/8 [==============================] - 1s 85ms/step - loss: 2.3975 - accuracy: 0.0965 - val_loss: 2.4015 - val_accuracy: 0.0659\n",
      "Epoch 40/100\n",
      "8/8 [==============================] - 1s 86ms/step - loss: 2.3975 - accuracy: 0.0965 - val_loss: 2.4015 - val_accuracy: 0.0659\n",
      "Epoch 41/100\n",
      "8/8 [==============================] - 1s 83ms/step - loss: 2.3975 - accuracy: 0.0965 - val_loss: 2.4016 - val_accuracy: 0.0659\n",
      "Epoch 42/100\n",
      "8/8 [==============================] - 1s 84ms/step - loss: 2.3975 - accuracy: 0.0965 - val_loss: 2.4016 - val_accuracy: 0.0659\n",
      "Epoch 43/100\n",
      "8/8 [==============================] - 1s 82ms/step - loss: 2.3975 - accuracy: 0.0965 - val_loss: 2.4016 - val_accuracy: 0.0659\n",
      "Epoch 44/100\n",
      "8/8 [==============================] - 1s 83ms/step - loss: 2.3975 - accuracy: 0.0965 - val_loss: 2.4017 - val_accuracy: 0.0659\n",
      "Epoch 45/100\n",
      "8/8 [==============================] - 1s 84ms/step - loss: 2.3975 - accuracy: 0.0965 - val_loss: 2.4016 - val_accuracy: 0.0659\n",
      "Epoch 46/100\n",
      "8/8 [==============================] - 1s 85ms/step - loss: 2.3975 - accuracy: 0.0965 - val_loss: 2.4017 - val_accuracy: 0.0659\n",
      "Epoch 47/100\n",
      "8/8 [==============================] - 1s 82ms/step - loss: 2.3975 - accuracy: 0.0965 - val_loss: 2.4017 - val_accuracy: 0.0659\n",
      "Epoch 48/100\n",
      "8/8 [==============================] - 1s 83ms/step - loss: 2.3975 - accuracy: 0.0965 - val_loss: 2.4017 - val_accuracy: 0.0659\n",
      "Epoch 49/100\n",
      "8/8 [==============================] - 1s 83ms/step - loss: 2.3975 - accuracy: 0.0965 - val_loss: 2.4018 - val_accuracy: 0.0659\n",
      "Epoch 50/100\n",
      "8/8 [==============================] - 1s 86ms/step - loss: 2.3975 - accuracy: 0.0965 - val_loss: 2.4018 - val_accuracy: 0.0659\n",
      "Epoch 51/100\n",
      "8/8 [==============================] - 1s 84ms/step - loss: 2.3975 - accuracy: 0.0965 - val_loss: 2.4017 - val_accuracy: 0.0659\n",
      "Epoch 52/100\n",
      "8/8 [==============================] - 1s 85ms/step - loss: 2.3975 - accuracy: 0.0965 - val_loss: 2.4018 - val_accuracy: 0.0659\n",
      "Epoch 53/100\n"
     ]
    },
    {
     "name": "stdout",
     "output_type": "stream",
     "text": [
      "8/8 [==============================] - 1s 85ms/step - loss: 2.3975 - accuracy: 0.0965 - val_loss: 2.4017 - val_accuracy: 0.0659\n",
      "Epoch 54/100\n",
      "8/8 [==============================] - 1s 83ms/step - loss: 2.3975 - accuracy: 0.0965 - val_loss: 2.4018 - val_accuracy: 0.0659\n",
      "Epoch 55/100\n",
      "8/8 [==============================] - 1s 83ms/step - loss: 2.3975 - accuracy: 0.0965 - val_loss: 2.4018 - val_accuracy: 0.0659\n",
      "Epoch 56/100\n",
      "8/8 [==============================] - 1s 83ms/step - loss: 2.3975 - accuracy: 0.0965 - val_loss: 2.4018 - val_accuracy: 0.0659\n",
      "Epoch 57/100\n",
      "8/8 [==============================] - 1s 83ms/step - loss: 2.3975 - accuracy: 0.0965 - val_loss: 2.4018 - val_accuracy: 0.0659\n",
      "Epoch 58/100\n",
      "8/8 [==============================] - 1s 83ms/step - loss: 2.3975 - accuracy: 0.0965 - val_loss: 2.4018 - val_accuracy: 0.0659\n",
      "Epoch 59/100\n",
      "8/8 [==============================] - 1s 83ms/step - loss: 2.3975 - accuracy: 0.0965 - val_loss: 2.4018 - val_accuracy: 0.0659\n",
      "Epoch 60/100\n",
      "8/8 [==============================] - 1s 84ms/step - loss: 2.3975 - accuracy: 0.0965 - val_loss: 2.4019 - val_accuracy: 0.0659\n",
      "Epoch 61/100\n",
      "8/8 [==============================] - 1s 84ms/step - loss: 2.3975 - accuracy: 0.0965 - val_loss: 2.4018 - val_accuracy: 0.0659\n",
      "Epoch 62/100\n",
      "8/8 [==============================] - 1s 83ms/step - loss: 2.3975 - accuracy: 0.0965 - val_loss: 2.4018 - val_accuracy: 0.0659\n",
      "Epoch 63/100\n",
      "8/8 [==============================] - 1s 83ms/step - loss: 2.3975 - accuracy: 0.0965 - val_loss: 2.4018 - val_accuracy: 0.0659\n",
      "Epoch 64/100\n",
      "8/8 [==============================] - 1s 83ms/step - loss: 2.3975 - accuracy: 0.0965 - val_loss: 2.4018 - val_accuracy: 0.0659\n",
      "Epoch 65/100\n",
      "8/8 [==============================] - 1s 83ms/step - loss: 2.3975 - accuracy: 0.0965 - val_loss: 2.4018 - val_accuracy: 0.0659\n",
      "Epoch 66/100\n",
      "8/8 [==============================] - 1s 82ms/step - loss: 2.3975 - accuracy: 0.0965 - val_loss: 2.4019 - val_accuracy: 0.0659\n",
      "Epoch 67/100\n",
      "8/8 [==============================] - 1s 85ms/step - loss: 2.3975 - accuracy: 0.0965 - val_loss: 2.4018 - val_accuracy: 0.0659\n",
      "Epoch 68/100\n",
      "8/8 [==============================] - 1s 82ms/step - loss: 2.3975 - accuracy: 0.0965 - val_loss: 2.4018 - val_accuracy: 0.0659\n",
      "Epoch 69/100\n",
      "8/8 [==============================] - 1s 83ms/step - loss: 2.3975 - accuracy: 0.0965 - val_loss: 2.4018 - val_accuracy: 0.0659\n",
      "Epoch 70/100\n",
      "8/8 [==============================] - 1s 84ms/step - loss: 2.3975 - accuracy: 0.0965 - val_loss: 2.4018 - val_accuracy: 0.0659\n",
      "Epoch 71/100\n",
      "8/8 [==============================] - 1s 84ms/step - loss: 2.3975 - accuracy: 0.0965 - val_loss: 2.4018 - val_accuracy: 0.0659\n",
      "Epoch 72/100\n",
      "8/8 [==============================] - 1s 85ms/step - loss: 2.3975 - accuracy: 0.0965 - val_loss: 2.4018 - val_accuracy: 0.0659\n",
      "Epoch 73/100\n",
      "8/8 [==============================] - 1s 82ms/step - loss: 2.3975 - accuracy: 0.0965 - val_loss: 2.4018 - val_accuracy: 0.0659\n",
      "Epoch 74/100\n",
      "8/8 [==============================] - 1s 86ms/step - loss: 2.3975 - accuracy: 0.0965 - val_loss: 2.4017 - val_accuracy: 0.0659\n",
      "Epoch 75/100\n",
      "8/8 [==============================] - 1s 84ms/step - loss: 2.3975 - accuracy: 0.0965 - val_loss: 2.4017 - val_accuracy: 0.0659\n",
      "Epoch 76/100\n",
      "8/8 [==============================] - 1s 83ms/step - loss: 2.3975 - accuracy: 0.0965 - val_loss: 2.4018 - val_accuracy: 0.0659\n",
      "Epoch 77/100\n",
      "8/8 [==============================] - 1s 82ms/step - loss: 2.3975 - accuracy: 0.0965 - val_loss: 2.4018 - val_accuracy: 0.0659\n",
      "Epoch 78/100\n",
      "8/8 [==============================] - 1s 85ms/step - loss: 2.3975 - accuracy: 0.0965 - val_loss: 2.4018 - val_accuracy: 0.0659\n",
      "Epoch 79/100\n",
      "8/8 [==============================] - 1s 85ms/step - loss: 2.3975 - accuracy: 0.0965 - val_loss: 2.4018 - val_accuracy: 0.0659\n",
      "Epoch 80/100\n",
      "8/8 [==============================] - 1s 85ms/step - loss: 2.3975 - accuracy: 0.0965 - val_loss: 2.4018 - val_accuracy: 0.0659\n",
      "Epoch 81/100\n",
      "8/8 [==============================] - 1s 85ms/step - loss: 2.3975 - accuracy: 0.0965 - val_loss: 2.4019 - val_accuracy: 0.0659\n",
      "Epoch 82/100\n",
      "8/8 [==============================] - 1s 83ms/step - loss: 2.3975 - accuracy: 0.0965 - val_loss: 2.4019 - val_accuracy: 0.0659\n",
      "Epoch 83/100\n",
      "8/8 [==============================] - 1s 83ms/step - loss: 2.3975 - accuracy: 0.0965 - val_loss: 2.4018 - val_accuracy: 0.0659\n",
      "Epoch 84/100\n",
      "8/8 [==============================] - 1s 83ms/step - loss: 2.3975 - accuracy: 0.0965 - val_loss: 2.4018 - val_accuracy: 0.0659\n",
      "Epoch 85/100\n",
      "8/8 [==============================] - 1s 84ms/step - loss: 2.3975 - accuracy: 0.0965 - val_loss: 2.4018 - val_accuracy: 0.0659\n",
      "Epoch 86/100\n",
      "8/8 [==============================] - 1s 84ms/step - loss: 2.3975 - accuracy: 0.0965 - val_loss: 2.4017 - val_accuracy: 0.0659\n",
      "Epoch 87/100\n",
      "8/8 [==============================] - 1s 83ms/step - loss: 2.3975 - accuracy: 0.0965 - val_loss: 2.4018 - val_accuracy: 0.0659\n",
      "Epoch 88/100\n",
      "8/8 [==============================] - 1s 81ms/step - loss: 2.3975 - accuracy: 0.0965 - val_loss: 2.4018 - val_accuracy: 0.0659\n",
      "Epoch 89/100\n",
      "8/8 [==============================] - 1s 82ms/step - loss: 2.3975 - accuracy: 0.0965 - val_loss: 2.4018 - val_accuracy: 0.0659\n",
      "Epoch 90/100\n",
      "8/8 [==============================] - 1s 85ms/step - loss: 2.3975 - accuracy: 0.0965 - val_loss: 2.4019 - val_accuracy: 0.0659\n",
      "Epoch 91/100\n",
      "8/8 [==============================] - 1s 83ms/step - loss: 2.3975 - accuracy: 0.0965 - val_loss: 2.4019 - val_accuracy: 0.0659\n",
      "Epoch 92/100\n",
      "8/8 [==============================] - 1s 82ms/step - loss: 2.3975 - accuracy: 0.0965 - val_loss: 2.4019 - val_accuracy: 0.0659\n",
      "Epoch 93/100\n",
      "8/8 [==============================] - 1s 83ms/step - loss: 2.3975 - accuracy: 0.0965 - val_loss: 2.4018 - val_accuracy: 0.0659\n",
      "Epoch 94/100\n",
      "8/8 [==============================] - 1s 84ms/step - loss: 2.3975 - accuracy: 0.0965 - val_loss: 2.4018 - val_accuracy: 0.0659\n",
      "Epoch 95/100\n",
      "8/8 [==============================] - 1s 83ms/step - loss: 2.3975 - accuracy: 0.0965 - val_loss: 2.4018 - val_accuracy: 0.0659\n",
      "Epoch 96/100\n",
      "8/8 [==============================] - 1s 84ms/step - loss: 2.3975 - accuracy: 0.0965 - val_loss: 2.4019 - val_accuracy: 0.0659\n",
      "Epoch 97/100\n",
      "8/8 [==============================] - 1s 83ms/step - loss: 2.3975 - accuracy: 0.0965 - val_loss: 2.4019 - val_accuracy: 0.0659\n",
      "Epoch 98/100\n",
      "8/8 [==============================] - 1s 82ms/step - loss: 2.3975 - accuracy: 0.0965 - val_loss: 2.4019 - val_accuracy: 0.0659\n",
      "Epoch 99/100\n",
      "8/8 [==============================] - 1s 85ms/step - loss: 2.3975 - accuracy: 0.0965 - val_loss: 2.4019 - val_accuracy: 0.0659\n",
      "Epoch 100/100\n",
      "8/8 [==============================] - 1s 85ms/step - loss: 2.3975 - accuracy: 0.0965 - val_loss: 2.4018 - val_accuracy: 0.0659\n",
      "35/35 [==============================] - 0s 5ms/step - loss: 2.3997 - accuracy: 0.0809\n"
     ]
    },
    {
     "data": {
      "image/png": "[encoded data removed]",
      "text/plain": [
       "<Figure size 504x432 with 2 Axes>"
      ]
     },
     "metadata": {
      "needs_background": "light"
     },
     "output_type": "display_data"
    },
    {
     "name": "stdout",
     "output_type": "stream",
     "text": [
      "Precision:0.00655\n",
      "Recall:0.0809\n",
      "F1_score:0.0121\n",
      "              precision    recall  f1-score   support\n",
      "\n",
      "           0       0.00      0.00      0.00        90\n",
      "           1       0.00      0.00      0.00       104\n",
      "           2       0.00      0.00      0.00        96\n",
      "           3       0.00      0.00      0.00        92\n",
      "           4       0.08      1.00      0.15        89\n",
      "           5       0.00      0.00      0.00       105\n",
      "           6       0.00      0.00      0.00        93\n",
      "           7       0.00      0.00      0.00       110\n",
      "           8       0.00      0.00      0.00       104\n",
      "           9       0.00      0.00      0.00       106\n",
      "          10       0.00      0.00      0.00       111\n",
      "\n",
      "    accuracy                           0.08      1100\n",
      "   macro avg       0.01      0.09      0.01      1100\n",
      "weighted avg       0.01      0.08      0.01      1100\n",
      "\n",
      "Epoch 1/100\n",
      "8/8 [==============================] - 1s 100ms/step - loss: 2.3983 - accuracy: 0.0919 - val_loss: 2.3975 - val_accuracy: 0.0750\n",
      "Epoch 2/100\n",
      "8/8 [==============================] - 1s 83ms/step - loss: 2.3966 - accuracy: 0.0942 - val_loss: 2.3917 - val_accuracy: 0.0750\n",
      "Epoch 3/100\n",
      "8/8 [==============================] - 1s 85ms/step - loss: 2.3827 - accuracy: 0.0942 - val_loss: 2.3580 - val_accuracy: 0.0750\n",
      "Epoch 4/100\n",
      "8/8 [==============================] - 1s 82ms/step - loss: 2.3448 - accuracy: 0.0485 - val_loss: 2.2875 - val_accuracy: 0.0773\n",
      "Epoch 5/100\n",
      "8/8 [==============================] - 1s 84ms/step - loss: 2.2967 - accuracy: 0.1947 - val_loss: 2.2282 - val_accuracy: 0.1682\n",
      "Epoch 6/100\n",
      "8/8 [==============================] - 1s 82ms/step - loss: 2.2243 - accuracy: 0.1831 - val_loss: 2.1899 - val_accuracy: 0.1682\n",
      "Epoch 7/100\n",
      "8/8 [==============================] - 1s 83ms/step - loss: 2.1743 - accuracy: 0.1848 - val_loss: 2.1267 - val_accuracy: 0.1750\n",
      "Epoch 8/100\n",
      "8/8 [==============================] - 1s 84ms/step - loss: 2.1326 - accuracy: 0.1871 - val_loss: 2.1083 - val_accuracy: 0.1864\n",
      "Epoch 9/100\n",
      "8/8 [==============================] - 1s 84ms/step - loss: 2.1003 - accuracy: 0.1919 - val_loss: 2.0647 - val_accuracy: 0.1886\n",
      "Epoch 10/100\n",
      "8/8 [==============================] - 1s 83ms/step - loss: 2.0710 - accuracy: 0.1957 - val_loss: 2.0234 - val_accuracy: 0.1682\n",
      "Epoch 11/100\n",
      "8/8 [==============================] - 1s 84ms/step - loss: 2.0405 - accuracy: 0.1881 - val_loss: 1.9845 - val_accuracy: 0.1682\n",
      "Epoch 12/100\n",
      "8/8 [==============================] - 1s 86ms/step - loss: 2.0124 - accuracy: 0.1838 - val_loss: 1.9414 - val_accuracy: 0.1682\n",
      "Epoch 13/100\n",
      "8/8 [==============================] - 1s 83ms/step - loss: 1.9899 - accuracy: 0.1821 - val_loss: 1.9247 - val_accuracy: 0.1682\n",
      "Epoch 14/100\n",
      "8/8 [==============================] - 1s 84ms/step - loss: 1.9888 - accuracy: 0.1869 - val_loss: 1.9307 - val_accuracy: 0.1841\n",
      "Epoch 15/100\n",
      "8/8 [==============================] - 1s 83ms/step - loss: 1.9887 - accuracy: 0.1866 - val_loss: 1.8947 - val_accuracy: 0.1705\n",
      "Epoch 16/100\n",
      "8/8 [==============================] - 1s 83ms/step - loss: 1.9601 - accuracy: 0.1909 - val_loss: 1.8872 - val_accuracy: 0.1682\n",
      "Epoch 17/100\n",
      "8/8 [==============================] - 1s 84ms/step - loss: 1.9453 - accuracy: 0.1914 - val_loss: 1.8831 - val_accuracy: 0.1795\n",
      "Epoch 18/100\n",
      "8/8 [==============================] - 1s 83ms/step - loss: 1.9450 - accuracy: 0.1909 - val_loss: 1.8847 - val_accuracy: 0.1977\n",
      "Epoch 19/100\n",
      "8/8 [==============================] - 1s 85ms/step - loss: 1.9465 - accuracy: 0.2023 - val_loss: 1.8840 - val_accuracy: 0.2114\n",
      "Epoch 20/100\n",
      "8/8 [==============================] - 1s 85ms/step - loss: 1.9337 - accuracy: 0.1967 - val_loss: 1.8675 - val_accuracy: 0.1727\n",
      "Epoch 21/100\n",
      "8/8 [==============================] - 1s 83ms/step - loss: 1.9185 - accuracy: 0.2068 - val_loss: 1.8723 - val_accuracy: 0.1705\n",
      "Epoch 22/100\n",
      "8/8 [==============================] - 1s 84ms/step - loss: 1.9118 - accuracy: 0.2035 - val_loss: 1.8541 - val_accuracy: 0.2068\n",
      "Epoch 23/100\n",
      "8/8 [==============================] - 1s 83ms/step - loss: 1.9051 - accuracy: 0.2071 - val_loss: 1.8577 - val_accuracy: 0.1818\n",
      "Epoch 24/100\n",
      "8/8 [==============================] - 1s 83ms/step - loss: 1.9041 - accuracy: 0.2121 - val_loss: 1.8536 - val_accuracy: 0.2114\n",
      "Epoch 25/100\n",
      "8/8 [==============================] - 1s 84ms/step - loss: 1.9095 - accuracy: 0.2189 - val_loss: 1.8496 - val_accuracy: 0.1818\n",
      "Epoch 26/100\n",
      "8/8 [==============================] - 1s 86ms/step - loss: 1.9022 - accuracy: 0.2091 - val_loss: 1.8456 - val_accuracy: 0.2295\n",
      "Epoch 27/100\n",
      "8/8 [==============================] - 1s 83ms/step - loss: 1.8864 - accuracy: 0.2194 - val_loss: 1.8356 - val_accuracy: 0.1818\n",
      "Epoch 28/100\n",
      "8/8 [==============================] - 1s 85ms/step - loss: 1.9019 - accuracy: 0.2124 - val_loss: 1.8525 - val_accuracy: 0.1705\n",
      "Epoch 29/100\n",
      "8/8 [==============================] - 1s 84ms/step - loss: 1.9127 - accuracy: 0.2053 - val_loss: 1.9644 - val_accuracy: 0.1977\n",
      "Epoch 30/100\n",
      "8/8 [==============================] - 1s 84ms/step - loss: 1.9639 - accuracy: 0.2005 - val_loss: 1.8864 - val_accuracy: 0.1682\n",
      "Epoch 31/100\n",
      "8/8 [==============================] - 1s 85ms/step - loss: 1.9276 - accuracy: 0.1896 - val_loss: 1.8636 - val_accuracy: 0.1977\n",
      "Epoch 32/100\n",
      "8/8 [==============================] - 1s 83ms/step - loss: 1.9123 - accuracy: 0.2058 - val_loss: 1.8441 - val_accuracy: 0.2114\n",
      "Epoch 33/100\n",
      "8/8 [==============================] - 1s 83ms/step - loss: 1.9154 - accuracy: 0.1992 - val_loss: 1.8787 - val_accuracy: 0.1682\n",
      "Epoch 34/100\n",
      "8/8 [==============================] - 1s 83ms/step - loss: 1.8963 - accuracy: 0.2048 - val_loss: 1.8780 - val_accuracy: 0.1682\n",
      "Epoch 35/100\n",
      "8/8 [==============================] - 1s 83ms/step - loss: 1.9073 - accuracy: 0.2020 - val_loss: 1.8357 - val_accuracy: 0.2227\n",
      "Epoch 36/100\n",
      "8/8 [==============================] - 1s 85ms/step - loss: 1.8829 - accuracy: 0.2114 - val_loss: 1.8018 - val_accuracy: 0.2114\n",
      "Epoch 37/100\n",
      "8/8 [==============================] - 1s 83ms/step - loss: 1.8502 - accuracy: 0.2263 - val_loss: 1.8069 - val_accuracy: 0.1795\n",
      "Epoch 38/100\n",
      "8/8 [==============================] - 1s 83ms/step - loss: 1.8378 - accuracy: 0.2348 - val_loss: 1.7904 - val_accuracy: 0.2250\n",
      "Epoch 39/100\n",
      "8/8 [==============================] - 1s 84ms/step - loss: 1.8296 - accuracy: 0.2482 - val_loss: 1.7872 - val_accuracy: 0.2250\n",
      "Epoch 40/100\n",
      "8/8 [==============================] - 1s 83ms/step - loss: 1.8234 - accuracy: 0.2396 - val_loss: 1.7824 - val_accuracy: 0.2364\n",
      "Epoch 41/100\n",
      "8/8 [==============================] - 1s 84ms/step - loss: 1.8216 - accuracy: 0.2328 - val_loss: 1.7728 - val_accuracy: 0.2091\n",
      "Epoch 42/100\n",
      "8/8 [==============================] - 1s 87ms/step - loss: 1.8108 - accuracy: 0.2520 - val_loss: 1.7714 - val_accuracy: 0.1955\n",
      "Epoch 43/100\n",
      "8/8 [==============================] - 1s 83ms/step - loss: 1.8047 - accuracy: 0.2495 - val_loss: 1.7632 - val_accuracy: 0.2000\n",
      "Epoch 44/100\n",
      "8/8 [==============================] - 1s 83ms/step - loss: 1.8002 - accuracy: 0.2540 - val_loss: 1.7552 - val_accuracy: 0.2364\n",
      "Epoch 45/100\n",
      "8/8 [==============================] - 1s 83ms/step - loss: 1.7928 - accuracy: 0.2586 - val_loss: 1.7497 - val_accuracy: 0.2364\n",
      "Epoch 46/100\n",
      "8/8 [==============================] - 1s 83ms/step - loss: 1.7926 - accuracy: 0.2462 - val_loss: 1.7580 - val_accuracy: 0.1977\n",
      "Epoch 47/100\n",
      "8/8 [==============================] - 1s 85ms/step - loss: 1.7821 - accuracy: 0.2593 - val_loss: 1.7455 - val_accuracy: 0.2114\n",
      "Epoch 48/100\n",
      "8/8 [==============================] - 1s 83ms/step - loss: 1.8154 - accuracy: 0.2331 - val_loss: 2.0249 - val_accuracy: 0.1682\n",
      "Epoch 49/100\n",
      "8/8 [==============================] - 1s 83ms/step - loss: 2.2152 - accuracy: 0.1798 - val_loss: 2.0644 - val_accuracy: 0.1682\n",
      "Epoch 50/100\n",
      "8/8 [==============================] - 1s 83ms/step - loss: 1.9354 - accuracy: 0.2121 - val_loss: 1.7687 - val_accuracy: 0.2091\n",
      "Epoch 51/100\n",
      "8/8 [==============================] - 1s 83ms/step - loss: 1.9095 - accuracy: 0.1907 - val_loss: 1.8248 - val_accuracy: 0.2409\n",
      "Epoch 52/100\n",
      "8/8 [==============================] - 1s 83ms/step - loss: 1.9014 - accuracy: 0.2116 - val_loss: 1.8576 - val_accuracy: 0.1773\n",
      "Epoch 53/100\n"
     ]
    },
    {
     "name": "stdout",
     "output_type": "stream",
     "text": [
      "8/8 [==============================] - 1s 82ms/step - loss: 1.8330 - accuracy: 0.2124 - val_loss: 1.7559 - val_accuracy: 0.2682\n",
      "Epoch 54/100\n",
      "8/8 [==============================] - 1s 84ms/step - loss: 1.8019 - accuracy: 0.2376 - val_loss: 1.7521 - val_accuracy: 0.1955\n",
      "Epoch 55/100\n",
      "8/8 [==============================] - 1s 85ms/step - loss: 1.7814 - accuracy: 0.2518 - val_loss: 1.7392 - val_accuracy: 0.2409\n",
      "Epoch 56/100\n",
      "8/8 [==============================] - 1s 84ms/step - loss: 1.7667 - accuracy: 0.2543 - val_loss: 1.7267 - val_accuracy: 0.2409\n",
      "Epoch 57/100\n",
      "8/8 [==============================] - 1s 86ms/step - loss: 1.7539 - accuracy: 0.2684 - val_loss: 1.7131 - val_accuracy: 0.2386\n",
      "Epoch 58/100\n",
      "8/8 [==============================] - 1s 82ms/step - loss: 1.7462 - accuracy: 0.2601 - val_loss: 1.7089 - val_accuracy: 0.2182\n",
      "Epoch 59/100\n",
      "8/8 [==============================] - 1s 82ms/step - loss: 1.7404 - accuracy: 0.2515 - val_loss: 1.7023 - val_accuracy: 0.2364\n",
      "Epoch 60/100\n",
      "8/8 [==============================] - 1s 83ms/step - loss: 1.7352 - accuracy: 0.2490 - val_loss: 1.7042 - val_accuracy: 0.1909\n",
      "Epoch 61/100\n",
      "8/8 [==============================] - 1s 82ms/step - loss: 1.7288 - accuracy: 0.2573 - val_loss: 1.6938 - val_accuracy: 0.2386\n",
      "Epoch 62/100\n",
      "8/8 [==============================] - 1s 83ms/step - loss: 1.7205 - accuracy: 0.2763 - val_loss: 1.6845 - val_accuracy: 0.2386\n",
      "Epoch 63/100\n",
      "8/8 [==============================] - 1s 83ms/step - loss: 1.7138 - accuracy: 0.2669 - val_loss: 1.6871 - val_accuracy: 0.2818\n",
      "Epoch 64/100\n",
      "8/8 [==============================] - 1s 84ms/step - loss: 1.7169 - accuracy: 0.2614 - val_loss: 1.6808 - val_accuracy: 0.2386\n",
      "Epoch 65/100\n",
      "8/8 [==============================] - 1s 84ms/step - loss: 1.7056 - accuracy: 0.2768 - val_loss: 1.6709 - val_accuracy: 0.2386\n",
      "Epoch 66/100\n",
      "8/8 [==============================] - 1s 83ms/step - loss: 1.7027 - accuracy: 0.2702 - val_loss: 1.6712 - val_accuracy: 0.2409\n",
      "Epoch 67/100\n",
      "8/8 [==============================] - 1s 82ms/step - loss: 1.7014 - accuracy: 0.2621 - val_loss: 1.6700 - val_accuracy: 0.2273\n",
      "Epoch 68/100\n",
      "8/8 [==============================] - 1s 85ms/step - loss: 1.7065 - accuracy: 0.2513 - val_loss: 1.6775 - val_accuracy: 0.2386\n",
      "Epoch 69/100\n",
      "8/8 [==============================] - 1s 84ms/step - loss: 1.7056 - accuracy: 0.2621 - val_loss: 1.6571 - val_accuracy: 0.2750\n",
      "Epoch 70/100\n",
      "8/8 [==============================] - 1s 85ms/step - loss: 1.8223 - accuracy: 0.2109 - val_loss: 1.8992 - val_accuracy: 0.1886\n",
      "Epoch 71/100\n",
      "8/8 [==============================] - 1s 82ms/step - loss: 2.0258 - accuracy: 0.1856 - val_loss: 2.0182 - val_accuracy: 0.1977\n",
      "Epoch 72/100\n",
      "8/8 [==============================] - 1s 83ms/step - loss: 1.8937 - accuracy: 0.1990 - val_loss: 1.7917 - val_accuracy: 0.1682\n",
      "Epoch 73/100\n",
      "8/8 [==============================] - 1s 83ms/step - loss: 1.7975 - accuracy: 0.2119 - val_loss: 1.7486 - val_accuracy: 0.2114\n",
      "Epoch 74/100\n",
      "8/8 [==============================] - 1s 84ms/step - loss: 1.7282 - accuracy: 0.2427 - val_loss: 1.6822 - val_accuracy: 0.3000\n",
      "Epoch 75/100\n",
      "8/8 [==============================] - 1s 83ms/step - loss: 1.6976 - accuracy: 0.2760 - val_loss: 1.6675 - val_accuracy: 0.2591\n",
      "Epoch 76/100\n",
      "8/8 [==============================] - 1s 84ms/step - loss: 1.6872 - accuracy: 0.2864 - val_loss: 1.6522 - val_accuracy: 0.2409\n",
      "Epoch 77/100\n",
      "8/8 [==============================] - 1s 83ms/step - loss: 1.6734 - accuracy: 0.2735 - val_loss: 1.6432 - val_accuracy: 0.2386\n",
      "Epoch 78/100\n",
      "8/8 [==============================] - 1s 83ms/step - loss: 1.6686 - accuracy: 0.2697 - val_loss: 1.6415 - val_accuracy: 0.2273\n",
      "Epoch 79/100\n",
      "8/8 [==============================] - 1s 83ms/step - loss: 1.6692 - accuracy: 0.2591 - val_loss: 1.6405 - val_accuracy: 0.2273\n",
      "Epoch 80/100\n",
      "8/8 [==============================] - 1s 85ms/step - loss: 1.6569 - accuracy: 0.2717 - val_loss: 1.6296 - val_accuracy: 0.2386\n",
      "Epoch 81/100\n",
      "8/8 [==============================] - 1s 85ms/step - loss: 1.6501 - accuracy: 0.2712 - val_loss: 1.6219 - val_accuracy: 0.2409\n",
      "Epoch 82/100\n",
      "8/8 [==============================] - 1s 84ms/step - loss: 1.6455 - accuracy: 0.2737 - val_loss: 1.6219 - val_accuracy: 0.2409\n",
      "Epoch 83/100\n",
      "8/8 [==============================] - 1s 85ms/step - loss: 1.6437 - accuracy: 0.2720 - val_loss: 1.6160 - val_accuracy: 0.2773\n",
      "Epoch 84/100\n",
      "8/8 [==============================] - 1s 82ms/step - loss: 1.6398 - accuracy: 0.2869 - val_loss: 1.6186 - val_accuracy: 0.2409\n",
      "Epoch 85/100\n",
      "8/8 [==============================] - 1s 83ms/step - loss: 1.6337 - accuracy: 0.2864 - val_loss: 1.6193 - val_accuracy: 0.2386\n",
      "Epoch 86/100\n",
      "8/8 [==============================] - 1s 82ms/step - loss: 1.6512 - accuracy: 0.2710 - val_loss: 1.6303 - val_accuracy: 0.3045\n",
      "Epoch 87/100\n",
      "8/8 [==============================] - 1s 83ms/step - loss: 1.6470 - accuracy: 0.2909 - val_loss: 1.6221 - val_accuracy: 0.2409\n",
      "Epoch 88/100\n",
      "8/8 [==============================] - 1s 84ms/step - loss: 1.6403 - accuracy: 0.2793 - val_loss: 1.6158 - val_accuracy: 0.2432\n",
      "Epoch 89/100\n",
      "8/8 [==============================] - 1s 84ms/step - loss: 1.6250 - accuracy: 0.2828 - val_loss: 1.6051 - val_accuracy: 0.2409\n",
      "Epoch 90/100\n",
      "8/8 [==============================] - 1s 85ms/step - loss: 1.6285 - accuracy: 0.2970 - val_loss: 1.6457 - val_accuracy: 0.2409\n",
      "Epoch 91/100\n",
      "8/8 [==============================] - 1s 83ms/step - loss: 1.6405 - accuracy: 0.2896 - val_loss: 1.6205 - val_accuracy: 0.2455\n",
      "Epoch 92/100\n",
      "8/8 [==============================] - 1s 84ms/step - loss: 1.6291 - accuracy: 0.2770 - val_loss: 1.6032 - val_accuracy: 0.2705\n",
      "Epoch 93/100\n",
      "8/8 [==============================] - 1s 85ms/step - loss: 1.6183 - accuracy: 0.2742 - val_loss: 1.5964 - val_accuracy: 0.2750\n",
      "Epoch 94/100\n",
      "8/8 [==============================] - 1s 88ms/step - loss: 1.6191 - accuracy: 0.2952 - val_loss: 1.5962 - val_accuracy: 0.2432\n",
      "Epoch 95/100\n",
      "8/8 [==============================] - 1s 83ms/step - loss: 1.6110 - accuracy: 0.2944 - val_loss: 1.5914 - val_accuracy: 0.2409\n",
      "Epoch 96/100\n",
      "8/8 [==============================] - 1s 83ms/step - loss: 1.6101 - accuracy: 0.2912 - val_loss: 1.5863 - val_accuracy: 0.2614\n",
      "Epoch 97/100\n",
      "8/8 [==============================] - 1s 85ms/step - loss: 1.6037 - accuracy: 0.2894 - val_loss: 1.5834 - val_accuracy: 0.2455\n",
      "Epoch 98/100\n",
      "8/8 [==============================] - 1s 83ms/step - loss: 1.5976 - accuracy: 0.2899 - val_loss: 1.5892 - val_accuracy: 0.2250\n",
      "Epoch 99/100\n",
      "8/8 [==============================] - 1s 82ms/step - loss: 1.6022 - accuracy: 0.2891 - val_loss: 1.5771 - val_accuracy: 0.2773\n",
      "Epoch 100/100\n",
      "8/8 [==============================] - 1s 85ms/step - loss: 1.6063 - accuracy: 0.3071 - val_loss: 1.5759 - val_accuracy: 0.2705\n",
      "35/35 [==============================] - 0s 5ms/step - loss: 1.5821 - accuracy: 0.3109\n"
     ]
    },
    {
     "data": {
      "image/png": "[encoded data removed]",
      "text/plain": [
       "<Figure size 504x432 with 2 Axes>"
      ]
     },
     "metadata": {
      "needs_background": "light"
     },
     "output_type": "display_data"
    },
    {
     "name": "stdout",
     "output_type": "stream",
     "text": [
      "Precision:0.236\n",
      "Recall:0.311\n",
      "F1_score:0.221\n",
      "              precision    recall  f1-score   support\n",
      "\n",
      "           0       0.39      1.00      0.56       109\n",
      "           1       0.00      0.00      0.00        94\n",
      "           2       0.00      0.00      0.00       108\n",
      "           3       1.00      0.39      0.56       102\n",
      "           4       1.00      0.97      0.98       100\n",
      "           5       0.00      0.00      0.00       104\n",
      "           6       0.00      0.00      0.00        84\n",
      "           7       0.00      0.00      0.00        94\n",
      "           8       0.00      0.00      0.00       103\n",
      "           9       0.00      0.00      0.00       106\n",
      "          10       0.16      1.00      0.28        96\n",
      "\n",
      "    accuracy                           0.31      1100\n",
      "   macro avg       0.23      0.31      0.22      1100\n",
      "weighted avg       0.24      0.31      0.22      1100\n",
      "\n",
      "\n",
      "K-fold cross validation Accuracy: ['0.0791', '0.9918', '0.9991', '0.0809', '0.3109']\n"
     ]
    }
   ],
   "source": [
    "# 주어진 데이터를 학습 데이터와 테스트 데이터로 분리\n",
    "skf = KFold(n_splits=5, random_state=42, shuffle=True)\n",
    "\n",
    "accuracy = []\n",
    "\n",
    "for train, validation in skf.split(x,y):\n",
    "    model = keras.Sequential()\n",
    "    model.add(Conv1D(16, 9, activation='relu', input_shape=(len(x[0]),1)))\n",
    "    model.add(Conv1D(16, 9, activation='relu'))\n",
    "    model.add(Conv1D(32, 9, activation='relu'))\n",
    "    model.add(Conv1D(32, 9, activation='relu'))\n",
    "    model.add(Conv1D(32, 9, activation='relu'))\n",
    "    model.add(Conv1D(32, 9, activation='relu'))\n",
    "    model.add(Conv1D(32, 9, activation='relu'))\n",
    "    model.add(Flatten())\n",
    "    model.add(Dense(10, activation='relu'))\n",
    "    model.add(Dense(10, activation='relu'))\n",
    "    model.add(Dense(10, activation='relu'))\n",
    "    model.add(Dense(11, activation=\"softmax\"))\n",
    "    model.compile(loss='sparse_categorical_crossentropy', optimizer='adam', metrics=['accuracy'])\n",
    "  #model.summary()\n",
    "\n",
    "  # 학습 데이터를 이용해서 학습\n",
    "    hist = model.fit(x[train], y[train], epochs=100, batch_size=512, verbose=1, validation_split=0.1)  \n",
    "\n",
    "  # 테스트 데이터를 이용해서 검증\n",
    "    k_accuracy = '%.4f' % (model.evaluate(x[validation], y[validation])[1])\n",
    "    accuracy.append(k_accuracy)\n",
    "  \n",
    "  #confusion matrix\n",
    "    y_ = model.predict(x[validation])\n",
    "    predicted = np.argmax(y_, axis = -1)\n",
    "\n",
    "    classes = ['class1', 'class2', 'class3', 'class4', 'class5', 'class6', 'class7','class8', 'class9', 'class10','class11' ]\n",
    "    conf_mat = confusion_matrix(y[validation], predicted)\n",
    "    fig, ax = plt.subplots(figsize=(7,6))\n",
    "    plt.setp(ax.get_xticklabels(), rotation=45, ha=\"right\", rotation_mode=\"anchor\")\n",
    "    plt.title('Confusion matrix')\n",
    "    plt.ylabel('Actual label')\n",
    "    plt.xlabel('Predicted label')\n",
    "    sns.heatmap(conf_mat, annot=True, fmt='d', xticklabels=classes, yticklabels=classes)\n",
    "    plt.show()\n",
    "\n",
    "  #정밀도, 재현도, f1-score\n",
    "    precision = precision_score(y[validation], predicted, average='weighted')\n",
    "    recall = recall_score(y[validation], predicted, average='weighted')\n",
    "    f1 = f1_score(y[validation], predicted, average='weighted')\n",
    "\n",
    "    print('Precision:{:.3}'.format(precision))\n",
    "    print('Recall:{:.3}'.format(recall))\n",
    "    print('F1_score:{:.3}'.format(f1))\n",
    "\n",
    "  #분류 보고서\n",
    "    print(classification_report(y[validation], predicted))\n",
    "\n",
    "# 전체 검증 결과 출력\n",
    "print('\\nK-fold cross validation Accuracy: {}'.format(accuracy))"
   ]
  },
  {
   "cell_type": "code",
   "execution_count": 23,
   "metadata": {
    "colab": {
     "base_uri": "https://localhost:8080/"
    },
    "id": "PeHHHEUhiJH5",
    "outputId": "6a2da373-e7a9-4eee-9e43-93c1f902b923"
   },
   "outputs": [
    {
     "data": {
      "text/plain": [
       "['0.0791', '0.9918', '0.9991', '0.0809', '0.3109']"
      ]
     },
     "execution_count": 23,
     "metadata": {},
     "output_type": "execute_result"
    }
   ],
   "source": [
    "accuracy"
   ]
  },
  {
   "cell_type": "code",
   "execution_count": 24,
   "metadata": {
    "colab": {
     "base_uri": "https://localhost:8080/"
    },
    "id": "dx86ejQ616uZ",
    "outputId": "802bfc0c-f28c-42ce-ed88-6b911fc3d1ab"
   },
   "outputs": [
    {
     "data": {
      "text/plain": [
       "[0.0791, 0.9918, 0.9991, 0.0809, 0.3109]"
      ]
     },
     "execution_count": 24,
     "metadata": {},
     "output_type": "execute_result"
    }
   ],
   "source": [
    "acc = list(map(float, accuracy))\n",
    "acc"
   ]
  },
  {
   "cell_type": "code",
   "execution_count": 25,
   "metadata": {
    "id": "-f4pHhxY2APw"
   },
   "outputs": [
    {
     "data": {
      "text/plain": [
       "0.49236"
      ]
     },
     "execution_count": 25,
     "metadata": {},
     "output_type": "execute_result"
    }
   ],
   "source": [
    "np.mean(acc)"
   ]
  },
  {
   "cell_type": "code",
   "execution_count": null,
   "metadata": {},
   "outputs": [],
   "source": []
  }
 ],
 "metadata": {
  "accelerator": "GPU",
  "colab": {
   "collapsed_sections": [],
   "name": "★210914_1D-CNN_4000point_8736kDa_StratifiedKfold.ipynb",
   "provenance": []
  },
  "kernelspec": {
   "display_name": "Python 3 (ipykernel)",
   "language": "python",
   "name": "python3"
  },
  "language_info": {
   "codemirror_mode": {
    "name": "ipython",
    "version": 3
   },
   "file_extension": ".py",
   "mimetype": "text/x-python",
   "name": "python",
   "nbconvert_exporter": "python",
   "pygments_lexer": "ipython3",
   "version": "3.9.7"
  }
 },
 "nbformat": 4,
 "nbformat_minor": 1
}
