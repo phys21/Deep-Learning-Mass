{
 "cells": [
  {
   "cell_type": "markdown",
   "metadata": {
    "id": "GavgmjDytAsf"
   },
   "source": [
    "# 데이터 로딩"
   ]
  },
  {
   "cell_type": "code",
   "execution_count": 1,
   "metadata": {
    "colab": {
     "base_uri": "https://localhost:8080/"
    },
    "id": "pUWSYQ9FNt_C",
    "outputId": "46237811-4e40-413a-9b28-e21cff94e8b8"
   },
   "outputs": [],
   "source": [
    "#from google.colab import drive\n",
    "#drive.mount('/content/drive')"
   ]
  },
  {
   "cell_type": "code",
   "execution_count": 2,
   "metadata": {},
   "outputs": [],
   "source": [
    "import warnings\n",
    "warnings.filterwarnings(action='ignore')"
   ]
  },
  {
   "cell_type": "code",
   "execution_count": 3,
   "metadata": {},
   "outputs": [],
   "source": [
    "import os\n",
    "os.environ[\"CUDA_DEVICE_ORDER\"]=\"PCI_BUS_ID\"\n",
    "os.environ[\"CUDA_VISIBLE_DEVICES\"]=\"0\""
   ]
  },
  {
   "cell_type": "code",
   "execution_count": 4,
   "metadata": {},
   "outputs": [
    {
     "name": "stderr",
     "output_type": "stream",
     "text": [
      "2021-09-23 20:24:45.724795: I tensorflow/core/platform/cpu_feature_guard.cc:142] This TensorFlow binary is optimized with oneAPI Deep Neural Network Library (oneDNN) to use the following CPU instructions in performance-critical operations:  AVX2 AVX512F FMA\n",
      "To enable them in other operations, rebuild TensorFlow with the appropriate compiler flags.\n"
     ]
    },
    {
     "data": {
      "text/plain": [
       "[name: \"/device:CPU:0\"\n",
       " device_type: \"CPU\"\n",
       " memory_limit: 268435456\n",
       " locality {\n",
       " }\n",
       " incarnation: 15407396126373621095,\n",
       " name: \"/device:GPU:0\"\n",
       " device_type: \"GPU\"\n",
       " memory_limit: 23391567872\n",
       " locality {\n",
       "   bus_id: 1\n",
       "   links {\n",
       "   }\n",
       " }\n",
       " incarnation: 4516888413558759785\n",
       " physical_device_desc: \"device: 0, name: GeForce RTX 3090, pci bus id: 0000:67:00.0, compute capability: 8.6\"]"
      ]
     },
     "execution_count": 4,
     "metadata": {},
     "output_type": "execute_result"
    },
    {
     "name": "stderr",
     "output_type": "stream",
     "text": [
      "2021-09-23 20:24:46.218038: I tensorflow/core/common_runtime/gpu/gpu_device.cc:1510] Created device /device:GPU:0 with 22307 MB memory:  -> device: 0, name: GeForce RTX 3090, pci bus id: 0000:67:00.0, compute capability: 8.6\n"
     ]
    }
   ],
   "source": [
    "from tensorflow.python.client import device_lib\n",
    "device_lib.list_local_devices()"
   ]
  },
  {
   "cell_type": "code",
   "execution_count": 5,
   "metadata": {
    "id": "7tpIBpEXNpjm"
   },
   "outputs": [],
   "source": [
    "import numpy as np\n",
    "import pandas as pd\n",
    "import matplotlib.pyplot as plt"
   ]
  },
  {
   "cell_type": "code",
   "execution_count": 6,
   "metadata": {
    "colab": {
     "base_uri": "https://localhost:8080/"
    },
    "id": "EYw7FBvHs5E9",
    "outputId": "cc48b6dd-c461-48e6-f44f-81963c68fa0a",
    "scrolled": false
   },
   "outputs": [
    {
     "name": "stdout",
     "output_type": "stream",
     "text": [
      "[[26535109.67 26567167.6  26580894.5  ... 26570477.78 26565810.\n",
      "         0.  ]\n",
      " [26574844.17 26549031.86 26593563.88 ... 26586489.83 26553027.72\n",
      "         0.  ]\n",
      " [26570524.56 26569427.83 26556841.96 ... 26553269.41 26550517.95\n",
      "         0.  ]\n",
      " ...\n",
      " [26572887.28 26544204.73 26563963.86 ... 26511948.16 26566917.49\n",
      "     50000.  ]\n",
      " [26575682.16 26594397.89 26562241.02 ... 26553808.2  26533587.67\n",
      "     50000.  ]\n",
      " [26543655.13 26590903.11 26543954.87 ... 26528590.04 26528403.71\n",
      "     50000.  ]]\n"
     ]
    }
   ],
   "source": [
    "data = pd.read_csv('210923_total_freq_with_noise_2000point_2184kDa.csv')\n",
    "df1 = data.values[:] # 문자열을 부동소수점형으로 변환한다\n",
    "print(df1)"
   ]
  },
  {
   "cell_type": "markdown",
   "metadata": {
    "id": "tZIY7CbcwW6F"
   },
   "source": [
    "# 데이터 살펴보기"
   ]
  },
  {
   "cell_type": "markdown",
   "metadata": {
    "id": "nfk1doFWnhQn"
   },
   "source": [
    "152개의 속성 값이 있고, -1 또는 1로 레이블링 되어 있다.\n",
    "\n",
    "152개 속성 값은 어떤 센서의 값을 시간을 두고 측정한 것이다."
   ]
  },
  {
   "cell_type": "code",
   "execution_count": 7,
   "metadata": {
    "colab": {
     "base_uri": "https://localhost:8080/"
    },
    "id": "smA15EaF1hmV",
    "outputId": "d90ea451-0543-43bf-d740-795fd1207c63"
   },
   "outputs": [
    {
     "name": "stdout",
     "output_type": "stream",
     "text": [
      "0           0\n",
      "1           0\n",
      "2           0\n",
      "3           0\n",
      "4           0\n",
      "        ...  \n",
      "5495    50000\n",
      "5496    50000\n",
      "5497    50000\n",
      "5498    50000\n",
      "5499    50000\n",
      "Name: target, Length: 5500, dtype: int64\n"
     ]
    }
   ],
   "source": [
    "df2_1 = data[\"target\"]\n",
    "df2 = df2_1[:]\n",
    "print(df2)"
   ]
  },
  {
   "cell_type": "code",
   "execution_count": 8,
   "metadata": {
    "colab": {
     "base_uri": "https://localhost:8080/"
    },
    "id": "ClKB2D7ZpFnL",
    "outputId": "125a2cbe-62b9-44b6-ae4a-98b068fedc2c"
   },
   "outputs": [
    {
     "name": "stdout",
     "output_type": "stream",
     "text": [
      "(array([    0,  5000, 10000, 15000, 20000, 25000, 30000, 35000, 40000,\n",
      "       45000, 50000]), array([500, 500, 500, 500, 500, 500, 500, 500, 500, 500, 500]))\n"
     ]
    }
   ],
   "source": [
    "target_count = np.unique(df2, return_counts=True)\n",
    "print(target_count)"
   ]
  },
  {
   "cell_type": "code",
   "execution_count": 9,
   "metadata": {
    "colab": {
     "base_uri": "https://localhost:8080/"
    },
    "id": "Bu3NHl9_Npjq",
    "outputId": "48d579ad-691c-4d74-d846-ffeea98d9a27"
   },
   "outputs": [
    {
     "name": "stdout",
     "output_type": "stream",
     "text": [
      "(array([    0,  5000, 10000, 15000, 20000, 25000, 30000, 35000, 40000,\n",
      "       45000, 50000]), array([500, 500, 500, 500, 500, 500, 500, 500, 500, 500, 500]))\n"
     ]
    }
   ],
   "source": [
    "target_count = np.unique(df2, return_counts=True)\n",
    "print(target_count)"
   ]
  },
  {
   "cell_type": "markdown",
   "metadata": {
    "id": "ZB0UsHjLsS1I"
   },
   "source": [
    "target값 -1, 1을 category 인덱스 0, 1로 변경"
   ]
  },
  {
   "cell_type": "code",
   "execution_count": 10,
   "metadata": {
    "colab": {
     "base_uri": "https://localhost:8080/"
    },
    "id": "C0nNKyJ4oaxo",
    "outputId": "3b9a1b1c-025e-48ce-8a28-680f9bd5c46d"
   },
   "outputs": [
    {
     "name": "stdout",
     "output_type": "stream",
     "text": [
      "(array([ 0,  1,  2,  3,  4,  5,  6,  7,  8,  9, 10]), array([500, 500, 500, 500, 500, 500, 500, 500, 500, 500, 500]))\n"
     ]
    }
   ],
   "source": [
    "df2 = df2.copy()\n",
    "df2[df2 < 5000] = 0\n",
    "df2[df2 == 5000] = 1\n",
    "df2[df2 == 10000] = 2\n",
    "df2[df2 == 15000] = 3\n",
    "df2[df2 == 20000] = 4\n",
    "df2[df2 == 25000] = 5\n",
    "df2[df2 == 30000] = 6\n",
    "df2[df2 == 35000] = 7\n",
    "df2[df2 == 40000] = 8\n",
    "df2[df2 == 45000] = 9\n",
    "df2[df2 == 50000] = 10\n",
    "\n",
    "target_count = np.unique(df2, return_counts=True)\n",
    "print(target_count)"
   ]
  },
  {
   "cell_type": "markdown",
   "metadata": {
    "id": "PAYLXje8Eq9l"
   },
   "source": [
    "# 문제 정의\n",
    "\n",
    "152개의 순차적인 센서 값을 가지고 분류한다.\n"
   ]
  },
  {
   "cell_type": "markdown",
   "metadata": {
    "id": "piqvWOOgpjHt"
   },
   "source": [
    "# 데이터 준비\n"
   ]
  },
  {
   "cell_type": "markdown",
   "metadata": {
    "id": "GD2kOh0_pmvD"
   },
   "source": [
    "## x, y 쪼개기"
   ]
  },
  {
   "cell_type": "code",
   "execution_count": 11,
   "metadata": {
    "id": "5mB3dKMYpJej"
   },
   "outputs": [],
   "source": [
    "x, y = df1[:,:-1], df2[:]"
   ]
  },
  {
   "cell_type": "code",
   "execution_count": 12,
   "metadata": {
    "colab": {
     "base_uri": "https://localhost:8080/"
    },
    "id": "UWtHOkIvpJlZ",
    "outputId": "98f0ae6c-f761-44e5-9435-bd9756ecdeb7"
   },
   "outputs": [
    {
     "name": "stdout",
     "output_type": "stream",
     "text": [
      "(5500, 4000)\n",
      "(5500,)\n"
     ]
    }
   ],
   "source": [
    "print(x.shape)\n",
    "print(y.shape)"
   ]
  },
  {
   "cell_type": "code",
   "execution_count": 13,
   "metadata": {
    "colab": {
     "base_uri": "https://localhost:8080/"
    },
    "id": "4WVNNZy3Npjt",
    "outputId": "7bb9910c-34c7-4da9-be72-1c5a150de0f2"
   },
   "outputs": [
    {
     "data": {
      "text/plain": [
       "0        0\n",
       "1        0\n",
       "2        0\n",
       "3        0\n",
       "4        0\n",
       "        ..\n",
       "5495    10\n",
       "5496    10\n",
       "5497    10\n",
       "5498    10\n",
       "5499    10\n",
       "Name: target, Length: 5500, dtype: int64"
      ]
     },
     "execution_count": 13,
     "metadata": {},
     "output_type": "execute_result"
    }
   ],
   "source": [
    "y"
   ]
  },
  {
   "cell_type": "markdown",
   "metadata": {
    "id": "DYJfroxKpoOc"
   },
   "source": [
    "## normalization"
   ]
  },
  {
   "cell_type": "code",
   "execution_count": 14,
   "metadata": {
    "colab": {
     "base_uri": "https://localhost:8080/"
    },
    "id": "0edILhqfpJrT",
    "outputId": "e1b6e56a-056f-4f40-d925-5a22fa02ca79"
   },
   "outputs": [
    {
     "name": "stdout",
     "output_type": "stream",
     "text": [
      "26464857.18 26650600.46\n",
      "0.0 1.0\n"
     ]
    }
   ],
   "source": [
    "min = np.min(x)\n",
    "max = np.max(x)\n",
    "print(min, max)\n",
    "\n",
    "x = (x-min) / (max-min)\n",
    "\n",
    "min = np.min(x)\n",
    "max = np.max(x)\n",
    "print(min, max)\n"
   ]
  },
  {
   "cell_type": "code",
   "execution_count": 15,
   "metadata": {
    "id": "CA_Fs7IhrKhv"
   },
   "outputs": [],
   "source": [
    "x = np.expand_dims(x, -1)"
   ]
  },
  {
   "cell_type": "markdown",
   "metadata": {
    "id": "YUNV4PRWp-jO"
   },
   "source": [
    "## 섞고"
   ]
  },
  {
   "cell_type": "code",
   "execution_count": 16,
   "metadata": {
    "id": "rK0FR9OOpJxL"
   },
   "outputs": [],
   "source": [
    "shuffled_index = np.random.permutation(len(x))\n",
    "x = x[shuffled_index]\n",
    "y = y.iloc[shuffled_index]\n",
    "x, y = np.array(x), np.array(y)"
   ]
  },
  {
   "cell_type": "markdown",
   "metadata": {
    "id": "RbjrYGVMqAF3"
   },
   "source": [
    "## train, test 쪼개기"
   ]
  },
  {
   "cell_type": "code",
   "execution_count": 17,
   "metadata": {
    "id": "TfPpY9jPpJz4"
   },
   "outputs": [],
   "source": [
    "#split_index = int( len(x) * 0.8 )\n",
    "#train_x, test_x = np.array(x[:split_index]), np.array(x[split_index:])\n",
    "#train_y, test_y = np.array(y[:split_index]), np.array(y[split_index:])"
   ]
  },
  {
   "cell_type": "code",
   "execution_count": 18,
   "metadata": {
    "id": "BfNSU7FdpJub"
   },
   "outputs": [],
   "source": [
    "#train_x[1].shape"
   ]
  },
  {
   "cell_type": "code",
   "execution_count": 19,
   "metadata": {
    "id": "gsqd1yWWNpju"
   },
   "outputs": [],
   "source": [
    "#train_x[1]"
   ]
  },
  {
   "cell_type": "markdown",
   "metadata": {
    "id": "3Oynfz6SqZzx"
   },
   "source": [
    "# 모델 정의"
   ]
  },
  {
   "cell_type": "code",
   "execution_count": 20,
   "metadata": {
    "id": "p0JtVB5ApJoc"
   },
   "outputs": [],
   "source": [
    "import tensorflow as tf\n",
    "from sklearn.model_selection import KFold \n",
    "from tensorflow import keras\n",
    "from tensorflow.keras import optimizers\n",
    "from tensorflow.keras.layers import Dense, Conv1D, Flatten\n",
    "from sklearn.model_selection import cross_val_score \n",
    "from sklearn.model_selection import StratifiedKFold"
   ]
  },
  {
   "cell_type": "code",
   "execution_count": 21,
   "metadata": {
    "colab": {
     "base_uri": "https://localhost:8080/",
     "height": 1000
    },
    "id": "8FTlEW4umicO",
    "outputId": "288b35af-b541-464b-9b2c-2f1ca72bc264"
   },
   "outputs": [],
   "source": [
    "from tensorflow.keras.models import Sequential\n",
    "from tensorflow.keras.layers import Dense\n",
    "#from tensorflow.keras.utils import np_utils\n",
    "import pandas as pd\n",
    "import matplotlib.pyplot as plt\n",
    "from sklearn.metrics import confusion_matrix\n",
    "import seaborn as sns\n",
    "from sklearn.metrics import precision_score, recall_score, f1_score, roc_curve\n",
    "from sklearn.metrics import classification_report\n",
    "from sklearn.model_selection import StratifiedKFold"
   ]
  },
  {
   "cell_type": "code",
   "execution_count": 22,
   "metadata": {
    "colab": {
     "base_uri": "https://localhost:8080/",
     "height": 1000
    },
    "id": "8FTlEW4umicO",
    "outputId": "288b35af-b541-464b-9b2c-2f1ca72bc264",
    "scrolled": false
   },
   "outputs": [
    {
     "name": "stderr",
     "output_type": "stream",
     "text": [
      "2021-09-23 20:24:50.508593: I tensorflow/core/common_runtime/gpu/gpu_device.cc:1510] Created device /job:localhost/replica:0/task:0/device:GPU:0 with 22307 MB memory:  -> device: 0, name: GeForce RTX 3090, pci bus id: 0000:67:00.0, compute capability: 8.6\n",
      "2021-09-23 20:24:51.071802: I tensorflow/compiler/mlir/mlir_graph_optimization_pass.cc:185] None of the MLIR Optimization Passes are enabled (registered 2)\n"
     ]
    },
    {
     "name": "stdout",
     "output_type": "stream",
     "text": [
      "Epoch 1/100\n"
     ]
    },
    {
     "name": "stderr",
     "output_type": "stream",
     "text": [
      "2021-09-23 20:24:52.190319: I tensorflow/stream_executor/cuda/cuda_dnn.cc:369] Loaded cuDNN version 8201\n",
      "2021-09-23 20:24:53.886366: I tensorflow/stream_executor/cuda/cuda_blas.cc:1760] TensorFloat-32 will be used for the matrix multiplication. This will only be logged once.\n"
     ]
    },
    {
     "name": "stdout",
     "output_type": "stream",
     "text": [
      "31/31 [==============================] - 5s 38ms/step - loss: 2.3984 - accuracy: 0.0874 - val_loss: 2.3968 - val_accuracy: 0.0977\n",
      "Epoch 2/100\n",
      "31/31 [==============================] - 1s 26ms/step - loss: 2.3337 - accuracy: 0.1146 - val_loss: 2.2360 - val_accuracy: 0.1818\n",
      "Epoch 3/100\n",
      "31/31 [==============================] - 1s 26ms/step - loss: 2.1595 - accuracy: 0.1818 - val_loss: 2.1114 - val_accuracy: 0.1818\n",
      "Epoch 4/100\n",
      "31/31 [==============================] - 1s 26ms/step - loss: 2.0431 - accuracy: 0.1889 - val_loss: 2.0325 - val_accuracy: 0.1636\n",
      "Epoch 5/100\n",
      "31/31 [==============================] - 1s 25ms/step - loss: 1.9724 - accuracy: 0.1785 - val_loss: 1.9620 - val_accuracy: 0.1682\n",
      "Epoch 6/100\n",
      "31/31 [==============================] - 1s 25ms/step - loss: 1.9353 - accuracy: 0.1826 - val_loss: 1.9355 - val_accuracy: 0.1682\n",
      "Epoch 7/100\n",
      "31/31 [==============================] - 1s 25ms/step - loss: 1.9775 - accuracy: 0.1919 - val_loss: 2.0208 - val_accuracy: 0.1682\n",
      "Epoch 8/100\n",
      "31/31 [==============================] - 1s 26ms/step - loss: 1.9046 - accuracy: 0.1957 - val_loss: 1.8960 - val_accuracy: 0.1682\n",
      "Epoch 9/100\n",
      "31/31 [==============================] - 1s 26ms/step - loss: 1.8544 - accuracy: 0.1909 - val_loss: 1.8614 - val_accuracy: 0.2318\n",
      "Epoch 10/100\n",
      "31/31 [==============================] - 1s 26ms/step - loss: 1.8781 - accuracy: 0.1992 - val_loss: 1.9759 - val_accuracy: 0.1682\n",
      "Epoch 11/100\n",
      "31/31 [==============================] - 1s 26ms/step - loss: 1.8280 - accuracy: 0.2253 - val_loss: 1.7755 - val_accuracy: 0.2500\n",
      "Epoch 12/100\n",
      "31/31 [==============================] - 1s 26ms/step - loss: 1.7282 - accuracy: 0.2674 - val_loss: 1.7148 - val_accuracy: 0.2000\n",
      "Epoch 13/100\n",
      "31/31 [==============================] - 1s 26ms/step - loss: 1.6677 - accuracy: 0.2662 - val_loss: 1.6218 - val_accuracy: 0.2841\n",
      "Epoch 14/100\n",
      "31/31 [==============================] - 1s 26ms/step - loss: 1.6457 - accuracy: 0.2702 - val_loss: 1.6844 - val_accuracy: 0.2432\n",
      "Epoch 15/100\n",
      "31/31 [==============================] - 1s 26ms/step - loss: 1.6177 - accuracy: 0.2896 - val_loss: 1.5689 - val_accuracy: 0.3591\n",
      "Epoch 16/100\n",
      "31/31 [==============================] - 1s 25ms/step - loss: 1.5674 - accuracy: 0.3258 - val_loss: 1.5359 - val_accuracy: 0.3000\n",
      "Epoch 17/100\n",
      "31/31 [==============================] - 1s 26ms/step - loss: 1.5499 - accuracy: 0.3250 - val_loss: 1.5242 - val_accuracy: 0.3636\n",
      "Epoch 18/100\n",
      "31/31 [==============================] - 1s 26ms/step - loss: 1.5259 - accuracy: 0.3525 - val_loss: 1.6712 - val_accuracy: 0.3091\n",
      "Epoch 19/100\n",
      "31/31 [==============================] - 1s 26ms/step - loss: 1.5821 - accuracy: 0.3285 - val_loss: 1.4735 - val_accuracy: 0.4250\n",
      "Epoch 20/100\n",
      "31/31 [==============================] - 1s 26ms/step - loss: 1.4869 - accuracy: 0.3871 - val_loss: 1.4605 - val_accuracy: 0.4045\n",
      "Epoch 21/100\n",
      "31/31 [==============================] - 1s 26ms/step - loss: 1.4954 - accuracy: 0.3854 - val_loss: 1.4481 - val_accuracy: 0.3591\n",
      "Epoch 22/100\n",
      "31/31 [==============================] - 1s 26ms/step - loss: 1.4239 - accuracy: 0.4419 - val_loss: 1.3958 - val_accuracy: 0.4273\n",
      "Epoch 23/100\n",
      "31/31 [==============================] - 1s 26ms/step - loss: 1.3674 - accuracy: 0.4672 - val_loss: 1.3075 - val_accuracy: 0.5091\n",
      "Epoch 24/100\n",
      "31/31 [==============================] - 1s 26ms/step - loss: 1.3842 - accuracy: 0.4328 - val_loss: 1.3244 - val_accuracy: 0.5182\n",
      "Epoch 25/100\n",
      "31/31 [==============================] - 1s 26ms/step - loss: 1.3521 - accuracy: 0.4391 - val_loss: 1.4303 - val_accuracy: 0.4068\n",
      "Epoch 26/100\n",
      "31/31 [==============================] - 1s 26ms/step - loss: 1.3089 - accuracy: 0.4876 - val_loss: 1.2607 - val_accuracy: 0.5205\n",
      "Epoch 27/100\n",
      "31/31 [==============================] - 1s 26ms/step - loss: 1.2688 - accuracy: 0.4939 - val_loss: 1.2442 - val_accuracy: 0.4545\n",
      "Epoch 28/100\n",
      "31/31 [==============================] - 1s 25ms/step - loss: 1.2547 - accuracy: 0.4909 - val_loss: 1.2151 - val_accuracy: 0.5159\n",
      "Epoch 29/100\n",
      "31/31 [==============================] - 1s 24ms/step - loss: 1.1815 - accuracy: 0.4907 - val_loss: 1.1893 - val_accuracy: 0.4273\n",
      "Epoch 30/100\n",
      "31/31 [==============================] - 1s 26ms/step - loss: 1.3139 - accuracy: 0.4881 - val_loss: 2.0021 - val_accuracy: 0.1227\n",
      "Epoch 31/100\n",
      "31/31 [==============================] - 1s 26ms/step - loss: 1.6277 - accuracy: 0.3129 - val_loss: 1.2916 - val_accuracy: 0.3818\n",
      "Epoch 32/100\n",
      "31/31 [==============================] - 1s 26ms/step - loss: 1.2745 - accuracy: 0.4722 - val_loss: 1.2433 - val_accuracy: 0.5409\n",
      "Epoch 33/100\n",
      "31/31 [==============================] - 1s 26ms/step - loss: 1.2362 - accuracy: 0.5253 - val_loss: 1.2390 - val_accuracy: 0.4591\n",
      "Epoch 34/100\n",
      "31/31 [==============================] - 1s 26ms/step - loss: 1.2301 - accuracy: 0.5152 - val_loss: 1.2214 - val_accuracy: 0.5750\n",
      "Epoch 35/100\n",
      "31/31 [==============================] - 1s 26ms/step - loss: 1.2076 - accuracy: 0.5407 - val_loss: 1.2005 - val_accuracy: 0.5159\n",
      "Epoch 36/100\n",
      "31/31 [==============================] - 1s 26ms/step - loss: 1.1951 - accuracy: 0.5323 - val_loss: 1.1722 - val_accuracy: 0.6136\n",
      "Epoch 37/100\n",
      "31/31 [==============================] - 1s 26ms/step - loss: 1.1875 - accuracy: 0.5480 - val_loss: 1.1619 - val_accuracy: 0.5364\n",
      "Epoch 38/100\n",
      "31/31 [==============================] - 1s 26ms/step - loss: 1.1837 - accuracy: 0.5348 - val_loss: 1.1625 - val_accuracy: 0.5909\n",
      "Epoch 39/100\n",
      "31/31 [==============================] - 1s 26ms/step - loss: 1.1528 - accuracy: 0.5548 - val_loss: 1.1254 - val_accuracy: 0.5432\n",
      "Epoch 40/100\n",
      "31/31 [==============================] - 1s 26ms/step - loss: 1.1321 - accuracy: 0.5515 - val_loss: 1.1116 - val_accuracy: 0.5568\n",
      "Epoch 41/100\n",
      "31/31 [==============================] - 1s 26ms/step - loss: 1.1268 - accuracy: 0.5545 - val_loss: 1.1180 - val_accuracy: 0.6091\n",
      "Epoch 42/100\n",
      "31/31 [==============================] - 1s 26ms/step - loss: 1.1141 - accuracy: 0.5725 - val_loss: 1.1137 - val_accuracy: 0.6000\n",
      "Epoch 43/100\n",
      "31/31 [==============================] - 1s 26ms/step - loss: 1.0691 - accuracy: 0.5689 - val_loss: 0.9873 - val_accuracy: 0.6136\n",
      "Epoch 44/100\n",
      "31/31 [==============================] - 1s 26ms/step - loss: 0.9935 - accuracy: 0.5785 - val_loss: 0.9765 - val_accuracy: 0.5841\n",
      "Epoch 45/100\n",
      "31/31 [==============================] - 1s 26ms/step - loss: 1.1379 - accuracy: 0.5333 - val_loss: 1.2668 - val_accuracy: 0.5136\n",
      "Epoch 46/100\n",
      "31/31 [==============================] - 1s 26ms/step - loss: 1.4463 - accuracy: 0.3492 - val_loss: 1.1453 - val_accuracy: 0.4545\n",
      "Epoch 47/100\n",
      "31/31 [==============================] - 1s 26ms/step - loss: 1.1483 - accuracy: 0.5313 - val_loss: 1.1558 - val_accuracy: 0.5818\n",
      "Epoch 48/100\n",
      "31/31 [==============================] - 1s 26ms/step - loss: 1.1336 - accuracy: 0.5356 - val_loss: 1.0941 - val_accuracy: 0.5909\n",
      "Epoch 49/100\n",
      "31/31 [==============================] - 1s 26ms/step - loss: 1.0841 - accuracy: 0.5798 - val_loss: 1.0659 - val_accuracy: 0.5705\n",
      "Epoch 50/100\n",
      "31/31 [==============================] - 1s 26ms/step - loss: 1.0847 - accuracy: 0.5735 - val_loss: 1.0563 - val_accuracy: 0.5955\n",
      "Epoch 51/100\n",
      "31/31 [==============================] - 1s 26ms/step - loss: 1.0731 - accuracy: 0.5798 - val_loss: 1.0504 - val_accuracy: 0.6227\n",
      "Epoch 52/100\n",
      "31/31 [==============================] - 1s 26ms/step - loss: 1.0551 - accuracy: 0.5919 - val_loss: 1.0529 - val_accuracy: 0.6250\n",
      "Epoch 53/100\n",
      "31/31 [==============================] - 1s 26ms/step - loss: 1.0656 - accuracy: 0.5833 - val_loss: 1.0475 - val_accuracy: 0.5818\n",
      "Epoch 54/100\n",
      "31/31 [==============================] - 1s 27ms/step - loss: 1.0508 - accuracy: 0.5848 - val_loss: 1.0296 - val_accuracy: 0.5386\n",
      "Epoch 55/100\n",
      "31/31 [==============================] - 1s 26ms/step - loss: 1.0530 - accuracy: 0.5717 - val_loss: 1.0251 - val_accuracy: 0.5955\n",
      "Epoch 56/100\n",
      "31/31 [==============================] - 1s 26ms/step - loss: 1.0306 - accuracy: 0.5899 - val_loss: 1.0229 - val_accuracy: 0.5545\n",
      "Epoch 57/100\n",
      "31/31 [==============================] - 1s 26ms/step - loss: 1.0306 - accuracy: 0.5907 - val_loss: 1.0259 - val_accuracy: 0.5273\n",
      "Epoch 58/100\n",
      "31/31 [==============================] - 1s 26ms/step - loss: 1.0249 - accuracy: 0.5985 - val_loss: 1.0057 - val_accuracy: 0.5409\n",
      "Epoch 59/100\n",
      "31/31 [==============================] - 1s 26ms/step - loss: 1.0184 - accuracy: 0.5899 - val_loss: 1.0089 - val_accuracy: 0.6341\n",
      "Epoch 60/100\n",
      "31/31 [==============================] - 1s 26ms/step - loss: 1.0443 - accuracy: 0.5485 - val_loss: 1.0147 - val_accuracy: 0.5773\n",
      "Epoch 61/100\n",
      "31/31 [==============================] - 1s 26ms/step - loss: 1.0168 - accuracy: 0.5838 - val_loss: 1.0080 - val_accuracy: 0.5523\n",
      "Epoch 62/100\n",
      "31/31 [==============================] - 1s 26ms/step - loss: 1.0059 - accuracy: 0.5889 - val_loss: 0.9971 - val_accuracy: 0.5636\n",
      "Epoch 63/100\n",
      "31/31 [==============================] - 1s 26ms/step - loss: 1.0017 - accuracy: 0.5869 - val_loss: 0.9729 - val_accuracy: 0.6205\n",
      "Epoch 64/100\n",
      "31/31 [==============================] - 1s 25ms/step - loss: 1.0140 - accuracy: 0.5765 - val_loss: 0.9792 - val_accuracy: 0.5864\n",
      "Epoch 65/100\n",
      "31/31 [==============================] - 1s 26ms/step - loss: 1.0045 - accuracy: 0.5664 - val_loss: 0.9701 - val_accuracy: 0.6068\n",
      "Epoch 66/100\n",
      "31/31 [==============================] - 1s 26ms/step - loss: 0.9875 - accuracy: 0.5970 - val_loss: 0.9714 - val_accuracy: 0.5682\n",
      "Epoch 67/100\n",
      "31/31 [==============================] - 1s 26ms/step - loss: 0.9443 - accuracy: 0.6015 - val_loss: 0.8620 - val_accuracy: 0.6023\n",
      "Epoch 68/100\n",
      "31/31 [==============================] - 1s 26ms/step - loss: 0.8529 - accuracy: 0.6172 - val_loss: 0.8340 - val_accuracy: 0.6295\n",
      "Epoch 69/100\n",
      "31/31 [==============================] - 1s 26ms/step - loss: 0.8852 - accuracy: 0.6013 - val_loss: 0.8262 - val_accuracy: 0.6273\n",
      "Epoch 70/100\n",
      "31/31 [==============================] - 1s 26ms/step - loss: 0.8575 - accuracy: 0.6146 - val_loss: 0.8550 - val_accuracy: 0.6023\n",
      "Epoch 71/100\n",
      "31/31 [==============================] - 1s 26ms/step - loss: 0.8488 - accuracy: 0.6207 - val_loss: 0.8814 - val_accuracy: 0.5682\n",
      "Epoch 72/100\n",
      "31/31 [==============================] - 1s 26ms/step - loss: 0.8428 - accuracy: 0.6146 - val_loss: 0.8294 - val_accuracy: 0.6159\n",
      "Epoch 73/100\n",
      "31/31 [==============================] - 1s 26ms/step - loss: 0.8212 - accuracy: 0.6217 - val_loss: 0.8513 - val_accuracy: 0.5955\n",
      "Epoch 74/100\n",
      "31/31 [==============================] - 1s 26ms/step - loss: 0.8271 - accuracy: 0.6212 - val_loss: 0.8482 - val_accuracy: 0.5864\n",
      "Epoch 75/100\n",
      "31/31 [==============================] - 1s 26ms/step - loss: 0.8337 - accuracy: 0.6227 - val_loss: 0.8369 - val_accuracy: 0.5955\n",
      "Epoch 76/100\n",
      "31/31 [==============================] - 1s 26ms/step - loss: 0.8044 - accuracy: 0.6316 - val_loss: 0.8055 - val_accuracy: 0.6295\n",
      "Epoch 77/100\n",
      "31/31 [==============================] - 1s 26ms/step - loss: 0.8281 - accuracy: 0.6063 - val_loss: 0.8654 - val_accuracy: 0.5932\n",
      "Epoch 78/100\n",
      "31/31 [==============================] - 1s 26ms/step - loss: 0.8161 - accuracy: 0.6235 - val_loss: 0.7907 - val_accuracy: 0.6341\n",
      "Epoch 79/100\n",
      "31/31 [==============================] - 1s 26ms/step - loss: 0.8748 - accuracy: 0.5982 - val_loss: 0.8787 - val_accuracy: 0.5818\n",
      "Epoch 80/100\n",
      "31/31 [==============================] - 1s 26ms/step - loss: 0.8202 - accuracy: 0.6513 - val_loss: 0.8287 - val_accuracy: 0.6591\n",
      "Epoch 81/100\n",
      "31/31 [==============================] - 1s 26ms/step - loss: 0.8363 - accuracy: 0.6581 - val_loss: 0.7743 - val_accuracy: 0.6886\n",
      "Epoch 82/100\n",
      "31/31 [==============================] - 1s 26ms/step - loss: 0.7243 - accuracy: 0.7078 - val_loss: 0.7002 - val_accuracy: 0.6955\n",
      "Epoch 83/100\n",
      "31/31 [==============================] - 1s 25ms/step - loss: 0.6725 - accuracy: 0.7232 - val_loss: 0.6498 - val_accuracy: 0.7091\n",
      "Epoch 84/100\n",
      "31/31 [==============================] - 1s 26ms/step - loss: 0.6445 - accuracy: 0.7177 - val_loss: 0.6364 - val_accuracy: 0.7045\n",
      "Epoch 85/100\n",
      "31/31 [==============================] - 1s 26ms/step - loss: 0.6952 - accuracy: 0.6801 - val_loss: 1.0841 - val_accuracy: 0.5136\n",
      "Epoch 86/100\n",
      "31/31 [==============================] - 1s 26ms/step - loss: 0.7842 - accuracy: 0.6568 - val_loss: 0.6543 - val_accuracy: 0.7136\n",
      "Epoch 87/100\n",
      "31/31 [==============================] - 1s 26ms/step - loss: 0.6508 - accuracy: 0.7247 - val_loss: 0.6377 - val_accuracy: 0.7318\n",
      "Epoch 88/100\n",
      "31/31 [==============================] - 1s 26ms/step - loss: 0.6336 - accuracy: 0.7250 - val_loss: 0.6157 - val_accuracy: 0.7295\n",
      "Epoch 89/100\n",
      "31/31 [==============================] - 1s 26ms/step - loss: 0.6277 - accuracy: 0.7215 - val_loss: 0.6072 - val_accuracy: 0.7159\n",
      "Epoch 90/100\n",
      "31/31 [==============================] - 1s 26ms/step - loss: 0.6050 - accuracy: 0.7268 - val_loss: 0.6094 - val_accuracy: 0.7023\n",
      "Epoch 91/100\n",
      "31/31 [==============================] - 1s 26ms/step - loss: 0.6135 - accuracy: 0.7207 - val_loss: 0.5938 - val_accuracy: 0.7136\n",
      "Epoch 92/100\n",
      "31/31 [==============================] - 1s 26ms/step - loss: 0.6003 - accuracy: 0.7247 - val_loss: 0.5811 - val_accuracy: 0.7159\n",
      "Epoch 93/100\n",
      "31/31 [==============================] - 1s 26ms/step - loss: 0.6030 - accuracy: 0.7043 - val_loss: 0.6380 - val_accuracy: 0.6932\n",
      "Epoch 94/100\n",
      "31/31 [==============================] - 1s 26ms/step - loss: 0.6186 - accuracy: 0.7083 - val_loss: 0.5836 - val_accuracy: 0.7182\n",
      "Epoch 95/100\n",
      "31/31 [==============================] - 1s 26ms/step - loss: 0.5926 - accuracy: 0.7194 - val_loss: 0.5942 - val_accuracy: 0.7091\n",
      "Epoch 96/100\n",
      "31/31 [==============================] - 1s 26ms/step - loss: 0.5837 - accuracy: 0.7207 - val_loss: 0.5994 - val_accuracy: 0.7068\n",
      "Epoch 97/100\n",
      "31/31 [==============================] - 1s 25ms/step - loss: 0.5894 - accuracy: 0.7139 - val_loss: 0.5683 - val_accuracy: 0.7250\n",
      "Epoch 98/100\n",
      "31/31 [==============================] - 1s 26ms/step - loss: 0.6047 - accuracy: 0.7020 - val_loss: 0.5914 - val_accuracy: 0.7068\n",
      "Epoch 99/100\n",
      "31/31 [==============================] - 1s 26ms/step - loss: 0.6218 - accuracy: 0.7020 - val_loss: 0.5778 - val_accuracy: 0.7182\n",
      "Epoch 100/100\n",
      "31/31 [==============================] - 1s 26ms/step - loss: 0.5741 - accuracy: 0.7227 - val_loss: 0.5633 - val_accuracy: 0.7159\n",
      "35/35 [==============================] - 0s 6ms/step - loss: 0.5726 - accuracy: 0.7218\n"
     ]
    },
    {
     "data": {
      "image/png": "[encoded data removed]",
      "text/plain": [
       "<Figure size 504x432 with 2 Axes>"
      ]
     },
     "metadata": {
      "needs_background": "light"
     },
     "output_type": "display_data"
    },
    {
     "name": "stdout",
     "output_type": "stream",
     "text": [
      "Precision:0.655\n",
      "Recall:0.722\n",
      "F1_score:0.669\n",
      "              precision    recall  f1-score   support\n",
      "\n",
      "           0       0.00      0.00      0.00       100\n",
      "           1       0.00      0.00      0.00       100\n",
      "           2       0.27      1.00      0.42       100\n",
      "           3       0.00      0.00      0.00       100\n",
      "           4       1.00      1.00      1.00       100\n",
      "           5       1.00      1.00      1.00       100\n",
      "           6       1.00      1.00      1.00       100\n",
      "           7       1.00      0.98      0.99       100\n",
      "           8       0.98      0.98      0.98       100\n",
      "           9       0.97      0.99      0.98       100\n",
      "          10       0.99      0.99      0.99       100\n",
      "\n",
      "    accuracy                           0.72      1100\n",
      "   macro avg       0.66      0.72      0.67      1100\n",
      "weighted avg       0.66      0.72      0.67      1100\n",
      "\n",
      "Epoch 1/100\n",
      "31/31 [==============================] - 1s 30ms/step - loss: 2.3973 - accuracy: 0.0843 - val_loss: 2.3755 - val_accuracy: 0.1159\n",
      "Epoch 2/100\n",
      "31/31 [==============================] - 1s 25ms/step - loss: 2.3070 - accuracy: 0.0864 - val_loss: 2.2481 - val_accuracy: 0.0773\n",
      "Epoch 3/100\n",
      "31/31 [==============================] - 1s 26ms/step - loss: 2.1037 - accuracy: 0.1444 - val_loss: 2.0603 - val_accuracy: 0.2182\n",
      "Epoch 4/100\n",
      "31/31 [==============================] - 1s 26ms/step - loss: 1.8334 - accuracy: 0.2705 - val_loss: 1.6174 - val_accuracy: 0.4341\n",
      "Epoch 5/100\n",
      "31/31 [==============================] - 1s 26ms/step - loss: 1.5859 - accuracy: 0.3561 - val_loss: 1.4418 - val_accuracy: 0.4227\n",
      "Epoch 6/100\n",
      "31/31 [==============================] - 1s 26ms/step - loss: 1.1503 - accuracy: 0.4816 - val_loss: 1.0386 - val_accuracy: 0.5023\n",
      "Epoch 7/100\n",
      "31/31 [==============================] - 1s 26ms/step - loss: 1.9089 - accuracy: 0.3361 - val_loss: 2.0396 - val_accuracy: 0.2591\n",
      "Epoch 8/100\n",
      "31/31 [==============================] - 1s 26ms/step - loss: 1.5379 - accuracy: 0.4250 - val_loss: 0.9487 - val_accuracy: 0.5364\n",
      "Epoch 9/100\n",
      "31/31 [==============================] - 1s 26ms/step - loss: 0.8560 - accuracy: 0.6225 - val_loss: 0.7352 - val_accuracy: 0.7409\n",
      "Epoch 10/100\n",
      "31/31 [==============================] - 1s 26ms/step - loss: 0.6883 - accuracy: 0.6861 - val_loss: 0.7199 - val_accuracy: 0.6159\n",
      "Epoch 11/100\n",
      "31/31 [==============================] - 1s 26ms/step - loss: 0.7911 - accuracy: 0.6783 - val_loss: 0.5662 - val_accuracy: 0.7295\n",
      "Epoch 12/100\n",
      "31/31 [==============================] - 1s 26ms/step - loss: 0.5843 - accuracy: 0.7298 - val_loss: 0.5576 - val_accuracy: 0.7318\n",
      "Epoch 13/100\n",
      "31/31 [==============================] - 1s 26ms/step - loss: 0.5647 - accuracy: 0.7250 - val_loss: 0.4995 - val_accuracy: 0.7341\n",
      "Epoch 14/100\n",
      "31/31 [==============================] - 1s 26ms/step - loss: 0.5117 - accuracy: 0.7371 - val_loss: 0.4511 - val_accuracy: 0.8091\n",
      "Epoch 15/100\n",
      "31/31 [==============================] - 1s 26ms/step - loss: 0.4674 - accuracy: 0.7806 - val_loss: 0.3124 - val_accuracy: 0.8909\n",
      "Epoch 16/100\n",
      "31/31 [==============================] - 1s 26ms/step - loss: 2.2516 - accuracy: 0.4331 - val_loss: 1.7010 - val_accuracy: 0.5932\n",
      "Epoch 17/100\n",
      "31/31 [==============================] - 1s 26ms/step - loss: 1.1475 - accuracy: 0.6162 - val_loss: 0.6166 - val_accuracy: 0.8364\n",
      "Epoch 18/100\n",
      "31/31 [==============================] - 1s 26ms/step - loss: 0.3596 - accuracy: 0.9202 - val_loss: 0.2020 - val_accuracy: 0.9909\n",
      "Epoch 19/100\n",
      "31/31 [==============================] - 1s 26ms/step - loss: 0.1619 - accuracy: 0.9848 - val_loss: 0.1055 - val_accuracy: 0.9864\n",
      "Epoch 20/100\n",
      "31/31 [==============================] - 1s 26ms/step - loss: 0.0961 - accuracy: 0.9899 - val_loss: 0.0681 - val_accuracy: 0.9886\n",
      "Epoch 21/100\n",
      "31/31 [==============================] - 1s 26ms/step - loss: 0.0660 - accuracy: 0.9902 - val_loss: 0.0571 - val_accuracy: 0.9932\n",
      "Epoch 22/100\n",
      "31/31 [==============================] - 1s 26ms/step - loss: 0.0646 - accuracy: 0.9811 - val_loss: 0.0677 - val_accuracy: 0.9795\n",
      "Epoch 23/100\n",
      "31/31 [==============================] - 1s 26ms/step - loss: 3.1235 - accuracy: 0.6614 - val_loss: 2.2116 - val_accuracy: 0.3068\n",
      "Epoch 24/100\n",
      "31/31 [==============================] - 1s 26ms/step - loss: 1.5862 - accuracy: 0.4144 - val_loss: 1.1244 - val_accuracy: 0.7136\n",
      "Epoch 25/100\n",
      "31/31 [==============================] - 1s 26ms/step - loss: 0.5798 - accuracy: 0.8470 - val_loss: 0.1986 - val_accuracy: 0.9909\n",
      "Epoch 26/100\n",
      "31/31 [==============================] - 1s 26ms/step - loss: 0.1195 - accuracy: 0.9952 - val_loss: 0.0667 - val_accuracy: 0.9977\n",
      "Epoch 27/100\n",
      "31/31 [==============================] - 1s 26ms/step - loss: 0.0533 - accuracy: 0.9980 - val_loss: 0.0405 - val_accuracy: 0.9977\n",
      "Epoch 28/100\n",
      "31/31 [==============================] - 1s 26ms/step - loss: 0.0340 - accuracy: 0.9982 - val_loss: 0.0270 - val_accuracy: 0.9977\n",
      "Epoch 29/100\n",
      "31/31 [==============================] - 1s 26ms/step - loss: 0.0297 - accuracy: 0.9944 - val_loss: 0.0254 - val_accuracy: 0.9977\n",
      "Epoch 30/100\n",
      "31/31 [==============================] - 1s 26ms/step - loss: 0.0165 - accuracy: 0.9987 - val_loss: 0.0191 - val_accuracy: 0.9977\n",
      "Epoch 31/100\n",
      "31/31 [==============================] - 1s 26ms/step - loss: 0.0235 - accuracy: 0.9949 - val_loss: 0.0163 - val_accuracy: 0.9977\n",
      "Epoch 32/100\n",
      "31/31 [==============================] - 1s 26ms/step - loss: 0.0194 - accuracy: 0.9957 - val_loss: 0.0177 - val_accuracy: 0.9955\n",
      "Epoch 33/100\n",
      "31/31 [==============================] - 1s 26ms/step - loss: 0.0179 - accuracy: 0.9957 - val_loss: 0.0220 - val_accuracy: 0.9955\n",
      "Epoch 34/100\n",
      "31/31 [==============================] - 1s 26ms/step - loss: 0.0133 - accuracy: 0.9972 - val_loss: 0.0157 - val_accuracy: 0.9977\n",
      "Epoch 35/100\n",
      "31/31 [==============================] - 1s 26ms/step - loss: 0.0100 - accuracy: 0.9977 - val_loss: 0.0122 - val_accuracy: 0.9977\n",
      "Epoch 36/100\n",
      "31/31 [==============================] - 1s 26ms/step - loss: 0.0174 - accuracy: 0.9957 - val_loss: 0.0105 - val_accuracy: 0.9955\n",
      "Epoch 37/100\n",
      "31/31 [==============================] - 1s 26ms/step - loss: 0.0129 - accuracy: 0.9965 - val_loss: 0.0228 - val_accuracy: 0.9977\n",
      "Epoch 38/100\n",
      "31/31 [==============================] - 1s 26ms/step - loss: 0.0084 - accuracy: 0.9977 - val_loss: 0.0084 - val_accuracy: 0.9977\n",
      "Epoch 39/100\n",
      "31/31 [==============================] - 1s 26ms/step - loss: 3.0924 - accuracy: 0.7556 - val_loss: 3.3307 - val_accuracy: 0.1955\n",
      "Epoch 40/100\n",
      "31/31 [==============================] - 1s 26ms/step - loss: 1.8700 - accuracy: 0.2970 - val_loss: 1.1838 - val_accuracy: 0.5250\n",
      "Epoch 41/100\n",
      "31/31 [==============================] - 1s 26ms/step - loss: 0.8186 - accuracy: 0.6952 - val_loss: 0.4155 - val_accuracy: 0.8909\n",
      "Epoch 42/100\n",
      "31/31 [==============================] - 1s 26ms/step - loss: 0.2840 - accuracy: 0.9404 - val_loss: 0.1568 - val_accuracy: 0.9841\n",
      "Epoch 43/100\n",
      "31/31 [==============================] - 1s 26ms/step - loss: 0.1083 - accuracy: 0.9848 - val_loss: 0.0713 - val_accuracy: 0.9909\n",
      "Epoch 44/100\n",
      "31/31 [==============================] - 1s 26ms/step - loss: 0.0713 - accuracy: 0.9891 - val_loss: 0.0568 - val_accuracy: 0.9909\n",
      "Epoch 45/100\n",
      "31/31 [==============================] - 1s 26ms/step - loss: 0.0497 - accuracy: 0.9932 - val_loss: 0.0638 - val_accuracy: 0.9886\n",
      "Epoch 46/100\n",
      "31/31 [==============================] - 1s 26ms/step - loss: 0.0355 - accuracy: 0.9949 - val_loss: 0.0257 - val_accuracy: 0.9977\n",
      "Epoch 47/100\n",
      "31/31 [==============================] - 1s 26ms/step - loss: 0.6577 - accuracy: 0.8831 - val_loss: 4.5054 - val_accuracy: 0.1818\n",
      "Epoch 48/100\n",
      "31/31 [==============================] - 1s 26ms/step - loss: 1.9843 - accuracy: 0.4606 - val_loss: 0.7229 - val_accuracy: 0.6841\n",
      "Epoch 49/100\n",
      "31/31 [==============================] - 1s 26ms/step - loss: 0.3827 - accuracy: 0.9364 - val_loss: 0.1806 - val_accuracy: 0.9977\n",
      "Epoch 50/100\n",
      "31/31 [==============================] - 1s 26ms/step - loss: 0.1203 - accuracy: 0.9965 - val_loss: 0.0737 - val_accuracy: 0.9977\n",
      "Epoch 51/100\n",
      "31/31 [==============================] - 1s 26ms/step - loss: 0.0701 - accuracy: 0.9960 - val_loss: 0.0644 - val_accuracy: 0.9932\n",
      "Epoch 52/100\n",
      "31/31 [==============================] - 1s 26ms/step - loss: 0.0510 - accuracy: 0.9970 - val_loss: 0.0370 - val_accuracy: 0.9977\n",
      "Epoch 53/100\n",
      "31/31 [==============================] - 1s 26ms/step - loss: 0.0351 - accuracy: 0.9990 - val_loss: 0.0277 - val_accuracy: 0.9977\n",
      "Epoch 54/100\n",
      "31/31 [==============================] - 1s 26ms/step - loss: 0.0277 - accuracy: 0.9980 - val_loss: 0.0221 - val_accuracy: 0.9977\n",
      "Epoch 55/100\n",
      "31/31 [==============================] - 1s 26ms/step - loss: 0.0231 - accuracy: 0.9980 - val_loss: 0.0265 - val_accuracy: 0.9955\n",
      "Epoch 56/100\n",
      "31/31 [==============================] - 1s 26ms/step - loss: 0.0198 - accuracy: 0.9987 - val_loss: 0.0188 - val_accuracy: 0.9977\n",
      "Epoch 57/100\n",
      "31/31 [==============================] - 1s 26ms/step - loss: 0.0159 - accuracy: 0.9982 - val_loss: 0.0200 - val_accuracy: 0.9977\n",
      "Epoch 58/100\n",
      "31/31 [==============================] - 1s 26ms/step - loss: 0.0147 - accuracy: 0.9990 - val_loss: 0.0144 - val_accuracy: 0.9955\n",
      "Epoch 59/100\n",
      "31/31 [==============================] - 1s 26ms/step - loss: 0.0132 - accuracy: 0.9982 - val_loss: 0.0151 - val_accuracy: 0.9977\n",
      "Epoch 60/100\n",
      "31/31 [==============================] - 1s 26ms/step - loss: 1.0047 - accuracy: 0.8275 - val_loss: 1.4046 - val_accuracy: 0.5773\n",
      "Epoch 61/100\n",
      "31/31 [==============================] - 1s 26ms/step - loss: 0.6354 - accuracy: 0.7788 - val_loss: 0.1931 - val_accuracy: 0.9818\n",
      "Epoch 62/100\n",
      "31/31 [==============================] - 1s 26ms/step - loss: 0.1239 - accuracy: 0.9947 - val_loss: 0.0719 - val_accuracy: 0.9977\n",
      "Epoch 63/100\n",
      "31/31 [==============================] - 1s 26ms/step - loss: 0.0556 - accuracy: 0.9992 - val_loss: 0.0426 - val_accuracy: 0.9977\n",
      "Epoch 64/100\n",
      "31/31 [==============================] - 1s 26ms/step - loss: 0.0362 - accuracy: 0.9997 - val_loss: 0.0309 - val_accuracy: 0.9977\n",
      "Epoch 65/100\n",
      "31/31 [==============================] - 1s 26ms/step - loss: 0.0289 - accuracy: 0.9982 - val_loss: 0.0269 - val_accuracy: 0.9977\n",
      "Epoch 66/100\n",
      "31/31 [==============================] - 1s 26ms/step - loss: 0.0223 - accuracy: 0.9990 - val_loss: 0.0224 - val_accuracy: 0.9977\n",
      "Epoch 67/100\n",
      "31/31 [==============================] - 1s 26ms/step - loss: 0.0192 - accuracy: 0.9987 - val_loss: 0.0221 - val_accuracy: 0.9977\n",
      "Epoch 68/100\n",
      "31/31 [==============================] - 1s 26ms/step - loss: 0.0173 - accuracy: 0.9982 - val_loss: 0.0155 - val_accuracy: 0.9977\n",
      "Epoch 69/100\n",
      "31/31 [==============================] - 1s 26ms/step - loss: 0.0147 - accuracy: 0.9992 - val_loss: 0.0158 - val_accuracy: 0.9977\n",
      "Epoch 70/100\n",
      "31/31 [==============================] - 1s 26ms/step - loss: 0.0144 - accuracy: 0.9990 - val_loss: 0.0128 - val_accuracy: 0.9977\n",
      "Epoch 71/100\n",
      "31/31 [==============================] - 1s 26ms/step - loss: 0.0123 - accuracy: 0.9992 - val_loss: 0.0149 - val_accuracy: 0.9977\n",
      "Epoch 72/100\n",
      "31/31 [==============================] - 1s 26ms/step - loss: 0.0117 - accuracy: 0.9987 - val_loss: 0.0145 - val_accuracy: 0.9977\n",
      "Epoch 73/100\n",
      "31/31 [==============================] - 1s 26ms/step - loss: 0.0113 - accuracy: 0.9977 - val_loss: 0.0147 - val_accuracy: 0.9977\n",
      "Epoch 74/100\n",
      "31/31 [==============================] - 1s 25ms/step - loss: 0.0100 - accuracy: 0.9995 - val_loss: 0.0163 - val_accuracy: 0.9977\n",
      "Epoch 75/100\n",
      "31/31 [==============================] - 1s 26ms/step - loss: 0.0091 - accuracy: 0.9987 - val_loss: 0.0102 - val_accuracy: 0.9977\n",
      "Epoch 76/100\n",
      "31/31 [==============================] - 1s 26ms/step - loss: 0.0104 - accuracy: 0.9977 - val_loss: 0.0163 - val_accuracy: 0.9955\n",
      "Epoch 77/100\n",
      "31/31 [==============================] - 1s 26ms/step - loss: 0.0093 - accuracy: 0.9982 - val_loss: 0.0116 - val_accuracy: 0.9977\n",
      "Epoch 78/100\n",
      "31/31 [==============================] - 1s 25ms/step - loss: 0.0085 - accuracy: 0.9980 - val_loss: 0.0094 - val_accuracy: 0.9977\n",
      "Epoch 79/100\n",
      "31/31 [==============================] - 1s 26ms/step - loss: 0.0076 - accuracy: 0.9992 - val_loss: 0.0131 - val_accuracy: 0.9977\n",
      "Epoch 80/100\n",
      "31/31 [==============================] - 1s 26ms/step - loss: 0.0074 - accuracy: 0.9992 - val_loss: 0.0097 - val_accuracy: 0.9977\n",
      "Epoch 81/100\n",
      "31/31 [==============================] - 1s 26ms/step - loss: 0.0154 - accuracy: 0.9965 - val_loss: 0.0096 - val_accuracy: 0.9977\n",
      "Epoch 82/100\n",
      "31/31 [==============================] - 1s 25ms/step - loss: 0.0108 - accuracy: 0.9977 - val_loss: 0.0187 - val_accuracy: 0.9977\n",
      "Epoch 83/100\n",
      "31/31 [==============================] - 1s 25ms/step - loss: 0.0196 - accuracy: 0.9934 - val_loss: 0.0703 - val_accuracy: 0.9705\n",
      "Epoch 84/100\n",
      "31/31 [==============================] - 1s 26ms/step - loss: 0.0148 - accuracy: 0.9952 - val_loss: 0.0173 - val_accuracy: 0.9977\n",
      "Epoch 85/100\n",
      "31/31 [==============================] - 1s 26ms/step - loss: 0.0077 - accuracy: 0.9982 - val_loss: 0.0142 - val_accuracy: 0.9977\n",
      "Epoch 86/100\n",
      "31/31 [==============================] - 1s 26ms/step - loss: 0.0095 - accuracy: 0.9975 - val_loss: 0.0191 - val_accuracy: 0.9977\n",
      "Epoch 87/100\n",
      "31/31 [==============================] - 1s 25ms/step - loss: 0.0092 - accuracy: 0.9970 - val_loss: 0.0183 - val_accuracy: 0.9977\n",
      "Epoch 88/100\n",
      "31/31 [==============================] - 1s 25ms/step - loss: 0.0080 - accuracy: 0.9980 - val_loss: 0.0125 - val_accuracy: 0.9977\n",
      "Epoch 89/100\n",
      "31/31 [==============================] - 1s 26ms/step - loss: 0.0059 - accuracy: 0.9987 - val_loss: 0.0131 - val_accuracy: 0.9977\n",
      "Epoch 90/100\n",
      "31/31 [==============================] - 1s 26ms/step - loss: 0.0071 - accuracy: 0.9977 - val_loss: 0.0122 - val_accuracy: 0.9977\n",
      "Epoch 91/100\n",
      "31/31 [==============================] - 1s 25ms/step - loss: 0.0065 - accuracy: 0.9980 - val_loss: 0.0085 - val_accuracy: 0.9977\n",
      "Epoch 92/100\n",
      "31/31 [==============================] - 1s 26ms/step - loss: 0.0056 - accuracy: 0.9982 - val_loss: 0.0064 - val_accuracy: 0.9977\n",
      "Epoch 93/100\n",
      "31/31 [==============================] - 1s 26ms/step - loss: 0.0054 - accuracy: 0.9990 - val_loss: 0.0145 - val_accuracy: 0.9977\n",
      "Epoch 94/100\n",
      "31/31 [==============================] - 1s 26ms/step - loss: 0.0068 - accuracy: 0.9982 - val_loss: 0.0141 - val_accuracy: 0.9977\n",
      "Epoch 95/100\n",
      "31/31 [==============================] - 1s 26ms/step - loss: 0.0058 - accuracy: 0.9985 - val_loss: 0.0123 - val_accuracy: 0.9977\n",
      "Epoch 96/100\n",
      "31/31 [==============================] - 1s 26ms/step - loss: 0.0096 - accuracy: 0.9962 - val_loss: 0.0109 - val_accuracy: 0.9977\n",
      "Epoch 97/100\n",
      "31/31 [==============================] - 1s 26ms/step - loss: 0.0071 - accuracy: 0.9975 - val_loss: 0.0223 - val_accuracy: 0.9886\n",
      "Epoch 98/100\n",
      "31/31 [==============================] - 1s 26ms/step - loss: 0.0211 - accuracy: 0.9934 - val_loss: 0.0141 - val_accuracy: 0.9977\n",
      "Epoch 99/100\n",
      "31/31 [==============================] - 1s 26ms/step - loss: 0.0067 - accuracy: 0.9977 - val_loss: 0.0122 - val_accuracy: 0.9977\n",
      "Epoch 100/100\n",
      "31/31 [==============================] - 1s 26ms/step - loss: 0.0101 - accuracy: 0.9970 - val_loss: 0.0750 - val_accuracy: 0.9750\n",
      "35/35 [==============================] - 0s 6ms/step - loss: 0.0648 - accuracy: 0.9736\n"
     ]
    },
    {
     "data": {
      "image/png": "[encoded data removed]",
      "text/plain": [
       "<Figure size 504x432 with 2 Axes>"
      ]
     },
     "metadata": {
      "needs_background": "light"
     },
     "output_type": "display_data"
    },
    {
     "name": "stdout",
     "output_type": "stream",
     "text": [
      "Precision:0.979\n",
      "Recall:0.974\n",
      "F1_score:0.973\n",
      "              precision    recall  f1-score   support\n",
      "\n",
      "           0       1.00      1.00      1.00       100\n",
      "           1       1.00      0.73      0.84       100\n",
      "           2       0.79      1.00      0.88       100\n",
      "           3       1.00      0.99      0.99       100\n",
      "           4       0.99      1.00      1.00       100\n",
      "           5       1.00      1.00      1.00       100\n",
      "           6       1.00      1.00      1.00       100\n",
      "           7       1.00      0.99      0.99       100\n",
      "           8       0.99      1.00      1.00       100\n",
      "           9       1.00      1.00      1.00       100\n",
      "          10       1.00      1.00      1.00       100\n",
      "\n",
      "    accuracy                           0.97      1100\n",
      "   macro avg       0.98      0.97      0.97      1100\n",
      "weighted avg       0.98      0.97      0.97      1100\n",
      "\n",
      "Epoch 1/100\n",
      "31/31 [==============================] - 2s 29ms/step - loss: 2.3984 - accuracy: 0.0995 - val_loss: 2.4116 - val_accuracy: 0.0864\n",
      "Epoch 2/100\n",
      "31/31 [==============================] - 1s 25ms/step - loss: 2.3982 - accuracy: 0.0985 - val_loss: 2.3980 - val_accuracy: 0.0727\n",
      "Epoch 3/100\n",
      "31/31 [==============================] - 1s 26ms/step - loss: 2.3980 - accuracy: 0.0866 - val_loss: 2.3983 - val_accuracy: 0.0705\n",
      "Epoch 4/100\n",
      "31/31 [==============================] - 1s 25ms/step - loss: 2.3979 - accuracy: 0.0932 - val_loss: 2.3987 - val_accuracy: 0.0705\n",
      "Epoch 5/100\n",
      "31/31 [==============================] - 1s 24ms/step - loss: 2.3979 - accuracy: 0.0932 - val_loss: 2.3992 - val_accuracy: 0.0705\n",
      "Epoch 6/100\n",
      "31/31 [==============================] - 1s 24ms/step - loss: 2.3979 - accuracy: 0.0932 - val_loss: 2.3994 - val_accuracy: 0.0705\n",
      "Epoch 7/100\n",
      "31/31 [==============================] - 1s 26ms/step - loss: 2.3981 - accuracy: 0.0912 - val_loss: 2.3996 - val_accuracy: 0.0727\n",
      "Epoch 8/100\n",
      "31/31 [==============================] - 1s 26ms/step - loss: 2.3978 - accuracy: 0.0902 - val_loss: 2.3997 - val_accuracy: 0.0705\n",
      "Epoch 9/100\n",
      "31/31 [==============================] - 1s 26ms/step - loss: 2.3979 - accuracy: 0.0932 - val_loss: 2.4000 - val_accuracy: 0.0705\n",
      "Epoch 10/100\n",
      "31/31 [==============================] - 1s 26ms/step - loss: 2.3979 - accuracy: 0.0932 - val_loss: 2.4000 - val_accuracy: 0.0705\n",
      "Epoch 11/100\n",
      "31/31 [==============================] - 1s 26ms/step - loss: 2.3979 - accuracy: 0.0909 - val_loss: 2.4001 - val_accuracy: 0.0727\n",
      "Epoch 12/100\n",
      "31/31 [==============================] - 1s 26ms/step - loss: 2.3979 - accuracy: 0.0929 - val_loss: 2.4002 - val_accuracy: 0.0727\n",
      "Epoch 13/100\n",
      "31/31 [==============================] - 1s 26ms/step - loss: 2.3979 - accuracy: 0.0907 - val_loss: 2.4001 - val_accuracy: 0.0727\n",
      "Epoch 14/100\n",
      "31/31 [==============================] - 1s 25ms/step - loss: 2.3979 - accuracy: 0.0894 - val_loss: 2.4002 - val_accuracy: 0.0727\n",
      "Epoch 15/100\n",
      "31/31 [==============================] - 1s 25ms/step - loss: 2.3979 - accuracy: 0.0919 - val_loss: 2.4005 - val_accuracy: 0.0705\n",
      "Epoch 16/100\n",
      "31/31 [==============================] - 1s 25ms/step - loss: 2.3979 - accuracy: 0.0889 - val_loss: 2.4004 - val_accuracy: 0.0705\n",
      "Epoch 17/100\n",
      "31/31 [==============================] - 1s 25ms/step - loss: 2.3979 - accuracy: 0.0932 - val_loss: 2.4002 - val_accuracy: 0.0705\n",
      "Epoch 18/100\n",
      "31/31 [==============================] - 1s 26ms/step - loss: 2.3979 - accuracy: 0.0932 - val_loss: 2.4003 - val_accuracy: 0.0705\n",
      "Epoch 19/100\n",
      "31/31 [==============================] - 1s 26ms/step - loss: 2.3979 - accuracy: 0.0932 - val_loss: 2.4002 - val_accuracy: 0.0705\n",
      "Epoch 20/100\n",
      "31/31 [==============================] - 1s 26ms/step - loss: 2.3979 - accuracy: 0.0932 - val_loss: 2.4001 - val_accuracy: 0.0705\n",
      "Epoch 21/100\n",
      "31/31 [==============================] - 1s 26ms/step - loss: 2.3979 - accuracy: 0.0932 - val_loss: 2.4001 - val_accuracy: 0.0705\n",
      "Epoch 22/100\n",
      "31/31 [==============================] - 1s 26ms/step - loss: 2.3979 - accuracy: 0.0869 - val_loss: 2.4006 - val_accuracy: 0.0727\n",
      "Epoch 23/100\n",
      "31/31 [==============================] - 1s 26ms/step - loss: 2.3978 - accuracy: 0.0904 - val_loss: 2.4004 - val_accuracy: 0.0705\n",
      "Epoch 24/100\n",
      "31/31 [==============================] - 1s 26ms/step - loss: 2.3979 - accuracy: 0.0831 - val_loss: 2.4004 - val_accuracy: 0.0705\n",
      "Epoch 25/100\n",
      "31/31 [==============================] - 1s 25ms/step - loss: 2.3979 - accuracy: 0.0932 - val_loss: 2.4005 - val_accuracy: 0.0705\n",
      "Epoch 26/100\n",
      "31/31 [==============================] - 1s 25ms/step - loss: 2.3979 - accuracy: 0.0856 - val_loss: 2.4005 - val_accuracy: 0.0727\n",
      "Epoch 27/100\n",
      "31/31 [==============================] - 1s 26ms/step - loss: 2.3979 - accuracy: 0.0907 - val_loss: 2.4003 - val_accuracy: 0.0705\n",
      "Epoch 28/100\n",
      "31/31 [==============================] - 1s 26ms/step - loss: 2.3979 - accuracy: 0.0884 - val_loss: 2.4005 - val_accuracy: 0.0705\n",
      "Epoch 29/100\n",
      "31/31 [==============================] - 1s 26ms/step - loss: 2.3979 - accuracy: 0.0932 - val_loss: 2.4003 - val_accuracy: 0.0705\n",
      "Epoch 30/100\n",
      "31/31 [==============================] - 1s 26ms/step - loss: 2.3979 - accuracy: 0.0932 - val_loss: 2.4003 - val_accuracy: 0.0705\n",
      "Epoch 31/100\n",
      "31/31 [==============================] - 1s 26ms/step - loss: 2.3979 - accuracy: 0.0932 - val_loss: 2.4005 - val_accuracy: 0.0705\n",
      "Epoch 32/100\n",
      "31/31 [==============================] - 1s 26ms/step - loss: 2.3979 - accuracy: 0.0879 - val_loss: 2.4004 - val_accuracy: 0.0727\n",
      "Epoch 33/100\n",
      "31/31 [==============================] - 1s 26ms/step - loss: 2.3979 - accuracy: 0.0912 - val_loss: 2.4004 - val_accuracy: 0.0705\n",
      "Epoch 34/100\n",
      "31/31 [==============================] - 1s 26ms/step - loss: 2.3978 - accuracy: 0.0932 - val_loss: 2.4005 - val_accuracy: 0.0705\n",
      "Epoch 35/100\n",
      "31/31 [==============================] - 1s 26ms/step - loss: 2.3979 - accuracy: 0.0866 - val_loss: 2.4005 - val_accuracy: 0.0705\n",
      "Epoch 36/100\n",
      "31/31 [==============================] - 1s 26ms/step - loss: 2.3979 - accuracy: 0.0932 - val_loss: 2.4004 - val_accuracy: 0.0705\n",
      "Epoch 37/100\n",
      "31/31 [==============================] - 1s 26ms/step - loss: 2.3979 - accuracy: 0.0932 - val_loss: 2.4004 - val_accuracy: 0.0705\n",
      "Epoch 38/100\n",
      "31/31 [==============================] - 1s 24ms/step - loss: 2.3979 - accuracy: 0.0932 - val_loss: 2.4006 - val_accuracy: 0.0705\n",
      "Epoch 39/100\n",
      "31/31 [==============================] - 1s 25ms/step - loss: 2.3979 - accuracy: 0.0932 - val_loss: 2.4003 - val_accuracy: 0.0705\n",
      "Epoch 40/100\n",
      "31/31 [==============================] - 1s 26ms/step - loss: 2.3978 - accuracy: 0.0932 - val_loss: 2.4003 - val_accuracy: 0.0705\n",
      "Epoch 41/100\n",
      "31/31 [==============================] - 1s 26ms/step - loss: 2.3979 - accuracy: 0.0932 - val_loss: 2.4005 - val_accuracy: 0.0705\n",
      "Epoch 42/100\n",
      "31/31 [==============================] - 1s 26ms/step - loss: 2.3979 - accuracy: 0.0932 - val_loss: 2.4007 - val_accuracy: 0.0705\n",
      "Epoch 43/100\n",
      "31/31 [==============================] - 1s 25ms/step - loss: 2.3978 - accuracy: 0.0932 - val_loss: 2.4004 - val_accuracy: 0.0705\n",
      "Epoch 44/100\n",
      "31/31 [==============================] - 1s 26ms/step - loss: 2.3979 - accuracy: 0.0932 - val_loss: 2.4003 - val_accuracy: 0.0705\n",
      "Epoch 45/100\n",
      "31/31 [==============================] - 1s 26ms/step - loss: 2.3979 - accuracy: 0.0876 - val_loss: 2.4007 - val_accuracy: 0.0705\n",
      "Epoch 46/100\n",
      "31/31 [==============================] - 1s 26ms/step - loss: 2.3978 - accuracy: 0.0932 - val_loss: 2.4005 - val_accuracy: 0.0705\n",
      "Epoch 47/100\n",
      "31/31 [==============================] - 1s 26ms/step - loss: 2.3979 - accuracy: 0.0932 - val_loss: 2.4004 - val_accuracy: 0.0705\n",
      "Epoch 48/100\n",
      "31/31 [==============================] - 1s 26ms/step - loss: 2.3979 - accuracy: 0.0932 - val_loss: 2.4002 - val_accuracy: 0.0705\n",
      "Epoch 49/100\n",
      "31/31 [==============================] - 1s 26ms/step - loss: 2.3979 - accuracy: 0.0932 - val_loss: 2.4006 - val_accuracy: 0.0705\n",
      "Epoch 50/100\n",
      "31/31 [==============================] - 1s 26ms/step - loss: 2.3979 - accuracy: 0.0932 - val_loss: 2.4003 - val_accuracy: 0.0705\n",
      "Epoch 51/100\n",
      "31/31 [==============================] - 1s 26ms/step - loss: 2.3979 - accuracy: 0.0932 - val_loss: 2.4002 - val_accuracy: 0.0705\n",
      "Epoch 52/100\n",
      "31/31 [==============================] - 1s 26ms/step - loss: 2.3979 - accuracy: 0.0932 - val_loss: 2.4003 - val_accuracy: 0.0705\n",
      "Epoch 53/100\n",
      "31/31 [==============================] - 1s 26ms/step - loss: 2.3979 - accuracy: 0.0932 - val_loss: 2.4005 - val_accuracy: 0.0705\n",
      "Epoch 54/100\n",
      "31/31 [==============================] - 1s 26ms/step - loss: 2.3978 - accuracy: 0.0899 - val_loss: 2.4005 - val_accuracy: 0.0705\n",
      "Epoch 55/100\n",
      "31/31 [==============================] - 1s 26ms/step - loss: 2.3979 - accuracy: 0.0932 - val_loss: 2.4006 - val_accuracy: 0.0705\n",
      "Epoch 56/100\n",
      "31/31 [==============================] - 1s 26ms/step - loss: 2.3978 - accuracy: 0.0932 - val_loss: 2.4005 - val_accuracy: 0.0705\n",
      "Epoch 57/100\n",
      "31/31 [==============================] - 1s 26ms/step - loss: 2.3979 - accuracy: 0.0886 - val_loss: 2.4002 - val_accuracy: 0.0727\n",
      "Epoch 58/100\n",
      "31/31 [==============================] - 1s 26ms/step - loss: 2.3979 - accuracy: 0.0884 - val_loss: 2.4001 - val_accuracy: 0.0727\n",
      "Epoch 59/100\n",
      "31/31 [==============================] - 1s 26ms/step - loss: 2.3979 - accuracy: 0.0937 - val_loss: 2.3999 - val_accuracy: 0.0705\n",
      "Epoch 60/100\n",
      "31/31 [==============================] - 1s 26ms/step - loss: 2.3978 - accuracy: 0.0932 - val_loss: 2.4001 - val_accuracy: 0.0705\n",
      "Epoch 61/100\n",
      "31/31 [==============================] - 1s 26ms/step - loss: 2.3979 - accuracy: 0.0932 - val_loss: 2.4006 - val_accuracy: 0.0705\n",
      "Epoch 62/100\n",
      "31/31 [==============================] - 1s 26ms/step - loss: 2.3979 - accuracy: 0.0932 - val_loss: 2.4002 - val_accuracy: 0.0705\n",
      "Epoch 63/100\n",
      "31/31 [==============================] - 1s 26ms/step - loss: 2.3979 - accuracy: 0.0932 - val_loss: 2.4003 - val_accuracy: 0.0705\n",
      "Epoch 64/100\n",
      "31/31 [==============================] - 1s 26ms/step - loss: 2.3979 - accuracy: 0.0932 - val_loss: 2.4006 - val_accuracy: 0.0705\n",
      "Epoch 65/100\n",
      "31/31 [==============================] - 1s 26ms/step - loss: 2.3980 - accuracy: 0.0841 - val_loss: 2.4004 - val_accuracy: 0.0705\n",
      "Epoch 66/100\n",
      "31/31 [==============================] - 1s 26ms/step - loss: 2.3978 - accuracy: 0.0932 - val_loss: 2.4004 - val_accuracy: 0.0705\n",
      "Epoch 67/100\n",
      "31/31 [==============================] - 1s 26ms/step - loss: 2.3979 - accuracy: 0.0932 - val_loss: 2.4003 - val_accuracy: 0.0705\n",
      "Epoch 68/100\n",
      "31/31 [==============================] - 1s 26ms/step - loss: 2.3979 - accuracy: 0.0932 - val_loss: 2.4003 - val_accuracy: 0.0705\n",
      "Epoch 69/100\n",
      "31/31 [==============================] - 1s 26ms/step - loss: 2.3979 - accuracy: 0.0871 - val_loss: 2.4006 - val_accuracy: 0.0705\n",
      "Epoch 70/100\n",
      "31/31 [==============================] - 1s 26ms/step - loss: 2.3978 - accuracy: 0.0932 - val_loss: 2.4006 - val_accuracy: 0.0705\n",
      "Epoch 71/100\n",
      "31/31 [==============================] - 1s 26ms/step - loss: 2.3978 - accuracy: 0.0932 - val_loss: 2.4004 - val_accuracy: 0.0705\n",
      "Epoch 72/100\n",
      "31/31 [==============================] - 1s 26ms/step - loss: 2.3978 - accuracy: 0.0914 - val_loss: 2.4003 - val_accuracy: 0.0705\n",
      "Epoch 73/100\n",
      "31/31 [==============================] - 1s 26ms/step - loss: 2.3979 - accuracy: 0.0932 - val_loss: 2.4003 - val_accuracy: 0.0705\n",
      "Epoch 74/100\n",
      "31/31 [==============================] - 1s 26ms/step - loss: 2.3979 - accuracy: 0.0879 - val_loss: 2.4005 - val_accuracy: 0.0705\n",
      "Epoch 75/100\n",
      "31/31 [==============================] - 1s 26ms/step - loss: 2.3978 - accuracy: 0.0932 - val_loss: 2.4005 - val_accuracy: 0.0705\n",
      "Epoch 76/100\n",
      "31/31 [==============================] - 1s 26ms/step - loss: 2.3979 - accuracy: 0.0932 - val_loss: 2.4005 - val_accuracy: 0.0705\n",
      "Epoch 77/100\n",
      "31/31 [==============================] - 1s 26ms/step - loss: 2.3979 - accuracy: 0.0932 - val_loss: 2.4005 - val_accuracy: 0.0705\n",
      "Epoch 78/100\n",
      "31/31 [==============================] - 1s 26ms/step - loss: 2.3978 - accuracy: 0.0932 - val_loss: 2.4005 - val_accuracy: 0.0705\n",
      "Epoch 79/100\n",
      "31/31 [==============================] - 1s 26ms/step - loss: 2.3979 - accuracy: 0.0932 - val_loss: 2.4006 - val_accuracy: 0.0705\n",
      "Epoch 80/100\n",
      "31/31 [==============================] - 1s 26ms/step - loss: 2.3978 - accuracy: 0.0932 - val_loss: 2.4004 - val_accuracy: 0.0705\n",
      "Epoch 81/100\n",
      "31/31 [==============================] - 1s 26ms/step - loss: 2.3978 - accuracy: 0.0932 - val_loss: 2.4005 - val_accuracy: 0.0705\n",
      "Epoch 82/100\n",
      "31/31 [==============================] - 1s 26ms/step - loss: 2.3979 - accuracy: 0.0932 - val_loss: 2.4006 - val_accuracy: 0.0705\n",
      "Epoch 83/100\n",
      "31/31 [==============================] - 1s 26ms/step - loss: 2.3978 - accuracy: 0.0932 - val_loss: 2.4006 - val_accuracy: 0.0705\n",
      "Epoch 84/100\n",
      "31/31 [==============================] - 1s 26ms/step - loss: 2.3979 - accuracy: 0.0932 - val_loss: 2.4003 - val_accuracy: 0.0705\n",
      "Epoch 85/100\n",
      "31/31 [==============================] - 1s 26ms/step - loss: 2.3979 - accuracy: 0.0876 - val_loss: 2.4005 - val_accuracy: 0.0705\n",
      "Epoch 86/100\n",
      "31/31 [==============================] - 1s 26ms/step - loss: 2.3978 - accuracy: 0.0932 - val_loss: 2.4003 - val_accuracy: 0.0705\n",
      "Epoch 87/100\n",
      "31/31 [==============================] - 1s 26ms/step - loss: 2.3979 - accuracy: 0.0879 - val_loss: 2.4004 - val_accuracy: 0.0727\n",
      "Epoch 88/100\n",
      "31/31 [==============================] - 1s 26ms/step - loss: 2.3978 - accuracy: 0.0932 - val_loss: 2.4004 - val_accuracy: 0.0705\n",
      "Epoch 89/100\n",
      "31/31 [==============================] - 1s 26ms/step - loss: 2.3978 - accuracy: 0.0909 - val_loss: 2.4004 - val_accuracy: 0.0705\n",
      "Epoch 90/100\n",
      "31/31 [==============================] - 1s 26ms/step - loss: 2.3978 - accuracy: 0.0874 - val_loss: 2.4002 - val_accuracy: 0.0727\n",
      "Epoch 91/100\n",
      "31/31 [==============================] - 1s 26ms/step - loss: 2.3979 - accuracy: 0.0914 - val_loss: 2.4003 - val_accuracy: 0.0705\n",
      "Epoch 92/100\n",
      "31/31 [==============================] - 1s 25ms/step - loss: 2.3979 - accuracy: 0.0932 - val_loss: 2.4007 - val_accuracy: 0.0705\n",
      "Epoch 93/100\n",
      "31/31 [==============================] - 1s 26ms/step - loss: 2.3979 - accuracy: 0.0932 - val_loss: 2.4004 - val_accuracy: 0.0705\n",
      "Epoch 94/100\n",
      "31/31 [==============================] - 1s 26ms/step - loss: 2.3978 - accuracy: 0.0932 - val_loss: 2.4005 - val_accuracy: 0.0705\n",
      "Epoch 95/100\n",
      "31/31 [==============================] - 1s 26ms/step - loss: 2.3979 - accuracy: 0.0932 - val_loss: 2.4005 - val_accuracy: 0.0705\n",
      "Epoch 96/100\n",
      "31/31 [==============================] - 1s 26ms/step - loss: 2.3978 - accuracy: 0.0932 - val_loss: 2.4005 - val_accuracy: 0.0705\n",
      "Epoch 97/100\n",
      "31/31 [==============================] - 1s 26ms/step - loss: 2.3979 - accuracy: 0.0932 - val_loss: 2.4002 - val_accuracy: 0.0705\n",
      "Epoch 98/100\n",
      "31/31 [==============================] - 1s 26ms/step - loss: 2.3979 - accuracy: 0.0932 - val_loss: 2.4005 - val_accuracy: 0.0705\n",
      "Epoch 99/100\n",
      "31/31 [==============================] - 1s 26ms/step - loss: 2.3978 - accuracy: 0.0932 - val_loss: 2.4003 - val_accuracy: 0.0705\n",
      "Epoch 100/100\n",
      "31/31 [==============================] - 1s 26ms/step - loss: 2.3979 - accuracy: 0.0856 - val_loss: 2.4002 - val_accuracy: 0.0727\n",
      "35/35 [==============================] - 0s 5ms/step - loss: 2.3980 - accuracy: 0.0909\n"
     ]
    },
    {
     "data": {
      "image/png": "[encoded data removed]",
      "text/plain": [
       "<Figure size 504x432 with 2 Axes>"
      ]
     },
     "metadata": {
      "needs_background": "light"
     },
     "output_type": "display_data"
    },
    {
     "name": "stdout",
     "output_type": "stream",
     "text": [
      "Precision:0.00826\n",
      "Recall:0.0909\n",
      "F1_score:0.0152\n",
      "              precision    recall  f1-score   support\n",
      "\n",
      "           0       0.00      0.00      0.00       100\n",
      "           1       0.00      0.00      0.00       100\n",
      "           2       0.09      1.00      0.17       100\n",
      "           3       0.00      0.00      0.00       100\n",
      "           4       0.00      0.00      0.00       100\n",
      "           5       0.00      0.00      0.00       100\n",
      "           6       0.00      0.00      0.00       100\n",
      "           7       0.00      0.00      0.00       100\n",
      "           8       0.00      0.00      0.00       100\n",
      "           9       0.00      0.00      0.00       100\n",
      "          10       0.00      0.00      0.00       100\n",
      "\n",
      "    accuracy                           0.09      1100\n",
      "   macro avg       0.01      0.09      0.02      1100\n",
      "weighted avg       0.01      0.09      0.02      1100\n",
      "\n",
      "Epoch 1/100\n",
      "31/31 [==============================] - 1s 30ms/step - loss: 2.3965 - accuracy: 0.0838 - val_loss: 2.3815 - val_accuracy: 0.0682\n",
      "Epoch 2/100\n",
      "31/31 [==============================] - 1s 26ms/step - loss: 2.2840 - accuracy: 0.1331 - val_loss: 2.2405 - val_accuracy: 0.1477\n",
      "Epoch 3/100\n",
      "31/31 [==============================] - 1s 25ms/step - loss: 2.1298 - accuracy: 0.1432 - val_loss: 2.1255 - val_accuracy: 0.1659\n",
      "Epoch 4/100\n",
      "31/31 [==============================] - 1s 26ms/step - loss: 1.9978 - accuracy: 0.1942 - val_loss: 1.9422 - val_accuracy: 0.2636\n",
      "Epoch 5/100\n",
      "31/31 [==============================] - 1s 26ms/step - loss: 1.8373 - accuracy: 0.2167 - val_loss: 1.7755 - val_accuracy: 0.1659\n",
      "Epoch 6/100\n",
      "31/31 [==============================] - 1s 26ms/step - loss: 1.5172 - accuracy: 0.3932 - val_loss: 1.3297 - val_accuracy: 0.4545\n",
      "Epoch 7/100\n",
      "31/31 [==============================] - 1s 26ms/step - loss: 1.6767 - accuracy: 0.3750 - val_loss: 1.4418 - val_accuracy: 0.4500\n",
      "Epoch 8/100\n",
      "31/31 [==============================] - 1s 26ms/step - loss: 1.3201 - accuracy: 0.5023 - val_loss: 1.4090 - val_accuracy: 0.4273\n",
      "Epoch 9/100\n",
      "31/31 [==============================] - 1s 26ms/step - loss: 1.2385 - accuracy: 0.5439 - val_loss: 1.3821 - val_accuracy: 0.5068\n",
      "Epoch 10/100\n",
      "31/31 [==============================] - 1s 26ms/step - loss: 1.8717 - accuracy: 0.2891 - val_loss: 1.7767 - val_accuracy: 0.2864\n",
      "Epoch 11/100\n",
      "31/31 [==============================] - 1s 26ms/step - loss: 1.6617 - accuracy: 0.2861 - val_loss: 1.7288 - val_accuracy: 0.2932\n",
      "Epoch 12/100\n",
      "31/31 [==============================] - 1s 26ms/step - loss: 1.6212 - accuracy: 0.2374 - val_loss: 1.6878 - val_accuracy: 0.1682\n",
      "Epoch 13/100\n",
      "31/31 [==============================] - 1s 26ms/step - loss: 1.5865 - accuracy: 0.2073 - val_loss: 1.6505 - val_accuracy: 0.2227\n",
      "Epoch 14/100\n",
      "31/31 [==============================] - 1s 26ms/step - loss: 1.5528 - accuracy: 0.2098 - val_loss: 1.6105 - val_accuracy: 0.2000\n",
      "Epoch 15/100\n",
      "31/31 [==============================] - 1s 26ms/step - loss: 1.5186 - accuracy: 0.2934 - val_loss: 1.5748 - val_accuracy: 0.2636\n",
      "Epoch 16/100\n",
      "31/31 [==============================] - 1s 25ms/step - loss: 1.4833 - accuracy: 0.3139 - val_loss: 1.5312 - val_accuracy: 0.3000\n",
      "Epoch 17/100\n",
      "31/31 [==============================] - 1s 26ms/step - loss: 1.4497 - accuracy: 0.3424 - val_loss: 1.4960 - val_accuracy: 0.3523\n",
      "Epoch 18/100\n",
      "31/31 [==============================] - 1s 26ms/step - loss: 1.4216 - accuracy: 0.3609 - val_loss: 1.4681 - val_accuracy: 0.3682\n",
      "Epoch 19/100\n",
      "31/31 [==============================] - 1s 26ms/step - loss: 1.4004 - accuracy: 0.3652 - val_loss: 1.4271 - val_accuracy: 0.3932\n",
      "Epoch 20/100\n",
      "31/31 [==============================] - 1s 26ms/step - loss: 1.3689 - accuracy: 0.3737 - val_loss: 1.4248 - val_accuracy: 0.3909\n",
      "Epoch 21/100\n",
      "31/31 [==============================] - 1s 26ms/step - loss: 1.3487 - accuracy: 0.3861 - val_loss: 1.3875 - val_accuracy: 0.3909\n",
      "Epoch 22/100\n",
      "31/31 [==============================] - 1s 26ms/step - loss: 1.3253 - accuracy: 0.3876 - val_loss: 1.3669 - val_accuracy: 0.4341\n",
      "Epoch 23/100\n",
      "31/31 [==============================] - 1s 26ms/step - loss: 1.3031 - accuracy: 0.4023 - val_loss: 1.3041 - val_accuracy: 0.4614\n",
      "Epoch 24/100\n",
      "31/31 [==============================] - 1s 26ms/step - loss: 1.3524 - accuracy: 0.3884 - val_loss: 1.6513 - val_accuracy: 0.1955\n",
      "Epoch 25/100\n",
      "31/31 [==============================] - 1s 26ms/step - loss: 1.3529 - accuracy: 0.4033 - val_loss: 1.2770 - val_accuracy: 0.4818\n",
      "Epoch 26/100\n",
      "31/31 [==============================] - 1s 26ms/step - loss: 1.2550 - accuracy: 0.4288 - val_loss: 1.2585 - val_accuracy: 0.4455\n",
      "Epoch 27/100\n",
      "31/31 [==============================] - 1s 25ms/step - loss: 1.2298 - accuracy: 0.4492 - val_loss: 1.2412 - val_accuracy: 0.5500\n",
      "Epoch 28/100\n",
      "31/31 [==============================] - 1s 26ms/step - loss: 1.2097 - accuracy: 0.4730 - val_loss: 1.2511 - val_accuracy: 0.4114\n",
      "Epoch 29/100\n",
      "31/31 [==============================] - 1s 27ms/step - loss: 1.2109 - accuracy: 0.4520 - val_loss: 1.2559 - val_accuracy: 0.5273\n",
      "Epoch 30/100\n",
      "31/31 [==============================] - 1s 26ms/step - loss: 1.2070 - accuracy: 0.4737 - val_loss: 1.3828 - val_accuracy: 0.4000\n",
      "Epoch 31/100\n",
      "31/31 [==============================] - 1s 26ms/step - loss: 1.7947 - accuracy: 0.2914 - val_loss: 1.6908 - val_accuracy: 0.3159\n",
      "Epoch 32/100\n",
      "31/31 [==============================] - 1s 26ms/step - loss: 1.3008 - accuracy: 0.4654 - val_loss: 1.2239 - val_accuracy: 0.4932\n",
      "Epoch 33/100\n",
      "31/31 [==============================] - 1s 26ms/step - loss: 1.1936 - accuracy: 0.4742 - val_loss: 1.1767 - val_accuracy: 0.5023\n",
      "Epoch 34/100\n",
      "31/31 [==============================] - 1s 26ms/step - loss: 1.2178 - accuracy: 0.4692 - val_loss: 1.4731 - val_accuracy: 0.3205\n",
      "Epoch 35/100\n",
      "31/31 [==============================] - 1s 26ms/step - loss: 1.2895 - accuracy: 0.4260 - val_loss: 1.1757 - val_accuracy: 0.5455\n",
      "Epoch 36/100\n",
      "31/31 [==============================] - 1s 26ms/step - loss: 1.1874 - accuracy: 0.4826 - val_loss: 1.1700 - val_accuracy: 0.4750\n",
      "Epoch 37/100\n",
      "31/31 [==============================] - 1s 26ms/step - loss: 1.1692 - accuracy: 0.5015 - val_loss: 1.1482 - val_accuracy: 0.5568\n",
      "Epoch 38/100\n",
      "31/31 [==============================] - 1s 26ms/step - loss: 1.1309 - accuracy: 0.4927 - val_loss: 1.1076 - val_accuracy: 0.5500\n",
      "Epoch 39/100\n",
      "31/31 [==============================] - 1s 26ms/step - loss: 1.1054 - accuracy: 0.5179 - val_loss: 1.1178 - val_accuracy: 0.6250\n",
      "Epoch 40/100\n",
      "31/31 [==============================] - 1s 26ms/step - loss: 1.1854 - accuracy: 0.5124 - val_loss: 1.1721 - val_accuracy: 0.4295\n",
      "Epoch 41/100\n",
      "31/31 [==============================] - 1s 26ms/step - loss: 1.1809 - accuracy: 0.4705 - val_loss: 1.1249 - val_accuracy: 0.4909\n",
      "Epoch 42/100\n",
      "31/31 [==============================] - 1s 26ms/step - loss: 1.0818 - accuracy: 0.5182 - val_loss: 1.0674 - val_accuracy: 0.5568\n",
      "Epoch 43/100\n",
      "31/31 [==============================] - 1s 26ms/step - loss: 1.0723 - accuracy: 0.5331 - val_loss: 1.0600 - val_accuracy: 0.4864\n",
      "Epoch 44/100\n",
      "31/31 [==============================] - 1s 26ms/step - loss: 1.0716 - accuracy: 0.5270 - val_loss: 1.0835 - val_accuracy: 0.4977\n",
      "Epoch 45/100\n",
      "31/31 [==============================] - 1s 26ms/step - loss: 1.0706 - accuracy: 0.5285 - val_loss: 1.0594 - val_accuracy: 0.5432\n",
      "Epoch 46/100\n",
      "31/31 [==============================] - 1s 26ms/step - loss: 1.1721 - accuracy: 0.4667 - val_loss: 1.2327 - val_accuracy: 0.4727\n",
      "Epoch 47/100\n",
      "31/31 [==============================] - 1s 26ms/step - loss: 1.0798 - accuracy: 0.5414 - val_loss: 1.0344 - val_accuracy: 0.6136\n",
      "Epoch 48/100\n",
      "31/31 [==============================] - 1s 26ms/step - loss: 1.0283 - accuracy: 0.5773 - val_loss: 1.0128 - val_accuracy: 0.5250\n",
      "Epoch 49/100\n",
      "31/31 [==============================] - 1s 26ms/step - loss: 1.0222 - accuracy: 0.5702 - val_loss: 1.0175 - val_accuracy: 0.6477\n",
      "Epoch 50/100\n",
      "31/31 [==============================] - 1s 26ms/step - loss: 1.1148 - accuracy: 0.5197 - val_loss: 1.0237 - val_accuracy: 0.5000\n",
      "Epoch 51/100\n",
      "31/31 [==============================] - 1s 26ms/step - loss: 1.0361 - accuracy: 0.5321 - val_loss: 1.0218 - val_accuracy: 0.5955\n",
      "Epoch 52/100\n",
      "31/31 [==============================] - 1s 26ms/step - loss: 0.9946 - accuracy: 0.5631 - val_loss: 1.0232 - val_accuracy: 0.5045\n",
      "Epoch 53/100\n",
      "31/31 [==============================] - 1s 26ms/step - loss: 0.9873 - accuracy: 0.5707 - val_loss: 0.9819 - val_accuracy: 0.6023\n",
      "Epoch 54/100\n",
      "31/31 [==============================] - 1s 26ms/step - loss: 0.9943 - accuracy: 0.5884 - val_loss: 1.0078 - val_accuracy: 0.6591\n",
      "Epoch 55/100\n",
      "31/31 [==============================] - 1s 26ms/step - loss: 1.1326 - accuracy: 0.5053 - val_loss: 1.0040 - val_accuracy: 0.6614\n",
      "Epoch 56/100\n",
      "31/31 [==============================] - 1s 25ms/step - loss: 1.0090 - accuracy: 0.5826 - val_loss: 0.9712 - val_accuracy: 0.6250\n",
      "Epoch 57/100\n",
      "31/31 [==============================] - 1s 25ms/step - loss: 0.9651 - accuracy: 0.5899 - val_loss: 0.9910 - val_accuracy: 0.7068\n",
      "Epoch 58/100\n",
      "31/31 [==============================] - 1s 25ms/step - loss: 0.9688 - accuracy: 0.6088 - val_loss: 0.9484 - val_accuracy: 0.6000\n",
      "Epoch 59/100\n",
      "31/31 [==============================] - 1s 26ms/step - loss: 0.9663 - accuracy: 0.6000 - val_loss: 0.9631 - val_accuracy: 0.5500\n",
      "Epoch 60/100\n",
      "31/31 [==============================] - 1s 26ms/step - loss: 0.9852 - accuracy: 0.5793 - val_loss: 0.9819 - val_accuracy: 0.6523\n",
      "Epoch 61/100\n",
      "31/31 [==============================] - 1s 26ms/step - loss: 1.0403 - accuracy: 0.5409 - val_loss: 0.9726 - val_accuracy: 0.6114\n",
      "Epoch 62/100\n",
      "31/31 [==============================] - 1s 26ms/step - loss: 0.9431 - accuracy: 0.6293 - val_loss: 0.9457 - val_accuracy: 0.6500\n",
      "Epoch 63/100\n",
      "31/31 [==============================] - 1s 26ms/step - loss: 0.9328 - accuracy: 0.6253 - val_loss: 0.9740 - val_accuracy: 0.5818\n",
      "Epoch 64/100\n",
      "31/31 [==============================] - 1s 26ms/step - loss: 0.9448 - accuracy: 0.5952 - val_loss: 0.9490 - val_accuracy: 0.6432\n",
      "Epoch 65/100\n",
      "31/31 [==============================] - 1s 25ms/step - loss: 0.9423 - accuracy: 0.6298 - val_loss: 0.9520 - val_accuracy: 0.6500\n",
      "Epoch 66/100\n",
      "31/31 [==============================] - 1s 26ms/step - loss: 1.0076 - accuracy: 0.5667 - val_loss: 0.9378 - val_accuracy: 0.6114\n",
      "Epoch 67/100\n",
      "31/31 [==============================] - 1s 26ms/step - loss: 0.9708 - accuracy: 0.5871 - val_loss: 0.9326 - val_accuracy: 0.6182\n",
      "Epoch 68/100\n",
      "31/31 [==============================] - 1s 26ms/step - loss: 0.9079 - accuracy: 0.6189 - val_loss: 0.9435 - val_accuracy: 0.6182\n",
      "Epoch 69/100\n",
      "31/31 [==============================] - 1s 26ms/step - loss: 0.9105 - accuracy: 0.6369 - val_loss: 0.9077 - val_accuracy: 0.6841\n",
      "Epoch 70/100\n",
      "31/31 [==============================] - 1s 26ms/step - loss: 0.9141 - accuracy: 0.6313 - val_loss: 0.9058 - val_accuracy: 0.6795\n",
      "Epoch 71/100\n",
      "31/31 [==============================] - 1s 26ms/step - loss: 0.9150 - accuracy: 0.6167 - val_loss: 0.9146 - val_accuracy: 0.5932\n",
      "Epoch 72/100\n",
      "31/31 [==============================] - 1s 26ms/step - loss: 0.9942 - accuracy: 0.5760 - val_loss: 1.1286 - val_accuracy: 0.4977\n",
      "Epoch 73/100\n",
      "31/31 [==============================] - 1s 26ms/step - loss: 0.9346 - accuracy: 0.6391 - val_loss: 0.9064 - val_accuracy: 0.6000\n",
      "Epoch 74/100\n",
      "31/31 [==============================] - 1s 26ms/step - loss: 0.8926 - accuracy: 0.6503 - val_loss: 0.8888 - val_accuracy: 0.6205\n",
      "Epoch 75/100\n",
      "31/31 [==============================] - 1s 27ms/step - loss: 0.8707 - accuracy: 0.6465 - val_loss: 0.8839 - val_accuracy: 0.7114\n",
      "Epoch 76/100\n",
      "31/31 [==============================] - 1s 26ms/step - loss: 0.8680 - accuracy: 0.6558 - val_loss: 0.8702 - val_accuracy: 0.6818\n",
      "Epoch 77/100\n",
      "31/31 [==============================] - 1s 26ms/step - loss: 0.8918 - accuracy: 0.6558 - val_loss: 0.9030 - val_accuracy: 0.5977\n",
      "Epoch 78/100\n",
      "31/31 [==============================] - 1s 26ms/step - loss: 0.8658 - accuracy: 0.6515 - val_loss: 0.8598 - val_accuracy: 0.6114\n",
      "Epoch 79/100\n",
      "31/31 [==============================] - 1s 26ms/step - loss: 0.8967 - accuracy: 0.6333 - val_loss: 0.9167 - val_accuracy: 0.5545\n",
      "Epoch 80/100\n",
      "31/31 [==============================] - 1s 26ms/step - loss: 0.8593 - accuracy: 0.6460 - val_loss: 0.8576 - val_accuracy: 0.6886\n",
      "Epoch 81/100\n",
      "31/31 [==============================] - 1s 26ms/step - loss: 0.8487 - accuracy: 0.6626 - val_loss: 0.8872 - val_accuracy: 0.5977\n",
      "Epoch 82/100\n",
      "31/31 [==============================] - 1s 26ms/step - loss: 0.8452 - accuracy: 0.6662 - val_loss: 0.9298 - val_accuracy: 0.5341\n",
      "Epoch 83/100\n",
      "31/31 [==============================] - 1s 26ms/step - loss: 1.1591 - accuracy: 0.4679 - val_loss: 0.9290 - val_accuracy: 0.4977\n",
      "Epoch 84/100\n",
      "31/31 [==============================] - 1s 25ms/step - loss: 0.9816 - accuracy: 0.5609 - val_loss: 0.9670 - val_accuracy: 0.5477\n",
      "Epoch 85/100\n",
      "31/31 [==============================] - 1s 26ms/step - loss: 0.8278 - accuracy: 0.7616 - val_loss: 0.8075 - val_accuracy: 0.8364\n",
      "Epoch 86/100\n",
      "31/31 [==============================] - 1s 26ms/step - loss: 0.7866 - accuracy: 0.7831 - val_loss: 0.7496 - val_accuracy: 0.8909\n",
      "Epoch 87/100\n",
      "31/31 [==============================] - 1s 26ms/step - loss: 0.7553 - accuracy: 0.8197 - val_loss: 0.7356 - val_accuracy: 0.7568\n",
      "Epoch 88/100\n",
      "31/31 [==============================] - 1s 26ms/step - loss: 0.7318 - accuracy: 0.8194 - val_loss: 0.7195 - val_accuracy: 0.7955\n",
      "Epoch 89/100\n",
      "31/31 [==============================] - 1s 26ms/step - loss: 0.7174 - accuracy: 0.8225 - val_loss: 0.7021 - val_accuracy: 0.8136\n",
      "Epoch 90/100\n",
      "31/31 [==============================] - 1s 26ms/step - loss: 0.6980 - accuracy: 0.8172 - val_loss: 0.6816 - val_accuracy: 0.8364\n",
      "Epoch 91/100\n",
      "31/31 [==============================] - 1s 26ms/step - loss: 0.6807 - accuracy: 0.8341 - val_loss: 0.6783 - val_accuracy: 0.8068\n",
      "Epoch 92/100\n",
      "31/31 [==============================] - 1s 26ms/step - loss: 0.6802 - accuracy: 0.8225 - val_loss: 0.6461 - val_accuracy: 0.8682\n",
      "Epoch 93/100\n",
      "31/31 [==============================] - 1s 26ms/step - loss: 0.6651 - accuracy: 0.8258 - val_loss: 0.6357 - val_accuracy: 0.8250\n",
      "Epoch 94/100\n",
      "31/31 [==============================] - 1s 25ms/step - loss: 0.6477 - accuracy: 0.8351 - val_loss: 0.6235 - val_accuracy: 0.9045\n",
      "Epoch 95/100\n",
      "31/31 [==============================] - 1s 27ms/step - loss: 0.6302 - accuracy: 0.8328 - val_loss: 0.6128 - val_accuracy: 0.8318\n",
      "Epoch 96/100\n",
      "31/31 [==============================] - 1s 26ms/step - loss: 0.6669 - accuracy: 0.7965 - val_loss: 0.6140 - val_accuracy: 0.8386\n",
      "Epoch 97/100\n",
      "31/31 [==============================] - 1s 26ms/step - loss: 0.6358 - accuracy: 0.8260 - val_loss: 0.6169 - val_accuracy: 0.8045\n",
      "Epoch 98/100\n",
      "31/31 [==============================] - 1s 26ms/step - loss: 0.6070 - accuracy: 0.8311 - val_loss: 0.5964 - val_accuracy: 0.8977\n",
      "Epoch 99/100\n",
      "31/31 [==============================] - 1s 26ms/step - loss: 0.6291 - accuracy: 0.8131 - val_loss: 0.5885 - val_accuracy: 0.8727\n",
      "Epoch 100/100\n",
      "31/31 [==============================] - 1s 26ms/step - loss: 0.6057 - accuracy: 0.8419 - val_loss: 0.6045 - val_accuracy: 0.8455\n",
      "35/35 [==============================] - 0s 6ms/step - loss: 0.6167 - accuracy: 0.8209\n"
     ]
    },
    {
     "data": {
      "image/png": "[encoded data removed]",
      "text/plain": [
       "<Figure size 504x432 with 2 Axes>"
      ]
     },
     "metadata": {
      "needs_background": "light"
     },
     "output_type": "display_data"
    },
    {
     "name": "stdout",
     "output_type": "stream",
     "text": [
      "Precision:0.8\n",
      "Recall:0.821\n",
      "F1_score:0.794\n",
      "              precision    recall  f1-score   support\n",
      "\n",
      "           0       1.00      1.00      1.00       100\n",
      "           1       0.88      1.00      0.94       100\n",
      "           2       0.99      0.87      0.93       100\n",
      "           3       1.00      0.99      0.99       100\n",
      "           4       1.00      0.84      0.91       100\n",
      "           5       0.00      0.00      0.00       100\n",
      "           6       0.49      1.00      0.66       100\n",
      "           7       1.00      0.95      0.97       100\n",
      "           8       0.96      0.89      0.92       100\n",
      "           9       0.82      0.49      0.61       100\n",
      "          10       0.66      1.00      0.80       100\n",
      "\n",
      "    accuracy                           0.82      1100\n",
      "   macro avg       0.80      0.82      0.79      1100\n",
      "weighted avg       0.80      0.82      0.79      1100\n",
      "\n",
      "Epoch 1/100\n",
      "31/31 [==============================] - 1s 30ms/step - loss: 2.3982 - accuracy: 0.0917 - val_loss: 2.3982 - val_accuracy: 0.0773\n",
      "Epoch 2/100\n",
      "31/31 [==============================] - 1s 26ms/step - loss: 2.3979 - accuracy: 0.0924 - val_loss: 2.3984 - val_accuracy: 0.0773\n",
      "Epoch 3/100\n",
      "31/31 [==============================] - 1s 26ms/step - loss: 2.3979 - accuracy: 0.0924 - val_loss: 2.3984 - val_accuracy: 0.0773\n",
      "Epoch 4/100\n",
      "31/31 [==============================] - 1s 26ms/step - loss: 2.3979 - accuracy: 0.0924 - val_loss: 2.3985 - val_accuracy: 0.0773\n",
      "Epoch 5/100\n",
      "31/31 [==============================] - 1s 26ms/step - loss: 2.3979 - accuracy: 0.0899 - val_loss: 2.3987 - val_accuracy: 0.0727\n",
      "Epoch 6/100\n",
      "31/31 [==============================] - 1s 26ms/step - loss: 2.3979 - accuracy: 0.0884 - val_loss: 2.3988 - val_accuracy: 0.0727\n",
      "Epoch 7/100\n",
      "31/31 [==============================] - 1s 26ms/step - loss: 2.3979 - accuracy: 0.0929 - val_loss: 2.3989 - val_accuracy: 0.0727\n",
      "Epoch 8/100\n",
      "31/31 [==============================] - 1s 26ms/step - loss: 2.3979 - accuracy: 0.0879 - val_loss: 2.3990 - val_accuracy: 0.0727\n",
      "Epoch 9/100\n",
      "31/31 [==============================] - 1s 26ms/step - loss: 2.3979 - accuracy: 0.0856 - val_loss: 2.3991 - val_accuracy: 0.0727\n",
      "Epoch 10/100\n",
      "31/31 [==============================] - 1s 26ms/step - loss: 2.3979 - accuracy: 0.0929 - val_loss: 2.3991 - val_accuracy: 0.0727\n",
      "Epoch 11/100\n",
      "31/31 [==============================] - 1s 26ms/step - loss: 2.3979 - accuracy: 0.0929 - val_loss: 2.3992 - val_accuracy: 0.0727\n",
      "Epoch 12/100\n",
      "31/31 [==============================] - 1s 26ms/step - loss: 2.3979 - accuracy: 0.0929 - val_loss: 2.3993 - val_accuracy: 0.0727\n",
      "Epoch 13/100\n",
      "31/31 [==============================] - 1s 26ms/step - loss: 2.3979 - accuracy: 0.0864 - val_loss: 2.3993 - val_accuracy: 0.0727\n",
      "Epoch 14/100\n",
      "31/31 [==============================] - 1s 26ms/step - loss: 2.3979 - accuracy: 0.0929 - val_loss: 2.3994 - val_accuracy: 0.0727\n",
      "Epoch 15/100\n",
      "31/31 [==============================] - 1s 26ms/step - loss: 2.3979 - accuracy: 0.0929 - val_loss: 2.3993 - val_accuracy: 0.0727\n",
      "Epoch 16/100\n",
      "31/31 [==============================] - 1s 26ms/step - loss: 2.3979 - accuracy: 0.0929 - val_loss: 2.3994 - val_accuracy: 0.0727\n",
      "Epoch 17/100\n",
      "31/31 [==============================] - 1s 26ms/step - loss: 2.3979 - accuracy: 0.0929 - val_loss: 2.3995 - val_accuracy: 0.0727\n",
      "Epoch 18/100\n",
      "31/31 [==============================] - 1s 26ms/step - loss: 2.3979 - accuracy: 0.0929 - val_loss: 2.3995 - val_accuracy: 0.0727\n",
      "Epoch 19/100\n",
      "31/31 [==============================] - 1s 26ms/step - loss: 2.3979 - accuracy: 0.0929 - val_loss: 2.3995 - val_accuracy: 0.0727\n",
      "Epoch 20/100\n",
      "31/31 [==============================] - 1s 26ms/step - loss: 2.3979 - accuracy: 0.0929 - val_loss: 2.3996 - val_accuracy: 0.0727\n",
      "Epoch 21/100\n",
      "31/31 [==============================] - 1s 26ms/step - loss: 2.3979 - accuracy: 0.0929 - val_loss: 2.3995 - val_accuracy: 0.0727\n",
      "Epoch 22/100\n",
      "31/31 [==============================] - 1s 26ms/step - loss: 2.3979 - accuracy: 0.0874 - val_loss: 2.3996 - val_accuracy: 0.0727\n",
      "Epoch 23/100\n",
      "31/31 [==============================] - 1s 26ms/step - loss: 2.3979 - accuracy: 0.0929 - val_loss: 2.3996 - val_accuracy: 0.0727\n",
      "Epoch 24/100\n",
      "31/31 [==============================] - 1s 26ms/step - loss: 2.3979 - accuracy: 0.0929 - val_loss: 2.3996 - val_accuracy: 0.0727\n",
      "Epoch 25/100\n",
      "31/31 [==============================] - 1s 26ms/step - loss: 2.3979 - accuracy: 0.0884 - val_loss: 2.3996 - val_accuracy: 0.0727\n",
      "Epoch 26/100\n",
      "31/31 [==============================] - 1s 25ms/step - loss: 2.3979 - accuracy: 0.0929 - val_loss: 2.3996 - val_accuracy: 0.0727\n",
      "Epoch 27/100\n",
      "31/31 [==============================] - 1s 26ms/step - loss: 2.3979 - accuracy: 0.0929 - val_loss: 2.3996 - val_accuracy: 0.0727\n",
      "Epoch 28/100\n",
      "31/31 [==============================] - 1s 26ms/step - loss: 2.3979 - accuracy: 0.0929 - val_loss: 2.3996 - val_accuracy: 0.0727\n",
      "Epoch 29/100\n",
      "31/31 [==============================] - 1s 26ms/step - loss: 2.3979 - accuracy: 0.0929 - val_loss: 2.3996 - val_accuracy: 0.0727\n",
      "Epoch 30/100\n",
      "31/31 [==============================] - 1s 26ms/step - loss: 2.3979 - accuracy: 0.0929 - val_loss: 2.3997 - val_accuracy: 0.0727\n",
      "Epoch 31/100\n",
      "31/31 [==============================] - 1s 26ms/step - loss: 2.3979 - accuracy: 0.0929 - val_loss: 2.3997 - val_accuracy: 0.0727\n",
      "Epoch 32/100\n",
      "31/31 [==============================] - 1s 26ms/step - loss: 2.3979 - accuracy: 0.0929 - val_loss: 2.3997 - val_accuracy: 0.0727\n",
      "Epoch 33/100\n",
      "31/31 [==============================] - 1s 26ms/step - loss: 2.3978 - accuracy: 0.0929 - val_loss: 2.3997 - val_accuracy: 0.0727\n",
      "Epoch 34/100\n",
      "31/31 [==============================] - 1s 26ms/step - loss: 2.3979 - accuracy: 0.0929 - val_loss: 2.3996 - val_accuracy: 0.0727\n",
      "Epoch 35/100\n",
      "31/31 [==============================] - 1s 26ms/step - loss: 2.3979 - accuracy: 0.0929 - val_loss: 2.3996 - val_accuracy: 0.0727\n",
      "Epoch 36/100\n",
      "31/31 [==============================] - 1s 26ms/step - loss: 2.3979 - accuracy: 0.0929 - val_loss: 2.3996 - val_accuracy: 0.0727\n",
      "Epoch 37/100\n",
      "31/31 [==============================] - 1s 26ms/step - loss: 2.3979 - accuracy: 0.0929 - val_loss: 2.3997 - val_accuracy: 0.0727\n",
      "Epoch 38/100\n",
      "31/31 [==============================] - 1s 26ms/step - loss: 2.3979 - accuracy: 0.0929 - val_loss: 2.3998 - val_accuracy: 0.0727\n",
      "Epoch 39/100\n",
      "31/31 [==============================] - 1s 26ms/step - loss: 2.3979 - accuracy: 0.0929 - val_loss: 2.3997 - val_accuracy: 0.0727\n",
      "Epoch 40/100\n",
      "31/31 [==============================] - 1s 26ms/step - loss: 2.3979 - accuracy: 0.0929 - val_loss: 2.3996 - val_accuracy: 0.0727\n",
      "Epoch 41/100\n",
      "31/31 [==============================] - 1s 26ms/step - loss: 2.3979 - accuracy: 0.0929 - val_loss: 2.3998 - val_accuracy: 0.0727\n",
      "Epoch 42/100\n",
      "31/31 [==============================] - 1s 26ms/step - loss: 2.3979 - accuracy: 0.0929 - val_loss: 2.3996 - val_accuracy: 0.0727\n",
      "Epoch 43/100\n",
      "31/31 [==============================] - 1s 26ms/step - loss: 2.3979 - accuracy: 0.0929 - val_loss: 2.3997 - val_accuracy: 0.0727\n",
      "Epoch 44/100\n",
      "31/31 [==============================] - 1s 24ms/step - loss: 2.3979 - accuracy: 0.0891 - val_loss: 2.3997 - val_accuracy: 0.0727\n",
      "Epoch 45/100\n",
      "31/31 [==============================] - 1s 24ms/step - loss: 2.3979 - accuracy: 0.0929 - val_loss: 2.3997 - val_accuracy: 0.0727\n",
      "Epoch 46/100\n",
      "31/31 [==============================] - 1s 25ms/step - loss: 2.3979 - accuracy: 0.0929 - val_loss: 2.3998 - val_accuracy: 0.0727\n",
      "Epoch 47/100\n",
      "31/31 [==============================] - 1s 26ms/step - loss: 2.3979 - accuracy: 0.0929 - val_loss: 2.3997 - val_accuracy: 0.0727\n",
      "Epoch 48/100\n",
      "31/31 [==============================] - 1s 26ms/step - loss: 2.3979 - accuracy: 0.0929 - val_loss: 2.3996 - val_accuracy: 0.0727\n",
      "Epoch 49/100\n",
      "31/31 [==============================] - 1s 26ms/step - loss: 2.3979 - accuracy: 0.0929 - val_loss: 2.3997 - val_accuracy: 0.0727\n",
      "Epoch 50/100\n",
      "31/31 [==============================] - 1s 26ms/step - loss: 2.3979 - accuracy: 0.0929 - val_loss: 2.3997 - val_accuracy: 0.0727\n",
      "Epoch 51/100\n",
      "31/31 [==============================] - 1s 26ms/step - loss: 2.3979 - accuracy: 0.0929 - val_loss: 2.3998 - val_accuracy: 0.0727\n",
      "Epoch 52/100\n",
      "31/31 [==============================] - 1s 26ms/step - loss: 2.3979 - accuracy: 0.0864 - val_loss: 2.3997 - val_accuracy: 0.0727\n",
      "Epoch 53/100\n",
      "31/31 [==============================] - 1s 26ms/step - loss: 2.3979 - accuracy: 0.0929 - val_loss: 2.3997 - val_accuracy: 0.0727\n",
      "Epoch 54/100\n",
      "31/31 [==============================] - 1s 26ms/step - loss: 2.3979 - accuracy: 0.0929 - val_loss: 2.3996 - val_accuracy: 0.0727\n",
      "Epoch 55/100\n",
      "31/31 [==============================] - 1s 26ms/step - loss: 2.3979 - accuracy: 0.0929 - val_loss: 2.3997 - val_accuracy: 0.0727\n",
      "Epoch 56/100\n",
      "31/31 [==============================] - 1s 26ms/step - loss: 2.3979 - accuracy: 0.0929 - val_loss: 2.3996 - val_accuracy: 0.0727\n",
      "Epoch 57/100\n",
      "31/31 [==============================] - 1s 26ms/step - loss: 2.3979 - accuracy: 0.0929 - val_loss: 2.3997 - val_accuracy: 0.0727\n",
      "Epoch 58/100\n",
      "31/31 [==============================] - 1s 26ms/step - loss: 2.3979 - accuracy: 0.0929 - val_loss: 2.3998 - val_accuracy: 0.0727\n",
      "Epoch 59/100\n",
      "31/31 [==============================] - 1s 26ms/step - loss: 2.3979 - accuracy: 0.0929 - val_loss: 2.3997 - val_accuracy: 0.0727\n",
      "Epoch 60/100\n",
      "31/31 [==============================] - 1s 26ms/step - loss: 2.3979 - accuracy: 0.0929 - val_loss: 2.3997 - val_accuracy: 0.0727\n",
      "Epoch 61/100\n",
      "31/31 [==============================] - 1s 26ms/step - loss: 2.3979 - accuracy: 0.0929 - val_loss: 2.3998 - val_accuracy: 0.0727\n",
      "Epoch 62/100\n",
      "31/31 [==============================] - 1s 26ms/step - loss: 2.3979 - accuracy: 0.0929 - val_loss: 2.3997 - val_accuracy: 0.0727\n",
      "Epoch 63/100\n",
      "31/31 [==============================] - 1s 26ms/step - loss: 2.3979 - accuracy: 0.0929 - val_loss: 2.3997 - val_accuracy: 0.0727\n",
      "Epoch 64/100\n",
      "31/31 [==============================] - 1s 26ms/step - loss: 2.3979 - accuracy: 0.0929 - val_loss: 2.3997 - val_accuracy: 0.0727\n",
      "Epoch 65/100\n",
      "31/31 [==============================] - 1s 26ms/step - loss: 2.3979 - accuracy: 0.0929 - val_loss: 2.3997 - val_accuracy: 0.0727\n",
      "Epoch 66/100\n",
      "31/31 [==============================] - 1s 26ms/step - loss: 2.3979 - accuracy: 0.0929 - val_loss: 2.3998 - val_accuracy: 0.0727\n",
      "Epoch 67/100\n",
      "31/31 [==============================] - 1s 26ms/step - loss: 2.3979 - accuracy: 0.0929 - val_loss: 2.3996 - val_accuracy: 0.0727\n",
      "Epoch 68/100\n",
      "31/31 [==============================] - 1s 26ms/step - loss: 2.3979 - accuracy: 0.0929 - val_loss: 2.3997 - val_accuracy: 0.0727\n",
      "Epoch 69/100\n",
      "31/31 [==============================] - 1s 26ms/step - loss: 2.3979 - accuracy: 0.0929 - val_loss: 2.3997 - val_accuracy: 0.0727\n",
      "Epoch 70/100\n",
      "31/31 [==============================] - 1s 26ms/step - loss: 2.3979 - accuracy: 0.0929 - val_loss: 2.3997 - val_accuracy: 0.0727\n",
      "Epoch 71/100\n",
      "31/31 [==============================] - 1s 26ms/step - loss: 2.3979 - accuracy: 0.0929 - val_loss: 2.3997 - val_accuracy: 0.0727\n",
      "Epoch 72/100\n",
      "31/31 [==============================] - 1s 26ms/step - loss: 2.3979 - accuracy: 0.0929 - val_loss: 2.3996 - val_accuracy: 0.0727\n",
      "Epoch 73/100\n",
      "31/31 [==============================] - 1s 26ms/step - loss: 2.3979 - accuracy: 0.0929 - val_loss: 2.3997 - val_accuracy: 0.0727\n",
      "Epoch 74/100\n",
      "31/31 [==============================] - 1s 26ms/step - loss: 2.3979 - accuracy: 0.0929 - val_loss: 2.3996 - val_accuracy: 0.0727\n",
      "Epoch 75/100\n",
      "31/31 [==============================] - 1s 26ms/step - loss: 2.3979 - accuracy: 0.0929 - val_loss: 2.3997 - val_accuracy: 0.0727\n",
      "Epoch 76/100\n",
      "31/31 [==============================] - 1s 26ms/step - loss: 2.3978 - accuracy: 0.0929 - val_loss: 2.3997 - val_accuracy: 0.0727\n",
      "Epoch 77/100\n",
      "31/31 [==============================] - 1s 26ms/step - loss: 2.3979 - accuracy: 0.0929 - val_loss: 2.3997 - val_accuracy: 0.0727\n",
      "Epoch 78/100\n",
      "31/31 [==============================] - 1s 26ms/step - loss: 2.3979 - accuracy: 0.0929 - val_loss: 2.3998 - val_accuracy: 0.0727\n",
      "Epoch 79/100\n",
      "31/31 [==============================] - 1s 26ms/step - loss: 2.3979 - accuracy: 0.0929 - val_loss: 2.3996 - val_accuracy: 0.0727\n",
      "Epoch 80/100\n",
      "31/31 [==============================] - 1s 26ms/step - loss: 2.3979 - accuracy: 0.0929 - val_loss: 2.3998 - val_accuracy: 0.0727\n",
      "Epoch 81/100\n",
      "31/31 [==============================] - 1s 26ms/step - loss: 2.3979 - accuracy: 0.0929 - val_loss: 2.3997 - val_accuracy: 0.0727\n",
      "Epoch 82/100\n",
      "31/31 [==============================] - 1s 26ms/step - loss: 2.3979 - accuracy: 0.0929 - val_loss: 2.3997 - val_accuracy: 0.0727\n",
      "Epoch 83/100\n",
      "31/31 [==============================] - 1s 26ms/step - loss: 2.3979 - accuracy: 0.0929 - val_loss: 2.3997 - val_accuracy: 0.0727\n",
      "Epoch 84/100\n",
      "31/31 [==============================] - 1s 26ms/step - loss: 2.3979 - accuracy: 0.0929 - val_loss: 2.3996 - val_accuracy: 0.0727\n",
      "Epoch 85/100\n",
      "31/31 [==============================] - 1s 26ms/step - loss: 2.3979 - accuracy: 0.0929 - val_loss: 2.3997 - val_accuracy: 0.0727\n",
      "Epoch 86/100\n",
      "31/31 [==============================] - 1s 26ms/step - loss: 2.3979 - accuracy: 0.0929 - val_loss: 2.3998 - val_accuracy: 0.0727\n",
      "Epoch 87/100\n",
      "31/31 [==============================] - 1s 26ms/step - loss: 2.3979 - accuracy: 0.0929 - val_loss: 2.3998 - val_accuracy: 0.0727\n",
      "Epoch 88/100\n",
      "31/31 [==============================] - 1s 25ms/step - loss: 2.3979 - accuracy: 0.0929 - val_loss: 2.3997 - val_accuracy: 0.0727\n",
      "Epoch 89/100\n",
      "31/31 [==============================] - 1s 26ms/step - loss: 2.3979 - accuracy: 0.0929 - val_loss: 2.3997 - val_accuracy: 0.0727\n",
      "Epoch 90/100\n",
      "31/31 [==============================] - 1s 26ms/step - loss: 2.3979 - accuracy: 0.0929 - val_loss: 2.3997 - val_accuracy: 0.0727\n",
      "Epoch 91/100\n",
      "31/31 [==============================] - 1s 26ms/step - loss: 2.3979 - accuracy: 0.0929 - val_loss: 2.3997 - val_accuracy: 0.0727\n",
      "Epoch 92/100\n",
      "31/31 [==============================] - 1s 26ms/step - loss: 2.3979 - accuracy: 0.0929 - val_loss: 2.3997 - val_accuracy: 0.0727\n",
      "Epoch 93/100\n",
      "31/31 [==============================] - 1s 26ms/step - loss: 2.3979 - accuracy: 0.0929 - val_loss: 2.3996 - val_accuracy: 0.0727\n",
      "Epoch 94/100\n",
      "31/31 [==============================] - 1s 26ms/step - loss: 2.3979 - accuracy: 0.0929 - val_loss: 2.3997 - val_accuracy: 0.0727\n",
      "Epoch 95/100\n",
      "31/31 [==============================] - 1s 26ms/step - loss: 2.3979 - accuracy: 0.0929 - val_loss: 2.3997 - val_accuracy: 0.0727\n",
      "Epoch 96/100\n",
      "31/31 [==============================] - 1s 26ms/step - loss: 2.3979 - accuracy: 0.0929 - val_loss: 2.3997 - val_accuracy: 0.0727\n",
      "Epoch 97/100\n",
      "31/31 [==============================] - 1s 26ms/step - loss: 2.3979 - accuracy: 0.0929 - val_loss: 2.3997 - val_accuracy: 0.0727\n",
      "Epoch 98/100\n",
      "31/31 [==============================] - 1s 26ms/step - loss: 2.3979 - accuracy: 0.0929 - val_loss: 2.3997 - val_accuracy: 0.0727\n",
      "Epoch 99/100\n",
      "31/31 [==============================] - 1s 26ms/step - loss: 2.3979 - accuracy: 0.0929 - val_loss: 2.3998 - val_accuracy: 0.0727\n",
      "Epoch 100/100\n",
      "31/31 [==============================] - 1s 25ms/step - loss: 2.3979 - accuracy: 0.0929 - val_loss: 2.3996 - val_accuracy: 0.0727\n",
      "35/35 [==============================] - 0s 5ms/step - loss: 2.3980 - accuracy: 0.0909\n"
     ]
    },
    {
     "data": {
      "image/png": "[encoded data removed]",
      "text/plain": [
       "<Figure size 504x432 with 2 Axes>"
      ]
     },
     "metadata": {
      "needs_background": "light"
     },
     "output_type": "display_data"
    },
    {
     "name": "stdout",
     "output_type": "stream",
     "text": [
      "Precision:0.00826\n",
      "Recall:0.0909\n",
      "F1_score:0.0152\n",
      "              precision    recall  f1-score   support\n",
      "\n",
      "           0       0.00      0.00      0.00       100\n",
      "           1       0.00      0.00      0.00       100\n",
      "           2       0.09      1.00      0.17       100\n",
      "           3       0.00      0.00      0.00       100\n",
      "           4       0.00      0.00      0.00       100\n",
      "           5       0.00      0.00      0.00       100\n",
      "           6       0.00      0.00      0.00       100\n",
      "           7       0.00      0.00      0.00       100\n",
      "           8       0.00      0.00      0.00       100\n",
      "           9       0.00      0.00      0.00       100\n",
      "          10       0.00      0.00      0.00       100\n",
      "\n",
      "    accuracy                           0.09      1100\n",
      "   macro avg       0.01      0.09      0.02      1100\n",
      "weighted avg       0.01      0.09      0.02      1100\n",
      "\n",
      "\n",
      "K-fold cross validation Accuracy: ['0.7218', '0.9736', '0.0909', '0.8209', '0.0909']\n"
     ]
    }
   ],
   "source": [
    "# 주어진 데이터를 학습 데이터와 테스트 데이터로 분리\n",
    "skf = StratifiedKFold(n_splits=5, random_state=42, shuffle=True)\n",
    "\n",
    "accuracy = []\n",
    "\n",
    "for train, validation in skf.split(x,y):\n",
    "    model = keras.Sequential()\n",
    "    model.add(Conv1D(16, 9, activation='relu', input_shape=(len(x[0]),1)))\n",
    "    model.add(Conv1D(16, 9, activation='relu'))\n",
    "    model.add(Conv1D(32, 9, activation='relu'))\n",
    "    model.add(Conv1D(32, 9, activation='relu'))\n",
    "    model.add(Conv1D(32, 9, activation='relu'))\n",
    "    model.add(Conv1D(32, 9, activation='relu'))\n",
    "    model.add(Conv1D(32, 9, activation='relu'))\n",
    "    model.add(Flatten())\n",
    "    model.add(Dense(10, activation='relu'))\n",
    "    model.add(Dense(10, activation='relu'))\n",
    "    model.add(Dense(10, activation='relu'))\n",
    "    model.add(Dense(11, activation=\"softmax\"))\n",
    "    model.compile(loss='sparse_categorical_crossentropy', optimizer='adam', metrics=['accuracy'])\n",
    "  #model.summary()\n",
    "\n",
    "  # 학습 데이터를 이용해서 학습\n",
    "    hist = model.fit(x[train], y[train], epochs=100, batch_size=128, verbose=1, validation_split=0.1)  \n",
    "\n",
    "  # 테스트 데이터를 이용해서 검증\n",
    "    k_accuracy = '%.4f' % (model.evaluate(x[validation], y[validation])[1])\n",
    "    accuracy.append(k_accuracy)\n",
    "  \n",
    "  #confusion matrix\n",
    "    y_ = model.predict(x[validation])\n",
    "    predicted = np.argmax(y_, axis = -1)\n",
    "\n",
    "    classes = ['class1', 'class2', 'class3', 'class4', 'class5', 'class6', 'class7','class8', 'class9', 'class10','class11' ]\n",
    "    conf_mat = confusion_matrix(y[validation], predicted)\n",
    "    fig, ax = plt.subplots(figsize=(7,6))\n",
    "    plt.setp(ax.get_xticklabels(), rotation=45, ha=\"right\", rotation_mode=\"anchor\")\n",
    "    plt.title('Confusion matrix')\n",
    "    plt.ylabel('Actual label')\n",
    "    plt.xlabel('Predicted label')\n",
    "    sns.heatmap(conf_mat, annot=True, fmt='d', xticklabels=classes, yticklabels=classes)\n",
    "    plt.show()\n",
    "\n",
    "  #정밀도, 재현도, f1-score\n",
    "    precision = precision_score(y[validation], predicted, average='weighted')\n",
    "    recall = recall_score(y[validation], predicted, average='weighted')\n",
    "    f1 = f1_score(y[validation], predicted, average='weighted')\n",
    "\n",
    "    print('Precision:{:.3}'.format(precision))\n",
    "    print('Recall:{:.3}'.format(recall))\n",
    "    print('F1_score:{:.3}'.format(f1))\n",
    "\n",
    "  #분류 보고서\n",
    "    print(classification_report(y[validation], predicted))\n",
    "\n",
    "# 전체 검증 결과 출력\n",
    "print('\\nK-fold cross validation Accuracy: {}'.format(accuracy))"
   ]
  },
  {
   "cell_type": "code",
   "execution_count": 23,
   "metadata": {
    "colab": {
     "base_uri": "https://localhost:8080/"
    },
    "id": "PeHHHEUhiJH5",
    "outputId": "6a2da373-e7a9-4eee-9e43-93c1f902b923"
   },
   "outputs": [
    {
     "data": {
      "text/plain": [
       "['0.7218', '0.9736', '0.0909', '0.8209', '0.0909']"
      ]
     },
     "execution_count": 23,
     "metadata": {},
     "output_type": "execute_result"
    }
   ],
   "source": [
    "accuracy"
   ]
  },
  {
   "cell_type": "code",
   "execution_count": 24,
   "metadata": {
    "colab": {
     "base_uri": "https://localhost:8080/"
    },
    "id": "dx86ejQ616uZ",
    "outputId": "802bfc0c-f28c-42ce-ed88-6b911fc3d1ab"
   },
   "outputs": [
    {
     "data": {
      "text/plain": [
       "[0.7218, 0.9736, 0.0909, 0.8209, 0.0909]"
      ]
     },
     "execution_count": 24,
     "metadata": {},
     "output_type": "execute_result"
    }
   ],
   "source": [
    "acc = list(map(float, accuracy))\n",
    "acc"
   ]
  },
  {
   "cell_type": "code",
   "execution_count": 25,
   "metadata": {
    "id": "-f4pHhxY2APw"
   },
   "outputs": [
    {
     "data": {
      "text/plain": [
       "0.53962"
      ]
     },
     "execution_count": 25,
     "metadata": {},
     "output_type": "execute_result"
    }
   ],
   "source": [
    "np.mean(acc)"
   ]
  },
  {
   "cell_type": "code",
   "execution_count": null,
   "metadata": {},
   "outputs": [],
   "source": []
  }
 ],
 "metadata": {
  "accelerator": "GPU",
  "colab": {
   "collapsed_sections": [],
   "name": "★210914_1D-CNN_4000point_8736kDa_StratifiedKfold.ipynb",
   "provenance": []
  },
  "kernelspec": {
   "display_name": "Python 3 (ipykernel)",
   "language": "python",
   "name": "python3"
  },
  "language_info": {
   "codemirror_mode": {
    "name": "ipython",
    "version": 3
   },
   "file_extension": ".py",
   "mimetype": "text/x-python",
   "name": "python",
   "nbconvert_exporter": "python",
   "pygments_lexer": "ipython3",
   "version": "3.9.7"
  }
 },
 "nbformat": 4,
 "nbformat_minor": 1
}
