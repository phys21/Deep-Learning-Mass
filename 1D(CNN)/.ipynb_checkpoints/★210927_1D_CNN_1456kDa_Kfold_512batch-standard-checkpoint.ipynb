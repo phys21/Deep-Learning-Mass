{
 "cells": [
  {
   "cell_type": "markdown",
   "metadata": {
    "id": "GavgmjDytAsf"
   },
   "source": [
    "# 데이터 로딩"
   ]
  },
  {
   "cell_type": "code",
   "execution_count": 1,
   "metadata": {
    "colab": {
     "base_uri": "https://localhost:8080/"
    },
    "id": "pUWSYQ9FNt_C",
    "outputId": "46237811-4e40-413a-9b28-e21cff94e8b8"
   },
   "outputs": [],
   "source": [
    "#from google.colab import drive\n",
    "#drive.mount('/content/drive')"
   ]
  },
  {
   "cell_type": "code",
   "execution_count": 2,
   "metadata": {},
   "outputs": [],
   "source": [
    "import warnings\n",
    "warnings.filterwarnings(action='ignore')"
   ]
  },
  {
   "cell_type": "code",
   "execution_count": 3,
   "metadata": {},
   "outputs": [],
   "source": [
    "import os\n",
    "os.environ[\"CUDA_DEVICE_ORDER\"]=\"PCI_BUS_ID\"\n",
    "os.environ[\"CUDA_VISIBLE_DEVICES\"]=\"0\""
   ]
  },
  {
   "cell_type": "code",
   "execution_count": 4,
   "metadata": {},
   "outputs": [
    {
     "name": "stderr",
     "output_type": "stream",
     "text": [
      "2021-09-28 22:45:17.623995: I tensorflow/core/platform/cpu_feature_guard.cc:142] This TensorFlow binary is optimized with oneAPI Deep Neural Network Library (oneDNN) to use the following CPU instructions in performance-critical operations:  AVX2 AVX512F FMA\n",
      "To enable them in other operations, rebuild TensorFlow with the appropriate compiler flags.\n",
      "2021-09-28 22:45:18.068479: I tensorflow/core/common_runtime/gpu/gpu_device.cc:1510] Created device /device:GPU:0 with 22308 MB memory:  -> device: 0, name: GeForce RTX 3090, pci bus id: 0000:67:00.0, compute capability: 8.6\n"
     ]
    },
    {
     "data": {
      "text/plain": [
       "[name: \"/device:CPU:0\"\n",
       " device_type: \"CPU\"\n",
       " memory_limit: 268435456\n",
       " locality {\n",
       " }\n",
       " incarnation: 7455854757702923971,\n",
       " name: \"/device:GPU:0\"\n",
       " device_type: \"GPU\"\n",
       " memory_limit: 23391698944\n",
       " locality {\n",
       "   bus_id: 1\n",
       "   links {\n",
       "   }\n",
       " }\n",
       " incarnation: 8645623665105817437\n",
       " physical_device_desc: \"device: 0, name: GeForce RTX 3090, pci bus id: 0000:67:00.0, compute capability: 8.6\"]"
      ]
     },
     "execution_count": 4,
     "metadata": {},
     "output_type": "execute_result"
    }
   ],
   "source": [
    "from tensorflow.python.client import device_lib\n",
    "device_lib.list_local_devices()"
   ]
  },
  {
   "cell_type": "code",
   "execution_count": 5,
   "metadata": {
    "id": "7tpIBpEXNpjm"
   },
   "outputs": [],
   "source": [
    "import numpy as np\n",
    "import pandas as pd\n",
    "import matplotlib.pyplot as plt"
   ]
  },
  {
   "cell_type": "code",
   "execution_count": 6,
   "metadata": {
    "colab": {
     "base_uri": "https://localhost:8080/"
    },
    "id": "EYw7FBvHs5E9",
    "outputId": "cc48b6dd-c461-48e6-f44f-81963c68fa0a",
    "scrolled": false
   },
   "outputs": [
    {
     "name": "stdout",
     "output_type": "stream",
     "text": [
      "[[26563605.75 26586823.57 26559154.41 ... 26578200.73 26568452.15\n",
      "         0.  ]\n",
      " [26563311.71 26578449.78 26604161.07 ... 26583181.8  26553689.69\n",
      "         0.  ]\n",
      " [26573384.39 26567012.87 26590611.11 ... 26567528.02 26582646.42\n",
      "         0.  ]\n",
      " ...\n",
      " [26595676.85 26564132.34 26559608.63 ... 26542331.81 26524956.42\n",
      "     50000.  ]\n",
      " [26581315.35 26601533.5  26570759.94 ... 26551103.02 26523398.07\n",
      "     50000.  ]\n",
      " [26551566.9  26577883.05 26547519.54 ... 26547884.06 26559891.5\n",
      "     50000.  ]]\n"
     ]
    }
   ],
   "source": [
    "data = pd.read_csv('210923_total_freq_with_noise_2000point_1456kDa.csv')\n",
    "df1 = data.values[:] # 문자열을 부동소수점형으로 변환한다\n",
    "print(df1)"
   ]
  },
  {
   "cell_type": "markdown",
   "metadata": {
    "id": "tZIY7CbcwW6F"
   },
   "source": [
    "# 데이터 살펴보기"
   ]
  },
  {
   "cell_type": "markdown",
   "metadata": {
    "id": "nfk1doFWnhQn"
   },
   "source": [
    "152개의 속성 값이 있고, -1 또는 1로 레이블링 되어 있다.\n",
    "\n",
    "152개 속성 값은 어떤 센서의 값을 시간을 두고 측정한 것이다."
   ]
  },
  {
   "cell_type": "code",
   "execution_count": 7,
   "metadata": {
    "colab": {
     "base_uri": "https://localhost:8080/"
    },
    "id": "smA15EaF1hmV",
    "outputId": "d90ea451-0543-43bf-d740-795fd1207c63"
   },
   "outputs": [
    {
     "name": "stdout",
     "output_type": "stream",
     "text": [
      "0           0\n",
      "1           0\n",
      "2           0\n",
      "3           0\n",
      "4           0\n",
      "        ...  \n",
      "5495    50000\n",
      "5496    50000\n",
      "5497    50000\n",
      "5498    50000\n",
      "5499    50000\n",
      "Name: target, Length: 5500, dtype: int64\n"
     ]
    }
   ],
   "source": [
    "df2_1 = data[\"target\"]\n",
    "df2 = df2_1[:]\n",
    "print(df2)"
   ]
  },
  {
   "cell_type": "code",
   "execution_count": 8,
   "metadata": {
    "colab": {
     "base_uri": "https://localhost:8080/"
    },
    "id": "ClKB2D7ZpFnL",
    "outputId": "125a2cbe-62b9-44b6-ae4a-98b068fedc2c"
   },
   "outputs": [
    {
     "name": "stdout",
     "output_type": "stream",
     "text": [
      "(array([    0,  5000, 10000, 15000, 20000, 25000, 30000, 35000, 40000,\n",
      "       45000, 50000]), array([500, 500, 500, 500, 500, 500, 500, 500, 500, 500, 500]))\n"
     ]
    }
   ],
   "source": [
    "target_count = np.unique(df2, return_counts=True)\n",
    "print(target_count)"
   ]
  },
  {
   "cell_type": "code",
   "execution_count": 9,
   "metadata": {
    "colab": {
     "base_uri": "https://localhost:8080/"
    },
    "id": "Bu3NHl9_Npjq",
    "outputId": "48d579ad-691c-4d74-d846-ffeea98d9a27"
   },
   "outputs": [
    {
     "name": "stdout",
     "output_type": "stream",
     "text": [
      "(array([    0,  5000, 10000, 15000, 20000, 25000, 30000, 35000, 40000,\n",
      "       45000, 50000]), array([500, 500, 500, 500, 500, 500, 500, 500, 500, 500, 500]))\n"
     ]
    }
   ],
   "source": [
    "target_count = np.unique(df2, return_counts=True)\n",
    "print(target_count)"
   ]
  },
  {
   "cell_type": "markdown",
   "metadata": {
    "id": "ZB0UsHjLsS1I"
   },
   "source": [
    "target값 -1, 1을 category 인덱스 0, 1로 변경"
   ]
  },
  {
   "cell_type": "code",
   "execution_count": 10,
   "metadata": {
    "colab": {
     "base_uri": "https://localhost:8080/"
    },
    "id": "C0nNKyJ4oaxo",
    "outputId": "3b9a1b1c-025e-48ce-8a28-680f9bd5c46d"
   },
   "outputs": [
    {
     "name": "stdout",
     "output_type": "stream",
     "text": [
      "(array([ 0,  1,  2,  3,  4,  5,  6,  7,  8,  9, 10]), array([500, 500, 500, 500, 500, 500, 500, 500, 500, 500, 500]))\n"
     ]
    }
   ],
   "source": [
    "df2 = df2.copy()\n",
    "df2[df2 < 5000] = 0\n",
    "df2[df2 == 5000] = 1\n",
    "df2[df2 == 10000] = 2\n",
    "df2[df2 == 15000] = 3\n",
    "df2[df2 == 20000] = 4\n",
    "df2[df2 == 25000] = 5\n",
    "df2[df2 == 30000] = 6\n",
    "df2[df2 == 35000] = 7\n",
    "df2[df2 == 40000] = 8\n",
    "df2[df2 == 45000] = 9\n",
    "df2[df2 == 50000] = 10\n",
    "\n",
    "target_count = np.unique(df2, return_counts=True)\n",
    "print(target_count)"
   ]
  },
  {
   "cell_type": "markdown",
   "metadata": {
    "id": "PAYLXje8Eq9l"
   },
   "source": [
    "# 문제 정의\n",
    "\n",
    "152개의 순차적인 센서 값을 가지고 분류한다.\n"
   ]
  },
  {
   "cell_type": "markdown",
   "metadata": {
    "id": "piqvWOOgpjHt"
   },
   "source": [
    "# 데이터 준비\n"
   ]
  },
  {
   "cell_type": "markdown",
   "metadata": {
    "id": "GD2kOh0_pmvD"
   },
   "source": [
    "## x, y 쪼개기"
   ]
  },
  {
   "cell_type": "code",
   "execution_count": 11,
   "metadata": {
    "id": "5mB3dKMYpJej"
   },
   "outputs": [],
   "source": [
    "x, y = df1[:,:-1], df2[:]"
   ]
  },
  {
   "cell_type": "code",
   "execution_count": 12,
   "metadata": {
    "colab": {
     "base_uri": "https://localhost:8080/"
    },
    "id": "UWtHOkIvpJlZ",
    "outputId": "98f0ae6c-f761-44e5-9435-bd9756ecdeb7"
   },
   "outputs": [
    {
     "name": "stdout",
     "output_type": "stream",
     "text": [
      "(5500, 4000)\n",
      "(5500,)\n"
     ]
    }
   ],
   "source": [
    "print(x.shape)\n",
    "print(y.shape)"
   ]
  },
  {
   "cell_type": "code",
   "execution_count": 13,
   "metadata": {
    "colab": {
     "base_uri": "https://localhost:8080/"
    },
    "id": "4WVNNZy3Npjt",
    "outputId": "7bb9910c-34c7-4da9-be72-1c5a150de0f2"
   },
   "outputs": [
    {
     "data": {
      "text/plain": [
       "0        0\n",
       "1        0\n",
       "2        0\n",
       "3        0\n",
       "4        0\n",
       "        ..\n",
       "5495    10\n",
       "5496    10\n",
       "5497    10\n",
       "5498    10\n",
       "5499    10\n",
       "Name: target, Length: 5500, dtype: int64"
      ]
     },
     "execution_count": 13,
     "metadata": {},
     "output_type": "execute_result"
    }
   ],
   "source": [
    "y"
   ]
  },
  {
   "cell_type": "markdown",
   "metadata": {
    "id": "DYJfroxKpoOc"
   },
   "source": [
    "## normalization"
   ]
  },
  {
   "cell_type": "code",
   "execution_count": 14,
   "metadata": {
    "colab": {
     "base_uri": "https://localhost:8080/"
    },
    "id": "0edILhqfpJrT",
    "outputId": "e1b6e56a-056f-4f40-d925-5a22fa02ca79"
   },
   "outputs": [
    {
     "name": "stdout",
     "output_type": "stream",
     "text": [
      "26471109.34 26652950.21\n",
      "0.0 1.0\n"
     ]
    }
   ],
   "source": [
    "min = np.min(x)\n",
    "max = np.max(x)\n",
    "print(min, max)\n",
    "\n",
    "x = (x-min) / (max-min)\n",
    "\n",
    "min = np.min(x)\n",
    "max = np.max(x)\n",
    "print(min, max)\n"
   ]
  },
  {
   "cell_type": "code",
   "execution_count": 15,
   "metadata": {
    "id": "CA_Fs7IhrKhv"
   },
   "outputs": [],
   "source": [
    "x = np.expand_dims(x, -1)"
   ]
  },
  {
   "cell_type": "markdown",
   "metadata": {
    "id": "YUNV4PRWp-jO"
   },
   "source": [
    "## 섞고"
   ]
  },
  {
   "cell_type": "code",
   "execution_count": 16,
   "metadata": {
    "id": "rK0FR9OOpJxL"
   },
   "outputs": [],
   "source": [
    "shuffled_index = np.random.permutation(len(x))\n",
    "x = x[shuffled_index]\n",
    "y = y.iloc[shuffled_index]\n",
    "x, y = np.array(x), np.array(y)"
   ]
  },
  {
   "cell_type": "markdown",
   "metadata": {
    "id": "RbjrYGVMqAF3"
   },
   "source": [
    "## train, test 쪼개기"
   ]
  },
  {
   "cell_type": "code",
   "execution_count": 17,
   "metadata": {
    "id": "TfPpY9jPpJz4"
   },
   "outputs": [],
   "source": [
    "#split_index = int( len(x) * 0.8 )\n",
    "#train_x, test_x = np.array(x[:split_index]), np.array(x[split_index:])\n",
    "#train_y, test_y = np.array(y[:split_index]), np.array(y[split_index:])"
   ]
  },
  {
   "cell_type": "code",
   "execution_count": 18,
   "metadata": {
    "id": "BfNSU7FdpJub"
   },
   "outputs": [],
   "source": [
    "#train_x[1].shape"
   ]
  },
  {
   "cell_type": "code",
   "execution_count": 19,
   "metadata": {
    "id": "gsqd1yWWNpju"
   },
   "outputs": [],
   "source": [
    "#train_x[1]"
   ]
  },
  {
   "cell_type": "markdown",
   "metadata": {
    "id": "3Oynfz6SqZzx"
   },
   "source": [
    "# 모델 정의"
   ]
  },
  {
   "cell_type": "code",
   "execution_count": 20,
   "metadata": {
    "id": "p0JtVB5ApJoc"
   },
   "outputs": [],
   "source": [
    "import tensorflow as tf\n",
    "from sklearn.model_selection import KFold \n",
    "from tensorflow import keras\n",
    "from tensorflow.keras import optimizers\n",
    "from tensorflow.keras.layers import Dense, Conv1D, Flatten\n",
    "from sklearn.model_selection import cross_val_score \n",
    "from sklearn.model_selection import StratifiedKFold"
   ]
  },
  {
   "cell_type": "code",
   "execution_count": 21,
   "metadata": {
    "colab": {
     "base_uri": "https://localhost:8080/",
     "height": 1000
    },
    "id": "8FTlEW4umicO",
    "outputId": "288b35af-b541-464b-9b2c-2f1ca72bc264"
   },
   "outputs": [],
   "source": [
    "from tensorflow.keras.models import Sequential\n",
    "from tensorflow.keras.layers import Dense\n",
    "#from tensorflow.keras.utils import np_utils\n",
    "import pandas as pd\n",
    "import matplotlib.pyplot as plt\n",
    "from sklearn.metrics import confusion_matrix\n",
    "import seaborn as sns\n",
    "from sklearn.metrics import precision_score, recall_score, f1_score, roc_curve\n",
    "from sklearn.metrics import classification_report\n",
    "from sklearn.model_selection import StratifiedKFold"
   ]
  },
  {
   "cell_type": "code",
   "execution_count": 22,
   "metadata": {
    "colab": {
     "base_uri": "https://localhost:8080/",
     "height": 1000
    },
    "id": "8FTlEW4umicO",
    "outputId": "288b35af-b541-464b-9b2c-2f1ca72bc264",
    "scrolled": false
   },
   "outputs": [
    {
     "name": "stderr",
     "output_type": "stream",
     "text": [
      "2021-09-28 22:45:22.462035: I tensorflow/core/common_runtime/gpu/gpu_device.cc:1510] Created device /job:localhost/replica:0/task:0/device:GPU:0 with 22308 MB memory:  -> device: 0, name: GeForce RTX 3090, pci bus id: 0000:67:00.0, compute capability: 8.6\n",
      "2021-09-28 22:45:22.994571: I tensorflow/compiler/mlir/mlir_graph_optimization_pass.cc:185] None of the MLIR Optimization Passes are enabled (registered 2)\n"
     ]
    },
    {
     "name": "stdout",
     "output_type": "stream",
     "text": [
      "Epoch 1/100\n"
     ]
    },
    {
     "name": "stderr",
     "output_type": "stream",
     "text": [
      "2021-09-28 22:45:24.025202: I tensorflow/stream_executor/cuda/cuda_dnn.cc:369] Loaded cuDNN version 8100\n",
      "2021-09-28 22:45:25.396986: I tensorflow/stream_executor/cuda/cuda_blas.cc:1760] TensorFloat-32 will be used for the matrix multiplication. This will only be logged once.\n"
     ]
    },
    {
     "name": "stdout",
     "output_type": "stream",
     "text": [
      "8/8 [==============================] - 4s 191ms/step - loss: 2.3987 - accuracy: 0.0871 - val_loss: 2.3981 - val_accuracy: 0.0636\n",
      "Epoch 2/100\n",
      "8/8 [==============================] - 1s 83ms/step - loss: 2.3979 - accuracy: 0.0949 - val_loss: 2.3983 - val_accuracy: 0.0636\n",
      "Epoch 3/100\n",
      "8/8 [==============================] - 1s 82ms/step - loss: 2.3978 - accuracy: 0.0949 - val_loss: 2.3985 - val_accuracy: 0.0636\n",
      "Epoch 4/100\n",
      "8/8 [==============================] - 1s 81ms/step - loss: 2.3978 - accuracy: 0.0949 - val_loss: 2.3987 - val_accuracy: 0.0636\n",
      "Epoch 5/100\n",
      "8/8 [==============================] - 1s 81ms/step - loss: 2.3978 - accuracy: 0.0949 - val_loss: 2.3989 - val_accuracy: 0.0636\n",
      "Epoch 6/100\n",
      "8/8 [==============================] - 1s 83ms/step - loss: 2.3978 - accuracy: 0.0949 - val_loss: 2.3990 - val_accuracy: 0.0636\n",
      "Epoch 7/100\n",
      "8/8 [==============================] - 1s 81ms/step - loss: 2.3977 - accuracy: 0.0949 - val_loss: 2.3992 - val_accuracy: 0.0636\n",
      "Epoch 8/100\n",
      "8/8 [==============================] - 1s 81ms/step - loss: 2.3977 - accuracy: 0.0949 - val_loss: 2.3993 - val_accuracy: 0.0636\n",
      "Epoch 9/100\n",
      "8/8 [==============================] - 1s 80ms/step - loss: 2.3977 - accuracy: 0.0949 - val_loss: 2.3994 - val_accuracy: 0.0636\n",
      "Epoch 10/100\n",
      "8/8 [==============================] - 1s 82ms/step - loss: 2.3977 - accuracy: 0.0949 - val_loss: 2.3995 - val_accuracy: 0.0636\n",
      "Epoch 11/100\n",
      "8/8 [==============================] - 1s 84ms/step - loss: 2.3977 - accuracy: 0.0949 - val_loss: 2.3996 - val_accuracy: 0.0636\n",
      "Epoch 12/100\n",
      "8/8 [==============================] - 1s 82ms/step - loss: 2.3977 - accuracy: 0.0949 - val_loss: 2.3996 - val_accuracy: 0.0636\n",
      "Epoch 13/100\n",
      "8/8 [==============================] - 1s 81ms/step - loss: 2.3977 - accuracy: 0.0949 - val_loss: 2.3997 - val_accuracy: 0.0636\n",
      "Epoch 14/100\n",
      "8/8 [==============================] - 1s 82ms/step - loss: 2.3977 - accuracy: 0.0949 - val_loss: 2.3998 - val_accuracy: 0.0636\n",
      "Epoch 15/100\n",
      "8/8 [==============================] - 1s 82ms/step - loss: 2.3977 - accuracy: 0.0949 - val_loss: 2.4000 - val_accuracy: 0.0636\n",
      "Epoch 16/100\n",
      "8/8 [==============================] - 1s 81ms/step - loss: 2.3977 - accuracy: 0.0949 - val_loss: 2.4000 - val_accuracy: 0.0636\n",
      "Epoch 17/100\n",
      "8/8 [==============================] - 1s 81ms/step - loss: 2.3976 - accuracy: 0.0949 - val_loss: 2.4002 - val_accuracy: 0.0636\n",
      "Epoch 18/100\n",
      "8/8 [==============================] - 1s 83ms/step - loss: 2.3976 - accuracy: 0.0949 - val_loss: 2.4002 - val_accuracy: 0.0636\n",
      "Epoch 19/100\n",
      "8/8 [==============================] - 1s 82ms/step - loss: 2.3976 - accuracy: 0.0949 - val_loss: 2.4003 - val_accuracy: 0.0636\n",
      "Epoch 20/100\n",
      "8/8 [==============================] - 1s 81ms/step - loss: 2.3976 - accuracy: 0.0949 - val_loss: 2.4003 - val_accuracy: 0.0636\n",
      "Epoch 21/100\n",
      "8/8 [==============================] - 1s 81ms/step - loss: 2.3976 - accuracy: 0.0949 - val_loss: 2.4004 - val_accuracy: 0.0636\n",
      "Epoch 22/100\n",
      "8/8 [==============================] - 1s 83ms/step - loss: 2.3976 - accuracy: 0.0949 - val_loss: 2.4005 - val_accuracy: 0.0636\n",
      "Epoch 23/100\n",
      "8/8 [==============================] - 1s 82ms/step - loss: 2.3976 - accuracy: 0.0949 - val_loss: 2.4005 - val_accuracy: 0.0636\n",
      "Epoch 24/100\n",
      "8/8 [==============================] - 1s 81ms/step - loss: 2.3976 - accuracy: 0.0949 - val_loss: 2.4006 - val_accuracy: 0.0636\n",
      "Epoch 25/100\n",
      "8/8 [==============================] - 1s 81ms/step - loss: 2.3976 - accuracy: 0.0949 - val_loss: 2.4007 - val_accuracy: 0.0636\n",
      "Epoch 26/100\n",
      "8/8 [==============================] - 1s 82ms/step - loss: 2.3976 - accuracy: 0.0949 - val_loss: 2.4008 - val_accuracy: 0.0636\n",
      "Epoch 27/100\n",
      "8/8 [==============================] - 1s 82ms/step - loss: 2.3976 - accuracy: 0.0949 - val_loss: 2.4008 - val_accuracy: 0.0636\n",
      "Epoch 28/100\n",
      "8/8 [==============================] - 1s 83ms/step - loss: 2.3976 - accuracy: 0.0949 - val_loss: 2.4009 - val_accuracy: 0.0636\n",
      "Epoch 29/100\n",
      "8/8 [==============================] - 1s 81ms/step - loss: 2.3976 - accuracy: 0.0949 - val_loss: 2.4009 - val_accuracy: 0.0636\n",
      "Epoch 30/100\n",
      "8/8 [==============================] - 1s 81ms/step - loss: 2.3976 - accuracy: 0.0949 - val_loss: 2.4010 - val_accuracy: 0.0636\n",
      "Epoch 31/100\n",
      "8/8 [==============================] - 1s 81ms/step - loss: 2.3976 - accuracy: 0.0949 - val_loss: 2.4010 - val_accuracy: 0.0636\n",
      "Epoch 32/100\n",
      "8/8 [==============================] - 1s 81ms/step - loss: 2.3976 - accuracy: 0.0949 - val_loss: 2.4010 - val_accuracy: 0.0636\n",
      "Epoch 33/100\n",
      "8/8 [==============================] - 1s 80ms/step - loss: 2.3976 - accuracy: 0.0949 - val_loss: 2.4010 - val_accuracy: 0.0636\n",
      "Epoch 34/100\n",
      "8/8 [==============================] - 1s 81ms/step - loss: 2.3976 - accuracy: 0.0949 - val_loss: 2.4011 - val_accuracy: 0.0636\n",
      "Epoch 35/100\n",
      "8/8 [==============================] - 1s 80ms/step - loss: 2.3976 - accuracy: 0.0949 - val_loss: 2.4011 - val_accuracy: 0.0636\n",
      "Epoch 36/100\n",
      "8/8 [==============================] - 1s 82ms/step - loss: 2.3976 - accuracy: 0.0949 - val_loss: 2.4011 - val_accuracy: 0.0636\n",
      "Epoch 37/100\n",
      "8/8 [==============================] - 1s 82ms/step - loss: 2.3976 - accuracy: 0.0949 - val_loss: 2.4011 - val_accuracy: 0.0636\n",
      "Epoch 38/100\n",
      "8/8 [==============================] - 1s 82ms/step - loss: 2.3976 - accuracy: 0.0949 - val_loss: 2.4011 - val_accuracy: 0.0636\n",
      "Epoch 39/100\n",
      "8/8 [==============================] - 1s 80ms/step - loss: 2.3976 - accuracy: 0.0949 - val_loss: 2.4012 - val_accuracy: 0.0636\n",
      "Epoch 40/100\n",
      "8/8 [==============================] - 1s 81ms/step - loss: 2.3976 - accuracy: 0.0949 - val_loss: 2.4012 - val_accuracy: 0.0636\n",
      "Epoch 41/100\n",
      "8/8 [==============================] - 1s 81ms/step - loss: 2.3976 - accuracy: 0.0949 - val_loss: 2.4012 - val_accuracy: 0.0636\n",
      "Epoch 42/100\n",
      "8/8 [==============================] - 1s 82ms/step - loss: 2.3976 - accuracy: 0.0949 - val_loss: 2.4012 - val_accuracy: 0.0636\n",
      "Epoch 43/100\n",
      "8/8 [==============================] - 1s 82ms/step - loss: 2.3976 - accuracy: 0.0949 - val_loss: 2.4013 - val_accuracy: 0.0636\n",
      "Epoch 44/100\n",
      "8/8 [==============================] - 1s 81ms/step - loss: 2.3976 - accuracy: 0.0949 - val_loss: 2.4012 - val_accuracy: 0.0636\n",
      "Epoch 45/100\n",
      "8/8 [==============================] - 1s 81ms/step - loss: 2.3976 - accuracy: 0.0949 - val_loss: 2.4013 - val_accuracy: 0.0636\n",
      "Epoch 46/100\n",
      "8/8 [==============================] - 1s 83ms/step - loss: 2.3976 - accuracy: 0.0949 - val_loss: 2.4013 - val_accuracy: 0.0636\n",
      "Epoch 47/100\n",
      "8/8 [==============================] - 1s 82ms/step - loss: 2.3976 - accuracy: 0.0949 - val_loss: 2.4013 - val_accuracy: 0.0636\n",
      "Epoch 48/100\n",
      "8/8 [==============================] - 1s 81ms/step - loss: 2.3976 - accuracy: 0.0949 - val_loss: 2.4013 - val_accuracy: 0.0636\n",
      "Epoch 49/100\n",
      "8/8 [==============================] - 1s 82ms/step - loss: 2.3976 - accuracy: 0.0949 - val_loss: 2.4014 - val_accuracy: 0.0636\n",
      "Epoch 50/100\n",
      "8/8 [==============================] - 1s 81ms/step - loss: 2.3976 - accuracy: 0.0949 - val_loss: 2.4014 - val_accuracy: 0.0636\n",
      "Epoch 51/100\n",
      "8/8 [==============================] - 1s 82ms/step - loss: 2.3976 - accuracy: 0.0949 - val_loss: 2.4014 - val_accuracy: 0.0636\n",
      "Epoch 52/100\n",
      "8/8 [==============================] - 1s 80ms/step - loss: 2.3976 - accuracy: 0.0949 - val_loss: 2.4014 - val_accuracy: 0.0636\n",
      "Epoch 53/100\n",
      "8/8 [==============================] - 1s 81ms/step - loss: 2.3976 - accuracy: 0.0949 - val_loss: 2.4014 - val_accuracy: 0.0636\n",
      "Epoch 54/100\n",
      "8/8 [==============================] - 1s 81ms/step - loss: 2.3976 - accuracy: 0.0949 - val_loss: 2.4014 - val_accuracy: 0.0636\n",
      "Epoch 55/100\n",
      "8/8 [==============================] - 1s 81ms/step - loss: 2.3976 - accuracy: 0.0949 - val_loss: 2.4015 - val_accuracy: 0.0636\n",
      "Epoch 56/100\n",
      "8/8 [==============================] - 1s 81ms/step - loss: 2.3976 - accuracy: 0.0949 - val_loss: 2.4015 - val_accuracy: 0.0636\n",
      "Epoch 57/100\n",
      "8/8 [==============================] - 1s 81ms/step - loss: 2.3976 - accuracy: 0.0949 - val_loss: 2.4015 - val_accuracy: 0.0636\n",
      "Epoch 58/100\n",
      "8/8 [==============================] - 1s 81ms/step - loss: 2.3976 - accuracy: 0.0949 - val_loss: 2.4015 - val_accuracy: 0.0636\n",
      "Epoch 59/100\n"
     ]
    },
    {
     "name": "stdout",
     "output_type": "stream",
     "text": [
      "8/8 [==============================] - 1s 80ms/step - loss: 2.3976 - accuracy: 0.0949 - val_loss: 2.4015 - val_accuracy: 0.0636\n",
      "Epoch 60/100\n",
      "8/8 [==============================] - 1s 83ms/step - loss: 2.3976 - accuracy: 0.0949 - val_loss: 2.4015 - val_accuracy: 0.0636\n",
      "Epoch 61/100\n",
      "8/8 [==============================] - 1s 80ms/step - loss: 2.3976 - accuracy: 0.0949 - val_loss: 2.4016 - val_accuracy: 0.0636\n",
      "Epoch 62/100\n",
      "8/8 [==============================] - 1s 81ms/step - loss: 2.3976 - accuracy: 0.0949 - val_loss: 2.4016 - val_accuracy: 0.0636\n",
      "Epoch 63/100\n",
      "8/8 [==============================] - 1s 82ms/step - loss: 2.3976 - accuracy: 0.0949 - val_loss: 2.4016 - val_accuracy: 0.0636\n",
      "Epoch 64/100\n",
      "8/8 [==============================] - 1s 82ms/step - loss: 2.3976 - accuracy: 0.0949 - val_loss: 2.4016 - val_accuracy: 0.0636\n",
      "Epoch 65/100\n",
      "8/8 [==============================] - 1s 81ms/step - loss: 2.3976 - accuracy: 0.0949 - val_loss: 2.4016 - val_accuracy: 0.0636\n",
      "Epoch 66/100\n",
      "8/8 [==============================] - 1s 81ms/step - loss: 2.3976 - accuracy: 0.0949 - val_loss: 2.4016 - val_accuracy: 0.0636\n",
      "Epoch 67/100\n",
      "8/8 [==============================] - 1s 82ms/step - loss: 2.3976 - accuracy: 0.0949 - val_loss: 2.4015 - val_accuracy: 0.0636\n",
      "Epoch 68/100\n",
      "8/8 [==============================] - 1s 80ms/step - loss: 2.3976 - accuracy: 0.0949 - val_loss: 2.4016 - val_accuracy: 0.0636\n",
      "Epoch 69/100\n",
      "8/8 [==============================] - 1s 82ms/step - loss: 2.3976 - accuracy: 0.0949 - val_loss: 2.4016 - val_accuracy: 0.0636\n",
      "Epoch 70/100\n",
      "8/8 [==============================] - 1s 83ms/step - loss: 2.3976 - accuracy: 0.0949 - val_loss: 2.4015 - val_accuracy: 0.0636\n",
      "Epoch 71/100\n",
      "8/8 [==============================] - 1s 81ms/step - loss: 2.3976 - accuracy: 0.0949 - val_loss: 2.4015 - val_accuracy: 0.0636\n",
      "Epoch 72/100\n",
      "8/8 [==============================] - 1s 82ms/step - loss: 2.3976 - accuracy: 0.0949 - val_loss: 2.4015 - val_accuracy: 0.0636\n",
      "Epoch 73/100\n",
      "8/8 [==============================] - 1s 82ms/step - loss: 2.3976 - accuracy: 0.0949 - val_loss: 2.4015 - val_accuracy: 0.0636\n",
      "Epoch 74/100\n",
      "8/8 [==============================] - 1s 81ms/step - loss: 2.3976 - accuracy: 0.0949 - val_loss: 2.4015 - val_accuracy: 0.0636\n",
      "Epoch 75/100\n",
      "8/8 [==============================] - 1s 82ms/step - loss: 2.3976 - accuracy: 0.0949 - val_loss: 2.4015 - val_accuracy: 0.0636\n",
      "Epoch 76/100\n",
      "8/8 [==============================] - 1s 82ms/step - loss: 2.3976 - accuracy: 0.0949 - val_loss: 2.4015 - val_accuracy: 0.0636\n",
      "Epoch 77/100\n",
      "8/8 [==============================] - 1s 81ms/step - loss: 2.3976 - accuracy: 0.0949 - val_loss: 2.4015 - val_accuracy: 0.0636\n",
      "Epoch 78/100\n",
      "8/8 [==============================] - 1s 81ms/step - loss: 2.3976 - accuracy: 0.0949 - val_loss: 2.4015 - val_accuracy: 0.0636\n",
      "Epoch 79/100\n",
      "8/8 [==============================] - 1s 83ms/step - loss: 2.3976 - accuracy: 0.0949 - val_loss: 2.4015 - val_accuracy: 0.0636\n",
      "Epoch 80/100\n",
      "8/8 [==============================] - 1s 81ms/step - loss: 2.3976 - accuracy: 0.0949 - val_loss: 2.4015 - val_accuracy: 0.0636\n",
      "Epoch 81/100\n",
      "8/8 [==============================] - 1s 83ms/step - loss: 2.3976 - accuracy: 0.0949 - val_loss: 2.4015 - val_accuracy: 0.0636\n",
      "Epoch 82/100\n",
      "8/8 [==============================] - 1s 83ms/step - loss: 2.3976 - accuracy: 0.0949 - val_loss: 2.4015 - val_accuracy: 0.0636\n",
      "Epoch 83/100\n",
      "8/8 [==============================] - 1s 82ms/step - loss: 2.3976 - accuracy: 0.0949 - val_loss: 2.4015 - val_accuracy: 0.0636\n",
      "Epoch 84/100\n",
      "8/8 [==============================] - 1s 82ms/step - loss: 2.3976 - accuracy: 0.0949 - val_loss: 2.4016 - val_accuracy: 0.0636\n",
      "Epoch 85/100\n",
      "8/8 [==============================] - 1s 83ms/step - loss: 2.3976 - accuracy: 0.0949 - val_loss: 2.4015 - val_accuracy: 0.0636\n",
      "Epoch 86/100\n",
      "8/8 [==============================] - 1s 82ms/step - loss: 2.3976 - accuracy: 0.0949 - val_loss: 2.4015 - val_accuracy: 0.0636\n",
      "Epoch 87/100\n",
      "8/8 [==============================] - 1s 82ms/step - loss: 2.3976 - accuracy: 0.0949 - val_loss: 2.4015 - val_accuracy: 0.0636\n",
      "Epoch 88/100\n",
      "8/8 [==============================] - 1s 83ms/step - loss: 2.3976 - accuracy: 0.0949 - val_loss: 2.4015 - val_accuracy: 0.0636\n",
      "Epoch 89/100\n",
      "8/8 [==============================] - 1s 81ms/step - loss: 2.3976 - accuracy: 0.0949 - val_loss: 2.4015 - val_accuracy: 0.0636\n",
      "Epoch 90/100\n",
      "8/8 [==============================] - 1s 83ms/step - loss: 2.3976 - accuracy: 0.0949 - val_loss: 2.4015 - val_accuracy: 0.0636\n",
      "Epoch 91/100\n",
      "8/8 [==============================] - 1s 83ms/step - loss: 2.3976 - accuracy: 0.0949 - val_loss: 2.4015 - val_accuracy: 0.0636\n",
      "Epoch 92/100\n",
      "8/8 [==============================] - 1s 81ms/step - loss: 2.3976 - accuracy: 0.0949 - val_loss: 2.4015 - val_accuracy: 0.0636\n",
      "Epoch 93/100\n",
      "8/8 [==============================] - 1s 82ms/step - loss: 2.3976 - accuracy: 0.0949 - val_loss: 2.4015 - val_accuracy: 0.0636\n",
      "Epoch 94/100\n",
      "8/8 [==============================] - 1s 81ms/step - loss: 2.3976 - accuracy: 0.0949 - val_loss: 2.4015 - val_accuracy: 0.0636\n",
      "Epoch 95/100\n",
      "8/8 [==============================] - 1s 83ms/step - loss: 2.3976 - accuracy: 0.0949 - val_loss: 2.4015 - val_accuracy: 0.0636\n",
      "Epoch 96/100\n",
      "8/8 [==============================] - 1s 81ms/step - loss: 2.3976 - accuracy: 0.0949 - val_loss: 2.4015 - val_accuracy: 0.0636\n",
      "Epoch 97/100\n",
      "8/8 [==============================] - 1s 81ms/step - loss: 2.3976 - accuracy: 0.0949 - val_loss: 2.4015 - val_accuracy: 0.0636\n",
      "Epoch 98/100\n",
      "8/8 [==============================] - 1s 84ms/step - loss: 2.3976 - accuracy: 0.0949 - val_loss: 2.4015 - val_accuracy: 0.0636\n",
      "Epoch 99/100\n",
      "8/8 [==============================] - 1s 80ms/step - loss: 2.3976 - accuracy: 0.0949 - val_loss: 2.4015 - val_accuracy: 0.0636\n",
      "Epoch 100/100\n",
      "8/8 [==============================] - 1s 82ms/step - loss: 2.3976 - accuracy: 0.0949 - val_loss: 2.4015 - val_accuracy: 0.0636\n",
      "35/35 [==============================] - 0s 6ms/step - loss: 2.3990 - accuracy: 0.0873\n"
     ]
    },
    {
     "data": {
      "image/png": "[encoded data removed]",
      "text/plain": [
       "<Figure size 504x432 with 2 Axes>"
      ]
     },
     "metadata": {
      "needs_background": "light"
     },
     "output_type": "display_data"
    },
    {
     "name": "stdout",
     "output_type": "stream",
     "text": [
      "Precision:0.00762\n",
      "Recall:0.0873\n",
      "F1_score:0.014\n",
      "              precision    recall  f1-score   support\n",
      "\n",
      "           0       0.00      0.00      0.00       101\n",
      "           1       0.00      0.00      0.00        97\n",
      "           2       0.00      0.00      0.00       106\n",
      "           3       0.00      0.00      0.00        88\n",
      "           4       0.00      0.00      0.00       105\n",
      "           5       0.00      0.00      0.00       102\n",
      "           6       0.00      0.00      0.00       109\n",
      "           7       0.00      0.00      0.00       101\n",
      "           8       0.00      0.00      0.00        94\n",
      "           9       0.00      0.00      0.00       101\n",
      "          10       0.09      1.00      0.16        96\n",
      "\n",
      "    accuracy                           0.09      1100\n",
      "   macro avg       0.01      0.09      0.01      1100\n",
      "weighted avg       0.01      0.09      0.01      1100\n",
      "\n",
      "Epoch 1/100\n",
      "8/8 [==============================] - 1s 100ms/step - loss: 2.3991 - accuracy: 0.0929 - val_loss: 2.3986 - val_accuracy: 0.0705\n",
      "Epoch 2/100\n",
      "8/8 [==============================] - 1s 84ms/step - loss: 2.3978 - accuracy: 0.0970 - val_loss: 2.3989 - val_accuracy: 0.0705\n",
      "Epoch 3/100\n",
      "8/8 [==============================] - 1s 82ms/step - loss: 2.3983 - accuracy: 0.0896 - val_loss: 2.3983 - val_accuracy: 0.0705\n",
      "Epoch 4/100\n",
      "8/8 [==============================] - 1s 84ms/step - loss: 2.3978 - accuracy: 0.0750 - val_loss: 2.3986 - val_accuracy: 0.0705\n",
      "Epoch 5/100\n",
      "8/8 [==============================] - 1s 83ms/step - loss: 2.3977 - accuracy: 0.0970 - val_loss: 2.3990 - val_accuracy: 0.0705\n",
      "Epoch 6/100\n",
      "8/8 [==============================] - 1s 83ms/step - loss: 2.3977 - accuracy: 0.0970 - val_loss: 2.3993 - val_accuracy: 0.0705\n",
      "Epoch 7/100\n",
      "8/8 [==============================] - 1s 82ms/step - loss: 2.3977 - accuracy: 0.0970 - val_loss: 2.3996 - val_accuracy: 0.0705\n",
      "Epoch 8/100\n",
      "8/8 [==============================] - 1s 84ms/step - loss: 2.3973 - accuracy: 0.0970 - val_loss: 2.4111 - val_accuracy: 0.0705\n",
      "Epoch 9/100\n",
      "8/8 [==============================] - 1s 82ms/step - loss: 2.3992 - accuracy: 0.0970 - val_loss: 2.3998 - val_accuracy: 0.0705\n",
      "Epoch 10/100\n",
      "8/8 [==============================] - 1s 82ms/step - loss: 2.3977 - accuracy: 0.0937 - val_loss: 2.3992 - val_accuracy: 0.0727\n",
      "Epoch 11/100\n",
      "8/8 [==============================] - 1s 82ms/step - loss: 2.3976 - accuracy: 0.0937 - val_loss: 2.3999 - val_accuracy: 0.0705\n",
      "Epoch 12/100\n",
      "8/8 [==============================] - 1s 81ms/step - loss: 2.3975 - accuracy: 0.0588 - val_loss: 2.4004 - val_accuracy: 0.0705\n",
      "Epoch 13/100\n",
      "8/8 [==============================] - 1s 80ms/step - loss: 2.3976 - accuracy: 0.0970 - val_loss: 2.4006 - val_accuracy: 0.0705\n",
      "Epoch 14/100\n",
      "8/8 [==============================] - 1s 81ms/step - loss: 2.3975 - accuracy: 0.0970 - val_loss: 2.4009 - val_accuracy: 0.0705\n",
      "Epoch 15/100\n",
      "8/8 [==============================] - 1s 81ms/step - loss: 2.3975 - accuracy: 0.0970 - val_loss: 2.4010 - val_accuracy: 0.0705\n",
      "Epoch 16/100\n",
      "8/8 [==============================] - 1s 80ms/step - loss: 2.3975 - accuracy: 0.0970 - val_loss: 2.4010 - val_accuracy: 0.0705\n",
      "Epoch 17/100\n",
      "8/8 [==============================] - 1s 83ms/step - loss: 2.3975 - accuracy: 0.0970 - val_loss: 2.4012 - val_accuracy: 0.0705\n",
      "Epoch 18/100\n",
      "8/8 [==============================] - 1s 80ms/step - loss: 2.3975 - accuracy: 0.0970 - val_loss: 2.4011 - val_accuracy: 0.0705\n",
      "Epoch 19/100\n",
      "8/8 [==============================] - 1s 83ms/step - loss: 2.3975 - accuracy: 0.0970 - val_loss: 2.4013 - val_accuracy: 0.0705\n",
      "Epoch 20/100\n",
      "8/8 [==============================] - 1s 81ms/step - loss: 2.3975 - accuracy: 0.0970 - val_loss: 2.4013 - val_accuracy: 0.0705\n",
      "Epoch 21/100\n",
      "8/8 [==============================] - 1s 81ms/step - loss: 2.3975 - accuracy: 0.0970 - val_loss: 2.4014 - val_accuracy: 0.0705\n",
      "Epoch 22/100\n",
      "8/8 [==============================] - 1s 82ms/step - loss: 2.3975 - accuracy: 0.0970 - val_loss: 2.4013 - val_accuracy: 0.0705\n",
      "Epoch 23/100\n",
      "8/8 [==============================] - 1s 81ms/step - loss: 2.3975 - accuracy: 0.0970 - val_loss: 2.4015 - val_accuracy: 0.0705\n",
      "Epoch 24/100\n",
      "8/8 [==============================] - 1s 82ms/step - loss: 2.3975 - accuracy: 0.0970 - val_loss: 2.4017 - val_accuracy: 0.0705\n",
      "Epoch 25/100\n",
      "8/8 [==============================] - 1s 82ms/step - loss: 2.3975 - accuracy: 0.0970 - val_loss: 2.4018 - val_accuracy: 0.0705\n",
      "Epoch 26/100\n",
      "8/8 [==============================] - 1s 82ms/step - loss: 2.3975 - accuracy: 0.0970 - val_loss: 2.4018 - val_accuracy: 0.0705\n",
      "Epoch 27/100\n",
      "8/8 [==============================] - 1s 81ms/step - loss: 2.3975 - accuracy: 0.0970 - val_loss: 2.4019 - val_accuracy: 0.0705\n",
      "Epoch 28/100\n",
      "8/8 [==============================] - 1s 82ms/step - loss: 2.3975 - accuracy: 0.0970 - val_loss: 2.4019 - val_accuracy: 0.0705\n",
      "Epoch 29/100\n",
      "8/8 [==============================] - 1s 84ms/step - loss: 2.3975 - accuracy: 0.0970 - val_loss: 2.4018 - val_accuracy: 0.0705\n",
      "Epoch 30/100\n",
      "8/8 [==============================] - 1s 81ms/step - loss: 2.3975 - accuracy: 0.0970 - val_loss: 2.4018 - val_accuracy: 0.0705\n",
      "Epoch 31/100\n",
      "8/8 [==============================] - 1s 81ms/step - loss: 2.3975 - accuracy: 0.0970 - val_loss: 2.4019 - val_accuracy: 0.0705\n",
      "Epoch 32/100\n",
      "8/8 [==============================] - 1s 80ms/step - loss: 2.3975 - accuracy: 0.0970 - val_loss: 2.4019 - val_accuracy: 0.0705\n",
      "Epoch 33/100\n",
      "8/8 [==============================] - 1s 80ms/step - loss: 2.3975 - accuracy: 0.0970 - val_loss: 2.4020 - val_accuracy: 0.0705\n",
      "Epoch 34/100\n",
      "8/8 [==============================] - 1s 80ms/step - loss: 2.3975 - accuracy: 0.0970 - val_loss: 2.4018 - val_accuracy: 0.0705\n",
      "Epoch 35/100\n",
      "8/8 [==============================] - 1s 81ms/step - loss: 2.3975 - accuracy: 0.0970 - val_loss: 2.4018 - val_accuracy: 0.0705\n",
      "Epoch 36/100\n",
      "8/8 [==============================] - 1s 80ms/step - loss: 2.3975 - accuracy: 0.0970 - val_loss: 2.4018 - val_accuracy: 0.0705\n",
      "Epoch 37/100\n",
      "8/8 [==============================] - 1s 80ms/step - loss: 2.3975 - accuracy: 0.0970 - val_loss: 2.4018 - val_accuracy: 0.0705\n",
      "Epoch 38/100\n",
      "8/8 [==============================] - 1s 81ms/step - loss: 2.3975 - accuracy: 0.0970 - val_loss: 2.4019 - val_accuracy: 0.0705\n",
      "Epoch 39/100\n",
      "8/8 [==============================] - 1s 82ms/step - loss: 2.3975 - accuracy: 0.0970 - val_loss: 2.4019 - val_accuracy: 0.0705\n",
      "Epoch 40/100\n",
      "8/8 [==============================] - 1s 82ms/step - loss: 2.3975 - accuracy: 0.0970 - val_loss: 2.4019 - val_accuracy: 0.0705\n",
      "Epoch 41/100\n",
      "8/8 [==============================] - 1s 83ms/step - loss: 2.3975 - accuracy: 0.0970 - val_loss: 2.4019 - val_accuracy: 0.0705\n",
      "Epoch 42/100\n",
      "8/8 [==============================] - 1s 80ms/step - loss: 2.3975 - accuracy: 0.0970 - val_loss: 2.4019 - val_accuracy: 0.0705\n",
      "Epoch 43/100\n",
      "8/8 [==============================] - 1s 83ms/step - loss: 2.3975 - accuracy: 0.0970 - val_loss: 2.4020 - val_accuracy: 0.0705\n",
      "Epoch 44/100\n",
      "8/8 [==============================] - 1s 82ms/step - loss: 2.3975 - accuracy: 0.0970 - val_loss: 2.4018 - val_accuracy: 0.0705\n",
      "Epoch 45/100\n",
      "8/8 [==============================] - 1s 81ms/step - loss: 2.3975 - accuracy: 0.0970 - val_loss: 2.4018 - val_accuracy: 0.0705\n",
      "Epoch 46/100\n",
      "8/8 [==============================] - 1s 81ms/step - loss: 2.3975 - accuracy: 0.0970 - val_loss: 2.4018 - val_accuracy: 0.0705\n",
      "Epoch 47/100\n",
      "8/8 [==============================] - 1s 83ms/step - loss: 2.3975 - accuracy: 0.0970 - val_loss: 2.4019 - val_accuracy: 0.0705\n",
      "Epoch 48/100\n",
      "8/8 [==============================] - 1s 81ms/step - loss: 2.3975 - accuracy: 0.0970 - val_loss: 2.4019 - val_accuracy: 0.0705\n",
      "Epoch 49/100\n",
      "8/8 [==============================] - 1s 82ms/step - loss: 2.3975 - accuracy: 0.0970 - val_loss: 2.4019 - val_accuracy: 0.0705\n",
      "Epoch 50/100\n",
      "8/8 [==============================] - 1s 82ms/step - loss: 2.3975 - accuracy: 0.0970 - val_loss: 2.4019 - val_accuracy: 0.0705\n",
      "Epoch 51/100\n",
      "8/8 [==============================] - 1s 81ms/step - loss: 2.3975 - accuracy: 0.0970 - val_loss: 2.4019 - val_accuracy: 0.0705\n",
      "Epoch 52/100\n",
      "8/8 [==============================] - 1s 81ms/step - loss: 2.3975 - accuracy: 0.0970 - val_loss: 2.4019 - val_accuracy: 0.0705\n",
      "Epoch 53/100\n"
     ]
    },
    {
     "name": "stdout",
     "output_type": "stream",
     "text": [
      "8/8 [==============================] - 1s 80ms/step - loss: 2.3975 - accuracy: 0.0970 - val_loss: 2.4019 - val_accuracy: 0.0705\n",
      "Epoch 54/100\n",
      "8/8 [==============================] - 1s 81ms/step - loss: 2.3975 - accuracy: 0.0970 - val_loss: 2.4019 - val_accuracy: 0.0705\n",
      "Epoch 55/100\n",
      "8/8 [==============================] - 1s 80ms/step - loss: 2.3975 - accuracy: 0.0970 - val_loss: 2.4019 - val_accuracy: 0.0705\n",
      "Epoch 56/100\n",
      "8/8 [==============================] - 1s 80ms/step - loss: 2.3975 - accuracy: 0.0970 - val_loss: 2.4019 - val_accuracy: 0.0705\n",
      "Epoch 57/100\n",
      "8/8 [==============================] - 1s 82ms/step - loss: 2.3975 - accuracy: 0.0970 - val_loss: 2.4019 - val_accuracy: 0.0705\n",
      "Epoch 58/100\n",
      "8/8 [==============================] - 1s 80ms/step - loss: 2.3975 - accuracy: 0.0970 - val_loss: 2.4019 - val_accuracy: 0.0705\n",
      "Epoch 59/100\n",
      "8/8 [==============================] - 1s 82ms/step - loss: 2.3975 - accuracy: 0.0970 - val_loss: 2.4020 - val_accuracy: 0.0705\n",
      "Epoch 60/100\n",
      "8/8 [==============================] - 1s 83ms/step - loss: 2.3975 - accuracy: 0.0970 - val_loss: 2.4020 - val_accuracy: 0.0705\n",
      "Epoch 61/100\n",
      "8/8 [==============================] - 1s 81ms/step - loss: 2.3975 - accuracy: 0.0970 - val_loss: 2.4019 - val_accuracy: 0.0705\n",
      "Epoch 62/100\n",
      "8/8 [==============================] - 1s 83ms/step - loss: 2.3975 - accuracy: 0.0970 - val_loss: 2.4019 - val_accuracy: 0.0705\n",
      "Epoch 63/100\n",
      "8/8 [==============================] - 1s 80ms/step - loss: 2.3975 - accuracy: 0.0970 - val_loss: 2.4019 - val_accuracy: 0.0705\n",
      "Epoch 64/100\n",
      "8/8 [==============================] - 1s 80ms/step - loss: 2.3975 - accuracy: 0.0970 - val_loss: 2.4018 - val_accuracy: 0.0705\n",
      "Epoch 65/100\n",
      "8/8 [==============================] - 1s 81ms/step - loss: 2.3975 - accuracy: 0.0970 - val_loss: 2.4018 - val_accuracy: 0.0705\n",
      "Epoch 66/100\n",
      "8/8 [==============================] - 1s 81ms/step - loss: 2.3975 - accuracy: 0.0970 - val_loss: 2.4018 - val_accuracy: 0.0705\n",
      "Epoch 67/100\n",
      "8/8 [==============================] - 1s 83ms/step - loss: 2.3975 - accuracy: 0.0970 - val_loss: 2.4019 - val_accuracy: 0.0705\n",
      "Epoch 68/100\n",
      "8/8 [==============================] - 1s 82ms/step - loss: 2.3975 - accuracy: 0.0970 - val_loss: 2.4018 - val_accuracy: 0.0705\n",
      "Epoch 69/100\n",
      "8/8 [==============================] - 1s 82ms/step - loss: 2.3975 - accuracy: 0.0970 - val_loss: 2.4018 - val_accuracy: 0.0705\n",
      "Epoch 70/100\n",
      "8/8 [==============================] - 1s 81ms/step - loss: 2.3975 - accuracy: 0.0970 - val_loss: 2.4017 - val_accuracy: 0.0705\n",
      "Epoch 71/100\n",
      "8/8 [==============================] - 1s 81ms/step - loss: 2.3975 - accuracy: 0.0970 - val_loss: 2.4018 - val_accuracy: 0.0705\n",
      "Epoch 72/100\n",
      "8/8 [==============================] - 1s 81ms/step - loss: 2.3975 - accuracy: 0.0970 - val_loss: 2.4019 - val_accuracy: 0.0705\n",
      "Epoch 73/100\n",
      "8/8 [==============================] - 1s 82ms/step - loss: 2.3975 - accuracy: 0.0970 - val_loss: 2.4019 - val_accuracy: 0.0705\n",
      "Epoch 74/100\n",
      "8/8 [==============================] - 1s 81ms/step - loss: 2.3975 - accuracy: 0.0970 - val_loss: 2.4019 - val_accuracy: 0.0705\n",
      "Epoch 75/100\n",
      "8/8 [==============================] - 1s 82ms/step - loss: 2.3975 - accuracy: 0.0970 - val_loss: 2.4018 - val_accuracy: 0.0705\n",
      "Epoch 76/100\n",
      "8/8 [==============================] - 1s 83ms/step - loss: 2.3975 - accuracy: 0.0970 - val_loss: 2.4018 - val_accuracy: 0.0705\n",
      "Epoch 77/100\n",
      "8/8 [==============================] - 1s 81ms/step - loss: 2.3975 - accuracy: 0.0970 - val_loss: 2.4019 - val_accuracy: 0.0705\n",
      "Epoch 78/100\n",
      "8/8 [==============================] - 1s 82ms/step - loss: 2.3975 - accuracy: 0.0970 - val_loss: 2.4019 - val_accuracy: 0.0705\n",
      "Epoch 79/100\n",
      "8/8 [==============================] - 1s 81ms/step - loss: 2.3975 - accuracy: 0.0970 - val_loss: 2.4019 - val_accuracy: 0.0705\n",
      "Epoch 80/100\n",
      "8/8 [==============================] - 1s 81ms/step - loss: 2.3975 - accuracy: 0.0970 - val_loss: 2.4019 - val_accuracy: 0.0705\n",
      "Epoch 81/100\n",
      "8/8 [==============================] - 1s 83ms/step - loss: 2.3975 - accuracy: 0.0970 - val_loss: 2.4020 - val_accuracy: 0.0705\n",
      "Epoch 82/100\n",
      "8/8 [==============================] - 1s 81ms/step - loss: 2.3975 - accuracy: 0.0970 - val_loss: 2.4021 - val_accuracy: 0.0705\n",
      "Epoch 83/100\n",
      "8/8 [==============================] - 1s 80ms/step - loss: 2.3975 - accuracy: 0.0970 - val_loss: 2.4020 - val_accuracy: 0.0705\n",
      "Epoch 84/100\n",
      "8/8 [==============================] - 1s 80ms/step - loss: 2.3975 - accuracy: 0.0970 - val_loss: 2.4020 - val_accuracy: 0.0705\n",
      "Epoch 85/100\n",
      "8/8 [==============================] - 1s 80ms/step - loss: 2.3975 - accuracy: 0.0970 - val_loss: 2.4021 - val_accuracy: 0.0705\n",
      "Epoch 86/100\n",
      "8/8 [==============================] - 1s 80ms/step - loss: 2.3975 - accuracy: 0.0970 - val_loss: 2.4021 - val_accuracy: 0.0705\n",
      "Epoch 87/100\n",
      "8/8 [==============================] - 1s 83ms/step - loss: 2.3975 - accuracy: 0.0970 - val_loss: 2.4019 - val_accuracy: 0.0705\n",
      "Epoch 88/100\n",
      "8/8 [==============================] - 1s 82ms/step - loss: 2.3975 - accuracy: 0.0970 - val_loss: 2.4020 - val_accuracy: 0.0705\n",
      "Epoch 89/100\n",
      "8/8 [==============================] - 1s 81ms/step - loss: 2.3975 - accuracy: 0.0970 - val_loss: 2.4019 - val_accuracy: 0.0705\n",
      "Epoch 90/100\n",
      "8/8 [==============================] - 1s 83ms/step - loss: 2.3975 - accuracy: 0.0970 - val_loss: 2.4020 - val_accuracy: 0.0705\n",
      "Epoch 91/100\n",
      "8/8 [==============================] - 1s 80ms/step - loss: 2.3975 - accuracy: 0.0970 - val_loss: 2.4020 - val_accuracy: 0.0705\n",
      "Epoch 92/100\n",
      "8/8 [==============================] - 1s 82ms/step - loss: 2.3975 - accuracy: 0.0970 - val_loss: 2.4021 - val_accuracy: 0.0705\n",
      "Epoch 93/100\n",
      "8/8 [==============================] - 1s 80ms/step - loss: 2.3975 - accuracy: 0.0970 - val_loss: 2.4022 - val_accuracy: 0.0705\n",
      "Epoch 94/100\n",
      "8/8 [==============================] - 1s 84ms/step - loss: 2.3975 - accuracy: 0.0970 - val_loss: 2.4021 - val_accuracy: 0.0705\n",
      "Epoch 95/100\n",
      "8/8 [==============================] - 1s 82ms/step - loss: 2.3975 - accuracy: 0.0970 - val_loss: 2.4022 - val_accuracy: 0.0705\n",
      "Epoch 96/100\n",
      "8/8 [==============================] - 1s 82ms/step - loss: 2.3975 - accuracy: 0.0970 - val_loss: 2.4021 - val_accuracy: 0.0705\n",
      "Epoch 97/100\n",
      "8/8 [==============================] - 1s 82ms/step - loss: 2.3975 - accuracy: 0.0970 - val_loss: 2.4021 - val_accuracy: 0.0705\n",
      "Epoch 98/100\n",
      "8/8 [==============================] - 1s 84ms/step - loss: 2.3975 - accuracy: 0.0970 - val_loss: 2.4020 - val_accuracy: 0.0705\n",
      "Epoch 99/100\n",
      "8/8 [==============================] - 1s 83ms/step - loss: 2.3975 - accuracy: 0.0970 - val_loss: 2.4020 - val_accuracy: 0.0705\n",
      "Epoch 100/100\n",
      "8/8 [==============================] - 1s 84ms/step - loss: 2.3975 - accuracy: 0.0970 - val_loss: 2.4020 - val_accuracy: 0.0705\n",
      "35/35 [==============================] - 0s 5ms/step - loss: 2.4001 - accuracy: 0.0773\n"
     ]
    },
    {
     "data": {
      "image/png": "[encoded data removed]",
      "text/plain": [
       "<Figure size 504x432 with 2 Axes>"
      ]
     },
     "metadata": {
      "needs_background": "light"
     },
     "output_type": "display_data"
    },
    {
     "name": "stdout",
     "output_type": "stream",
     "text": [
      "Precision:0.00597\n",
      "Recall:0.0773\n",
      "F1_score:0.0111\n",
      "              precision    recall  f1-score   support\n",
      "\n",
      "           0       0.00      0.00      0.00       104\n",
      "           1       0.00      0.00      0.00        92\n",
      "           2       0.08      1.00      0.14        85\n",
      "           3       0.00      0.00      0.00        91\n",
      "           4       0.00      0.00      0.00        99\n",
      "           5       0.00      0.00      0.00       111\n",
      "           6       0.00      0.00      0.00       105\n",
      "           7       0.00      0.00      0.00       106\n",
      "           8       0.00      0.00      0.00       101\n",
      "           9       0.00      0.00      0.00       109\n",
      "          10       0.00      0.00      0.00        97\n",
      "\n",
      "    accuracy                           0.08      1100\n",
      "   macro avg       0.01      0.09      0.01      1100\n",
      "weighted avg       0.01      0.08      0.01      1100\n",
      "\n",
      "Epoch 1/100\n",
      "8/8 [==============================] - 1s 123ms/step - loss: 2.3982 - accuracy: 0.0944 - val_loss: 2.3981 - val_accuracy: 0.0886\n",
      "Epoch 2/100\n",
      "8/8 [==============================] - 1s 84ms/step - loss: 2.3934 - accuracy: 0.0902 - val_loss: 2.3753 - val_accuracy: 0.1045\n",
      "Epoch 3/100\n",
      "8/8 [==============================] - 1s 82ms/step - loss: 2.3291 - accuracy: 0.0917 - val_loss: 2.2698 - val_accuracy: 0.1136\n",
      "Epoch 4/100\n",
      "8/8 [==============================] - 1s 84ms/step - loss: 2.2528 - accuracy: 0.1013 - val_loss: 2.2158 - val_accuracy: 0.1818\n",
      "Epoch 5/100\n",
      "8/8 [==============================] - 1s 85ms/step - loss: 2.2027 - accuracy: 0.1215 - val_loss: 2.1580 - val_accuracy: 0.1500\n",
      "Epoch 6/100\n",
      "8/8 [==============================] - 1s 85ms/step - loss: 2.1503 - accuracy: 0.1258 - val_loss: 2.0929 - val_accuracy: 0.2205\n",
      "Epoch 7/100\n",
      "8/8 [==============================] - 1s 84ms/step - loss: 2.0843 - accuracy: 0.1939 - val_loss: 2.0624 - val_accuracy: 0.2000\n",
      "Epoch 8/100\n",
      "8/8 [==============================] - 1s 83ms/step - loss: 2.0570 - accuracy: 0.2038 - val_loss: 2.1243 - val_accuracy: 0.1977\n",
      "Epoch 9/100\n",
      "8/8 [==============================] - 1s 84ms/step - loss: 2.0220 - accuracy: 0.1798 - val_loss: 2.0038 - val_accuracy: 0.2886\n",
      "Epoch 10/100\n",
      "8/8 [==============================] - 1s 82ms/step - loss: 1.9598 - accuracy: 0.2614 - val_loss: 1.9562 - val_accuracy: 0.2886\n",
      "Epoch 11/100\n",
      "8/8 [==============================] - 1s 83ms/step - loss: 1.9223 - accuracy: 0.2596 - val_loss: 1.9015 - val_accuracy: 0.2864\n",
      "Epoch 12/100\n",
      "8/8 [==============================] - 1s 84ms/step - loss: 1.8530 - accuracy: 0.3051 - val_loss: 1.8359 - val_accuracy: 0.2523\n",
      "Epoch 13/100\n",
      "8/8 [==============================] - 1s 84ms/step - loss: 1.8108 - accuracy: 0.3199 - val_loss: 1.9865 - val_accuracy: 0.2523\n",
      "Epoch 14/100\n",
      "8/8 [==============================] - 1s 85ms/step - loss: 2.0061 - accuracy: 0.2609 - val_loss: 2.0079 - val_accuracy: 0.2091\n",
      "Epoch 15/100\n",
      "8/8 [==============================] - 1s 85ms/step - loss: 1.8628 - accuracy: 0.3056 - val_loss: 1.7637 - val_accuracy: 0.4114\n",
      "Epoch 16/100\n",
      "8/8 [==============================] - 1s 83ms/step - loss: 1.7491 - accuracy: 0.3609 - val_loss: 1.6855 - val_accuracy: 0.3591\n",
      "Epoch 17/100\n",
      "8/8 [==============================] - 1s 83ms/step - loss: 1.6090 - accuracy: 0.4106 - val_loss: 1.5107 - val_accuracy: 0.4500\n",
      "Epoch 18/100\n",
      "8/8 [==============================] - 1s 82ms/step - loss: 1.6080 - accuracy: 0.3818 - val_loss: 1.7570 - val_accuracy: 0.3159\n",
      "Epoch 19/100\n",
      "8/8 [==============================] - 1s 82ms/step - loss: 1.4967 - accuracy: 0.4586 - val_loss: 1.4602 - val_accuracy: 0.4614\n",
      "Epoch 20/100\n",
      "8/8 [==============================] - 1s 84ms/step - loss: 1.3995 - accuracy: 0.4811 - val_loss: 1.3041 - val_accuracy: 0.5591\n",
      "Epoch 21/100\n",
      "8/8 [==============================] - 1s 83ms/step - loss: 1.2955 - accuracy: 0.5455 - val_loss: 1.5160 - val_accuracy: 0.5114\n",
      "Epoch 22/100\n",
      "8/8 [==============================] - 1s 82ms/step - loss: 1.3721 - accuracy: 0.4785 - val_loss: 1.1518 - val_accuracy: 0.6227\n",
      "Epoch 23/100\n",
      "8/8 [==============================] - 1s 84ms/step - loss: 1.1506 - accuracy: 0.6066 - val_loss: 1.0950 - val_accuracy: 0.6318\n",
      "Epoch 24/100\n",
      "8/8 [==============================] - 1s 84ms/step - loss: 1.1749 - accuracy: 0.5715 - val_loss: 2.8259 - val_accuracy: 0.2091\n",
      "Epoch 25/100\n",
      "8/8 [==============================] - 1s 84ms/step - loss: 1.9645 - accuracy: 0.3025 - val_loss: 1.5568 - val_accuracy: 0.3545\n",
      "Epoch 26/100\n",
      "8/8 [==============================] - 1s 85ms/step - loss: 1.4357 - accuracy: 0.4359 - val_loss: 1.2917 - val_accuracy: 0.5545\n",
      "Epoch 27/100\n",
      "8/8 [==============================] - 1s 84ms/step - loss: 1.2711 - accuracy: 0.5490 - val_loss: 1.2096 - val_accuracy: 0.5864\n",
      "Epoch 28/100\n",
      "8/8 [==============================] - 1s 84ms/step - loss: 1.1647 - accuracy: 0.5932 - val_loss: 1.2153 - val_accuracy: 0.5432\n",
      "Epoch 29/100\n",
      "8/8 [==============================] - 1s 85ms/step - loss: 1.0916 - accuracy: 0.6000 - val_loss: 1.0556 - val_accuracy: 0.6273\n",
      "Epoch 30/100\n",
      "8/8 [==============================] - 1s 83ms/step - loss: 1.0061 - accuracy: 0.6338 - val_loss: 1.0073 - val_accuracy: 0.6273\n",
      "Epoch 31/100\n",
      "8/8 [==============================] - 1s 83ms/step - loss: 0.9655 - accuracy: 0.6366 - val_loss: 0.9795 - val_accuracy: 0.6409\n",
      "Epoch 32/100\n",
      "8/8 [==============================] - 1s 82ms/step - loss: 0.9734 - accuracy: 0.6306 - val_loss: 0.9587 - val_accuracy: 0.6341\n",
      "Epoch 33/100\n",
      "8/8 [==============================] - 1s 83ms/step - loss: 0.9265 - accuracy: 0.6404 - val_loss: 0.9807 - val_accuracy: 0.6341\n",
      "Epoch 34/100\n",
      "8/8 [==============================] - 1s 86ms/step - loss: 0.9061 - accuracy: 0.6379 - val_loss: 0.9308 - val_accuracy: 0.6386\n",
      "Epoch 35/100\n",
      "8/8 [==============================] - 1s 84ms/step - loss: 0.8947 - accuracy: 0.6475 - val_loss: 1.0345 - val_accuracy: 0.6045\n",
      "Epoch 36/100\n",
      "8/8 [==============================] - 1s 85ms/step - loss: 0.9133 - accuracy: 0.6348 - val_loss: 0.9339 - val_accuracy: 0.6341\n",
      "Epoch 37/100\n",
      "8/8 [==============================] - 1s 83ms/step - loss: 0.8968 - accuracy: 0.6404 - val_loss: 0.9372 - val_accuracy: 0.6295\n",
      "Epoch 38/100\n",
      "8/8 [==============================] - 1s 83ms/step - loss: 0.9427 - accuracy: 0.6278 - val_loss: 1.4940 - val_accuracy: 0.5000\n",
      "Epoch 39/100\n",
      "8/8 [==============================] - 1s 85ms/step - loss: 2.8980 - accuracy: 0.2417 - val_loss: 1.4418 - val_accuracy: 0.3795\n",
      "Epoch 40/100\n",
      "8/8 [==============================] - 1s 84ms/step - loss: 1.4840 - accuracy: 0.4548 - val_loss: 1.6113 - val_accuracy: 0.3545\n",
      "Epoch 41/100\n",
      "8/8 [==============================] - 1s 84ms/step - loss: 1.4154 - accuracy: 0.4414 - val_loss: 1.3984 - val_accuracy: 0.5023\n",
      "Epoch 42/100\n",
      "8/8 [==============================] - 1s 84ms/step - loss: 1.3011 - accuracy: 0.5391 - val_loss: 1.2080 - val_accuracy: 0.6227\n",
      "Epoch 43/100\n",
      "8/8 [==============================] - 1s 83ms/step - loss: 1.1838 - accuracy: 0.5871 - val_loss: 1.1370 - val_accuracy: 0.6318\n",
      "Epoch 44/100\n",
      "8/8 [==============================] - 1s 85ms/step - loss: 1.0762 - accuracy: 0.6205 - val_loss: 1.0248 - val_accuracy: 0.6318\n",
      "Epoch 45/100\n",
      "8/8 [==============================] - 1s 83ms/step - loss: 0.9821 - accuracy: 0.6356 - val_loss: 0.9629 - val_accuracy: 0.6364\n",
      "Epoch 46/100\n",
      "8/8 [==============================] - 1s 83ms/step - loss: 0.9320 - accuracy: 0.6439 - val_loss: 0.9395 - val_accuracy: 0.6295\n",
      "Epoch 47/100\n",
      "8/8 [==============================] - 1s 83ms/step - loss: 0.8739 - accuracy: 0.6472 - val_loss: 0.8897 - val_accuracy: 0.6364\n",
      "Epoch 48/100\n",
      "8/8 [==============================] - 1s 84ms/step - loss: 0.8411 - accuracy: 0.6492 - val_loss: 0.8676 - val_accuracy: 0.6455\n",
      "Epoch 49/100\n",
      "8/8 [==============================] - 1s 85ms/step - loss: 0.8193 - accuracy: 0.6528 - val_loss: 0.8551 - val_accuracy: 0.6500\n",
      "Epoch 50/100\n",
      "8/8 [==============================] - 1s 83ms/step - loss: 0.7960 - accuracy: 0.6699 - val_loss: 0.8424 - val_accuracy: 0.6568\n",
      "Epoch 51/100\n",
      "8/8 [==============================] - 1s 85ms/step - loss: 0.7832 - accuracy: 0.6725 - val_loss: 0.8177 - val_accuracy: 0.6659\n",
      "Epoch 52/100\n",
      "8/8 [==============================] - 1s 84ms/step - loss: 0.7698 - accuracy: 0.6654 - val_loss: 0.8084 - val_accuracy: 0.6614\n",
      "Epoch 53/100\n"
     ]
    },
    {
     "name": "stdout",
     "output_type": "stream",
     "text": [
      "8/8 [==============================] - 1s 85ms/step - loss: 0.7598 - accuracy: 0.6659 - val_loss: 0.8594 - val_accuracy: 0.6341\n",
      "Epoch 54/100\n",
      "8/8 [==============================] - 1s 84ms/step - loss: 0.7796 - accuracy: 0.6644 - val_loss: 0.8797 - val_accuracy: 0.6386\n",
      "Epoch 55/100\n",
      "8/8 [==============================] - 1s 83ms/step - loss: 0.8069 - accuracy: 0.6513 - val_loss: 0.9046 - val_accuracy: 0.6545\n",
      "Epoch 56/100\n",
      "8/8 [==============================] - 1s 82ms/step - loss: 0.7895 - accuracy: 0.6588 - val_loss: 0.8007 - val_accuracy: 0.6864\n",
      "Epoch 57/100\n",
      "8/8 [==============================] - 1s 84ms/step - loss: 0.7887 - accuracy: 0.6727 - val_loss: 0.8186 - val_accuracy: 0.6614\n",
      "Epoch 58/100\n",
      "8/8 [==============================] - 1s 85ms/step - loss: 0.7578 - accuracy: 0.6758 - val_loss: 0.8981 - val_accuracy: 0.6545\n",
      "Epoch 59/100\n",
      "8/8 [==============================] - 1s 84ms/step - loss: 0.7890 - accuracy: 0.6664 - val_loss: 0.8516 - val_accuracy: 0.6477\n",
      "Epoch 60/100\n",
      "8/8 [==============================] - 1s 84ms/step - loss: 0.9493 - accuracy: 0.6139 - val_loss: 0.7828 - val_accuracy: 0.6886\n",
      "Epoch 61/100\n",
      "8/8 [==============================] - 1s 83ms/step - loss: 0.8758 - accuracy: 0.6407 - val_loss: 0.7989 - val_accuracy: 0.6773\n",
      "Epoch 62/100\n",
      "8/8 [==============================] - 1s 84ms/step - loss: 0.7340 - accuracy: 0.6866 - val_loss: 0.7633 - val_accuracy: 0.6909\n",
      "Epoch 63/100\n",
      "8/8 [==============================] - 1s 83ms/step - loss: 0.7112 - accuracy: 0.6985 - val_loss: 0.7588 - val_accuracy: 0.6886\n",
      "Epoch 64/100\n",
      "8/8 [==============================] - 1s 83ms/step - loss: 0.7018 - accuracy: 0.7093 - val_loss: 0.7723 - val_accuracy: 0.6818\n",
      "Epoch 65/100\n",
      "8/8 [==============================] - 1s 84ms/step - loss: 0.7087 - accuracy: 0.7068 - val_loss: 0.7862 - val_accuracy: 0.6841\n",
      "Epoch 66/100\n",
      "8/8 [==============================] - 1s 85ms/step - loss: 0.7017 - accuracy: 0.6997 - val_loss: 0.7486 - val_accuracy: 0.7000\n",
      "Epoch 67/100\n",
      "8/8 [==============================] - 1s 85ms/step - loss: 0.6897 - accuracy: 0.7169 - val_loss: 0.7320 - val_accuracy: 0.7091\n",
      "Epoch 68/100\n",
      "8/8 [==============================] - 1s 85ms/step - loss: 0.6854 - accuracy: 0.7182 - val_loss: 0.7201 - val_accuracy: 0.7023\n",
      "Epoch 69/100\n",
      "8/8 [==============================] - 1s 82ms/step - loss: 0.6839 - accuracy: 0.7152 - val_loss: 0.7864 - val_accuracy: 0.6909\n",
      "Epoch 70/100\n",
      "8/8 [==============================] - 1s 84ms/step - loss: 0.6819 - accuracy: 0.7157 - val_loss: 0.8539 - val_accuracy: 0.6818\n",
      "Epoch 71/100\n",
      "8/8 [==============================] - 1s 83ms/step - loss: 0.6817 - accuracy: 0.7157 - val_loss: 0.7434 - val_accuracy: 0.6977\n",
      "Epoch 72/100\n",
      "8/8 [==============================] - 1s 83ms/step - loss: 0.6542 - accuracy: 0.7212 - val_loss: 0.7304 - val_accuracy: 0.7114\n",
      "Epoch 73/100\n",
      "8/8 [==============================] - 1s 83ms/step - loss: 0.6495 - accuracy: 0.7205 - val_loss: 0.7248 - val_accuracy: 0.7091\n",
      "Epoch 74/100\n",
      "8/8 [==============================] - 1s 84ms/step - loss: 0.6441 - accuracy: 0.7250 - val_loss: 0.7089 - val_accuracy: 0.6955\n",
      "Epoch 75/100\n",
      "8/8 [==============================] - 1s 83ms/step - loss: 0.6923 - accuracy: 0.7068 - val_loss: 1.5810 - val_accuracy: 0.4727\n",
      "Epoch 76/100\n",
      "8/8 [==============================] - 1s 83ms/step - loss: 4.3907 - accuracy: 0.2323 - val_loss: 2.9219 - val_accuracy: 0.0205\n",
      "Epoch 77/100\n",
      "8/8 [==============================] - 1s 82ms/step - loss: 2.3808 - accuracy: 0.1657 - val_loss: 1.8055 - val_accuracy: 0.2205\n",
      "Epoch 78/100\n",
      "8/8 [==============================] - 1s 84ms/step - loss: 1.6988 - accuracy: 0.2790 - val_loss: 1.5449 - val_accuracy: 0.4750\n",
      "Epoch 79/100\n",
      "8/8 [==============================] - 1s 85ms/step - loss: 1.5244 - accuracy: 0.4356 - val_loss: 1.4893 - val_accuracy: 0.4273\n",
      "Epoch 80/100\n",
      "8/8 [==============================] - 1s 83ms/step - loss: 1.3942 - accuracy: 0.4437 - val_loss: 1.3188 - val_accuracy: 0.4273\n",
      "Epoch 81/100\n",
      "8/8 [==============================] - 1s 84ms/step - loss: 1.2255 - accuracy: 0.4793 - val_loss: 1.1469 - val_accuracy: 0.6045\n",
      "Epoch 82/100\n",
      "8/8 [==============================] - 1s 83ms/step - loss: 1.0503 - accuracy: 0.6646 - val_loss: 0.9974 - val_accuracy: 0.6750\n",
      "Epoch 83/100\n",
      "8/8 [==============================] - 1s 83ms/step - loss: 0.9149 - accuracy: 0.7035 - val_loss: 0.8981 - val_accuracy: 0.6682\n",
      "Epoch 84/100\n",
      "8/8 [==============================] - 1s 84ms/step - loss: 0.8538 - accuracy: 0.6710 - val_loss: 0.8782 - val_accuracy: 0.6523\n",
      "Epoch 85/100\n",
      "8/8 [==============================] - 1s 83ms/step - loss: 0.7902 - accuracy: 0.6790 - val_loss: 0.7804 - val_accuracy: 0.6977\n",
      "Epoch 86/100\n",
      "8/8 [==============================] - 1s 85ms/step - loss: 0.7315 - accuracy: 0.7141 - val_loss: 0.7527 - val_accuracy: 0.7000\n",
      "Epoch 87/100\n",
      "8/8 [==============================] - 1s 83ms/step - loss: 0.6991 - accuracy: 0.7215 - val_loss: 0.7274 - val_accuracy: 0.7159\n",
      "Epoch 88/100\n",
      "8/8 [==============================] - 1s 86ms/step - loss: 0.6795 - accuracy: 0.7268 - val_loss: 0.7221 - val_accuracy: 0.7091\n",
      "Epoch 89/100\n",
      "8/8 [==============================] - 1s 85ms/step - loss: 0.6568 - accuracy: 0.7275 - val_loss: 0.7065 - val_accuracy: 0.7091\n",
      "Epoch 90/100\n",
      "8/8 [==============================] - 1s 83ms/step - loss: 0.6450 - accuracy: 0.7283 - val_loss: 0.7170 - val_accuracy: 0.7114\n",
      "Epoch 91/100\n",
      "8/8 [==============================] - 1s 85ms/step - loss: 0.6377 - accuracy: 0.7270 - val_loss: 0.7183 - val_accuracy: 0.6886\n",
      "Epoch 92/100\n",
      "8/8 [==============================] - 1s 83ms/step - loss: 0.6410 - accuracy: 0.7230 - val_loss: 0.6893 - val_accuracy: 0.7114\n",
      "Epoch 93/100\n",
      "8/8 [==============================] - 1s 83ms/step - loss: 0.6275 - accuracy: 0.7210 - val_loss: 0.7302 - val_accuracy: 0.7000\n",
      "Epoch 94/100\n",
      "8/8 [==============================] - 1s 83ms/step - loss: 0.6437 - accuracy: 0.7131 - val_loss: 0.7361 - val_accuracy: 0.7227\n",
      "Epoch 95/100\n",
      "8/8 [==============================] - 1s 83ms/step - loss: 0.6415 - accuracy: 0.7136 - val_loss: 0.7757 - val_accuracy: 0.6659\n",
      "Epoch 96/100\n",
      "8/8 [==============================] - 1s 84ms/step - loss: 0.7977 - accuracy: 0.6545 - val_loss: 0.8537 - val_accuracy: 0.6523\n",
      "Epoch 97/100\n",
      "8/8 [==============================] - 1s 85ms/step - loss: 0.8537 - accuracy: 0.6482 - val_loss: 0.7667 - val_accuracy: 0.6636\n",
      "Epoch 98/100\n",
      "8/8 [==============================] - 1s 84ms/step - loss: 0.7608 - accuracy: 0.6566 - val_loss: 1.2642 - val_accuracy: 0.5432\n",
      "Epoch 99/100\n",
      "8/8 [==============================] - 1s 84ms/step - loss: 0.8439 - accuracy: 0.6303 - val_loss: 0.8799 - val_accuracy: 0.6159\n",
      "Epoch 100/100\n",
      "8/8 [==============================] - 1s 82ms/step - loss: 0.7077 - accuracy: 0.6806 - val_loss: 0.6882 - val_accuracy: 0.6909\n",
      "35/35 [==============================] - 0s 5ms/step - loss: 0.7238 - accuracy: 0.6700\n"
     ]
    },
    {
     "data": {
      "image/png": "[encoded data removed]",
      "text/plain": [
       "<Figure size 504x432 with 2 Axes>"
      ]
     },
     "metadata": {
      "needs_background": "light"
     },
     "output_type": "display_data"
    },
    {
     "name": "stdout",
     "output_type": "stream",
     "text": [
      "Precision:0.635\n",
      "Recall:0.67\n",
      "F1_score:0.611\n",
      "              precision    recall  f1-score   support\n",
      "\n",
      "           0       0.00      0.00      0.00        96\n",
      "           1       0.00      0.00      0.00       110\n",
      "           2       0.26      1.00      0.41       114\n",
      "           3       0.33      0.01      0.02       126\n",
      "           4       0.89      0.97      0.93        90\n",
      "           5       1.00      0.88      0.93        98\n",
      "           6       0.94      1.00      0.97        89\n",
      "           7       0.96      0.95      0.95        95\n",
      "           8       1.00      0.92      0.96        92\n",
      "           9       0.91      1.00      0.95        79\n",
      "          10       1.00      0.95      0.98       111\n",
      "\n",
      "    accuracy                           0.67      1100\n",
      "   macro avg       0.66      0.70      0.64      1100\n",
      "weighted avg       0.63      0.67      0.61      1100\n",
      "\n",
      "Epoch 1/100\n",
      "8/8 [==============================] - 1s 101ms/step - loss: 2.3989 - accuracy: 0.0967 - val_loss: 2.3943 - val_accuracy: 0.1000\n",
      "Epoch 2/100\n",
      "8/8 [==============================] - 1s 85ms/step - loss: 2.3946 - accuracy: 0.0836 - val_loss: 2.3803 - val_accuracy: 0.1000\n",
      "Epoch 3/100\n",
      "8/8 [==============================] - 1s 83ms/step - loss: 2.3535 - accuracy: 0.0563 - val_loss: 2.3385 - val_accuracy: 0.1000\n",
      "Epoch 4/100\n",
      "8/8 [==============================] - 1s 84ms/step - loss: 2.3272 - accuracy: 0.0631 - val_loss: 2.2668 - val_accuracy: 0.1000\n",
      "Epoch 5/100\n",
      "8/8 [==============================] - 1s 82ms/step - loss: 2.2791 - accuracy: 0.0649 - val_loss: 2.2647 - val_accuracy: 0.0750\n",
      "Epoch 6/100\n",
      "8/8 [==============================] - 1s 84ms/step - loss: 2.2155 - accuracy: 0.0788 - val_loss: 2.1595 - val_accuracy: 0.1000\n",
      "Epoch 7/100\n",
      "8/8 [==============================] - 1s 83ms/step - loss: 2.1526 - accuracy: 0.0899 - val_loss: 2.1062 - val_accuracy: 0.1000\n",
      "Epoch 8/100\n",
      "8/8 [==============================] - 1s 83ms/step - loss: 2.0995 - accuracy: 0.0896 - val_loss: 2.0529 - val_accuracy: 0.1932\n",
      "Epoch 9/100\n",
      "8/8 [==============================] - 1s 83ms/step - loss: 2.0541 - accuracy: 0.1755 - val_loss: 2.0031 - val_accuracy: 0.1955\n",
      "Epoch 10/100\n",
      "8/8 [==============================] - 1s 84ms/step - loss: 2.0066 - accuracy: 0.1773 - val_loss: 1.9696 - val_accuracy: 0.1864\n",
      "Epoch 11/100\n",
      "8/8 [==============================] - 1s 86ms/step - loss: 1.9793 - accuracy: 0.1672 - val_loss: 1.9481 - val_accuracy: 0.1477\n",
      "Epoch 12/100\n",
      "8/8 [==============================] - 1s 85ms/step - loss: 1.9257 - accuracy: 0.1765 - val_loss: 1.8677 - val_accuracy: 0.2636\n",
      "Epoch 13/100\n",
      "8/8 [==============================] - 1s 87ms/step - loss: 1.8596 - accuracy: 0.2631 - val_loss: 1.8083 - val_accuracy: 0.2636\n",
      "Epoch 14/100\n",
      "8/8 [==============================] - 1s 84ms/step - loss: 1.7980 - accuracy: 0.2598 - val_loss: 1.8042 - val_accuracy: 0.2091\n",
      "Epoch 15/100\n",
      "8/8 [==============================] - 1s 84ms/step - loss: 1.7376 - accuracy: 0.2492 - val_loss: 1.6625 - val_accuracy: 0.2727\n",
      "Epoch 16/100\n",
      "8/8 [==============================] - 1s 82ms/step - loss: 1.6453 - accuracy: 0.2629 - val_loss: 1.5449 - val_accuracy: 0.2841\n",
      "Epoch 17/100\n",
      "8/8 [==============================] - 1s 81ms/step - loss: 1.5896 - accuracy: 0.2982 - val_loss: 1.4725 - val_accuracy: 0.3432\n",
      "Epoch 18/100\n",
      "8/8 [==============================] - 1s 86ms/step - loss: 1.5426 - accuracy: 0.3164 - val_loss: 1.3897 - val_accuracy: 0.3386\n",
      "Epoch 19/100\n",
      "8/8 [==============================] - 1s 83ms/step - loss: 1.4430 - accuracy: 0.3429 - val_loss: 1.3532 - val_accuracy: 0.3205\n",
      "Epoch 20/100\n",
      "8/8 [==============================] - 1s 85ms/step - loss: 1.3571 - accuracy: 0.3763 - val_loss: 1.2233 - val_accuracy: 0.4273\n",
      "Epoch 21/100\n",
      "8/8 [==============================] - 1s 85ms/step - loss: 1.2051 - accuracy: 0.4333 - val_loss: 1.1642 - val_accuracy: 0.4295\n",
      "Epoch 22/100\n",
      "8/8 [==============================] - 1s 84ms/step - loss: 1.5536 - accuracy: 0.3187 - val_loss: 1.6623 - val_accuracy: 0.2818\n",
      "Epoch 23/100\n",
      "8/8 [==============================] - 1s 83ms/step - loss: 1.3973 - accuracy: 0.4058 - val_loss: 1.2569 - val_accuracy: 0.4182\n",
      "Epoch 24/100\n",
      "8/8 [==============================] - 1s 86ms/step - loss: 1.2311 - accuracy: 0.4722 - val_loss: 1.1359 - val_accuracy: 0.4932\n",
      "Epoch 25/100\n",
      "8/8 [==============================] - 1s 84ms/step - loss: 1.1634 - accuracy: 0.4571 - val_loss: 1.1110 - val_accuracy: 0.4795\n",
      "Epoch 26/100\n",
      "8/8 [==============================] - 1s 85ms/step - loss: 1.1239 - accuracy: 0.4732 - val_loss: 1.0298 - val_accuracy: 0.5182\n",
      "Epoch 27/100\n",
      "8/8 [==============================] - 1s 85ms/step - loss: 1.0804 - accuracy: 0.4520 - val_loss: 1.0038 - val_accuracy: 0.5227\n",
      "Epoch 28/100\n",
      "8/8 [==============================] - 1s 84ms/step - loss: 1.0209 - accuracy: 0.5033 - val_loss: 1.0399 - val_accuracy: 0.4341\n",
      "Epoch 29/100\n",
      "8/8 [==============================] - 1s 86ms/step - loss: 0.9910 - accuracy: 0.5093 - val_loss: 0.9590 - val_accuracy: 0.4295\n",
      "Epoch 30/100\n",
      "8/8 [==============================] - 1s 83ms/step - loss: 0.9597 - accuracy: 0.5101 - val_loss: 1.1073 - val_accuracy: 0.4705\n",
      "Epoch 31/100\n",
      "8/8 [==============================] - 1s 83ms/step - loss: 1.2463 - accuracy: 0.4268 - val_loss: 1.0090 - val_accuracy: 0.5023\n",
      "Epoch 32/100\n",
      "8/8 [==============================] - 1s 85ms/step - loss: 1.0178 - accuracy: 0.5242 - val_loss: 1.0412 - val_accuracy: 0.5045\n",
      "Epoch 33/100\n",
      "8/8 [==============================] - 1s 84ms/step - loss: 0.9719 - accuracy: 0.5179 - val_loss: 0.9712 - val_accuracy: 0.5159\n",
      "Epoch 34/100\n",
      "8/8 [==============================] - 1s 85ms/step - loss: 0.9910 - accuracy: 0.5025 - val_loss: 1.1515 - val_accuracy: 0.4500\n",
      "Epoch 35/100\n",
      "8/8 [==============================] - 1s 83ms/step - loss: 1.0358 - accuracy: 0.5144 - val_loss: 1.1488 - val_accuracy: 0.4841\n",
      "Epoch 36/100\n",
      "8/8 [==============================] - 1s 84ms/step - loss: 1.1150 - accuracy: 0.4932 - val_loss: 1.0972 - val_accuracy: 0.4023\n",
      "Epoch 37/100\n",
      "8/8 [==============================] - 1s 84ms/step - loss: 0.9859 - accuracy: 0.5101 - val_loss: 0.9822 - val_accuracy: 0.5000\n",
      "Epoch 38/100\n",
      "8/8 [==============================] - 1s 85ms/step - loss: 0.9352 - accuracy: 0.5333 - val_loss: 0.9571 - val_accuracy: 0.5023\n",
      "Epoch 39/100\n",
      "8/8 [==============================] - 1s 83ms/step - loss: 0.9168 - accuracy: 0.5164 - val_loss: 0.9128 - val_accuracy: 0.5159\n",
      "Epoch 40/100\n",
      "8/8 [==============================] - 1s 83ms/step - loss: 0.9192 - accuracy: 0.5308 - val_loss: 0.9082 - val_accuracy: 0.5227\n",
      "Epoch 41/100\n",
      "8/8 [==============================] - 1s 83ms/step - loss: 0.9198 - accuracy: 0.5295 - val_loss: 0.9483 - val_accuracy: 0.5068\n",
      "Epoch 42/100\n",
      "8/8 [==============================] - 1s 83ms/step - loss: 2.2291 - accuracy: 0.3543 - val_loss: 2.3510 - val_accuracy: 0.2909\n",
      "Epoch 43/100\n",
      "8/8 [==============================] - 1s 84ms/step - loss: 2.1158 - accuracy: 0.1548 - val_loss: 2.1774 - val_accuracy: 0.1955\n",
      "Epoch 44/100\n",
      "8/8 [==============================] - 1s 82ms/step - loss: 2.0982 - accuracy: 0.2104 - val_loss: 2.0131 - val_accuracy: 0.2886\n",
      "Epoch 45/100\n",
      "8/8 [==============================] - 1s 84ms/step - loss: 2.0611 - accuracy: 0.2394 - val_loss: 1.9825 - val_accuracy: 0.1727\n",
      "Epoch 46/100\n",
      "8/8 [==============================] - 1s 84ms/step - loss: 2.0011 - accuracy: 0.1967 - val_loss: 1.9915 - val_accuracy: 0.2273\n",
      "Epoch 47/100\n",
      "8/8 [==============================] - 1s 82ms/step - loss: 1.9807 - accuracy: 0.1955 - val_loss: 1.9644 - val_accuracy: 0.1727\n",
      "Epoch 48/100\n",
      "8/8 [==============================] - 1s 83ms/step - loss: 1.9648 - accuracy: 0.1854 - val_loss: 1.9537 - val_accuracy: 0.1727\n",
      "Epoch 49/100\n",
      "8/8 [==============================] - 1s 83ms/step - loss: 1.9536 - accuracy: 0.1808 - val_loss: 1.9443 - val_accuracy: 0.1795\n",
      "Epoch 50/100\n",
      "8/8 [==============================] - 1s 83ms/step - loss: 1.9451 - accuracy: 0.1869 - val_loss: 1.9395 - val_accuracy: 0.1727\n",
      "Epoch 51/100\n",
      "8/8 [==============================] - 1s 84ms/step - loss: 1.9351 - accuracy: 0.1841 - val_loss: 1.9267 - val_accuracy: 0.1773\n",
      "Epoch 52/100\n",
      "8/8 [==============================] - 1s 83ms/step - loss: 1.9251 - accuracy: 0.1821 - val_loss: 1.9177 - val_accuracy: 0.1773\n",
      "Epoch 53/100\n"
     ]
    },
    {
     "name": "stdout",
     "output_type": "stream",
     "text": [
      "8/8 [==============================] - 1s 84ms/step - loss: 1.9166 - accuracy: 0.1841 - val_loss: 1.9095 - val_accuracy: 0.1795\n",
      "Epoch 54/100\n",
      "8/8 [==============================] - 1s 83ms/step - loss: 1.9078 - accuracy: 0.1864 - val_loss: 1.9020 - val_accuracy: 0.1795\n",
      "Epoch 55/100\n",
      "8/8 [==============================] - 1s 83ms/step - loss: 1.8998 - accuracy: 0.1886 - val_loss: 1.8950 - val_accuracy: 0.1795\n",
      "Epoch 56/100\n",
      "8/8 [==============================] - 1s 82ms/step - loss: 1.8916 - accuracy: 0.1914 - val_loss: 1.8865 - val_accuracy: 0.1773\n",
      "Epoch 57/100\n",
      "8/8 [==============================] - 1s 83ms/step - loss: 1.8842 - accuracy: 0.1894 - val_loss: 1.8786 - val_accuracy: 0.1773\n",
      "Epoch 58/100\n",
      "8/8 [==============================] - 1s 83ms/step - loss: 1.8772 - accuracy: 0.1932 - val_loss: 1.8731 - val_accuracy: 0.1864\n",
      "Epoch 59/100\n",
      "8/8 [==============================] - 1s 82ms/step - loss: 1.8708 - accuracy: 0.2003 - val_loss: 1.8649 - val_accuracy: 0.1864\n",
      "Epoch 60/100\n",
      "8/8 [==============================] - 1s 83ms/step - loss: 1.8643 - accuracy: 0.1952 - val_loss: 1.8583 - val_accuracy: 0.1773\n",
      "Epoch 61/100\n",
      "8/8 [==============================] - 1s 83ms/step - loss: 1.8603 - accuracy: 0.2015 - val_loss: 1.8640 - val_accuracy: 0.2318\n",
      "Epoch 62/100\n",
      "8/8 [==============================] - 1s 84ms/step - loss: 1.8605 - accuracy: 0.2227 - val_loss: 1.8479 - val_accuracy: 0.2023\n",
      "Epoch 63/100\n",
      "8/8 [==============================] - 1s 85ms/step - loss: 1.8503 - accuracy: 0.2134 - val_loss: 1.8406 - val_accuracy: 0.1705\n",
      "Epoch 64/100\n",
      "8/8 [==============================] - 1s 82ms/step - loss: 1.8416 - accuracy: 0.2056 - val_loss: 1.8422 - val_accuracy: 0.1682\n",
      "Epoch 65/100\n",
      "8/8 [==============================] - 1s 83ms/step - loss: 1.8389 - accuracy: 0.2109 - val_loss: 1.8434 - val_accuracy: 0.1591\n",
      "Epoch 66/100\n",
      "8/8 [==============================] - 1s 86ms/step - loss: 1.8332 - accuracy: 0.2164 - val_loss: 1.8254 - val_accuracy: 0.1818\n",
      "Epoch 67/100\n",
      "8/8 [==============================] - 1s 83ms/step - loss: 1.8270 - accuracy: 0.2240 - val_loss: 1.8194 - val_accuracy: 0.1909\n",
      "Epoch 68/100\n",
      "8/8 [==============================] - 1s 84ms/step - loss: 1.8213 - accuracy: 0.2149 - val_loss: 1.8216 - val_accuracy: 0.2159\n",
      "Epoch 69/100\n",
      "8/8 [==============================] - 1s 84ms/step - loss: 1.8191 - accuracy: 0.2202 - val_loss: 1.8155 - val_accuracy: 0.2250\n",
      "Epoch 70/100\n",
      "8/8 [==============================] - 1s 84ms/step - loss: 1.8113 - accuracy: 0.2295 - val_loss: 1.8059 - val_accuracy: 0.1750\n",
      "Epoch 71/100\n",
      "8/8 [==============================] - 1s 84ms/step - loss: 1.8063 - accuracy: 0.2222 - val_loss: 1.8064 - val_accuracy: 0.2318\n",
      "Epoch 72/100\n",
      "8/8 [==============================] - 1s 83ms/step - loss: 1.8035 - accuracy: 0.2490 - val_loss: 1.8110 - val_accuracy: 0.1977\n",
      "Epoch 73/100\n",
      "8/8 [==============================] - 1s 84ms/step - loss: 1.8040 - accuracy: 0.2235 - val_loss: 1.7886 - val_accuracy: 0.2068\n",
      "Epoch 74/100\n",
      "8/8 [==============================] - 1s 84ms/step - loss: 1.7918 - accuracy: 0.2455 - val_loss: 1.7865 - val_accuracy: 0.2341\n",
      "Epoch 75/100\n",
      "8/8 [==============================] - 1s 83ms/step - loss: 1.7836 - accuracy: 0.2535 - val_loss: 1.7917 - val_accuracy: 0.2227\n",
      "Epoch 76/100\n",
      "8/8 [==============================] - 1s 84ms/step - loss: 1.7800 - accuracy: 0.2475 - val_loss: 1.7763 - val_accuracy: 0.2114\n",
      "Epoch 77/100\n",
      "8/8 [==============================] - 1s 84ms/step - loss: 1.7759 - accuracy: 0.2490 - val_loss: 1.7762 - val_accuracy: 0.3091\n",
      "Epoch 78/100\n",
      "8/8 [==============================] - 1s 81ms/step - loss: 1.7666 - accuracy: 0.2679 - val_loss: 1.7620 - val_accuracy: 0.2182\n",
      "Epoch 79/100\n",
      "8/8 [==============================] - 1s 85ms/step - loss: 1.7796 - accuracy: 0.2654 - val_loss: 1.7769 - val_accuracy: 0.3250\n",
      "Epoch 80/100\n",
      "8/8 [==============================] - 1s 84ms/step - loss: 1.7811 - accuracy: 0.2838 - val_loss: 1.7734 - val_accuracy: 0.2114\n",
      "Epoch 81/100\n",
      "8/8 [==============================] - 1s 83ms/step - loss: 1.7589 - accuracy: 0.2667 - val_loss: 1.7465 - val_accuracy: 0.3295\n",
      "Epoch 82/100\n",
      "8/8 [==============================] - 1s 84ms/step - loss: 1.7483 - accuracy: 0.2803 - val_loss: 1.7495 - val_accuracy: 0.3250\n",
      "Epoch 83/100\n",
      "8/8 [==============================] - 1s 83ms/step - loss: 1.7556 - accuracy: 0.2919 - val_loss: 1.7408 - val_accuracy: 0.2409\n",
      "Epoch 84/100\n",
      "8/8 [==============================] - 1s 83ms/step - loss: 1.7456 - accuracy: 0.2801 - val_loss: 1.7372 - val_accuracy: 0.2386\n",
      "Epoch 85/100\n",
      "8/8 [==============================] - 1s 84ms/step - loss: 1.7567 - accuracy: 0.2467 - val_loss: 1.7618 - val_accuracy: 0.2614\n",
      "Epoch 86/100\n",
      "8/8 [==============================] - 1s 82ms/step - loss: 1.7371 - accuracy: 0.2927 - val_loss: 1.7200 - val_accuracy: 0.2614\n",
      "Epoch 87/100\n",
      "8/8 [==============================] - 1s 84ms/step - loss: 1.7231 - accuracy: 0.3043 - val_loss: 1.7112 - val_accuracy: 0.3136\n",
      "Epoch 88/100\n",
      "8/8 [==============================] - 1s 83ms/step - loss: 1.7151 - accuracy: 0.3020 - val_loss: 1.7071 - val_accuracy: 0.3205\n",
      "Epoch 89/100\n",
      "8/8 [==============================] - 1s 84ms/step - loss: 1.7147 - accuracy: 0.3109 - val_loss: 1.7459 - val_accuracy: 0.2023\n",
      "Epoch 90/100\n",
      "8/8 [==============================] - 1s 82ms/step - loss: 1.7228 - accuracy: 0.3035 - val_loss: 1.7008 - val_accuracy: 0.2955\n",
      "Epoch 91/100\n",
      "8/8 [==============================] - 1s 85ms/step - loss: 1.7114 - accuracy: 0.3038 - val_loss: 1.7060 - val_accuracy: 0.3523\n",
      "Epoch 92/100\n",
      "8/8 [==============================] - 1s 84ms/step - loss: 1.7023 - accuracy: 0.3172 - val_loss: 1.6853 - val_accuracy: 0.3386\n",
      "Epoch 93/100\n",
      "8/8 [==============================] - 1s 85ms/step - loss: 1.6886 - accuracy: 0.3313 - val_loss: 1.6899 - val_accuracy: 0.2864\n",
      "Epoch 94/100\n",
      "8/8 [==============================] - 1s 82ms/step - loss: 1.6847 - accuracy: 0.3667 - val_loss: 1.6811 - val_accuracy: 0.2750\n",
      "Epoch 95/100\n",
      "8/8 [==============================] - 1s 81ms/step - loss: 1.6831 - accuracy: 0.3177 - val_loss: 1.6763 - val_accuracy: 0.3432\n",
      "Epoch 96/100\n",
      "8/8 [==============================] - 1s 82ms/step - loss: 1.6759 - accuracy: 0.3389 - val_loss: 1.6729 - val_accuracy: 0.3795\n",
      "Epoch 97/100\n",
      "8/8 [==============================] - 1s 83ms/step - loss: 1.6683 - accuracy: 0.3402 - val_loss: 1.6625 - val_accuracy: 0.3409\n",
      "Epoch 98/100\n",
      "8/8 [==============================] - 1s 82ms/step - loss: 1.6617 - accuracy: 0.3333 - val_loss: 1.6576 - val_accuracy: 0.3364\n",
      "Epoch 99/100\n",
      "8/8 [==============================] - 1s 82ms/step - loss: 1.6572 - accuracy: 0.3404 - val_loss: 1.6598 - val_accuracy: 0.3068\n",
      "Epoch 100/100\n",
      "8/8 [==============================] - 1s 82ms/step - loss: 1.6563 - accuracy: 0.3396 - val_loss: 1.6444 - val_accuracy: 0.3659\n",
      "35/35 [==============================] - 0s 5ms/step - loss: 1.6728 - accuracy: 0.3591\n"
     ]
    },
    {
     "data": {
      "image/png": "[encoded data removed]",
      "text/plain": [
       "<Figure size 504x432 with 2 Axes>"
      ]
     },
     "metadata": {
      "needs_background": "light"
     },
     "output_type": "display_data"
    },
    {
     "name": "stdout",
     "output_type": "stream",
     "text": [
      "Precision:0.346\n",
      "Recall:0.359\n",
      "F1_score:0.287\n",
      "              precision    recall  f1-score   support\n",
      "\n",
      "           0       0.60      1.00      0.75       104\n",
      "           1       0.80      0.26      0.39        93\n",
      "           2       0.95      0.93      0.94        95\n",
      "           3       0.99      0.91      0.95        93\n",
      "           4       0.50      0.01      0.02        99\n",
      "           5       0.13      1.00      0.23        93\n",
      "           6       0.00      0.00      0.00       104\n",
      "           7       0.00      0.00      0.00        93\n",
      "           8       0.00      0.00      0.00       116\n",
      "           9       0.00      0.00      0.00       109\n",
      "          10       0.00      0.00      0.00       101\n",
      "\n",
      "    accuracy                           0.36      1100\n",
      "   macro avg       0.36      0.37      0.30      1100\n",
      "weighted avg       0.35      0.36      0.29      1100\n",
      "\n",
      "Epoch 1/100\n",
      "8/8 [==============================] - 1s 100ms/step - loss: 2.3998 - accuracy: 0.0899 - val_loss: 2.3986 - val_accuracy: 0.0705\n",
      "Epoch 2/100\n",
      "8/8 [==============================] - 1s 83ms/step - loss: 2.3983 - accuracy: 0.0864 - val_loss: 2.3986 - val_accuracy: 0.0750\n",
      "Epoch 3/100\n",
      "8/8 [==============================] - 1s 86ms/step - loss: 2.3979 - accuracy: 0.0914 - val_loss: 2.3983 - val_accuracy: 0.0750\n",
      "Epoch 4/100\n",
      "8/8 [==============================] - 1s 85ms/step - loss: 2.3955 - accuracy: 0.1197 - val_loss: 2.3943 - val_accuracy: 0.0864\n",
      "Epoch 5/100\n",
      "8/8 [==============================] - 1s 82ms/step - loss: 2.3832 - accuracy: 0.1066 - val_loss: 2.3561 - val_accuracy: 0.0864\n",
      "Epoch 6/100\n",
      "8/8 [==============================] - 1s 84ms/step - loss: 2.3172 - accuracy: 0.0949 - val_loss: 2.2475 - val_accuracy: 0.0864\n",
      "Epoch 7/100\n",
      "8/8 [==============================] - 1s 83ms/step - loss: 2.2214 - accuracy: 0.1705 - val_loss: 2.1723 - val_accuracy: 0.1818\n",
      "Epoch 8/100\n",
      "8/8 [==============================] - 1s 82ms/step - loss: 2.1279 - accuracy: 0.1838 - val_loss: 2.0886 - val_accuracy: 0.1818\n",
      "Epoch 9/100\n",
      "8/8 [==============================] - 1s 84ms/step - loss: 2.0897 - accuracy: 0.1833 - val_loss: 2.0873 - val_accuracy: 0.1909\n",
      "Epoch 10/100\n",
      "8/8 [==============================] - 1s 84ms/step - loss: 2.0667 - accuracy: 0.1854 - val_loss: 2.0544 - val_accuracy: 0.1727\n",
      "Epoch 11/100\n",
      "8/8 [==============================] - 1s 84ms/step - loss: 2.0270 - accuracy: 0.1846 - val_loss: 2.0287 - val_accuracy: 0.1727\n",
      "Epoch 12/100\n",
      "8/8 [==============================] - 1s 83ms/step - loss: 2.0029 - accuracy: 0.1896 - val_loss: 2.0107 - val_accuracy: 0.1773\n",
      "Epoch 13/100\n",
      "8/8 [==============================] - 1s 84ms/step - loss: 1.9819 - accuracy: 0.1891 - val_loss: 2.0049 - val_accuracy: 0.1750\n",
      "Epoch 14/100\n",
      "8/8 [==============================] - 1s 84ms/step - loss: 1.9639 - accuracy: 0.1914 - val_loss: 2.0075 - val_accuracy: 0.1795\n",
      "Epoch 15/100\n",
      "8/8 [==============================] - 1s 82ms/step - loss: 2.0124 - accuracy: 0.2056 - val_loss: 1.9232 - val_accuracy: 0.2295\n",
      "Epoch 16/100\n",
      "8/8 [==============================] - 1s 83ms/step - loss: 1.9220 - accuracy: 0.2588 - val_loss: 1.9445 - val_accuracy: 0.2795\n",
      "Epoch 17/100\n",
      "8/8 [==============================] - 1s 84ms/step - loss: 1.8685 - accuracy: 0.2972 - val_loss: 1.8764 - val_accuracy: 0.3591\n",
      "Epoch 18/100\n",
      "8/8 [==============================] - 1s 86ms/step - loss: 1.8226 - accuracy: 0.3106 - val_loss: 1.8181 - val_accuracy: 0.2932\n",
      "Epoch 19/100\n",
      "8/8 [==============================] - 1s 84ms/step - loss: 1.8255 - accuracy: 0.2760 - val_loss: 1.7901 - val_accuracy: 0.3068\n",
      "Epoch 20/100\n",
      "8/8 [==============================] - 1s 84ms/step - loss: 1.7641 - accuracy: 0.3313 - val_loss: 1.7860 - val_accuracy: 0.3409\n",
      "Epoch 21/100\n",
      "8/8 [==============================] - 1s 85ms/step - loss: 1.8163 - accuracy: 0.3253 - val_loss: 2.9906 - val_accuracy: 0.1773\n",
      "Epoch 22/100\n",
      "8/8 [==============================] - 1s 83ms/step - loss: 2.3485 - accuracy: 0.1818 - val_loss: 2.0534 - val_accuracy: 0.1932\n",
      "Epoch 23/100\n",
      "8/8 [==============================] - 1s 82ms/step - loss: 1.9254 - accuracy: 0.2404 - val_loss: 1.9014 - val_accuracy: 0.2205\n",
      "Epoch 24/100\n",
      "8/8 [==============================] - 1s 85ms/step - loss: 1.8725 - accuracy: 0.2033 - val_loss: 1.9016 - val_accuracy: 0.1909\n",
      "Epoch 25/100\n",
      "8/8 [==============================] - 1s 83ms/step - loss: 1.8584 - accuracy: 0.1823 - val_loss: 1.8797 - val_accuracy: 0.1932\n",
      "Epoch 26/100\n",
      "8/8 [==============================] - 1s 83ms/step - loss: 1.8332 - accuracy: 0.1939 - val_loss: 1.8452 - val_accuracy: 0.2023\n",
      "Epoch 27/100\n",
      "8/8 [==============================] - 1s 83ms/step - loss: 1.8042 - accuracy: 0.1914 - val_loss: 1.8197 - val_accuracy: 0.2273\n",
      "Epoch 28/100\n",
      "8/8 [==============================] - 1s 83ms/step - loss: 1.7728 - accuracy: 0.2154 - val_loss: 1.7808 - val_accuracy: 0.2364\n",
      "Epoch 29/100\n",
      "8/8 [==============================] - 1s 84ms/step - loss: 1.7333 - accuracy: 0.2760 - val_loss: 1.7419 - val_accuracy: 0.3818\n",
      "Epoch 30/100\n",
      "8/8 [==============================] - 1s 83ms/step - loss: 1.6874 - accuracy: 0.3513 - val_loss: 1.6892 - val_accuracy: 0.3841\n",
      "Epoch 31/100\n",
      "8/8 [==============================] - 1s 84ms/step - loss: 1.6331 - accuracy: 0.3619 - val_loss: 1.6289 - val_accuracy: 0.3841\n",
      "Epoch 32/100\n",
      "8/8 [==============================] - 1s 82ms/step - loss: 1.5706 - accuracy: 0.3932 - val_loss: 1.5729 - val_accuracy: 0.3636\n",
      "Epoch 33/100\n",
      "8/8 [==============================] - 1s 85ms/step - loss: 1.5271 - accuracy: 0.3722 - val_loss: 1.5490 - val_accuracy: 0.4114\n",
      "Epoch 34/100\n",
      "8/8 [==============================] - 1s 84ms/step - loss: 1.5148 - accuracy: 0.3894 - val_loss: 1.5919 - val_accuracy: 0.2977\n",
      "Epoch 35/100\n",
      "8/8 [==============================] - 1s 83ms/step - loss: 1.6220 - accuracy: 0.3242 - val_loss: 1.7977 - val_accuracy: 0.2250\n",
      "Epoch 36/100\n",
      "8/8 [==============================] - 1s 83ms/step - loss: 1.6115 - accuracy: 0.3253 - val_loss: 1.7234 - val_accuracy: 0.2295\n",
      "Epoch 37/100\n",
      "8/8 [==============================] - 1s 83ms/step - loss: 1.5422 - accuracy: 0.3417 - val_loss: 1.5276 - val_accuracy: 0.3977\n",
      "Epoch 38/100\n",
      "8/8 [==============================] - 1s 83ms/step - loss: 1.4763 - accuracy: 0.3939 - val_loss: 1.4717 - val_accuracy: 0.4068\n",
      "Epoch 39/100\n",
      "8/8 [==============================] - 1s 85ms/step - loss: 1.4326 - accuracy: 0.4313 - val_loss: 1.4562 - val_accuracy: 0.4136\n",
      "Epoch 40/100\n",
      "8/8 [==============================] - 1s 82ms/step - loss: 1.4074 - accuracy: 0.4331 - val_loss: 1.6063 - val_accuracy: 0.3841\n",
      "Epoch 41/100\n",
      "8/8 [==============================] - 1s 84ms/step - loss: 1.4239 - accuracy: 0.4015 - val_loss: 1.4657 - val_accuracy: 0.4250\n",
      "Epoch 42/100\n",
      "8/8 [==============================] - 1s 84ms/step - loss: 1.4794 - accuracy: 0.3775 - val_loss: 1.8651 - val_accuracy: 0.2136\n",
      "Epoch 43/100\n",
      "8/8 [==============================] - 1s 84ms/step - loss: 1.7060 - accuracy: 0.2955 - val_loss: 1.6321 - val_accuracy: 0.2386\n",
      "Epoch 44/100\n",
      "8/8 [==============================] - 1s 82ms/step - loss: 1.5283 - accuracy: 0.3000 - val_loss: 1.6024 - val_accuracy: 0.2455\n",
      "Epoch 45/100\n",
      "8/8 [==============================] - 1s 83ms/step - loss: 1.4750 - accuracy: 0.3341 - val_loss: 1.4374 - val_accuracy: 0.4159\n",
      "Epoch 46/100\n",
      "8/8 [==============================] - 1s 84ms/step - loss: 1.4065 - accuracy: 0.4098 - val_loss: 1.4462 - val_accuracy: 0.3818\n",
      "Epoch 47/100\n",
      "8/8 [==============================] - 1s 82ms/step - loss: 1.3582 - accuracy: 0.4452 - val_loss: 1.3525 - val_accuracy: 0.4091\n",
      "Epoch 48/100\n",
      "8/8 [==============================] - 1s 83ms/step - loss: 1.2792 - accuracy: 0.4874 - val_loss: 1.2609 - val_accuracy: 0.5068\n",
      "Epoch 49/100\n",
      "8/8 [==============================] - 1s 83ms/step - loss: 1.2208 - accuracy: 0.5005 - val_loss: 1.3106 - val_accuracy: 0.4341\n",
      "Epoch 50/100\n",
      "8/8 [==============================] - 1s 85ms/step - loss: 1.1774 - accuracy: 0.5129 - val_loss: 1.2804 - val_accuracy: 0.4432\n",
      "Epoch 51/100\n",
      "8/8 [==============================] - 1s 83ms/step - loss: 1.2037 - accuracy: 0.4970 - val_loss: 1.2833 - val_accuracy: 0.3955\n",
      "Epoch 52/100\n",
      "8/8 [==============================] - 1s 85ms/step - loss: 1.1551 - accuracy: 0.4939 - val_loss: 1.1393 - val_accuracy: 0.5386\n",
      "Epoch 53/100\n"
     ]
    },
    {
     "name": "stdout",
     "output_type": "stream",
     "text": [
      "8/8 [==============================] - 1s 81ms/step - loss: 1.8422 - accuracy: 0.4104 - val_loss: 2.3630 - val_accuracy: 0.2636\n",
      "Epoch 54/100\n",
      "8/8 [==============================] - 1s 82ms/step - loss: 1.7669 - accuracy: 0.3104 - val_loss: 1.5413 - val_accuracy: 0.3159\n",
      "Epoch 55/100\n",
      "8/8 [==============================] - 1s 84ms/step - loss: 1.5050 - accuracy: 0.3505 - val_loss: 1.4437 - val_accuracy: 0.4795\n",
      "Epoch 56/100\n",
      "8/8 [==============================] - 1s 83ms/step - loss: 1.4197 - accuracy: 0.4707 - val_loss: 1.4009 - val_accuracy: 0.4182\n",
      "Epoch 57/100\n",
      "8/8 [==============================] - 1s 83ms/step - loss: 1.3504 - accuracy: 0.4662 - val_loss: 1.3291 - val_accuracy: 0.4114\n",
      "Epoch 58/100\n",
      "8/8 [==============================] - 1s 84ms/step - loss: 1.2797 - accuracy: 0.4856 - val_loss: 1.2856 - val_accuracy: 0.4341\n",
      "Epoch 59/100\n",
      "8/8 [==============================] - 1s 84ms/step - loss: 1.2194 - accuracy: 0.5023 - val_loss: 1.2430 - val_accuracy: 0.4000\n",
      "Epoch 60/100\n",
      "8/8 [==============================] - 1s 84ms/step - loss: 1.1624 - accuracy: 0.5283 - val_loss: 1.1620 - val_accuracy: 0.5250\n",
      "Epoch 61/100\n",
      "8/8 [==============================] - 1s 84ms/step - loss: 1.1080 - accuracy: 0.5462 - val_loss: 1.1127 - val_accuracy: 0.5295\n",
      "Epoch 62/100\n",
      "8/8 [==============================] - 1s 83ms/step - loss: 1.0727 - accuracy: 0.5573 - val_loss: 1.1074 - val_accuracy: 0.5500\n",
      "Epoch 63/100\n",
      "8/8 [==============================] - 1s 83ms/step - loss: 1.0400 - accuracy: 0.5679 - val_loss: 1.0378 - val_accuracy: 0.5568\n",
      "Epoch 64/100\n",
      "8/8 [==============================] - 1s 84ms/step - loss: 1.0106 - accuracy: 0.5818 - val_loss: 1.0235 - val_accuracy: 0.5295\n",
      "Epoch 65/100\n",
      "8/8 [==============================] - 1s 83ms/step - loss: 1.0031 - accuracy: 0.5753 - val_loss: 1.0226 - val_accuracy: 0.5273\n",
      "Epoch 66/100\n",
      "8/8 [==============================] - 1s 84ms/step - loss: 0.9949 - accuracy: 0.5768 - val_loss: 1.0022 - val_accuracy: 0.5432\n",
      "Epoch 67/100\n",
      "8/8 [==============================] - 1s 82ms/step - loss: 0.9915 - accuracy: 0.5548 - val_loss: 1.0129 - val_accuracy: 0.5818\n",
      "Epoch 68/100\n",
      "8/8 [==============================] - 1s 82ms/step - loss: 1.0069 - accuracy: 0.5609 - val_loss: 1.0239 - val_accuracy: 0.5455\n",
      "Epoch 69/100\n",
      "8/8 [==============================] - 1s 82ms/step - loss: 1.0076 - accuracy: 0.5740 - val_loss: 1.2351 - val_accuracy: 0.4773\n",
      "Epoch 70/100\n",
      "8/8 [==============================] - 1s 83ms/step - loss: 2.6475 - accuracy: 0.3422 - val_loss: 1.1912 - val_accuracy: 0.4727\n",
      "Epoch 71/100\n",
      "8/8 [==============================] - 1s 83ms/step - loss: 1.2850 - accuracy: 0.4253 - val_loss: 1.2257 - val_accuracy: 0.4682\n",
      "Epoch 72/100\n",
      "8/8 [==============================] - 1s 83ms/step - loss: 1.2269 - accuracy: 0.5035 - val_loss: 1.1842 - val_accuracy: 0.6091\n",
      "Epoch 73/100\n",
      "8/8 [==============================] - 1s 82ms/step - loss: 1.1654 - accuracy: 0.5462 - val_loss: 1.1502 - val_accuracy: 0.5591\n",
      "Epoch 74/100\n",
      "8/8 [==============================] - 1s 85ms/step - loss: 1.0997 - accuracy: 0.5702 - val_loss: 1.0891 - val_accuracy: 0.5568\n",
      "Epoch 75/100\n",
      "8/8 [==============================] - 1s 83ms/step - loss: 1.0261 - accuracy: 0.6139 - val_loss: 1.0117 - val_accuracy: 0.6091\n",
      "Epoch 76/100\n",
      "8/8 [==============================] - 1s 84ms/step - loss: 0.9599 - accuracy: 0.6275 - val_loss: 0.9538 - val_accuracy: 0.5818\n",
      "Epoch 77/100\n",
      "8/8 [==============================] - 1s 84ms/step - loss: 0.9127 - accuracy: 0.6568 - val_loss: 0.9088 - val_accuracy: 0.6341\n",
      "Epoch 78/100\n",
      "8/8 [==============================] - 1s 82ms/step - loss: 0.8890 - accuracy: 0.6343 - val_loss: 0.9375 - val_accuracy: 0.5955\n",
      "Epoch 79/100\n",
      "8/8 [==============================] - 1s 84ms/step - loss: 0.9260 - accuracy: 0.6139 - val_loss: 0.9086 - val_accuracy: 0.6023\n",
      "Epoch 80/100\n",
      "8/8 [==============================] - 1s 83ms/step - loss: 1.0687 - accuracy: 0.5742 - val_loss: 0.9678 - val_accuracy: 0.6114\n",
      "Epoch 81/100\n",
      "8/8 [==============================] - 1s 82ms/step - loss: 0.9839 - accuracy: 0.5843 - val_loss: 1.0407 - val_accuracy: 0.5182\n",
      "Epoch 82/100\n",
      "8/8 [==============================] - 1s 83ms/step - loss: 0.9433 - accuracy: 0.6255 - val_loss: 0.9307 - val_accuracy: 0.5727\n",
      "Epoch 83/100\n",
      "8/8 [==============================] - 1s 83ms/step - loss: 0.8911 - accuracy: 0.6396 - val_loss: 0.9293 - val_accuracy: 0.6500\n",
      "Epoch 84/100\n",
      "8/8 [==============================] - 1s 83ms/step - loss: 0.8805 - accuracy: 0.6689 - val_loss: 0.8797 - val_accuracy: 0.6386\n",
      "Epoch 85/100\n",
      "8/8 [==============================] - 1s 84ms/step - loss: 0.8652 - accuracy: 0.6518 - val_loss: 0.9079 - val_accuracy: 0.5705\n",
      "Epoch 86/100\n",
      "8/8 [==============================] - 1s 85ms/step - loss: 0.8410 - accuracy: 0.6644 - val_loss: 0.8792 - val_accuracy: 0.6568\n",
      "Epoch 87/100\n",
      "8/8 [==============================] - 1s 83ms/step - loss: 0.8282 - accuracy: 0.6662 - val_loss: 0.8480 - val_accuracy: 0.6432\n",
      "Epoch 88/100\n",
      "8/8 [==============================] - 1s 83ms/step - loss: 0.8130 - accuracy: 0.6657 - val_loss: 0.8349 - val_accuracy: 0.6682\n",
      "Epoch 89/100\n",
      "8/8 [==============================] - 1s 82ms/step - loss: 0.7913 - accuracy: 0.6591 - val_loss: 0.8048 - val_accuracy: 0.6773\n",
      "Epoch 90/100\n",
      "8/8 [==============================] - 1s 83ms/step - loss: 0.7886 - accuracy: 0.6619 - val_loss: 0.8306 - val_accuracy: 0.5841\n",
      "Epoch 91/100\n",
      "8/8 [==============================] - 1s 83ms/step - loss: 0.7943 - accuracy: 0.6301 - val_loss: 0.9517 - val_accuracy: 0.6136\n",
      "Epoch 92/100\n",
      "8/8 [==============================] - 1s 83ms/step - loss: 2.3018 - accuracy: 0.4662 - val_loss: 2.4794 - val_accuracy: 0.2659\n",
      "Epoch 93/100\n",
      "8/8 [==============================] - 1s 84ms/step - loss: 1.3581 - accuracy: 0.4818 - val_loss: 1.1717 - val_accuracy: 0.5295\n",
      "Epoch 94/100\n",
      "8/8 [==============================] - 1s 83ms/step - loss: 1.1025 - accuracy: 0.5417 - val_loss: 1.0653 - val_accuracy: 0.5318\n",
      "Epoch 95/100\n",
      "8/8 [==============================] - 1s 83ms/step - loss: 1.0297 - accuracy: 0.5975 - val_loss: 1.0260 - val_accuracy: 0.5568\n",
      "Epoch 96/100\n",
      "8/8 [==============================] - 1s 85ms/step - loss: 0.9848 - accuracy: 0.6409 - val_loss: 0.9967 - val_accuracy: 0.5909\n",
      "Epoch 97/100\n",
      "8/8 [==============================] - 1s 85ms/step - loss: 0.9421 - accuracy: 0.6379 - val_loss: 0.9555 - val_accuracy: 0.5795\n",
      "Epoch 98/100\n",
      "8/8 [==============================] - 1s 82ms/step - loss: 0.9057 - accuracy: 0.6583 - val_loss: 0.9121 - val_accuracy: 0.6432\n",
      "Epoch 99/100\n",
      "8/8 [==============================] - 1s 84ms/step - loss: 0.8674 - accuracy: 0.6755 - val_loss: 0.8858 - val_accuracy: 0.6523\n",
      "Epoch 100/100\n",
      "8/8 [==============================] - 1s 84ms/step - loss: 0.8382 - accuracy: 0.6902 - val_loss: 0.8643 - val_accuracy: 0.6455\n",
      "35/35 [==============================] - 0s 5ms/step - loss: 0.8324 - accuracy: 0.6627\n"
     ]
    },
    {
     "data": {
      "image/png": "[encoded data removed]",
      "text/plain": [
       "<Figure size 504x432 with 2 Axes>"
      ]
     },
     "metadata": {
      "needs_background": "light"
     },
     "output_type": "display_data"
    },
    {
     "name": "stdout",
     "output_type": "stream",
     "text": [
      "Precision:0.602\n",
      "Recall:0.663\n",
      "F1_score:0.609\n",
      "              precision    recall  f1-score   support\n",
      "\n",
      "           0       0.24      1.00      0.39        95\n",
      "           1       0.00      0.00      0.00       108\n",
      "           2       0.00      0.00      0.00       100\n",
      "           3       0.00      0.00      0.00       102\n",
      "           4       0.97      0.80      0.88       107\n",
      "           5       0.77      0.75      0.76        96\n",
      "           6       0.74      1.00      0.85        93\n",
      "           7       1.00      0.90      0.95       105\n",
      "           8       0.96      1.00      0.98        97\n",
      "           9       0.99      0.95      0.97       102\n",
      "          10       0.98      0.99      0.98        95\n",
      "\n",
      "    accuracy                           0.66      1100\n",
      "   macro avg       0.60      0.67      0.61      1100\n",
      "weighted avg       0.60      0.66      0.61      1100\n",
      "\n",
      "\n",
      "K-fold cross validation Accuracy: ['0.0873', '0.0773', '0.6700', '0.3591', '0.6627']\n"
     ]
    }
   ],
   "source": [
    "# 주어진 데이터를 학습 데이터와 테스트 데이터로 분리\n",
    "skf = KFold(n_splits=5, random_state=42, shuffle=True)\n",
    "\n",
    "accuracy = []\n",
    "\n",
    "for train, validation in skf.split(x,y):\n",
    "    model = keras.Sequential()\n",
    "    model.add(Conv1D(16, 9, activation='relu', input_shape=(len(x[0]),1)))\n",
    "    model.add(Conv1D(16, 9, activation='relu'))\n",
    "    model.add(Conv1D(32, 9, activation='relu'))\n",
    "    model.add(Conv1D(32, 9, activation='relu'))\n",
    "    model.add(Conv1D(32, 9, activation='relu'))\n",
    "    model.add(Conv1D(32, 9, activation='relu'))\n",
    "    model.add(Conv1D(32, 9, activation='relu'))\n",
    "    model.add(Flatten())\n",
    "    model.add(Dense(10, activation='relu'))\n",
    "    model.add(Dense(10, activation='relu'))\n",
    "    model.add(Dense(10, activation='relu'))\n",
    "    model.add(Dense(11, activation=\"softmax\"))\n",
    "    model.compile(loss='sparse_categorical_crossentropy', optimizer='adam', metrics=['accuracy'])\n",
    "  #model.summary()\n",
    "\n",
    "  # 학습 데이터를 이용해서 학습\n",
    "    hist = model.fit(x[train], y[train], epochs=100, batch_size=512, verbose=1, validation_split=0.1)  \n",
    "\n",
    "  # 테스트 데이터를 이용해서 검증\n",
    "    k_accuracy = '%.4f' % (model.evaluate(x[validation], y[validation])[1])\n",
    "    accuracy.append(k_accuracy)\n",
    "  \n",
    "  #confusion matrix\n",
    "    y_ = model.predict(x[validation])\n",
    "    predicted = np.argmax(y_, axis = -1)\n",
    "\n",
    "    classes = ['class1', 'class2', 'class3', 'class4', 'class5', 'class6', 'class7','class8', 'class9', 'class10','class11' ]\n",
    "    conf_mat = confusion_matrix(y[validation], predicted)\n",
    "    fig, ax = plt.subplots(figsize=(7,6))\n",
    "    plt.setp(ax.get_xticklabels(), rotation=45, ha=\"right\", rotation_mode=\"anchor\")\n",
    "    plt.title('Confusion matrix')\n",
    "    plt.ylabel('Actual label')\n",
    "    plt.xlabel('Predicted label')\n",
    "    sns.heatmap(conf_mat, annot=True, fmt='d', xticklabels=classes, yticklabels=classes)\n",
    "    plt.show()\n",
    "\n",
    "  #정밀도, 재현도, f1-score\n",
    "    precision = precision_score(y[validation], predicted, average='weighted')\n",
    "    recall = recall_score(y[validation], predicted, average='weighted')\n",
    "    f1 = f1_score(y[validation], predicted, average='weighted')\n",
    "\n",
    "    print('Precision:{:.3}'.format(precision))\n",
    "    print('Recall:{:.3}'.format(recall))\n",
    "    print('F1_score:{:.3}'.format(f1))\n",
    "\n",
    "  #분류 보고서\n",
    "    print(classification_report(y[validation], predicted))\n",
    "\n",
    "# 전체 검증 결과 출력\n",
    "print('\\nK-fold cross validation Accuracy: {}'.format(accuracy))"
   ]
  },
  {
   "cell_type": "code",
   "execution_count": 23,
   "metadata": {
    "colab": {
     "base_uri": "https://localhost:8080/"
    },
    "id": "PeHHHEUhiJH5",
    "outputId": "6a2da373-e7a9-4eee-9e43-93c1f902b923"
   },
   "outputs": [
    {
     "data": {
      "text/plain": [
       "['0.0873', '0.0773', '0.6700', '0.3591', '0.6627']"
      ]
     },
     "execution_count": 23,
     "metadata": {},
     "output_type": "execute_result"
    }
   ],
   "source": [
    "accuracy"
   ]
  },
  {
   "cell_type": "code",
   "execution_count": 24,
   "metadata": {
    "colab": {
     "base_uri": "https://localhost:8080/"
    },
    "id": "dx86ejQ616uZ",
    "outputId": "802bfc0c-f28c-42ce-ed88-6b911fc3d1ab"
   },
   "outputs": [
    {
     "data": {
      "text/plain": [
       "[0.0873, 0.0773, 0.67, 0.3591, 0.6627]"
      ]
     },
     "execution_count": 24,
     "metadata": {},
     "output_type": "execute_result"
    }
   ],
   "source": [
    "acc = list(map(float, accuracy))\n",
    "acc"
   ]
  },
  {
   "cell_type": "code",
   "execution_count": 25,
   "metadata": {
    "id": "-f4pHhxY2APw"
   },
   "outputs": [
    {
     "data": {
      "text/plain": [
       "0.37127999999999994"
      ]
     },
     "execution_count": 25,
     "metadata": {},
     "output_type": "execute_result"
    }
   ],
   "source": [
    "np.mean(acc)"
   ]
  },
  {
   "cell_type": "code",
   "execution_count": null,
   "metadata": {},
   "outputs": [],
   "source": []
  }
 ],
 "metadata": {
  "accelerator": "GPU",
  "colab": {
   "collapsed_sections": [],
   "name": "★210914_1D-CNN_4000point_8736kDa_StratifiedKfold.ipynb",
   "provenance": []
  },
  "kernelspec": {
   "display_name": "Python 3 (ipykernel)",
   "language": "python",
   "name": "python3"
  },
  "language_info": {
   "codemirror_mode": {
    "name": "ipython",
    "version": 3
   },
   "file_extension": ".py",
   "mimetype": "text/x-python",
   "name": "python",
   "nbconvert_exporter": "python",
   "pygments_lexer": "ipython3",
   "version": "3.9.7"
  }
 },
 "nbformat": 4,
 "nbformat_minor": 1
}
