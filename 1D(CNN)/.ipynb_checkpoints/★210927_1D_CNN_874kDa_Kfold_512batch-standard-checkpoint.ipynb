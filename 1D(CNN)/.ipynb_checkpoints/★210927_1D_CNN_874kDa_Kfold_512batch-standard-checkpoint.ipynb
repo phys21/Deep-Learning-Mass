{
 "cells": [
  {
   "cell_type": "markdown",
   "metadata": {
    "id": "GavgmjDytAsf"
   },
   "source": [
    "# 데이터 로딩"
   ]
  },
  {
   "cell_type": "code",
   "execution_count": 1,
   "metadata": {
    "colab": {
     "base_uri": "https://localhost:8080/"
    },
    "id": "pUWSYQ9FNt_C",
    "outputId": "46237811-4e40-413a-9b28-e21cff94e8b8"
   },
   "outputs": [],
   "source": [
    "#from google.colab import drive\n",
    "#drive.mount('/content/drive')"
   ]
  },
  {
   "cell_type": "code",
   "execution_count": 2,
   "metadata": {},
   "outputs": [],
   "source": [
    "import warnings\n",
    "warnings.filterwarnings(action='ignore')"
   ]
  },
  {
   "cell_type": "code",
   "execution_count": 3,
   "metadata": {},
   "outputs": [],
   "source": [
    "import os\n",
    "os.environ[\"CUDA_DEVICE_ORDER\"]=\"PCI_BUS_ID\"\n",
    "os.environ[\"CUDA_VISIBLE_DEVICES\"]=\"1\""
   ]
  },
  {
   "cell_type": "code",
   "execution_count": 4,
   "metadata": {},
   "outputs": [
    {
     "name": "stderr",
     "output_type": "stream",
     "text": [
      "2021-09-28 23:11:18.672509: I tensorflow/core/platform/cpu_feature_guard.cc:142] This TensorFlow binary is optimized with oneAPI Deep Neural Network Library (oneDNN) to use the following CPU instructions in performance-critical operations:  AVX2 AVX512F FMA\n",
      "To enable them in other operations, rebuild TensorFlow with the appropriate compiler flags.\n"
     ]
    },
    {
     "data": {
      "text/plain": [
       "[name: \"/device:CPU:0\"\n",
       " device_type: \"CPU\"\n",
       " memory_limit: 268435456\n",
       " locality {\n",
       " }\n",
       " incarnation: 3904548981068253216,\n",
       " name: \"/device:GPU:0\"\n",
       " device_type: \"GPU\"\n",
       " memory_limit: 22985834496\n",
       " locality {\n",
       "   bus_id: 1\n",
       "   links {\n",
       "   }\n",
       " }\n",
       " incarnation: 12965815054406250488\n",
       " physical_device_desc: \"device: 0, name: GeForce RTX 3090, pci bus id: 0000:68:00.0, compute capability: 8.6\"]"
      ]
     },
     "execution_count": 4,
     "metadata": {},
     "output_type": "execute_result"
    },
    {
     "name": "stderr",
     "output_type": "stream",
     "text": [
      "2021-09-28 23:11:19.153398: I tensorflow/core/common_runtime/gpu/gpu_device.cc:1510] Created device /device:GPU:0 with 21921 MB memory:  -> device: 0, name: GeForce RTX 3090, pci bus id: 0000:68:00.0, compute capability: 8.6\n"
     ]
    }
   ],
   "source": [
    "from tensorflow.python.client import device_lib\n",
    "device_lib.list_local_devices()"
   ]
  },
  {
   "cell_type": "code",
   "execution_count": 5,
   "metadata": {
    "id": "7tpIBpEXNpjm"
   },
   "outputs": [],
   "source": [
    "import numpy as np\n",
    "import pandas as pd\n",
    "import matplotlib.pyplot as plt"
   ]
  },
  {
   "cell_type": "code",
   "execution_count": 6,
   "metadata": {
    "colab": {
     "base_uri": "https://localhost:8080/"
    },
    "id": "EYw7FBvHs5E9",
    "outputId": "cc48b6dd-c461-48e6-f44f-81963c68fa0a",
    "scrolled": false
   },
   "outputs": [
    {
     "name": "stdout",
     "output_type": "stream",
     "text": [
      "[[26551293.32 26570723.64 26590337.36 ... 26539517.76 26567731.67\n",
      "         0.  ]\n",
      " [26562291.28 26566547.25 26568797.31 ... 26553281.37 26574589.07\n",
      "         0.  ]\n",
      " [26571765.19 26548364.44 26562785.81 ... 26556202.58 26603469.15\n",
      "         0.  ]\n",
      " ...\n",
      " [26571506.95 26562181.85 26594713.26 ... 26562262.35 26560535.36\n",
      "     50000.  ]\n",
      " [26557733.24 26580462.56 26574424.07 ... 26549936.13 26520995.72\n",
      "     50000.  ]\n",
      " [26570374.89 26559298.95 26573770.54 ... 26544085.39 26552356.26\n",
      "     50000.  ]]\n"
     ]
    }
   ],
   "source": [
    "data = pd.read_csv('210923_total_freq_with_noise_2000point_874kDa.csv')\n",
    "df1 = data.values[:] # 문자열을 부동소수점형으로 변환한다\n",
    "print(df1)"
   ]
  },
  {
   "cell_type": "markdown",
   "metadata": {
    "id": "tZIY7CbcwW6F"
   },
   "source": [
    "# 데이터 살펴보기"
   ]
  },
  {
   "cell_type": "markdown",
   "metadata": {
    "id": "nfk1doFWnhQn"
   },
   "source": [
    "152개의 속성 값이 있고, -1 또는 1로 레이블링 되어 있다.\n",
    "\n",
    "152개 속성 값은 어떤 센서의 값을 시간을 두고 측정한 것이다."
   ]
  },
  {
   "cell_type": "code",
   "execution_count": 7,
   "metadata": {
    "colab": {
     "base_uri": "https://localhost:8080/"
    },
    "id": "smA15EaF1hmV",
    "outputId": "d90ea451-0543-43bf-d740-795fd1207c63"
   },
   "outputs": [
    {
     "name": "stdout",
     "output_type": "stream",
     "text": [
      "0           0\n",
      "1           0\n",
      "2           0\n",
      "3           0\n",
      "4           0\n",
      "        ...  \n",
      "5495    50000\n",
      "5496    50000\n",
      "5497    50000\n",
      "5498    50000\n",
      "5499    50000\n",
      "Name: target, Length: 5500, dtype: int64\n"
     ]
    }
   ],
   "source": [
    "df2_1 = data[\"target\"]\n",
    "df2 = df2_1[:]\n",
    "print(df2)"
   ]
  },
  {
   "cell_type": "code",
   "execution_count": 8,
   "metadata": {
    "colab": {
     "base_uri": "https://localhost:8080/"
    },
    "id": "ClKB2D7ZpFnL",
    "outputId": "125a2cbe-62b9-44b6-ae4a-98b068fedc2c"
   },
   "outputs": [
    {
     "name": "stdout",
     "output_type": "stream",
     "text": [
      "(array([    0,  5000, 10000, 15000, 20000, 25000, 30000, 35000, 40000,\n",
      "       45000, 50000]), array([500, 500, 500, 500, 500, 500, 500, 500, 500, 500, 500]))\n"
     ]
    }
   ],
   "source": [
    "target_count = np.unique(df2, return_counts=True)\n",
    "print(target_count)"
   ]
  },
  {
   "cell_type": "code",
   "execution_count": 9,
   "metadata": {
    "colab": {
     "base_uri": "https://localhost:8080/"
    },
    "id": "Bu3NHl9_Npjq",
    "outputId": "48d579ad-691c-4d74-d846-ffeea98d9a27"
   },
   "outputs": [
    {
     "name": "stdout",
     "output_type": "stream",
     "text": [
      "(array([    0,  5000, 10000, 15000, 20000, 25000, 30000, 35000, 40000,\n",
      "       45000, 50000]), array([500, 500, 500, 500, 500, 500, 500, 500, 500, 500, 500]))\n"
     ]
    }
   ],
   "source": [
    "target_count = np.unique(df2, return_counts=True)\n",
    "print(target_count)"
   ]
  },
  {
   "cell_type": "markdown",
   "metadata": {
    "id": "ZB0UsHjLsS1I"
   },
   "source": [
    "target값 -1, 1을 category 인덱스 0, 1로 변경"
   ]
  },
  {
   "cell_type": "code",
   "execution_count": 10,
   "metadata": {
    "colab": {
     "base_uri": "https://localhost:8080/"
    },
    "id": "C0nNKyJ4oaxo",
    "outputId": "3b9a1b1c-025e-48ce-8a28-680f9bd5c46d"
   },
   "outputs": [
    {
     "name": "stdout",
     "output_type": "stream",
     "text": [
      "(array([ 0,  1,  2,  3,  4,  5,  6,  7,  8,  9, 10]), array([500, 500, 500, 500, 500, 500, 500, 500, 500, 500, 500]))\n"
     ]
    }
   ],
   "source": [
    "df2 = df2.copy()\n",
    "df2[df2 < 5000] = 0\n",
    "df2[df2 == 5000] = 1\n",
    "df2[df2 == 10000] = 2\n",
    "df2[df2 == 15000] = 3\n",
    "df2[df2 == 20000] = 4\n",
    "df2[df2 == 25000] = 5\n",
    "df2[df2 == 30000] = 6\n",
    "df2[df2 == 35000] = 7\n",
    "df2[df2 == 40000] = 8\n",
    "df2[df2 == 45000] = 9\n",
    "df2[df2 == 50000] = 10\n",
    "\n",
    "target_count = np.unique(df2, return_counts=True)\n",
    "print(target_count)"
   ]
  },
  {
   "cell_type": "markdown",
   "metadata": {
    "id": "PAYLXje8Eq9l"
   },
   "source": [
    "# 문제 정의\n",
    "\n",
    "152개의 순차적인 센서 값을 가지고 분류한다.\n"
   ]
  },
  {
   "cell_type": "markdown",
   "metadata": {
    "id": "piqvWOOgpjHt"
   },
   "source": [
    "# 데이터 준비\n"
   ]
  },
  {
   "cell_type": "markdown",
   "metadata": {
    "id": "GD2kOh0_pmvD"
   },
   "source": [
    "## x, y 쪼개기"
   ]
  },
  {
   "cell_type": "code",
   "execution_count": 11,
   "metadata": {
    "id": "5mB3dKMYpJej"
   },
   "outputs": [],
   "source": [
    "x, y = df1[:,:-1], df2[:]"
   ]
  },
  {
   "cell_type": "code",
   "execution_count": 12,
   "metadata": {
    "colab": {
     "base_uri": "https://localhost:8080/"
    },
    "id": "UWtHOkIvpJlZ",
    "outputId": "98f0ae6c-f761-44e5-9435-bd9756ecdeb7"
   },
   "outputs": [
    {
     "name": "stdout",
     "output_type": "stream",
     "text": [
      "(5500, 4000)\n",
      "(5500,)\n"
     ]
    }
   ],
   "source": [
    "print(x.shape)\n",
    "print(y.shape)"
   ]
  },
  {
   "cell_type": "code",
   "execution_count": 13,
   "metadata": {
    "colab": {
     "base_uri": "https://localhost:8080/"
    },
    "id": "4WVNNZy3Npjt",
    "outputId": "7bb9910c-34c7-4da9-be72-1c5a150de0f2"
   },
   "outputs": [
    {
     "data": {
      "text/plain": [
       "0        0\n",
       "1        0\n",
       "2        0\n",
       "3        0\n",
       "4        0\n",
       "        ..\n",
       "5495    10\n",
       "5496    10\n",
       "5497    10\n",
       "5498    10\n",
       "5499    10\n",
       "Name: target, Length: 5500, dtype: int64"
      ]
     },
     "execution_count": 13,
     "metadata": {},
     "output_type": "execute_result"
    }
   ],
   "source": [
    "y"
   ]
  },
  {
   "cell_type": "markdown",
   "metadata": {
    "id": "DYJfroxKpoOc"
   },
   "source": [
    "## normalization"
   ]
  },
  {
   "cell_type": "code",
   "execution_count": 14,
   "metadata": {
    "colab": {
     "base_uri": "https://localhost:8080/"
    },
    "id": "0edILhqfpJrT",
    "outputId": "e1b6e56a-056f-4f40-d925-5a22fa02ca79"
   },
   "outputs": [
    {
     "name": "stdout",
     "output_type": "stream",
     "text": [
      "26473549.26 26654080.62\n",
      "0.0 1.0\n"
     ]
    }
   ],
   "source": [
    "min = np.min(x)\n",
    "max = np.max(x)\n",
    "print(min, max)\n",
    "\n",
    "x = (x-min) / (max-min)\n",
    "\n",
    "min = np.min(x)\n",
    "max = np.max(x)\n",
    "print(min, max)\n"
   ]
  },
  {
   "cell_type": "code",
   "execution_count": 15,
   "metadata": {
    "id": "CA_Fs7IhrKhv"
   },
   "outputs": [],
   "source": [
    "x = np.expand_dims(x, -1)"
   ]
  },
  {
   "cell_type": "markdown",
   "metadata": {
    "id": "YUNV4PRWp-jO"
   },
   "source": [
    "## 섞고"
   ]
  },
  {
   "cell_type": "code",
   "execution_count": 16,
   "metadata": {
    "id": "rK0FR9OOpJxL"
   },
   "outputs": [],
   "source": [
    "shuffled_index = np.random.permutation(len(x))\n",
    "x = x[shuffled_index]\n",
    "y = y.iloc[shuffled_index]\n",
    "x, y = np.array(x), np.array(y)"
   ]
  },
  {
   "cell_type": "markdown",
   "metadata": {
    "id": "RbjrYGVMqAF3"
   },
   "source": [
    "## train, test 쪼개기"
   ]
  },
  {
   "cell_type": "code",
   "execution_count": 17,
   "metadata": {
    "id": "TfPpY9jPpJz4"
   },
   "outputs": [],
   "source": [
    "#split_index = int( len(x) * 0.8 )\n",
    "#train_x, test_x = np.array(x[:split_index]), np.array(x[split_index:])\n",
    "#train_y, test_y = np.array(y[:split_index]), np.array(y[split_index:])"
   ]
  },
  {
   "cell_type": "code",
   "execution_count": 18,
   "metadata": {
    "id": "BfNSU7FdpJub"
   },
   "outputs": [],
   "source": [
    "#train_x[1].shape"
   ]
  },
  {
   "cell_type": "code",
   "execution_count": 19,
   "metadata": {
    "id": "gsqd1yWWNpju"
   },
   "outputs": [],
   "source": [
    "#train_x[1]"
   ]
  },
  {
   "cell_type": "markdown",
   "metadata": {
    "id": "3Oynfz6SqZzx"
   },
   "source": [
    "# 모델 정의"
   ]
  },
  {
   "cell_type": "code",
   "execution_count": 20,
   "metadata": {
    "id": "p0JtVB5ApJoc"
   },
   "outputs": [],
   "source": [
    "import tensorflow as tf\n",
    "from sklearn.model_selection import KFold \n",
    "from tensorflow import keras\n",
    "from tensorflow.keras import optimizers\n",
    "from tensorflow.keras.layers import Dense, Conv1D, Flatten\n",
    "from sklearn.model_selection import cross_val_score \n",
    "from sklearn.model_selection import StratifiedKFold"
   ]
  },
  {
   "cell_type": "code",
   "execution_count": 21,
   "metadata": {
    "colab": {
     "base_uri": "https://localhost:8080/",
     "height": 1000
    },
    "id": "8FTlEW4umicO",
    "outputId": "288b35af-b541-464b-9b2c-2f1ca72bc264"
   },
   "outputs": [],
   "source": [
    "from tensorflow.keras.models import Sequential\n",
    "from tensorflow.keras.layers import Dense\n",
    "#from tensorflow.keras.utils import np_utils\n",
    "import pandas as pd\n",
    "import matplotlib.pyplot as plt\n",
    "from sklearn.metrics import confusion_matrix\n",
    "import seaborn as sns\n",
    "from sklearn.metrics import precision_score, recall_score, f1_score, roc_curve\n",
    "from sklearn.metrics import classification_report\n",
    "from sklearn.model_selection import StratifiedKFold"
   ]
  },
  {
   "cell_type": "code",
   "execution_count": 22,
   "metadata": {
    "colab": {
     "base_uri": "https://localhost:8080/",
     "height": 1000
    },
    "id": "8FTlEW4umicO",
    "outputId": "288b35af-b541-464b-9b2c-2f1ca72bc264",
    "scrolled": false
   },
   "outputs": [
    {
     "name": "stderr",
     "output_type": "stream",
     "text": [
      "2021-09-28 23:11:23.355880: I tensorflow/core/common_runtime/gpu/gpu_device.cc:1510] Created device /job:localhost/replica:0/task:0/device:GPU:0 with 21921 MB memory:  -> device: 0, name: GeForce RTX 3090, pci bus id: 0000:68:00.0, compute capability: 8.6\n",
      "2021-09-28 23:11:23.911175: I tensorflow/compiler/mlir/mlir_graph_optimization_pass.cc:185] None of the MLIR Optimization Passes are enabled (registered 2)\n"
     ]
    },
    {
     "name": "stdout",
     "output_type": "stream",
     "text": [
      "Epoch 1/100\n"
     ]
    },
    {
     "name": "stderr",
     "output_type": "stream",
     "text": [
      "2021-09-28 23:11:24.944142: I tensorflow/stream_executor/cuda/cuda_dnn.cc:369] Loaded cuDNN version 8100\n",
      "2021-09-28 23:11:26.326060: I tensorflow/stream_executor/cuda/cuda_blas.cc:1760] TensorFloat-32 will be used for the matrix multiplication. This will only be logged once.\n"
     ]
    },
    {
     "name": "stdout",
     "output_type": "stream",
     "text": [
      "8/8 [==============================] - 4s 193ms/step - loss: 2.4003 - accuracy: 0.1048 - val_loss: 2.3979 - val_accuracy: 0.1023\n",
      "Epoch 2/100\n",
      "8/8 [==============================] - 1s 83ms/step - loss: 2.3979 - accuracy: 0.0924 - val_loss: 2.3979 - val_accuracy: 0.1023\n",
      "Epoch 3/100\n",
      "8/8 [==============================] - 1s 83ms/step - loss: 2.3978 - accuracy: 0.0899 - val_loss: 2.3980 - val_accuracy: 0.0886\n",
      "Epoch 4/100\n",
      "8/8 [==============================] - 1s 85ms/step - loss: 2.3978 - accuracy: 0.0917 - val_loss: 2.3980 - val_accuracy: 0.1023\n",
      "Epoch 5/100\n",
      "8/8 [==============================] - 1s 85ms/step - loss: 2.3978 - accuracy: 0.0924 - val_loss: 2.3981 - val_accuracy: 0.1023\n",
      "Epoch 6/100\n",
      "8/8 [==============================] - 1s 83ms/step - loss: 2.3978 - accuracy: 0.0924 - val_loss: 2.3982 - val_accuracy: 0.1023\n",
      "Epoch 7/100\n",
      "8/8 [==============================] - 1s 83ms/step - loss: 2.3978 - accuracy: 0.0924 - val_loss: 2.3982 - val_accuracy: 0.1023\n",
      "Epoch 8/100\n",
      "8/8 [==============================] - 1s 85ms/step - loss: 2.3978 - accuracy: 0.0924 - val_loss: 2.3982 - val_accuracy: 0.1023\n",
      "Epoch 9/100\n",
      "8/8 [==============================] - 1s 86ms/step - loss: 2.3978 - accuracy: 0.0899 - val_loss: 2.3983 - val_accuracy: 0.0886\n",
      "Epoch 10/100\n",
      "8/8 [==============================] - 1s 83ms/step - loss: 2.3978 - accuracy: 0.0904 - val_loss: 2.3983 - val_accuracy: 0.1023\n",
      "Epoch 11/100\n",
      "8/8 [==============================] - 1s 83ms/step - loss: 2.3978 - accuracy: 0.0924 - val_loss: 2.3983 - val_accuracy: 0.1023\n",
      "Epoch 12/100\n",
      "8/8 [==============================] - 1s 83ms/step - loss: 2.3978 - accuracy: 0.0924 - val_loss: 2.3983 - val_accuracy: 0.1023\n",
      "Epoch 13/100\n",
      "8/8 [==============================] - 1s 84ms/step - loss: 2.3978 - accuracy: 0.0917 - val_loss: 2.3984 - val_accuracy: 0.0841\n",
      "Epoch 14/100\n",
      "8/8 [==============================] - 1s 83ms/step - loss: 2.3978 - accuracy: 0.0932 - val_loss: 2.3984 - val_accuracy: 0.0841\n",
      "Epoch 15/100\n",
      "8/8 [==============================] - 1s 86ms/step - loss: 2.3978 - accuracy: 0.0932 - val_loss: 2.3984 - val_accuracy: 0.0841\n",
      "Epoch 16/100\n",
      "8/8 [==============================] - 1s 83ms/step - loss: 2.3977 - accuracy: 0.0932 - val_loss: 2.3985 - val_accuracy: 0.0841\n",
      "Epoch 17/100\n",
      "8/8 [==============================] - 1s 86ms/step - loss: 2.3978 - accuracy: 0.0932 - val_loss: 2.3985 - val_accuracy: 0.0841\n",
      "Epoch 18/100\n",
      "8/8 [==============================] - 1s 85ms/step - loss: 2.3977 - accuracy: 0.0932 - val_loss: 2.3985 - val_accuracy: 0.0841\n",
      "Epoch 19/100\n",
      "8/8 [==============================] - 1s 84ms/step - loss: 2.3977 - accuracy: 0.0932 - val_loss: 2.3985 - val_accuracy: 0.0841\n",
      "Epoch 20/100\n",
      "8/8 [==============================] - 1s 84ms/step - loss: 2.3978 - accuracy: 0.0932 - val_loss: 2.3985 - val_accuracy: 0.0841\n",
      "Epoch 21/100\n",
      "8/8 [==============================] - 1s 83ms/step - loss: 2.3977 - accuracy: 0.0932 - val_loss: 2.3985 - val_accuracy: 0.0841\n",
      "Epoch 22/100\n",
      "8/8 [==============================] - 1s 83ms/step - loss: 2.3977 - accuracy: 0.0932 - val_loss: 2.3985 - val_accuracy: 0.0841\n",
      "Epoch 23/100\n",
      "8/8 [==============================] - 1s 83ms/step - loss: 2.3977 - accuracy: 0.0932 - val_loss: 2.3986 - val_accuracy: 0.0841\n",
      "Epoch 24/100\n",
      "8/8 [==============================] - 1s 85ms/step - loss: 2.3977 - accuracy: 0.0932 - val_loss: 2.3986 - val_accuracy: 0.0841\n",
      "Epoch 25/100\n",
      "8/8 [==============================] - 1s 83ms/step - loss: 2.3977 - accuracy: 0.0932 - val_loss: 2.3986 - val_accuracy: 0.0841\n",
      "Epoch 26/100\n",
      "8/8 [==============================] - 1s 83ms/step - loss: 2.3977 - accuracy: 0.0932 - val_loss: 2.3986 - val_accuracy: 0.0841\n",
      "Epoch 27/100\n",
      "8/8 [==============================] - 1s 85ms/step - loss: 2.3977 - accuracy: 0.0932 - val_loss: 2.3986 - val_accuracy: 0.0841\n",
      "Epoch 28/100\n",
      "8/8 [==============================] - 1s 86ms/step - loss: 2.3977 - accuracy: 0.0932 - val_loss: 2.3986 - val_accuracy: 0.0841\n",
      "Epoch 29/100\n",
      "8/8 [==============================] - 1s 83ms/step - loss: 2.3977 - accuracy: 0.0932 - val_loss: 2.3986 - val_accuracy: 0.0841\n",
      "Epoch 30/100\n",
      "8/8 [==============================] - 1s 83ms/step - loss: 2.3978 - accuracy: 0.0932 - val_loss: 2.3986 - val_accuracy: 0.0841\n",
      "Epoch 31/100\n",
      "8/8 [==============================] - 1s 84ms/step - loss: 2.3977 - accuracy: 0.0932 - val_loss: 2.3986 - val_accuracy: 0.0841\n",
      "Epoch 32/100\n",
      "8/8 [==============================] - 1s 84ms/step - loss: 2.3977 - accuracy: 0.0932 - val_loss: 2.3987 - val_accuracy: 0.0841\n",
      "Epoch 33/100\n",
      "8/8 [==============================] - 1s 84ms/step - loss: 2.3977 - accuracy: 0.0932 - val_loss: 2.3987 - val_accuracy: 0.0841\n",
      "Epoch 34/100\n",
      "8/8 [==============================] - 1s 85ms/step - loss: 2.3977 - accuracy: 0.0932 - val_loss: 2.3987 - val_accuracy: 0.0841\n",
      "Epoch 35/100\n",
      "8/8 [==============================] - 1s 83ms/step - loss: 2.3977 - accuracy: 0.0932 - val_loss: 2.3987 - val_accuracy: 0.0841\n",
      "Epoch 36/100\n",
      "8/8 [==============================] - 1s 83ms/step - loss: 2.3977 - accuracy: 0.0932 - val_loss: 2.3987 - val_accuracy: 0.0841\n",
      "Epoch 37/100\n",
      "8/8 [==============================] - 1s 83ms/step - loss: 2.3977 - accuracy: 0.0932 - val_loss: 2.3987 - val_accuracy: 0.0841\n",
      "Epoch 38/100\n",
      "8/8 [==============================] - 1s 83ms/step - loss: 2.3977 - accuracy: 0.0932 - val_loss: 2.3987 - val_accuracy: 0.0841\n",
      "Epoch 39/100\n",
      "8/8 [==============================] - 1s 83ms/step - loss: 2.3977 - accuracy: 0.0932 - val_loss: 2.3987 - val_accuracy: 0.0841\n",
      "Epoch 40/100\n",
      "8/8 [==============================] - 1s 85ms/step - loss: 2.3977 - accuracy: 0.0932 - val_loss: 2.3987 - val_accuracy: 0.0841\n",
      "Epoch 41/100\n",
      "8/8 [==============================] - 1s 83ms/step - loss: 2.3977 - accuracy: 0.0932 - val_loss: 2.3988 - val_accuracy: 0.0841\n",
      "Epoch 42/100\n",
      "8/8 [==============================] - 1s 84ms/step - loss: 2.3977 - accuracy: 0.0932 - val_loss: 2.3988 - val_accuracy: 0.0841\n",
      "Epoch 43/100\n",
      "8/8 [==============================] - 1s 86ms/step - loss: 2.3977 - accuracy: 0.0932 - val_loss: 2.3987 - val_accuracy: 0.0841\n",
      "Epoch 44/100\n",
      "8/8 [==============================] - 1s 83ms/step - loss: 2.3977 - accuracy: 0.0932 - val_loss: 2.3987 - val_accuracy: 0.0841\n",
      "Epoch 45/100\n",
      "8/8 [==============================] - 1s 83ms/step - loss: 2.3977 - accuracy: 0.0932 - val_loss: 2.3988 - val_accuracy: 0.0841\n",
      "Epoch 46/100\n",
      "8/8 [==============================] - 1s 84ms/step - loss: 2.3977 - accuracy: 0.0932 - val_loss: 2.3988 - val_accuracy: 0.0841\n",
      "Epoch 47/100\n",
      "8/8 [==============================] - 1s 84ms/step - loss: 2.3977 - accuracy: 0.0932 - val_loss: 2.3988 - val_accuracy: 0.0841\n",
      "Epoch 48/100\n",
      "8/8 [==============================] - 1s 83ms/step - loss: 2.3977 - accuracy: 0.0932 - val_loss: 2.3988 - val_accuracy: 0.0841\n",
      "Epoch 49/100\n",
      "8/8 [==============================] - 1s 83ms/step - loss: 2.3977 - accuracy: 0.0932 - val_loss: 2.3988 - val_accuracy: 0.0841\n",
      "Epoch 50/100\n",
      "8/8 [==============================] - 1s 85ms/step - loss: 2.3977 - accuracy: 0.0932 - val_loss: 2.3988 - val_accuracy: 0.0841\n",
      "Epoch 51/100\n",
      "8/8 [==============================] - 1s 84ms/step - loss: 2.3977 - accuracy: 0.0932 - val_loss: 2.3988 - val_accuracy: 0.0841\n",
      "Epoch 52/100\n",
      "8/8 [==============================] - 1s 85ms/step - loss: 2.3977 - accuracy: 0.0932 - val_loss: 2.3987 - val_accuracy: 0.0841\n",
      "Epoch 53/100\n",
      "8/8 [==============================] - 1s 81ms/step - loss: 2.3977 - accuracy: 0.0932 - val_loss: 2.3987 - val_accuracy: 0.0841\n",
      "Epoch 54/100\n",
      "8/8 [==============================] - 1s 84ms/step - loss: 2.3977 - accuracy: 0.0932 - val_loss: 2.3987 - val_accuracy: 0.0841\n",
      "Epoch 55/100\n",
      "8/8 [==============================] - 1s 85ms/step - loss: 2.3977 - accuracy: 0.0932 - val_loss: 2.3988 - val_accuracy: 0.0841\n",
      "Epoch 56/100\n",
      "8/8 [==============================] - 1s 85ms/step - loss: 2.3977 - accuracy: 0.0932 - val_loss: 2.3988 - val_accuracy: 0.0841\n",
      "Epoch 57/100\n",
      "8/8 [==============================] - 1s 82ms/step - loss: 2.3977 - accuracy: 0.0932 - val_loss: 2.3987 - val_accuracy: 0.0841\n",
      "Epoch 58/100\n",
      "8/8 [==============================] - 1s 83ms/step - loss: 2.3977 - accuracy: 0.0932 - val_loss: 2.3987 - val_accuracy: 0.0841\n",
      "Epoch 59/100\n"
     ]
    },
    {
     "name": "stdout",
     "output_type": "stream",
     "text": [
      "8/8 [==============================] - 1s 83ms/step - loss: 2.3977 - accuracy: 0.0932 - val_loss: 2.3987 - val_accuracy: 0.0841\n",
      "Epoch 60/100\n",
      "8/8 [==============================] - 1s 83ms/step - loss: 2.3977 - accuracy: 0.0932 - val_loss: 2.3987 - val_accuracy: 0.0841\n",
      "Epoch 61/100\n",
      "8/8 [==============================] - 1s 84ms/step - loss: 2.3977 - accuracy: 0.0932 - val_loss: 2.3988 - val_accuracy: 0.0841\n",
      "Epoch 62/100\n",
      "8/8 [==============================] - 1s 83ms/step - loss: 2.3977 - accuracy: 0.0932 - val_loss: 2.3988 - val_accuracy: 0.0841\n",
      "Epoch 63/100\n",
      "8/8 [==============================] - 1s 83ms/step - loss: 2.3977 - accuracy: 0.0932 - val_loss: 2.3988 - val_accuracy: 0.0841\n",
      "Epoch 64/100\n",
      "8/8 [==============================] - 1s 83ms/step - loss: 2.3977 - accuracy: 0.0932 - val_loss: 2.3988 - val_accuracy: 0.0841\n",
      "Epoch 65/100\n",
      "8/8 [==============================] - 1s 82ms/step - loss: 2.3977 - accuracy: 0.0932 - val_loss: 2.3987 - val_accuracy: 0.0841\n",
      "Epoch 66/100\n",
      "8/8 [==============================] - 1s 83ms/step - loss: 2.3977 - accuracy: 0.0932 - val_loss: 2.3988 - val_accuracy: 0.0841\n",
      "Epoch 67/100\n",
      "8/8 [==============================] - 1s 83ms/step - loss: 2.3977 - accuracy: 0.0932 - val_loss: 2.3988 - val_accuracy: 0.0841\n",
      "Epoch 68/100\n",
      "8/8 [==============================] - 1s 82ms/step - loss: 2.3977 - accuracy: 0.0932 - val_loss: 2.3988 - val_accuracy: 0.0841\n",
      "Epoch 69/100\n",
      "8/8 [==============================] - 1s 82ms/step - loss: 2.3977 - accuracy: 0.0932 - val_loss: 2.3988 - val_accuracy: 0.0841\n",
      "Epoch 70/100\n",
      "8/8 [==============================] - 1s 82ms/step - loss: 2.3977 - accuracy: 0.0932 - val_loss: 2.3988 - val_accuracy: 0.0841\n",
      "Epoch 71/100\n",
      "8/8 [==============================] - 1s 83ms/step - loss: 2.3978 - accuracy: 0.0932 - val_loss: 2.3988 - val_accuracy: 0.0841\n",
      "Epoch 72/100\n",
      "8/8 [==============================] - 1s 84ms/step - loss: 2.3977 - accuracy: 0.0932 - val_loss: 2.3987 - val_accuracy: 0.0841\n",
      "Epoch 73/100\n",
      "8/8 [==============================] - 1s 82ms/step - loss: 2.3977 - accuracy: 0.0932 - val_loss: 2.3988 - val_accuracy: 0.0841\n",
      "Epoch 74/100\n",
      "8/8 [==============================] - 1s 85ms/step - loss: 2.3977 - accuracy: 0.0932 - val_loss: 2.3988 - val_accuracy: 0.0841\n",
      "Epoch 75/100\n",
      "8/8 [==============================] - 1s 84ms/step - loss: 2.3977 - accuracy: 0.0932 - val_loss: 2.3987 - val_accuracy: 0.0841\n",
      "Epoch 76/100\n",
      "8/8 [==============================] - 1s 83ms/step - loss: 2.3977 - accuracy: 0.0932 - val_loss: 2.3987 - val_accuracy: 0.0841\n",
      "Epoch 77/100\n",
      "8/8 [==============================] - 1s 83ms/step - loss: 2.3977 - accuracy: 0.0932 - val_loss: 2.3987 - val_accuracy: 0.0841\n",
      "Epoch 78/100\n",
      "8/8 [==============================] - 1s 83ms/step - loss: 2.3977 - accuracy: 0.0932 - val_loss: 2.3988 - val_accuracy: 0.0841\n",
      "Epoch 79/100\n",
      "8/8 [==============================] - 1s 83ms/step - loss: 2.3977 - accuracy: 0.0932 - val_loss: 2.3987 - val_accuracy: 0.0841\n",
      "Epoch 80/100\n",
      "8/8 [==============================] - 1s 84ms/step - loss: 2.3977 - accuracy: 0.0932 - val_loss: 2.3987 - val_accuracy: 0.0841\n",
      "Epoch 81/100\n",
      "8/8 [==============================] - 1s 82ms/step - loss: 2.3977 - accuracy: 0.0932 - val_loss: 2.3987 - val_accuracy: 0.0841\n",
      "Epoch 82/100\n",
      "8/8 [==============================] - 1s 83ms/step - loss: 2.3977 - accuracy: 0.0932 - val_loss: 2.3987 - val_accuracy: 0.0841\n",
      "Epoch 83/100\n",
      "8/8 [==============================] - 1s 83ms/step - loss: 2.3977 - accuracy: 0.0932 - val_loss: 2.3987 - val_accuracy: 0.0841\n",
      "Epoch 84/100\n",
      "8/8 [==============================] - 1s 84ms/step - loss: 2.3977 - accuracy: 0.0932 - val_loss: 2.3987 - val_accuracy: 0.0841\n",
      "Epoch 85/100\n",
      "8/8 [==============================] - 1s 84ms/step - loss: 2.3977 - accuracy: 0.0932 - val_loss: 2.3987 - val_accuracy: 0.0841\n",
      "Epoch 86/100\n",
      "8/8 [==============================] - 1s 82ms/step - loss: 2.3977 - accuracy: 0.0932 - val_loss: 2.3988 - val_accuracy: 0.0841\n",
      "Epoch 87/100\n",
      "8/8 [==============================] - 1s 84ms/step - loss: 2.3977 - accuracy: 0.0932 - val_loss: 2.3988 - val_accuracy: 0.0841\n",
      "Epoch 88/100\n",
      "8/8 [==============================] - 1s 82ms/step - loss: 2.3977 - accuracy: 0.0932 - val_loss: 2.3987 - val_accuracy: 0.0841\n",
      "Epoch 89/100\n",
      "8/8 [==============================] - 1s 81ms/step - loss: 2.3977 - accuracy: 0.0932 - val_loss: 2.3987 - val_accuracy: 0.0841\n",
      "Epoch 90/100\n",
      "8/8 [==============================] - 1s 82ms/step - loss: 2.3977 - accuracy: 0.0932 - val_loss: 2.3988 - val_accuracy: 0.0841\n",
      "Epoch 91/100\n",
      "8/8 [==============================] - 1s 81ms/step - loss: 2.3977 - accuracy: 0.0932 - val_loss: 2.3987 - val_accuracy: 0.0841\n",
      "Epoch 92/100\n",
      "8/8 [==============================] - 1s 82ms/step - loss: 2.3977 - accuracy: 0.0932 - val_loss: 2.3987 - val_accuracy: 0.0841\n",
      "Epoch 93/100\n",
      "8/8 [==============================] - 1s 81ms/step - loss: 2.3977 - accuracy: 0.0932 - val_loss: 2.3987 - val_accuracy: 0.0841\n",
      "Epoch 94/100\n",
      "8/8 [==============================] - 1s 82ms/step - loss: 2.3977 - accuracy: 0.0932 - val_loss: 2.3987 - val_accuracy: 0.0841\n",
      "Epoch 95/100\n",
      "8/8 [==============================] - 1s 84ms/step - loss: 2.3977 - accuracy: 0.0932 - val_loss: 2.3988 - val_accuracy: 0.0841\n",
      "Epoch 96/100\n",
      "8/8 [==============================] - 1s 83ms/step - loss: 2.3977 - accuracy: 0.0932 - val_loss: 2.3988 - val_accuracy: 0.0841\n",
      "Epoch 97/100\n",
      "8/8 [==============================] - 1s 83ms/step - loss: 2.3977 - accuracy: 0.0932 - val_loss: 2.3988 - val_accuracy: 0.0841\n",
      "Epoch 98/100\n",
      "8/8 [==============================] - 1s 83ms/step - loss: 2.3977 - accuracy: 0.0932 - val_loss: 2.3988 - val_accuracy: 0.0841\n",
      "Epoch 99/100\n",
      "8/8 [==============================] - 1s 84ms/step - loss: 2.3977 - accuracy: 0.0932 - val_loss: 2.3988 - val_accuracy: 0.0841\n",
      "Epoch 100/100\n",
      "8/8 [==============================] - 1s 85ms/step - loss: 2.3977 - accuracy: 0.0932 - val_loss: 2.3987 - val_accuracy: 0.0841\n",
      "35/35 [==============================] - 0s 6ms/step - loss: 2.3990 - accuracy: 0.0855\n"
     ]
    },
    {
     "data": {
      "image/png": "[encoded data removed]",
      "text/plain": [
       "<Figure size 504x432 with 2 Axes>"
      ]
     },
     "metadata": {
      "needs_background": "light"
     },
     "output_type": "display_data"
    },
    {
     "name": "stdout",
     "output_type": "stream",
     "text": [
      "Precision:0.0073\n",
      "Recall:0.0855\n",
      "F1_score:0.0135\n",
      "              precision    recall  f1-score   support\n",
      "\n",
      "           0       0.09      1.00      0.16        94\n",
      "           1       0.00      0.00      0.00       104\n",
      "           2       0.00      0.00      0.00        99\n",
      "           3       0.00      0.00      0.00       107\n",
      "           4       0.00      0.00      0.00        90\n",
      "           5       0.00      0.00      0.00       100\n",
      "           6       0.00      0.00      0.00       105\n",
      "           7       0.00      0.00      0.00       109\n",
      "           8       0.00      0.00      0.00        89\n",
      "           9       0.00      0.00      0.00        97\n",
      "          10       0.00      0.00      0.00       106\n",
      "\n",
      "    accuracy                           0.09      1100\n",
      "   macro avg       0.01      0.09      0.01      1100\n",
      "weighted avg       0.01      0.09      0.01      1100\n",
      "\n",
      "Epoch 1/100\n",
      "8/8 [==============================] - 1s 100ms/step - loss: 2.4037 - accuracy: 0.0864 - val_loss: 2.3981 - val_accuracy: 0.1091\n",
      "Epoch 2/100\n",
      "8/8 [==============================] - 1s 82ms/step - loss: 2.3979 - accuracy: 0.0929 - val_loss: 2.3988 - val_accuracy: 0.0864\n",
      "Epoch 3/100\n",
      "8/8 [==============================] - 1s 83ms/step - loss: 2.3977 - accuracy: 0.0972 - val_loss: 2.3989 - val_accuracy: 0.0864\n",
      "Epoch 4/100\n",
      "8/8 [==============================] - 1s 82ms/step - loss: 2.3971 - accuracy: 0.0972 - val_loss: 2.3987 - val_accuracy: 0.0864\n",
      "Epoch 5/100\n",
      "8/8 [==============================] - 1s 83ms/step - loss: 2.3941 - accuracy: 0.0972 - val_loss: 2.3904 - val_accuracy: 0.0864\n",
      "Epoch 6/100\n",
      "8/8 [==============================] - 1s 82ms/step - loss: 2.3714 - accuracy: 0.0972 - val_loss: 2.3364 - val_accuracy: 0.0864\n",
      "Epoch 7/100\n",
      "8/8 [==============================] - 1s 82ms/step - loss: 2.3198 - accuracy: 0.1417 - val_loss: 2.2583 - val_accuracy: 0.1591\n",
      "Epoch 8/100\n",
      "8/8 [==============================] - 1s 83ms/step - loss: 2.2288 - accuracy: 0.1896 - val_loss: 2.3562 - val_accuracy: 0.1523\n",
      "Epoch 9/100\n",
      "8/8 [==============================] - 1s 85ms/step - loss: 2.2690 - accuracy: 0.1879 - val_loss: 2.2730 - val_accuracy: 0.1955\n",
      "Epoch 10/100\n",
      "8/8 [==============================] - 1s 82ms/step - loss: 2.2188 - accuracy: 0.1742 - val_loss: 2.2456 - val_accuracy: 0.1955\n",
      "Epoch 11/100\n",
      "8/8 [==============================] - 1s 82ms/step - loss: 2.1525 - accuracy: 0.1790 - val_loss: 2.1274 - val_accuracy: 0.1955\n",
      "Epoch 12/100\n",
      "8/8 [==============================] - 1s 83ms/step - loss: 2.0753 - accuracy: 0.1848 - val_loss: 2.0876 - val_accuracy: 0.1955\n",
      "Epoch 13/100\n",
      "8/8 [==============================] - 1s 81ms/step - loss: 2.0325 - accuracy: 0.1790 - val_loss: 2.0631 - val_accuracy: 0.1864\n",
      "Epoch 14/100\n",
      "8/8 [==============================] - 1s 83ms/step - loss: 2.0112 - accuracy: 0.1843 - val_loss: 2.0399 - val_accuracy: 0.1886\n",
      "Epoch 15/100\n",
      "8/8 [==============================] - 1s 83ms/step - loss: 1.9907 - accuracy: 0.1856 - val_loss: 2.0311 - val_accuracy: 0.1864\n",
      "Epoch 16/100\n",
      "8/8 [==============================] - 1s 81ms/step - loss: 1.9777 - accuracy: 0.1856 - val_loss: 2.0114 - val_accuracy: 0.1864\n",
      "Epoch 17/100\n",
      "8/8 [==============================] - 1s 84ms/step - loss: 1.9691 - accuracy: 0.1879 - val_loss: 2.0046 - val_accuracy: 0.1909\n",
      "Epoch 18/100\n",
      "8/8 [==============================] - 1s 83ms/step - loss: 1.9547 - accuracy: 0.1869 - val_loss: 1.9711 - val_accuracy: 0.1886\n",
      "Epoch 19/100\n",
      "8/8 [==============================] - 1s 81ms/step - loss: 1.9381 - accuracy: 0.1881 - val_loss: 1.9615 - val_accuracy: 0.2023\n",
      "Epoch 20/100\n",
      "8/8 [==============================] - 1s 83ms/step - loss: 1.9274 - accuracy: 0.1912 - val_loss: 1.9549 - val_accuracy: 0.1909\n",
      "Epoch 21/100\n",
      "8/8 [==============================] - 1s 83ms/step - loss: 1.9209 - accuracy: 0.1912 - val_loss: 1.9464 - val_accuracy: 0.1909\n",
      "Epoch 22/100\n",
      "8/8 [==============================] - 1s 83ms/step - loss: 1.9234 - accuracy: 0.1942 - val_loss: 1.9422 - val_accuracy: 0.1886\n",
      "Epoch 23/100\n",
      "8/8 [==============================] - 1s 83ms/step - loss: 1.9298 - accuracy: 0.1955 - val_loss: 1.9308 - val_accuracy: 0.2045\n",
      "Epoch 24/100\n",
      "8/8 [==============================] - 1s 82ms/step - loss: 2.0202 - accuracy: 0.1922 - val_loss: 1.9225 - val_accuracy: 0.2023\n",
      "Epoch 25/100\n",
      "8/8 [==============================] - 1s 83ms/step - loss: 1.9428 - accuracy: 0.1967 - val_loss: 2.0137 - val_accuracy: 0.1886\n",
      "Epoch 26/100\n",
      "8/8 [==============================] - 1s 81ms/step - loss: 1.9360 - accuracy: 0.1884 - val_loss: 1.9500 - val_accuracy: 0.1909\n",
      "Epoch 27/100\n",
      "8/8 [==============================] - 1s 82ms/step - loss: 1.9067 - accuracy: 0.1927 - val_loss: 1.9127 - val_accuracy: 0.2114\n",
      "Epoch 28/100\n",
      "8/8 [==============================] - 1s 81ms/step - loss: 1.8838 - accuracy: 0.1977 - val_loss: 1.8991 - val_accuracy: 0.2159\n",
      "Epoch 29/100\n",
      "8/8 [==============================] - 1s 82ms/step - loss: 1.8775 - accuracy: 0.2020 - val_loss: 1.9142 - val_accuracy: 0.2136\n",
      "Epoch 30/100\n",
      "8/8 [==============================] - 1s 84ms/step - loss: 1.8810 - accuracy: 0.2048 - val_loss: 1.8832 - val_accuracy: 0.1909\n",
      "Epoch 31/100\n",
      "8/8 [==============================] - 1s 82ms/step - loss: 1.9102 - accuracy: 0.1934 - val_loss: 1.8947 - val_accuracy: 0.2091\n",
      "Epoch 32/100\n",
      "8/8 [==============================] - 1s 82ms/step - loss: 1.9201 - accuracy: 0.1937 - val_loss: 1.9182 - val_accuracy: 0.1977\n",
      "Epoch 33/100\n",
      "8/8 [==============================] - 1s 81ms/step - loss: 1.8756 - accuracy: 0.2020 - val_loss: 1.8855 - val_accuracy: 0.2045\n",
      "Epoch 34/100\n",
      "8/8 [==============================] - 1s 84ms/step - loss: 1.8486 - accuracy: 0.2076 - val_loss: 1.8612 - val_accuracy: 0.1955\n",
      "Epoch 35/100\n",
      "8/8 [==============================] - 1s 82ms/step - loss: 1.8345 - accuracy: 0.2061 - val_loss: 1.8384 - val_accuracy: 0.2227\n",
      "Epoch 36/100\n",
      "8/8 [==============================] - 1s 83ms/step - loss: 1.8136 - accuracy: 0.2116 - val_loss: 1.8302 - val_accuracy: 0.2250\n",
      "Epoch 37/100\n",
      "8/8 [==============================] - 1s 82ms/step - loss: 1.8047 - accuracy: 0.2071 - val_loss: 1.8269 - val_accuracy: 0.1659\n",
      "Epoch 38/100\n",
      "8/8 [==============================] - 1s 83ms/step - loss: 1.7998 - accuracy: 0.2187 - val_loss: 1.8098 - val_accuracy: 0.2432\n",
      "Epoch 39/100\n",
      "8/8 [==============================] - 1s 81ms/step - loss: 1.7918 - accuracy: 0.2141 - val_loss: 1.8472 - val_accuracy: 0.2477\n",
      "Epoch 40/100\n",
      "8/8 [==============================] - 1s 82ms/step - loss: 1.8029 - accuracy: 0.2250 - val_loss: 1.7953 - val_accuracy: 0.2250\n",
      "Epoch 41/100\n",
      "8/8 [==============================] - 1s 82ms/step - loss: 1.7694 - accuracy: 0.2227 - val_loss: 1.7985 - val_accuracy: 0.2409\n",
      "Epoch 42/100\n",
      "8/8 [==============================] - 1s 82ms/step - loss: 1.7748 - accuracy: 0.2263 - val_loss: 1.7749 - val_accuracy: 0.2409\n",
      "Epoch 43/100\n",
      "8/8 [==============================] - 1s 81ms/step - loss: 1.7600 - accuracy: 0.2306 - val_loss: 1.7723 - val_accuracy: 0.2159\n",
      "Epoch 44/100\n",
      "8/8 [==============================] - 1s 82ms/step - loss: 1.7552 - accuracy: 0.2227 - val_loss: 1.8055 - val_accuracy: 0.2295\n",
      "Epoch 45/100\n",
      "8/8 [==============================] - 1s 82ms/step - loss: 1.8321 - accuracy: 0.2098 - val_loss: 1.7689 - val_accuracy: 0.2364\n",
      "Epoch 46/100\n",
      "8/8 [==============================] - 1s 82ms/step - loss: 1.8516 - accuracy: 0.1947 - val_loss: 1.8308 - val_accuracy: 0.2023\n",
      "Epoch 47/100\n",
      "8/8 [==============================] - 1s 81ms/step - loss: 1.7862 - accuracy: 0.2028 - val_loss: 1.7703 - val_accuracy: 0.2273\n",
      "Epoch 48/100\n",
      "8/8 [==============================] - 1s 84ms/step - loss: 1.7688 - accuracy: 0.2081 - val_loss: 1.7622 - val_accuracy: 0.2455\n",
      "Epoch 49/100\n",
      "8/8 [==============================] - 1s 83ms/step - loss: 1.7292 - accuracy: 0.2263 - val_loss: 1.7241 - val_accuracy: 0.2409\n",
      "Epoch 50/100\n",
      "8/8 [==============================] - 1s 82ms/step - loss: 1.7176 - accuracy: 0.2318 - val_loss: 1.7180 - val_accuracy: 0.2409\n",
      "Epoch 51/100\n",
      "8/8 [==============================] - 1s 82ms/step - loss: 1.6981 - accuracy: 0.2432 - val_loss: 1.7075 - val_accuracy: 0.2614\n",
      "Epoch 52/100\n",
      "8/8 [==============================] - 1s 83ms/step - loss: 1.6875 - accuracy: 0.2566 - val_loss: 1.7152 - val_accuracy: 0.2409\n",
      "Epoch 53/100\n"
     ]
    },
    {
     "name": "stdout",
     "output_type": "stream",
     "text": [
      "8/8 [==============================] - 1s 82ms/step - loss: 1.7000 - accuracy: 0.2386 - val_loss: 1.6901 - val_accuracy: 0.2591\n",
      "Epoch 54/100\n",
      "8/8 [==============================] - 1s 81ms/step - loss: 1.6722 - accuracy: 0.2404 - val_loss: 1.7224 - val_accuracy: 0.2205\n",
      "Epoch 55/100\n",
      "8/8 [==============================] - 1s 81ms/step - loss: 1.7016 - accuracy: 0.2412 - val_loss: 1.7559 - val_accuracy: 0.2068\n",
      "Epoch 56/100\n",
      "8/8 [==============================] - 1s 82ms/step - loss: 1.7050 - accuracy: 0.2298 - val_loss: 1.7138 - val_accuracy: 0.2341\n",
      "Epoch 57/100\n",
      "8/8 [==============================] - 1s 81ms/step - loss: 1.6971 - accuracy: 0.2316 - val_loss: 1.6909 - val_accuracy: 0.2568\n",
      "Epoch 58/100\n",
      "8/8 [==============================] - 1s 81ms/step - loss: 1.6576 - accuracy: 0.2475 - val_loss: 1.6676 - val_accuracy: 0.2750\n",
      "Epoch 59/100\n",
      "8/8 [==============================] - 1s 82ms/step - loss: 1.6620 - accuracy: 0.2500 - val_loss: 1.6749 - val_accuracy: 0.2000\n",
      "Epoch 60/100\n",
      "8/8 [==============================] - 1s 81ms/step - loss: 1.6455 - accuracy: 0.2548 - val_loss: 1.6622 - val_accuracy: 0.2341\n",
      "Epoch 61/100\n",
      "8/8 [==============================] - 1s 82ms/step - loss: 1.6276 - accuracy: 0.2467 - val_loss: 1.6405 - val_accuracy: 0.2318\n",
      "Epoch 62/100\n",
      "8/8 [==============================] - 1s 83ms/step - loss: 1.6434 - accuracy: 0.2631 - val_loss: 1.7064 - val_accuracy: 0.2000\n",
      "Epoch 63/100\n",
      "8/8 [==============================] - 1s 81ms/step - loss: 1.6396 - accuracy: 0.2422 - val_loss: 1.6486 - val_accuracy: 0.2091\n",
      "Epoch 64/100\n",
      "8/8 [==============================] - 1s 83ms/step - loss: 1.6390 - accuracy: 0.2583 - val_loss: 1.6610 - val_accuracy: 0.2136\n",
      "Epoch 65/100\n",
      "8/8 [==============================] - 1s 84ms/step - loss: 1.6379 - accuracy: 0.2621 - val_loss: 1.7513 - val_accuracy: 0.1682\n",
      "Epoch 66/100\n",
      "8/8 [==============================] - 1s 83ms/step - loss: 1.6755 - accuracy: 0.2434 - val_loss: 1.7731 - val_accuracy: 0.1682\n",
      "Epoch 67/100\n",
      "8/8 [==============================] - 1s 82ms/step - loss: 1.6552 - accuracy: 0.2495 - val_loss: 1.6597 - val_accuracy: 0.2136\n",
      "Epoch 68/100\n",
      "8/8 [==============================] - 1s 82ms/step - loss: 1.6214 - accuracy: 0.2611 - val_loss: 1.6101 - val_accuracy: 0.2568\n",
      "Epoch 69/100\n",
      "8/8 [==============================] - 1s 83ms/step - loss: 1.5943 - accuracy: 0.2881 - val_loss: 1.6121 - val_accuracy: 0.2614\n",
      "Epoch 70/100\n",
      "8/8 [==============================] - 1s 82ms/step - loss: 1.5889 - accuracy: 0.2755 - val_loss: 1.6220 - val_accuracy: 0.2386\n",
      "Epoch 71/100\n",
      "8/8 [==============================] - 1s 83ms/step - loss: 1.5832 - accuracy: 0.2869 - val_loss: 1.5950 - val_accuracy: 0.2727\n",
      "Epoch 72/100\n",
      "8/8 [==============================] - 1s 83ms/step - loss: 1.5772 - accuracy: 0.2886 - val_loss: 1.6461 - val_accuracy: 0.2159\n",
      "Epoch 73/100\n",
      "8/8 [==============================] - 1s 82ms/step - loss: 1.5966 - accuracy: 0.2657 - val_loss: 1.6686 - val_accuracy: 0.2341\n",
      "Epoch 74/100\n",
      "8/8 [==============================] - 1s 81ms/step - loss: 1.8264 - accuracy: 0.2205 - val_loss: 2.0309 - val_accuracy: 0.1500\n",
      "Epoch 75/100\n",
      "8/8 [==============================] - 1s 81ms/step - loss: 2.4980 - accuracy: 0.1379 - val_loss: 3.7235 - val_accuracy: 0.1500\n",
      "Epoch 76/100\n",
      "8/8 [==============================] - 1s 82ms/step - loss: 2.3697 - accuracy: 0.1614 - val_loss: 1.8091 - val_accuracy: 0.1955\n",
      "Epoch 77/100\n",
      "8/8 [==============================] - 1s 82ms/step - loss: 1.8701 - accuracy: 0.2035 - val_loss: 1.7375 - val_accuracy: 0.1909\n",
      "Epoch 78/100\n",
      "8/8 [==============================] - 1s 81ms/step - loss: 1.7103 - accuracy: 0.2391 - val_loss: 1.6322 - val_accuracy: 0.2727\n",
      "Epoch 79/100\n",
      "8/8 [==============================] - 1s 83ms/step - loss: 1.6312 - accuracy: 0.2530 - val_loss: 1.6210 - val_accuracy: 0.2409\n",
      "Epoch 80/100\n",
      "8/8 [==============================] - 1s 82ms/step - loss: 1.6093 - accuracy: 0.2692 - val_loss: 1.6203 - val_accuracy: 0.2318\n",
      "Epoch 81/100\n",
      "8/8 [==============================] - 1s 83ms/step - loss: 1.5992 - accuracy: 0.2851 - val_loss: 1.6070 - val_accuracy: 0.2545\n",
      "Epoch 82/100\n",
      "8/8 [==============================] - 1s 81ms/step - loss: 1.5895 - accuracy: 0.2899 - val_loss: 1.6000 - val_accuracy: 0.2500\n",
      "Epoch 83/100\n",
      "8/8 [==============================] - 1s 81ms/step - loss: 1.5869 - accuracy: 0.2955 - val_loss: 1.6033 - val_accuracy: 0.2341\n",
      "Epoch 84/100\n",
      "8/8 [==============================] - 1s 82ms/step - loss: 1.5855 - accuracy: 0.2854 - val_loss: 1.6235 - val_accuracy: 0.2045\n",
      "Epoch 85/100\n",
      "8/8 [==============================] - 1s 81ms/step - loss: 1.5881 - accuracy: 0.2823 - val_loss: 1.5869 - val_accuracy: 0.3000\n",
      "Epoch 86/100\n",
      "8/8 [==============================] - 1s 82ms/step - loss: 1.5867 - accuracy: 0.2813 - val_loss: 1.5829 - val_accuracy: 0.2932\n",
      "Epoch 87/100\n",
      "8/8 [==============================] - 1s 82ms/step - loss: 1.5657 - accuracy: 0.3098 - val_loss: 1.5815 - val_accuracy: 0.2682\n",
      "Epoch 88/100\n",
      "8/8 [==============================] - 1s 81ms/step - loss: 1.5604 - accuracy: 0.3015 - val_loss: 1.5792 - val_accuracy: 0.2659\n",
      "Epoch 89/100\n",
      "8/8 [==============================] - 1s 82ms/step - loss: 1.5543 - accuracy: 0.3028 - val_loss: 1.5725 - val_accuracy: 0.2795\n",
      "Epoch 90/100\n",
      "8/8 [==============================] - 1s 84ms/step - loss: 1.5537 - accuracy: 0.3063 - val_loss: 1.6117 - val_accuracy: 0.2795\n",
      "Epoch 91/100\n",
      "8/8 [==============================] - 1s 81ms/step - loss: 1.5659 - accuracy: 0.2836 - val_loss: 1.5644 - val_accuracy: 0.2977\n",
      "Epoch 92/100\n",
      "8/8 [==============================] - 1s 81ms/step - loss: 1.5443 - accuracy: 0.3197 - val_loss: 1.5828 - val_accuracy: 0.2795\n",
      "Epoch 93/100\n",
      "8/8 [==============================] - 1s 84ms/step - loss: 1.5521 - accuracy: 0.2960 - val_loss: 1.5520 - val_accuracy: 0.2932\n",
      "Epoch 94/100\n",
      "8/8 [==============================] - 1s 83ms/step - loss: 1.5458 - accuracy: 0.3013 - val_loss: 1.5548 - val_accuracy: 0.2795\n",
      "Epoch 95/100\n",
      "8/8 [==============================] - 1s 82ms/step - loss: 1.5448 - accuracy: 0.2977 - val_loss: 1.5570 - val_accuracy: 0.3091\n",
      "Epoch 96/100\n",
      "8/8 [==============================] - 1s 83ms/step - loss: 1.5302 - accuracy: 0.3278 - val_loss: 1.5510 - val_accuracy: 0.2886\n",
      "Epoch 97/100\n",
      "8/8 [==============================] - 1s 84ms/step - loss: 1.5345 - accuracy: 0.3028 - val_loss: 1.5508 - val_accuracy: 0.2568\n",
      "Epoch 98/100\n",
      "8/8 [==============================] - 1s 81ms/step - loss: 1.5420 - accuracy: 0.3066 - val_loss: 1.5439 - val_accuracy: 0.3045\n",
      "Epoch 99/100\n",
      "8/8 [==============================] - 1s 81ms/step - loss: 1.5287 - accuracy: 0.3179 - val_loss: 1.5739 - val_accuracy: 0.2614\n",
      "Epoch 100/100\n",
      "8/8 [==============================] - 1s 83ms/step - loss: 1.5818 - accuracy: 0.2790 - val_loss: 1.5669 - val_accuracy: 0.2750\n",
      "35/35 [==============================] - 0s 4ms/step - loss: 1.5849 - accuracy: 0.2618\n"
     ]
    },
    {
     "data": {
      "image/png": "[encoded data removed]",
      "text/plain": [
       "<Figure size 504x432 with 2 Axes>"
      ]
     },
     "metadata": {
      "needs_background": "light"
     },
     "output_type": "display_data"
    },
    {
     "name": "stdout",
     "output_type": "stream",
     "text": [
      "Precision:0.174\n",
      "Recall:0.262\n",
      "F1_score:0.157\n",
      "              precision    recall  f1-score   support\n",
      "\n",
      "           0       0.00      0.00      0.00        88\n",
      "           1       0.29      1.00      0.45        77\n",
      "           2       0.00      0.00      0.00       109\n",
      "           3       0.00      0.00      0.00       100\n",
      "           4       0.50      0.40      0.45        89\n",
      "           5       0.44      0.67      0.53       108\n",
      "           6       0.50      0.01      0.02       106\n",
      "           7       0.00      0.00      0.00       102\n",
      "           8       0.00      0.00      0.00       103\n",
      "           9       0.00      0.00      0.00       116\n",
      "          10       0.23      1.00      0.38       102\n",
      "\n",
      "    accuracy                           0.26      1100\n",
      "   macro avg       0.18      0.28      0.17      1100\n",
      "weighted avg       0.17      0.26      0.16      1100\n",
      "\n",
      "Epoch 1/100\n",
      "8/8 [==============================] - 1s 125ms/step - loss: 2.3981 - accuracy: 0.0909 - val_loss: 2.3979 - val_accuracy: 0.0818\n",
      "Epoch 2/100\n",
      "8/8 [==============================] - 1s 82ms/step - loss: 2.3980 - accuracy: 0.0967 - val_loss: 2.3978 - val_accuracy: 0.0818\n",
      "Epoch 3/100\n",
      "8/8 [==============================] - 1s 82ms/step - loss: 2.3977 - accuracy: 0.0967 - val_loss: 2.3980 - val_accuracy: 0.0818\n",
      "Epoch 4/100\n",
      "8/8 [==============================] - 1s 83ms/step - loss: 2.3977 - accuracy: 0.0967 - val_loss: 2.3980 - val_accuracy: 0.0818\n",
      "Epoch 5/100\n",
      "8/8 [==============================] - 1s 82ms/step - loss: 2.3975 - accuracy: 0.0967 - val_loss: 2.3981 - val_accuracy: 0.0818\n",
      "Epoch 6/100\n",
      "8/8 [==============================] - 1s 81ms/step - loss: 2.3975 - accuracy: 0.0967 - val_loss: 2.3983 - val_accuracy: 0.0818\n",
      "Epoch 7/100\n",
      "8/8 [==============================] - 1s 82ms/step - loss: 2.3975 - accuracy: 0.0967 - val_loss: 2.3983 - val_accuracy: 0.0818\n",
      "Epoch 8/100\n",
      "8/8 [==============================] - 1s 83ms/step - loss: 2.3974 - accuracy: 0.0967 - val_loss: 2.3983 - val_accuracy: 0.0818\n",
      "Epoch 9/100\n",
      "8/8 [==============================] - 1s 82ms/step - loss: 2.3974 - accuracy: 0.0967 - val_loss: 2.3984 - val_accuracy: 0.0818\n",
      "Epoch 10/100\n",
      "8/8 [==============================] - 1s 82ms/step - loss: 2.3974 - accuracy: 0.0967 - val_loss: 2.3984 - val_accuracy: 0.0818\n",
      "Epoch 11/100\n",
      "8/8 [==============================] - 1s 82ms/step - loss: 2.3973 - accuracy: 0.0967 - val_loss: 2.3985 - val_accuracy: 0.0818\n",
      "Epoch 12/100\n",
      "8/8 [==============================] - 1s 82ms/step - loss: 2.3974 - accuracy: 0.0967 - val_loss: 2.3987 - val_accuracy: 0.0818\n",
      "Epoch 13/100\n",
      "8/8 [==============================] - 1s 84ms/step - loss: 2.3973 - accuracy: 0.0967 - val_loss: 2.3988 - val_accuracy: 0.0818\n",
      "Epoch 14/100\n",
      "8/8 [==============================] - 1s 84ms/step - loss: 2.3973 - accuracy: 0.0967 - val_loss: 2.3987 - val_accuracy: 0.0818\n",
      "Epoch 15/100\n",
      "8/8 [==============================] - 1s 81ms/step - loss: 2.3973 - accuracy: 0.0967 - val_loss: 2.3988 - val_accuracy: 0.0818\n",
      "Epoch 16/100\n",
      "8/8 [==============================] - 1s 84ms/step - loss: 2.3972 - accuracy: 0.0967 - val_loss: 2.3987 - val_accuracy: 0.0818\n",
      "Epoch 17/100\n",
      "8/8 [==============================] - 1s 84ms/step - loss: 2.3972 - accuracy: 0.0967 - val_loss: 2.3989 - val_accuracy: 0.0818\n",
      "Epoch 18/100\n",
      "8/8 [==============================] - 1s 82ms/step - loss: 2.3973 - accuracy: 0.0967 - val_loss: 2.3990 - val_accuracy: 0.0818\n",
      "Epoch 19/100\n",
      "8/8 [==============================] - 1s 82ms/step - loss: 2.3972 - accuracy: 0.0967 - val_loss: 2.3991 - val_accuracy: 0.0818\n",
      "Epoch 20/100\n",
      "8/8 [==============================] - 1s 84ms/step - loss: 2.3972 - accuracy: 0.0967 - val_loss: 2.3991 - val_accuracy: 0.0818\n",
      "Epoch 21/100\n",
      "8/8 [==============================] - 1s 82ms/step - loss: 2.3972 - accuracy: 0.0967 - val_loss: 2.3991 - val_accuracy: 0.0818\n",
      "Epoch 22/100\n",
      "8/8 [==============================] - 1s 82ms/step - loss: 2.3972 - accuracy: 0.0967 - val_loss: 2.3991 - val_accuracy: 0.0818\n",
      "Epoch 23/100\n",
      "8/8 [==============================] - 1s 83ms/step - loss: 2.3972 - accuracy: 0.0967 - val_loss: 2.3991 - val_accuracy: 0.0818\n",
      "Epoch 24/100\n",
      "8/8 [==============================] - 1s 82ms/step - loss: 2.3987 - accuracy: 0.0967 - val_loss: 2.3992 - val_accuracy: 0.0818\n",
      "Epoch 25/100\n",
      "8/8 [==============================] - 1s 84ms/step - loss: 2.3972 - accuracy: 0.0967 - val_loss: 2.3993 - val_accuracy: 0.0818\n",
      "Epoch 26/100\n",
      "8/8 [==============================] - 1s 82ms/step - loss: 2.3973 - accuracy: 0.0967 - val_loss: 2.3994 - val_accuracy: 0.0818\n",
      "Epoch 27/100\n",
      "8/8 [==============================] - 1s 84ms/step - loss: 2.3972 - accuracy: 0.0967 - val_loss: 2.3994 - val_accuracy: 0.0818\n",
      "Epoch 28/100\n",
      "8/8 [==============================] - 1s 84ms/step - loss: 2.3972 - accuracy: 0.0967 - val_loss: 2.3994 - val_accuracy: 0.0818\n",
      "Epoch 29/100\n",
      "8/8 [==============================] - 1s 84ms/step - loss: 2.3973 - accuracy: 0.0967 - val_loss: 2.3995 - val_accuracy: 0.0818\n",
      "Epoch 30/100\n",
      "8/8 [==============================] - 1s 82ms/step - loss: 2.3972 - accuracy: 0.0967 - val_loss: 2.3994 - val_accuracy: 0.0818\n",
      "Epoch 31/100\n",
      "8/8 [==============================] - 1s 83ms/step - loss: 2.3972 - accuracy: 0.0967 - val_loss: 2.3994 - val_accuracy: 0.0818\n",
      "Epoch 32/100\n",
      "8/8 [==============================] - 1s 81ms/step - loss: 2.3972 - accuracy: 0.0967 - val_loss: 2.3994 - val_accuracy: 0.0818\n",
      "Epoch 33/100\n",
      "8/8 [==============================] - 1s 82ms/step - loss: 2.3972 - accuracy: 0.0967 - val_loss: 2.3994 - val_accuracy: 0.0818\n",
      "Epoch 34/100\n",
      "8/8 [==============================] - 1s 84ms/step - loss: 2.3972 - accuracy: 0.0967 - val_loss: 2.3995 - val_accuracy: 0.0818\n",
      "Epoch 35/100\n",
      "8/8 [==============================] - 1s 84ms/step - loss: 2.3972 - accuracy: 0.0967 - val_loss: 2.3994 - val_accuracy: 0.0818\n",
      "Epoch 36/100\n",
      "8/8 [==============================] - 1s 82ms/step - loss: 2.3972 - accuracy: 0.0967 - val_loss: 2.3994 - val_accuracy: 0.0818\n",
      "Epoch 37/100\n",
      "8/8 [==============================] - 1s 82ms/step - loss: 2.3972 - accuracy: 0.0967 - val_loss: 2.3995 - val_accuracy: 0.0818\n",
      "Epoch 38/100\n",
      "8/8 [==============================] - 1s 81ms/step - loss: 2.3972 - accuracy: 0.0967 - val_loss: 2.3995 - val_accuracy: 0.0818\n",
      "Epoch 39/100\n",
      "8/8 [==============================] - 1s 81ms/step - loss: 2.3971 - accuracy: 0.0967 - val_loss: 2.3995 - val_accuracy: 0.0818\n",
      "Epoch 40/100\n",
      "8/8 [==============================] - 1s 84ms/step - loss: 2.3971 - accuracy: 0.0967 - val_loss: 2.3995 - val_accuracy: 0.0818\n",
      "Epoch 41/100\n",
      "8/8 [==============================] - 1s 84ms/step - loss: 2.3971 - accuracy: 0.0967 - val_loss: 2.3996 - val_accuracy: 0.0818\n",
      "Epoch 42/100\n",
      "8/8 [==============================] - 1s 82ms/step - loss: 2.3972 - accuracy: 0.0967 - val_loss: 2.3996 - val_accuracy: 0.0818\n",
      "Epoch 43/100\n",
      "8/8 [==============================] - 1s 82ms/step - loss: 2.3971 - accuracy: 0.0967 - val_loss: 2.3996 - val_accuracy: 0.0818\n",
      "Epoch 44/100\n",
      "8/8 [==============================] - 1s 82ms/step - loss: 2.3971 - accuracy: 0.0967 - val_loss: 2.3996 - val_accuracy: 0.0818\n",
      "Epoch 45/100\n",
      "8/8 [==============================] - 1s 82ms/step - loss: 2.3972 - accuracy: 0.0967 - val_loss: 2.3996 - val_accuracy: 0.0818\n",
      "Epoch 46/100\n",
      "8/8 [==============================] - 1s 83ms/step - loss: 2.3971 - accuracy: 0.0967 - val_loss: 2.3996 - val_accuracy: 0.0818\n",
      "Epoch 47/100\n",
      "8/8 [==============================] - 1s 83ms/step - loss: 2.3972 - accuracy: 0.0967 - val_loss: 2.3996 - val_accuracy: 0.0818\n",
      "Epoch 48/100\n",
      "8/8 [==============================] - 1s 81ms/step - loss: 2.3972 - accuracy: 0.0967 - val_loss: 2.3996 - val_accuracy: 0.0818\n",
      "Epoch 49/100\n",
      "8/8 [==============================] - 1s 82ms/step - loss: 2.3971 - accuracy: 0.0967 - val_loss: 2.3997 - val_accuracy: 0.0818\n",
      "Epoch 50/100\n",
      "8/8 [==============================] - 1s 81ms/step - loss: 2.3971 - accuracy: 0.0967 - val_loss: 2.3996 - val_accuracy: 0.0818\n",
      "Epoch 51/100\n",
      "8/8 [==============================] - 1s 81ms/step - loss: 2.3971 - accuracy: 0.0967 - val_loss: 2.3996 - val_accuracy: 0.0818\n",
      "Epoch 52/100\n",
      "8/8 [==============================] - 1s 81ms/step - loss: 2.3972 - accuracy: 0.0967 - val_loss: 2.3997 - val_accuracy: 0.0818\n",
      "Epoch 53/100\n"
     ]
    },
    {
     "name": "stdout",
     "output_type": "stream",
     "text": [
      "8/8 [==============================] - 1s 83ms/step - loss: 2.3971 - accuracy: 0.0967 - val_loss: 2.3996 - val_accuracy: 0.0818\n",
      "Epoch 54/100\n",
      "8/8 [==============================] - 1s 81ms/step - loss: 2.3972 - accuracy: 0.0967 - val_loss: 2.3996 - val_accuracy: 0.0818\n",
      "Epoch 55/100\n",
      "8/8 [==============================] - 1s 81ms/step - loss: 2.3971 - accuracy: 0.0967 - val_loss: 2.3996 - val_accuracy: 0.0818\n",
      "Epoch 56/100\n",
      "8/8 [==============================] - 1s 83ms/step - loss: 2.3971 - accuracy: 0.0967 - val_loss: 2.3996 - val_accuracy: 0.0818\n",
      "Epoch 57/100\n",
      "8/8 [==============================] - 1s 83ms/step - loss: 2.3971 - accuracy: 0.0967 - val_loss: 2.3996 - val_accuracy: 0.0818\n",
      "Epoch 58/100\n",
      "8/8 [==============================] - 1s 81ms/step - loss: 2.3971 - accuracy: 0.0967 - val_loss: 2.3996 - val_accuracy: 0.0818\n",
      "Epoch 59/100\n",
      "8/8 [==============================] - 1s 81ms/step - loss: 2.3971 - accuracy: 0.0967 - val_loss: 2.3996 - val_accuracy: 0.0818\n",
      "Epoch 60/100\n",
      "8/8 [==============================] - 1s 81ms/step - loss: 2.3971 - accuracy: 0.0967 - val_loss: 2.3996 - val_accuracy: 0.0818\n",
      "Epoch 61/100\n",
      "8/8 [==============================] - 1s 81ms/step - loss: 2.3972 - accuracy: 0.0967 - val_loss: 2.3996 - val_accuracy: 0.0818\n",
      "Epoch 62/100\n",
      "8/8 [==============================] - 1s 82ms/step - loss: 2.3971 - accuracy: 0.0967 - val_loss: 2.3996 - val_accuracy: 0.0818\n",
      "Epoch 63/100\n",
      "8/8 [==============================] - 1s 82ms/step - loss: 2.3971 - accuracy: 0.0967 - val_loss: 2.3997 - val_accuracy: 0.0818\n",
      "Epoch 64/100\n",
      "8/8 [==============================] - 1s 84ms/step - loss: 2.3972 - accuracy: 0.0967 - val_loss: 2.3997 - val_accuracy: 0.0818\n",
      "Epoch 65/100\n",
      "8/8 [==============================] - 1s 82ms/step - loss: 2.3972 - accuracy: 0.0967 - val_loss: 2.3997 - val_accuracy: 0.0818\n",
      "Epoch 66/100\n",
      "8/8 [==============================] - 1s 83ms/step - loss: 2.3971 - accuracy: 0.0967 - val_loss: 2.3997 - val_accuracy: 0.0818\n",
      "Epoch 67/100\n",
      "8/8 [==============================] - 1s 83ms/step - loss: 2.3971 - accuracy: 0.0967 - val_loss: 2.3997 - val_accuracy: 0.0818\n",
      "Epoch 68/100\n",
      "8/8 [==============================] - 1s 81ms/step - loss: 2.3972 - accuracy: 0.0967 - val_loss: 2.3997 - val_accuracy: 0.0818\n",
      "Epoch 69/100\n",
      "8/8 [==============================] - 1s 81ms/step - loss: 2.3972 - accuracy: 0.0967 - val_loss: 2.3997 - val_accuracy: 0.0818\n",
      "Epoch 70/100\n",
      "8/8 [==============================] - 1s 81ms/step - loss: 2.3971 - accuracy: 0.0967 - val_loss: 2.3997 - val_accuracy: 0.0818\n",
      "Epoch 71/100\n",
      "8/8 [==============================] - 1s 81ms/step - loss: 2.3972 - accuracy: 0.0967 - val_loss: 2.3997 - val_accuracy: 0.0818\n",
      "Epoch 72/100\n",
      "8/8 [==============================] - 1s 81ms/step - loss: 2.3971 - accuracy: 0.0967 - val_loss: 2.3997 - val_accuracy: 0.0818\n",
      "Epoch 73/100\n",
      "8/8 [==============================] - 1s 81ms/step - loss: 2.3972 - accuracy: 0.0967 - val_loss: 2.3997 - val_accuracy: 0.0818\n",
      "Epoch 74/100\n",
      "8/8 [==============================] - 1s 82ms/step - loss: 2.3972 - accuracy: 0.0967 - val_loss: 2.3997 - val_accuracy: 0.0818\n",
      "Epoch 75/100\n",
      "8/8 [==============================] - 1s 81ms/step - loss: 2.3972 - accuracy: 0.0967 - val_loss: 2.3996 - val_accuracy: 0.0818\n",
      "Epoch 76/100\n",
      "8/8 [==============================] - 1s 82ms/step - loss: 2.3972 - accuracy: 0.0967 - val_loss: 2.3996 - val_accuracy: 0.0818\n",
      "Epoch 77/100\n",
      "8/8 [==============================] - 1s 81ms/step - loss: 2.3972 - accuracy: 0.0967 - val_loss: 2.3997 - val_accuracy: 0.0818\n",
      "Epoch 78/100\n",
      "8/8 [==============================] - 1s 81ms/step - loss: 2.3972 - accuracy: 0.0967 - val_loss: 2.3997 - val_accuracy: 0.0818\n",
      "Epoch 79/100\n",
      "8/8 [==============================] - 1s 83ms/step - loss: 2.3972 - accuracy: 0.0967 - val_loss: 2.3997 - val_accuracy: 0.0818\n",
      "Epoch 80/100\n",
      "8/8 [==============================] - 1s 81ms/step - loss: 2.3971 - accuracy: 0.0967 - val_loss: 2.3997 - val_accuracy: 0.0818\n",
      "Epoch 81/100\n",
      "8/8 [==============================] - 1s 82ms/step - loss: 2.3972 - accuracy: 0.0967 - val_loss: 2.3997 - val_accuracy: 0.0818\n",
      "Epoch 82/100\n",
      "8/8 [==============================] - 1s 82ms/step - loss: 2.3972 - accuracy: 0.0967 - val_loss: 2.3997 - val_accuracy: 0.0818\n",
      "Epoch 83/100\n",
      "8/8 [==============================] - 1s 81ms/step - loss: 2.3972 - accuracy: 0.0967 - val_loss: 2.3997 - val_accuracy: 0.0818\n",
      "Epoch 84/100\n",
      "8/8 [==============================] - 1s 82ms/step - loss: 2.3972 - accuracy: 0.0967 - val_loss: 2.3997 - val_accuracy: 0.0818\n",
      "Epoch 85/100\n",
      "8/8 [==============================] - 1s 81ms/step - loss: 2.3972 - accuracy: 0.0967 - val_loss: 2.3997 - val_accuracy: 0.0818\n",
      "Epoch 86/100\n",
      "8/8 [==============================] - 1s 81ms/step - loss: 2.3972 - accuracy: 0.0967 - val_loss: 2.3997 - val_accuracy: 0.0818\n",
      "Epoch 87/100\n",
      "8/8 [==============================] - 1s 83ms/step - loss: 2.3972 - accuracy: 0.0967 - val_loss: 2.3996 - val_accuracy: 0.0818\n",
      "Epoch 88/100\n",
      "8/8 [==============================] - 1s 83ms/step - loss: 2.3971 - accuracy: 0.0967 - val_loss: 2.3996 - val_accuracy: 0.0818\n",
      "Epoch 89/100\n",
      "8/8 [==============================] - 1s 82ms/step - loss: 2.3971 - accuracy: 0.0967 - val_loss: 2.3995 - val_accuracy: 0.0818\n",
      "Epoch 90/100\n",
      "8/8 [==============================] - 1s 82ms/step - loss: 2.3972 - accuracy: 0.0967 - val_loss: 2.3996 - val_accuracy: 0.0818\n",
      "Epoch 91/100\n",
      "8/8 [==============================] - 1s 82ms/step - loss: 2.3971 - accuracy: 0.0967 - val_loss: 2.3995 - val_accuracy: 0.0818\n",
      "Epoch 92/100\n",
      "8/8 [==============================] - 1s 82ms/step - loss: 2.3972 - accuracy: 0.0967 - val_loss: 2.3996 - val_accuracy: 0.0818\n",
      "Epoch 93/100\n",
      "8/8 [==============================] - 1s 83ms/step - loss: 2.3971 - accuracy: 0.0967 - val_loss: 2.3996 - val_accuracy: 0.0818\n",
      "Epoch 94/100\n",
      "8/8 [==============================] - 1s 81ms/step - loss: 2.3972 - accuracy: 0.0967 - val_loss: 2.3996 - val_accuracy: 0.0818\n",
      "Epoch 95/100\n",
      "8/8 [==============================] - 1s 81ms/step - loss: 2.3971 - accuracy: 0.0967 - val_loss: 2.3996 - val_accuracy: 0.0818\n",
      "Epoch 96/100\n",
      "8/8 [==============================] - 1s 82ms/step - loss: 2.3972 - accuracy: 0.0967 - val_loss: 2.3996 - val_accuracy: 0.0818\n",
      "Epoch 97/100\n",
      "8/8 [==============================] - 1s 82ms/step - loss: 2.3971 - accuracy: 0.0967 - val_loss: 2.3996 - val_accuracy: 0.0818\n",
      "Epoch 98/100\n",
      "8/8 [==============================] - 1s 81ms/step - loss: 2.3972 - accuracy: 0.0967 - val_loss: 2.3996 - val_accuracy: 0.0818\n",
      "Epoch 99/100\n",
      "8/8 [==============================] - 1s 81ms/step - loss: 2.3971 - accuracy: 0.0967 - val_loss: 2.3996 - val_accuracy: 0.0818\n",
      "Epoch 100/100\n",
      "8/8 [==============================] - 1s 83ms/step - loss: 2.3971 - accuracy: 0.0967 - val_loss: 2.3996 - val_accuracy: 0.0818\n",
      "35/35 [==============================] - 0s 5ms/step - loss: 2.4038 - accuracy: 0.0736\n"
     ]
    },
    {
     "data": {
      "image/png": "[encoded data removed]",
      "text/plain": [
       "<Figure size 504x432 with 2 Axes>"
      ]
     },
     "metadata": {
      "needs_background": "light"
     },
     "output_type": "display_data"
    },
    {
     "name": "stdout",
     "output_type": "stream",
     "text": [
      "Precision:0.00542\n",
      "Recall:0.0736\n",
      "F1_score:0.0101\n",
      "              precision    recall  f1-score   support\n",
      "\n",
      "           0       0.00      0.00      0.00       120\n",
      "           1       0.00      0.00      0.00       123\n",
      "           2       0.00      0.00      0.00        81\n",
      "           3       0.00      0.00      0.00        93\n",
      "           4       0.00      0.00      0.00       103\n",
      "           5       0.00      0.00      0.00       102\n",
      "           6       0.00      0.00      0.00        81\n",
      "           7       0.00      0.00      0.00       102\n",
      "           8       0.00      0.00      0.00       106\n",
      "           9       0.00      0.00      0.00       108\n",
      "          10       0.07      1.00      0.14        81\n",
      "\n",
      "    accuracy                           0.07      1100\n",
      "   macro avg       0.01      0.09      0.01      1100\n",
      "weighted avg       0.01      0.07      0.01      1100\n",
      "\n",
      "Epoch 1/100\n",
      "8/8 [==============================] - 1s 100ms/step - loss: 2.3983 - accuracy: 0.0952 - val_loss: 2.3986 - val_accuracy: 0.0932\n",
      "Epoch 2/100\n",
      "8/8 [==============================] - 1s 84ms/step - loss: 2.3966 - accuracy: 0.0947 - val_loss: 2.3961 - val_accuracy: 0.0932\n",
      "Epoch 3/100\n",
      "8/8 [==============================] - 1s 81ms/step - loss: 2.3975 - accuracy: 0.0917 - val_loss: 2.3983 - val_accuracy: 0.0659\n",
      "Epoch 4/100\n",
      "8/8 [==============================] - 1s 83ms/step - loss: 2.3977 - accuracy: 0.0934 - val_loss: 2.3986 - val_accuracy: 0.0659\n",
      "Epoch 5/100\n",
      "8/8 [==============================] - 1s 83ms/step - loss: 2.3977 - accuracy: 0.0934 - val_loss: 2.3990 - val_accuracy: 0.0659\n",
      "Epoch 6/100\n",
      "8/8 [==============================] - 1s 81ms/step - loss: 2.3976 - accuracy: 0.0934 - val_loss: 2.3993 - val_accuracy: 0.0659\n",
      "Epoch 7/100\n",
      "8/8 [==============================] - 1s 82ms/step - loss: 2.3976 - accuracy: 0.0934 - val_loss: 2.3996 - val_accuracy: 0.0659\n",
      "Epoch 8/100\n",
      "8/8 [==============================] - 1s 82ms/step - loss: 2.3976 - accuracy: 0.0934 - val_loss: 2.3996 - val_accuracy: 0.0659\n",
      "Epoch 9/100\n",
      "8/8 [==============================] - 1s 82ms/step - loss: 2.3975 - accuracy: 0.0934 - val_loss: 2.3998 - val_accuracy: 0.0659\n",
      "Epoch 10/100\n",
      "8/8 [==============================] - 1s 82ms/step - loss: 2.3975 - accuracy: 0.0934 - val_loss: 2.3999 - val_accuracy: 0.0659\n",
      "Epoch 11/100\n",
      "8/8 [==============================] - 1s 81ms/step - loss: 2.3975 - accuracy: 0.0934 - val_loss: 2.4000 - val_accuracy: 0.0659\n",
      "Epoch 12/100\n",
      "8/8 [==============================] - 1s 81ms/step - loss: 2.3975 - accuracy: 0.0934 - val_loss: 2.4002 - val_accuracy: 0.0659\n",
      "Epoch 13/100\n",
      "8/8 [==============================] - 1s 81ms/step - loss: 2.3975 - accuracy: 0.0934 - val_loss: 2.4004 - val_accuracy: 0.0659\n",
      "Epoch 14/100\n",
      "8/8 [==============================] - 1s 81ms/step - loss: 2.3975 - accuracy: 0.0934 - val_loss: 2.4005 - val_accuracy: 0.0659\n",
      "Epoch 15/100\n",
      "8/8 [==============================] - 1s 82ms/step - loss: 2.3975 - accuracy: 0.0934 - val_loss: 2.4006 - val_accuracy: 0.0659\n",
      "Epoch 16/100\n",
      "8/8 [==============================] - 1s 81ms/step - loss: 2.3975 - accuracy: 0.0934 - val_loss: 2.4006 - val_accuracy: 0.0659\n",
      "Epoch 17/100\n",
      "8/8 [==============================] - 1s 82ms/step - loss: 2.3975 - accuracy: 0.0934 - val_loss: 2.4005 - val_accuracy: 0.0932\n",
      "Epoch 18/100\n",
      "8/8 [==============================] - 1s 83ms/step - loss: 2.3975 - accuracy: 0.0947 - val_loss: 2.4006 - val_accuracy: 0.0932\n",
      "Epoch 19/100\n",
      "8/8 [==============================] - 1s 82ms/step - loss: 2.3975 - accuracy: 0.0947 - val_loss: 2.4006 - val_accuracy: 0.0932\n",
      "Epoch 20/100\n",
      "8/8 [==============================] - 1s 82ms/step - loss: 2.3974 - accuracy: 0.0947 - val_loss: 2.4006 - val_accuracy: 0.0932\n",
      "Epoch 21/100\n",
      "8/8 [==============================] - 1s 82ms/step - loss: 2.3975 - accuracy: 0.0947 - val_loss: 2.4007 - val_accuracy: 0.0932\n",
      "Epoch 22/100\n",
      "8/8 [==============================] - 1s 84ms/step - loss: 2.3975 - accuracy: 0.0947 - val_loss: 2.4007 - val_accuracy: 0.0932\n",
      "Epoch 23/100\n",
      "8/8 [==============================] - 1s 81ms/step - loss: 2.3975 - accuracy: 0.0947 - val_loss: 2.4008 - val_accuracy: 0.0932\n",
      "Epoch 24/100\n",
      "8/8 [==============================] - 1s 81ms/step - loss: 2.3974 - accuracy: 0.0947 - val_loss: 2.4009 - val_accuracy: 0.0932\n",
      "Epoch 25/100\n",
      "8/8 [==============================] - 1s 83ms/step - loss: 2.3974 - accuracy: 0.0947 - val_loss: 2.4008 - val_accuracy: 0.0932\n",
      "Epoch 26/100\n",
      "8/8 [==============================] - 1s 85ms/step - loss: 2.3975 - accuracy: 0.0909 - val_loss: 2.4008 - val_accuracy: 0.0932\n",
      "Epoch 27/100\n",
      "8/8 [==============================] - 1s 82ms/step - loss: 2.3975 - accuracy: 0.0947 - val_loss: 2.4007 - val_accuracy: 0.0932\n",
      "Epoch 28/100\n",
      "8/8 [==============================] - 1s 81ms/step - loss: 2.3974 - accuracy: 0.0947 - val_loss: 2.4008 - val_accuracy: 0.0932\n",
      "Epoch 29/100\n",
      "8/8 [==============================] - 1s 81ms/step - loss: 2.3975 - accuracy: 0.0947 - val_loss: 2.4009 - val_accuracy: 0.0932\n",
      "Epoch 30/100\n",
      "8/8 [==============================] - 1s 83ms/step - loss: 2.3974 - accuracy: 0.0947 - val_loss: 2.4010 - val_accuracy: 0.0932\n",
      "Epoch 31/100\n",
      "8/8 [==============================] - 1s 84ms/step - loss: 2.3974 - accuracy: 0.0947 - val_loss: 2.4010 - val_accuracy: 0.0932\n",
      "Epoch 32/100\n",
      "8/8 [==============================] - 1s 84ms/step - loss: 2.3974 - accuracy: 0.0947 - val_loss: 2.4011 - val_accuracy: 0.0932\n",
      "Epoch 33/100\n",
      "8/8 [==============================] - 1s 82ms/step - loss: 2.3974 - accuracy: 0.0917 - val_loss: 2.4012 - val_accuracy: 0.0932\n",
      "Epoch 34/100\n",
      "8/8 [==============================] - 1s 83ms/step - loss: 2.3974 - accuracy: 0.0947 - val_loss: 2.4011 - val_accuracy: 0.0932\n",
      "Epoch 35/100\n",
      "8/8 [==============================] - 1s 83ms/step - loss: 2.3974 - accuracy: 0.0947 - val_loss: 2.4011 - val_accuracy: 0.0932\n",
      "Epoch 36/100\n",
      "8/8 [==============================] - 1s 82ms/step - loss: 2.3974 - accuracy: 0.0947 - val_loss: 2.4010 - val_accuracy: 0.0932\n",
      "Epoch 37/100\n",
      "8/8 [==============================] - 1s 82ms/step - loss: 2.3975 - accuracy: 0.0884 - val_loss: 2.4010 - val_accuracy: 0.0932\n",
      "Epoch 38/100\n",
      "8/8 [==============================] - 1s 81ms/step - loss: 2.3974 - accuracy: 0.0947 - val_loss: 2.4010 - val_accuracy: 0.0932\n",
      "Epoch 39/100\n",
      "8/8 [==============================] - 1s 83ms/step - loss: 2.3974 - accuracy: 0.0947 - val_loss: 2.4011 - val_accuracy: 0.0932\n",
      "Epoch 40/100\n",
      "8/8 [==============================] - 1s 81ms/step - loss: 2.3974 - accuracy: 0.0947 - val_loss: 2.4010 - val_accuracy: 0.0932\n",
      "Epoch 41/100\n",
      "8/8 [==============================] - 1s 84ms/step - loss: 2.3974 - accuracy: 0.0947 - val_loss: 2.4010 - val_accuracy: 0.0932\n",
      "Epoch 42/100\n",
      "8/8 [==============================] - 1s 81ms/step - loss: 2.3974 - accuracy: 0.0947 - val_loss: 2.4010 - val_accuracy: 0.0932\n",
      "Epoch 43/100\n",
      "8/8 [==============================] - 1s 83ms/step - loss: 2.3974 - accuracy: 0.0947 - val_loss: 2.4009 - val_accuracy: 0.0932\n",
      "Epoch 44/100\n",
      "8/8 [==============================] - 1s 83ms/step - loss: 2.3974 - accuracy: 0.0947 - val_loss: 2.4010 - val_accuracy: 0.0932\n",
      "Epoch 45/100\n",
      "8/8 [==============================] - 1s 82ms/step - loss: 2.3974 - accuracy: 0.0947 - val_loss: 2.4010 - val_accuracy: 0.0932\n",
      "Epoch 46/100\n",
      "8/8 [==============================] - 1s 81ms/step - loss: 2.3974 - accuracy: 0.0947 - val_loss: 2.4009 - val_accuracy: 0.0932\n",
      "Epoch 47/100\n",
      "8/8 [==============================] - 1s 84ms/step - loss: 2.3974 - accuracy: 0.0866 - val_loss: 2.4010 - val_accuracy: 0.0932\n",
      "Epoch 48/100\n",
      "8/8 [==============================] - 1s 81ms/step - loss: 2.3974 - accuracy: 0.0947 - val_loss: 2.4011 - val_accuracy: 0.0932\n",
      "Epoch 49/100\n",
      "8/8 [==============================] - 1s 83ms/step - loss: 2.3974 - accuracy: 0.0947 - val_loss: 2.4010 - val_accuracy: 0.0932\n",
      "Epoch 50/100\n",
      "8/8 [==============================] - 1s 83ms/step - loss: 2.3974 - accuracy: 0.0947 - val_loss: 2.4010 - val_accuracy: 0.0932\n",
      "Epoch 51/100\n",
      "8/8 [==============================] - 1s 81ms/step - loss: 2.3974 - accuracy: 0.0947 - val_loss: 2.4010 - val_accuracy: 0.0932\n",
      "Epoch 52/100\n",
      "8/8 [==============================] - 1s 83ms/step - loss: 2.3974 - accuracy: 0.0947 - val_loss: 2.4010 - val_accuracy: 0.0932\n",
      "Epoch 53/100\n"
     ]
    },
    {
     "name": "stdout",
     "output_type": "stream",
     "text": [
      "8/8 [==============================] - 1s 82ms/step - loss: 2.3974 - accuracy: 0.0947 - val_loss: 2.4010 - val_accuracy: 0.0932\n",
      "Epoch 54/100\n",
      "8/8 [==============================] - 1s 83ms/step - loss: 2.3974 - accuracy: 0.0947 - val_loss: 2.4010 - val_accuracy: 0.0932\n",
      "Epoch 55/100\n",
      "8/8 [==============================] - 1s 81ms/step - loss: 2.3974 - accuracy: 0.0947 - val_loss: 2.4011 - val_accuracy: 0.0932\n",
      "Epoch 56/100\n",
      "8/8 [==============================] - 1s 81ms/step - loss: 2.3974 - accuracy: 0.0947 - val_loss: 2.4010 - val_accuracy: 0.0932\n",
      "Epoch 57/100\n",
      "8/8 [==============================] - 1s 81ms/step - loss: 2.3974 - accuracy: 0.0912 - val_loss: 2.4011 - val_accuracy: 0.0932\n",
      "Epoch 58/100\n",
      "8/8 [==============================] - 1s 82ms/step - loss: 2.3974 - accuracy: 0.0904 - val_loss: 2.4010 - val_accuracy: 0.0932\n",
      "Epoch 59/100\n",
      "8/8 [==============================] - 1s 82ms/step - loss: 2.3974 - accuracy: 0.0947 - val_loss: 2.4010 - val_accuracy: 0.0932\n",
      "Epoch 60/100\n",
      "8/8 [==============================] - 1s 82ms/step - loss: 2.3974 - accuracy: 0.0947 - val_loss: 2.4010 - val_accuracy: 0.0932\n",
      "Epoch 61/100\n",
      "8/8 [==============================] - 1s 83ms/step - loss: 2.3974 - accuracy: 0.0947 - val_loss: 2.4010 - val_accuracy: 0.0932\n",
      "Epoch 62/100\n",
      "8/8 [==============================] - 1s 83ms/step - loss: 2.3974 - accuracy: 0.0934 - val_loss: 2.4009 - val_accuracy: 0.0932\n",
      "Epoch 63/100\n",
      "8/8 [==============================] - 1s 82ms/step - loss: 2.3974 - accuracy: 0.0947 - val_loss: 2.4011 - val_accuracy: 0.0932\n",
      "Epoch 64/100\n",
      "8/8 [==============================] - 1s 81ms/step - loss: 2.3974 - accuracy: 0.0947 - val_loss: 2.4010 - val_accuracy: 0.0932\n",
      "Epoch 65/100\n",
      "8/8 [==============================] - 1s 81ms/step - loss: 2.3974 - accuracy: 0.0947 - val_loss: 2.4009 - val_accuracy: 0.0932\n",
      "Epoch 66/100\n",
      "8/8 [==============================] - 1s 81ms/step - loss: 2.3974 - accuracy: 0.0947 - val_loss: 2.4010 - val_accuracy: 0.0932\n",
      "Epoch 67/100\n",
      "8/8 [==============================] - 1s 81ms/step - loss: 2.3974 - accuracy: 0.0947 - val_loss: 2.4011 - val_accuracy: 0.0932\n",
      "Epoch 68/100\n",
      "8/8 [==============================] - 1s 81ms/step - loss: 2.3975 - accuracy: 0.0947 - val_loss: 2.4012 - val_accuracy: 0.0932\n",
      "Epoch 69/100\n",
      "8/8 [==============================] - 1s 83ms/step - loss: 2.3974 - accuracy: 0.0947 - val_loss: 2.4011 - val_accuracy: 0.0932\n",
      "Epoch 70/100\n",
      "8/8 [==============================] - 1s 83ms/step - loss: 2.3974 - accuracy: 0.0947 - val_loss: 2.4011 - val_accuracy: 0.0932\n",
      "Epoch 71/100\n",
      "8/8 [==============================] - 1s 84ms/step - loss: 2.3974 - accuracy: 0.0947 - val_loss: 2.4010 - val_accuracy: 0.0932\n",
      "Epoch 72/100\n",
      "8/8 [==============================] - 1s 81ms/step - loss: 2.3974 - accuracy: 0.0886 - val_loss: 2.4010 - val_accuracy: 0.0932\n",
      "Epoch 73/100\n",
      "8/8 [==============================] - 1s 82ms/step - loss: 2.3974 - accuracy: 0.0947 - val_loss: 2.4010 - val_accuracy: 0.0932\n",
      "Epoch 74/100\n",
      "8/8 [==============================] - 1s 81ms/step - loss: 2.3974 - accuracy: 0.0947 - val_loss: 2.4009 - val_accuracy: 0.0932\n",
      "Epoch 75/100\n",
      "8/8 [==============================] - 1s 83ms/step - loss: 2.3974 - accuracy: 0.0949 - val_loss: 2.4010 - val_accuracy: 0.0932\n",
      "Epoch 76/100\n",
      "8/8 [==============================] - 1s 81ms/step - loss: 2.3974 - accuracy: 0.0924 - val_loss: 2.4010 - val_accuracy: 0.0932\n",
      "Epoch 77/100\n",
      "8/8 [==============================] - 1s 82ms/step - loss: 2.3974 - accuracy: 0.0947 - val_loss: 2.4010 - val_accuracy: 0.0932\n",
      "Epoch 78/100\n",
      "8/8 [==============================] - 1s 84ms/step - loss: 2.3974 - accuracy: 0.0902 - val_loss: 2.4009 - val_accuracy: 0.0932\n",
      "Epoch 79/100\n",
      "8/8 [==============================] - 1s 82ms/step - loss: 2.3975 - accuracy: 0.0884 - val_loss: 2.4009 - val_accuracy: 0.0932\n",
      "Epoch 80/100\n",
      "8/8 [==============================] - 1s 81ms/step - loss: 2.3974 - accuracy: 0.0912 - val_loss: 2.4009 - val_accuracy: 0.0932\n",
      "Epoch 81/100\n",
      "8/8 [==============================] - 1s 81ms/step - loss: 2.3974 - accuracy: 0.0942 - val_loss: 2.4009 - val_accuracy: 0.0932\n",
      "Epoch 82/100\n",
      "8/8 [==============================] - 1s 82ms/step - loss: 2.3974 - accuracy: 0.0904 - val_loss: 2.4008 - val_accuracy: 0.0932\n",
      "Epoch 83/100\n",
      "8/8 [==============================] - 1s 81ms/step - loss: 2.3974 - accuracy: 0.0947 - val_loss: 2.4009 - val_accuracy: 0.0932\n",
      "Epoch 84/100\n",
      "8/8 [==============================] - 1s 81ms/step - loss: 2.3974 - accuracy: 0.0904 - val_loss: 2.4010 - val_accuracy: 0.0932\n",
      "Epoch 85/100\n",
      "8/8 [==============================] - 1s 83ms/step - loss: 2.3974 - accuracy: 0.0934 - val_loss: 2.4010 - val_accuracy: 0.0932\n",
      "Epoch 86/100\n",
      "8/8 [==============================] - 1s 83ms/step - loss: 2.3974 - accuracy: 0.0894 - val_loss: 2.4011 - val_accuracy: 0.0932\n",
      "Epoch 87/100\n",
      "8/8 [==============================] - 1s 84ms/step - loss: 2.3974 - accuracy: 0.0947 - val_loss: 2.4010 - val_accuracy: 0.0932\n",
      "Epoch 88/100\n",
      "8/8 [==============================] - 1s 84ms/step - loss: 2.3974 - accuracy: 0.0947 - val_loss: 2.4011 - val_accuracy: 0.0932\n",
      "Epoch 89/100\n",
      "8/8 [==============================] - 1s 82ms/step - loss: 2.3974 - accuracy: 0.0947 - val_loss: 2.4011 - val_accuracy: 0.0932\n",
      "Epoch 90/100\n",
      "8/8 [==============================] - 1s 82ms/step - loss: 2.3974 - accuracy: 0.0947 - val_loss: 2.4011 - val_accuracy: 0.0932\n",
      "Epoch 91/100\n",
      "8/8 [==============================] - 1s 81ms/step - loss: 2.3974 - accuracy: 0.0947 - val_loss: 2.4010 - val_accuracy: 0.0932\n",
      "Epoch 92/100\n",
      "8/8 [==============================] - 1s 84ms/step - loss: 2.3974 - accuracy: 0.0896 - val_loss: 2.4010 - val_accuracy: 0.0932\n",
      "Epoch 93/100\n",
      "8/8 [==============================] - 1s 84ms/step - loss: 2.3974 - accuracy: 0.0947 - val_loss: 2.4011 - val_accuracy: 0.0932\n",
      "Epoch 94/100\n",
      "8/8 [==============================] - 1s 81ms/step - loss: 2.3974 - accuracy: 0.0947 - val_loss: 2.4011 - val_accuracy: 0.0932\n",
      "Epoch 95/100\n",
      "8/8 [==============================] - 1s 81ms/step - loss: 2.3974 - accuracy: 0.0947 - val_loss: 2.4011 - val_accuracy: 0.0932\n",
      "Epoch 96/100\n",
      "8/8 [==============================] - 1s 81ms/step - loss: 2.3974 - accuracy: 0.0947 - val_loss: 2.4011 - val_accuracy: 0.0932\n",
      "Epoch 97/100\n",
      "8/8 [==============================] - 1s 81ms/step - loss: 2.3974 - accuracy: 0.0947 - val_loss: 2.4010 - val_accuracy: 0.0932\n",
      "Epoch 98/100\n",
      "8/8 [==============================] - 1s 81ms/step - loss: 2.3974 - accuracy: 0.0947 - val_loss: 2.4010 - val_accuracy: 0.0932\n",
      "Epoch 99/100\n",
      "8/8 [==============================] - 1s 84ms/step - loss: 2.3974 - accuracy: 0.0947 - val_loss: 2.4009 - val_accuracy: 0.0932\n",
      "Epoch 100/100\n",
      "8/8 [==============================] - 1s 82ms/step - loss: 2.3974 - accuracy: 0.0884 - val_loss: 2.4010 - val_accuracy: 0.0932\n",
      "35/35 [==============================] - 0s 5ms/step - loss: 2.4008 - accuracy: 0.0764\n"
     ]
    },
    {
     "data": {
      "image/png": "[encoded data removed]",
      "text/plain": [
       "<Figure size 504x432 with 2 Axes>"
      ]
     },
     "metadata": {
      "needs_background": "light"
     },
     "output_type": "display_data"
    },
    {
     "name": "stdout",
     "output_type": "stream",
     "text": [
      "Precision:0.00583\n",
      "Recall:0.0764\n",
      "F1_score:0.0108\n",
      "              precision    recall  f1-score   support\n",
      "\n",
      "           0       0.00      0.00      0.00       103\n",
      "           1       0.00      0.00      0.00        84\n",
      "           2       0.00      0.00      0.00       105\n",
      "           3       0.00      0.00      0.00       103\n",
      "           4       0.00      0.00      0.00       112\n",
      "           5       0.08      1.00      0.14        84\n",
      "           6       0.00      0.00      0.00        99\n",
      "           7       0.00      0.00      0.00        93\n",
      "           8       0.00      0.00      0.00       117\n",
      "           9       0.00      0.00      0.00        99\n",
      "          10       0.00      0.00      0.00       101\n",
      "\n",
      "    accuracy                           0.08      1100\n",
      "   macro avg       0.01      0.09      0.01      1100\n",
      "weighted avg       0.01      0.08      0.01      1100\n",
      "\n",
      "Epoch 1/100\n",
      "8/8 [==============================] - 1s 103ms/step - loss: 2.4357 - accuracy: 0.0818 - val_loss: 2.3973 - val_accuracy: 0.1273\n",
      "Epoch 2/100\n",
      "8/8 [==============================] - 1s 84ms/step - loss: 2.3978 - accuracy: 0.0760 - val_loss: 2.3980 - val_accuracy: 0.0727\n",
      "Epoch 3/100\n",
      "8/8 [==============================] - 1s 82ms/step - loss: 2.3977 - accuracy: 0.0811 - val_loss: 2.3965 - val_accuracy: 0.1273\n",
      "Epoch 4/100\n",
      "8/8 [==============================] - 1s 82ms/step - loss: 2.3979 - accuracy: 0.0778 - val_loss: 2.3975 - val_accuracy: 0.0864\n",
      "Epoch 5/100\n",
      "8/8 [==============================] - 1s 82ms/step - loss: 2.3970 - accuracy: 0.0919 - val_loss: 2.3977 - val_accuracy: 0.0727\n",
      "Epoch 6/100\n",
      "8/8 [==============================] - 1s 82ms/step - loss: 2.3976 - accuracy: 0.0907 - val_loss: 2.3967 - val_accuracy: 0.0727\n",
      "Epoch 7/100\n",
      "8/8 [==============================] - 1s 81ms/step - loss: 2.3949 - accuracy: 0.0747 - val_loss: 2.3925 - val_accuracy: 0.0000e+00\n",
      "Epoch 8/100\n",
      "8/8 [==============================] - 1s 82ms/step - loss: 2.3940 - accuracy: 0.1033 - val_loss: 2.3861 - val_accuracy: 0.1273\n",
      "Epoch 9/100\n",
      "8/8 [==============================] - 1s 82ms/step - loss: 2.3868 - accuracy: 0.0904 - val_loss: 2.3838 - val_accuracy: 0.1795\n",
      "Epoch 10/100\n",
      "8/8 [==============================] - 1s 81ms/step - loss: 2.3764 - accuracy: 0.1263 - val_loss: 2.3593 - val_accuracy: 0.0909\n",
      "Epoch 11/100\n",
      "8/8 [==============================] - 1s 82ms/step - loss: 2.3408 - accuracy: 0.1364 - val_loss: 2.3196 - val_accuracy: 0.1795\n",
      "Epoch 12/100\n",
      "8/8 [==============================] - 1s 81ms/step - loss: 2.3221 - accuracy: 0.1659 - val_loss: 2.2848 - val_accuracy: 0.1795\n",
      "Epoch 13/100\n",
      "8/8 [==============================] - 1s 83ms/step - loss: 2.2832 - accuracy: 0.1811 - val_loss: 2.3239 - val_accuracy: 0.1477\n",
      "Epoch 14/100\n",
      "8/8 [==============================] - 1s 81ms/step - loss: 2.2677 - accuracy: 0.1727 - val_loss: 2.2736 - val_accuracy: 0.1864\n",
      "Epoch 15/100\n",
      "8/8 [==============================] - 1s 81ms/step - loss: 2.2226 - accuracy: 0.1576 - val_loss: 2.1880 - val_accuracy: 0.1750\n",
      "Epoch 16/100\n",
      "8/8 [==============================] - 1s 82ms/step - loss: 2.1629 - accuracy: 0.1874 - val_loss: 2.1459 - val_accuracy: 0.1750\n",
      "Epoch 17/100\n",
      "8/8 [==============================] - 1s 83ms/step - loss: 2.1058 - accuracy: 0.1884 - val_loss: 2.1123 - val_accuracy: 0.1818\n",
      "Epoch 18/100\n",
      "8/8 [==============================] - 1s 82ms/step - loss: 2.0543 - accuracy: 0.1909 - val_loss: 2.0795 - val_accuracy: 0.1750\n",
      "Epoch 19/100\n",
      "8/8 [==============================] - 1s 82ms/step - loss: 2.0162 - accuracy: 0.1937 - val_loss: 2.0395 - val_accuracy: 0.1795\n",
      "Epoch 20/100\n",
      "8/8 [==============================] - 1s 82ms/step - loss: 1.9803 - accuracy: 0.1907 - val_loss: 2.0048 - val_accuracy: 0.1818\n",
      "Epoch 21/100\n",
      "8/8 [==============================] - 1s 82ms/step - loss: 1.9527 - accuracy: 0.1899 - val_loss: 1.9798 - val_accuracy: 0.1750\n",
      "Epoch 22/100\n",
      "8/8 [==============================] - 1s 82ms/step - loss: 1.9496 - accuracy: 0.1924 - val_loss: 2.0516 - val_accuracy: 0.2182\n",
      "Epoch 23/100\n",
      "8/8 [==============================] - 1s 82ms/step - loss: 2.0140 - accuracy: 0.2033 - val_loss: 2.0167 - val_accuracy: 0.1909\n",
      "Epoch 24/100\n",
      "8/8 [==============================] - 1s 82ms/step - loss: 2.0988 - accuracy: 0.1929 - val_loss: 2.0375 - val_accuracy: 0.1795\n",
      "Epoch 25/100\n",
      "8/8 [==============================] - 1s 82ms/step - loss: 2.0893 - accuracy: 0.1917 - val_loss: 2.0501 - val_accuracy: 0.1773\n",
      "Epoch 26/100\n",
      "8/8 [==============================] - 1s 82ms/step - loss: 1.9802 - accuracy: 0.1947 - val_loss: 1.9566 - val_accuracy: 0.2068\n",
      "Epoch 27/100\n",
      "8/8 [==============================] - 1s 83ms/step - loss: 1.9015 - accuracy: 0.2018 - val_loss: 1.9096 - val_accuracy: 0.1864\n",
      "Epoch 28/100\n",
      "8/8 [==============================] - 1s 84ms/step - loss: 1.8661 - accuracy: 0.1972 - val_loss: 1.8991 - val_accuracy: 0.1841\n",
      "Epoch 29/100\n",
      "8/8 [==============================] - 1s 81ms/step - loss: 1.8485 - accuracy: 0.1985 - val_loss: 1.8777 - val_accuracy: 0.1886\n",
      "Epoch 30/100\n",
      "8/8 [==============================] - 1s 85ms/step - loss: 1.8341 - accuracy: 0.2028 - val_loss: 1.8745 - val_accuracy: 0.1932\n",
      "Epoch 31/100\n",
      "8/8 [==============================] - 1s 81ms/step - loss: 1.8190 - accuracy: 0.2035 - val_loss: 1.8623 - val_accuracy: 0.1955\n",
      "Epoch 32/100\n",
      "8/8 [==============================] - 1s 82ms/step - loss: 1.8077 - accuracy: 0.2058 - val_loss: 1.8589 - val_accuracy: 0.1955\n",
      "Epoch 33/100\n",
      "8/8 [==============================] - 1s 84ms/step - loss: 1.8138 - accuracy: 0.2071 - val_loss: 1.8310 - val_accuracy: 0.2023\n",
      "Epoch 34/100\n",
      "8/8 [==============================] - 1s 82ms/step - loss: 1.8028 - accuracy: 0.2071 - val_loss: 1.8104 - val_accuracy: 0.1955\n",
      "Epoch 35/100\n",
      "8/8 [==============================] - 1s 81ms/step - loss: 1.7872 - accuracy: 0.2146 - val_loss: 1.8586 - val_accuracy: 0.2227\n",
      "Epoch 36/100\n",
      "8/8 [==============================] - 1s 83ms/step - loss: 1.7907 - accuracy: 0.2230 - val_loss: 1.7893 - val_accuracy: 0.2114\n",
      "Epoch 37/100\n",
      "8/8 [==============================] - 1s 83ms/step - loss: 1.7507 - accuracy: 0.2083 - val_loss: 1.7757 - val_accuracy: 0.2000\n",
      "Epoch 38/100\n",
      "8/8 [==============================] - 1s 81ms/step - loss: 1.7374 - accuracy: 0.2114 - val_loss: 1.7697 - val_accuracy: 0.2205\n",
      "Epoch 39/100\n",
      "8/8 [==============================] - 1s 83ms/step - loss: 1.7335 - accuracy: 0.2235 - val_loss: 1.7524 - val_accuracy: 0.1977\n",
      "Epoch 40/100\n",
      "8/8 [==============================] - 1s 83ms/step - loss: 1.7222 - accuracy: 0.2124 - val_loss: 1.7451 - val_accuracy: 0.2295\n",
      "Epoch 41/100\n",
      "8/8 [==============================] - 1s 81ms/step - loss: 1.7110 - accuracy: 0.2227 - val_loss: 1.7301 - val_accuracy: 0.2182\n",
      "Epoch 42/100\n",
      "8/8 [==============================] - 1s 81ms/step - loss: 1.7012 - accuracy: 0.2275 - val_loss: 1.7349 - val_accuracy: 0.1841\n",
      "Epoch 43/100\n",
      "8/8 [==============================] - 1s 82ms/step - loss: 1.7253 - accuracy: 0.2255 - val_loss: 1.7665 - val_accuracy: 0.2432\n",
      "Epoch 44/100\n",
      "8/8 [==============================] - 1s 83ms/step - loss: 1.7197 - accuracy: 0.2356 - val_loss: 1.7291 - val_accuracy: 0.1864\n",
      "Epoch 45/100\n",
      "8/8 [==============================] - 1s 82ms/step - loss: 1.7247 - accuracy: 0.2328 - val_loss: 1.7052 - val_accuracy: 0.2273\n",
      "Epoch 46/100\n",
      "8/8 [==============================] - 1s 81ms/step - loss: 1.7349 - accuracy: 0.2278 - val_loss: 1.7820 - val_accuracy: 0.2364\n",
      "Epoch 47/100\n",
      "8/8 [==============================] - 1s 82ms/step - loss: 1.6890 - accuracy: 0.2402 - val_loss: 1.6949 - val_accuracy: 0.2273\n",
      "Epoch 48/100\n",
      "8/8 [==============================] - 1s 82ms/step - loss: 1.6720 - accuracy: 0.2306 - val_loss: 1.6758 - val_accuracy: 0.2023\n",
      "Epoch 49/100\n",
      "8/8 [==============================] - 1s 81ms/step - loss: 1.6688 - accuracy: 0.2336 - val_loss: 1.7370 - val_accuracy: 0.2500\n",
      "Epoch 50/100\n",
      "8/8 [==============================] - 1s 82ms/step - loss: 1.6805 - accuracy: 0.2588 - val_loss: 1.6911 - val_accuracy: 0.2386\n",
      "Epoch 51/100\n",
      "8/8 [==============================] - 1s 83ms/step - loss: 1.6540 - accuracy: 0.2303 - val_loss: 1.6588 - val_accuracy: 0.2023\n",
      "Epoch 52/100\n",
      "8/8 [==============================] - 1s 83ms/step - loss: 1.6588 - accuracy: 0.2513 - val_loss: 1.6713 - val_accuracy: 0.2659\n",
      "Epoch 53/100\n"
     ]
    },
    {
     "name": "stdout",
     "output_type": "stream",
     "text": [
      "8/8 [==============================] - 1s 82ms/step - loss: 1.7325 - accuracy: 0.2414 - val_loss: 1.6557 - val_accuracy: 0.2409\n",
      "Epoch 54/100\n",
      "8/8 [==============================] - 1s 83ms/step - loss: 1.7091 - accuracy: 0.2462 - val_loss: 1.8384 - val_accuracy: 0.1773\n",
      "Epoch 55/100\n",
      "8/8 [==============================] - 1s 82ms/step - loss: 1.7210 - accuracy: 0.2457 - val_loss: 1.6489 - val_accuracy: 0.2023\n",
      "Epoch 56/100\n",
      "8/8 [==============================] - 1s 83ms/step - loss: 1.7103 - accuracy: 0.2586 - val_loss: 1.8876 - val_accuracy: 0.1705\n",
      "Epoch 57/100\n",
      "8/8 [==============================] - 1s 82ms/step - loss: 1.7557 - accuracy: 0.2313 - val_loss: 1.6426 - val_accuracy: 0.2250\n",
      "Epoch 58/100\n",
      "8/8 [==============================] - 1s 82ms/step - loss: 1.7024 - accuracy: 0.2376 - val_loss: 1.6942 - val_accuracy: 0.2682\n",
      "Epoch 59/100\n",
      "8/8 [==============================] - 1s 83ms/step - loss: 1.6653 - accuracy: 0.2662 - val_loss: 1.7200 - val_accuracy: 0.2864\n",
      "Epoch 60/100\n",
      "8/8 [==============================] - 1s 83ms/step - loss: 1.6725 - accuracy: 0.2644 - val_loss: 1.7338 - val_accuracy: 0.2568\n",
      "Epoch 61/100\n",
      "8/8 [==============================] - 1s 84ms/step - loss: 1.6733 - accuracy: 0.2616 - val_loss: 1.7790 - val_accuracy: 0.2523\n",
      "Epoch 62/100\n",
      "8/8 [==============================] - 1s 82ms/step - loss: 1.6653 - accuracy: 0.2568 - val_loss: 1.6887 - val_accuracy: 0.2727\n",
      "Epoch 63/100\n",
      "8/8 [==============================] - 1s 83ms/step - loss: 1.6354 - accuracy: 0.2644 - val_loss: 1.6396 - val_accuracy: 0.2795\n",
      "Epoch 64/100\n",
      "8/8 [==============================] - 1s 82ms/step - loss: 1.6298 - accuracy: 0.2737 - val_loss: 1.6210 - val_accuracy: 0.2545\n",
      "Epoch 65/100\n",
      "8/8 [==============================] - 1s 82ms/step - loss: 1.6112 - accuracy: 0.2513 - val_loss: 1.6197 - val_accuracy: 0.2545\n",
      "Epoch 66/100\n",
      "8/8 [==============================] - 1s 84ms/step - loss: 1.5956 - accuracy: 0.2520 - val_loss: 1.6063 - val_accuracy: 0.2273\n",
      "Epoch 67/100\n",
      "8/8 [==============================] - 1s 81ms/step - loss: 1.5959 - accuracy: 0.2452 - val_loss: 1.6227 - val_accuracy: 0.2773\n",
      "Epoch 68/100\n",
      "8/8 [==============================] - 1s 84ms/step - loss: 1.6082 - accuracy: 0.2760 - val_loss: 1.6436 - val_accuracy: 0.3000\n",
      "Epoch 69/100\n",
      "8/8 [==============================] - 1s 83ms/step - loss: 1.5919 - accuracy: 0.2664 - val_loss: 1.5929 - val_accuracy: 0.2523\n",
      "Epoch 70/100\n",
      "8/8 [==============================] - 1s 82ms/step - loss: 1.5887 - accuracy: 0.2813 - val_loss: 1.6010 - val_accuracy: 0.2614\n",
      "Epoch 71/100\n",
      "8/8 [==============================] - 1s 83ms/step - loss: 1.5894 - accuracy: 0.2641 - val_loss: 1.6252 - val_accuracy: 0.3000\n",
      "Epoch 72/100\n",
      "8/8 [==============================] - 1s 83ms/step - loss: 1.6105 - accuracy: 0.2907 - val_loss: 1.6581 - val_accuracy: 0.3136\n",
      "Epoch 73/100\n",
      "8/8 [==============================] - 1s 81ms/step - loss: 1.6279 - accuracy: 0.2780 - val_loss: 1.6097 - val_accuracy: 0.2000\n",
      "Epoch 74/100\n",
      "8/8 [==============================] - 1s 83ms/step - loss: 1.5977 - accuracy: 0.2833 - val_loss: 1.5946 - val_accuracy: 0.2068\n",
      "Epoch 75/100\n",
      "8/8 [==============================] - 1s 83ms/step - loss: 1.5757 - accuracy: 0.2788 - val_loss: 1.5909 - val_accuracy: 0.2045\n",
      "Epoch 76/100\n",
      "8/8 [==============================] - 1s 81ms/step - loss: 1.5825 - accuracy: 0.2629 - val_loss: 1.5956 - val_accuracy: 0.3227\n",
      "Epoch 77/100\n",
      "8/8 [==============================] - 1s 83ms/step - loss: 1.5723 - accuracy: 0.3154 - val_loss: 1.6352 - val_accuracy: 0.3159\n",
      "Epoch 78/100\n",
      "8/8 [==============================] - 1s 82ms/step - loss: 1.6064 - accuracy: 0.2972 - val_loss: 1.5957 - val_accuracy: 0.3227\n",
      "Epoch 79/100\n",
      "8/8 [==============================] - 1s 81ms/step - loss: 1.5965 - accuracy: 0.3038 - val_loss: 1.5786 - val_accuracy: 0.2159\n",
      "Epoch 80/100\n",
      "8/8 [==============================] - 1s 82ms/step - loss: 1.6006 - accuracy: 0.2773 - val_loss: 1.6187 - val_accuracy: 0.1932\n",
      "Epoch 81/100\n",
      "8/8 [==============================] - 1s 82ms/step - loss: 1.5953 - accuracy: 0.2790 - val_loss: 1.6640 - val_accuracy: 0.3136\n",
      "Epoch 82/100\n",
      "8/8 [==============================] - 1s 82ms/step - loss: 1.5723 - accuracy: 0.3098 - val_loss: 1.5828 - val_accuracy: 0.3250\n",
      "Epoch 83/100\n",
      "8/8 [==============================] - 1s 84ms/step - loss: 1.5588 - accuracy: 0.3000 - val_loss: 1.5637 - val_accuracy: 0.2523\n",
      "Epoch 84/100\n",
      "8/8 [==============================] - 1s 81ms/step - loss: 1.5446 - accuracy: 0.2944 - val_loss: 1.5591 - val_accuracy: 0.2500\n",
      "Epoch 85/100\n",
      "8/8 [==============================] - 1s 81ms/step - loss: 1.5515 - accuracy: 0.2783 - val_loss: 1.5806 - val_accuracy: 0.3477\n",
      "Epoch 86/100\n",
      "8/8 [==============================] - 1s 82ms/step - loss: 1.5520 - accuracy: 0.3174 - val_loss: 1.5526 - val_accuracy: 0.2523\n",
      "Epoch 87/100\n",
      "8/8 [==============================] - 1s 83ms/step - loss: 1.5466 - accuracy: 0.3000 - val_loss: 1.5827 - val_accuracy: 0.3114\n",
      "Epoch 88/100\n",
      "8/8 [==============================] - 1s 81ms/step - loss: 1.5527 - accuracy: 0.3210 - val_loss: 1.5439 - val_accuracy: 0.3295\n",
      "Epoch 89/100\n",
      "8/8 [==============================] - 1s 81ms/step - loss: 1.5660 - accuracy: 0.3076 - val_loss: 1.5713 - val_accuracy: 0.2159\n",
      "Epoch 90/100\n",
      "8/8 [==============================] - 1s 81ms/step - loss: 1.5577 - accuracy: 0.2793 - val_loss: 1.5450 - val_accuracy: 0.3568\n",
      "Epoch 91/100\n",
      "8/8 [==============================] - 1s 83ms/step - loss: 1.5500 - accuracy: 0.3194 - val_loss: 1.6059 - val_accuracy: 0.3273\n",
      "Epoch 92/100\n",
      "8/8 [==============================] - 1s 83ms/step - loss: 1.5603 - accuracy: 0.3149 - val_loss: 1.5988 - val_accuracy: 0.3477\n",
      "Epoch 93/100\n",
      "8/8 [==============================] - 1s 82ms/step - loss: 1.5469 - accuracy: 0.3263 - val_loss: 1.5358 - val_accuracy: 0.2705\n",
      "Epoch 94/100\n",
      "8/8 [==============================] - 1s 83ms/step - loss: 1.5349 - accuracy: 0.2854 - val_loss: 1.5492 - val_accuracy: 0.2250\n",
      "Epoch 95/100\n",
      "8/8 [==============================] - 1s 81ms/step - loss: 1.5433 - accuracy: 0.3167 - val_loss: 1.5332 - val_accuracy: 0.3523\n",
      "Epoch 96/100\n",
      "8/8 [==============================] - 1s 81ms/step - loss: 1.5545 - accuracy: 0.3096 - val_loss: 1.5885 - val_accuracy: 0.3318\n",
      "Epoch 97/100\n",
      "8/8 [==============================] - 1s 83ms/step - loss: 1.5761 - accuracy: 0.3114 - val_loss: 1.5271 - val_accuracy: 0.2886\n",
      "Epoch 98/100\n",
      "8/8 [==============================] - 1s 82ms/step - loss: 1.5278 - accuracy: 0.3020 - val_loss: 1.5338 - val_accuracy: 0.2386\n",
      "Epoch 99/100\n",
      "8/8 [==============================] - 1s 83ms/step - loss: 1.5233 - accuracy: 0.3313 - val_loss: 1.5235 - val_accuracy: 0.2705\n",
      "Epoch 100/100\n",
      "8/8 [==============================] - 1s 84ms/step - loss: 1.5140 - accuracy: 0.3341 - val_loss: 1.5276 - val_accuracy: 0.2795\n",
      "35/35 [==============================] - 0s 5ms/step - loss: 1.5101 - accuracy: 0.2736\n"
     ]
    },
    {
     "data": {
      "image/png": "[encoded data removed]",
      "text/plain": [
       "<Figure size 504x432 with 2 Axes>"
      ]
     },
     "metadata": {
      "needs_background": "light"
     },
     "output_type": "display_data"
    },
    {
     "name": "stdout",
     "output_type": "stream",
     "text": [
      "Precision:0.246\n",
      "Recall:0.274\n",
      "F1_score:0.187\n",
      "              precision    recall  f1-score   support\n",
      "\n",
      "           0       0.23      1.00      0.37        95\n",
      "           1       0.00      0.00      0.00       112\n",
      "           2       0.00      0.00      0.00       106\n",
      "           3       0.20      0.12      0.15        97\n",
      "           4       0.51      0.39      0.44       106\n",
      "           5       0.66      0.59      0.63       106\n",
      "           6       0.83      0.09      0.17       109\n",
      "           7       0.00      0.00      0.00        94\n",
      "           8       0.00      0.00      0.00        85\n",
      "           9       0.18      1.00      0.31        80\n",
      "          10       0.00      0.00      0.00       110\n",
      "\n",
      "    accuracy                           0.27      1100\n",
      "   macro avg       0.24      0.29      0.19      1100\n",
      "weighted avg       0.25      0.27      0.19      1100\n",
      "\n",
      "\n",
      "K-fold cross validation Accuracy: ['0.0855', '0.2618', '0.0736', '0.0764', '0.2736']\n"
     ]
    }
   ],
   "source": [
    "# 주어진 데이터를 학습 데이터와 테스트 데이터로 분리\n",
    "skf = KFold(n_splits=5, random_state=42, shuffle=True)\n",
    "\n",
    "accuracy = []\n",
    "\n",
    "for train, validation in skf.split(x,y):\n",
    "    model = keras.Sequential()\n",
    "    model.add(Conv1D(16, 9, activation='relu', input_shape=(len(x[0]),1)))\n",
    "    model.add(Conv1D(16, 9, activation='relu'))\n",
    "    model.add(Conv1D(32, 9, activation='relu'))\n",
    "    model.add(Conv1D(32, 9, activation='relu'))\n",
    "    model.add(Conv1D(32, 9, activation='relu'))\n",
    "    model.add(Conv1D(32, 9, activation='relu'))\n",
    "    model.add(Conv1D(32, 9, activation='relu'))\n",
    "    model.add(Flatten())\n",
    "    model.add(Dense(10, activation='relu'))\n",
    "    model.add(Dense(10, activation='relu'))\n",
    "    model.add(Dense(10, activation='relu'))\n",
    "    model.add(Dense(11, activation=\"softmax\"))\n",
    "    model.compile(loss='sparse_categorical_crossentropy', optimizer='adam', metrics=['accuracy'])\n",
    "  #model.summary()\n",
    "\n",
    "  # 학습 데이터를 이용해서 학습\n",
    "    hist = model.fit(x[train], y[train], epochs=100, batch_size=512, verbose=1, validation_split=0.1)  \n",
    "\n",
    "  # 테스트 데이터를 이용해서 검증\n",
    "    k_accuracy = '%.4f' % (model.evaluate(x[validation], y[validation])[1])\n",
    "    accuracy.append(k_accuracy)\n",
    "  \n",
    "  #confusion matrix\n",
    "    y_ = model.predict(x[validation])\n",
    "    predicted = np.argmax(y_, axis = -1)\n",
    "\n",
    "    classes = ['class1', 'class2', 'class3', 'class4', 'class5', 'class6', 'class7','class8', 'class9', 'class10','class11' ]\n",
    "    conf_mat = confusion_matrix(y[validation], predicted)\n",
    "    fig, ax = plt.subplots(figsize=(7,6))\n",
    "    plt.setp(ax.get_xticklabels(), rotation=45, ha=\"right\", rotation_mode=\"anchor\")\n",
    "    plt.title('Confusion matrix')\n",
    "    plt.ylabel('Actual label')\n",
    "    plt.xlabel('Predicted label')\n",
    "    sns.heatmap(conf_mat, annot=True, fmt='d', xticklabels=classes, yticklabels=classes)\n",
    "    plt.show()\n",
    "\n",
    "  #정밀도, 재현도, f1-score\n",
    "    precision = precision_score(y[validation], predicted, average='weighted')\n",
    "    recall = recall_score(y[validation], predicted, average='weighted')\n",
    "    f1 = f1_score(y[validation], predicted, average='weighted')\n",
    "\n",
    "    print('Precision:{:.3}'.format(precision))\n",
    "    print('Recall:{:.3}'.format(recall))\n",
    "    print('F1_score:{:.3}'.format(f1))\n",
    "\n",
    "  #분류 보고서\n",
    "    print(classification_report(y[validation], predicted))\n",
    "\n",
    "# 전체 검증 결과 출력\n",
    "print('\\nK-fold cross validation Accuracy: {}'.format(accuracy))"
   ]
  },
  {
   "cell_type": "code",
   "execution_count": 23,
   "metadata": {
    "colab": {
     "base_uri": "https://localhost:8080/"
    },
    "id": "PeHHHEUhiJH5",
    "outputId": "6a2da373-e7a9-4eee-9e43-93c1f902b923"
   },
   "outputs": [
    {
     "data": {
      "text/plain": [
       "['0.0855', '0.2618', '0.0736', '0.0764', '0.2736']"
      ]
     },
     "execution_count": 23,
     "metadata": {},
     "output_type": "execute_result"
    }
   ],
   "source": [
    "accuracy"
   ]
  },
  {
   "cell_type": "code",
   "execution_count": 24,
   "metadata": {
    "colab": {
     "base_uri": "https://localhost:8080/"
    },
    "id": "dx86ejQ616uZ",
    "outputId": "802bfc0c-f28c-42ce-ed88-6b911fc3d1ab"
   },
   "outputs": [
    {
     "data": {
      "text/plain": [
       "[0.0855, 0.2618, 0.0736, 0.0764, 0.2736]"
      ]
     },
     "execution_count": 24,
     "metadata": {},
     "output_type": "execute_result"
    }
   ],
   "source": [
    "acc = list(map(float, accuracy))\n",
    "acc"
   ]
  },
  {
   "cell_type": "code",
   "execution_count": 25,
   "metadata": {
    "id": "-f4pHhxY2APw"
   },
   "outputs": [
    {
     "data": {
      "text/plain": [
       "0.15417999999999998"
      ]
     },
     "execution_count": 25,
     "metadata": {},
     "output_type": "execute_result"
    }
   ],
   "source": [
    "np.mean(acc)"
   ]
  },
  {
   "cell_type": "code",
   "execution_count": null,
   "metadata": {},
   "outputs": [],
   "source": []
  }
 ],
 "metadata": {
  "accelerator": "GPU",
  "colab": {
   "collapsed_sections": [],
   "name": "★210914_1D-CNN_4000point_8736kDa_StratifiedKfold.ipynb",
   "provenance": []
  },
  "kernelspec": {
   "display_name": "Python 3 (ipykernel)",
   "language": "python",
   "name": "python3"
  },
  "language_info": {
   "codemirror_mode": {
    "name": "ipython",
    "version": 3
   },
   "file_extension": ".py",
   "mimetype": "text/x-python",
   "name": "python",
   "nbconvert_exporter": "python",
   "pygments_lexer": "ipython3",
   "version": "3.9.7"
  }
 },
 "nbformat": 4,
 "nbformat_minor": 1
}
