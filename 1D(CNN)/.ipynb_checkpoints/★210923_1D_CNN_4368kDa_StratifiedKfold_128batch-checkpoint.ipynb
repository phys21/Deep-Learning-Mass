{
 "cells": [
  {
   "cell_type": "markdown",
   "metadata": {
    "id": "GavgmjDytAsf"
   },
   "source": [
    "# 데이터 로딩"
   ]
  },
  {
   "cell_type": "code",
   "execution_count": 1,
   "metadata": {
    "colab": {
     "base_uri": "https://localhost:8080/"
    },
    "id": "pUWSYQ9FNt_C",
    "outputId": "46237811-4e40-413a-9b28-e21cff94e8b8"
   },
   "outputs": [],
   "source": [
    "#from google.colab import drive\n",
    "#drive.mount('/content/drive')"
   ]
  },
  {
   "cell_type": "code",
   "execution_count": 2,
   "metadata": {},
   "outputs": [],
   "source": [
    "import warnings\n",
    "warnings.filterwarnings(action='ignore')"
   ]
  },
  {
   "cell_type": "code",
   "execution_count": 3,
   "metadata": {},
   "outputs": [],
   "source": [
    "import os\n",
    "os.environ[\"CUDA_DEVICE_ORDER\"]=\"PCI_BUS_ID\"\n",
    "os.environ[\"CUDA_VISIBLE_DEVICES\"]=\"0\""
   ]
  },
  {
   "cell_type": "code",
   "execution_count": 4,
   "metadata": {},
   "outputs": [
    {
     "name": "stderr",
     "output_type": "stream",
     "text": [
      "2021-09-23 20:15:03.358894: I tensorflow/core/platform/cpu_feature_guard.cc:142] This TensorFlow binary is optimized with oneAPI Deep Neural Network Library (oneDNN) to use the following CPU instructions in performance-critical operations:  AVX2 AVX512F FMA\n",
      "To enable them in other operations, rebuild TensorFlow with the appropriate compiler flags.\n"
     ]
    },
    {
     "data": {
      "text/plain": [
       "[name: \"/device:CPU:0\"\n",
       " device_type: \"CPU\"\n",
       " memory_limit: 268435456\n",
       " locality {\n",
       " }\n",
       " incarnation: 3889900859705940771,\n",
       " name: \"/device:GPU:0\"\n",
       " device_type: \"GPU\"\n",
       " memory_limit: 23391567872\n",
       " locality {\n",
       "   bus_id: 1\n",
       "   links {\n",
       "   }\n",
       " }\n",
       " incarnation: 9583868903897988095\n",
       " physical_device_desc: \"device: 0, name: GeForce RTX 3090, pci bus id: 0000:67:00.0, compute capability: 8.6\"]"
      ]
     },
     "execution_count": 4,
     "metadata": {},
     "output_type": "execute_result"
    },
    {
     "name": "stderr",
     "output_type": "stream",
     "text": [
      "2021-09-23 20:15:03.897397: I tensorflow/core/common_runtime/gpu/gpu_device.cc:1510] Created device /device:GPU:0 with 22307 MB memory:  -> device: 0, name: GeForce RTX 3090, pci bus id: 0000:67:00.0, compute capability: 8.6\n"
     ]
    }
   ],
   "source": [
    "from tensorflow.python.client import device_lib\n",
    "device_lib.list_local_devices()"
   ]
  },
  {
   "cell_type": "code",
   "execution_count": 5,
   "metadata": {
    "id": "7tpIBpEXNpjm"
   },
   "outputs": [],
   "source": [
    "import numpy as np\n",
    "import pandas as pd\n",
    "import matplotlib.pyplot as plt"
   ]
  },
  {
   "cell_type": "code",
   "execution_count": 6,
   "metadata": {
    "colab": {
     "base_uri": "https://localhost:8080/"
    },
    "id": "EYw7FBvHs5E9",
    "outputId": "cc48b6dd-c461-48e6-f44f-81963c68fa0a",
    "scrolled": false
   },
   "outputs": [
    {
     "name": "stdout",
     "output_type": "stream",
     "text": [
      "[[26571690.3  26538896.71 26562953.95 ... 26564003.28 26563325.64\n",
      "         0.  ]\n",
      " [26575225.93 26567619.47 26591998.96 ... 26560421.79 26539364.84\n",
      "         0.  ]\n",
      " [26554742.71 26553500.37 26557724.36 ... 26564623.   26574443.14\n",
      "         0.  ]\n",
      " ...\n",
      " [26565528.94 26592674.54 26540160.73 ... 26505552.83 26505366.25\n",
      "     50000.  ]\n",
      " [26560405.52 26533868.32 26545732.04 ... 26525762.12 26502046.79\n",
      "     50000.  ]\n",
      " [26575207.02 26580886.55 26574230.33 ... 26498210.81 26531390.22\n",
      "     50000.  ]]\n"
     ]
    }
   ],
   "source": [
    "data = pd.read_csv('210923_total_freq_with_noise_2000point_4368kDa.csv')\n",
    "df1 = data.values[:] # 문자열을 부동소수점형으로 변환한다\n",
    "print(df1)"
   ]
  },
  {
   "cell_type": "markdown",
   "metadata": {
    "id": "tZIY7CbcwW6F"
   },
   "source": [
    "# 데이터 살펴보기"
   ]
  },
  {
   "cell_type": "markdown",
   "metadata": {
    "id": "nfk1doFWnhQn"
   },
   "source": [
    "152개의 속성 값이 있고, -1 또는 1로 레이블링 되어 있다.\n",
    "\n",
    "152개 속성 값은 어떤 센서의 값을 시간을 두고 측정한 것이다."
   ]
  },
  {
   "cell_type": "code",
   "execution_count": 7,
   "metadata": {
    "colab": {
     "base_uri": "https://localhost:8080/"
    },
    "id": "smA15EaF1hmV",
    "outputId": "d90ea451-0543-43bf-d740-795fd1207c63"
   },
   "outputs": [
    {
     "name": "stdout",
     "output_type": "stream",
     "text": [
      "0           0\n",
      "1           0\n",
      "2           0\n",
      "3           0\n",
      "4           0\n",
      "        ...  \n",
      "5495    50000\n",
      "5496    50000\n",
      "5497    50000\n",
      "5498    50000\n",
      "5499    50000\n",
      "Name: target, Length: 5500, dtype: int64\n"
     ]
    }
   ],
   "source": [
    "df2_1 = data[\"target\"]\n",
    "df2 = df2_1[:]\n",
    "print(df2)"
   ]
  },
  {
   "cell_type": "code",
   "execution_count": 8,
   "metadata": {
    "colab": {
     "base_uri": "https://localhost:8080/"
    },
    "id": "ClKB2D7ZpFnL",
    "outputId": "125a2cbe-62b9-44b6-ae4a-98b068fedc2c"
   },
   "outputs": [
    {
     "name": "stdout",
     "output_type": "stream",
     "text": [
      "(array([    0,  5000, 10000, 15000, 20000, 25000, 30000, 35000, 40000,\n",
      "       45000, 50000]), array([500, 500, 500, 500, 500, 500, 500, 500, 500, 500, 500]))\n"
     ]
    }
   ],
   "source": [
    "target_count = np.unique(df2, return_counts=True)\n",
    "print(target_count)"
   ]
  },
  {
   "cell_type": "code",
   "execution_count": 9,
   "metadata": {
    "colab": {
     "base_uri": "https://localhost:8080/"
    },
    "id": "Bu3NHl9_Npjq",
    "outputId": "48d579ad-691c-4d74-d846-ffeea98d9a27"
   },
   "outputs": [
    {
     "name": "stdout",
     "output_type": "stream",
     "text": [
      "(array([    0,  5000, 10000, 15000, 20000, 25000, 30000, 35000, 40000,\n",
      "       45000, 50000]), array([500, 500, 500, 500, 500, 500, 500, 500, 500, 500, 500]))\n"
     ]
    }
   ],
   "source": [
    "target_count = np.unique(df2, return_counts=True)\n",
    "print(target_count)"
   ]
  },
  {
   "cell_type": "markdown",
   "metadata": {
    "id": "ZB0UsHjLsS1I"
   },
   "source": [
    "target값 -1, 1을 category 인덱스 0, 1로 변경"
   ]
  },
  {
   "cell_type": "code",
   "execution_count": 10,
   "metadata": {
    "colab": {
     "base_uri": "https://localhost:8080/"
    },
    "id": "C0nNKyJ4oaxo",
    "outputId": "3b9a1b1c-025e-48ce-8a28-680f9bd5c46d"
   },
   "outputs": [
    {
     "name": "stdout",
     "output_type": "stream",
     "text": [
      "(array([ 0,  1,  2,  3,  4,  5,  6,  7,  8,  9, 10]), array([500, 500, 500, 500, 500, 500, 500, 500, 500, 500, 500]))\n"
     ]
    }
   ],
   "source": [
    "df2 = df2.copy()\n",
    "df2[df2 < 5000] = 0\n",
    "df2[df2 == 5000] = 1\n",
    "df2[df2 == 10000] = 2\n",
    "df2[df2 == 15000] = 3\n",
    "df2[df2 == 20000] = 4\n",
    "df2[df2 == 25000] = 5\n",
    "df2[df2 == 30000] = 6\n",
    "df2[df2 == 35000] = 7\n",
    "df2[df2 == 40000] = 8\n",
    "df2[df2 == 45000] = 9\n",
    "df2[df2 == 50000] = 10\n",
    "\n",
    "target_count = np.unique(df2, return_counts=True)\n",
    "print(target_count)"
   ]
  },
  {
   "cell_type": "markdown",
   "metadata": {
    "id": "PAYLXje8Eq9l"
   },
   "source": [
    "# 문제 정의\n",
    "\n",
    "152개의 순차적인 센서 값을 가지고 분류한다.\n"
   ]
  },
  {
   "cell_type": "markdown",
   "metadata": {
    "id": "piqvWOOgpjHt"
   },
   "source": [
    "# 데이터 준비\n"
   ]
  },
  {
   "cell_type": "markdown",
   "metadata": {
    "id": "GD2kOh0_pmvD"
   },
   "source": [
    "## x, y 쪼개기"
   ]
  },
  {
   "cell_type": "code",
   "execution_count": 11,
   "metadata": {
    "id": "5mB3dKMYpJej"
   },
   "outputs": [],
   "source": [
    "x, y = df1[:,:-1], df2[:]"
   ]
  },
  {
   "cell_type": "code",
   "execution_count": 12,
   "metadata": {
    "colab": {
     "base_uri": "https://localhost:8080/"
    },
    "id": "UWtHOkIvpJlZ",
    "outputId": "98f0ae6c-f761-44e5-9435-bd9756ecdeb7"
   },
   "outputs": [
    {
     "name": "stdout",
     "output_type": "stream",
     "text": [
      "(5500, 4000)\n",
      "(5500,)\n"
     ]
    }
   ],
   "source": [
    "print(x.shape)\n",
    "print(y.shape)"
   ]
  },
  {
   "cell_type": "code",
   "execution_count": 13,
   "metadata": {
    "colab": {
     "base_uri": "https://localhost:8080/"
    },
    "id": "4WVNNZy3Npjt",
    "outputId": "7bb9910c-34c7-4da9-be72-1c5a150de0f2"
   },
   "outputs": [
    {
     "data": {
      "text/plain": [
       "0        0\n",
       "1        0\n",
       "2        0\n",
       "3        0\n",
       "4        0\n",
       "        ..\n",
       "5495    10\n",
       "5496    10\n",
       "5497    10\n",
       "5498    10\n",
       "5499    10\n",
       "Name: target, Length: 5500, dtype: int64"
      ]
     },
     "execution_count": 13,
     "metadata": {},
     "output_type": "execute_result"
    }
   ],
   "source": [
    "y"
   ]
  },
  {
   "cell_type": "markdown",
   "metadata": {
    "id": "DYJfroxKpoOc"
   },
   "source": [
    "## normalization"
   ]
  },
  {
   "cell_type": "code",
   "execution_count": 14,
   "metadata": {
    "colab": {
     "base_uri": "https://localhost:8080/"
    },
    "id": "0edILhqfpJrT",
    "outputId": "e1b6e56a-056f-4f40-d925-5a22fa02ca79"
   },
   "outputs": [
    {
     "name": "stdout",
     "output_type": "stream",
     "text": [
      "26434434.9 26657514.82\n",
      "0.0 1.0\n"
     ]
    }
   ],
   "source": [
    "min = np.min(x)\n",
    "max = np.max(x)\n",
    "print(min, max)\n",
    "\n",
    "x = (x-min) / (max-min)\n",
    "\n",
    "min = np.min(x)\n",
    "max = np.max(x)\n",
    "print(min, max)\n"
   ]
  },
  {
   "cell_type": "code",
   "execution_count": 15,
   "metadata": {
    "id": "CA_Fs7IhrKhv"
   },
   "outputs": [],
   "source": [
    "x = np.expand_dims(x, -1)"
   ]
  },
  {
   "cell_type": "markdown",
   "metadata": {
    "id": "YUNV4PRWp-jO"
   },
   "source": [
    "## 섞고"
   ]
  },
  {
   "cell_type": "code",
   "execution_count": 16,
   "metadata": {
    "id": "rK0FR9OOpJxL"
   },
   "outputs": [],
   "source": [
    "shuffled_index = np.random.permutation(len(x))\n",
    "x = x[shuffled_index]\n",
    "y = y.iloc[shuffled_index]\n",
    "x, y = np.array(x), np.array(y)"
   ]
  },
  {
   "cell_type": "markdown",
   "metadata": {
    "id": "RbjrYGVMqAF3"
   },
   "source": [
    "## train, test 쪼개기"
   ]
  },
  {
   "cell_type": "code",
   "execution_count": 17,
   "metadata": {
    "id": "TfPpY9jPpJz4"
   },
   "outputs": [],
   "source": [
    "#split_index = int( len(x) * 0.8 )\n",
    "#train_x, test_x = np.array(x[:split_index]), np.array(x[split_index:])\n",
    "#train_y, test_y = np.array(y[:split_index]), np.array(y[split_index:])"
   ]
  },
  {
   "cell_type": "code",
   "execution_count": 18,
   "metadata": {
    "id": "BfNSU7FdpJub"
   },
   "outputs": [],
   "source": [
    "#train_x[1].shape"
   ]
  },
  {
   "cell_type": "code",
   "execution_count": 19,
   "metadata": {
    "id": "gsqd1yWWNpju"
   },
   "outputs": [],
   "source": [
    "#train_x[1]"
   ]
  },
  {
   "cell_type": "markdown",
   "metadata": {
    "id": "3Oynfz6SqZzx"
   },
   "source": [
    "# 모델 정의"
   ]
  },
  {
   "cell_type": "code",
   "execution_count": 20,
   "metadata": {
    "id": "p0JtVB5ApJoc"
   },
   "outputs": [],
   "source": [
    "import tensorflow as tf\n",
    "from sklearn.model_selection import KFold \n",
    "from tensorflow import keras\n",
    "from tensorflow.keras import optimizers\n",
    "from tensorflow.keras.layers import Dense, Conv1D, Flatten\n",
    "from sklearn.model_selection import cross_val_score \n",
    "from sklearn.model_selection import StratifiedKFold"
   ]
  },
  {
   "cell_type": "code",
   "execution_count": 21,
   "metadata": {
    "colab": {
     "base_uri": "https://localhost:8080/",
     "height": 1000
    },
    "id": "8FTlEW4umicO",
    "outputId": "288b35af-b541-464b-9b2c-2f1ca72bc264"
   },
   "outputs": [],
   "source": [
    "from tensorflow.keras.models import Sequential\n",
    "from tensorflow.keras.layers import Dense\n",
    "#from tensorflow.keras.utils import np_utils\n",
    "import pandas as pd\n",
    "import matplotlib.pyplot as plt\n",
    "from sklearn.metrics import confusion_matrix\n",
    "import seaborn as sns\n",
    "from sklearn.metrics import precision_score, recall_score, f1_score, roc_curve\n",
    "from sklearn.metrics import classification_report\n",
    "from sklearn.model_selection import StratifiedKFold"
   ]
  },
  {
   "cell_type": "code",
   "execution_count": 22,
   "metadata": {
    "colab": {
     "base_uri": "https://localhost:8080/",
     "height": 1000
    },
    "id": "8FTlEW4umicO",
    "outputId": "288b35af-b541-464b-9b2c-2f1ca72bc264",
    "scrolled": false
   },
   "outputs": [
    {
     "name": "stderr",
     "output_type": "stream",
     "text": [
      "2021-09-23 20:15:08.359907: I tensorflow/core/common_runtime/gpu/gpu_device.cc:1510] Created device /job:localhost/replica:0/task:0/device:GPU:0 with 22307 MB memory:  -> device: 0, name: GeForce RTX 3090, pci bus id: 0000:67:00.0, compute capability: 8.6\n",
      "2021-09-23 20:15:08.923706: I tensorflow/compiler/mlir/mlir_graph_optimization_pass.cc:185] None of the MLIR Optimization Passes are enabled (registered 2)\n"
     ]
    },
    {
     "name": "stdout",
     "output_type": "stream",
     "text": [
      "Epoch 1/100\n"
     ]
    },
    {
     "name": "stderr",
     "output_type": "stream",
     "text": [
      "2021-09-23 20:15:09.966822: I tensorflow/stream_executor/cuda/cuda_dnn.cc:369] Loaded cuDNN version 8201\n",
      "2021-09-23 20:15:11.565758: I tensorflow/stream_executor/cuda/cuda_blas.cc:1760] TensorFloat-32 will be used for the matrix multiplication. This will only be logged once.\n"
     ]
    },
    {
     "name": "stdout",
     "output_type": "stream",
     "text": [
      "31/31 [==============================] - 5s 38ms/step - loss: 2.3943 - accuracy: 0.1005 - val_loss: 2.3637 - val_accuracy: 0.1568\n",
      "Epoch 2/100\n",
      "31/31 [==============================] - 1s 26ms/step - loss: 2.3327 - accuracy: 0.1750 - val_loss: 2.2788 - val_accuracy: 0.1636\n",
      "Epoch 3/100\n",
      "31/31 [==============================] - 1s 26ms/step - loss: 2.2717 - accuracy: 0.1838 - val_loss: 2.2113 - val_accuracy: 0.1636\n",
      "Epoch 4/100\n",
      "31/31 [==============================] - 1s 26ms/step - loss: 2.1676 - accuracy: 0.1838 - val_loss: 2.0783 - val_accuracy: 0.1636\n",
      "Epoch 5/100\n",
      "31/31 [==============================] - 1s 26ms/step - loss: 2.0224 - accuracy: 0.1891 - val_loss: 1.9820 - val_accuracy: 0.1636\n",
      "Epoch 6/100\n",
      "31/31 [==============================] - 1s 26ms/step - loss: 2.1231 - accuracy: 0.1692 - val_loss: 2.0468 - val_accuracy: 0.1636\n",
      "Epoch 7/100\n",
      "31/31 [==============================] - 1s 26ms/step - loss: 2.0157 - accuracy: 0.1899 - val_loss: 1.9718 - val_accuracy: 0.1636\n",
      "Epoch 8/100\n",
      "31/31 [==============================] - 1s 26ms/step - loss: 1.9490 - accuracy: 0.1917 - val_loss: 1.9184 - val_accuracy: 0.1705\n",
      "Epoch 9/100\n",
      "31/31 [==============================] - 1s 26ms/step - loss: 1.9077 - accuracy: 0.1937 - val_loss: 1.8775 - val_accuracy: 0.1705\n",
      "Epoch 10/100\n",
      "31/31 [==============================] - 1s 26ms/step - loss: 1.8733 - accuracy: 0.2129 - val_loss: 1.8460 - val_accuracy: 0.2227\n",
      "Epoch 11/100\n",
      "31/31 [==============================] - 1s 26ms/step - loss: 1.8377 - accuracy: 0.2429 - val_loss: 1.8403 - val_accuracy: 0.1886\n",
      "Epoch 12/100\n",
      "31/31 [==============================] - 1s 26ms/step - loss: 1.9242 - accuracy: 0.1952 - val_loss: 2.0231 - val_accuracy: 0.1636\n",
      "Epoch 13/100\n",
      "31/31 [==============================] - 1s 26ms/step - loss: 1.8797 - accuracy: 0.2210 - val_loss: 1.8215 - val_accuracy: 0.1477\n",
      "Epoch 14/100\n",
      "31/31 [==============================] - 1s 26ms/step - loss: 2.1982 - accuracy: 0.1568 - val_loss: 2.3304 - val_accuracy: 0.0705\n",
      "Epoch 15/100\n",
      "31/31 [==============================] - 1s 26ms/step - loss: 2.1824 - accuracy: 0.1775 - val_loss: 1.8997 - val_accuracy: 0.2341\n",
      "Epoch 16/100\n",
      "31/31 [==============================] - 1s 26ms/step - loss: 1.9042 - accuracy: 0.2308 - val_loss: 1.8659 - val_accuracy: 0.1636\n",
      "Epoch 17/100\n",
      "31/31 [==============================] - 1s 25ms/step - loss: 1.9333 - accuracy: 0.1937 - val_loss: 1.8901 - val_accuracy: 0.1636\n",
      "Epoch 18/100\n",
      "31/31 [==============================] - 1s 26ms/step - loss: 2.7401 - accuracy: 0.1571 - val_loss: 1.9172 - val_accuracy: 0.2068\n",
      "Epoch 19/100\n",
      "31/31 [==============================] - 1s 25ms/step - loss: 2.1273 - accuracy: 0.1876 - val_loss: 2.2092 - val_accuracy: 0.1591\n",
      "Epoch 20/100\n",
      "31/31 [==============================] - 1s 26ms/step - loss: 2.0223 - accuracy: 0.2381 - val_loss: 1.9250 - val_accuracy: 0.2341\n",
      "Epoch 21/100\n",
      "31/31 [==============================] - 1s 26ms/step - loss: 1.8439 - accuracy: 0.2652 - val_loss: 1.8059 - val_accuracy: 0.2523\n",
      "Epoch 22/100\n",
      "31/31 [==============================] - 1s 26ms/step - loss: 1.7519 - accuracy: 0.2227 - val_loss: 1.7372 - val_accuracy: 0.2159\n",
      "Epoch 23/100\n",
      "31/31 [==============================] - 1s 25ms/step - loss: 1.7159 - accuracy: 0.2429 - val_loss: 1.7097 - val_accuracy: 0.2341\n",
      "Epoch 24/100\n",
      "31/31 [==============================] - 1s 25ms/step - loss: 1.6908 - accuracy: 0.2621 - val_loss: 1.6866 - val_accuracy: 0.2364\n",
      "Epoch 25/100\n",
      "31/31 [==============================] - 1s 25ms/step - loss: 1.6785 - accuracy: 0.2513 - val_loss: 1.6782 - val_accuracy: 0.2591\n",
      "Epoch 26/100\n",
      "31/31 [==============================] - 1s 25ms/step - loss: 2.2380 - accuracy: 0.1927 - val_loss: 3.0161 - val_accuracy: 0.0705\n",
      "Epoch 27/100\n",
      "31/31 [==============================] - 1s 26ms/step - loss: 2.8173 - accuracy: 0.0967 - val_loss: 2.6829 - val_accuracy: 0.0909\n",
      "Epoch 28/100\n",
      "31/31 [==============================] - 1s 26ms/step - loss: 2.6075 - accuracy: 0.0909 - val_loss: 2.5574 - val_accuracy: 0.0909\n",
      "Epoch 29/100\n",
      "31/31 [==============================] - 1s 26ms/step - loss: 2.5240 - accuracy: 0.0909 - val_loss: 2.5002 - val_accuracy: 0.0909\n",
      "Epoch 30/100\n",
      "31/31 [==============================] - 1s 26ms/step - loss: 2.4822 - accuracy: 0.0909 - val_loss: 2.4697 - val_accuracy: 0.0909\n",
      "Epoch 31/100\n",
      "31/31 [==============================] - 1s 26ms/step - loss: 2.4585 - accuracy: 0.0909 - val_loss: 2.4504 - val_accuracy: 0.0909\n",
      "Epoch 32/100\n",
      "31/31 [==============================] - 1s 26ms/step - loss: 2.4435 - accuracy: 0.0909 - val_loss: 2.4373 - val_accuracy: 0.0909\n",
      "Epoch 33/100\n",
      "31/31 [==============================] - 1s 26ms/step - loss: 2.4331 - accuracy: 0.0909 - val_loss: 2.4289 - val_accuracy: 0.0909\n",
      "Epoch 34/100\n",
      "31/31 [==============================] - 1s 26ms/step - loss: 2.4263 - accuracy: 0.0909 - val_loss: 2.4222 - val_accuracy: 0.0909\n",
      "Epoch 35/100\n",
      "31/31 [==============================] - 1s 26ms/step - loss: 2.4210 - accuracy: 0.0909 - val_loss: 2.4180 - val_accuracy: 0.0909\n",
      "Epoch 36/100\n",
      "31/31 [==============================] - 1s 26ms/step - loss: 2.4173 - accuracy: 0.0909 - val_loss: 2.4142 - val_accuracy: 0.0909\n",
      "Epoch 37/100\n",
      "31/31 [==============================] - 1s 26ms/step - loss: 2.4141 - accuracy: 0.0909 - val_loss: 2.4120 - val_accuracy: 0.0909\n",
      "Epoch 38/100\n",
      "31/31 [==============================] - 1s 26ms/step - loss: 2.4118 - accuracy: 0.0909 - val_loss: 2.4095 - val_accuracy: 0.0909\n",
      "Epoch 39/100\n",
      "31/31 [==============================] - 1s 26ms/step - loss: 2.4096 - accuracy: 0.0909 - val_loss: 2.4078 - val_accuracy: 0.0909\n",
      "Epoch 40/100\n",
      "31/31 [==============================] - 1s 26ms/step - loss: 2.4080 - accuracy: 0.0909 - val_loss: 2.4065 - val_accuracy: 0.0909\n",
      "Epoch 41/100\n",
      "31/31 [==============================] - 1s 26ms/step - loss: 2.4065 - accuracy: 0.0909 - val_loss: 2.4051 - val_accuracy: 0.0909\n",
      "Epoch 42/100\n",
      "31/31 [==============================] - 1s 26ms/step - loss: 2.4052 - accuracy: 0.0909 - val_loss: 2.4040 - val_accuracy: 0.0909\n",
      "Epoch 43/100\n",
      "31/31 [==============================] - 1s 26ms/step - loss: 2.4043 - accuracy: 0.0909 - val_loss: 2.4032 - val_accuracy: 0.0909\n",
      "Epoch 44/100\n",
      "31/31 [==============================] - 1s 26ms/step - loss: 2.4033 - accuracy: 0.0909 - val_loss: 2.4027 - val_accuracy: 0.0909\n",
      "Epoch 45/100\n",
      "31/31 [==============================] - 1s 26ms/step - loss: 2.4026 - accuracy: 0.0909 - val_loss: 2.4020 - val_accuracy: 0.0909\n",
      "Epoch 46/100\n",
      "31/31 [==============================] - 1s 26ms/step - loss: 2.4018 - accuracy: 0.0909 - val_loss: 2.4016 - val_accuracy: 0.0909\n",
      "Epoch 47/100\n",
      "31/31 [==============================] - 1s 26ms/step - loss: 2.4013 - accuracy: 0.0816 - val_loss: 2.4011 - val_accuracy: 0.0909\n",
      "Epoch 48/100\n",
      "31/31 [==============================] - 1s 26ms/step - loss: 2.4008 - accuracy: 0.0871 - val_loss: 2.4008 - val_accuracy: 0.0886\n",
      "Epoch 49/100\n",
      "31/31 [==============================] - 1s 26ms/step - loss: 2.4003 - accuracy: 0.0884 - val_loss: 2.4005 - val_accuracy: 0.0909\n",
      "Epoch 50/100\n",
      "31/31 [==============================] - 1s 26ms/step - loss: 2.4000 - accuracy: 0.0846 - val_loss: 2.4003 - val_accuracy: 0.0909\n",
      "Epoch 51/100\n",
      "31/31 [==============================] - 1s 26ms/step - loss: 2.3997 - accuracy: 0.0909 - val_loss: 2.4004 - val_accuracy: 0.0909\n",
      "Epoch 52/100\n",
      "31/31 [==============================] - 1s 26ms/step - loss: 2.3994 - accuracy: 0.0869 - val_loss: 2.4000 - val_accuracy: 0.0886\n",
      "Epoch 53/100\n",
      "31/31 [==============================] - 1s 26ms/step - loss: 2.3991 - accuracy: 0.0891 - val_loss: 2.3998 - val_accuracy: 0.0886\n",
      "Epoch 54/100\n",
      "31/31 [==============================] - 1s 26ms/step - loss: 2.3989 - accuracy: 0.0836 - val_loss: 2.4000 - val_accuracy: 0.0909\n",
      "Epoch 55/100\n",
      "31/31 [==============================] - 1s 26ms/step - loss: 2.3987 - accuracy: 0.0861 - val_loss: 2.4002 - val_accuracy: 0.0886\n",
      "Epoch 56/100\n",
      "31/31 [==============================] - 1s 26ms/step - loss: 2.3986 - accuracy: 0.0912 - val_loss: 2.3997 - val_accuracy: 0.0886\n",
      "Epoch 57/100\n",
      "31/31 [==============================] - 1s 26ms/step - loss: 2.3984 - accuracy: 0.0861 - val_loss: 2.3999 - val_accuracy: 0.0886\n",
      "Epoch 58/100\n",
      "31/31 [==============================] - 1s 26ms/step - loss: 2.3984 - accuracy: 0.0912 - val_loss: 2.4000 - val_accuracy: 0.0886\n",
      "Epoch 59/100\n",
      "31/31 [==============================] - 1s 26ms/step - loss: 2.3982 - accuracy: 0.0891 - val_loss: 2.3998 - val_accuracy: 0.0773\n",
      "Epoch 60/100\n",
      "31/31 [==============================] - 1s 26ms/step - loss: 2.3982 - accuracy: 0.0896 - val_loss: 2.4000 - val_accuracy: 0.0705\n",
      "Epoch 61/100\n",
      "31/31 [==============================] - 1s 26ms/step - loss: 2.3981 - accuracy: 0.0876 - val_loss: 2.3999 - val_accuracy: 0.0773\n",
      "Epoch 62/100\n",
      "31/31 [==============================] - 1s 25ms/step - loss: 2.3981 - accuracy: 0.0927 - val_loss: 2.4001 - val_accuracy: 0.0705\n",
      "Epoch 63/100\n",
      "31/31 [==============================] - 1s 26ms/step - loss: 2.3981 - accuracy: 0.0932 - val_loss: 2.4002 - val_accuracy: 0.0705\n",
      "Epoch 64/100\n",
      "31/31 [==============================] - 1s 26ms/step - loss: 2.3981 - accuracy: 0.0932 - val_loss: 2.3998 - val_accuracy: 0.0705\n",
      "Epoch 65/100\n",
      "31/31 [==============================] - 1s 26ms/step - loss: 2.3980 - accuracy: 0.0932 - val_loss: 2.4001 - val_accuracy: 0.0705\n",
      "Epoch 66/100\n",
      "31/31 [==============================] - 1s 26ms/step - loss: 2.3980 - accuracy: 0.0889 - val_loss: 2.4000 - val_accuracy: 0.0705\n",
      "Epoch 67/100\n",
      "31/31 [==============================] - 1s 26ms/step - loss: 2.3979 - accuracy: 0.0876 - val_loss: 2.4001 - val_accuracy: 0.0750\n",
      "Epoch 68/100\n",
      "31/31 [==============================] - 1s 26ms/step - loss: 2.3980 - accuracy: 0.0899 - val_loss: 2.4003 - val_accuracy: 0.0705\n",
      "Epoch 69/100\n",
      "31/31 [==============================] - 1s 26ms/step - loss: 2.3979 - accuracy: 0.0889 - val_loss: 2.4001 - val_accuracy: 0.0705\n",
      "Epoch 70/100\n",
      "31/31 [==============================] - 1s 26ms/step - loss: 2.3979 - accuracy: 0.0907 - val_loss: 2.4001 - val_accuracy: 0.0705\n",
      "Epoch 71/100\n",
      "31/31 [==============================] - 1s 26ms/step - loss: 2.3979 - accuracy: 0.0932 - val_loss: 2.4004 - val_accuracy: 0.0705\n",
      "Epoch 72/100\n",
      "31/31 [==============================] - 1s 26ms/step - loss: 2.3979 - accuracy: 0.0932 - val_loss: 2.4000 - val_accuracy: 0.0705\n",
      "Epoch 73/100\n",
      "31/31 [==============================] - 1s 26ms/step - loss: 2.3979 - accuracy: 0.0932 - val_loss: 2.4004 - val_accuracy: 0.0705\n",
      "Epoch 74/100\n",
      "31/31 [==============================] - 1s 25ms/step - loss: 2.3979 - accuracy: 0.0838 - val_loss: 2.4002 - val_accuracy: 0.0750\n",
      "Epoch 75/100\n",
      "31/31 [==============================] - 1s 26ms/step - loss: 2.3979 - accuracy: 0.0927 - val_loss: 2.4005 - val_accuracy: 0.0705\n",
      "Epoch 76/100\n",
      "31/31 [==============================] - 1s 26ms/step - loss: 2.3979 - accuracy: 0.0891 - val_loss: 2.4005 - val_accuracy: 0.0705\n",
      "Epoch 77/100\n",
      "31/31 [==============================] - 1s 26ms/step - loss: 2.3980 - accuracy: 0.0851 - val_loss: 2.4003 - val_accuracy: 0.0750\n",
      "Epoch 78/100\n",
      "31/31 [==============================] - 1s 26ms/step - loss: 2.3979 - accuracy: 0.0894 - val_loss: 2.4004 - val_accuracy: 0.0705\n",
      "Epoch 79/100\n",
      "31/31 [==============================] - 1s 26ms/step - loss: 2.3979 - accuracy: 0.0932 - val_loss: 2.4005 - val_accuracy: 0.0705\n",
      "Epoch 80/100\n",
      "31/31 [==============================] - 1s 26ms/step - loss: 2.3979 - accuracy: 0.0879 - val_loss: 2.4003 - val_accuracy: 0.0705\n",
      "Epoch 81/100\n",
      "31/31 [==============================] - 1s 26ms/step - loss: 2.3979 - accuracy: 0.0932 - val_loss: 2.4004 - val_accuracy: 0.0705\n",
      "Epoch 82/100\n",
      "31/31 [==============================] - 1s 26ms/step - loss: 2.3979 - accuracy: 0.0932 - val_loss: 2.4004 - val_accuracy: 0.0705\n",
      "Epoch 83/100\n",
      "31/31 [==============================] - 1s 26ms/step - loss: 2.3979 - accuracy: 0.0932 - val_loss: 2.4004 - val_accuracy: 0.0705\n",
      "Epoch 84/100\n",
      "31/31 [==============================] - 1s 26ms/step - loss: 2.3979 - accuracy: 0.0881 - val_loss: 2.4005 - val_accuracy: 0.0705\n",
      "Epoch 85/100\n",
      "31/31 [==============================] - 1s 26ms/step - loss: 2.3979 - accuracy: 0.0914 - val_loss: 2.4006 - val_accuracy: 0.0705\n",
      "Epoch 86/100\n",
      "31/31 [==============================] - 1s 26ms/step - loss: 2.3979 - accuracy: 0.0932 - val_loss: 2.4004 - val_accuracy: 0.0705\n",
      "Epoch 87/100\n",
      "31/31 [==============================] - 1s 26ms/step - loss: 2.3979 - accuracy: 0.0917 - val_loss: 2.4004 - val_accuracy: 0.0750\n",
      "Epoch 88/100\n",
      "31/31 [==============================] - 1s 26ms/step - loss: 2.3979 - accuracy: 0.0922 - val_loss: 2.4006 - val_accuracy: 0.0705\n",
      "Epoch 89/100\n",
      "31/31 [==============================] - 1s 26ms/step - loss: 2.3980 - accuracy: 0.0932 - val_loss: 2.4006 - val_accuracy: 0.0705\n",
      "Epoch 90/100\n",
      "31/31 [==============================] - 1s 26ms/step - loss: 2.3978 - accuracy: 0.0884 - val_loss: 2.4006 - val_accuracy: 0.0705\n",
      "Epoch 91/100\n",
      "31/31 [==============================] - 1s 26ms/step - loss: 2.3979 - accuracy: 0.0932 - val_loss: 2.4005 - val_accuracy: 0.0705\n",
      "Epoch 92/100\n",
      "31/31 [==============================] - 1s 26ms/step - loss: 2.3979 - accuracy: 0.0932 - val_loss: 2.4006 - val_accuracy: 0.0705\n",
      "Epoch 93/100\n",
      "31/31 [==============================] - 1s 26ms/step - loss: 2.3979 - accuracy: 0.0932 - val_loss: 2.4009 - val_accuracy: 0.0705\n",
      "Epoch 94/100\n",
      "31/31 [==============================] - 1s 26ms/step - loss: 2.3979 - accuracy: 0.0886 - val_loss: 2.4007 - val_accuracy: 0.0750\n",
      "Epoch 95/100\n",
      "31/31 [==============================] - 1s 26ms/step - loss: 2.3979 - accuracy: 0.0909 - val_loss: 2.4003 - val_accuracy: 0.0705\n",
      "Epoch 96/100\n",
      "31/31 [==============================] - 1s 26ms/step - loss: 2.3979 - accuracy: 0.0932 - val_loss: 2.4007 - val_accuracy: 0.0705\n",
      "Epoch 97/100\n",
      "31/31 [==============================] - 1s 26ms/step - loss: 2.3979 - accuracy: 0.0904 - val_loss: 2.4007 - val_accuracy: 0.0705\n",
      "Epoch 98/100\n",
      "31/31 [==============================] - 1s 27ms/step - loss: 2.3980 - accuracy: 0.0922 - val_loss: 2.4003 - val_accuracy: 0.0750\n",
      "Epoch 99/100\n",
      "31/31 [==============================] - 1s 26ms/step - loss: 2.3979 - accuracy: 0.0922 - val_loss: 2.4006 - val_accuracy: 0.0705\n",
      "Epoch 100/100\n",
      "31/31 [==============================] - 1s 26ms/step - loss: 2.3979 - accuracy: 0.0932 - val_loss: 2.4005 - val_accuracy: 0.0705\n",
      "35/35 [==============================] - 0s 7ms/step - loss: 2.3980 - accuracy: 0.0909\n"
     ]
    },
    {
     "data": {
      "image/png": "[encoded data removed]",
      "text/plain": [
       "<Figure size 504x432 with 2 Axes>"
      ]
     },
     "metadata": {
      "needs_background": "light"
     },
     "output_type": "display_data"
    },
    {
     "name": "stdout",
     "output_type": "stream",
     "text": [
      "Precision:0.00826\n",
      "Recall:0.0909\n",
      "F1_score:0.0152\n",
      "              precision    recall  f1-score   support\n",
      "\n",
      "           0       0.00      0.00      0.00       100\n",
      "           1       0.00      0.00      0.00       100\n",
      "           2       0.00      0.00      0.00       100\n",
      "           3       0.00      0.00      0.00       100\n",
      "           4       0.00      0.00      0.00       100\n",
      "           5       0.00      0.00      0.00       100\n",
      "           6       0.00      0.00      0.00       100\n",
      "           7       0.00      0.00      0.00       100\n",
      "           8       0.00      0.00      0.00       100\n",
      "           9       0.09      1.00      0.17       100\n",
      "          10       0.00      0.00      0.00       100\n",
      "\n",
      "    accuracy                           0.09      1100\n",
      "   macro avg       0.01      0.09      0.02      1100\n",
      "weighted avg       0.01      0.09      0.02      1100\n",
      "\n",
      "Epoch 1/100\n",
      "31/31 [==============================] - 1s 30ms/step - loss: 2.3559 - accuracy: 0.1343 - val_loss: 2.2649 - val_accuracy: 0.1773\n",
      "Epoch 2/100\n",
      "31/31 [==============================] - 1s 26ms/step - loss: 2.2030 - accuracy: 0.1543 - val_loss: 2.0694 - val_accuracy: 0.0886\n",
      "Epoch 3/100\n",
      "31/31 [==============================] - 1s 26ms/step - loss: 1.8892 - accuracy: 0.1866 - val_loss: 1.5442 - val_accuracy: 0.3250\n",
      "Epoch 4/100\n",
      "31/31 [==============================] - 1s 26ms/step - loss: 1.7164 - accuracy: 0.3235 - val_loss: 1.2011 - val_accuracy: 0.5795\n",
      "Epoch 5/100\n",
      "31/31 [==============================] - 1s 26ms/step - loss: 0.9486 - accuracy: 0.6876 - val_loss: 0.5730 - val_accuracy: 0.8409\n",
      "Epoch 6/100\n",
      "31/31 [==============================] - 1s 26ms/step - loss: 0.5137 - accuracy: 0.8260 - val_loss: 0.2893 - val_accuracy: 0.9295\n",
      "Epoch 7/100\n",
      "31/31 [==============================] - 1s 26ms/step - loss: 1.7334 - accuracy: 0.4556 - val_loss: 2.3925 - val_accuracy: 0.0705\n",
      "Epoch 8/100\n",
      "31/31 [==============================] - 1s 26ms/step - loss: 1.4795 - accuracy: 0.4154 - val_loss: 0.3481 - val_accuracy: 0.9273\n",
      "Epoch 9/100\n",
      "31/31 [==============================] - 1s 25ms/step - loss: 0.7339 - accuracy: 0.7439 - val_loss: 0.5478 - val_accuracy: 0.8159\n",
      "Epoch 10/100\n",
      "31/31 [==============================] - 1s 25ms/step - loss: 0.2736 - accuracy: 0.8990 - val_loss: 0.1258 - val_accuracy: 0.9682\n",
      "Epoch 11/100\n",
      "31/31 [==============================] - 1s 26ms/step - loss: 0.0832 - accuracy: 0.9770 - val_loss: 0.0218 - val_accuracy: 1.0000\n",
      "Epoch 12/100\n",
      "31/31 [==============================] - 1s 26ms/step - loss: 0.0102 - accuracy: 1.0000 - val_loss: 0.0030 - val_accuracy: 1.0000\n",
      "Epoch 13/100\n",
      "31/31 [==============================] - 1s 26ms/step - loss: 0.0021 - accuracy: 1.0000 - val_loss: 0.0014 - val_accuracy: 1.0000\n",
      "Epoch 14/100\n",
      "31/31 [==============================] - 1s 26ms/step - loss: 0.0012 - accuracy: 1.0000 - val_loss: 9.1655e-04 - val_accuracy: 1.0000\n",
      "Epoch 15/100\n",
      "31/31 [==============================] - 1s 26ms/step - loss: 8.5564e-04 - accuracy: 1.0000 - val_loss: 6.8480e-04 - val_accuracy: 1.0000\n",
      "Epoch 16/100\n",
      "31/31 [==============================] - 1s 26ms/step - loss: 6.5519e-04 - accuracy: 1.0000 - val_loss: 5.4096e-04 - val_accuracy: 1.0000\n",
      "Epoch 17/100\n",
      "31/31 [==============================] - 1s 26ms/step - loss: 5.2589e-04 - accuracy: 1.0000 - val_loss: 4.3986e-04 - val_accuracy: 1.0000\n",
      "Epoch 18/100\n",
      "31/31 [==============================] - 1s 26ms/step - loss: 4.6308e-04 - accuracy: 1.0000 - val_loss: 3.7011e-04 - val_accuracy: 1.0000\n",
      "Epoch 19/100\n",
      "31/31 [==============================] - 1s 26ms/step - loss: 3.6170e-04 - accuracy: 1.0000 - val_loss: 3.1156e-04 - val_accuracy: 1.0000\n",
      "Epoch 20/100\n",
      "31/31 [==============================] - 1s 26ms/step - loss: 3.1089e-04 - accuracy: 1.0000 - val_loss: 2.6446e-04 - val_accuracy: 1.0000\n",
      "Epoch 21/100\n",
      "31/31 [==============================] - 1s 25ms/step - loss: 2.6982e-04 - accuracy: 1.0000 - val_loss: 2.3607e-04 - val_accuracy: 1.0000\n",
      "Epoch 22/100\n",
      "31/31 [==============================] - 1s 26ms/step - loss: 2.4264e-04 - accuracy: 1.0000 - val_loss: 2.0879e-04 - val_accuracy: 1.0000\n",
      "Epoch 23/100\n",
      "31/31 [==============================] - 1s 25ms/step - loss: 2.1226e-04 - accuracy: 1.0000 - val_loss: 1.8748e-04 - val_accuracy: 1.0000\n",
      "Epoch 24/100\n",
      "31/31 [==============================] - 1s 26ms/step - loss: 1.8477e-04 - accuracy: 1.0000 - val_loss: 1.6537e-04 - val_accuracy: 1.0000\n",
      "Epoch 25/100\n",
      "31/31 [==============================] - 1s 26ms/step - loss: 1.6795e-04 - accuracy: 1.0000 - val_loss: 1.5299e-04 - val_accuracy: 1.0000\n",
      "Epoch 26/100\n",
      "31/31 [==============================] - 1s 26ms/step - loss: 1.5192e-04 - accuracy: 1.0000 - val_loss: 1.3211e-04 - val_accuracy: 1.0000\n",
      "Epoch 27/100\n",
      "31/31 [==============================] - 1s 26ms/step - loss: 1.4368e-04 - accuracy: 1.0000 - val_loss: 1.2057e-04 - val_accuracy: 1.0000\n",
      "Epoch 28/100\n",
      "31/31 [==============================] - 1s 25ms/step - loss: 1.2748e-04 - accuracy: 1.0000 - val_loss: 1.1257e-04 - val_accuracy: 1.0000\n",
      "Epoch 29/100\n",
      "31/31 [==============================] - 1s 26ms/step - loss: 1.1688e-04 - accuracy: 1.0000 - val_loss: 1.0104e-04 - val_accuracy: 1.0000\n",
      "Epoch 30/100\n",
      "31/31 [==============================] - 1s 26ms/step - loss: 1.1073e-04 - accuracy: 1.0000 - val_loss: 9.2831e-05 - val_accuracy: 1.0000\n",
      "Epoch 31/100\n",
      "31/31 [==============================] - 1s 26ms/step - loss: 9.8195e-05 - accuracy: 1.0000 - val_loss: 8.7137e-05 - val_accuracy: 1.0000\n",
      "Epoch 32/100\n",
      "31/31 [==============================] - 1s 26ms/step - loss: 9.2283e-05 - accuracy: 1.0000 - val_loss: 8.1032e-05 - val_accuracy: 1.0000\n",
      "Epoch 33/100\n",
      "31/31 [==============================] - 1s 26ms/step - loss: 8.4580e-05 - accuracy: 1.0000 - val_loss: 7.5242e-05 - val_accuracy: 1.0000\n",
      "Epoch 34/100\n",
      "31/31 [==============================] - 1s 26ms/step - loss: 7.9270e-05 - accuracy: 1.0000 - val_loss: 7.1983e-05 - val_accuracy: 1.0000\n",
      "Epoch 35/100\n",
      "31/31 [==============================] - 1s 25ms/step - loss: 7.6910e-05 - accuracy: 1.0000 - val_loss: 6.7844e-05 - val_accuracy: 1.0000\n",
      "Epoch 36/100\n",
      "31/31 [==============================] - 1s 26ms/step - loss: 6.9972e-05 - accuracy: 1.0000 - val_loss: 6.1502e-05 - val_accuracy: 1.0000\n",
      "Epoch 37/100\n",
      "31/31 [==============================] - 1s 26ms/step - loss: 6.8693e-05 - accuracy: 1.0000 - val_loss: 5.7533e-05 - val_accuracy: 1.0000\n",
      "Epoch 38/100\n",
      "31/31 [==============================] - 1s 26ms/step - loss: 6.4483e-05 - accuracy: 1.0000 - val_loss: 5.5462e-05 - val_accuracy: 1.0000\n",
      "Epoch 39/100\n",
      "31/31 [==============================] - 1s 26ms/step - loss: 5.7361e-05 - accuracy: 1.0000 - val_loss: 5.0389e-05 - val_accuracy: 1.0000\n",
      "Epoch 40/100\n",
      "31/31 [==============================] - 1s 25ms/step - loss: 5.4736e-05 - accuracy: 1.0000 - val_loss: 4.7727e-05 - val_accuracy: 1.0000\n",
      "Epoch 41/100\n",
      "31/31 [==============================] - 1s 26ms/step - loss: 5.1975e-05 - accuracy: 1.0000 - val_loss: 4.5716e-05 - val_accuracy: 1.0000\n",
      "Epoch 42/100\n",
      "31/31 [==============================] - 1s 26ms/step - loss: 4.8103e-05 - accuracy: 1.0000 - val_loss: 4.3038e-05 - val_accuracy: 1.0000\n",
      "Epoch 43/100\n",
      "31/31 [==============================] - 1s 26ms/step - loss: 4.5292e-05 - accuracy: 1.0000 - val_loss: 4.1443e-05 - val_accuracy: 1.0000\n",
      "Epoch 44/100\n",
      "31/31 [==============================] - 1s 26ms/step - loss: 4.3576e-05 - accuracy: 1.0000 - val_loss: 3.8602e-05 - val_accuracy: 1.0000\n",
      "Epoch 45/100\n",
      "31/31 [==============================] - 1s 26ms/step - loss: 3.9788e-05 - accuracy: 1.0000 - val_loss: 3.6624e-05 - val_accuracy: 1.0000\n",
      "Epoch 46/100\n",
      "31/31 [==============================] - 1s 26ms/step - loss: 3.8623e-05 - accuracy: 1.0000 - val_loss: 3.2647e-05 - val_accuracy: 1.0000\n",
      "Epoch 47/100\n",
      "31/31 [==============================] - 1s 26ms/step - loss: 3.7961e-05 - accuracy: 1.0000 - val_loss: 3.2765e-05 - val_accuracy: 1.0000\n",
      "Epoch 48/100\n",
      "31/31 [==============================] - 1s 26ms/step - loss: 3.4938e-05 - accuracy: 1.0000 - val_loss: 3.0111e-05 - val_accuracy: 1.0000\n",
      "Epoch 49/100\n",
      "31/31 [==============================] - 1s 26ms/step - loss: 3.2169e-05 - accuracy: 1.0000 - val_loss: 2.8859e-05 - val_accuracy: 1.0000\n",
      "Epoch 50/100\n",
      "31/31 [==============================] - 1s 25ms/step - loss: 3.0721e-05 - accuracy: 1.0000 - val_loss: 2.8409e-05 - val_accuracy: 1.0000\n",
      "Epoch 51/100\n",
      "31/31 [==============================] - 1s 26ms/step - loss: 2.9268e-05 - accuracy: 1.0000 - val_loss: 2.5635e-05 - val_accuracy: 1.0000\n",
      "Epoch 52/100\n",
      "31/31 [==============================] - 1s 26ms/step - loss: 2.9766e-05 - accuracy: 1.0000 - val_loss: 2.4862e-05 - val_accuracy: 1.0000\n",
      "Epoch 53/100\n",
      "31/31 [==============================] - 1s 26ms/step - loss: 2.8394e-05 - accuracy: 1.0000 - val_loss: 2.3413e-05 - val_accuracy: 1.0000\n",
      "Epoch 54/100\n",
      "31/31 [==============================] - 1s 26ms/step - loss: 2.5471e-05 - accuracy: 1.0000 - val_loss: 2.3010e-05 - val_accuracy: 1.0000\n",
      "Epoch 55/100\n",
      "31/31 [==============================] - 1s 26ms/step - loss: 2.5749e-05 - accuracy: 1.0000 - val_loss: 2.2061e-05 - val_accuracy: 1.0000\n",
      "Epoch 56/100\n",
      "31/31 [==============================] - 1s 26ms/step - loss: 2.4508e-05 - accuracy: 1.0000 - val_loss: 2.0126e-05 - val_accuracy: 1.0000\n",
      "Epoch 57/100\n",
      "31/31 [==============================] - 1s 26ms/step - loss: 2.5388e-05 - accuracy: 1.0000 - val_loss: 1.9926e-05 - val_accuracy: 1.0000\n",
      "Epoch 58/100\n",
      "31/31 [==============================] - 1s 26ms/step - loss: 2.1771e-05 - accuracy: 1.0000 - val_loss: 1.8494e-05 - val_accuracy: 1.0000\n",
      "Epoch 59/100\n",
      "31/31 [==============================] - 1s 25ms/step - loss: 2.0725e-05 - accuracy: 1.0000 - val_loss: 1.7581e-05 - val_accuracy: 1.0000\n",
      "Epoch 60/100\n",
      "31/31 [==============================] - 1s 26ms/step - loss: 2.1003e-05 - accuracy: 1.0000 - val_loss: 1.7760e-05 - val_accuracy: 1.0000\n",
      "Epoch 61/100\n",
      "31/31 [==============================] - 1s 26ms/step - loss: 1.9494e-05 - accuracy: 1.0000 - val_loss: 1.6160e-05 - val_accuracy: 1.0000\n",
      "Epoch 62/100\n",
      "31/31 [==============================] - 1s 26ms/step - loss: 1.8285e-05 - accuracy: 1.0000 - val_loss: 1.5405e-05 - val_accuracy: 1.0000\n",
      "Epoch 63/100\n",
      "31/31 [==============================] - 1s 26ms/step - loss: 1.8024e-05 - accuracy: 1.0000 - val_loss: 1.4951e-05 - val_accuracy: 1.0000\n",
      "Epoch 64/100\n",
      "31/31 [==============================] - 1s 26ms/step - loss: 1.6518e-05 - accuracy: 1.0000 - val_loss: 1.5110e-05 - val_accuracy: 1.0000\n",
      "Epoch 65/100\n",
      "31/31 [==============================] - 1s 26ms/step - loss: 1.6042e-05 - accuracy: 1.0000 - val_loss: 1.3754e-05 - val_accuracy: 1.0000\n",
      "Epoch 66/100\n",
      "31/31 [==============================] - 1s 26ms/step - loss: 1.5489e-05 - accuracy: 1.0000 - val_loss: 1.3469e-05 - val_accuracy: 1.0000\n",
      "Epoch 67/100\n",
      "31/31 [==============================] - 1s 26ms/step - loss: 1.5895e-05 - accuracy: 1.0000 - val_loss: 1.2591e-05 - val_accuracy: 1.0000\n",
      "Epoch 68/100\n",
      "31/31 [==============================] - 1s 26ms/step - loss: 1.4372e-05 - accuracy: 1.0000 - val_loss: 1.2296e-05 - val_accuracy: 1.0000\n",
      "Epoch 69/100\n",
      "31/31 [==============================] - 1s 25ms/step - loss: 1.3794e-05 - accuracy: 1.0000 - val_loss: 1.1799e-05 - val_accuracy: 1.0000\n",
      "Epoch 70/100\n",
      "31/31 [==============================] - 1s 26ms/step - loss: 1.3654e-05 - accuracy: 1.0000 - val_loss: 1.1346e-05 - val_accuracy: 1.0000\n",
      "Epoch 71/100\n",
      "31/31 [==============================] - 1s 26ms/step - loss: 1.3640e-05 - accuracy: 1.0000 - val_loss: 1.0820e-05 - val_accuracy: 1.0000\n",
      "Epoch 72/100\n",
      "31/31 [==============================] - 1s 25ms/step - loss: 1.2358e-05 - accuracy: 1.0000 - val_loss: 1.0541e-05 - val_accuracy: 1.0000\n",
      "Epoch 73/100\n",
      "31/31 [==============================] - 1s 25ms/step - loss: 1.1868e-05 - accuracy: 1.0000 - val_loss: 1.0194e-05 - val_accuracy: 1.0000\n",
      "Epoch 74/100\n",
      "31/31 [==============================] - 1s 26ms/step - loss: 1.1381e-05 - accuracy: 1.0000 - val_loss: 1.0322e-05 - val_accuracy: 1.0000\n",
      "Epoch 75/100\n",
      "31/31 [==============================] - 1s 26ms/step - loss: 1.1392e-05 - accuracy: 1.0000 - val_loss: 1.0696e-05 - val_accuracy: 1.0000\n",
      "Epoch 76/100\n",
      "31/31 [==============================] - 1s 26ms/step - loss: 1.1238e-05 - accuracy: 1.0000 - val_loss: 9.1149e-06 - val_accuracy: 1.0000\n",
      "Epoch 77/100\n",
      "31/31 [==============================] - 1s 26ms/step - loss: 1.0146e-05 - accuracy: 1.0000 - val_loss: 9.0932e-06 - val_accuracy: 1.0000\n",
      "Epoch 78/100\n",
      "31/31 [==============================] - 1s 26ms/step - loss: 1.0354e-05 - accuracy: 1.0000 - val_loss: 8.5024e-06 - val_accuracy: 1.0000\n",
      "Epoch 79/100\n",
      "31/31 [==============================] - 1s 26ms/step - loss: 9.7175e-06 - accuracy: 1.0000 - val_loss: 8.0215e-06 - val_accuracy: 1.0000\n",
      "Epoch 80/100\n",
      "31/31 [==============================] - 1s 26ms/step - loss: 9.2158e-06 - accuracy: 1.0000 - val_loss: 7.7580e-06 - val_accuracy: 1.0000\n",
      "Epoch 81/100\n",
      "31/31 [==============================] - 1s 26ms/step - loss: 9.2137e-06 - accuracy: 1.0000 - val_loss: 7.5564e-06 - val_accuracy: 1.0000\n",
      "Epoch 82/100\n",
      "31/31 [==============================] - 1s 26ms/step - loss: 9.4737e-06 - accuracy: 1.0000 - val_loss: 7.5284e-06 - val_accuracy: 1.0000\n",
      "Epoch 83/100\n",
      "31/31 [==============================] - 1s 26ms/step - loss: 8.1986e-06 - accuracy: 1.0000 - val_loss: 7.1793e-06 - val_accuracy: 1.0000\n",
      "Epoch 84/100\n",
      "31/31 [==============================] - 1s 25ms/step - loss: 8.1970e-06 - accuracy: 1.0000 - val_loss: 7.0351e-06 - val_accuracy: 1.0000\n",
      "Epoch 85/100\n",
      "31/31 [==============================] - 1s 25ms/step - loss: 7.9220e-06 - accuracy: 1.0000 - val_loss: 6.8615e-06 - val_accuracy: 1.0000\n",
      "Epoch 86/100\n",
      "31/31 [==============================] - 1s 26ms/step - loss: 7.6306e-06 - accuracy: 1.0000 - val_loss: 6.6824e-06 - val_accuracy: 1.0000\n",
      "Epoch 87/100\n",
      "31/31 [==============================] - 1s 26ms/step - loss: 7.7108e-06 - accuracy: 1.0000 - val_loss: 6.5561e-06 - val_accuracy: 1.0000\n",
      "Epoch 88/100\n",
      "31/31 [==============================] - 1s 26ms/step - loss: 7.4617e-06 - accuracy: 1.0000 - val_loss: 5.9453e-06 - val_accuracy: 1.0000\n",
      "Epoch 89/100\n",
      "31/31 [==============================] - 1s 26ms/step - loss: 6.9346e-06 - accuracy: 1.0000 - val_loss: 6.0081e-06 - val_accuracy: 1.0000\n",
      "Epoch 90/100\n",
      "31/31 [==============================] - 1s 26ms/step - loss: 7.0218e-06 - accuracy: 1.0000 - val_loss: 5.5056e-06 - val_accuracy: 1.0000\n",
      "Epoch 91/100\n",
      "31/31 [==============================] - 1s 26ms/step - loss: 6.4997e-06 - accuracy: 1.0000 - val_loss: 5.5208e-06 - val_accuracy: 1.0000\n",
      "Epoch 92/100\n",
      "31/31 [==============================] - 1s 25ms/step - loss: 6.3419e-06 - accuracy: 1.0000 - val_loss: 5.3758e-06 - val_accuracy: 1.0000\n",
      "Epoch 93/100\n",
      "31/31 [==============================] - 1s 25ms/step - loss: 6.3185e-06 - accuracy: 1.0000 - val_loss: 5.0537e-06 - val_accuracy: 1.0000\n",
      "Epoch 94/100\n",
      "31/31 [==============================] - 1s 26ms/step - loss: 5.9572e-06 - accuracy: 1.0000 - val_loss: 5.1382e-06 - val_accuracy: 1.0000\n",
      "Epoch 95/100\n",
      "31/31 [==============================] - 1s 25ms/step - loss: 5.8951e-06 - accuracy: 1.0000 - val_loss: 4.9131e-06 - val_accuracy: 1.0000\n",
      "Epoch 96/100\n",
      "31/31 [==============================] - 1s 26ms/step - loss: 5.9136e-06 - accuracy: 1.0000 - val_loss: 5.2419e-06 - val_accuracy: 1.0000\n",
      "Epoch 97/100\n",
      "31/31 [==============================] - 1s 26ms/step - loss: 5.4913e-06 - accuracy: 1.0000 - val_loss: 4.3716e-06 - val_accuracy: 1.0000\n",
      "Epoch 98/100\n",
      "31/31 [==============================] - 1s 26ms/step - loss: 5.1862e-06 - accuracy: 1.0000 - val_loss: 4.2367e-06 - val_accuracy: 1.0000\n",
      "Epoch 99/100\n",
      "31/31 [==============================] - 1s 26ms/step - loss: 5.1254e-06 - accuracy: 1.0000 - val_loss: 4.1126e-06 - val_accuracy: 1.0000\n",
      "Epoch 100/100\n",
      "31/31 [==============================] - 1s 26ms/step - loss: 5.2446e-06 - accuracy: 1.0000 - val_loss: 4.1773e-06 - val_accuracy: 1.0000\n",
      "35/35 [==============================] - 0s 5ms/step - loss: 6.0634e-06 - accuracy: 1.0000\n"
     ]
    },
    {
     "data": {
      "image/png": "[encoded data removed]",
      "text/plain": [
       "<Figure size 504x432 with 2 Axes>"
      ]
     },
     "metadata": {
      "needs_background": "light"
     },
     "output_type": "display_data"
    },
    {
     "name": "stdout",
     "output_type": "stream",
     "text": [
      "Precision:1.0\n",
      "Recall:1.0\n",
      "F1_score:1.0\n",
      "              precision    recall  f1-score   support\n",
      "\n",
      "           0       1.00      1.00      1.00       100\n",
      "           1       1.00      1.00      1.00       100\n",
      "           2       1.00      1.00      1.00       100\n",
      "           3       1.00      1.00      1.00       100\n",
      "           4       1.00      1.00      1.00       100\n",
      "           5       1.00      1.00      1.00       100\n",
      "           6       1.00      1.00      1.00       100\n",
      "           7       1.00      1.00      1.00       100\n",
      "           8       1.00      1.00      1.00       100\n",
      "           9       1.00      1.00      1.00       100\n",
      "          10       1.00      1.00      1.00       100\n",
      "\n",
      "    accuracy                           1.00      1100\n",
      "   macro avg       1.00      1.00      1.00      1100\n",
      "weighted avg       1.00      1.00      1.00      1100\n",
      "\n",
      "Epoch 1/100\n",
      "31/31 [==============================] - 2s 30ms/step - loss: 2.3980 - accuracy: 0.0836 - val_loss: 2.3979 - val_accuracy: 0.0864\n",
      "Epoch 2/100\n",
      "31/31 [==============================] - 1s 26ms/step - loss: 2.3980 - accuracy: 0.0876 - val_loss: 2.3983 - val_accuracy: 0.0705\n",
      "Epoch 3/100\n",
      "31/31 [==============================] - 1s 26ms/step - loss: 2.3980 - accuracy: 0.0932 - val_loss: 2.3984 - val_accuracy: 0.0705\n",
      "Epoch 4/100\n",
      "31/31 [==============================] - 1s 26ms/step - loss: 2.3979 - accuracy: 0.0871 - val_loss: 2.3986 - val_accuracy: 0.0705\n",
      "Epoch 5/100\n",
      "31/31 [==============================] - 1s 26ms/step - loss: 2.3979 - accuracy: 0.0932 - val_loss: 2.3989 - val_accuracy: 0.0705\n",
      "Epoch 6/100\n",
      "31/31 [==============================] - 1s 26ms/step - loss: 2.3979 - accuracy: 0.0861 - val_loss: 2.3990 - val_accuracy: 0.0750\n",
      "Epoch 7/100\n",
      "31/31 [==============================] - 1s 26ms/step - loss: 2.3979 - accuracy: 0.0871 - val_loss: 2.3990 - val_accuracy: 0.0705\n",
      "Epoch 8/100\n",
      "31/31 [==============================] - 1s 26ms/step - loss: 2.3979 - accuracy: 0.0932 - val_loss: 2.3992 - val_accuracy: 0.0705\n",
      "Epoch 9/100\n",
      "31/31 [==============================] - 1s 26ms/step - loss: 2.3979 - accuracy: 0.0841 - val_loss: 2.3993 - val_accuracy: 0.0705\n",
      "Epoch 10/100\n",
      "31/31 [==============================] - 1s 26ms/step - loss: 2.3979 - accuracy: 0.0932 - val_loss: 2.3996 - val_accuracy: 0.0705\n",
      "Epoch 11/100\n",
      "31/31 [==============================] - 1s 26ms/step - loss: 2.3979 - accuracy: 0.0932 - val_loss: 2.3996 - val_accuracy: 0.0705\n",
      "Epoch 12/100\n",
      "31/31 [==============================] - 1s 26ms/step - loss: 2.3979 - accuracy: 0.0932 - val_loss: 2.3995 - val_accuracy: 0.0705\n",
      "Epoch 13/100\n",
      "31/31 [==============================] - 1s 26ms/step - loss: 2.3979 - accuracy: 0.0932 - val_loss: 2.3996 - val_accuracy: 0.0705\n",
      "Epoch 14/100\n",
      "31/31 [==============================] - 1s 26ms/step - loss: 2.3979 - accuracy: 0.0932 - val_loss: 2.3995 - val_accuracy: 0.0705\n",
      "Epoch 15/100\n",
      "31/31 [==============================] - 1s 26ms/step - loss: 2.3979 - accuracy: 0.0932 - val_loss: 2.3997 - val_accuracy: 0.0705\n",
      "Epoch 16/100\n",
      "31/31 [==============================] - 1s 26ms/step - loss: 2.3978 - accuracy: 0.0932 - val_loss: 2.3997 - val_accuracy: 0.0705\n",
      "Epoch 17/100\n",
      "31/31 [==============================] - 1s 26ms/step - loss: 2.3978 - accuracy: 0.0932 - val_loss: 2.3998 - val_accuracy: 0.0705\n",
      "Epoch 18/100\n",
      "31/31 [==============================] - 1s 26ms/step - loss: 2.3979 - accuracy: 0.0932 - val_loss: 2.3999 - val_accuracy: 0.0705\n",
      "Epoch 19/100\n",
      "31/31 [==============================] - 1s 26ms/step - loss: 2.3979 - accuracy: 0.0932 - val_loss: 2.3999 - val_accuracy: 0.0705\n",
      "Epoch 20/100\n",
      "31/31 [==============================] - 1s 26ms/step - loss: 2.3978 - accuracy: 0.0932 - val_loss: 2.3998 - val_accuracy: 0.0705\n",
      "Epoch 21/100\n",
      "31/31 [==============================] - 1s 26ms/step - loss: 2.3979 - accuracy: 0.0874 - val_loss: 2.3999 - val_accuracy: 0.0705\n",
      "Epoch 22/100\n",
      "31/31 [==============================] - 1s 26ms/step - loss: 2.3979 - accuracy: 0.0932 - val_loss: 2.3999 - val_accuracy: 0.0705\n",
      "Epoch 23/100\n",
      "31/31 [==============================] - 1s 26ms/step - loss: 2.3979 - accuracy: 0.0932 - val_loss: 2.3999 - val_accuracy: 0.0705\n",
      "Epoch 24/100\n",
      "31/31 [==============================] - 1s 26ms/step - loss: 2.3979 - accuracy: 0.0932 - val_loss: 2.4001 - val_accuracy: 0.0705\n",
      "Epoch 25/100\n",
      "31/31 [==============================] - 1s 26ms/step - loss: 2.3979 - accuracy: 0.0932 - val_loss: 2.4000 - val_accuracy: 0.0705\n",
      "Epoch 26/100\n",
      "31/31 [==============================] - 1s 25ms/step - loss: 2.3979 - accuracy: 0.0932 - val_loss: 2.4000 - val_accuracy: 0.0705\n",
      "Epoch 27/100\n",
      "31/31 [==============================] - 1s 26ms/step - loss: 2.3979 - accuracy: 0.0932 - val_loss: 2.4000 - val_accuracy: 0.0705\n",
      "Epoch 28/100\n",
      "31/31 [==============================] - 1s 26ms/step - loss: 2.3979 - accuracy: 0.0932 - val_loss: 2.4000 - val_accuracy: 0.0705\n",
      "Epoch 29/100\n",
      "31/31 [==============================] - 1s 26ms/step - loss: 2.3979 - accuracy: 0.0932 - val_loss: 2.4001 - val_accuracy: 0.0705\n",
      "Epoch 30/100\n",
      "31/31 [==============================] - 1s 25ms/step - loss: 2.3979 - accuracy: 0.0932 - val_loss: 2.4001 - val_accuracy: 0.0705\n",
      "Epoch 31/100\n",
      "31/31 [==============================] - 1s 24ms/step - loss: 2.3979 - accuracy: 0.0932 - val_loss: 2.4001 - val_accuracy: 0.0705\n",
      "Epoch 32/100\n",
      "31/31 [==============================] - 1s 25ms/step - loss: 2.3979 - accuracy: 0.0932 - val_loss: 2.4001 - val_accuracy: 0.0705\n",
      "Epoch 33/100\n",
      "31/31 [==============================] - 1s 25ms/step - loss: 2.3978 - accuracy: 0.0932 - val_loss: 2.4001 - val_accuracy: 0.0705\n",
      "Epoch 34/100\n",
      "31/31 [==============================] - 1s 25ms/step - loss: 2.3978 - accuracy: 0.0932 - val_loss: 2.4002 - val_accuracy: 0.0705\n",
      "Epoch 35/100\n",
      "31/31 [==============================] - 1s 25ms/step - loss: 2.3979 - accuracy: 0.0879 - val_loss: 2.4001 - val_accuracy: 0.0705\n",
      "Epoch 36/100\n",
      "31/31 [==============================] - 1s 25ms/step - loss: 2.3979 - accuracy: 0.0932 - val_loss: 2.4001 - val_accuracy: 0.0705\n",
      "Epoch 37/100\n",
      "31/31 [==============================] - 1s 25ms/step - loss: 2.3978 - accuracy: 0.0932 - val_loss: 2.4001 - val_accuracy: 0.0705\n",
      "Epoch 38/100\n",
      "31/31 [==============================] - 1s 25ms/step - loss: 2.3978 - accuracy: 0.0932 - val_loss: 2.4001 - val_accuracy: 0.0705\n",
      "Epoch 39/100\n",
      "31/31 [==============================] - 1s 26ms/step - loss: 2.3979 - accuracy: 0.0932 - val_loss: 2.4000 - val_accuracy: 0.0705\n",
      "Epoch 40/100\n",
      "31/31 [==============================] - 1s 26ms/step - loss: 2.3979 - accuracy: 0.0932 - val_loss: 2.4000 - val_accuracy: 0.0705\n",
      "Epoch 41/100\n",
      "31/31 [==============================] - 1s 26ms/step - loss: 2.3978 - accuracy: 0.0932 - val_loss: 2.4001 - val_accuracy: 0.0705\n",
      "Epoch 42/100\n",
      "31/31 [==============================] - 1s 26ms/step - loss: 2.3979 - accuracy: 0.0932 - val_loss: 2.4001 - val_accuracy: 0.0705\n",
      "Epoch 43/100\n",
      "31/31 [==============================] - 1s 26ms/step - loss: 2.3978 - accuracy: 0.0932 - val_loss: 2.4000 - val_accuracy: 0.0705\n",
      "Epoch 44/100\n",
      "31/31 [==============================] - 1s 26ms/step - loss: 2.3979 - accuracy: 0.0932 - val_loss: 2.4001 - val_accuracy: 0.0705\n",
      "Epoch 45/100\n",
      "31/31 [==============================] - 1s 26ms/step - loss: 2.3978 - accuracy: 0.0932 - val_loss: 2.4000 - val_accuracy: 0.0705\n",
      "Epoch 46/100\n",
      "31/31 [==============================] - 1s 26ms/step - loss: 2.3979 - accuracy: 0.0932 - val_loss: 2.4003 - val_accuracy: 0.0705\n",
      "Epoch 47/100\n",
      "31/31 [==============================] - 1s 25ms/step - loss: 2.3979 - accuracy: 0.0866 - val_loss: 2.4002 - val_accuracy: 0.0705\n",
      "Epoch 48/100\n",
      "31/31 [==============================] - 1s 25ms/step - loss: 2.3978 - accuracy: 0.0932 - val_loss: 2.4001 - val_accuracy: 0.0705\n",
      "Epoch 49/100\n",
      "31/31 [==============================] - 1s 25ms/step - loss: 2.3979 - accuracy: 0.0932 - val_loss: 2.4001 - val_accuracy: 0.0705\n",
      "Epoch 50/100\n",
      "31/31 [==============================] - 1s 25ms/step - loss: 2.3978 - accuracy: 0.0932 - val_loss: 2.4002 - val_accuracy: 0.0705\n",
      "Epoch 51/100\n",
      "31/31 [==============================] - 1s 25ms/step - loss: 2.3979 - accuracy: 0.0884 - val_loss: 2.4001 - val_accuracy: 0.0705\n",
      "Epoch 52/100\n",
      "31/31 [==============================] - 1s 25ms/step - loss: 2.3979 - accuracy: 0.0932 - val_loss: 2.4000 - val_accuracy: 0.0705\n",
      "Epoch 53/100\n",
      "31/31 [==============================] - 1s 25ms/step - loss: 2.3979 - accuracy: 0.0932 - val_loss: 2.4001 - val_accuracy: 0.0705\n",
      "Epoch 54/100\n",
      "31/31 [==============================] - 1s 25ms/step - loss: 2.3979 - accuracy: 0.0932 - val_loss: 2.4001 - val_accuracy: 0.0705\n",
      "Epoch 55/100\n",
      "31/31 [==============================] - 1s 25ms/step - loss: 2.3979 - accuracy: 0.0932 - val_loss: 2.4002 - val_accuracy: 0.0705\n",
      "Epoch 56/100\n",
      "31/31 [==============================] - 1s 25ms/step - loss: 2.3979 - accuracy: 0.0932 - val_loss: 2.4002 - val_accuracy: 0.0705\n",
      "Epoch 57/100\n",
      "31/31 [==============================] - 1s 25ms/step - loss: 2.3979 - accuracy: 0.0932 - val_loss: 2.4001 - val_accuracy: 0.0705\n",
      "Epoch 58/100\n",
      "31/31 [==============================] - 1s 25ms/step - loss: 2.3979 - accuracy: 0.0932 - val_loss: 2.4001 - val_accuracy: 0.0705\n",
      "Epoch 59/100\n",
      "31/31 [==============================] - 1s 26ms/step - loss: 2.3979 - accuracy: 0.0932 - val_loss: 2.4001 - val_accuracy: 0.0705\n",
      "Epoch 60/100\n",
      "31/31 [==============================] - 1s 25ms/step - loss: 2.3979 - accuracy: 0.0932 - val_loss: 2.4000 - val_accuracy: 0.0705\n",
      "Epoch 61/100\n",
      "31/31 [==============================] - 1s 25ms/step - loss: 2.3979 - accuracy: 0.0932 - val_loss: 2.4001 - val_accuracy: 0.0705\n",
      "Epoch 62/100\n",
      "31/31 [==============================] - 1s 25ms/step - loss: 2.3979 - accuracy: 0.0932 - val_loss: 2.4001 - val_accuracy: 0.0705\n",
      "Epoch 63/100\n",
      "31/31 [==============================] - 1s 25ms/step - loss: 2.3978 - accuracy: 0.0932 - val_loss: 2.4000 - val_accuracy: 0.0705\n",
      "Epoch 64/100\n",
      "31/31 [==============================] - 1s 24ms/step - loss: 2.3978 - accuracy: 0.0932 - val_loss: 2.4001 - val_accuracy: 0.0705\n",
      "Epoch 65/100\n",
      "31/31 [==============================] - 1s 25ms/step - loss: 2.3978 - accuracy: 0.0932 - val_loss: 2.4001 - val_accuracy: 0.0705\n",
      "Epoch 66/100\n",
      "31/31 [==============================] - 1s 25ms/step - loss: 2.3979 - accuracy: 0.0932 - val_loss: 2.4000 - val_accuracy: 0.0705\n",
      "Epoch 67/100\n",
      "31/31 [==============================] - 1s 25ms/step - loss: 2.3979 - accuracy: 0.0864 - val_loss: 2.4000 - val_accuracy: 0.0705\n",
      "Epoch 68/100\n",
      "31/31 [==============================] - 1s 25ms/step - loss: 2.3979 - accuracy: 0.0869 - val_loss: 2.4002 - val_accuracy: 0.0750\n",
      "Epoch 69/100\n",
      "31/31 [==============================] - 1s 25ms/step - loss: 2.3979 - accuracy: 0.0944 - val_loss: 2.4002 - val_accuracy: 0.0705\n",
      "Epoch 70/100\n",
      "31/31 [==============================] - 1s 24ms/step - loss: 2.3978 - accuracy: 0.0932 - val_loss: 2.4001 - val_accuracy: 0.0705\n",
      "Epoch 71/100\n",
      "31/31 [==============================] - 1s 25ms/step - loss: 2.3979 - accuracy: 0.0932 - val_loss: 2.4001 - val_accuracy: 0.0705\n",
      "Epoch 72/100\n",
      "31/31 [==============================] - 1s 25ms/step - loss: 2.3979 - accuracy: 0.0932 - val_loss: 2.4001 - val_accuracy: 0.0705\n",
      "Epoch 73/100\n",
      "31/31 [==============================] - 1s 25ms/step - loss: 2.3979 - accuracy: 0.0876 - val_loss: 2.4001 - val_accuracy: 0.0705\n",
      "Epoch 74/100\n",
      "31/31 [==============================] - 1s 25ms/step - loss: 2.3979 - accuracy: 0.0932 - val_loss: 2.4001 - val_accuracy: 0.0705\n",
      "Epoch 75/100\n",
      "31/31 [==============================] - 1s 31ms/step - loss: 2.3979 - accuracy: 0.0932 - val_loss: 2.4002 - val_accuracy: 0.0705\n",
      "Epoch 76/100\n",
      "31/31 [==============================] - 1s 33ms/step - loss: 2.3979 - accuracy: 0.0932 - val_loss: 2.4000 - val_accuracy: 0.0705\n",
      "Epoch 77/100\n",
      "31/31 [==============================] - 1s 33ms/step - loss: 2.3979 - accuracy: 0.0932 - val_loss: 2.4002 - val_accuracy: 0.0705\n",
      "Epoch 78/100\n",
      "31/31 [==============================] - 1s 33ms/step - loss: 2.3978 - accuracy: 0.0932 - val_loss: 2.4001 - val_accuracy: 0.0705\n",
      "Epoch 79/100\n",
      "31/31 [==============================] - 1s 35ms/step - loss: 2.3978 - accuracy: 0.0932 - val_loss: 2.4002 - val_accuracy: 0.0705\n",
      "Epoch 80/100\n",
      "31/31 [==============================] - 1s 32ms/step - loss: 2.3978 - accuracy: 0.0932 - val_loss: 2.4001 - val_accuracy: 0.0705\n",
      "Epoch 81/100\n",
      "31/31 [==============================] - 1s 35ms/step - loss: 2.3979 - accuracy: 0.0919 - val_loss: 2.4000 - val_accuracy: 0.0705\n",
      "Epoch 82/100\n",
      "31/31 [==============================] - 1s 32ms/step - loss: 2.3979 - accuracy: 0.0932 - val_loss: 2.4001 - val_accuracy: 0.0705\n",
      "Epoch 83/100\n",
      "31/31 [==============================] - 1s 25ms/step - loss: 2.3979 - accuracy: 0.0932 - val_loss: 2.4002 - val_accuracy: 0.0705\n",
      "Epoch 84/100\n",
      "31/31 [==============================] - 1s 25ms/step - loss: 2.3979 - accuracy: 0.0932 - val_loss: 2.4002 - val_accuracy: 0.0705\n",
      "Epoch 85/100\n",
      "31/31 [==============================] - 1s 25ms/step - loss: 2.3979 - accuracy: 0.0932 - val_loss: 2.4002 - val_accuracy: 0.0705\n",
      "Epoch 86/100\n",
      "31/31 [==============================] - 1s 29ms/step - loss: 2.3978 - accuracy: 0.0932 - val_loss: 2.4002 - val_accuracy: 0.0705\n",
      "Epoch 87/100\n",
      "31/31 [==============================] - 1s 28ms/step - loss: 2.3979 - accuracy: 0.0932 - val_loss: 2.4001 - val_accuracy: 0.0705\n",
      "Epoch 88/100\n",
      "31/31 [==============================] - 1s 26ms/step - loss: 2.3978 - accuracy: 0.0932 - val_loss: 2.4001 - val_accuracy: 0.0705\n",
      "Epoch 89/100\n",
      "31/31 [==============================] - 1s 25ms/step - loss: 2.3979 - accuracy: 0.0932 - val_loss: 2.4001 - val_accuracy: 0.0705\n",
      "Epoch 90/100\n",
      "31/31 [==============================] - 1s 25ms/step - loss: 2.3979 - accuracy: 0.0932 - val_loss: 2.4001 - val_accuracy: 0.0705\n",
      "Epoch 91/100\n",
      "31/31 [==============================] - 1s 25ms/step - loss: 2.3979 - accuracy: 0.0932 - val_loss: 2.4002 - val_accuracy: 0.0705\n",
      "Epoch 92/100\n",
      "31/31 [==============================] - 1s 25ms/step - loss: 2.3979 - accuracy: 0.0932 - val_loss: 2.4002 - val_accuracy: 0.0705\n",
      "Epoch 93/100\n",
      "31/31 [==============================] - 1s 25ms/step - loss: 2.3979 - accuracy: 0.0833 - val_loss: 2.4000 - val_accuracy: 0.0705\n",
      "Epoch 94/100\n",
      "31/31 [==============================] - 1s 25ms/step - loss: 2.3979 - accuracy: 0.0932 - val_loss: 2.4002 - val_accuracy: 0.0705\n",
      "Epoch 95/100\n",
      "31/31 [==============================] - 1s 27ms/step - loss: 2.3979 - accuracy: 0.0932 - val_loss: 2.4000 - val_accuracy: 0.0705\n",
      "Epoch 96/100\n",
      "31/31 [==============================] - 1s 29ms/step - loss: 2.3979 - accuracy: 0.0932 - val_loss: 2.4001 - val_accuracy: 0.0705\n",
      "Epoch 97/100\n",
      "31/31 [==============================] - 1s 27ms/step - loss: 2.3979 - accuracy: 0.0932 - val_loss: 2.4002 - val_accuracy: 0.0705\n",
      "Epoch 98/100\n",
      "31/31 [==============================] - 1s 27ms/step - loss: 2.3979 - accuracy: 0.0879 - val_loss: 2.4000 - val_accuracy: 0.0705\n",
      "Epoch 99/100\n",
      "31/31 [==============================] - 1s 25ms/step - loss: 2.3978 - accuracy: 0.0932 - val_loss: 2.4002 - val_accuracy: 0.0705\n",
      "Epoch 100/100\n",
      "31/31 [==============================] - 1s 25ms/step - loss: 2.3979 - accuracy: 0.0932 - val_loss: 2.4003 - val_accuracy: 0.0705\n",
      "35/35 [==============================] - 0s 5ms/step - loss: 2.3980 - accuracy: 0.0909\n"
     ]
    },
    {
     "data": {
      "image/png": "[encoded data removed]",
      "text/plain": [
       "<Figure size 504x432 with 2 Axes>"
      ]
     },
     "metadata": {
      "needs_background": "light"
     },
     "output_type": "display_data"
    },
    {
     "name": "stdout",
     "output_type": "stream",
     "text": [
      "Precision:0.00826\n",
      "Recall:0.0909\n",
      "F1_score:0.0152\n",
      "              precision    recall  f1-score   support\n",
      "\n",
      "           0       0.00      0.00      0.00       100\n",
      "           1       0.09      1.00      0.17       100\n",
      "           2       0.00      0.00      0.00       100\n",
      "           3       0.00      0.00      0.00       100\n",
      "           4       0.00      0.00      0.00       100\n",
      "           5       0.00      0.00      0.00       100\n",
      "           6       0.00      0.00      0.00       100\n",
      "           7       0.00      0.00      0.00       100\n",
      "           8       0.00      0.00      0.00       100\n",
      "           9       0.00      0.00      0.00       100\n",
      "          10       0.00      0.00      0.00       100\n",
      "\n",
      "    accuracy                           0.09      1100\n",
      "   macro avg       0.01      0.09      0.02      1100\n",
      "weighted avg       0.01      0.09      0.02      1100\n",
      "\n",
      "Epoch 1/100\n",
      "31/31 [==============================] - 1s 29ms/step - loss: 2.3687 - accuracy: 0.1010 - val_loss: 2.1374 - val_accuracy: 0.1841\n",
      "Epoch 2/100\n",
      "31/31 [==============================] - 1s 26ms/step - loss: 2.0228 - accuracy: 0.1843 - val_loss: 1.9150 - val_accuracy: 0.1614\n",
      "Epoch 3/100\n",
      "31/31 [==============================] - 1s 28ms/step - loss: 1.7119 - accuracy: 0.2023 - val_loss: 1.6640 - val_accuracy: 0.1727\n",
      "Epoch 4/100\n",
      "31/31 [==============================] - 1s 29ms/step - loss: 1.5391 - accuracy: 0.2609 - val_loss: 1.5158 - val_accuracy: 0.2614\n",
      "Epoch 5/100\n",
      "31/31 [==============================] - 1s 26ms/step - loss: 1.4767 - accuracy: 0.2659 - val_loss: 1.5420 - val_accuracy: 0.3591\n",
      "Epoch 6/100\n",
      "31/31 [==============================] - 1s 26ms/step - loss: 1.5779 - accuracy: 0.2783 - val_loss: 1.6658 - val_accuracy: 0.3932\n",
      "Epoch 7/100\n",
      "31/31 [==============================] - 1s 25ms/step - loss: 1.5024 - accuracy: 0.2818 - val_loss: 1.4409 - val_accuracy: 0.2614\n",
      "Epoch 8/100\n",
      "31/31 [==============================] - 1s 25ms/step - loss: 1.3636 - accuracy: 0.2944 - val_loss: 1.3369 - val_accuracy: 0.3614\n",
      "Epoch 9/100\n",
      "31/31 [==============================] - 1s 25ms/step - loss: 1.2841 - accuracy: 0.3336 - val_loss: 1.3139 - val_accuracy: 0.4591\n",
      "Epoch 10/100\n",
      "31/31 [==============================] - 1s 25ms/step - loss: 1.2600 - accuracy: 0.4048 - val_loss: 1.2468 - val_accuracy: 0.2614\n",
      "Epoch 11/100\n",
      "31/31 [==============================] - 1s 26ms/step - loss: 1.1845 - accuracy: 0.4394 - val_loss: 1.1842 - val_accuracy: 0.3932\n",
      "Epoch 12/100\n",
      "31/31 [==============================] - 1s 27ms/step - loss: 1.3747 - accuracy: 0.3694 - val_loss: 1.3531 - val_accuracy: 0.4500\n",
      "Epoch 13/100\n",
      "31/31 [==============================] - 1s 27ms/step - loss: 1.6880 - accuracy: 0.3881 - val_loss: 1.4004 - val_accuracy: 0.6386\n",
      "Epoch 14/100\n",
      "31/31 [==============================] - 1s 28ms/step - loss: 1.2759 - accuracy: 0.4912 - val_loss: 1.2098 - val_accuracy: 0.3659\n",
      "Epoch 15/100\n",
      "31/31 [==============================] - 1s 26ms/step - loss: 1.1317 - accuracy: 0.4997 - val_loss: 1.1101 - val_accuracy: 0.5477\n",
      "Epoch 16/100\n",
      "31/31 [==============================] - 1s 25ms/step - loss: 1.0505 - accuracy: 0.5874 - val_loss: 1.0488 - val_accuracy: 0.5545\n",
      "Epoch 17/100\n",
      "31/31 [==============================] - 1s 25ms/step - loss: 1.0356 - accuracy: 0.5821 - val_loss: 1.0487 - val_accuracy: 0.6227\n",
      "Epoch 18/100\n",
      "31/31 [==============================] - 1s 25ms/step - loss: 0.9997 - accuracy: 0.5818 - val_loss: 1.0237 - val_accuracy: 0.6068\n",
      "Epoch 19/100\n",
      "31/31 [==============================] - 1s 25ms/step - loss: 0.9831 - accuracy: 0.6510 - val_loss: 1.0929 - val_accuracy: 0.5091\n",
      "Epoch 20/100\n",
      "31/31 [==============================] - 1s 25ms/step - loss: 1.3186 - accuracy: 0.4513 - val_loss: 1.4045 - val_accuracy: 0.5523\n",
      "Epoch 21/100\n",
      "31/31 [==============================] - 1s 25ms/step - loss: 1.1407 - accuracy: 0.5452 - val_loss: 1.0204 - val_accuracy: 0.6455\n",
      "Epoch 22/100\n",
      "31/31 [==============================] - 1s 25ms/step - loss: 0.9679 - accuracy: 0.6699 - val_loss: 0.9414 - val_accuracy: 0.6818\n",
      "Epoch 23/100\n",
      "31/31 [==============================] - 1s 28ms/step - loss: 0.8776 - accuracy: 0.7571 - val_loss: 0.8493 - val_accuracy: 0.8068\n",
      "Epoch 24/100\n",
      "31/31 [==============================] - 1s 28ms/step - loss: 1.0815 - accuracy: 0.5732 - val_loss: 0.9383 - val_accuracy: 0.6636\n",
      "Epoch 25/100\n",
      "31/31 [==============================] - 1s 26ms/step - loss: 0.9045 - accuracy: 0.7333 - val_loss: 0.8738 - val_accuracy: 0.9023\n",
      "Epoch 26/100\n",
      "31/31 [==============================] - 1s 26ms/step - loss: 0.8222 - accuracy: 0.8540 - val_loss: 0.8176 - val_accuracy: 0.7659\n",
      "Epoch 27/100\n",
      "31/31 [==============================] - 1s 25ms/step - loss: 0.7970 - accuracy: 0.8359 - val_loss: 0.8182 - val_accuracy: 0.9091\n",
      "Epoch 28/100\n",
      "31/31 [==============================] - 1s 25ms/step - loss: 0.7810 - accuracy: 0.8086 - val_loss: 0.7487 - val_accuracy: 0.9045\n",
      "Epoch 29/100\n",
      "31/31 [==============================] - 1s 25ms/step - loss: 0.7473 - accuracy: 0.8247 - val_loss: 0.7314 - val_accuracy: 0.8250\n",
      "Epoch 30/100\n",
      "31/31 [==============================] - 1s 24ms/step - loss: 0.7395 - accuracy: 0.8066 - val_loss: 0.7800 - val_accuracy: 0.7114\n",
      "Epoch 31/100\n",
      "31/31 [==============================] - 1s 26ms/step - loss: 0.7385 - accuracy: 0.8482 - val_loss: 0.6932 - val_accuracy: 0.9159\n",
      "Epoch 32/100\n",
      "31/31 [==============================] - 1s 25ms/step - loss: 0.9056 - accuracy: 0.6818 - val_loss: 0.9130 - val_accuracy: 0.6409\n",
      "Epoch 33/100\n",
      "31/31 [==============================] - 1s 28ms/step - loss: 0.8946 - accuracy: 0.6970 - val_loss: 0.8024 - val_accuracy: 0.8386\n",
      "Epoch 34/100\n",
      "31/31 [==============================] - 1s 29ms/step - loss: 0.7696 - accuracy: 0.8093 - val_loss: 0.7470 - val_accuracy: 0.8386\n",
      "Epoch 35/100\n",
      "31/31 [==============================] - 1s 27ms/step - loss: 0.7283 - accuracy: 0.8192 - val_loss: 0.7120 - val_accuracy: 0.9364\n",
      "Epoch 36/100\n",
      "31/31 [==============================] - 1s 25ms/step - loss: 0.6904 - accuracy: 0.8886 - val_loss: 0.6758 - val_accuracy: 0.8818\n",
      "Epoch 37/100\n",
      "31/31 [==============================] - 1s 25ms/step - loss: 0.6624 - accuracy: 0.9172 - val_loss: 0.6441 - val_accuracy: 0.9136\n",
      "Epoch 38/100\n",
      "31/31 [==============================] - 1s 25ms/step - loss: 0.6058 - accuracy: 0.9157 - val_loss: 0.5798 - val_accuracy: 0.9523\n",
      "Epoch 39/100\n",
      "31/31 [==============================] - 1s 25ms/step - loss: 0.5751 - accuracy: 0.8798 - val_loss: 0.5636 - val_accuracy: 0.9136\n",
      "Epoch 40/100\n",
      "31/31 [==============================] - 1s 25ms/step - loss: 0.5568 - accuracy: 0.8876 - val_loss: 0.5832 - val_accuracy: 0.8386\n",
      "Epoch 41/100\n",
      "31/31 [==============================] - 1s 26ms/step - loss: 0.5758 - accuracy: 0.8992 - val_loss: 0.5294 - val_accuracy: 0.9136\n",
      "Epoch 42/100\n",
      "31/31 [==============================] - 1s 28ms/step - loss: 0.6062 - accuracy: 0.8359 - val_loss: 0.5847 - val_accuracy: 1.0000\n",
      "Epoch 43/100\n",
      "31/31 [==============================] - 1s 32ms/step - loss: 0.5249 - accuracy: 0.9230 - val_loss: 0.5181 - val_accuracy: 0.9091\n",
      "Epoch 44/100\n",
      "31/31 [==============================] - 1s 28ms/step - loss: 0.5173 - accuracy: 0.8957 - val_loss: 0.4842 - val_accuracy: 0.9136\n",
      "Epoch 45/100\n",
      "31/31 [==============================] - 1s 27ms/step - loss: 0.5505 - accuracy: 0.8513 - val_loss: 0.6032 - val_accuracy: 0.7341\n",
      "Epoch 46/100\n",
      "31/31 [==============================] - 1s 25ms/step - loss: 0.6176 - accuracy: 0.8333 - val_loss: 0.5888 - val_accuracy: 0.9023\n",
      "Epoch 47/100\n",
      "31/31 [==============================] - 1s 25ms/step - loss: 0.5690 - accuracy: 0.9157 - val_loss: 0.5538 - val_accuracy: 1.0000\n",
      "Epoch 48/100\n",
      "31/31 [==============================] - 1s 25ms/step - loss: 0.5118 - accuracy: 0.9510 - val_loss: 0.4848 - val_accuracy: 0.9136\n",
      "Epoch 49/100\n",
      "31/31 [==============================] - 1s 25ms/step - loss: 0.4889 - accuracy: 0.8896 - val_loss: 0.5144 - val_accuracy: 0.9682\n",
      "Epoch 50/100\n",
      "31/31 [==============================] - 1s 24ms/step - loss: 0.6641 - accuracy: 0.7523 - val_loss: 0.4721 - val_accuracy: 0.9136\n",
      "Epoch 51/100\n",
      "31/31 [==============================] - 1s 27ms/step - loss: 0.4909 - accuracy: 0.8992 - val_loss: 0.5414 - val_accuracy: 0.8432\n",
      "Epoch 52/100\n",
      "31/31 [==============================] - 1s 26ms/step - loss: 0.5008 - accuracy: 0.8909 - val_loss: 0.4686 - val_accuracy: 0.9273\n",
      "Epoch 53/100\n",
      "31/31 [==============================] - 1s 30ms/step - loss: 0.4340 - accuracy: 0.9578 - val_loss: 0.4028 - val_accuracy: 0.9136\n",
      "Epoch 54/100\n",
      "31/31 [==============================] - 1s 26ms/step - loss: 0.3716 - accuracy: 0.9669 - val_loss: 0.3671 - val_accuracy: 0.9136\n",
      "Epoch 55/100\n",
      "31/31 [==============================] - 1s 26ms/step - loss: 0.6965 - accuracy: 0.7472 - val_loss: 0.5508 - val_accuracy: 0.9114\n",
      "Epoch 56/100\n",
      "31/31 [==============================] - 1s 25ms/step - loss: 0.5406 - accuracy: 0.8864 - val_loss: 0.5140 - val_accuracy: 0.9295\n",
      "Epoch 57/100\n",
      "31/31 [==============================] - 1s 25ms/step - loss: 0.5057 - accuracy: 0.9263 - val_loss: 0.4843 - val_accuracy: 0.9273\n",
      "Epoch 58/100\n",
      "31/31 [==============================] - 1s 25ms/step - loss: 0.4753 - accuracy: 0.9745 - val_loss: 0.4813 - val_accuracy: 0.9955\n",
      "Epoch 59/100\n",
      "31/31 [==============================] - 1s 25ms/step - loss: 0.4709 - accuracy: 0.9672 - val_loss: 0.4667 - val_accuracy: 1.0000\n",
      "Epoch 60/100\n",
      "31/31 [==============================] - 1s 25ms/step - loss: 0.4520 - accuracy: 0.9687 - val_loss: 0.4334 - val_accuracy: 0.9932\n",
      "Epoch 61/100\n",
      "31/31 [==============================] - 1s 26ms/step - loss: 0.4438 - accuracy: 0.9667 - val_loss: 0.4116 - val_accuracy: 0.9864\n",
      "Epoch 62/100\n",
      "31/31 [==============================] - 1s 27ms/step - loss: 0.4148 - accuracy: 0.9646 - val_loss: 0.4018 - val_accuracy: 0.9955\n",
      "Epoch 63/100\n",
      "31/31 [==============================] - 1s 29ms/step - loss: 0.3778 - accuracy: 0.9914 - val_loss: 0.3600 - val_accuracy: 0.9932\n",
      "Epoch 64/100\n",
      "31/31 [==============================] - 1s 27ms/step - loss: 0.3776 - accuracy: 0.9571 - val_loss: 0.3504 - val_accuracy: 1.0000\n",
      "Epoch 65/100\n",
      "31/31 [==============================] - 1s 26ms/step - loss: 0.3506 - accuracy: 0.9596 - val_loss: 0.3262 - val_accuracy: 0.9136\n",
      "Epoch 66/100\n",
      "31/31 [==============================] - 1s 25ms/step - loss: 0.3208 - accuracy: 0.9545 - val_loss: 0.2922 - val_accuracy: 0.9955\n",
      "Epoch 67/100\n",
      "31/31 [==============================] - 1s 25ms/step - loss: 0.3324 - accuracy: 0.9801 - val_loss: 0.3386 - val_accuracy: 0.9909\n",
      "Epoch 68/100\n",
      "31/31 [==============================] - 1s 25ms/step - loss: 0.3298 - accuracy: 0.9806 - val_loss: 0.3091 - val_accuracy: 0.9864\n",
      "Epoch 69/100\n",
      "31/31 [==============================] - 1s 25ms/step - loss: 0.2789 - accuracy: 0.9894 - val_loss: 0.2594 - val_accuracy: 1.0000\n",
      "Epoch 70/100\n",
      "31/31 [==============================] - 1s 25ms/step - loss: 0.4773 - accuracy: 0.8457 - val_loss: 0.5297 - val_accuracy: 0.7273\n",
      "Epoch 71/100\n",
      "31/31 [==============================] - 1s 26ms/step - loss: 0.4680 - accuracy: 0.8848 - val_loss: 0.4338 - val_accuracy: 0.9250\n",
      "Epoch 72/100\n",
      "31/31 [==============================] - 1s 29ms/step - loss: 0.4444 - accuracy: 0.8785 - val_loss: 0.4061 - val_accuracy: 0.9295\n",
      "Epoch 73/100\n",
      "31/31 [==============================] - 1s 29ms/step - loss: 0.4119 - accuracy: 0.9323 - val_loss: 0.4050 - val_accuracy: 0.9682\n",
      "Epoch 74/100\n",
      "31/31 [==============================] - 1s 26ms/step - loss: 0.4040 - accuracy: 0.9571 - val_loss: 0.3784 - val_accuracy: 0.9795\n",
      "Epoch 75/100\n",
      "31/31 [==============================] - 1s 26ms/step - loss: 0.4026 - accuracy: 0.9664 - val_loss: 0.3783 - val_accuracy: 0.9841\n",
      "Epoch 76/100\n",
      "31/31 [==============================] - 1s 25ms/step - loss: 0.3962 - accuracy: 0.9692 - val_loss: 0.3924 - val_accuracy: 0.9955\n",
      "Epoch 77/100\n",
      "31/31 [==============================] - 1s 25ms/step - loss: 0.3606 - accuracy: 0.9927 - val_loss: 0.3451 - val_accuracy: 0.9955\n",
      "Epoch 78/100\n",
      "31/31 [==============================] - 1s 25ms/step - loss: 0.3599 - accuracy: 0.9869 - val_loss: 0.3465 - val_accuracy: 0.9955\n",
      "Epoch 79/100\n",
      "31/31 [==============================] - 1s 25ms/step - loss: 0.3591 - accuracy: 0.9846 - val_loss: 0.3327 - val_accuracy: 0.9955\n",
      "Epoch 80/100\n",
      "31/31 [==============================] - 1s 26ms/step - loss: 0.3442 - accuracy: 0.9811 - val_loss: 0.3237 - val_accuracy: 0.9932\n",
      "Epoch 81/100\n",
      "31/31 [==============================] - 1s 25ms/step - loss: 0.3486 - accuracy: 0.9712 - val_loss: 0.3238 - val_accuracy: 0.9341\n",
      "Epoch 82/100\n",
      "31/31 [==============================] - 1s 27ms/step - loss: 0.3314 - accuracy: 0.9765 - val_loss: 0.3067 - val_accuracy: 1.0000\n",
      "Epoch 83/100\n",
      "31/31 [==============================] - 1s 28ms/step - loss: 0.3139 - accuracy: 0.9975 - val_loss: 0.3020 - val_accuracy: 1.0000\n",
      "Epoch 84/100\n",
      "31/31 [==============================] - 1s 26ms/step - loss: 0.2928 - accuracy: 0.9972 - val_loss: 0.2913 - val_accuracy: 1.0000\n",
      "Epoch 85/100\n",
      "31/31 [==============================] - 1s 26ms/step - loss: 0.2993 - accuracy: 0.9914 - val_loss: 0.3165 - val_accuracy: 0.9909\n",
      "Epoch 86/100\n",
      "31/31 [==============================] - 1s 25ms/step - loss: 0.3340 - accuracy: 0.9485 - val_loss: 0.2820 - val_accuracy: 0.9909\n",
      "Epoch 87/100\n",
      "31/31 [==============================] - 1s 25ms/step - loss: 0.2709 - accuracy: 0.9975 - val_loss: 0.2596 - val_accuracy: 1.0000\n",
      "Epoch 88/100\n",
      "31/31 [==============================] - 1s 24ms/step - loss: 0.2583 - accuracy: 0.9962 - val_loss: 0.2523 - val_accuracy: 1.0000\n",
      "Epoch 89/100\n",
      "31/31 [==============================] - 1s 25ms/step - loss: 0.2730 - accuracy: 0.9775 - val_loss: 0.2685 - val_accuracy: 0.9977\n",
      "Epoch 90/100\n",
      "31/31 [==============================] - 1s 26ms/step - loss: 0.5608 - accuracy: 0.7874 - val_loss: 0.4626 - val_accuracy: 0.7886\n",
      "Epoch 91/100\n",
      "31/31 [==============================] - 1s 26ms/step - loss: 0.2920 - accuracy: 0.9672 - val_loss: 0.2311 - val_accuracy: 1.0000\n",
      "Epoch 92/100\n",
      "31/31 [==============================] - 1s 29ms/step - loss: 0.2405 - accuracy: 0.9977 - val_loss: 0.2886 - val_accuracy: 0.9364\n",
      "Epoch 93/100\n",
      "31/31 [==============================] - 1s 28ms/step - loss: 0.2330 - accuracy: 0.9879 - val_loss: 0.1975 - val_accuracy: 1.0000\n",
      "Epoch 94/100\n",
      "31/31 [==============================] - 1s 27ms/step - loss: 0.2017 - accuracy: 0.9947 - val_loss: 0.2348 - val_accuracy: 1.0000\n",
      "Epoch 95/100\n",
      "31/31 [==============================] - 1s 25ms/step - loss: 0.1940 - accuracy: 0.9952 - val_loss: 0.1747 - val_accuracy: 1.0000\n",
      "Epoch 96/100\n",
      "31/31 [==============================] - 1s 25ms/step - loss: 0.1742 - accuracy: 0.9972 - val_loss: 0.2244 - val_accuracy: 0.9500\n",
      "Epoch 97/100\n",
      "31/31 [==============================] - 1s 25ms/step - loss: 0.1877 - accuracy: 0.9838 - val_loss: 0.1792 - val_accuracy: 1.0000\n",
      "Epoch 98/100\n",
      "31/31 [==============================] - 1s 25ms/step - loss: 0.2029 - accuracy: 0.9788 - val_loss: 0.2185 - val_accuracy: 0.9955\n",
      "Epoch 99/100\n",
      "31/31 [==============================] - 1s 25ms/step - loss: 0.1986 - accuracy: 0.9881 - val_loss: 0.1822 - val_accuracy: 1.0000\n",
      "Epoch 100/100\n",
      "31/31 [==============================] - 1s 25ms/step - loss: 0.1711 - accuracy: 0.9967 - val_loss: 0.1700 - val_accuracy: 1.0000\n",
      "35/35 [==============================] - 0s 5ms/step - loss: 0.1638 - accuracy: 1.0000\n"
     ]
    },
    {
     "data": {
      "image/png": "[encoded data removed]",
      "text/plain": [
       "<Figure size 504x432 with 2 Axes>"
      ]
     },
     "metadata": {
      "needs_background": "light"
     },
     "output_type": "display_data"
    },
    {
     "name": "stdout",
     "output_type": "stream",
     "text": [
      "Precision:1.0\n",
      "Recall:1.0\n",
      "F1_score:1.0\n",
      "              precision    recall  f1-score   support\n",
      "\n",
      "           0       1.00      1.00      1.00       100\n",
      "           1       1.00      1.00      1.00       100\n",
      "           2       1.00      1.00      1.00       100\n",
      "           3       1.00      1.00      1.00       100\n",
      "           4       1.00      1.00      1.00       100\n",
      "           5       1.00      1.00      1.00       100\n",
      "           6       1.00      1.00      1.00       100\n",
      "           7       1.00      1.00      1.00       100\n",
      "           8       1.00      1.00      1.00       100\n",
      "           9       1.00      1.00      1.00       100\n",
      "          10       1.00      1.00      1.00       100\n",
      "\n",
      "    accuracy                           1.00      1100\n",
      "   macro avg       1.00      1.00      1.00      1100\n",
      "weighted avg       1.00      1.00      1.00      1100\n",
      "\n",
      "Epoch 1/100\n",
      "31/31 [==============================] - 2s 29ms/step - loss: 2.3816 - accuracy: 0.1278 - val_loss: 2.3479 - val_accuracy: 0.1682\n",
      "Epoch 2/100\n",
      "31/31 [==============================] - 1s 25ms/step - loss: 2.3883 - accuracy: 0.1121 - val_loss: 2.3982 - val_accuracy: 0.0909\n",
      "Epoch 3/100\n",
      "31/31 [==============================] - 1s 25ms/step - loss: 2.3980 - accuracy: 0.0909 - val_loss: 2.3984 - val_accuracy: 0.0636\n",
      "Epoch 4/100\n",
      "31/31 [==============================] - 1s 25ms/step - loss: 2.3980 - accuracy: 0.0914 - val_loss: 2.3985 - val_accuracy: 0.0636\n",
      "Epoch 5/100\n",
      "31/31 [==============================] - 1s 25ms/step - loss: 2.3980 - accuracy: 0.0939 - val_loss: 2.3986 - val_accuracy: 0.0636\n",
      "Epoch 6/100\n",
      "31/31 [==============================] - 1s 26ms/step - loss: 2.3979 - accuracy: 0.0939 - val_loss: 2.3986 - val_accuracy: 0.0636\n",
      "Epoch 7/100\n",
      "31/31 [==============================] - 1s 27ms/step - loss: 2.3980 - accuracy: 0.0939 - val_loss: 2.3989 - val_accuracy: 0.0636\n",
      "Epoch 8/100\n",
      "31/31 [==============================] - 1s 30ms/step - loss: 2.3979 - accuracy: 0.0939 - val_loss: 2.3989 - val_accuracy: 0.0636\n",
      "Epoch 9/100\n",
      "31/31 [==============================] - 1s 27ms/step - loss: 2.3979 - accuracy: 0.0939 - val_loss: 2.3990 - val_accuracy: 0.0636\n",
      "Epoch 10/100\n",
      "31/31 [==============================] - 1s 26ms/step - loss: 2.3979 - accuracy: 0.0939 - val_loss: 2.3990 - val_accuracy: 0.0636\n",
      "Epoch 11/100\n",
      "31/31 [==============================] - 1s 25ms/step - loss: 2.3979 - accuracy: 0.0939 - val_loss: 2.3991 - val_accuracy: 0.0636\n",
      "Epoch 12/100\n",
      "31/31 [==============================] - 1s 25ms/step - loss: 2.3979 - accuracy: 0.0939 - val_loss: 2.3991 - val_accuracy: 0.0636\n",
      "Epoch 13/100\n",
      "31/31 [==============================] - 1s 25ms/step - loss: 2.3979 - accuracy: 0.0939 - val_loss: 2.3991 - val_accuracy: 0.0636\n",
      "Epoch 14/100\n",
      "31/31 [==============================] - 1s 25ms/step - loss: 2.3979 - accuracy: 0.0939 - val_loss: 2.3993 - val_accuracy: 0.0636\n",
      "Epoch 15/100\n",
      "31/31 [==============================] - 1s 25ms/step - loss: 2.3979 - accuracy: 0.0939 - val_loss: 2.3993 - val_accuracy: 0.0636\n",
      "Epoch 16/100\n",
      "31/31 [==============================] - 1s 26ms/step - loss: 2.3979 - accuracy: 0.0939 - val_loss: 2.3993 - val_accuracy: 0.0636\n",
      "Epoch 17/100\n",
      "31/31 [==============================] - 1s 30ms/step - loss: 2.3979 - accuracy: 0.0939 - val_loss: 2.3995 - val_accuracy: 0.0636\n",
      "Epoch 18/100\n",
      "31/31 [==============================] - 1s 29ms/step - loss: 2.3979 - accuracy: 0.0939 - val_loss: 2.3995 - val_accuracy: 0.0636\n",
      "Epoch 19/100\n",
      "31/31 [==============================] - 1s 28ms/step - loss: 2.3979 - accuracy: 0.0939 - val_loss: 2.3994 - val_accuracy: 0.0636\n",
      "Epoch 20/100\n",
      "31/31 [==============================] - 1s 26ms/step - loss: 2.3979 - accuracy: 0.0939 - val_loss: 2.3995 - val_accuracy: 0.0636\n",
      "Epoch 21/100\n",
      "31/31 [==============================] - 1s 25ms/step - loss: 2.3979 - accuracy: 0.0939 - val_loss: 2.3994 - val_accuracy: 0.0636\n",
      "Epoch 22/100\n",
      "31/31 [==============================] - 1s 25ms/step - loss: 2.3979 - accuracy: 0.0939 - val_loss: 2.3995 - val_accuracy: 0.0636\n",
      "Epoch 23/100\n",
      "31/31 [==============================] - 1s 25ms/step - loss: 2.3979 - accuracy: 0.0939 - val_loss: 2.3995 - val_accuracy: 0.0636\n",
      "Epoch 24/100\n",
      "31/31 [==============================] - 1s 25ms/step - loss: 2.3979 - accuracy: 0.0939 - val_loss: 2.3995 - val_accuracy: 0.0636\n",
      "Epoch 25/100\n",
      "31/31 [==============================] - 1s 25ms/step - loss: 2.3979 - accuracy: 0.0939 - val_loss: 2.3995 - val_accuracy: 0.0636\n",
      "Epoch 26/100\n",
      "31/31 [==============================] - 1s 25ms/step - loss: 2.3979 - accuracy: 0.0939 - val_loss: 2.3996 - val_accuracy: 0.0636\n",
      "Epoch 27/100\n",
      "31/31 [==============================] - 1s 26ms/step - loss: 2.3979 - accuracy: 0.0939 - val_loss: 2.3997 - val_accuracy: 0.0636\n",
      "Epoch 28/100\n",
      "31/31 [==============================] - 1s 31ms/step - loss: 2.3979 - accuracy: 0.0939 - val_loss: 2.3996 - val_accuracy: 0.0636\n",
      "Epoch 29/100\n",
      "31/31 [==============================] - 1s 27ms/step - loss: 2.3979 - accuracy: 0.0939 - val_loss: 2.3996 - val_accuracy: 0.0636\n",
      "Epoch 30/100\n",
      "31/31 [==============================] - 1s 27ms/step - loss: 2.3979 - accuracy: 0.0939 - val_loss: 2.3996 - val_accuracy: 0.0636\n",
      "Epoch 31/100\n",
      "31/31 [==============================] - 1s 25ms/step - loss: 2.3979 - accuracy: 0.0939 - val_loss: 2.3996 - val_accuracy: 0.0636\n",
      "Epoch 32/100\n",
      "31/31 [==============================] - 1s 25ms/step - loss: 2.3979 - accuracy: 0.0939 - val_loss: 2.3997 - val_accuracy: 0.0636\n",
      "Epoch 33/100\n",
      "31/31 [==============================] - 1s 25ms/step - loss: 2.3979 - accuracy: 0.0939 - val_loss: 2.3996 - val_accuracy: 0.0636\n",
      "Epoch 34/100\n",
      "31/31 [==============================] - 1s 25ms/step - loss: 2.3979 - accuracy: 0.0939 - val_loss: 2.3997 - val_accuracy: 0.0636\n",
      "Epoch 35/100\n",
      "31/31 [==============================] - 1s 25ms/step - loss: 2.3979 - accuracy: 0.0939 - val_loss: 2.3997 - val_accuracy: 0.0636\n",
      "Epoch 36/100\n",
      "31/31 [==============================] - 1s 27ms/step - loss: 2.3979 - accuracy: 0.0939 - val_loss: 2.3996 - val_accuracy: 0.0636\n",
      "Epoch 37/100\n",
      "31/31 [==============================] - 1s 29ms/step - loss: 2.3979 - accuracy: 0.0939 - val_loss: 2.3997 - val_accuracy: 0.0636\n",
      "Epoch 38/100\n",
      "31/31 [==============================] - 1s 29ms/step - loss: 2.3979 - accuracy: 0.0939 - val_loss: 2.3997 - val_accuracy: 0.0636\n",
      "Epoch 39/100\n",
      "31/31 [==============================] - 1s 27ms/step - loss: 2.3979 - accuracy: 0.0939 - val_loss: 2.3997 - val_accuracy: 0.0636\n",
      "Epoch 40/100\n",
      "31/31 [==============================] - 1s 26ms/step - loss: 2.3979 - accuracy: 0.0939 - val_loss: 2.3998 - val_accuracy: 0.0636\n",
      "Epoch 41/100\n",
      "31/31 [==============================] - 1s 24ms/step - loss: 2.3979 - accuracy: 0.0939 - val_loss: 2.3997 - val_accuracy: 0.0636\n",
      "Epoch 42/100\n",
      "31/31 [==============================] - 1s 25ms/step - loss: 2.3979 - accuracy: 0.0939 - val_loss: 2.3997 - val_accuracy: 0.0636\n",
      "Epoch 43/100\n",
      "31/31 [==============================] - 1s 25ms/step - loss: 2.3979 - accuracy: 0.0939 - val_loss: 2.3997 - val_accuracy: 0.0636\n",
      "Epoch 44/100\n",
      "31/31 [==============================] - 1s 25ms/step - loss: 2.3979 - accuracy: 0.0939 - val_loss: 2.3997 - val_accuracy: 0.0636\n",
      "Epoch 45/100\n",
      "31/31 [==============================] - 1s 25ms/step - loss: 2.3979 - accuracy: 0.0939 - val_loss: 2.3997 - val_accuracy: 0.0636\n",
      "Epoch 46/100\n",
      "31/31 [==============================] - 1s 26ms/step - loss: 2.3979 - accuracy: 0.0939 - val_loss: 2.3996 - val_accuracy: 0.0636\n",
      "Epoch 47/100\n",
      "31/31 [==============================] - 1s 28ms/step - loss: 2.3979 - accuracy: 0.0939 - val_loss: 2.3997 - val_accuracy: 0.0636\n",
      "Epoch 48/100\n",
      "31/31 [==============================] - 1s 30ms/step - loss: 2.3979 - accuracy: 0.0939 - val_loss: 2.3997 - val_accuracy: 0.0636\n",
      "Epoch 49/100\n",
      "31/31 [==============================] - 1s 27ms/step - loss: 2.3979 - accuracy: 0.0939 - val_loss: 2.3997 - val_accuracy: 0.0636\n",
      "Epoch 50/100\n",
      "31/31 [==============================] - 1s 26ms/step - loss: 2.3979 - accuracy: 0.0939 - val_loss: 2.3996 - val_accuracy: 0.0636\n",
      "Epoch 51/100\n",
      "31/31 [==============================] - 1s 25ms/step - loss: 2.3979 - accuracy: 0.0939 - val_loss: 2.3997 - val_accuracy: 0.0636\n",
      "Epoch 52/100\n",
      "31/31 [==============================] - 1s 25ms/step - loss: 2.3979 - accuracy: 0.0939 - val_loss: 2.3997 - val_accuracy: 0.0636\n",
      "Epoch 53/100\n",
      "31/31 [==============================] - 1s 25ms/step - loss: 2.3979 - accuracy: 0.0939 - val_loss: 2.3997 - val_accuracy: 0.0636\n",
      "Epoch 54/100\n",
      "31/31 [==============================] - 1s 25ms/step - loss: 2.3979 - accuracy: 0.0939 - val_loss: 2.3997 - val_accuracy: 0.0636\n",
      "Epoch 55/100\n",
      "31/31 [==============================] - 1s 25ms/step - loss: 2.3979 - accuracy: 0.0939 - val_loss: 2.3997 - val_accuracy: 0.0636\n",
      "Epoch 56/100\n",
      "31/31 [==============================] - 1s 25ms/step - loss: 2.3979 - accuracy: 0.0939 - val_loss: 2.3998 - val_accuracy: 0.0636\n",
      "Epoch 57/100\n",
      "31/31 [==============================] - 1s 27ms/step - loss: 2.3979 - accuracy: 0.0939 - val_loss: 2.3997 - val_accuracy: 0.0636\n",
      "Epoch 58/100\n",
      "31/31 [==============================] - 1s 29ms/step - loss: 2.3979 - accuracy: 0.0939 - val_loss: 2.3997 - val_accuracy: 0.0636\n",
      "Epoch 59/100\n",
      "31/31 [==============================] - 1s 27ms/step - loss: 2.3979 - accuracy: 0.0939 - val_loss: 2.3998 - val_accuracy: 0.0636\n",
      "Epoch 60/100\n",
      "31/31 [==============================] - 1s 26ms/step - loss: 2.3979 - accuracy: 0.0939 - val_loss: 2.3997 - val_accuracy: 0.0636\n",
      "Epoch 61/100\n",
      "31/31 [==============================] - 1s 25ms/step - loss: 2.3979 - accuracy: 0.0939 - val_loss: 2.3997 - val_accuracy: 0.0636\n",
      "Epoch 62/100\n",
      "31/31 [==============================] - 1s 25ms/step - loss: 2.3979 - accuracy: 0.0939 - val_loss: 2.3997 - val_accuracy: 0.0636\n",
      "Epoch 63/100\n",
      "31/31 [==============================] - 1s 25ms/step - loss: 2.3979 - accuracy: 0.0939 - val_loss: 2.3998 - val_accuracy: 0.0636\n",
      "Epoch 64/100\n",
      "31/31 [==============================] - 1s 25ms/step - loss: 2.3979 - accuracy: 0.0939 - val_loss: 2.3998 - val_accuracy: 0.0636\n",
      "Epoch 65/100\n",
      "31/31 [==============================] - 1s 25ms/step - loss: 2.3979 - accuracy: 0.0939 - val_loss: 2.3998 - val_accuracy: 0.0636\n",
      "Epoch 66/100\n",
      "31/31 [==============================] - 1s 25ms/step - loss: 2.3979 - accuracy: 0.0939 - val_loss: 2.3998 - val_accuracy: 0.0636\n",
      "Epoch 67/100\n",
      "31/31 [==============================] - 1s 26ms/step - loss: 2.3979 - accuracy: 0.0939 - val_loss: 2.3996 - val_accuracy: 0.0636\n",
      "Epoch 68/100\n",
      "31/31 [==============================] - 1s 26ms/step - loss: 2.3979 - accuracy: 0.0939 - val_loss: 2.3997 - val_accuracy: 0.0636\n",
      "Epoch 69/100\n",
      "31/31 [==============================] - 1s 26ms/step - loss: 2.3979 - accuracy: 0.0939 - val_loss: 2.3997 - val_accuracy: 0.0636\n",
      "Epoch 70/100\n",
      "31/31 [==============================] - 1s 26ms/step - loss: 2.3979 - accuracy: 0.0939 - val_loss: 2.3998 - val_accuracy: 0.0636\n",
      "Epoch 71/100\n",
      "31/31 [==============================] - 1s 26ms/step - loss: 2.3979 - accuracy: 0.0939 - val_loss: 2.3996 - val_accuracy: 0.0636\n",
      "Epoch 72/100\n",
      "31/31 [==============================] - 1s 26ms/step - loss: 2.3979 - accuracy: 0.0939 - val_loss: 2.3997 - val_accuracy: 0.0636\n",
      "Epoch 73/100\n",
      "31/31 [==============================] - 1s 26ms/step - loss: 2.3979 - accuracy: 0.0939 - val_loss: 2.3997 - val_accuracy: 0.0636\n",
      "Epoch 74/100\n",
      "31/31 [==============================] - 1s 26ms/step - loss: 2.3979 - accuracy: 0.0939 - val_loss: 2.3998 - val_accuracy: 0.0636\n",
      "Epoch 75/100\n",
      "31/31 [==============================] - 1s 26ms/step - loss: 2.3979 - accuracy: 0.0939 - val_loss: 2.3998 - val_accuracy: 0.0636\n",
      "Epoch 76/100\n",
      "31/31 [==============================] - 1s 26ms/step - loss: 2.3979 - accuracy: 0.0939 - val_loss: 2.3997 - val_accuracy: 0.0636\n",
      "Epoch 77/100\n",
      "31/31 [==============================] - 1s 26ms/step - loss: 2.3979 - accuracy: 0.0939 - val_loss: 2.3998 - val_accuracy: 0.0636\n",
      "Epoch 78/100\n",
      "31/31 [==============================] - 1s 25ms/step - loss: 2.3979 - accuracy: 0.0939 - val_loss: 2.3998 - val_accuracy: 0.0636\n",
      "Epoch 79/100\n",
      "31/31 [==============================] - 1s 25ms/step - loss: 2.3979 - accuracy: 0.0939 - val_loss: 2.3997 - val_accuracy: 0.0636\n",
      "Epoch 80/100\n",
      "31/31 [==============================] - 1s 26ms/step - loss: 2.3979 - accuracy: 0.0939 - val_loss: 2.3997 - val_accuracy: 0.0636\n",
      "Epoch 81/100\n",
      "31/31 [==============================] - 1s 26ms/step - loss: 2.3979 - accuracy: 0.0939 - val_loss: 2.3998 - val_accuracy: 0.0636\n",
      "Epoch 82/100\n",
      "31/31 [==============================] - 1s 26ms/step - loss: 2.3979 - accuracy: 0.0939 - val_loss: 2.3996 - val_accuracy: 0.0636\n",
      "Epoch 83/100\n",
      "31/31 [==============================] - 1s 26ms/step - loss: 2.3979 - accuracy: 0.0939 - val_loss: 2.3997 - val_accuracy: 0.0636\n",
      "Epoch 84/100\n",
      "31/31 [==============================] - 1s 26ms/step - loss: 2.3979 - accuracy: 0.0939 - val_loss: 2.3998 - val_accuracy: 0.0636\n",
      "Epoch 85/100\n",
      "31/31 [==============================] - 1s 26ms/step - loss: 2.3979 - accuracy: 0.0939 - val_loss: 2.3996 - val_accuracy: 0.0636\n",
      "Epoch 86/100\n",
      "31/31 [==============================] - 1s 26ms/step - loss: 2.3979 - accuracy: 0.0939 - val_loss: 2.3996 - val_accuracy: 0.0636\n",
      "Epoch 87/100\n",
      "31/31 [==============================] - 1s 25ms/step - loss: 2.3979 - accuracy: 0.0939 - val_loss: 2.3997 - val_accuracy: 0.0636\n",
      "Epoch 88/100\n",
      "31/31 [==============================] - 1s 26ms/step - loss: 2.3979 - accuracy: 0.0939 - val_loss: 2.3997 - val_accuracy: 0.0636\n",
      "Epoch 89/100\n",
      "31/31 [==============================] - 1s 26ms/step - loss: 2.3979 - accuracy: 0.0939 - val_loss: 2.3998 - val_accuracy: 0.0636\n",
      "Epoch 90/100\n",
      "31/31 [==============================] - 1s 26ms/step - loss: 2.3979 - accuracy: 0.0939 - val_loss: 2.3996 - val_accuracy: 0.0636\n",
      "Epoch 91/100\n",
      "31/31 [==============================] - 1s 26ms/step - loss: 2.3979 - accuracy: 0.0939 - val_loss: 2.3997 - val_accuracy: 0.0636\n",
      "Epoch 92/100\n",
      "31/31 [==============================] - 1s 25ms/step - loss: 2.3979 - accuracy: 0.0939 - val_loss: 2.3996 - val_accuracy: 0.0636\n",
      "Epoch 93/100\n",
      "31/31 [==============================] - 1s 26ms/step - loss: 2.3979 - accuracy: 0.0939 - val_loss: 2.3997 - val_accuracy: 0.0636\n",
      "Epoch 94/100\n",
      "31/31 [==============================] - 1s 25ms/step - loss: 2.3979 - accuracy: 0.0939 - val_loss: 2.3998 - val_accuracy: 0.0636\n",
      "Epoch 95/100\n",
      "31/31 [==============================] - 1s 24ms/step - loss: 2.3979 - accuracy: 0.0939 - val_loss: 2.3997 - val_accuracy: 0.0636\n",
      "Epoch 96/100\n",
      "31/31 [==============================] - 1s 24ms/step - loss: 2.3979 - accuracy: 0.0939 - val_loss: 2.3998 - val_accuracy: 0.0636\n",
      "Epoch 97/100\n",
      "31/31 [==============================] - 1s 26ms/step - loss: 2.3979 - accuracy: 0.0939 - val_loss: 2.3997 - val_accuracy: 0.0636\n",
      "Epoch 98/100\n",
      "31/31 [==============================] - 1s 26ms/step - loss: 2.3978 - accuracy: 0.0939 - val_loss: 2.3997 - val_accuracy: 0.0636\n",
      "Epoch 99/100\n",
      "31/31 [==============================] - 1s 26ms/step - loss: 2.3979 - accuracy: 0.0939 - val_loss: 2.3996 - val_accuracy: 0.0636\n",
      "Epoch 100/100\n",
      "31/31 [==============================] - 1s 26ms/step - loss: 2.3979 - accuracy: 0.0939 - val_loss: 2.3997 - val_accuracy: 0.0636\n",
      "35/35 [==============================] - 0s 6ms/step - loss: 2.3980 - accuracy: 0.0909\n"
     ]
    },
    {
     "data": {
      "image/png": "[encoded data removed]",
      "text/plain": [
       "<Figure size 504x432 with 2 Axes>"
      ]
     },
     "metadata": {
      "needs_background": "light"
     },
     "output_type": "display_data"
    },
    {
     "name": "stdout",
     "output_type": "stream",
     "text": [
      "Precision:0.00826\n",
      "Recall:0.0909\n",
      "F1_score:0.0152\n",
      "              precision    recall  f1-score   support\n",
      "\n",
      "           0       0.00      0.00      0.00       100\n",
      "           1       0.00      0.00      0.00       100\n",
      "           2       0.00      0.00      0.00       100\n",
      "           3       0.00      0.00      0.00       100\n",
      "           4       0.00      0.00      0.00       100\n",
      "           5       0.00      0.00      0.00       100\n",
      "           6       0.00      0.00      0.00       100\n",
      "           7       0.00      0.00      0.00       100\n",
      "           8       0.00      0.00      0.00       100\n",
      "           9       0.09      1.00      0.17       100\n",
      "          10       0.00      0.00      0.00       100\n",
      "\n",
      "    accuracy                           0.09      1100\n",
      "   macro avg       0.01      0.09      0.02      1100\n",
      "weighted avg       0.01      0.09      0.02      1100\n",
      "\n",
      "\n",
      "K-fold cross validation Accuracy: ['0.0909', '1.0000', '0.0909', '1.0000', '0.0909']\n"
     ]
    }
   ],
   "source": [
    "# 주어진 데이터를 학습 데이터와 테스트 데이터로 분리\n",
    "skf = StratifiedKFold(n_splits=5, random_state=42, shuffle=True)\n",
    "\n",
    "accuracy = []\n",
    "\n",
    "for train, validation in skf.split(x,y):\n",
    "    model = keras.Sequential()\n",
    "    model.add(Conv1D(16, 9, activation='relu', input_shape=(len(x[0]),1)))\n",
    "    model.add(Conv1D(16, 9, activation='relu'))\n",
    "    model.add(Conv1D(32, 9, activation='relu'))\n",
    "    model.add(Conv1D(32, 9, activation='relu'))\n",
    "    model.add(Conv1D(32, 9, activation='relu'))\n",
    "    model.add(Conv1D(32, 9, activation='relu'))\n",
    "    model.add(Conv1D(32, 9, activation='relu'))\n",
    "    model.add(Flatten())\n",
    "    model.add(Dense(10, activation='relu'))\n",
    "    model.add(Dense(10, activation='relu'))\n",
    "    model.add(Dense(10, activation='relu'))\n",
    "    model.add(Dense(11, activation=\"softmax\"))\n",
    "    model.compile(loss='sparse_categorical_crossentropy', optimizer='adam', metrics=['accuracy'])\n",
    "  #model.summary()\n",
    "\n",
    "  # 학습 데이터를 이용해서 학습\n",
    "    hist = model.fit(x[train], y[train], epochs=100, batch_size=128, verbose=1, validation_split=0.1)  \n",
    "\n",
    "  # 테스트 데이터를 이용해서 검증\n",
    "    k_accuracy = '%.4f' % (model.evaluate(x[validation], y[validation])[1])\n",
    "    accuracy.append(k_accuracy)\n",
    "  \n",
    "  #confusion matrix\n",
    "    y_ = model.predict(x[validation])\n",
    "    predicted = np.argmax(y_, axis = -1)\n",
    "\n",
    "    classes = ['class1', 'class2', 'class3', 'class4', 'class5', 'class6', 'class7','class8', 'class9', 'class10','class11' ]\n",
    "    conf_mat = confusion_matrix(y[validation], predicted)\n",
    "    fig, ax = plt.subplots(figsize=(7,6))\n",
    "    plt.setp(ax.get_xticklabels(), rotation=45, ha=\"right\", rotation_mode=\"anchor\")\n",
    "    plt.title('Confusion matrix')\n",
    "    plt.ylabel('Actual label')\n",
    "    plt.xlabel('Predicted label')\n",
    "    sns.heatmap(conf_mat, annot=True, fmt='d', xticklabels=classes, yticklabels=classes)\n",
    "    plt.show()\n",
    "\n",
    "  #정밀도, 재현도, f1-score\n",
    "    precision = precision_score(y[validation], predicted, average='weighted')\n",
    "    recall = recall_score(y[validation], predicted, average='weighted')\n",
    "    f1 = f1_score(y[validation], predicted, average='weighted')\n",
    "\n",
    "    print('Precision:{:.3}'.format(precision))\n",
    "    print('Recall:{:.3}'.format(recall))\n",
    "    print('F1_score:{:.3}'.format(f1))\n",
    "\n",
    "  #분류 보고서\n",
    "    print(classification_report(y[validation], predicted))\n",
    "\n",
    "# 전체 검증 결과 출력\n",
    "print('\\nK-fold cross validation Accuracy: {}'.format(accuracy))"
   ]
  },
  {
   "cell_type": "code",
   "execution_count": 23,
   "metadata": {
    "colab": {
     "base_uri": "https://localhost:8080/"
    },
    "id": "PeHHHEUhiJH5",
    "outputId": "6a2da373-e7a9-4eee-9e43-93c1f902b923"
   },
   "outputs": [
    {
     "data": {
      "text/plain": [
       "['0.0909', '1.0000', '0.0909', '1.0000', '0.0909']"
      ]
     },
     "execution_count": 23,
     "metadata": {},
     "output_type": "execute_result"
    }
   ],
   "source": [
    "accuracy"
   ]
  },
  {
   "cell_type": "code",
   "execution_count": 24,
   "metadata": {
    "colab": {
     "base_uri": "https://localhost:8080/"
    },
    "id": "dx86ejQ616uZ",
    "outputId": "802bfc0c-f28c-42ce-ed88-6b911fc3d1ab"
   },
   "outputs": [
    {
     "data": {
      "text/plain": [
       "[0.0909, 1.0, 0.0909, 1.0, 0.0909]"
      ]
     },
     "execution_count": 24,
     "metadata": {},
     "output_type": "execute_result"
    }
   ],
   "source": [
    "acc = list(map(float, accuracy))\n",
    "acc"
   ]
  },
  {
   "cell_type": "code",
   "execution_count": 25,
   "metadata": {
    "id": "-f4pHhxY2APw"
   },
   "outputs": [
    {
     "data": {
      "text/plain": [
       "0.45454"
      ]
     },
     "execution_count": 25,
     "metadata": {},
     "output_type": "execute_result"
    }
   ],
   "source": [
    "np.mean(acc)"
   ]
  },
  {
   "cell_type": "code",
   "execution_count": null,
   "metadata": {},
   "outputs": [],
   "source": []
  }
 ],
 "metadata": {
  "accelerator": "GPU",
  "colab": {
   "collapsed_sections": [],
   "name": "★210914_1D-CNN_4000point_8736kDa_StratifiedKfold.ipynb",
   "provenance": []
  },
  "kernelspec": {
   "display_name": "Python 3 (ipykernel)",
   "language": "python",
   "name": "python3"
  },
  "language_info": {
   "codemirror_mode": {
    "name": "ipython",
    "version": 3
   },
   "file_extension": ".py",
   "mimetype": "text/x-python",
   "name": "python",
   "nbconvert_exporter": "python",
   "pygments_lexer": "ipython3",
   "version": "3.9.7"
  }
 },
 "nbformat": 4,
 "nbformat_minor": 1
}
