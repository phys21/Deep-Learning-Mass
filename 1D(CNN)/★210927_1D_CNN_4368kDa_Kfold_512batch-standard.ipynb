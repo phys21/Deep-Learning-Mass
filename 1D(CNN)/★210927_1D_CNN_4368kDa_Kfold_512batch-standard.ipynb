{
 "cells": [
  {
   "cell_type": "markdown",
   "metadata": {
    "id": "GavgmjDytAsf"
   },
   "source": [
    "# 데이터 로딩"
   ]
  },
  {
   "cell_type": "code",
   "execution_count": 1,
   "metadata": {
    "colab": {
     "base_uri": "https://localhost:8080/"
    },
    "id": "pUWSYQ9FNt_C",
    "outputId": "46237811-4e40-413a-9b28-e21cff94e8b8"
   },
   "outputs": [],
   "source": [
    "#from google.colab import drive\n",
    "#drive.mount('/content/drive')"
   ]
  },
  {
   "cell_type": "code",
   "execution_count": 2,
   "metadata": {},
   "outputs": [],
   "source": [
    "import warnings\n",
    "warnings.filterwarnings(action='ignore')"
   ]
  },
  {
   "cell_type": "code",
   "execution_count": 3,
   "metadata": {},
   "outputs": [],
   "source": [
    "import os\n",
    "os.environ[\"CUDA_DEVICE_ORDER\"]=\"PCI_BUS_ID\"\n",
    "os.environ[\"CUDA_VISIBLE_DEVICES\"]=\"0\""
   ]
  },
  {
   "cell_type": "code",
   "execution_count": 4,
   "metadata": {},
   "outputs": [
    {
     "name": "stderr",
     "output_type": "stream",
     "text": [
      "2021-09-28 23:32:39.817371: I tensorflow/core/platform/cpu_feature_guard.cc:142] This TensorFlow binary is optimized with oneAPI Deep Neural Network Library (oneDNN) to use the following CPU instructions in performance-critical operations:  AVX2 AVX512F FMA\n",
      "To enable them in other operations, rebuild TensorFlow with the appropriate compiler flags.\n"
     ]
    },
    {
     "data": {
      "text/plain": [
       "[name: \"/device:CPU:0\"\n",
       " device_type: \"CPU\"\n",
       " memory_limit: 268435456\n",
       " locality {\n",
       " }\n",
       " incarnation: 17844922417148244780,\n",
       " name: \"/device:GPU:0\"\n",
       " device_type: \"GPU\"\n",
       " memory_limit: 23391698944\n",
       " locality {\n",
       "   bus_id: 1\n",
       "   links {\n",
       "   }\n",
       " }\n",
       " incarnation: 11350310568160879161\n",
       " physical_device_desc: \"device: 0, name: GeForce RTX 3090, pci bus id: 0000:67:00.0, compute capability: 8.6\"]"
      ]
     },
     "execution_count": 4,
     "metadata": {},
     "output_type": "execute_result"
    },
    {
     "name": "stderr",
     "output_type": "stream",
     "text": [
      "2021-09-28 23:32:40.295703: I tensorflow/core/common_runtime/gpu/gpu_device.cc:1510] Created device /device:GPU:0 with 22308 MB memory:  -> device: 0, name: GeForce RTX 3090, pci bus id: 0000:67:00.0, compute capability: 8.6\n"
     ]
    }
   ],
   "source": [
    "from tensorflow.python.client import device_lib\n",
    "device_lib.list_local_devices()"
   ]
  },
  {
   "cell_type": "code",
   "execution_count": 5,
   "metadata": {
    "id": "7tpIBpEXNpjm"
   },
   "outputs": [],
   "source": [
    "import numpy as np\n",
    "import pandas as pd\n",
    "import matplotlib.pyplot as plt"
   ]
  },
  {
   "cell_type": "code",
   "execution_count": 6,
   "metadata": {
    "colab": {
     "base_uri": "https://localhost:8080/"
    },
    "id": "EYw7FBvHs5E9",
    "outputId": "cc48b6dd-c461-48e6-f44f-81963c68fa0a",
    "scrolled": false
   },
   "outputs": [
    {
     "name": "stdout",
     "output_type": "stream",
     "text": [
      "[[26571690.3  26538896.71 26562953.95 ... 26564003.28 26563325.64\n",
      "         0.  ]\n",
      " [26575225.93 26567619.47 26591998.96 ... 26560421.79 26539364.84\n",
      "         0.  ]\n",
      " [26554742.71 26553500.37 26557724.36 ... 26564623.   26574443.14\n",
      "         0.  ]\n",
      " ...\n",
      " [26565528.94 26592674.54 26540160.73 ... 26505552.83 26505366.25\n",
      "     50000.  ]\n",
      " [26560405.52 26533868.32 26545732.04 ... 26525762.12 26502046.79\n",
      "     50000.  ]\n",
      " [26575207.02 26580886.55 26574230.33 ... 26498210.81 26531390.22\n",
      "     50000.  ]]\n"
     ]
    }
   ],
   "source": [
    "data = pd.read_csv('210923_total_freq_with_noise_2000point_4368kDa.csv')\n",
    "df1 = data.values[:] # 문자열을 부동소수점형으로 변환한다\n",
    "print(df1)"
   ]
  },
  {
   "cell_type": "markdown",
   "metadata": {
    "id": "tZIY7CbcwW6F"
   },
   "source": [
    "# 데이터 살펴보기"
   ]
  },
  {
   "cell_type": "markdown",
   "metadata": {
    "id": "nfk1doFWnhQn"
   },
   "source": [
    "152개의 속성 값이 있고, -1 또는 1로 레이블링 되어 있다.\n",
    "\n",
    "152개 속성 값은 어떤 센서의 값을 시간을 두고 측정한 것이다."
   ]
  },
  {
   "cell_type": "code",
   "execution_count": 7,
   "metadata": {
    "colab": {
     "base_uri": "https://localhost:8080/"
    },
    "id": "smA15EaF1hmV",
    "outputId": "d90ea451-0543-43bf-d740-795fd1207c63"
   },
   "outputs": [
    {
     "name": "stdout",
     "output_type": "stream",
     "text": [
      "0           0\n",
      "1           0\n",
      "2           0\n",
      "3           0\n",
      "4           0\n",
      "        ...  \n",
      "5495    50000\n",
      "5496    50000\n",
      "5497    50000\n",
      "5498    50000\n",
      "5499    50000\n",
      "Name: target, Length: 5500, dtype: int64\n"
     ]
    }
   ],
   "source": [
    "df2_1 = data[\"target\"]\n",
    "df2 = df2_1[:]\n",
    "print(df2)"
   ]
  },
  {
   "cell_type": "code",
   "execution_count": 8,
   "metadata": {
    "colab": {
     "base_uri": "https://localhost:8080/"
    },
    "id": "ClKB2D7ZpFnL",
    "outputId": "125a2cbe-62b9-44b6-ae4a-98b068fedc2c"
   },
   "outputs": [
    {
     "name": "stdout",
     "output_type": "stream",
     "text": [
      "(array([    0,  5000, 10000, 15000, 20000, 25000, 30000, 35000, 40000,\n",
      "       45000, 50000]), array([500, 500, 500, 500, 500, 500, 500, 500, 500, 500, 500]))\n"
     ]
    }
   ],
   "source": [
    "target_count = np.unique(df2, return_counts=True)\n",
    "print(target_count)"
   ]
  },
  {
   "cell_type": "code",
   "execution_count": 9,
   "metadata": {
    "colab": {
     "base_uri": "https://localhost:8080/"
    },
    "id": "Bu3NHl9_Npjq",
    "outputId": "48d579ad-691c-4d74-d846-ffeea98d9a27"
   },
   "outputs": [
    {
     "name": "stdout",
     "output_type": "stream",
     "text": [
      "(array([    0,  5000, 10000, 15000, 20000, 25000, 30000, 35000, 40000,\n",
      "       45000, 50000]), array([500, 500, 500, 500, 500, 500, 500, 500, 500, 500, 500]))\n"
     ]
    }
   ],
   "source": [
    "target_count = np.unique(df2, return_counts=True)\n",
    "print(target_count)"
   ]
  },
  {
   "cell_type": "markdown",
   "metadata": {
    "id": "ZB0UsHjLsS1I"
   },
   "source": [
    "target값 -1, 1을 category 인덱스 0, 1로 변경"
   ]
  },
  {
   "cell_type": "code",
   "execution_count": 10,
   "metadata": {
    "colab": {
     "base_uri": "https://localhost:8080/"
    },
    "id": "C0nNKyJ4oaxo",
    "outputId": "3b9a1b1c-025e-48ce-8a28-680f9bd5c46d"
   },
   "outputs": [
    {
     "name": "stdout",
     "output_type": "stream",
     "text": [
      "(array([ 0,  1,  2,  3,  4,  5,  6,  7,  8,  9, 10]), array([500, 500, 500, 500, 500, 500, 500, 500, 500, 500, 500]))\n"
     ]
    }
   ],
   "source": [
    "df2 = df2.copy()\n",
    "df2[df2 < 5000] = 0\n",
    "df2[df2 == 5000] = 1\n",
    "df2[df2 == 10000] = 2\n",
    "df2[df2 == 15000] = 3\n",
    "df2[df2 == 20000] = 4\n",
    "df2[df2 == 25000] = 5\n",
    "df2[df2 == 30000] = 6\n",
    "df2[df2 == 35000] = 7\n",
    "df2[df2 == 40000] = 8\n",
    "df2[df2 == 45000] = 9\n",
    "df2[df2 == 50000] = 10\n",
    "\n",
    "target_count = np.unique(df2, return_counts=True)\n",
    "print(target_count)"
   ]
  },
  {
   "cell_type": "markdown",
   "metadata": {
    "id": "PAYLXje8Eq9l"
   },
   "source": [
    "# 문제 정의\n",
    "\n",
    "152개의 순차적인 센서 값을 가지고 분류한다.\n"
   ]
  },
  {
   "cell_type": "markdown",
   "metadata": {
    "id": "piqvWOOgpjHt"
   },
   "source": [
    "# 데이터 준비\n"
   ]
  },
  {
   "cell_type": "markdown",
   "metadata": {
    "id": "GD2kOh0_pmvD"
   },
   "source": [
    "## x, y 쪼개기"
   ]
  },
  {
   "cell_type": "code",
   "execution_count": 11,
   "metadata": {
    "id": "5mB3dKMYpJej"
   },
   "outputs": [],
   "source": [
    "x, y = df1[:,:-1], df2[:]"
   ]
  },
  {
   "cell_type": "code",
   "execution_count": 12,
   "metadata": {
    "colab": {
     "base_uri": "https://localhost:8080/"
    },
    "id": "UWtHOkIvpJlZ",
    "outputId": "98f0ae6c-f761-44e5-9435-bd9756ecdeb7"
   },
   "outputs": [
    {
     "name": "stdout",
     "output_type": "stream",
     "text": [
      "(5500, 4000)\n",
      "(5500,)\n"
     ]
    }
   ],
   "source": [
    "print(x.shape)\n",
    "print(y.shape)"
   ]
  },
  {
   "cell_type": "code",
   "execution_count": 13,
   "metadata": {
    "colab": {
     "base_uri": "https://localhost:8080/"
    },
    "id": "4WVNNZy3Npjt",
    "outputId": "7bb9910c-34c7-4da9-be72-1c5a150de0f2"
   },
   "outputs": [
    {
     "data": {
      "text/plain": [
       "0        0\n",
       "1        0\n",
       "2        0\n",
       "3        0\n",
       "4        0\n",
       "        ..\n",
       "5495    10\n",
       "5496    10\n",
       "5497    10\n",
       "5498    10\n",
       "5499    10\n",
       "Name: target, Length: 5500, dtype: int64"
      ]
     },
     "execution_count": 13,
     "metadata": {},
     "output_type": "execute_result"
    }
   ],
   "source": [
    "y"
   ]
  },
  {
   "cell_type": "markdown",
   "metadata": {
    "id": "DYJfroxKpoOc"
   },
   "source": [
    "## normalization"
   ]
  },
  {
   "cell_type": "code",
   "execution_count": 14,
   "metadata": {
    "colab": {
     "base_uri": "https://localhost:8080/"
    },
    "id": "0edILhqfpJrT",
    "outputId": "e1b6e56a-056f-4f40-d925-5a22fa02ca79"
   },
   "outputs": [
    {
     "name": "stdout",
     "output_type": "stream",
     "text": [
      "26434434.9 26657514.82\n",
      "0.0 1.0\n"
     ]
    }
   ],
   "source": [
    "min = np.min(x)\n",
    "max = np.max(x)\n",
    "print(min, max)\n",
    "\n",
    "x = (x-min) / (max-min)\n",
    "\n",
    "min = np.min(x)\n",
    "max = np.max(x)\n",
    "print(min, max)\n"
   ]
  },
  {
   "cell_type": "code",
   "execution_count": 15,
   "metadata": {
    "id": "CA_Fs7IhrKhv"
   },
   "outputs": [],
   "source": [
    "x = np.expand_dims(x, -1)"
   ]
  },
  {
   "cell_type": "markdown",
   "metadata": {
    "id": "YUNV4PRWp-jO"
   },
   "source": [
    "## 섞고"
   ]
  },
  {
   "cell_type": "code",
   "execution_count": 16,
   "metadata": {
    "id": "rK0FR9OOpJxL"
   },
   "outputs": [],
   "source": [
    "shuffled_index = np.random.permutation(len(x))\n",
    "x = x[shuffled_index]\n",
    "y = y.iloc[shuffled_index]\n",
    "x, y = np.array(x), np.array(y)"
   ]
  },
  {
   "cell_type": "markdown",
   "metadata": {
    "id": "RbjrYGVMqAF3"
   },
   "source": [
    "## train, test 쪼개기"
   ]
  },
  {
   "cell_type": "code",
   "execution_count": 17,
   "metadata": {
    "id": "TfPpY9jPpJz4"
   },
   "outputs": [],
   "source": [
    "#split_index = int( len(x) * 0.8 )\n",
    "#train_x, test_x = np.array(x[:split_index]), np.array(x[split_index:])\n",
    "#train_y, test_y = np.array(y[:split_index]), np.array(y[split_index:])"
   ]
  },
  {
   "cell_type": "code",
   "execution_count": 18,
   "metadata": {
    "id": "BfNSU7FdpJub"
   },
   "outputs": [],
   "source": [
    "#train_x[1].shape"
   ]
  },
  {
   "cell_type": "code",
   "execution_count": 19,
   "metadata": {
    "id": "gsqd1yWWNpju"
   },
   "outputs": [],
   "source": [
    "#train_x[1]"
   ]
  },
  {
   "cell_type": "markdown",
   "metadata": {
    "id": "3Oynfz6SqZzx"
   },
   "source": [
    "# 모델 정의"
   ]
  },
  {
   "cell_type": "code",
   "execution_count": 20,
   "metadata": {
    "id": "p0JtVB5ApJoc"
   },
   "outputs": [],
   "source": [
    "import tensorflow as tf\n",
    "from sklearn.model_selection import KFold \n",
    "from tensorflow import keras\n",
    "from tensorflow.keras import optimizers\n",
    "from tensorflow.keras.layers import Dense, Conv1D, Flatten\n",
    "from sklearn.model_selection import cross_val_score \n",
    "from sklearn.model_selection import StratifiedKFold"
   ]
  },
  {
   "cell_type": "code",
   "execution_count": 21,
   "metadata": {
    "colab": {
     "base_uri": "https://localhost:8080/",
     "height": 1000
    },
    "id": "8FTlEW4umicO",
    "outputId": "288b35af-b541-464b-9b2c-2f1ca72bc264"
   },
   "outputs": [],
   "source": [
    "from tensorflow.keras.models import Sequential\n",
    "from tensorflow.keras.layers import Dense\n",
    "#from tensorflow.keras.utils import np_utils\n",
    "import pandas as pd\n",
    "import matplotlib.pyplot as plt\n",
    "from sklearn.metrics import confusion_matrix\n",
    "import seaborn as sns\n",
    "from sklearn.metrics import precision_score, recall_score, f1_score, roc_curve\n",
    "from sklearn.metrics import classification_report\n",
    "from sklearn.model_selection import StratifiedKFold"
   ]
  },
  {
   "cell_type": "code",
   "execution_count": 22,
   "metadata": {
    "colab": {
     "base_uri": "https://localhost:8080/",
     "height": 1000
    },
    "id": "8FTlEW4umicO",
    "outputId": "288b35af-b541-464b-9b2c-2f1ca72bc264",
    "scrolled": false
   },
   "outputs": [
    {
     "name": "stderr",
     "output_type": "stream",
     "text": [
      "2021-09-28 23:32:44.448849: I tensorflow/core/common_runtime/gpu/gpu_device.cc:1510] Created device /job:localhost/replica:0/task:0/device:GPU:0 with 22308 MB memory:  -> device: 0, name: GeForce RTX 3090, pci bus id: 0000:67:00.0, compute capability: 8.6\n",
      "2021-09-28 23:32:45.029684: I tensorflow/compiler/mlir/mlir_graph_optimization_pass.cc:185] None of the MLIR Optimization Passes are enabled (registered 2)\n"
     ]
    },
    {
     "name": "stdout",
     "output_type": "stream",
     "text": [
      "Epoch 1/100\n"
     ]
    },
    {
     "name": "stderr",
     "output_type": "stream",
     "text": [
      "2021-09-28 23:32:46.029282: I tensorflow/stream_executor/cuda/cuda_dnn.cc:369] Loaded cuDNN version 8100\n",
      "2021-09-28 23:32:47.402250: I tensorflow/stream_executor/cuda/cuda_blas.cc:1760] TensorFloat-32 will be used for the matrix multiplication. This will only be logged once.\n"
     ]
    },
    {
     "name": "stdout",
     "output_type": "stream",
     "text": [
      "8/8 [==============================] - 4s 191ms/step - loss: 2.4101 - accuracy: 0.0856 - val_loss: 2.3976 - val_accuracy: 0.0750\n",
      "Epoch 2/100\n",
      "8/8 [==============================] - 1s 83ms/step - loss: 2.3976 - accuracy: 0.0975 - val_loss: 2.3952 - val_accuracy: 0.0750\n",
      "Epoch 3/100\n",
      "8/8 [==============================] - 1s 85ms/step - loss: 2.3937 - accuracy: 0.0975 - val_loss: 2.3947 - val_accuracy: 0.0705\n",
      "Epoch 4/100\n",
      "8/8 [==============================] - 1s 85ms/step - loss: 2.3804 - accuracy: 0.0912 - val_loss: 2.3361 - val_accuracy: 0.0977\n",
      "Epoch 5/100\n",
      "8/8 [==============================] - 1s 83ms/step - loss: 2.3276 - accuracy: 0.1111 - val_loss: 2.2949 - val_accuracy: 0.1659\n",
      "Epoch 6/100\n",
      "8/8 [==============================] - 1s 82ms/step - loss: 2.2476 - accuracy: 0.1167 - val_loss: 2.1468 - val_accuracy: 0.1000\n",
      "Epoch 7/100\n",
      "8/8 [==============================] - 1s 83ms/step - loss: 2.1466 - accuracy: 0.1407 - val_loss: 2.1183 - val_accuracy: 0.1682\n",
      "Epoch 8/100\n",
      "8/8 [==============================] - 1s 85ms/step - loss: 2.0898 - accuracy: 0.1568 - val_loss: 2.0754 - val_accuracy: 0.1682\n",
      "Epoch 9/100\n",
      "8/8 [==============================] - 1s 83ms/step - loss: 2.2174 - accuracy: 0.1866 - val_loss: 2.0842 - val_accuracy: 0.0977\n",
      "Epoch 10/100\n",
      "8/8 [==============================] - 1s 83ms/step - loss: 2.0915 - accuracy: 0.1212 - val_loss: 1.9496 - val_accuracy: 0.1682\n",
      "Epoch 11/100\n",
      "8/8 [==============================] - 1s 84ms/step - loss: 1.9826 - accuracy: 0.1659 - val_loss: 1.9276 - val_accuracy: 0.1727\n",
      "Epoch 12/100\n",
      "8/8 [==============================] - 1s 82ms/step - loss: 1.9430 - accuracy: 0.1848 - val_loss: 1.9043 - val_accuracy: 0.1727\n",
      "Epoch 13/100\n",
      "8/8 [==============================] - 1s 86ms/step - loss: 1.9161 - accuracy: 0.1843 - val_loss: 1.8708 - val_accuracy: 0.1727\n",
      "Epoch 14/100\n",
      "8/8 [==============================] - 1s 86ms/step - loss: 1.8844 - accuracy: 0.1836 - val_loss: 1.8584 - val_accuracy: 0.1727\n",
      "Epoch 15/100\n",
      "8/8 [==============================] - 1s 83ms/step - loss: 1.8608 - accuracy: 0.1990 - val_loss: 1.8256 - val_accuracy: 0.1795\n",
      "Epoch 16/100\n",
      "8/8 [==============================] - 1s 83ms/step - loss: 1.8376 - accuracy: 0.2003 - val_loss: 1.8033 - val_accuracy: 0.1841\n",
      "Epoch 17/100\n",
      "8/8 [==============================] - 1s 84ms/step - loss: 1.8143 - accuracy: 0.2015 - val_loss: 1.8136 - val_accuracy: 0.1909\n",
      "Epoch 18/100\n",
      "8/8 [==============================] - 1s 84ms/step - loss: 1.8210 - accuracy: 0.2391 - val_loss: 1.8515 - val_accuracy: 0.1795\n",
      "Epoch 19/100\n",
      "8/8 [==============================] - 1s 83ms/step - loss: 1.8163 - accuracy: 0.2444 - val_loss: 1.7537 - val_accuracy: 0.2182\n",
      "Epoch 20/100\n",
      "8/8 [==============================] - 1s 83ms/step - loss: 1.7760 - accuracy: 0.2179 - val_loss: 1.7527 - val_accuracy: 0.2500\n",
      "Epoch 21/100\n",
      "8/8 [==============================] - 1s 82ms/step - loss: 1.7692 - accuracy: 0.2467 - val_loss: 1.7266 - val_accuracy: 0.2295\n",
      "Epoch 22/100\n",
      "8/8 [==============================] - 1s 84ms/step - loss: 1.7522 - accuracy: 0.2508 - val_loss: 1.7318 - val_accuracy: 0.2023\n",
      "Epoch 23/100\n",
      "8/8 [==============================] - 1s 83ms/step - loss: 1.7393 - accuracy: 0.2573 - val_loss: 1.7179 - val_accuracy: 0.2591\n",
      "Epoch 24/100\n",
      "8/8 [==============================] - 1s 83ms/step - loss: 1.7259 - accuracy: 0.2566 - val_loss: 1.6950 - val_accuracy: 0.1886\n",
      "Epoch 25/100\n",
      "8/8 [==============================] - 1s 83ms/step - loss: 1.7078 - accuracy: 0.2449 - val_loss: 1.6840 - val_accuracy: 0.1795\n",
      "Epoch 26/100\n",
      "8/8 [==============================] - 1s 82ms/step - loss: 1.6908 - accuracy: 0.2604 - val_loss: 1.6841 - val_accuracy: 0.2295\n",
      "Epoch 27/100\n",
      "8/8 [==============================] - 1s 84ms/step - loss: 1.6815 - accuracy: 0.2846 - val_loss: 1.6649 - val_accuracy: 0.2250\n",
      "Epoch 28/100\n",
      "8/8 [==============================] - 1s 84ms/step - loss: 1.6673 - accuracy: 0.2720 - val_loss: 1.6531 - val_accuracy: 0.2477\n",
      "Epoch 29/100\n",
      "8/8 [==============================] - 1s 82ms/step - loss: 1.6545 - accuracy: 0.2816 - val_loss: 1.6371 - val_accuracy: 0.3205\n",
      "Epoch 30/100\n",
      "8/8 [==============================] - 1s 83ms/step - loss: 1.6543 - accuracy: 0.3040 - val_loss: 1.6448 - val_accuracy: 0.3591\n",
      "Epoch 31/100\n",
      "8/8 [==============================] - 1s 85ms/step - loss: 1.6504 - accuracy: 0.3159 - val_loss: 1.6395 - val_accuracy: 0.2227\n",
      "Epoch 32/100\n",
      "8/8 [==============================] - 1s 83ms/step - loss: 1.6485 - accuracy: 0.3104 - val_loss: 1.6119 - val_accuracy: 0.2409\n",
      "Epoch 33/100\n",
      "8/8 [==============================] - 1s 84ms/step - loss: 1.6398 - accuracy: 0.2793 - val_loss: 1.6072 - val_accuracy: 0.2932\n",
      "Epoch 34/100\n",
      "8/8 [==============================] - 1s 85ms/step - loss: 1.6495 - accuracy: 0.3505 - val_loss: 1.6605 - val_accuracy: 0.3432\n",
      "Epoch 35/100\n",
      "8/8 [==============================] - 1s 84ms/step - loss: 1.6656 - accuracy: 0.3515 - val_loss: 1.6497 - val_accuracy: 0.3477\n",
      "Epoch 36/100\n",
      "8/8 [==============================] - 1s 84ms/step - loss: 1.6523 - accuracy: 0.3535 - val_loss: 1.6336 - val_accuracy: 0.3568\n",
      "Epoch 37/100\n",
      "8/8 [==============================] - 1s 82ms/step - loss: 1.6368 - accuracy: 0.3470 - val_loss: 1.6158 - val_accuracy: 0.2523\n",
      "Epoch 38/100\n",
      "8/8 [==============================] - 1s 81ms/step - loss: 1.6203 - accuracy: 0.2932 - val_loss: 1.5959 - val_accuracy: 0.3023\n",
      "Epoch 39/100\n",
      "8/8 [==============================] - 1s 84ms/step - loss: 1.5968 - accuracy: 0.3263 - val_loss: 1.5679 - val_accuracy: 0.3477\n",
      "Epoch 40/100\n",
      "8/8 [==============================] - 1s 82ms/step - loss: 1.5865 - accuracy: 0.3326 - val_loss: 1.5674 - val_accuracy: 0.3409\n",
      "Epoch 41/100\n",
      "8/8 [==============================] - 1s 83ms/step - loss: 1.5734 - accuracy: 0.3338 - val_loss: 1.6254 - val_accuracy: 0.2523\n",
      "Epoch 42/100\n",
      "8/8 [==============================] - 1s 82ms/step - loss: 1.6128 - accuracy: 0.3470 - val_loss: 1.6098 - val_accuracy: 0.3500\n",
      "Epoch 43/100\n",
      "8/8 [==============================] - 1s 81ms/step - loss: 1.6210 - accuracy: 0.3601 - val_loss: 1.6129 - val_accuracy: 0.3455\n",
      "Epoch 44/100\n",
      "8/8 [==============================] - 1s 81ms/step - loss: 1.6180 - accuracy: 0.3576 - val_loss: 1.6036 - val_accuracy: 0.3500\n",
      "Epoch 45/100\n",
      "8/8 [==============================] - 1s 82ms/step - loss: 1.6071 - accuracy: 0.3646 - val_loss: 1.5924 - val_accuracy: 0.3455\n",
      "Epoch 46/100\n",
      "8/8 [==============================] - 1s 84ms/step - loss: 1.5966 - accuracy: 0.3902 - val_loss: 1.5797 - val_accuracy: 0.3886\n",
      "Epoch 47/100\n",
      "8/8 [==============================] - 1s 84ms/step - loss: 1.5854 - accuracy: 0.3578 - val_loss: 1.5668 - val_accuracy: 0.3136\n",
      "Epoch 48/100\n",
      "8/8 [==============================] - 1s 83ms/step - loss: 1.5728 - accuracy: 0.3462 - val_loss: 1.5502 - val_accuracy: 0.3250\n",
      "Epoch 49/100\n",
      "8/8 [==============================] - 1s 84ms/step - loss: 1.5529 - accuracy: 0.3530 - val_loss: 1.5226 - val_accuracy: 0.3432\n",
      "Epoch 50/100\n",
      "8/8 [==============================] - 1s 84ms/step - loss: 1.5427 - accuracy: 0.3505 - val_loss: 1.5192 - val_accuracy: 0.3250\n",
      "Epoch 51/100\n",
      "8/8 [==============================] - 1s 84ms/step - loss: 1.5311 - accuracy: 0.3525 - val_loss: 1.5058 - val_accuracy: 0.3477\n",
      "Epoch 52/100\n",
      "8/8 [==============================] - 1s 82ms/step - loss: 1.5345 - accuracy: 0.3672 - val_loss: 1.5217 - val_accuracy: 0.3114\n",
      "Epoch 53/100\n",
      "8/8 [==============================] - 1s 81ms/step - loss: 1.5293 - accuracy: 0.3402 - val_loss: 1.5328 - val_accuracy: 0.2568\n",
      "Epoch 54/100\n",
      "8/8 [==============================] - 1s 81ms/step - loss: 1.5323 - accuracy: 0.3497 - val_loss: 1.5101 - val_accuracy: 0.3500\n",
      "Epoch 55/100\n",
      "8/8 [==============================] - 1s 82ms/step - loss: 1.5292 - accuracy: 0.3495 - val_loss: 1.9017 - val_accuracy: 0.2659\n",
      "Epoch 56/100\n",
      "8/8 [==============================] - 1s 83ms/step - loss: 1.8532 - accuracy: 0.2614 - val_loss: 1.6342 - val_accuracy: 0.3500\n",
      "Epoch 57/100\n",
      "8/8 [==============================] - 1s 82ms/step - loss: 1.6431 - accuracy: 0.3457 - val_loss: 1.5789 - val_accuracy: 0.3500\n",
      "Epoch 58/100\n",
      "8/8 [==============================] - 1s 82ms/step - loss: 1.6111 - accuracy: 0.3616 - val_loss: 1.5192 - val_accuracy: 0.3318\n",
      "Epoch 59/100\n"
     ]
    },
    {
     "name": "stdout",
     "output_type": "stream",
     "text": [
      "8/8 [==============================] - 1s 83ms/step - loss: 1.5535 - accuracy: 0.3230 - val_loss: 1.5091 - val_accuracy: 0.3386\n",
      "Epoch 60/100\n",
      "8/8 [==============================] - 1s 82ms/step - loss: 1.5282 - accuracy: 0.3634 - val_loss: 1.4982 - val_accuracy: 0.3523\n",
      "Epoch 61/100\n",
      "8/8 [==============================] - 1s 81ms/step - loss: 1.5095 - accuracy: 0.3497 - val_loss: 1.4885 - val_accuracy: 0.2977\n",
      "Epoch 62/100\n",
      "8/8 [==============================] - 1s 81ms/step - loss: 1.4885 - accuracy: 0.4061 - val_loss: 1.4613 - val_accuracy: 0.4227\n",
      "Epoch 63/100\n",
      "8/8 [==============================] - 1s 81ms/step - loss: 1.4758 - accuracy: 0.4111 - val_loss: 1.4628 - val_accuracy: 0.3636\n",
      "Epoch 64/100\n",
      "8/8 [==============================] - 1s 82ms/step - loss: 1.4720 - accuracy: 0.4043 - val_loss: 1.4452 - val_accuracy: 0.3886\n",
      "Epoch 65/100\n",
      "8/8 [==============================] - 1s 81ms/step - loss: 1.4826 - accuracy: 0.3992 - val_loss: 1.4541 - val_accuracy: 0.4227\n",
      "Epoch 66/100\n",
      "8/8 [==============================] - 1s 81ms/step - loss: 1.4676 - accuracy: 0.3912 - val_loss: 1.4426 - val_accuracy: 0.3614\n",
      "Epoch 67/100\n",
      "8/8 [==============================] - 1s 81ms/step - loss: 1.4464 - accuracy: 0.4008 - val_loss: 1.4275 - val_accuracy: 0.3659\n",
      "Epoch 68/100\n",
      "8/8 [==============================] - 1s 82ms/step - loss: 1.4520 - accuracy: 0.4285 - val_loss: 1.4715 - val_accuracy: 0.4114\n",
      "Epoch 69/100\n",
      "8/8 [==============================] - 1s 83ms/step - loss: 1.4452 - accuracy: 0.4316 - val_loss: 1.4142 - val_accuracy: 0.4114\n",
      "Epoch 70/100\n",
      "8/8 [==============================] - 1s 82ms/step - loss: 1.4183 - accuracy: 0.4460 - val_loss: 1.3973 - val_accuracy: 0.3932\n",
      "Epoch 71/100\n",
      "8/8 [==============================] - 1s 81ms/step - loss: 1.3915 - accuracy: 0.4753 - val_loss: 1.3742 - val_accuracy: 0.4909\n",
      "Epoch 72/100\n",
      "8/8 [==============================] - 1s 81ms/step - loss: 1.6907 - accuracy: 0.4172 - val_loss: 2.3235 - val_accuracy: 0.0750\n",
      "Epoch 73/100\n",
      "8/8 [==============================] - 1s 82ms/step - loss: 2.0852 - accuracy: 0.1515 - val_loss: 1.8925 - val_accuracy: 0.0750\n",
      "Epoch 74/100\n",
      "8/8 [==============================] - 1s 81ms/step - loss: 1.7526 - accuracy: 0.2442 - val_loss: 1.7431 - val_accuracy: 0.1455\n",
      "Epoch 75/100\n",
      "8/8 [==============================] - 1s 81ms/step - loss: 1.6161 - accuracy: 0.2886 - val_loss: 1.6107 - val_accuracy: 0.2705\n",
      "Epoch 76/100\n",
      "8/8 [==============================] - 1s 81ms/step - loss: 1.5630 - accuracy: 0.3419 - val_loss: 1.5549 - val_accuracy: 0.4205\n",
      "Epoch 77/100\n",
      "8/8 [==============================] - 1s 83ms/step - loss: 1.5364 - accuracy: 0.3982 - val_loss: 1.5435 - val_accuracy: 0.4045\n",
      "Epoch 78/100\n",
      "8/8 [==============================] - 1s 81ms/step - loss: 1.5168 - accuracy: 0.3992 - val_loss: 1.5140 - val_accuracy: 0.3250\n",
      "Epoch 79/100\n",
      "8/8 [==============================] - 1s 82ms/step - loss: 1.4941 - accuracy: 0.3669 - val_loss: 1.5008 - val_accuracy: 0.3250\n",
      "Epoch 80/100\n",
      "8/8 [==============================] - 1s 81ms/step - loss: 1.4767 - accuracy: 0.3669 - val_loss: 1.4864 - val_accuracy: 0.3250\n",
      "Epoch 81/100\n",
      "8/8 [==============================] - 1s 82ms/step - loss: 1.4617 - accuracy: 0.3669 - val_loss: 1.4708 - val_accuracy: 0.3250\n",
      "Epoch 82/100\n",
      "8/8 [==============================] - 1s 83ms/step - loss: 1.4455 - accuracy: 0.3669 - val_loss: 1.4570 - val_accuracy: 0.3250\n",
      "Epoch 83/100\n",
      "8/8 [==============================] - 1s 81ms/step - loss: 1.4326 - accuracy: 0.3707 - val_loss: 1.4520 - val_accuracy: 0.3295\n",
      "Epoch 84/100\n",
      "8/8 [==============================] - 1s 81ms/step - loss: 1.4217 - accuracy: 0.4323 - val_loss: 1.4360 - val_accuracy: 0.3250\n",
      "Epoch 85/100\n",
      "8/8 [==============================] - 1s 81ms/step - loss: 1.4130 - accuracy: 0.3667 - val_loss: 1.4366 - val_accuracy: 0.4205\n",
      "Epoch 86/100\n",
      "8/8 [==============================] - 1s 81ms/step - loss: 1.4121 - accuracy: 0.4303 - val_loss: 1.4322 - val_accuracy: 0.3250\n",
      "Epoch 87/100\n",
      "8/8 [==============================] - 1s 81ms/step - loss: 1.4064 - accuracy: 0.4008 - val_loss: 1.4263 - val_accuracy: 0.3909\n",
      "Epoch 88/100\n",
      "8/8 [==============================] - 1s 81ms/step - loss: 1.4072 - accuracy: 0.4247 - val_loss: 1.4154 - val_accuracy: 0.3250\n",
      "Epoch 89/100\n",
      "8/8 [==============================] - 1s 83ms/step - loss: 1.3908 - accuracy: 0.4328 - val_loss: 1.4245 - val_accuracy: 0.3250\n",
      "Epoch 90/100\n",
      "8/8 [==============================] - 1s 82ms/step - loss: 1.4177 - accuracy: 0.3826 - val_loss: 1.4329 - val_accuracy: 0.2773\n",
      "Epoch 91/100\n",
      "8/8 [==============================] - 1s 82ms/step - loss: 1.4229 - accuracy: 0.3740 - val_loss: 1.4730 - val_accuracy: 0.3318\n",
      "Epoch 92/100\n",
      "8/8 [==============================] - 1s 82ms/step - loss: 1.4291 - accuracy: 0.3763 - val_loss: 1.4629 - val_accuracy: 0.2727\n",
      "Epoch 93/100\n",
      "8/8 [==============================] - 1s 81ms/step - loss: 1.4256 - accuracy: 0.3775 - val_loss: 1.4066 - val_accuracy: 0.3386\n",
      "Epoch 94/100\n",
      "8/8 [==============================] - 1s 81ms/step - loss: 1.3778 - accuracy: 0.3735 - val_loss: 1.3893 - val_accuracy: 0.4205\n",
      "Epoch 95/100\n",
      "8/8 [==============================] - 1s 82ms/step - loss: 1.3648 - accuracy: 0.4611 - val_loss: 1.3839 - val_accuracy: 0.4205\n",
      "Epoch 96/100\n",
      "8/8 [==============================] - 1s 82ms/step - loss: 1.3604 - accuracy: 0.3869 - val_loss: 1.3816 - val_accuracy: 0.4250\n",
      "Epoch 97/100\n",
      "8/8 [==============================] - 1s 81ms/step - loss: 1.3542 - accuracy: 0.4778 - val_loss: 1.3724 - val_accuracy: 0.4182\n",
      "Epoch 98/100\n",
      "8/8 [==============================] - 1s 81ms/step - loss: 1.3478 - accuracy: 0.4192 - val_loss: 1.3753 - val_accuracy: 0.4250\n",
      "Epoch 99/100\n",
      "8/8 [==============================] - 1s 82ms/step - loss: 1.3472 - accuracy: 0.4369 - val_loss: 1.4048 - val_accuracy: 0.3250\n",
      "Epoch 100/100\n",
      "8/8 [==============================] - 1s 83ms/step - loss: 1.3656 - accuracy: 0.4449 - val_loss: 1.3716 - val_accuracy: 0.4205\n",
      "35/35 [==============================] - 0s 6ms/step - loss: 1.3413 - accuracy: 0.4436\n"
     ]
    },
    {
     "data": {
      "image/png": "[encoded data removed]",
      "text/plain": [
       "<Figure size 504x432 with 2 Axes>"
      ]
     },
     "metadata": {
      "needs_background": "light"
     },
     "output_type": "display_data"
    },
    {
     "name": "stdout",
     "output_type": "stream",
     "text": [
      "Precision:0.335\n",
      "Recall:0.444\n",
      "F1_score:0.358\n",
      "              precision    recall  f1-score   support\n",
      "\n",
      "           0       0.00      0.00      0.00        98\n",
      "           1       0.14      1.00      0.24        81\n",
      "           2       0.00      0.00      0.00       113\n",
      "           3       0.00      0.00      0.00        98\n",
      "           4       0.00      0.00      0.00       103\n",
      "           5       0.00      0.00      0.00       101\n",
      "           6       1.00      1.00      1.00        92\n",
      "           7       1.00      1.00      1.00       115\n",
      "           8       1.00      1.00      1.00       101\n",
      "           9       0.00      0.00      0.00        99\n",
      "          10       0.50      1.00      0.67        99\n",
      "\n",
      "    accuracy                           0.44      1100\n",
      "   macro avg       0.33      0.45      0.36      1100\n",
      "weighted avg       0.34      0.44      0.36      1100\n",
      "\n",
      "Epoch 1/100\n",
      "8/8 [==============================] - 1s 102ms/step - loss: 2.3982 - accuracy: 0.0871 - val_loss: 2.3977 - val_accuracy: 0.0909\n",
      "Epoch 2/100\n",
      "8/8 [==============================] - 1s 81ms/step - loss: 2.3979 - accuracy: 0.0947 - val_loss: 2.3976 - val_accuracy: 0.1091\n",
      "Epoch 3/100\n",
      "8/8 [==============================] - 1s 81ms/step - loss: 2.3980 - accuracy: 0.0917 - val_loss: 2.3978 - val_accuracy: 0.0818\n",
      "Epoch 4/100\n",
      "8/8 [==============================] - 1s 82ms/step - loss: 2.3978 - accuracy: 0.0904 - val_loss: 2.3976 - val_accuracy: 0.0909\n",
      "Epoch 5/100\n",
      "8/8 [==============================] - 1s 81ms/step - loss: 2.3977 - accuracy: 0.1111 - val_loss: 2.3971 - val_accuracy: 0.0864\n",
      "Epoch 6/100\n",
      "8/8 [==============================] - 1s 83ms/step - loss: 2.3929 - accuracy: 0.0816 - val_loss: 2.3824 - val_accuracy: 0.2045\n",
      "Epoch 7/100\n",
      "8/8 [==============================] - 1s 82ms/step - loss: 2.3513 - accuracy: 0.1227 - val_loss: 2.2961 - val_accuracy: 0.1909\n",
      "Epoch 8/100\n",
      "8/8 [==============================] - 1s 82ms/step - loss: 2.3101 - accuracy: 0.1548 - val_loss: 2.3050 - val_accuracy: 0.0955\n",
      "Epoch 9/100\n",
      "8/8 [==============================] - 1s 81ms/step - loss: 2.2479 - accuracy: 0.1702 - val_loss: 2.2153 - val_accuracy: 0.1773\n",
      "Epoch 10/100\n",
      "8/8 [==============================] - 1s 83ms/step - loss: 2.1892 - accuracy: 0.1836 - val_loss: 2.1790 - val_accuracy: 0.1773\n",
      "Epoch 11/100\n",
      "8/8 [==============================] - 1s 83ms/step - loss: 2.1530 - accuracy: 0.1833 - val_loss: 2.1448 - val_accuracy: 0.1773\n",
      "Epoch 12/100\n",
      "8/8 [==============================] - 1s 82ms/step - loss: 2.1140 - accuracy: 0.1841 - val_loss: 2.1002 - val_accuracy: 0.1773\n",
      "Epoch 13/100\n",
      "8/8 [==============================] - 1s 82ms/step - loss: 2.0673 - accuracy: 0.1841 - val_loss: 2.0452 - val_accuracy: 0.1773\n",
      "Epoch 14/100\n",
      "8/8 [==============================] - 1s 84ms/step - loss: 2.0152 - accuracy: 0.1841 - val_loss: 1.9901 - val_accuracy: 0.1773\n",
      "Epoch 15/100\n",
      "8/8 [==============================] - 1s 82ms/step - loss: 1.9810 - accuracy: 0.1848 - val_loss: 1.9673 - val_accuracy: 0.1773\n",
      "Epoch 16/100\n",
      "8/8 [==============================] - 1s 81ms/step - loss: 1.9646 - accuracy: 0.1831 - val_loss: 2.0109 - val_accuracy: 0.1773\n",
      "Epoch 17/100\n",
      "8/8 [==============================] - 1s 83ms/step - loss: 1.9689 - accuracy: 0.1846 - val_loss: 1.9636 - val_accuracy: 0.1477\n",
      "Epoch 18/100\n",
      "8/8 [==============================] - 1s 82ms/step - loss: 1.9464 - accuracy: 0.1798 - val_loss: 1.9302 - val_accuracy: 0.1773\n",
      "Epoch 19/100\n",
      "8/8 [==============================] - 1s 83ms/step - loss: 1.9324 - accuracy: 0.1957 - val_loss: 1.9202 - val_accuracy: 0.1773\n",
      "Epoch 20/100\n",
      "8/8 [==============================] - 1s 81ms/step - loss: 1.9225 - accuracy: 0.1891 - val_loss: 1.9154 - val_accuracy: 0.1841\n",
      "Epoch 21/100\n",
      "8/8 [==============================] - 1s 81ms/step - loss: 1.9169 - accuracy: 0.1924 - val_loss: 1.9150 - val_accuracy: 0.1773\n",
      "Epoch 22/100\n",
      "8/8 [==============================] - 1s 82ms/step - loss: 1.9126 - accuracy: 0.1972 - val_loss: 1.9049 - val_accuracy: 0.1841\n",
      "Epoch 23/100\n",
      "8/8 [==============================] - 1s 83ms/step - loss: 1.9041 - accuracy: 0.2086 - val_loss: 1.9009 - val_accuracy: 0.1773\n",
      "Epoch 24/100\n",
      "8/8 [==============================] - 1s 83ms/step - loss: 1.9136 - accuracy: 0.1955 - val_loss: 1.9888 - val_accuracy: 0.1773\n",
      "Epoch 25/100\n",
      "8/8 [==============================] - 1s 81ms/step - loss: 1.9143 - accuracy: 0.2093 - val_loss: 1.8963 - val_accuracy: 0.1591\n",
      "Epoch 26/100\n",
      "8/8 [==============================] - 1s 83ms/step - loss: 1.8901 - accuracy: 0.2422 - val_loss: 1.8838 - val_accuracy: 0.1591\n",
      "Epoch 27/100\n",
      "8/8 [==============================] - 1s 81ms/step - loss: 1.8759 - accuracy: 0.2255 - val_loss: 1.8706 - val_accuracy: 0.1886\n",
      "Epoch 28/100\n",
      "8/8 [==============================] - 1s 81ms/step - loss: 1.8793 - accuracy: 0.2106 - val_loss: 1.9066 - val_accuracy: 0.1773\n",
      "Epoch 29/100\n",
      "8/8 [==============================] - 1s 82ms/step - loss: 1.8838 - accuracy: 0.2126 - val_loss: 1.9010 - val_accuracy: 0.2682\n",
      "Epoch 30/100\n",
      "8/8 [==============================] - 1s 81ms/step - loss: 1.8712 - accuracy: 0.2369 - val_loss: 1.8545 - val_accuracy: 0.2091\n",
      "Epoch 31/100\n",
      "8/8 [==============================] - 1s 81ms/step - loss: 1.8572 - accuracy: 0.2255 - val_loss: 1.8446 - val_accuracy: 0.2682\n",
      "Epoch 32/100\n",
      "8/8 [==============================] - 1s 83ms/step - loss: 1.8680 - accuracy: 0.2116 - val_loss: 1.8502 - val_accuracy: 0.2159\n",
      "Epoch 33/100\n",
      "8/8 [==============================] - 1s 82ms/step - loss: 1.9229 - accuracy: 0.2086 - val_loss: 2.0245 - val_accuracy: 0.1477\n",
      "Epoch 34/100\n",
      "8/8 [==============================] - 1s 82ms/step - loss: 1.9241 - accuracy: 0.2058 - val_loss: 1.8824 - val_accuracy: 0.1727\n",
      "Epoch 35/100\n",
      "8/8 [==============================] - 1s 82ms/step - loss: 1.8771 - accuracy: 0.2717 - val_loss: 1.8552 - val_accuracy: 0.1773\n",
      "Epoch 36/100\n",
      "8/8 [==============================] - 1s 82ms/step - loss: 1.8640 - accuracy: 0.2429 - val_loss: 1.8526 - val_accuracy: 0.1818\n",
      "Epoch 37/100\n",
      "8/8 [==============================] - 1s 81ms/step - loss: 1.8578 - accuracy: 0.2245 - val_loss: 1.8426 - val_accuracy: 0.1818\n",
      "Epoch 38/100\n",
      "8/8 [==============================] - 1s 81ms/step - loss: 1.8478 - accuracy: 0.2394 - val_loss: 1.8340 - val_accuracy: 0.2659\n",
      "Epoch 39/100\n",
      "8/8 [==============================] - 1s 81ms/step - loss: 1.8362 - accuracy: 0.2384 - val_loss: 1.8223 - val_accuracy: 0.2045\n",
      "Epoch 40/100\n",
      "8/8 [==============================] - 1s 81ms/step - loss: 1.8273 - accuracy: 0.2518 - val_loss: 1.8126 - val_accuracy: 0.2864\n",
      "Epoch 41/100\n",
      "8/8 [==============================] - 1s 81ms/step - loss: 1.8225 - accuracy: 0.2768 - val_loss: 1.8078 - val_accuracy: 0.2795\n",
      "Epoch 42/100\n",
      "8/8 [==============================] - 1s 83ms/step - loss: 1.8115 - accuracy: 0.2634 - val_loss: 1.7959 - val_accuracy: 0.2773\n",
      "Epoch 43/100\n",
      "8/8 [==============================] - 1s 81ms/step - loss: 1.8083 - accuracy: 0.2773 - val_loss: 1.8186 - val_accuracy: 0.3409\n",
      "Epoch 44/100\n",
      "8/8 [==============================] - 1s 81ms/step - loss: 1.8163 - accuracy: 0.2482 - val_loss: 1.7977 - val_accuracy: 0.2659\n",
      "Epoch 45/100\n",
      "8/8 [==============================] - 1s 81ms/step - loss: 1.8129 - accuracy: 0.2735 - val_loss: 1.8061 - val_accuracy: 0.2636\n",
      "Epoch 46/100\n",
      "8/8 [==============================] - 1s 81ms/step - loss: 1.7995 - accuracy: 0.2732 - val_loss: 1.7879 - val_accuracy: 0.3523\n",
      "Epoch 47/100\n",
      "8/8 [==============================] - 1s 82ms/step - loss: 1.7950 - accuracy: 0.2722 - val_loss: 1.8535 - val_accuracy: 0.2136\n",
      "Epoch 48/100\n",
      "8/8 [==============================] - 1s 81ms/step - loss: 1.8197 - accuracy: 0.2447 - val_loss: 1.7931 - val_accuracy: 0.2500\n",
      "Epoch 49/100\n",
      "8/8 [==============================] - 1s 81ms/step - loss: 1.8148 - accuracy: 0.2449 - val_loss: 1.7975 - val_accuracy: 0.3909\n",
      "Epoch 50/100\n",
      "8/8 [==============================] - 1s 83ms/step - loss: 1.8039 - accuracy: 0.2939 - val_loss: 1.7723 - val_accuracy: 0.2909\n",
      "Epoch 51/100\n",
      "8/8 [==============================] - 1s 83ms/step - loss: 1.7992 - accuracy: 0.2649 - val_loss: 1.8018 - val_accuracy: 0.1818\n",
      "Epoch 52/100\n",
      "8/8 [==============================] - 1s 81ms/step - loss: 1.7982 - accuracy: 0.2346 - val_loss: 1.8031 - val_accuracy: 0.1841\n",
      "Epoch 53/100\n"
     ]
    },
    {
     "name": "stdout",
     "output_type": "stream",
     "text": [
      "8/8 [==============================] - 1s 82ms/step - loss: 1.8016 - accuracy: 0.2444 - val_loss: 1.7990 - val_accuracy: 0.2000\n",
      "Epoch 54/100\n",
      "8/8 [==============================] - 1s 83ms/step - loss: 1.8024 - accuracy: 0.2374 - val_loss: 1.7773 - val_accuracy: 0.2909\n",
      "Epoch 55/100\n",
      "8/8 [==============================] - 1s 81ms/step - loss: 1.7872 - accuracy: 0.2866 - val_loss: 1.7706 - val_accuracy: 0.2886\n",
      "Epoch 56/100\n",
      "8/8 [==============================] - 1s 81ms/step - loss: 1.7756 - accuracy: 0.2689 - val_loss: 1.7918 - val_accuracy: 0.2182\n",
      "Epoch 57/100\n",
      "8/8 [==============================] - 1s 81ms/step - loss: 1.7784 - accuracy: 0.2758 - val_loss: 1.7793 - val_accuracy: 0.2818\n",
      "Epoch 58/100\n",
      "8/8 [==============================] - 1s 83ms/step - loss: 1.7924 - accuracy: 0.2364 - val_loss: 1.7527 - val_accuracy: 0.2909\n",
      "Epoch 59/100\n",
      "8/8 [==============================] - 1s 81ms/step - loss: 1.7747 - accuracy: 0.2944 - val_loss: 1.7485 - val_accuracy: 0.2909\n",
      "Epoch 60/100\n",
      "8/8 [==============================] - 1s 82ms/step - loss: 1.7660 - accuracy: 0.2682 - val_loss: 1.7476 - val_accuracy: 0.2909\n",
      "Epoch 61/100\n",
      "8/8 [==============================] - 1s 81ms/step - loss: 1.7535 - accuracy: 0.2715 - val_loss: 1.7596 - val_accuracy: 0.2705\n",
      "Epoch 62/100\n",
      "8/8 [==============================] - 1s 83ms/step - loss: 1.7858 - accuracy: 0.2402 - val_loss: 1.7501 - val_accuracy: 0.2614\n",
      "Epoch 63/100\n",
      "8/8 [==============================] - 1s 84ms/step - loss: 1.8018 - accuracy: 0.2351 - val_loss: 1.7522 - val_accuracy: 0.3568\n",
      "Epoch 64/100\n",
      "8/8 [==============================] - 1s 80ms/step - loss: 1.7824 - accuracy: 0.2798 - val_loss: 1.7447 - val_accuracy: 0.2909\n",
      "Epoch 65/100\n",
      "8/8 [==============================] - 1s 81ms/step - loss: 1.7629 - accuracy: 0.2715 - val_loss: 1.7335 - val_accuracy: 0.3091\n",
      "Epoch 66/100\n",
      "8/8 [==============================] - 1s 82ms/step - loss: 1.7429 - accuracy: 0.2750 - val_loss: 1.7283 - val_accuracy: 0.2909\n",
      "Epoch 67/100\n",
      "8/8 [==============================] - 1s 83ms/step - loss: 1.7384 - accuracy: 0.2720 - val_loss: 1.7190 - val_accuracy: 0.2909\n",
      "Epoch 68/100\n",
      "8/8 [==============================] - 1s 80ms/step - loss: 1.7371 - accuracy: 0.2793 - val_loss: 1.7263 - val_accuracy: 0.2795\n",
      "Epoch 69/100\n",
      "8/8 [==============================] - 1s 81ms/step - loss: 1.7540 - accuracy: 0.2556 - val_loss: 1.7228 - val_accuracy: 0.2909\n",
      "Epoch 70/100\n",
      "8/8 [==============================] - 1s 81ms/step - loss: 1.7402 - accuracy: 0.2902 - val_loss: 1.7091 - val_accuracy: 0.2909\n",
      "Epoch 71/100\n",
      "8/8 [==============================] - 1s 83ms/step - loss: 1.7250 - accuracy: 0.2717 - val_loss: 1.7169 - val_accuracy: 0.2818\n",
      "Epoch 72/100\n",
      "8/8 [==============================] - 1s 82ms/step - loss: 1.7341 - accuracy: 0.2874 - val_loss: 1.7194 - val_accuracy: 0.2818\n",
      "Epoch 73/100\n",
      "8/8 [==============================] - 1s 81ms/step - loss: 1.7493 - accuracy: 0.2669 - val_loss: 1.7078 - val_accuracy: 0.2909\n",
      "Epoch 74/100\n",
      "8/8 [==============================] - 1s 81ms/step - loss: 1.7500 - accuracy: 0.2677 - val_loss: 1.7214 - val_accuracy: 0.3955\n",
      "Epoch 75/100\n",
      "8/8 [==============================] - 1s 82ms/step - loss: 1.7350 - accuracy: 0.3071 - val_loss: 1.7102 - val_accuracy: 0.3568\n",
      "Epoch 76/100\n",
      "8/8 [==============================] - 1s 81ms/step - loss: 1.7125 - accuracy: 0.3010 - val_loss: 1.6965 - val_accuracy: 0.2909\n",
      "Epoch 77/100\n",
      "8/8 [==============================] - 1s 82ms/step - loss: 1.7432 - accuracy: 0.2505 - val_loss: 1.6931 - val_accuracy: 0.3114\n",
      "Epoch 78/100\n",
      "8/8 [==============================] - 1s 83ms/step - loss: 1.7351 - accuracy: 0.2917 - val_loss: 1.7212 - val_accuracy: 0.2614\n",
      "Epoch 79/100\n",
      "8/8 [==============================] - 1s 81ms/step - loss: 1.7209 - accuracy: 0.2778 - val_loss: 1.7030 - val_accuracy: 0.2886\n",
      "Epoch 80/100\n",
      "8/8 [==============================] - 1s 83ms/step - loss: 1.7100 - accuracy: 0.3045 - val_loss: 1.6795 - val_accuracy: 0.2909\n",
      "Epoch 81/100\n",
      "8/8 [==============================] - 1s 82ms/step - loss: 1.7119 - accuracy: 0.2922 - val_loss: 1.6960 - val_accuracy: 0.2795\n",
      "Epoch 82/100\n",
      "8/8 [==============================] - 1s 82ms/step - loss: 1.7087 - accuracy: 0.2662 - val_loss: 1.6823 - val_accuracy: 0.2932\n",
      "Epoch 83/100\n",
      "8/8 [==============================] - 1s 81ms/step - loss: 1.7034 - accuracy: 0.2712 - val_loss: 1.6940 - val_accuracy: 0.2614\n",
      "Epoch 84/100\n",
      "8/8 [==============================] - 1s 81ms/step - loss: 1.6982 - accuracy: 0.2881 - val_loss: 1.6732 - val_accuracy: 0.2909\n",
      "Epoch 85/100\n",
      "8/8 [==============================] - 1s 81ms/step - loss: 1.6945 - accuracy: 0.3033 - val_loss: 1.6803 - val_accuracy: 0.3568\n",
      "Epoch 86/100\n",
      "8/8 [==============================] - 1s 81ms/step - loss: 1.6872 - accuracy: 0.2944 - val_loss: 1.7033 - val_accuracy: 0.3364\n",
      "Epoch 87/100\n",
      "8/8 [==============================] - 1s 81ms/step - loss: 1.7313 - accuracy: 0.2881 - val_loss: 1.6766 - val_accuracy: 0.2909\n",
      "Epoch 88/100\n",
      "8/8 [==============================] - 1s 82ms/step - loss: 1.7278 - accuracy: 0.2730 - val_loss: 1.7255 - val_accuracy: 0.2864\n",
      "Epoch 89/100\n",
      "8/8 [==============================] - 1s 83ms/step - loss: 1.7138 - accuracy: 0.2818 - val_loss: 1.6630 - val_accuracy: 0.2932\n",
      "Epoch 90/100\n",
      "8/8 [==============================] - 1s 82ms/step - loss: 1.6858 - accuracy: 0.2806 - val_loss: 1.6642 - val_accuracy: 0.3591\n",
      "Epoch 91/100\n",
      "8/8 [==============================] - 1s 80ms/step - loss: 1.6755 - accuracy: 0.2902 - val_loss: 1.6699 - val_accuracy: 0.2818\n",
      "Epoch 92/100\n",
      "8/8 [==============================] - 1s 81ms/step - loss: 1.6747 - accuracy: 0.2798 - val_loss: 1.6449 - val_accuracy: 0.2932\n",
      "Epoch 93/100\n",
      "8/8 [==============================] - 1s 81ms/step - loss: 1.6668 - accuracy: 0.2692 - val_loss: 1.6473 - val_accuracy: 0.3591\n",
      "Epoch 94/100\n",
      "8/8 [==============================] - 1s 83ms/step - loss: 1.6641 - accuracy: 0.3051 - val_loss: 1.6377 - val_accuracy: 0.2932\n",
      "Epoch 95/100\n",
      "8/8 [==============================] - 1s 82ms/step - loss: 1.6613 - accuracy: 0.2980 - val_loss: 1.6382 - val_accuracy: 0.2955\n",
      "Epoch 96/100\n",
      "8/8 [==============================] - 1s 81ms/step - loss: 1.6611 - accuracy: 0.3091 - val_loss: 1.6268 - val_accuracy: 0.2977\n",
      "Epoch 97/100\n",
      "8/8 [==============================] - 1s 82ms/step - loss: 1.6540 - accuracy: 0.3038 - val_loss: 1.6267 - val_accuracy: 0.2955\n",
      "Epoch 98/100\n",
      "8/8 [==============================] - 1s 82ms/step - loss: 1.6489 - accuracy: 0.2889 - val_loss: 1.6357 - val_accuracy: 0.2955\n",
      "Epoch 99/100\n",
      "8/8 [==============================] - 1s 81ms/step - loss: 1.6504 - accuracy: 0.2927 - val_loss: 1.6208 - val_accuracy: 0.2955\n",
      "Epoch 100/100\n",
      "8/8 [==============================] - 1s 81ms/step - loss: 1.6424 - accuracy: 0.2914 - val_loss: 1.6119 - val_accuracy: 0.2955\n",
      "35/35 [==============================] - 0s 5ms/step - loss: 1.6133 - accuracy: 0.2755\n"
     ]
    },
    {
     "data": {
      "image/png": "[encoded data removed]",
      "text/plain": [
       "<Figure size 504x432 with 2 Axes>"
      ]
     },
     "metadata": {
      "needs_background": "light"
     },
     "output_type": "display_data"
    },
    {
     "name": "stdout",
     "output_type": "stream",
     "text": [
      "Precision:0.15\n",
      "Recall:0.275\n",
      "F1_score:0.177\n",
      "              precision    recall  f1-score   support\n",
      "\n",
      "           0       0.44      1.00      0.61        98\n",
      "           1       0.00      0.00      0.00       123\n",
      "           2       0.00      0.00      0.00        88\n",
      "           3       0.00      0.00      0.00        95\n",
      "           4       1.00      1.00      1.00       105\n",
      "           5       0.00      0.00      0.00        93\n",
      "           6       0.00      0.00      0.00        95\n",
      "           7       0.00      0.00      0.00        94\n",
      "           8       0.00      0.00      0.00        98\n",
      "           9       0.00      0.00      0.00       111\n",
      "          10       0.17      1.00      0.29       100\n",
      "\n",
      "    accuracy                           0.28      1100\n",
      "   macro avg       0.15      0.27      0.17      1100\n",
      "weighted avg       0.15      0.28      0.18      1100\n",
      "\n",
      "Epoch 1/100\n",
      "8/8 [==============================] - 1s 123ms/step - loss: 2.4012 - accuracy: 0.0843 - val_loss: 2.3979 - val_accuracy: 0.0818\n",
      "Epoch 2/100\n",
      "8/8 [==============================] - 1s 81ms/step - loss: 2.3967 - accuracy: 0.1025 - val_loss: 2.3896 - val_accuracy: 0.0955\n",
      "Epoch 3/100\n",
      "8/8 [==============================] - 1s 81ms/step - loss: 2.3751 - accuracy: 0.1197 - val_loss: 2.3511 - val_accuracy: 0.1636\n",
      "Epoch 4/100\n",
      "8/8 [==============================] - 1s 81ms/step - loss: 2.3215 - accuracy: 0.1712 - val_loss: 2.2712 - val_accuracy: 0.1636\n",
      "Epoch 5/100\n",
      "8/8 [==============================] - 1s 83ms/step - loss: 2.2479 - accuracy: 0.1856 - val_loss: 2.2198 - val_accuracy: 0.1636\n",
      "Epoch 6/100\n",
      "8/8 [==============================] - 1s 82ms/step - loss: 2.2041 - accuracy: 0.1856 - val_loss: 2.1909 - val_accuracy: 0.1636\n",
      "Epoch 7/100\n",
      "8/8 [==============================] - 1s 83ms/step - loss: 2.1563 - accuracy: 0.1856 - val_loss: 2.1299 - val_accuracy: 0.1636\n",
      "Epoch 8/100\n",
      "8/8 [==============================] - 1s 82ms/step - loss: 2.1121 - accuracy: 0.1856 - val_loss: 2.1309 - val_accuracy: 0.1636\n",
      "Epoch 9/100\n",
      "8/8 [==============================] - 1s 81ms/step - loss: 2.0963 - accuracy: 0.1864 - val_loss: 2.0537 - val_accuracy: 0.1636\n",
      "Epoch 10/100\n",
      "8/8 [==============================] - 1s 81ms/step - loss: 2.0429 - accuracy: 0.1856 - val_loss: 2.0633 - val_accuracy: 0.1909\n",
      "Epoch 11/100\n",
      "8/8 [==============================] - 1s 81ms/step - loss: 2.0154 - accuracy: 0.1907 - val_loss: 2.0062 - val_accuracy: 0.1636\n",
      "Epoch 12/100\n",
      "8/8 [==============================] - 1s 84ms/step - loss: 1.9769 - accuracy: 0.1899 - val_loss: 1.9725 - val_accuracy: 0.1568\n",
      "Epoch 13/100\n",
      "8/8 [==============================] - 1s 81ms/step - loss: 1.9496 - accuracy: 0.1919 - val_loss: 1.9757 - val_accuracy: 0.1568\n",
      "Epoch 14/100\n",
      "8/8 [==============================] - 1s 81ms/step - loss: 1.9346 - accuracy: 0.1884 - val_loss: 1.9454 - val_accuracy: 0.1568\n",
      "Epoch 15/100\n",
      "8/8 [==============================] - 1s 81ms/step - loss: 1.9152 - accuracy: 0.1909 - val_loss: 1.9328 - val_accuracy: 0.1500\n",
      "Epoch 16/100\n",
      "8/8 [==============================] - 1s 83ms/step - loss: 1.8994 - accuracy: 0.2144 - val_loss: 1.9156 - val_accuracy: 0.1568\n",
      "Epoch 17/100\n",
      "8/8 [==============================] - 1s 81ms/step - loss: 1.8831 - accuracy: 0.2066 - val_loss: 1.8902 - val_accuracy: 0.1864\n",
      "Epoch 18/100\n",
      "8/8 [==============================] - 1s 83ms/step - loss: 1.8775 - accuracy: 0.2149 - val_loss: 1.8892 - val_accuracy: 0.2023\n",
      "Epoch 19/100\n",
      "8/8 [==============================] - 1s 82ms/step - loss: 1.8553 - accuracy: 0.2063 - val_loss: 1.8748 - val_accuracy: 0.1705\n",
      "Epoch 20/100\n",
      "8/8 [==============================] - 1s 81ms/step - loss: 1.8335 - accuracy: 0.2548 - val_loss: 1.8398 - val_accuracy: 0.1864\n",
      "Epoch 21/100\n",
      "8/8 [==============================] - 1s 83ms/step - loss: 1.8040 - accuracy: 0.2520 - val_loss: 1.8651 - val_accuracy: 0.2295\n",
      "Epoch 22/100\n",
      "8/8 [==============================] - 1s 82ms/step - loss: 1.8259 - accuracy: 0.2412 - val_loss: 1.8398 - val_accuracy: 0.2932\n",
      "Epoch 23/100\n",
      "8/8 [==============================] - 1s 81ms/step - loss: 1.8029 - accuracy: 0.2687 - val_loss: 1.8307 - val_accuracy: 0.2682\n",
      "Epoch 24/100\n",
      "8/8 [==============================] - 1s 81ms/step - loss: 1.7786 - accuracy: 0.2813 - val_loss: 1.7821 - val_accuracy: 0.2682\n",
      "Epoch 25/100\n",
      "8/8 [==============================] - 1s 81ms/step - loss: 1.7549 - accuracy: 0.2864 - val_loss: 1.7710 - val_accuracy: 0.2682\n",
      "Epoch 26/100\n",
      "8/8 [==============================] - 1s 84ms/step - loss: 1.7506 - accuracy: 0.2735 - val_loss: 1.7567 - val_accuracy: 0.2682\n",
      "Epoch 27/100\n",
      "8/8 [==============================] - 1s 82ms/step - loss: 1.7337 - accuracy: 0.2912 - val_loss: 1.7563 - val_accuracy: 0.3227\n",
      "Epoch 28/100\n",
      "8/8 [==============================] - 1s 81ms/step - loss: 1.7299 - accuracy: 0.2894 - val_loss: 1.7669 - val_accuracy: 0.2591\n",
      "Epoch 29/100\n",
      "8/8 [==============================] - 1s 84ms/step - loss: 1.7291 - accuracy: 0.2960 - val_loss: 1.8009 - val_accuracy: 0.2386\n",
      "Epoch 30/100\n",
      "8/8 [==============================] - 1s 82ms/step - loss: 1.7818 - accuracy: 0.2477 - val_loss: 1.7597 - val_accuracy: 0.3205\n",
      "Epoch 31/100\n",
      "8/8 [==============================] - 1s 83ms/step - loss: 2.0450 - accuracy: 0.2189 - val_loss: 1.8145 - val_accuracy: 0.2682\n",
      "Epoch 32/100\n",
      "8/8 [==============================] - 1s 81ms/step - loss: 2.0626 - accuracy: 0.2066 - val_loss: 2.5034 - val_accuracy: 0.0886\n",
      "Epoch 33/100\n",
      "8/8 [==============================] - 1s 81ms/step - loss: 2.0809 - accuracy: 0.1831 - val_loss: 1.9117 - val_accuracy: 0.2750\n",
      "Epoch 34/100\n",
      "8/8 [==============================] - 1s 82ms/step - loss: 1.9104 - accuracy: 0.1917 - val_loss: 1.8987 - val_accuracy: 0.1955\n",
      "Epoch 35/100\n",
      "8/8 [==============================] - 1s 82ms/step - loss: 1.8637 - accuracy: 0.1985 - val_loss: 1.8463 - val_accuracy: 0.2841\n",
      "Epoch 36/100\n",
      "8/8 [==============================] - 1s 83ms/step - loss: 1.8333 - accuracy: 0.2321 - val_loss: 1.8241 - val_accuracy: 0.2841\n",
      "Epoch 37/100\n",
      "8/8 [==============================] - 1s 83ms/step - loss: 1.8118 - accuracy: 0.2465 - val_loss: 1.8088 - val_accuracy: 0.2841\n",
      "Epoch 38/100\n",
      "8/8 [==============================] - 1s 82ms/step - loss: 1.7922 - accuracy: 0.2672 - val_loss: 1.7896 - val_accuracy: 0.2818\n",
      "Epoch 39/100\n",
      "8/8 [==============================] - 1s 81ms/step - loss: 1.7749 - accuracy: 0.2677 - val_loss: 1.7732 - val_accuracy: 0.2841\n",
      "Epoch 40/100\n",
      "8/8 [==============================] - 1s 81ms/step - loss: 1.7577 - accuracy: 0.2684 - val_loss: 1.7576 - val_accuracy: 0.2841\n",
      "Epoch 41/100\n",
      "8/8 [==============================] - 1s 84ms/step - loss: 1.7416 - accuracy: 0.2689 - val_loss: 1.7437 - val_accuracy: 0.2455\n",
      "Epoch 42/100\n",
      "8/8 [==============================] - 1s 82ms/step - loss: 1.7268 - accuracy: 0.2730 - val_loss: 1.7305 - val_accuracy: 0.2455\n",
      "Epoch 43/100\n",
      "8/8 [==============================] - 1s 81ms/step - loss: 1.7123 - accuracy: 0.2727 - val_loss: 1.7172 - val_accuracy: 0.2432\n",
      "Epoch 44/100\n",
      "8/8 [==============================] - 1s 81ms/step - loss: 1.7005 - accuracy: 0.2682 - val_loss: 1.7048 - val_accuracy: 0.2432\n",
      "Epoch 45/100\n",
      "8/8 [==============================] - 1s 82ms/step - loss: 1.6862 - accuracy: 0.2677 - val_loss: 1.6993 - val_accuracy: 0.2591\n",
      "Epoch 46/100\n",
      "8/8 [==============================] - 1s 81ms/step - loss: 1.6759 - accuracy: 0.2657 - val_loss: 1.6920 - val_accuracy: 0.3000\n",
      "Epoch 47/100\n",
      "8/8 [==============================] - 1s 81ms/step - loss: 1.6733 - accuracy: 0.2611 - val_loss: 1.6688 - val_accuracy: 0.2545\n",
      "Epoch 48/100\n",
      "8/8 [==============================] - 1s 81ms/step - loss: 1.6568 - accuracy: 0.2818 - val_loss: 1.6517 - val_accuracy: 0.2500\n",
      "Epoch 49/100\n",
      "8/8 [==============================] - 1s 82ms/step - loss: 1.6360 - accuracy: 0.2947 - val_loss: 1.6412 - val_accuracy: 0.2659\n",
      "Epoch 50/100\n",
      "8/8 [==============================] - 1s 83ms/step - loss: 1.6211 - accuracy: 0.3452 - val_loss: 1.6288 - val_accuracy: 0.2818\n",
      "Epoch 51/100\n",
      "8/8 [==============================] - 1s 82ms/step - loss: 1.6355 - accuracy: 0.2816 - val_loss: 1.7182 - val_accuracy: 0.1705\n",
      "Epoch 52/100\n",
      "8/8 [==============================] - 1s 82ms/step - loss: 1.7334 - accuracy: 0.2164 - val_loss: 1.6896 - val_accuracy: 0.1864\n",
      "Epoch 53/100\n"
     ]
    },
    {
     "name": "stdout",
     "output_type": "stream",
     "text": [
      "8/8 [==============================] - 1s 83ms/step - loss: 1.8881 - accuracy: 0.1811 - val_loss: 1.9032 - val_accuracy: 0.1568\n",
      "Epoch 54/100\n",
      "8/8 [==============================] - 1s 84ms/step - loss: 1.7712 - accuracy: 0.2035 - val_loss: 1.6708 - val_accuracy: 0.2432\n",
      "Epoch 55/100\n",
      "8/8 [==============================] - 1s 83ms/step - loss: 1.6226 - accuracy: 0.2742 - val_loss: 1.6329 - val_accuracy: 0.2568\n",
      "Epoch 56/100\n",
      "8/8 [==============================] - 1s 81ms/step - loss: 1.6078 - accuracy: 0.3558 - val_loss: 1.6063 - val_accuracy: 0.3023\n",
      "Epoch 57/100\n",
      "8/8 [==============================] - 1s 82ms/step - loss: 1.5855 - accuracy: 0.3187 - val_loss: 1.5880 - val_accuracy: 0.3159\n",
      "Epoch 58/100\n",
      "8/8 [==============================] - 1s 82ms/step - loss: 1.5796 - accuracy: 0.3354 - val_loss: 1.5850 - val_accuracy: 0.3182\n",
      "Epoch 59/100\n",
      "8/8 [==============================] - 1s 82ms/step - loss: 1.5753 - accuracy: 0.3538 - val_loss: 1.5668 - val_accuracy: 0.3455\n",
      "Epoch 60/100\n",
      "8/8 [==============================] - 1s 83ms/step - loss: 1.5555 - accuracy: 0.3553 - val_loss: 1.5670 - val_accuracy: 0.3227\n",
      "Epoch 61/100\n",
      "8/8 [==============================] - 1s 83ms/step - loss: 1.5803 - accuracy: 0.3051 - val_loss: 1.5540 - val_accuracy: 0.3455\n",
      "Epoch 62/100\n",
      "8/8 [==============================] - 1s 82ms/step - loss: 1.5893 - accuracy: 0.3427 - val_loss: 1.5474 - val_accuracy: 0.3455\n",
      "Epoch 63/100\n",
      "8/8 [==============================] - 1s 84ms/step - loss: 1.5656 - accuracy: 0.2682 - val_loss: 1.5619 - val_accuracy: 0.2727\n",
      "Epoch 64/100\n",
      "8/8 [==============================] - 1s 83ms/step - loss: 1.5350 - accuracy: 0.3477 - val_loss: 1.5582 - val_accuracy: 0.3455\n",
      "Epoch 65/100\n",
      "8/8 [==============================] - 1s 82ms/step - loss: 1.5253 - accuracy: 0.3641 - val_loss: 1.5443 - val_accuracy: 0.3455\n",
      "Epoch 66/100\n",
      "8/8 [==============================] - 1s 81ms/step - loss: 1.5101 - accuracy: 0.3646 - val_loss: 1.5110 - val_accuracy: 0.3455\n",
      "Epoch 67/100\n",
      "8/8 [==============================] - 1s 82ms/step - loss: 1.4863 - accuracy: 0.3657 - val_loss: 1.4979 - val_accuracy: 0.3455\n",
      "Epoch 68/100\n",
      "8/8 [==============================] - 1s 82ms/step - loss: 1.4801 - accuracy: 0.3646 - val_loss: 1.4933 - val_accuracy: 0.3455\n",
      "Epoch 69/100\n",
      "8/8 [==============================] - 1s 81ms/step - loss: 1.4702 - accuracy: 0.3578 - val_loss: 1.5175 - val_accuracy: 0.3227\n",
      "Epoch 70/100\n",
      "8/8 [==============================] - 1s 81ms/step - loss: 1.4842 - accuracy: 0.3611 - val_loss: 1.5442 - val_accuracy: 0.2864\n",
      "Epoch 71/100\n",
      "8/8 [==============================] - 1s 81ms/step - loss: 1.5156 - accuracy: 0.3035 - val_loss: 1.4951 - val_accuracy: 0.1841\n",
      "Epoch 72/100\n",
      "8/8 [==============================] - 1s 81ms/step - loss: 1.4794 - accuracy: 0.2990 - val_loss: 1.4635 - val_accuracy: 0.3455\n",
      "Epoch 73/100\n",
      "8/8 [==============================] - 1s 82ms/step - loss: 1.4557 - accuracy: 0.3439 - val_loss: 1.4836 - val_accuracy: 0.3091\n",
      "Epoch 74/100\n",
      "8/8 [==============================] - 1s 81ms/step - loss: 1.4467 - accuracy: 0.3588 - val_loss: 1.4498 - val_accuracy: 0.3455\n",
      "Epoch 75/100\n",
      "8/8 [==============================] - 1s 83ms/step - loss: 1.4331 - accuracy: 0.3391 - val_loss: 1.4360 - val_accuracy: 0.3455\n",
      "Epoch 76/100\n",
      "8/8 [==============================] - 1s 82ms/step - loss: 1.4545 - accuracy: 0.3429 - val_loss: 1.5047 - val_accuracy: 0.3682\n",
      "Epoch 77/100\n",
      "8/8 [==============================] - 1s 81ms/step - loss: 1.4660 - accuracy: 0.3210 - val_loss: 1.4664 - val_accuracy: 0.2977\n",
      "Epoch 78/100\n",
      "8/8 [==============================] - 1s 81ms/step - loss: 1.4555 - accuracy: 0.3455 - val_loss: 1.4693 - val_accuracy: 0.3455\n",
      "Epoch 79/100\n",
      "8/8 [==============================] - 1s 83ms/step - loss: 1.4683 - accuracy: 0.3503 - val_loss: 1.4635 - val_accuracy: 0.3386\n",
      "Epoch 80/100\n",
      "8/8 [==============================] - 1s 82ms/step - loss: 1.4415 - accuracy: 0.3275 - val_loss: 1.4580 - val_accuracy: 0.3455\n",
      "Epoch 81/100\n",
      "8/8 [==============================] - 1s 82ms/step - loss: 1.4228 - accuracy: 0.3154 - val_loss: 1.4268 - val_accuracy: 0.3432\n",
      "Epoch 82/100\n",
      "8/8 [==============================] - 1s 84ms/step - loss: 1.4116 - accuracy: 0.3654 - val_loss: 1.4062 - val_accuracy: 0.3023\n",
      "Epoch 83/100\n",
      "8/8 [==============================] - 1s 81ms/step - loss: 1.3934 - accuracy: 0.2896 - val_loss: 1.4069 - val_accuracy: 0.3455\n",
      "Epoch 84/100\n",
      "8/8 [==============================] - 1s 81ms/step - loss: 1.3905 - accuracy: 0.3649 - val_loss: 1.3994 - val_accuracy: 0.3455\n",
      "Epoch 85/100\n",
      "8/8 [==============================] - 1s 81ms/step - loss: 1.3885 - accuracy: 0.3215 - val_loss: 1.4020 - val_accuracy: 0.3455\n",
      "Epoch 86/100\n",
      "8/8 [==============================] - 1s 81ms/step - loss: 1.3912 - accuracy: 0.3321 - val_loss: 1.3977 - val_accuracy: 0.3455\n",
      "Epoch 87/100\n",
      "8/8 [==============================] - 1s 82ms/step - loss: 1.3906 - accuracy: 0.3619 - val_loss: 1.4074 - val_accuracy: 0.3386\n",
      "Epoch 88/100\n",
      "8/8 [==============================] - 1s 82ms/step - loss: 1.4123 - accuracy: 0.3306 - val_loss: 1.4306 - val_accuracy: 0.3455\n",
      "Epoch 89/100\n",
      "8/8 [==============================] - 1s 82ms/step - loss: 1.4211 - accuracy: 0.3338 - val_loss: 1.4206 - val_accuracy: 0.2977\n",
      "Epoch 90/100\n",
      "8/8 [==============================] - 1s 82ms/step - loss: 1.3903 - accuracy: 0.3576 - val_loss: 1.4010 - val_accuracy: 0.3455\n",
      "Epoch 91/100\n",
      "8/8 [==============================] - 1s 81ms/step - loss: 1.3672 - accuracy: 0.3505 - val_loss: 1.3743 - val_accuracy: 0.3455\n",
      "Epoch 92/100\n",
      "8/8 [==============================] - 1s 81ms/step - loss: 1.3495 - accuracy: 0.3288 - val_loss: 1.3837 - val_accuracy: 0.2568\n",
      "Epoch 93/100\n",
      "8/8 [==============================] - 1s 81ms/step - loss: 1.3597 - accuracy: 0.3326 - val_loss: 1.3653 - val_accuracy: 0.3455\n",
      "Epoch 94/100\n",
      "8/8 [==============================] - 1s 83ms/step - loss: 1.3366 - accuracy: 0.3659 - val_loss: 1.3534 - val_accuracy: 0.3545\n",
      "Epoch 95/100\n",
      "8/8 [==============================] - 1s 81ms/step - loss: 1.3769 - accuracy: 0.3775 - val_loss: 1.4058 - val_accuracy: 0.3386\n",
      "Epoch 96/100\n",
      "8/8 [==============================] - 1s 82ms/step - loss: 1.3774 - accuracy: 0.3563 - val_loss: 1.3836 - val_accuracy: 0.3455\n",
      "Epoch 97/100\n",
      "8/8 [==============================] - 1s 83ms/step - loss: 1.3267 - accuracy: 0.3692 - val_loss: 1.3154 - val_accuracy: 0.4318\n",
      "Epoch 98/100\n",
      "8/8 [==============================] - 1s 82ms/step - loss: 1.3271 - accuracy: 0.4124 - val_loss: 1.3244 - val_accuracy: 0.3455\n",
      "Epoch 99/100\n",
      "8/8 [==============================] - 1s 81ms/step - loss: 1.3008 - accuracy: 0.3417 - val_loss: 1.3145 - val_accuracy: 0.2614\n",
      "Epoch 100/100\n",
      "8/8 [==============================] - 1s 84ms/step - loss: 1.2834 - accuracy: 0.3321 - val_loss: 1.2975 - val_accuracy: 0.3455\n",
      "35/35 [==============================] - 0s 5ms/step - loss: 1.2764 - accuracy: 0.3618\n"
     ]
    },
    {
     "data": {
      "image/png": "[encoded data removed]",
      "text/plain": [
       "<Figure size 504x432 with 2 Axes>"
      ]
     },
     "metadata": {
      "needs_background": "light"
     },
     "output_type": "display_data"
    },
    {
     "name": "stdout",
     "output_type": "stream",
     "text": [
      "Precision:0.187\n",
      "Recall:0.362\n",
      "F1_score:0.229\n",
      "              precision    recall  f1-score   support\n",
      "\n",
      "           0       0.00      0.00      0.00        94\n",
      "           1       0.00      0.00      0.00       102\n",
      "           2       0.00      0.00      0.00       102\n",
      "           3       0.18      1.00      0.31        91\n",
      "           4       0.00      0.00      0.00       111\n",
      "           5       1.00      1.00      1.00        99\n",
      "           6       0.52      1.00      0.69       109\n",
      "           7       0.00      0.00      0.00       102\n",
      "           8       0.00      0.00      0.00        91\n",
      "           9       0.00      0.00      0.00       100\n",
      "          10       0.34      1.00      0.51        99\n",
      "\n",
      "    accuracy                           0.36      1100\n",
      "   macro avg       0.19      0.36      0.23      1100\n",
      "weighted avg       0.19      0.36      0.23      1100\n",
      "\n",
      "Epoch 1/100\n",
      "8/8 [==============================] - 1s 103ms/step - loss: 2.3997 - accuracy: 0.1058 - val_loss: 2.3976 - val_accuracy: 0.1000\n",
      "Epoch 2/100\n",
      "8/8 [==============================] - 1s 81ms/step - loss: 2.3972 - accuracy: 0.0717 - val_loss: 2.3948 - val_accuracy: 0.1000\n",
      "Epoch 3/100\n",
      "8/8 [==============================] - 1s 82ms/step - loss: 2.3968 - accuracy: 0.0773 - val_loss: 2.3955 - val_accuracy: 0.0000e+00\n",
      "Epoch 4/100\n",
      "8/8 [==============================] - 1s 81ms/step - loss: 2.3921 - accuracy: 0.0859 - val_loss: 2.3803 - val_accuracy: 0.1273\n",
      "Epoch 5/100\n",
      "8/8 [==============================] - 1s 82ms/step - loss: 2.3631 - accuracy: 0.1381 - val_loss: 2.3586 - val_accuracy: 0.0932\n",
      "Epoch 6/100\n",
      "8/8 [==============================] - 1s 81ms/step - loss: 2.3149 - accuracy: 0.1644 - val_loss: 2.2623 - val_accuracy: 0.1932\n",
      "Epoch 7/100\n",
      "8/8 [==============================] - 1s 83ms/step - loss: 2.2299 - accuracy: 0.1866 - val_loss: 2.2280 - val_accuracy: 0.1909\n",
      "Epoch 8/100\n",
      "8/8 [==============================] - 1s 82ms/step - loss: 2.1919 - accuracy: 0.2010 - val_loss: 2.1569 - val_accuracy: 0.2841\n",
      "Epoch 9/100\n",
      "8/8 [==============================] - 1s 81ms/step - loss: 2.0928 - accuracy: 0.2583 - val_loss: 2.0441 - val_accuracy: 0.2682\n",
      "Epoch 10/100\n",
      "8/8 [==============================] - 1s 82ms/step - loss: 2.0108 - accuracy: 0.2588 - val_loss: 2.0021 - val_accuracy: 0.2477\n",
      "Epoch 11/100\n",
      "8/8 [==============================] - 1s 83ms/step - loss: 1.9257 - accuracy: 0.2528 - val_loss: 1.8708 - val_accuracy: 0.2568\n",
      "Epoch 12/100\n",
      "8/8 [==============================] - 1s 81ms/step - loss: 1.7923 - accuracy: 0.3030 - val_loss: 1.7265 - val_accuracy: 0.2705\n",
      "Epoch 13/100\n",
      "8/8 [==============================] - 1s 81ms/step - loss: 1.6664 - accuracy: 0.3232 - val_loss: 1.6238 - val_accuracy: 0.2568\n",
      "Epoch 14/100\n",
      "8/8 [==============================] - 1s 82ms/step - loss: 1.5431 - accuracy: 0.3275 - val_loss: 1.5512 - val_accuracy: 0.2591\n",
      "Epoch 15/100\n",
      "8/8 [==============================] - 1s 82ms/step - loss: 1.4176 - accuracy: 0.3477 - val_loss: 1.2962 - val_accuracy: 0.3636\n",
      "Epoch 16/100\n",
      "8/8 [==============================] - 1s 82ms/step - loss: 1.3287 - accuracy: 0.3811 - val_loss: 1.3043 - val_accuracy: 0.3705\n",
      "Epoch 17/100\n",
      "8/8 [==============================] - 1s 81ms/step - loss: 1.1737 - accuracy: 0.4030 - val_loss: 1.0460 - val_accuracy: 0.6205\n",
      "Epoch 18/100\n",
      "8/8 [==============================] - 1s 83ms/step - loss: 1.1254 - accuracy: 0.5970 - val_loss: 2.4377 - val_accuracy: 0.1841\n",
      "Epoch 19/100\n",
      "8/8 [==============================] - 1s 81ms/step - loss: 1.5374 - accuracy: 0.3394 - val_loss: 1.2162 - val_accuracy: 0.4864\n",
      "Epoch 20/100\n",
      "8/8 [==============================] - 1s 81ms/step - loss: 1.2580 - accuracy: 0.4980 - val_loss: 1.2375 - val_accuracy: 0.4523\n",
      "Epoch 21/100\n",
      "8/8 [==============================] - 1s 81ms/step - loss: 1.0900 - accuracy: 0.6293 - val_loss: 0.8988 - val_accuracy: 0.6386\n",
      "Epoch 22/100\n",
      "8/8 [==============================] - 1s 82ms/step - loss: 0.8192 - accuracy: 0.7538 - val_loss: 0.6443 - val_accuracy: 0.8295\n",
      "Epoch 23/100\n",
      "8/8 [==============================] - 1s 82ms/step - loss: 0.6551 - accuracy: 0.7662 - val_loss: 0.6144 - val_accuracy: 0.7318\n",
      "Epoch 24/100\n",
      "8/8 [==============================] - 1s 83ms/step - loss: 0.6294 - accuracy: 0.7308 - val_loss: 0.5269 - val_accuracy: 0.8068\n",
      "Epoch 25/100\n",
      "8/8 [==============================] - 1s 82ms/step - loss: 1.8527 - accuracy: 0.5129 - val_loss: 1.6962 - val_accuracy: 0.1068\n",
      "Epoch 26/100\n",
      "8/8 [==============================] - 1s 81ms/step - loss: 1.1194 - accuracy: 0.5477 - val_loss: 1.2062 - val_accuracy: 0.4023\n",
      "Epoch 27/100\n",
      "8/8 [==============================] - 1s 81ms/step - loss: 0.9960 - accuracy: 0.6722 - val_loss: 0.9420 - val_accuracy: 0.6886\n",
      "Epoch 28/100\n",
      "8/8 [==============================] - 1s 82ms/step - loss: 0.8639 - accuracy: 0.7283 - val_loss: 0.7320 - val_accuracy: 0.7500\n",
      "Epoch 29/100\n",
      "8/8 [==============================] - 1s 83ms/step - loss: 0.6971 - accuracy: 0.7513 - val_loss: 0.5815 - val_accuracy: 0.9159\n",
      "Epoch 30/100\n",
      "8/8 [==============================] - 1s 81ms/step - loss: 0.5663 - accuracy: 0.8894 - val_loss: 0.4771 - val_accuracy: 0.9159\n",
      "Epoch 31/100\n",
      "8/8 [==============================] - 1s 84ms/step - loss: 0.4808 - accuracy: 0.9058 - val_loss: 0.4223 - val_accuracy: 0.9159\n",
      "Epoch 32/100\n",
      "8/8 [==============================] - 1s 81ms/step - loss: 0.4253 - accuracy: 0.9114 - val_loss: 0.3782 - val_accuracy: 0.9318\n",
      "Epoch 33/100\n",
      "8/8 [==============================] - 1s 81ms/step - loss: 0.3850 - accuracy: 0.9288 - val_loss: 0.3441 - val_accuracy: 0.9250\n",
      "Epoch 34/100\n",
      "8/8 [==============================] - 1s 82ms/step - loss: 0.3547 - accuracy: 0.9253 - val_loss: 0.3204 - val_accuracy: 0.9409\n",
      "Epoch 35/100\n",
      "8/8 [==============================] - 1s 83ms/step - loss: 0.3299 - accuracy: 0.9364 - val_loss: 0.3014 - val_accuracy: 0.9455\n",
      "Epoch 36/100\n",
      "8/8 [==============================] - 1s 81ms/step - loss: 0.3095 - accuracy: 0.9503 - val_loss: 0.2831 - val_accuracy: 0.9341\n",
      "Epoch 37/100\n",
      "8/8 [==============================] - 1s 81ms/step - loss: 0.2931 - accuracy: 0.9571 - val_loss: 0.2705 - val_accuracy: 0.9318\n",
      "Epoch 38/100\n",
      "8/8 [==============================] - 1s 84ms/step - loss: 0.2830 - accuracy: 0.9525 - val_loss: 0.2670 - val_accuracy: 0.9386\n",
      "Epoch 39/100\n",
      "8/8 [==============================] - 1s 81ms/step - loss: 0.2768 - accuracy: 0.9505 - val_loss: 0.2568 - val_accuracy: 0.9409\n",
      "Epoch 40/100\n",
      "8/8 [==============================] - 1s 84ms/step - loss: 0.2695 - accuracy: 0.9682 - val_loss: 0.2544 - val_accuracy: 0.9341\n",
      "Epoch 41/100\n",
      "8/8 [==============================] - 1s 81ms/step - loss: 0.2653 - accuracy: 0.9631 - val_loss: 0.2487 - val_accuracy: 0.9409\n",
      "Epoch 42/100\n",
      "8/8 [==============================] - 1s 81ms/step - loss: 0.2607 - accuracy: 0.9699 - val_loss: 0.2432 - val_accuracy: 0.9545\n",
      "Epoch 43/100\n",
      "8/8 [==============================] - 1s 81ms/step - loss: 0.2577 - accuracy: 0.9641 - val_loss: 0.2403 - val_accuracy: 0.9614\n",
      "Epoch 44/100\n",
      "8/8 [==============================] - 1s 82ms/step - loss: 0.2543 - accuracy: 0.9823 - val_loss: 0.2381 - val_accuracy: 0.9545\n",
      "Epoch 45/100\n",
      "8/8 [==============================] - 1s 83ms/step - loss: 0.2535 - accuracy: 0.9702 - val_loss: 0.2382 - val_accuracy: 0.9477\n",
      "Epoch 46/100\n",
      "8/8 [==============================] - 1s 83ms/step - loss: 0.2520 - accuracy: 0.9758 - val_loss: 0.2336 - val_accuracy: 0.9636\n",
      "Epoch 47/100\n",
      "8/8 [==============================] - 1s 81ms/step - loss: 0.2484 - accuracy: 0.9753 - val_loss: 0.2359 - val_accuracy: 0.9909\n",
      "Epoch 48/100\n",
      "8/8 [==============================] - 1s 83ms/step - loss: 0.2462 - accuracy: 0.9818 - val_loss: 0.2312 - val_accuracy: 0.9614\n",
      "Epoch 49/100\n",
      "8/8 [==============================] - 1s 82ms/step - loss: 0.2452 - accuracy: 0.9793 - val_loss: 0.2352 - val_accuracy: 0.9409\n",
      "Epoch 50/100\n",
      "8/8 [==============================] - 1s 83ms/step - loss: 0.2475 - accuracy: 0.9773 - val_loss: 0.2296 - val_accuracy: 0.9614\n",
      "Epoch 51/100\n",
      "8/8 [==============================] - 1s 84ms/step - loss: 0.2451 - accuracy: 0.9821 - val_loss: 0.2264 - val_accuracy: 0.9909\n",
      "Epoch 52/100\n",
      "8/8 [==============================] - 1s 81ms/step - loss: 0.2414 - accuracy: 0.9826 - val_loss: 0.2301 - val_accuracy: 0.9477\n",
      "Epoch 53/100\n"
     ]
    },
    {
     "name": "stdout",
     "output_type": "stream",
     "text": [
      "8/8 [==============================] - 1s 81ms/step - loss: 0.2478 - accuracy: 0.9692 - val_loss: 0.2301 - val_accuracy: 0.9682\n",
      "Epoch 54/100\n",
      "8/8 [==============================] - 1s 84ms/step - loss: 0.2434 - accuracy: 0.9775 - val_loss: 0.2489 - val_accuracy: 0.9841\n",
      "Epoch 55/100\n",
      "8/8 [==============================] - 1s 82ms/step - loss: 0.2479 - accuracy: 0.9801 - val_loss: 0.2486 - val_accuracy: 0.9250\n",
      "Epoch 56/100\n",
      "8/8 [==============================] - 1s 81ms/step - loss: 0.2559 - accuracy: 0.9689 - val_loss: 0.2214 - val_accuracy: 1.0000\n",
      "Epoch 57/100\n",
      "8/8 [==============================] - 1s 81ms/step - loss: 0.2302 - accuracy: 0.9985 - val_loss: 0.2164 - val_accuracy: 0.9636\n",
      "Epoch 58/100\n",
      "8/8 [==============================] - 1s 82ms/step - loss: 0.2259 - accuracy: 0.9937 - val_loss: 0.1995 - val_accuracy: 1.0000\n",
      "Epoch 59/100\n",
      "8/8 [==============================] - 1s 83ms/step - loss: 14.2720 - accuracy: 0.6955 - val_loss: 6.3675 - val_accuracy: 0.1886\n",
      "Epoch 60/100\n",
      "8/8 [==============================] - 1s 81ms/step - loss: 10.7589 - accuracy: 0.1465 - val_loss: 2.2407 - val_accuracy: 0.2295\n",
      "Epoch 61/100\n",
      "8/8 [==============================] - 1s 83ms/step - loss: 2.1771 - accuracy: 0.1684 - val_loss: 2.1912 - val_accuracy: 0.1750\n",
      "Epoch 62/100\n",
      "8/8 [==============================] - 1s 84ms/step - loss: 2.1530 - accuracy: 0.1520 - val_loss: 1.9701 - val_accuracy: 0.3273\n",
      "Epoch 63/100\n",
      "8/8 [==============================] - 1s 81ms/step - loss: 1.8885 - accuracy: 0.2114 - val_loss: 1.8974 - val_accuracy: 0.2409\n",
      "Epoch 64/100\n",
      "8/8 [==============================] - 1s 84ms/step - loss: 1.7455 - accuracy: 0.3116 - val_loss: 1.6724 - val_accuracy: 0.3341\n",
      "Epoch 65/100\n",
      "8/8 [==============================] - 1s 81ms/step - loss: 1.5361 - accuracy: 0.3641 - val_loss: 1.4146 - val_accuracy: 0.5023\n",
      "Epoch 66/100\n",
      "8/8 [==============================] - 1s 83ms/step - loss: 1.4145 - accuracy: 0.4035 - val_loss: 1.3462 - val_accuracy: 0.4182\n",
      "Epoch 67/100\n",
      "8/8 [==============================] - 1s 83ms/step - loss: 1.3180 - accuracy: 0.3934 - val_loss: 1.2682 - val_accuracy: 0.3841\n",
      "Epoch 68/100\n",
      "8/8 [==============================] - 1s 82ms/step - loss: 1.2282 - accuracy: 0.4788 - val_loss: 1.1688 - val_accuracy: 0.5477\n",
      "Epoch 69/100\n",
      "8/8 [==============================] - 1s 81ms/step - loss: 1.1542 - accuracy: 0.4669 - val_loss: 1.0897 - val_accuracy: 0.5273\n",
      "Epoch 70/100\n",
      "8/8 [==============================] - 1s 80ms/step - loss: 1.1495 - accuracy: 0.4896 - val_loss: 1.1198 - val_accuracy: 0.4955\n",
      "Epoch 71/100\n",
      "8/8 [==============================] - 1s 82ms/step - loss: 1.1362 - accuracy: 0.5619 - val_loss: 1.2614 - val_accuracy: 0.4500\n",
      "Epoch 72/100\n",
      "8/8 [==============================] - 1s 83ms/step - loss: 1.0941 - accuracy: 0.5722 - val_loss: 0.9563 - val_accuracy: 0.6295\n",
      "Epoch 73/100\n",
      "8/8 [==============================] - 1s 81ms/step - loss: 0.9937 - accuracy: 0.6303 - val_loss: 0.9580 - val_accuracy: 0.6750\n",
      "Epoch 74/100\n",
      "8/8 [==============================] - 1s 81ms/step - loss: 0.9205 - accuracy: 0.6404 - val_loss: 0.8261 - val_accuracy: 0.6386\n",
      "Epoch 75/100\n",
      "8/8 [==============================] - 1s 81ms/step - loss: 0.9498 - accuracy: 0.6240 - val_loss: 1.0252 - val_accuracy: 0.6455\n",
      "Epoch 76/100\n",
      "8/8 [==============================] - 1s 83ms/step - loss: 0.8923 - accuracy: 0.6725 - val_loss: 0.7998 - val_accuracy: 0.6659\n",
      "Epoch 77/100\n",
      "8/8 [==============================] - 1s 81ms/step - loss: 0.7827 - accuracy: 0.6735 - val_loss: 0.7589 - val_accuracy: 0.7068\n",
      "Epoch 78/100\n",
      "8/8 [==============================] - 1s 81ms/step - loss: 0.7772 - accuracy: 0.6899 - val_loss: 0.7585 - val_accuracy: 0.6659\n",
      "Epoch 79/100\n",
      "8/8 [==============================] - 1s 82ms/step - loss: 0.7714 - accuracy: 0.6770 - val_loss: 0.7517 - val_accuracy: 0.6659\n",
      "Epoch 80/100\n",
      "8/8 [==============================] - 1s 81ms/step - loss: 0.7332 - accuracy: 0.6811 - val_loss: 0.7513 - val_accuracy: 0.6955\n",
      "Epoch 81/100\n",
      "8/8 [==============================] - 1s 82ms/step - loss: 0.7659 - accuracy: 0.6816 - val_loss: 0.7451 - val_accuracy: 0.6273\n",
      "Epoch 82/100\n",
      "8/8 [==============================] - 1s 81ms/step - loss: 0.7569 - accuracy: 0.6715 - val_loss: 0.7048 - val_accuracy: 0.6636\n",
      "Epoch 83/100\n",
      "8/8 [==============================] - 1s 81ms/step - loss: 0.7186 - accuracy: 0.6816 - val_loss: 0.6935 - val_accuracy: 0.6909\n",
      "Epoch 84/100\n",
      "8/8 [==============================] - 1s 84ms/step - loss: 0.7103 - accuracy: 0.6816 - val_loss: 0.6855 - val_accuracy: 0.6773\n",
      "Epoch 85/100\n",
      "8/8 [==============================] - 1s 83ms/step - loss: 0.6937 - accuracy: 0.6798 - val_loss: 0.6964 - val_accuracy: 0.6864\n",
      "Epoch 86/100\n",
      "8/8 [==============================] - 1s 83ms/step - loss: 0.6863 - accuracy: 0.6909 - val_loss: 0.6971 - val_accuracy: 0.6455\n",
      "Epoch 87/100\n",
      "8/8 [==============================] - 1s 81ms/step - loss: 0.6957 - accuracy: 0.6697 - val_loss: 0.6744 - val_accuracy: 0.6841\n",
      "Epoch 88/100\n",
      "8/8 [==============================] - 1s 82ms/step - loss: 0.6768 - accuracy: 0.6848 - val_loss: 0.6810 - val_accuracy: 0.7273\n",
      "Epoch 89/100\n",
      "8/8 [==============================] - 1s 83ms/step - loss: 0.6707 - accuracy: 0.6934 - val_loss: 0.6468 - val_accuracy: 0.6818\n",
      "Epoch 90/100\n",
      "8/8 [==============================] - 1s 81ms/step - loss: 0.6723 - accuracy: 0.7020 - val_loss: 0.6406 - val_accuracy: 0.7750\n",
      "Epoch 91/100\n",
      "8/8 [==============================] - 1s 81ms/step - loss: 0.6672 - accuracy: 0.7646 - val_loss: 0.6406 - val_accuracy: 0.8045\n",
      "Epoch 92/100\n",
      "8/8 [==============================] - 1s 82ms/step - loss: 0.6540 - accuracy: 0.7699 - val_loss: 0.6485 - val_accuracy: 0.8205\n",
      "Epoch 93/100\n",
      "8/8 [==============================] - 1s 83ms/step - loss: 0.6403 - accuracy: 0.7765 - val_loss: 0.6362 - val_accuracy: 0.7841\n",
      "Epoch 94/100\n",
      "8/8 [==============================] - 1s 83ms/step - loss: 0.6308 - accuracy: 0.7922 - val_loss: 0.6129 - val_accuracy: 0.8068\n",
      "Epoch 95/100\n",
      "8/8 [==============================] - 1s 81ms/step - loss: 0.6232 - accuracy: 0.8000 - val_loss: 0.6482 - val_accuracy: 0.7159\n",
      "Epoch 96/100\n",
      "8/8 [==============================] - 1s 81ms/step - loss: 0.6507 - accuracy: 0.7768 - val_loss: 0.7030 - val_accuracy: 0.7477\n",
      "Epoch 97/100\n",
      "8/8 [==============================] - 1s 82ms/step - loss: 0.6561 - accuracy: 0.7652 - val_loss: 0.6730 - val_accuracy: 0.7273\n",
      "Epoch 98/100\n",
      "8/8 [==============================] - 1s 83ms/step - loss: 0.6334 - accuracy: 0.7922 - val_loss: 0.6031 - val_accuracy: 0.7273\n",
      "Epoch 99/100\n",
      "8/8 [==============================] - 1s 81ms/step - loss: 0.6200 - accuracy: 0.7677 - val_loss: 0.5844 - val_accuracy: 0.8818\n",
      "Epoch 100/100\n",
      "8/8 [==============================] - 1s 81ms/step - loss: 0.5949 - accuracy: 0.8071 - val_loss: 0.5900 - val_accuracy: 0.8614\n",
      "35/35 [==============================] - 0s 5ms/step - loss: 0.5485 - accuracy: 0.8782\n"
     ]
    },
    {
     "data": {
      "image/png": "[encoded data removed]",
      "text/plain": [
       "<Figure size 504x432 with 2 Axes>"
      ]
     },
     "metadata": {
      "needs_background": "light"
     },
     "output_type": "display_data"
    },
    {
     "name": "stdout",
     "output_type": "stream",
     "text": [
      "Precision:0.848\n",
      "Recall:0.878\n",
      "F1_score:0.852\n",
      "              precision    recall  f1-score   support\n",
      "\n",
      "           0       1.00      1.00      1.00       113\n",
      "           1       1.00      1.00      1.00        93\n",
      "           2       1.00      1.00      1.00       101\n",
      "           3       1.00      1.00      1.00       115\n",
      "           4       1.00      1.00      1.00        86\n",
      "           5       0.84      1.00      0.91       108\n",
      "           6       1.00      0.77      0.87       108\n",
      "           7       0.48      1.00      0.65        94\n",
      "           8       0.00      0.00      0.00        90\n",
      "           9       1.00      0.78      0.88        87\n",
      "          10       0.90      1.00      0.95       105\n",
      "\n",
      "    accuracy                           0.88      1100\n",
      "   macro avg       0.84      0.87      0.84      1100\n",
      "weighted avg       0.85      0.88      0.85      1100\n",
      "\n",
      "Epoch 1/100\n",
      "8/8 [==============================] - 1s 100ms/step - loss: 2.3942 - accuracy: 0.1038 - val_loss: 2.3793 - val_accuracy: 0.0864\n",
      "Epoch 2/100\n",
      "8/8 [==============================] - 1s 82ms/step - loss: 2.3571 - accuracy: 0.1028 - val_loss: 2.3441 - val_accuracy: 0.1545\n",
      "Epoch 3/100\n",
      "8/8 [==============================] - 1s 82ms/step - loss: 2.3187 - accuracy: 0.1631 - val_loss: 2.2926 - val_accuracy: 0.1795\n",
      "Epoch 4/100\n",
      "8/8 [==============================] - 1s 82ms/step - loss: 2.2775 - accuracy: 0.2010 - val_loss: 2.2536 - val_accuracy: 0.2841\n",
      "Epoch 5/100\n",
      "8/8 [==============================] - 1s 82ms/step - loss: 2.2282 - accuracy: 0.2336 - val_loss: 2.1902 - val_accuracy: 0.1977\n",
      "Epoch 6/100\n",
      "8/8 [==============================] - 1s 82ms/step - loss: 2.1758 - accuracy: 0.2141 - val_loss: 2.1262 - val_accuracy: 0.1977\n",
      "Epoch 7/100\n",
      "8/8 [==============================] - 1s 82ms/step - loss: 2.0972 - accuracy: 0.2205 - val_loss: 2.0485 - val_accuracy: 0.2727\n",
      "Epoch 8/100\n",
      "8/8 [==============================] - 1s 82ms/step - loss: 2.0308 - accuracy: 0.2126 - val_loss: 1.9733 - val_accuracy: 0.2727\n",
      "Epoch 9/100\n",
      "8/8 [==============================] - 1s 82ms/step - loss: 1.9668 - accuracy: 0.2727 - val_loss: 1.9127 - val_accuracy: 0.4045\n",
      "Epoch 10/100\n",
      "8/8 [==============================] - 1s 82ms/step - loss: 1.8918 - accuracy: 0.2902 - val_loss: 1.7867 - val_accuracy: 0.3409\n",
      "Epoch 11/100\n",
      "8/8 [==============================] - 1s 84ms/step - loss: 1.7920 - accuracy: 0.2861 - val_loss: 1.6809 - val_accuracy: 0.2932\n",
      "Epoch 12/100\n",
      "8/8 [==============================] - 1s 83ms/step - loss: 1.7376 - accuracy: 0.2970 - val_loss: 1.6687 - val_accuracy: 0.2545\n",
      "Epoch 13/100\n",
      "8/8 [==============================] - 1s 82ms/step - loss: 1.6031 - accuracy: 0.3144 - val_loss: 1.5099 - val_accuracy: 0.2727\n",
      "Epoch 14/100\n",
      "8/8 [==============================] - 1s 83ms/step - loss: 1.4014 - accuracy: 0.3614 - val_loss: 1.3196 - val_accuracy: 0.3659\n",
      "Epoch 15/100\n",
      "8/8 [==============================] - 1s 84ms/step - loss: 1.1680 - accuracy: 0.4510 - val_loss: 1.1295 - val_accuracy: 0.3795\n",
      "Epoch 16/100\n",
      "8/8 [==============================] - 1s 82ms/step - loss: 0.9948 - accuracy: 0.4997 - val_loss: 0.8097 - val_accuracy: 0.7091\n",
      "Epoch 17/100\n",
      "8/8 [==============================] - 1s 82ms/step - loss: 0.8149 - accuracy: 0.6649 - val_loss: 0.8945 - val_accuracy: 0.6545\n",
      "Epoch 18/100\n",
      "8/8 [==============================] - 1s 82ms/step - loss: 0.9974 - accuracy: 0.4985 - val_loss: 0.7340 - val_accuracy: 0.7000\n",
      "Epoch 19/100\n",
      "8/8 [==============================] - 1s 83ms/step - loss: 0.8146 - accuracy: 0.6245 - val_loss: 0.6252 - val_accuracy: 0.7886\n",
      "Epoch 20/100\n",
      "8/8 [==============================] - 1s 82ms/step - loss: 0.5058 - accuracy: 0.7874 - val_loss: 0.3747 - val_accuracy: 0.8136\n",
      "Epoch 21/100\n",
      "8/8 [==============================] - 1s 83ms/step - loss: 0.3115 - accuracy: 0.7866 - val_loss: 0.2577 - val_accuracy: 0.8227\n",
      "Epoch 22/100\n",
      "8/8 [==============================] - 1s 82ms/step - loss: 0.1966 - accuracy: 0.8409 - val_loss: 0.1562 - val_accuracy: 0.8159\n",
      "Epoch 23/100\n",
      "8/8 [==============================] - 1s 83ms/step - loss: 0.1237 - accuracy: 0.9323 - val_loss: 0.0941 - val_accuracy: 0.9977\n",
      "Epoch 24/100\n",
      "8/8 [==============================] - 1s 82ms/step - loss: 0.0687 - accuracy: 0.9995 - val_loss: 0.0477 - val_accuracy: 1.0000\n",
      "Epoch 25/100\n",
      "8/8 [==============================] - 1s 84ms/step - loss: 0.0338 - accuracy: 0.9997 - val_loss: 0.0158 - val_accuracy: 1.0000\n",
      "Epoch 26/100\n",
      "8/8 [==============================] - 1s 82ms/step - loss: 0.0130 - accuracy: 1.0000 - val_loss: 0.0050 - val_accuracy: 1.0000\n",
      "Epoch 27/100\n",
      "8/8 [==============================] - 1s 82ms/step - loss: 0.0040 - accuracy: 1.0000 - val_loss: 0.0024 - val_accuracy: 1.0000\n",
      "Epoch 28/100\n",
      "8/8 [==============================] - 1s 83ms/step - loss: 0.0019 - accuracy: 1.0000 - val_loss: 0.0010 - val_accuracy: 1.0000\n",
      "Epoch 29/100\n",
      "8/8 [==============================] - 1s 84ms/step - loss: 0.0010 - accuracy: 1.0000 - val_loss: 6.6765e-04 - val_accuracy: 1.0000\n",
      "Epoch 30/100\n",
      "8/8 [==============================] - 1s 83ms/step - loss: 6.7736e-04 - accuracy: 1.0000 - val_loss: 5.0650e-04 - val_accuracy: 1.0000\n",
      "Epoch 31/100\n",
      "8/8 [==============================] - 1s 81ms/step - loss: 5.4501e-04 - accuracy: 1.0000 - val_loss: 4.4313e-04 - val_accuracy: 1.0000\n",
      "Epoch 32/100\n",
      "8/8 [==============================] - 1s 83ms/step - loss: 4.1877e-04 - accuracy: 1.0000 - val_loss: 3.4415e-04 - val_accuracy: 1.0000\n",
      "Epoch 33/100\n",
      "8/8 [==============================] - 1s 83ms/step - loss: 3.5760e-04 - accuracy: 1.0000 - val_loss: 2.8442e-04 - val_accuracy: 1.0000\n",
      "Epoch 34/100\n",
      "8/8 [==============================] - 1s 81ms/step - loss: 3.1887e-04 - accuracy: 1.0000 - val_loss: 2.6064e-04 - val_accuracy: 1.0000\n",
      "Epoch 35/100\n",
      "8/8 [==============================] - 1s 82ms/step - loss: 2.8909e-04 - accuracy: 1.0000 - val_loss: 2.3297e-04 - val_accuracy: 1.0000\n",
      "Epoch 36/100\n",
      "8/8 [==============================] - 1s 81ms/step - loss: 2.6207e-04 - accuracy: 1.0000 - val_loss: 2.1160e-04 - val_accuracy: 1.0000\n",
      "Epoch 37/100\n",
      "8/8 [==============================] - 1s 83ms/step - loss: 2.3640e-04 - accuracy: 1.0000 - val_loss: 1.9827e-04 - val_accuracy: 1.0000\n",
      "Epoch 38/100\n",
      "8/8 [==============================] - 1s 82ms/step - loss: 2.1908e-04 - accuracy: 1.0000 - val_loss: 1.7973e-04 - val_accuracy: 1.0000\n",
      "Epoch 39/100\n",
      "8/8 [==============================] - 1s 83ms/step - loss: 2.0654e-04 - accuracy: 1.0000 - val_loss: 1.7268e-04 - val_accuracy: 1.0000\n",
      "Epoch 40/100\n",
      "8/8 [==============================] - 1s 84ms/step - loss: 1.8978e-04 - accuracy: 1.0000 - val_loss: 1.5013e-04 - val_accuracy: 1.0000\n",
      "Epoch 41/100\n",
      "8/8 [==============================] - 1s 82ms/step - loss: 1.7745e-04 - accuracy: 1.0000 - val_loss: 1.4739e-04 - val_accuracy: 1.0000\n",
      "Epoch 42/100\n",
      "8/8 [==============================] - 1s 84ms/step - loss: 1.6752e-04 - accuracy: 1.0000 - val_loss: 1.3941e-04 - val_accuracy: 1.0000\n",
      "Epoch 43/100\n",
      "8/8 [==============================] - 1s 81ms/step - loss: 1.5639e-04 - accuracy: 1.0000 - val_loss: 1.3035e-04 - val_accuracy: 1.0000\n",
      "Epoch 44/100\n",
      "8/8 [==============================] - 1s 81ms/step - loss: 1.4717e-04 - accuracy: 1.0000 - val_loss: 1.2407e-04 - val_accuracy: 1.0000\n",
      "Epoch 45/100\n",
      "8/8 [==============================] - 1s 82ms/step - loss: 1.4077e-04 - accuracy: 1.0000 - val_loss: 1.1960e-04 - val_accuracy: 1.0000\n",
      "Epoch 46/100\n",
      "8/8 [==============================] - 1s 81ms/step - loss: 1.3454e-04 - accuracy: 1.0000 - val_loss: 1.0530e-04 - val_accuracy: 1.0000\n",
      "Epoch 47/100\n",
      "8/8 [==============================] - 1s 81ms/step - loss: 1.2419e-04 - accuracy: 1.0000 - val_loss: 1.0957e-04 - val_accuracy: 1.0000\n",
      "Epoch 48/100\n",
      "8/8 [==============================] - 1s 82ms/step - loss: 1.2014e-04 - accuracy: 1.0000 - val_loss: 9.9149e-05 - val_accuracy: 1.0000\n",
      "Epoch 49/100\n",
      "8/8 [==============================] - 1s 82ms/step - loss: 1.1511e-04 - accuracy: 1.0000 - val_loss: 9.2665e-05 - val_accuracy: 1.0000\n",
      "Epoch 50/100\n",
      "8/8 [==============================] - 1s 81ms/step - loss: 1.1025e-04 - accuracy: 1.0000 - val_loss: 9.0758e-05 - val_accuracy: 1.0000\n",
      "Epoch 51/100\n",
      "8/8 [==============================] - 1s 82ms/step - loss: 1.0389e-04 - accuracy: 1.0000 - val_loss: 8.2393e-05 - val_accuracy: 1.0000\n"
     ]
    },
    {
     "name": "stdout",
     "output_type": "stream",
     "text": [
      "Epoch 52/100\n",
      "8/8 [==============================] - 1s 82ms/step - loss: 9.8122e-05 - accuracy: 1.0000 - val_loss: 8.0870e-05 - val_accuracy: 1.0000\n",
      "Epoch 53/100\n",
      "8/8 [==============================] - 1s 83ms/step - loss: 9.5234e-05 - accuracy: 1.0000 - val_loss: 7.6705e-05 - val_accuracy: 1.0000\n",
      "Epoch 54/100\n",
      "8/8 [==============================] - 1s 81ms/step - loss: 9.0042e-05 - accuracy: 1.0000 - val_loss: 7.0753e-05 - val_accuracy: 1.0000\n",
      "Epoch 55/100\n",
      "8/8 [==============================] - 1s 82ms/step - loss: 8.7360e-05 - accuracy: 1.0000 - val_loss: 6.8836e-05 - val_accuracy: 1.0000\n",
      "Epoch 56/100\n",
      "8/8 [==============================] - 1s 82ms/step - loss: 8.2612e-05 - accuracy: 1.0000 - val_loss: 6.6286e-05 - val_accuracy: 1.0000\n",
      "Epoch 57/100\n",
      "8/8 [==============================] - 1s 81ms/step - loss: 7.9860e-05 - accuracy: 1.0000 - val_loss: 6.4142e-05 - val_accuracy: 1.0000\n",
      "Epoch 58/100\n",
      "8/8 [==============================] - 1s 84ms/step - loss: 7.7414e-05 - accuracy: 1.0000 - val_loss: 6.4612e-05 - val_accuracy: 1.0000\n",
      "Epoch 59/100\n",
      "8/8 [==============================] - 1s 84ms/step - loss: 7.5469e-05 - accuracy: 1.0000 - val_loss: 6.5538e-05 - val_accuracy: 1.0000\n",
      "Epoch 60/100\n",
      "8/8 [==============================] - 1s 81ms/step - loss: 7.2489e-05 - accuracy: 1.0000 - val_loss: 5.6337e-05 - val_accuracy: 1.0000\n",
      "Epoch 61/100\n",
      "8/8 [==============================] - 1s 83ms/step - loss: 6.8891e-05 - accuracy: 1.0000 - val_loss: 5.5024e-05 - val_accuracy: 1.0000\n",
      "Epoch 62/100\n",
      "8/8 [==============================] - 1s 82ms/step - loss: 6.7691e-05 - accuracy: 1.0000 - val_loss: 5.4233e-05 - val_accuracy: 1.0000\n",
      "Epoch 63/100\n",
      "8/8 [==============================] - 1s 83ms/step - loss: 6.4164e-05 - accuracy: 1.0000 - val_loss: 4.9706e-05 - val_accuracy: 1.0000\n",
      "Epoch 64/100\n",
      "8/8 [==============================] - 1s 82ms/step - loss: 6.2051e-05 - accuracy: 1.0000 - val_loss: 5.0358e-05 - val_accuracy: 1.0000\n",
      "Epoch 65/100\n",
      "8/8 [==============================] - 1s 81ms/step - loss: 5.9578e-05 - accuracy: 1.0000 - val_loss: 4.7307e-05 - val_accuracy: 1.0000\n",
      "Epoch 66/100\n",
      "8/8 [==============================] - 1s 82ms/step - loss: 5.7250e-05 - accuracy: 1.0000 - val_loss: 4.5968e-05 - val_accuracy: 1.0000\n",
      "Epoch 67/100\n",
      "8/8 [==============================] - 1s 83ms/step - loss: 5.5599e-05 - accuracy: 1.0000 - val_loss: 4.4921e-05 - val_accuracy: 1.0000\n",
      "Epoch 68/100\n",
      "8/8 [==============================] - 1s 83ms/step - loss: 5.3487e-05 - accuracy: 1.0000 - val_loss: 4.4005e-05 - val_accuracy: 1.0000\n",
      "Epoch 69/100\n",
      "8/8 [==============================] - 1s 81ms/step - loss: 5.2415e-05 - accuracy: 1.0000 - val_loss: 4.1534e-05 - val_accuracy: 1.0000\n",
      "Epoch 70/100\n",
      "8/8 [==============================] - 1s 82ms/step - loss: 5.0694e-05 - accuracy: 1.0000 - val_loss: 4.0115e-05 - val_accuracy: 1.0000\n",
      "Epoch 71/100\n",
      "8/8 [==============================] - 1s 84ms/step - loss: 5.0342e-05 - accuracy: 1.0000 - val_loss: 3.9302e-05 - val_accuracy: 1.0000\n",
      "Epoch 72/100\n",
      "8/8 [==============================] - 1s 83ms/step - loss: 4.7441e-05 - accuracy: 1.0000 - val_loss: 4.0757e-05 - val_accuracy: 1.0000\n",
      "Epoch 73/100\n",
      "8/8 [==============================] - 1s 83ms/step - loss: 4.7080e-05 - accuracy: 1.0000 - val_loss: 3.9084e-05 - val_accuracy: 1.0000\n",
      "Epoch 74/100\n",
      "8/8 [==============================] - 1s 81ms/step - loss: 4.4895e-05 - accuracy: 1.0000 - val_loss: 3.4171e-05 - val_accuracy: 1.0000\n",
      "Epoch 75/100\n",
      "8/8 [==============================] - 1s 82ms/step - loss: 4.3689e-05 - accuracy: 1.0000 - val_loss: 3.3761e-05 - val_accuracy: 1.0000\n",
      "Epoch 76/100\n",
      "8/8 [==============================] - 1s 81ms/step - loss: 4.2733e-05 - accuracy: 1.0000 - val_loss: 3.3862e-05 - val_accuracy: 1.0000\n",
      "Epoch 77/100\n",
      "8/8 [==============================] - 1s 82ms/step - loss: 4.0891e-05 - accuracy: 1.0000 - val_loss: 3.4710e-05 - val_accuracy: 1.0000\n",
      "Epoch 78/100\n",
      "8/8 [==============================] - 1s 81ms/step - loss: 4.0354e-05 - accuracy: 1.0000 - val_loss: 3.3699e-05 - val_accuracy: 1.0000\n",
      "Epoch 79/100\n",
      "8/8 [==============================] - 1s 82ms/step - loss: 4.0440e-05 - accuracy: 1.0000 - val_loss: 2.9854e-05 - val_accuracy: 1.0000\n",
      "Epoch 80/100\n",
      "8/8 [==============================] - 1s 82ms/step - loss: 3.9110e-05 - accuracy: 1.0000 - val_loss: 3.0742e-05 - val_accuracy: 1.0000\n",
      "Epoch 81/100\n",
      "8/8 [==============================] - 1s 81ms/step - loss: 3.8063e-05 - accuracy: 1.0000 - val_loss: 2.8856e-05 - val_accuracy: 1.0000\n",
      "Epoch 82/100\n",
      "8/8 [==============================] - 1s 84ms/step - loss: 3.5968e-05 - accuracy: 1.0000 - val_loss: 2.9031e-05 - val_accuracy: 1.0000\n",
      "Epoch 83/100\n",
      "8/8 [==============================] - 1s 83ms/step - loss: 3.4814e-05 - accuracy: 1.0000 - val_loss: 2.7994e-05 - val_accuracy: 1.0000\n",
      "Epoch 84/100\n",
      "8/8 [==============================] - 1s 83ms/step - loss: 3.4237e-05 - accuracy: 1.0000 - val_loss: 2.8891e-05 - val_accuracy: 1.0000\n",
      "Epoch 85/100\n",
      "8/8 [==============================] - 1s 82ms/step - loss: 3.3623e-05 - accuracy: 1.0000 - val_loss: 2.6127e-05 - val_accuracy: 1.0000\n",
      "Epoch 86/100\n",
      "8/8 [==============================] - 1s 81ms/step - loss: 3.3117e-05 - accuracy: 1.0000 - val_loss: 2.5749e-05 - val_accuracy: 1.0000\n",
      "Epoch 87/100\n",
      "8/8 [==============================] - 1s 83ms/step - loss: 3.2228e-05 - accuracy: 1.0000 - val_loss: 2.4774e-05 - val_accuracy: 1.0000\n",
      "Epoch 88/100\n",
      "8/8 [==============================] - 1s 83ms/step - loss: 3.1699e-05 - accuracy: 1.0000 - val_loss: 2.5309e-05 - val_accuracy: 1.0000\n",
      "Epoch 89/100\n",
      "8/8 [==============================] - 1s 82ms/step - loss: 3.0978e-05 - accuracy: 1.0000 - val_loss: 2.3648e-05 - val_accuracy: 1.0000\n",
      "Epoch 90/100\n",
      "8/8 [==============================] - 1s 82ms/step - loss: 2.9874e-05 - accuracy: 1.0000 - val_loss: 2.3609e-05 - val_accuracy: 1.0000\n",
      "Epoch 91/100\n",
      "8/8 [==============================] - 1s 82ms/step - loss: 2.9294e-05 - accuracy: 1.0000 - val_loss: 2.2809e-05 - val_accuracy: 1.0000\n",
      "Epoch 92/100\n",
      "8/8 [==============================] - 1s 81ms/step - loss: 2.8690e-05 - accuracy: 1.0000 - val_loss: 2.2972e-05 - val_accuracy: 1.0000\n",
      "Epoch 93/100\n",
      "8/8 [==============================] - 1s 83ms/step - loss: 2.8620e-05 - accuracy: 1.0000 - val_loss: 2.4068e-05 - val_accuracy: 1.0000\n",
      "Epoch 94/100\n",
      "8/8 [==============================] - 1s 81ms/step - loss: 2.7605e-05 - accuracy: 1.0000 - val_loss: 2.3051e-05 - val_accuracy: 1.0000\n",
      "Epoch 95/100\n",
      "8/8 [==============================] - 1s 84ms/step - loss: 2.6841e-05 - accuracy: 1.0000 - val_loss: 2.0495e-05 - val_accuracy: 1.0000\n",
      "Epoch 96/100\n",
      "8/8 [==============================] - 1s 81ms/step - loss: 2.6200e-05 - accuracy: 1.0000 - val_loss: 1.9862e-05 - val_accuracy: 1.0000\n",
      "Epoch 97/100\n",
      "8/8 [==============================] - 1s 81ms/step - loss: 2.5824e-05 - accuracy: 1.0000 - val_loss: 2.0170e-05 - val_accuracy: 1.0000\n",
      "Epoch 98/100\n",
      "8/8 [==============================] - 1s 83ms/step - loss: 2.5121e-05 - accuracy: 1.0000 - val_loss: 2.0875e-05 - val_accuracy: 1.0000\n",
      "Epoch 99/100\n",
      "8/8 [==============================] - 1s 81ms/step - loss: 2.4762e-05 - accuracy: 1.0000 - val_loss: 2.0654e-05 - val_accuracy: 1.0000\n",
      "Epoch 100/100\n",
      "8/8 [==============================] - 1s 83ms/step - loss: 2.4347e-05 - accuracy: 1.0000 - val_loss: 1.8047e-05 - val_accuracy: 1.0000\n",
      "35/35 [==============================] - 0s 4ms/step - loss: 1.9925e-05 - accuracy: 1.0000\n"
     ]
    },
    {
     "data": {
      "image/png": "[encoded data removed]",
      "text/plain": [
       "<Figure size 504x432 with 2 Axes>"
      ]
     },
     "metadata": {
      "needs_background": "light"
     },
     "output_type": "display_data"
    },
    {
     "name": "stdout",
     "output_type": "stream",
     "text": [
      "Precision:1.0\n",
      "Recall:1.0\n",
      "F1_score:1.0\n",
      "              precision    recall  f1-score   support\n",
      "\n",
      "           0       1.00      1.00      1.00        97\n",
      "           1       1.00      1.00      1.00       101\n",
      "           2       1.00      1.00      1.00        96\n",
      "           3       1.00      1.00      1.00       101\n",
      "           4       1.00      1.00      1.00        95\n",
      "           5       1.00      1.00      1.00        99\n",
      "           6       1.00      1.00      1.00        96\n",
      "           7       1.00      1.00      1.00        95\n",
      "           8       1.00      1.00      1.00       120\n",
      "           9       1.00      1.00      1.00       103\n",
      "          10       1.00      1.00      1.00        97\n",
      "\n",
      "    accuracy                           1.00      1100\n",
      "   macro avg       1.00      1.00      1.00      1100\n",
      "weighted avg       1.00      1.00      1.00      1100\n",
      "\n",
      "\n",
      "K-fold cross validation Accuracy: ['0.4436', '0.2755', '0.3618', '0.8782', '1.0000']\n"
     ]
    }
   ],
   "source": [
    "# 주어진 데이터를 학습 데이터와 테스트 데이터로 분리\n",
    "skf = KFold(n_splits=5, random_state=42, shuffle=True)\n",
    "\n",
    "accuracy = []\n",
    "\n",
    "for train, validation in skf.split(x,y):\n",
    "    model = keras.Sequential()\n",
    "    model.add(Conv1D(16, 9, activation='relu', input_shape=(len(x[0]),1)))\n",
    "    model.add(Conv1D(16, 9, activation='relu'))\n",
    "    model.add(Conv1D(32, 9, activation='relu'))\n",
    "    model.add(Conv1D(32, 9, activation='relu'))\n",
    "    model.add(Conv1D(32, 9, activation='relu'))\n",
    "    model.add(Conv1D(32, 9, activation='relu'))\n",
    "    model.add(Conv1D(32, 9, activation='relu'))\n",
    "    model.add(Flatten())\n",
    "    model.add(Dense(10, activation='relu'))\n",
    "    model.add(Dense(10, activation='relu'))\n",
    "    model.add(Dense(10, activation='relu'))\n",
    "    model.add(Dense(11, activation=\"softmax\"))\n",
    "    model.compile(loss='sparse_categorical_crossentropy', optimizer='adam', metrics=['accuracy'])\n",
    "  #model.summary()\n",
    "\n",
    "  # 학습 데이터를 이용해서 학습\n",
    "    hist = model.fit(x[train], y[train], epochs=100, batch_size=512, verbose=1, validation_split=0.1)  \n",
    "\n",
    "  # 테스트 데이터를 이용해서 검증\n",
    "    k_accuracy = '%.4f' % (model.evaluate(x[validation], y[validation])[1])\n",
    "    accuracy.append(k_accuracy)\n",
    "  \n",
    "  #confusion matrix\n",
    "    y_ = model.predict(x[validation])\n",
    "    predicted = np.argmax(y_, axis = -1)\n",
    "\n",
    "    classes = ['class1', 'class2', 'class3', 'class4', 'class5', 'class6', 'class7','class8', 'class9', 'class10','class11' ]\n",
    "    conf_mat = confusion_matrix(y[validation], predicted)\n",
    "    fig, ax = plt.subplots(figsize=(7,6))\n",
    "    plt.setp(ax.get_xticklabels(), rotation=45, ha=\"right\", rotation_mode=\"anchor\")\n",
    "    plt.title('Confusion matrix')\n",
    "    plt.ylabel('Actual label')\n",
    "    plt.xlabel('Predicted label')\n",
    "    sns.heatmap(conf_mat, annot=True, fmt='d', xticklabels=classes, yticklabels=classes)\n",
    "    plt.show()\n",
    "\n",
    "  #정밀도, 재현도, f1-score\n",
    "    precision = precision_score(y[validation], predicted, average='weighted')\n",
    "    recall = recall_score(y[validation], predicted, average='weighted')\n",
    "    f1 = f1_score(y[validation], predicted, average='weighted')\n",
    "\n",
    "    print('Precision:{:.3}'.format(precision))\n",
    "    print('Recall:{:.3}'.format(recall))\n",
    "    print('F1_score:{:.3}'.format(f1))\n",
    "\n",
    "  #분류 보고서\n",
    "    print(classification_report(y[validation], predicted))\n",
    "\n",
    "# 전체 검증 결과 출력\n",
    "print('\\nK-fold cross validation Accuracy: {}'.format(accuracy))"
   ]
  },
  {
   "cell_type": "code",
   "execution_count": 23,
   "metadata": {
    "colab": {
     "base_uri": "https://localhost:8080/"
    },
    "id": "PeHHHEUhiJH5",
    "outputId": "6a2da373-e7a9-4eee-9e43-93c1f902b923"
   },
   "outputs": [
    {
     "data": {
      "text/plain": [
       "['0.4436', '0.2755', '0.3618', '0.8782', '1.0000']"
      ]
     },
     "execution_count": 23,
     "metadata": {},
     "output_type": "execute_result"
    }
   ],
   "source": [
    "accuracy"
   ]
  },
  {
   "cell_type": "code",
   "execution_count": 24,
   "metadata": {
    "colab": {
     "base_uri": "https://localhost:8080/"
    },
    "id": "dx86ejQ616uZ",
    "outputId": "802bfc0c-f28c-42ce-ed88-6b911fc3d1ab"
   },
   "outputs": [
    {
     "data": {
      "text/plain": [
       "[0.4436, 0.2755, 0.3618, 0.8782, 1.0]"
      ]
     },
     "execution_count": 24,
     "metadata": {},
     "output_type": "execute_result"
    }
   ],
   "source": [
    "acc = list(map(float, accuracy))\n",
    "acc"
   ]
  },
  {
   "cell_type": "code",
   "execution_count": 25,
   "metadata": {
    "id": "-f4pHhxY2APw"
   },
   "outputs": [
    {
     "data": {
      "text/plain": [
       "0.59182"
      ]
     },
     "execution_count": 25,
     "metadata": {},
     "output_type": "execute_result"
    }
   ],
   "source": [
    "np.mean(acc)"
   ]
  },
  {
   "cell_type": "code",
   "execution_count": null,
   "metadata": {},
   "outputs": [],
   "source": []
  }
 ],
 "metadata": {
  "accelerator": "GPU",
  "colab": {
   "collapsed_sections": [],
   "name": "★210914_1D-CNN_4000point_8736kDa_StratifiedKfold.ipynb",
   "provenance": []
  },
  "kernelspec": {
   "display_name": "Python 3 (ipykernel)",
   "language": "python",
   "name": "python3"
  },
  "language_info": {
   "codemirror_mode": {
    "name": "ipython",
    "version": 3
   },
   "file_extension": ".py",
   "mimetype": "text/x-python",
   "name": "python",
   "nbconvert_exporter": "python",
   "pygments_lexer": "ipython3",
   "version": "3.9.7"
  }
 },
 "nbformat": 4,
 "nbformat_minor": 1
}
